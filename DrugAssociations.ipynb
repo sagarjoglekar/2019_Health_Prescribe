{
 "cells": [
  {
   "cell_type": "code",
   "execution_count": 7,
   "metadata": {
    "ExecuteTime": {
     "end_time": "2019-06-19T11:56:45.746765Z",
     "start_time": "2019-06-19T11:56:45.612659Z"
    }
   },
   "outputs": [],
   "source": [
    "import pandas as pd \n",
    "import seaborn as sns \n",
    "import matplotlib as plt \n",
    "%matplotlib inline\n",
    "import glob\n",
    "import csv\n",
    "import tarfile\n",
    "from tqdm import tqdm\n",
    "import requests as rq\n",
    "import json\n",
    "from bs4 import BeautifulSoup as bs\n",
    "import urllib3"
   ]
  },
  {
   "cell_type": "code",
   "execution_count": null,
   "metadata": {},
   "outputs": [],
   "source": [
    "files = glob.glob('../BL_Work/openPrescribe/uncompressed/*.tar.gz')"
   ]
  },
  {
   "cell_type": "code",
   "execution_count": null,
   "metadata": {},
   "outputs": [],
   "source": [
    "def readChem(year,files):\n",
    "    for f in files:\n",
    "        if f.find(year)>0:\n",
    "            if f.find('CHEM') > 0:\n",
    "                df = pd.read_csv(f,compression='infer')\n",
    "                return df"
   ]
  },
  {
   "cell_type": "code",
   "execution_count": 8,
   "metadata": {
    "ExecuteTime": {
     "end_time": "2019-06-19T11:56:46.825259Z",
     "start_time": "2019-06-19T11:56:46.191498Z"
    }
   },
   "outputs": [],
   "source": [
    "testurl = \"https://www.drugbank.ca/unearth/q?utf8=✓&searcher=drugs&query=Loperamide+Hydrochloride\"\n",
    "response = rq.get(testurl)\n",
    "soup = bs(response.text,'html.parser')"
   ]
  },
  {
   "cell_type": "code",
   "execution_count": 26,
   "metadata": {
    "ExecuteTime": {
     "end_time": "2019-06-19T16:05:43.738314Z",
     "start_time": "2019-06-19T16:05:43.726132Z"
    }
   },
   "outputs": [],
   "source": [
    "A = [i for i in soup.find_all('dt') if 'Ass' in i.text]"
   ]
  },
  {
   "cell_type": "code",
   "execution_count": 77,
   "metadata": {
    "ExecuteTime": {
     "end_time": "2019-06-19T16:24:41.997992Z",
     "start_time": "2019-06-19T16:24:41.968957Z"
    }
   },
   "outputs": [],
   "source": [
    "dts = enumerate(soup.find('div', class_='card-content').findAll('dt'))\n",
    "dds = soup.find('div', class_='card-content').findAll('dd')\n",
    "dtInd = [k for (k,i) in dts if i.text == 'Associated Conditions' ][0]\n"
   ]
  },
  {
   "cell_type": "code",
   "execution_count": 81,
   "metadata": {
    "ExecuteTime": {
     "end_time": "2019-06-19T16:26:18.614875Z",
     "start_time": "2019-06-19T16:26:18.607569Z"
    }
   },
   "outputs": [
    {
     "data": {
      "text/plain": [
       "[{u'/indications/DBCOND0089496': u'Chronic Functional Diarrhea'},\n",
       " {u'/indications/DBCOND0024414': u'Intestinal stoma leak'},\n",
       " {u'/indications/DBCOND0033890': u\"Travelers' Diarrhea\"},\n",
       " {u'/indications/DBCOND0102291': u'Severe or persistent diarrhea'}]"
      ]
     },
     "execution_count": 81,
     "metadata": {},
     "output_type": "execute_result"
    }
   ],
   "source": [
    "[{i.attrs.get('href'): i.text} for i in dds[dtInd].findAll('a')]"
   ]
  },
  {
   "cell_type": "code",
   "execution_count": null,
   "metadata": {},
   "outputs": [],
   "source": [
    "drugContainers = soup.find_all('div', class_ = 'unearth-search-results unearth-indication-search-results')"
   ]
  },
  {
   "cell_type": "code",
   "execution_count": 4,
   "metadata": {
    "ExecuteTime": {
     "end_time": "2019-06-18T15:42:20.081576Z",
     "start_time": "2019-06-18T15:42:20.075981Z"
    }
   },
   "outputs": [
    {
     "data": {
      "text/plain": [
       "9318"
      ]
     },
     "execution_count": 4,
     "metadata": {},
     "output_type": "execute_result"
    }
   ],
   "source": [
    "len(drugFiles)"
   ]
  },
  {
   "cell_type": "code",
   "execution_count": null,
   "metadata": {},
   "outputs": [],
   "source": [
    "urlhead = \"https://www.drugbank.ca/unearth/q?\"\n",
    "frag1 = \"utf8=%E2%9C%93&\"\n",
    "frag2 = \"searcher=drugs&\"\n",
    "query = \"query=\"\n",
    "filtersFrag= \"&us=1&ca=0&eu=0&eu=1&commit=Apply+Filter\"\n",
    "# params={'utf8':\"%E2%9C%93\" , 'searcher' : 'indications' , 'us':'0','ca':'0','eu':'0','eu':'1','commit':\"Apply+Filter\" , 'query':''}\n",
    "\n",
    "DiseaseDrugJson = {}\n",
    "\n",
    "for disease in DiseaseList:\n",
    "    url = urlhead + frag1 + frag2 +query+disease+ filtersFrag\n",
    "#     params['query']=disease\n",
    "    response = rq.get(url)\n",
    "    print response.url\n",
    "    soup = bs(response.text,'html.parser')\n",
    "    synonym = soup.find_all('div', class_ = 'search-highlights')\n",
    "    drug_matches = soup.find_all('div', class_ = 'db-matches')\n",
    "    print len(drug_matches) , len(synonym)\n",
    "    MatchJson = {'Synonyms':[] , 'MatchedDrugs':[]}\n",
    "    try:\n",
    "        for i in range(len(synonym)):\n",
    "            syn = synonym[i]\n",
    "            drug = drug_matches[i]\n",
    "            synText = syn.text.replace(u'\\u2026','')\n",
    "            drugsName = drug.text.split('/')\n",
    "            MatchJson['Synonyms'].append(synText)\n",
    "            MatchJson['MatchedDrugs'].append(drugsName)\n",
    "    except:\n",
    "        print \"Something went horribly Wrong\"\n",
    "    DiseaseDrugJson[disease] = MatchJson"
   ]
  }
 ],
 "metadata": {
  "kernelspec": {
   "display_name": "Python 2",
   "language": "python",
   "name": "python2"
  },
  "language_info": {
   "codemirror_mode": {
    "name": "ipython",
    "version": 2
   },
   "file_extension": ".py",
   "mimetype": "text/x-python",
   "name": "python",
   "nbconvert_exporter": "python",
   "pygments_lexer": "ipython2",
   "version": "2.7.12"
  }
 },
 "nbformat": 4,
 "nbformat_minor": 2
}
