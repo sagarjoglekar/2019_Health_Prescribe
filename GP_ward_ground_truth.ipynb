{
 "cells": [
  {
   "cell_type": "code",
   "execution_count": 15,
   "metadata": {
    "ExecuteTime": {
     "end_time": "2019-07-24T10:53:12.164820Z",
     "start_time": "2019-07-24T10:53:11.197431Z"
    }
   },
   "outputs": [],
   "source": [
    "import pandas as pd\n",
    "import geopandas as gp \n",
    "import json\n",
    "from glob import glob\n",
    "import numpy as np\n",
    "import matplotlib.pyplot as plt\n",
    "import seaborn as sns\n",
    "\n",
    "sns.set(rc={'figure.figsize':(12,8)})\n",
    "%matplotlib inline\n",
    "from tqdm import tqdm\n",
    "import glob\n",
    "import numpy as np\n",
    "from scipy.stats import pearsonr\n",
    "from scipy.stats import linregress"
   ]
  },
  {
   "cell_type": "code",
   "execution_count": 27,
   "metadata": {
    "ExecuteTime": {
     "end_time": "2019-07-24T11:08:20.913191Z",
     "start_time": "2019-07-24T11:08:20.907352Z"
    }
   },
   "outputs": [
    {
     "name": "stdout",
     "output_type": "stream",
     "text": [
      "['../BL_Work/openPrescribe/serialized/201009.gz', '../BL_Work/openPrescribe/serialized/201008.gz', '../BL_Work/openPrescribe/serialized/201011.gz', '../BL_Work/openPrescribe/serialized/201010.gz', '../BL_Work/openPrescribe/serialized/201012.gz']\n"
     ]
    }
   ],
   "source": [
    "files = glob.glob('../BL_Work/openPrescribe/serialized/*.gz')\n",
    "print files"
   ]
  },
  {
   "cell_type": "code",
   "execution_count": 28,
   "metadata": {
    "ExecuteTime": {
     "end_time": "2019-07-24T11:10:10.155600Z",
     "start_time": "2019-07-24T11:08:49.326830Z"
    }
   },
   "outputs": [],
   "source": [
    "pdp = pd.read_csv(files[-1],compression='gzip')"
   ]
  },
  {
   "cell_type": "code",
   "execution_count": 29,
   "metadata": {
    "ExecuteTime": {
     "end_time": "2019-07-24T11:11:05.779461Z",
     "start_time": "2019-07-24T11:10:10.201145Z"
    }
   },
   "outputs": [],
   "source": [
    "GP_postcodes_long = {}\n",
    "for name , group in pdp.groupby('2'):\n",
    "    postcode = list(set(group['10']))\n",
    "    GP_postcodes_long[name] = str(postcode[0]).strip()"
   ]
  },
  {
   "cell_type": "code",
   "execution_count": 3,
   "metadata": {
    "ExecuteTime": {
     "end_time": "2019-07-24T10:45:52.597846Z",
     "start_time": "2019-07-24T10:45:49.859196Z"
    }
   },
   "outputs": [],
   "source": [
    "ward_df = pd.read_csv('../BL_Work/pcd11_par11_wd11_lad11_ew_lu.csv')"
   ]
  },
  {
   "cell_type": "code",
   "execution_count": 4,
   "metadata": {
    "ExecuteTime": {
     "end_time": "2019-07-24T10:45:56.302572Z",
     "start_time": "2019-07-24T10:45:56.253853Z"
    }
   },
   "outputs": [
    {
     "data": {
      "text/html": [
       "<div>\n",
       "<style scoped>\n",
       "    .dataframe tbody tr th:only-of-type {\n",
       "        vertical-align: middle;\n",
       "    }\n",
       "\n",
       "    .dataframe tbody tr th {\n",
       "        vertical-align: top;\n",
       "    }\n",
       "\n",
       "    .dataframe thead th {\n",
       "        text-align: right;\n",
       "    }\n",
       "</style>\n",
       "<table border=\"1\" class=\"dataframe\">\n",
       "  <thead>\n",
       "    <tr style=\"text-align: right;\">\n",
       "      <th></th>\n",
       "      <th>pcd7</th>\n",
       "      <th>pcd8</th>\n",
       "      <th>pcds</th>\n",
       "      <th>par11cd</th>\n",
       "      <th>par11nm</th>\n",
       "      <th>par11nmw</th>\n",
       "      <th>wd11cd</th>\n",
       "      <th>wd11nm</th>\n",
       "      <th>wd11nmw</th>\n",
       "      <th>lad11cd</th>\n",
       "      <th>lad11nm</th>\n",
       "      <th>lad11nmw</th>\n",
       "    </tr>\n",
       "  </thead>\n",
       "  <tbody>\n",
       "    <tr>\n",
       "      <th>0</th>\n",
       "      <td>AL1 1AG</td>\n",
       "      <td>AL1  1AG</td>\n",
       "      <td>AL1 1AG</td>\n",
       "      <td>NaN</td>\n",
       "      <td>NaN</td>\n",
       "      <td>NaN</td>\n",
       "      <td>E05004802</td>\n",
       "      <td>Sopwell</td>\n",
       "      <td>NaN</td>\n",
       "      <td>E07000100</td>\n",
       "      <td>St Albans</td>\n",
       "      <td>NaN</td>\n",
       "    </tr>\n",
       "    <tr>\n",
       "      <th>1</th>\n",
       "      <td>AL1 1AJ</td>\n",
       "      <td>AL1  1AJ</td>\n",
       "      <td>AL1 1AJ</td>\n",
       "      <td>NaN</td>\n",
       "      <td>NaN</td>\n",
       "      <td>NaN</td>\n",
       "      <td>E05004802</td>\n",
       "      <td>Sopwell</td>\n",
       "      <td>NaN</td>\n",
       "      <td>E07000100</td>\n",
       "      <td>St Albans</td>\n",
       "      <td>NaN</td>\n",
       "    </tr>\n",
       "    <tr>\n",
       "      <th>2</th>\n",
       "      <td>AL1 1AR</td>\n",
       "      <td>AL1  1AR</td>\n",
       "      <td>AL1 1AR</td>\n",
       "      <td>NaN</td>\n",
       "      <td>NaN</td>\n",
       "      <td>NaN</td>\n",
       "      <td>E05004789</td>\n",
       "      <td>Cunningham</td>\n",
       "      <td>NaN</td>\n",
       "      <td>E07000100</td>\n",
       "      <td>St Albans</td>\n",
       "      <td>NaN</td>\n",
       "    </tr>\n",
       "    <tr>\n",
       "      <th>3</th>\n",
       "      <td>AL1 1AS</td>\n",
       "      <td>AL1  1AS</td>\n",
       "      <td>AL1 1AS</td>\n",
       "      <td>NaN</td>\n",
       "      <td>NaN</td>\n",
       "      <td>NaN</td>\n",
       "      <td>E05004799</td>\n",
       "      <td>St Peters</td>\n",
       "      <td>NaN</td>\n",
       "      <td>E07000100</td>\n",
       "      <td>St Albans</td>\n",
       "      <td>NaN</td>\n",
       "    </tr>\n",
       "    <tr>\n",
       "      <th>4</th>\n",
       "      <td>AL1 1BH</td>\n",
       "      <td>AL1  1BH</td>\n",
       "      <td>AL1 1BH</td>\n",
       "      <td>NaN</td>\n",
       "      <td>NaN</td>\n",
       "      <td>NaN</td>\n",
       "      <td>E05004802</td>\n",
       "      <td>Sopwell</td>\n",
       "      <td>NaN</td>\n",
       "      <td>E07000100</td>\n",
       "      <td>St Albans</td>\n",
       "      <td>NaN</td>\n",
       "    </tr>\n",
       "  </tbody>\n",
       "</table>\n",
       "</div>"
      ],
      "text/plain": [
       "      pcd7      pcd8     pcds par11cd par11nm par11nmw     wd11cd      wd11nm  \\\n",
       "0  AL1 1AG  AL1  1AG  AL1 1AG     NaN     NaN      NaN  E05004802     Sopwell   \n",
       "1  AL1 1AJ  AL1  1AJ  AL1 1AJ     NaN     NaN      NaN  E05004802     Sopwell   \n",
       "2  AL1 1AR  AL1  1AR  AL1 1AR     NaN     NaN      NaN  E05004789  Cunningham   \n",
       "3  AL1 1AS  AL1  1AS  AL1 1AS     NaN     NaN      NaN  E05004799   St Peters   \n",
       "4  AL1 1BH  AL1  1BH  AL1 1BH     NaN     NaN      NaN  E05004802     Sopwell   \n",
       "\n",
       "  wd11nmw    lad11cd    lad11nm lad11nmw  \n",
       "0     NaN  E07000100  St Albans      NaN  \n",
       "1     NaN  E07000100  St Albans      NaN  \n",
       "2     NaN  E07000100  St Albans      NaN  \n",
       "3     NaN  E07000100  St Albans      NaN  \n",
       "4     NaN  E07000100  St Albans      NaN  "
      ]
     },
     "execution_count": 4,
     "metadata": {},
     "output_type": "execute_result"
    }
   ],
   "source": [
    "ward_df.head()"
   ]
  },
  {
   "cell_type": "code",
   "execution_count": 9,
   "metadata": {
    "ExecuteTime": {
     "end_time": "2019-07-24T10:48:41.773426Z",
     "start_time": "2019-07-24T10:48:39.672881Z"
    }
   },
   "outputs": [],
   "source": [
    "ward_postcode_map = {}\n",
    "for name, group in ward_df.groupby('wd11cd'):\n",
    "    ward_postcode_map[name] = list(group['pcds'])\n",
    "    "
   ]
  },
  {
   "cell_type": "code",
   "execution_count": 11,
   "metadata": {
    "ExecuteTime": {
     "end_time": "2019-07-24T10:49:39.158880Z",
     "start_time": "2019-07-24T10:49:39.075870Z"
    }
   },
   "outputs": [],
   "source": [
    "%store -r presc_Disease_prevalence"
   ]
  },
  {
   "cell_type": "code",
   "execution_count": 12,
   "metadata": {
    "ExecuteTime": {
     "end_time": "2019-07-24T10:51:05.426706Z",
     "start_time": "2019-07-24T10:51:05.419647Z"
    }
   },
   "outputs": [],
   "source": [
    "luca_data = pd.read_csv('../BL_Work/diabetes_estimates_osward_2016.csv')"
   ]
  },
  {
   "cell_type": "code",
   "execution_count": 114,
   "metadata": {
    "ExecuteTime": {
     "end_time": "2019-07-24T12:19:19.365310Z",
     "start_time": "2019-07-24T12:19:19.218151Z"
    }
   },
   "outputs": [],
   "source": [
    "ward_gt = {}\n",
    "ward_luca_predict = {}\n",
    "ward_patients_gt = {}\n",
    "for index , row in luca_data.iterrows():\n",
    "    ward_gt[row['osward']] = float(row['gp_patients_diabetes'])\n",
    "    ward_patients_gt[row['osward']] = float(row['gp_patients'])\n",
    "    ward_luca_predict[row['osward']] = row['diabetes_prevalence_estimated_from_prescriptions']"
   ]
  },
  {
   "cell_type": "code",
   "execution_count": 115,
   "metadata": {
    "ExecuteTime": {
     "end_time": "2019-07-24T12:19:48.192794Z",
     "start_time": "2019-07-24T12:19:47.926153Z"
    }
   },
   "outputs": [
    {
     "data": {
      "text/plain": [
       "(array([  7.,  68., 158., 164., 108.,  53.,  31.,  12.,   0.,   2.]),\n",
       " array([   5. ,  220.2,  435.4,  650.6,  865.8, 1081. , 1296.2, 1511.4,\n",
       "        1726.6, 1941.8, 2157. ]),\n",
       " <a list of 10 Patch objects>)"
      ]
     },
     "execution_count": 115,
     "metadata": {},
     "output_type": "execute_result"
    },
    {
     "data": {
      "image/png": "[encoded data removed]",
      "text/plain": [
       "<matplotlib.figure.Figure at 0x7f83388d8850>"
      ]
     },
     "metadata": {},
     "output_type": "display_data"
    }
   ],
   "source": [
    "plt.hist(ward_gt.values())"
   ]
  },
  {
   "cell_type": "code",
   "execution_count": 113,
   "metadata": {
    "ExecuteTime": {
     "end_time": "2019-07-24T12:19:02.851775Z",
     "start_time": "2019-07-24T12:19:02.844761Z"
    }
   },
   "outputs": [
    {
     "data": {
      "text/plain": [
       "(0.7203983722552026, 1.3988923480224664e-97)"
      ]
     },
     "execution_count": 113,
     "metadata": {},
     "output_type": "execute_result"
    }
   ],
   "source": [
    "pearsonr([ward_gt[k] for k in ward_gt],[ward_luca_predict[k] for k in ward_gt])"
   ]
  },
  {
   "cell_type": "code",
   "execution_count": 71,
   "metadata": {
    "ExecuteTime": {
     "end_time": "2019-07-24T11:40:26.967190Z",
     "start_time": "2019-07-24T11:40:26.963730Z"
    }
   },
   "outputs": [],
   "source": [
    "# ward_postcode_map"
   ]
  },
  {
   "cell_type": "code",
   "execution_count": 72,
   "metadata": {
    "ExecuteTime": {
     "end_time": "2019-07-24T11:40:27.527567Z",
     "start_time": "2019-07-24T11:40:27.523125Z"
    }
   },
   "outputs": [],
   "source": [
    "londonWardPostcode = {k : ward_postcode_map[k] for k in ward_gt if k in ward_postcode_map}"
   ]
  },
  {
   "cell_type": "code",
   "execution_count": 73,
   "metadata": {
    "ExecuteTime": {
     "end_time": "2019-07-24T11:40:29.058930Z",
     "start_time": "2019-07-24T11:40:29.053167Z"
    }
   },
   "outputs": [
    {
     "data": {
      "text/plain": [
       "(540, 603)"
      ]
     },
     "execution_count": 73,
     "metadata": {},
     "output_type": "execute_result"
    }
   ],
   "source": [
    "len(londonWardPostcode), len(ward_gt)"
   ]
  },
  {
   "cell_type": "code",
   "execution_count": 74,
   "metadata": {
    "ExecuteTime": {
     "end_time": "2019-07-24T11:40:29.532112Z",
     "start_time": "2019-07-24T11:40:29.528367Z"
    }
   },
   "outputs": [],
   "source": [
    "diabetes_GP = presc_Disease_prevalence['201009']['diabetes']"
   ]
  },
  {
   "cell_type": "code",
   "execution_count": 75,
   "metadata": {
    "ExecuteTime": {
     "end_time": "2019-07-24T11:40:30.233582Z",
     "start_time": "2019-07-24T11:40:30.230497Z"
    }
   },
   "outputs": [],
   "source": [
    "# %store -r GP_postcodes"
   ]
  },
  {
   "cell_type": "code",
   "execution_count": 117,
   "metadata": {
    "ExecuteTime": {
     "end_time": "2019-07-24T12:56:00.970401Z",
     "start_time": "2019-07-24T12:56:00.196224Z"
    }
   },
   "outputs": [],
   "source": [
    "patients = pd.read_csv('../BL_Work/grondTruths/GP_SYOA.csv')\n",
    "practice_patient_dict = {}\n",
    "for index , row in patients.iterrows():\n",
    "    practice_patient_dict[row['PRACTICE_CODE']] = row['Total_All']"
   ]
  },
  {
   "cell_type": "code",
   "execution_count": 118,
   "metadata": {
    "ExecuteTime": {
     "end_time": "2019-07-24T12:56:02.324180Z",
     "start_time": "2019-07-24T12:56:01.760271Z"
    }
   },
   "outputs": [],
   "source": [
    "patients_survey = pd.read_csv('../BL_Work/prevalence/DM.csv')\n",
    "practice_surveypatient_dict = {}\n",
    "for index , row in patients_survey.iterrows():\n",
    "    practice_surveypatient_dict[row['practice_code']] = row['survey_takers']\n"
   ]
  },
  {
   "cell_type": "code",
   "execution_count": 124,
   "metadata": {
    "ExecuteTime": {
     "end_time": "2019-07-24T12:57:53.266384Z",
     "start_time": "2019-07-24T12:57:53.198377Z"
    }
   },
   "outputs": [
    {
     "data": {
      "text/plain": [
       "{'E84702': 2855,\n",
       " 'E84701': 3873,\n",
       " 'E84706': 2212,\n",
       " 'E84704': 2285,\n",
       " 'E84705': 2491,\n",
       " 'E84708': 2178,\n",
       " 'E84709': 10160,\n",
       " 'Y02795': 2630,\n",
       " 'B85014': 9805,\n",
       " 'B85015': 9006,\n",
       " 'B85016': 9377,\n",
       " 'B85010': 6603,\n",
       " 'B85011': 6274,\n",
       " 'B85012': 10602,\n",
       " 'B85018': 8788,\n",
       " 'B85019': 16935,\n",
       " 'N81032': 22494,\n",
       " 'N81033': 7711,\n",
       " 'N81030': 12032,\n",
       " 'N81031': 5588,\n",
       " 'N81036': 6141,\n",
       " 'N81037': 8008,\n",
       " 'N81034': 12096,\n",
       " 'N81035': 10855,\n",
       " 'N81038': 6511,\n",
       " 'N81039': 10339,\n",
       " 'N82046': 7877,\n",
       " 'N82041': 6478,\n",
       " 'N82048': 6702,\n",
       " 'N82049': 5215,\n",
       " 'G82162': 5001,\n",
       " 'Y00105': 3792,\n",
       " 'G82160': 11075,\n",
       " 'G82161': 15023,\n",
       " 'G82164': 10290,\n",
       " 'G82165': 9231,\n",
       " 'Y01851': 2889,\n",
       " 'M82050': 8056,\n",
       " 'M82051': 4647,\n",
       " 'M82054': 3548,\n",
       " 'M82055': 3981,\n",
       " 'M82056': 13006,\n",
       " 'M82057': 3663,\n",
       " 'M82058': 3549,\n",
       " 'M82059': 11636,\n",
       " 'P81212': 4994,\n",
       " 'H81647': 2326,\n",
       " 'H81644': 8655,\n",
       " 'H81643': 2232,\n",
       " 'H81642': 3021,\n",
       " 'H81641': 3383,\n",
       " 'P81214': 4546,\n",
       " 'P81215': 6131,\n",
       " 'E85617': 2881,\n",
       " 'M82620': 3731,\n",
       " 'F81014': 15873,\n",
       " 'F81015': 6698,\n",
       " 'F81016': 5115,\n",
       " 'B82611': 8153,\n",
       " 'G85673': 6555,\n",
       " 'K81059': 9996,\n",
       " 'G85674': 4639,\n",
       " 'K81052': 6491,\n",
       " 'K81051': 11009,\n",
       " 'K81050': 10895,\n",
       " 'K81057': 7520,\n",
       " 'K81056': 5200,\n",
       " 'K81055': 6690,\n",
       " 'P92042': 4537,\n",
       " 'F84097': 8821,\n",
       " 'F84096': 13187,\n",
       " 'F84093': 16502,\n",
       " 'F84092': 6364,\n",
       " 'F84091': 4646,\n",
       " 'E81626': 5748,\n",
       " 'Y04225': 763,\n",
       " 'C82078': 11082,\n",
       " 'C82079': 8979,\n",
       " 'L85048': 6149,\n",
       " 'C82075': 9581,\n",
       " 'C82076': 4740,\n",
       " 'C82077': 10628,\n",
       " 'C82070': 9046,\n",
       " 'C82071': 10385,\n",
       " 'C82072': 8118,\n",
       " 'C82073': 14435,\n",
       " 'P87627': 2675,\n",
       " 'P87625': 2159,\n",
       " 'P87624': 4568,\n",
       " 'P87620': 9103,\n",
       " 'E82638': 6716,\n",
       " 'E82630': 2342,\n",
       " 'L84015': 10868,\n",
       " 'L84014': 9008,\n",
       " 'L84017': 6636,\n",
       " 'L84016': 6619,\n",
       " 'L84011': 7005,\n",
       " 'L84010': 7587,\n",
       " 'L84013': 8180,\n",
       " 'L84012': 12956,\n",
       " 'L84018': 6746,\n",
       " 'Y02999': 1028,\n",
       " 'G81059': 13553,\n",
       " 'Y00278': 2645,\n",
       " 'B86048': 13255,\n",
       " 'B86049': 7807,\n",
       " 'B86046': 7218,\n",
       " 'B86047': 7823,\n",
       " 'B86044': 24275,\n",
       " 'B86042': 14099,\n",
       " 'B86043': 7852,\n",
       " 'B86041': 6179,\n",
       " 'A89001': 14014,\n",
       " 'N85018': 5802,\n",
       " 'N85019': 8459,\n",
       " 'N85012': 9556,\n",
       " 'N85013': 8053,\n",
       " 'N85014': 6493,\n",
       " 'N85015': 8158,\n",
       " 'N85016': 7446,\n",
       " 'N85017': 5141,\n",
       " 'Y00726': 4127,\n",
       " 'M83022': 8294,\n",
       " 'M83023': 9722,\n",
       " 'M83020': 12658,\n",
       " 'M83021': 10099,\n",
       " 'M83026': 9088,\n",
       " 'M83027': 11508,\n",
       " 'M83024': 6256,\n",
       " 'M83025': 6970,\n",
       " 'M83028': 7411,\n",
       " 'M87019': 7515,\n",
       " 'M87018': 5846,\n",
       " 'P83623': 5336,\n",
       " 'P83621': 2983,\n",
       " 'P83620': 4717,\n",
       " 'N85022': 3220,\n",
       " 'F81720': 3203,\n",
       " 'F81721': 5972,\n",
       " 'F81724': 3345,\n",
       " 'F81725': 3543,\n",
       " 'P92621': 2827,\n",
       " 'P92620': 3923,\n",
       " 'F81728': 1835,\n",
       " 'F81729': 3722,\n",
       " 'Y00454': 2081,\n",
       " 'P92626': 4673,\n",
       " 'L85620': 1825,\n",
       " 'L85624': 2178,\n",
       " 'F83652': 9572,\n",
       " 'F83658': 4279,\n",
       " 'B81069': 9897,\n",
       " 'B81068': 16031,\n",
       " 'B81061': 20714,\n",
       " 'B81060': 8204,\n",
       " 'B81063': 6593,\n",
       " 'B81062': 11704,\n",
       " 'B81065': 11843,\n",
       " 'B81064': 8720,\n",
       " 'B81066': 2288,\n",
       " 'N83610': 2125,\n",
       " 'N83611': 2762,\n",
       " 'N83612': 2940,\n",
       " 'Y02794': 5992,\n",
       " 'N83006': 3465,\n",
       " 'N83614': 2528,\n",
       " 'J82646': 5199,\n",
       " 'J82640': 4777,\n",
       " 'Y02790': 2818,\n",
       " 'J82648': 4796,\n",
       " 'Y04694': 8378,\n",
       " 'M83057': 10133,\n",
       " 'M83056': 11073,\n",
       " 'M83054': 9602,\n",
       " 'M85634': 7164,\n",
       " 'M83052': 18637,\n",
       " 'G83046': 4651,\n",
       " 'G83047': 10174,\n",
       " 'G83044': 10270,\n",
       " 'G83043': 4960,\n",
       " 'M83050': 10590,\n",
       " 'G83049': 8173,\n",
       " 'A81048': 5053,\n",
       " 'A81049': 5466,\n",
       " 'A81042': 5997,\n",
       " 'A81043': 7967,\n",
       " 'A81040': 8547,\n",
       " 'A81041': 9099,\n",
       " 'A81046': 12898,\n",
       " 'A81047': 5710,\n",
       " 'A81044': 14155,\n",
       " 'A81045': 7560,\n",
       " 'Y00589': 4297,\n",
       " 'P81157': 9880,\n",
       " 'P81155': 4020,\n",
       " 'P81154': 8307,\n",
       " 'P81153': 8246,\n",
       " 'P81152': 6598,\n",
       " 'P81150': 5461,\n",
       " 'Y02692': 8256,\n",
       " 'Y02342': 7887,\n",
       " 'Y02344': 3209,\n",
       " 'P81159': 8620,\n",
       " 'D81645': 2959,\n",
       " 'A82635': 1983,\n",
       " 'A82631': 2952,\n",
       " 'N83001': 13822,\n",
       " 'F83018': 7870,\n",
       " 'F83019': 10040,\n",
       " 'Y02520': 4859,\n",
       " 'Y02521': 9206,\n",
       " 'Y02613': 5246,\n",
       " 'F83012': 7041,\n",
       " 'B81666': 2237,\n",
       " 'B81665': 2067,\n",
       " 'B81664': 1921,\n",
       " 'B81663': 2399,\n",
       " 'F83017': 13963,\n",
       " 'F83015': 12266,\n",
       " 'P81733': 4295,\n",
       " 'P81732': 4073,\n",
       " 'P81731': 2662,\n",
       " 'P81730': 8336,\n",
       " 'P81737': 1988,\n",
       " 'P81736': 3748,\n",
       " 'P81735': 2806,\n",
       " 'P81734': 17042,\n",
       " 'N83005': 8174,\n",
       " 'P81738': 1263,\n",
       " 'M92019': 6362,\n",
       " 'Y02614': 1389,\n",
       " 'M92015': 3890,\n",
       " 'M92014': 2061,\n",
       " 'M92016': 6411,\n",
       " 'M92011': 11486,\n",
       " 'M92010': 11697,\n",
       " 'M92013': 6808,\n",
       " 'M92012': 9402,\n",
       " 'P81076': 11612,\n",
       " 'P85020': 7537,\n",
       " 'P85026': 5383,\n",
       " 'P85025': 4677,\n",
       " 'Y02833': 3597,\n",
       " 'C84144': 3579,\n",
       " 'C84145': 1116,\n",
       " 'C84142': 4899,\n",
       " 'C84143': 5696,\n",
       " 'C84140': 5364,\n",
       " 'P85028': 5147,\n",
       " 'N81018': 7755,\n",
       " 'N81019': 11918,\n",
       " 'N81014': 8936,\n",
       " 'N81015': 11739,\n",
       " 'N81016': 14777,\n",
       " 'N81017': 5677,\n",
       " 'N81010': 6103,\n",
       " 'N81011': 11557,\n",
       " 'N81012': 9528,\n",
       " 'N81013': 7576,\n",
       " 'N82060': 3180,\n",
       " 'N82062': 6653,\n",
       " 'N82065': 4208,\n",
       " 'N82066': 9305,\n",
       " 'N82067': 3355,\n",
       " 'Y00471': 3468,\n",
       " 'G82148': 4418,\n",
       " 'Y00475': 4397,\n",
       " 'G82147': 5464,\n",
       " 'G82140': 14944,\n",
       " 'G82141': 5402,\n",
       " 'G82142': 8359,\n",
       " 'G82143': 5770,\n",
       " 'E87637': 4596,\n",
       " 'E87630': 1461,\n",
       " 'B86675': 3545,\n",
       " 'M82038': 9772,\n",
       " 'M82039': 14453,\n",
       " 'B86670': 2015,\n",
       " 'B86673': 3621,\n",
       " 'B86672': 5246,\n",
       " 'M82032': 8474,\n",
       " 'M82033': 5174,\n",
       " 'M82030': 7083,\n",
       " 'M82031': 2881,\n",
       " 'B86678': 2781,\n",
       " 'M82034': 7388,\n",
       " 'M82035': 10497,\n",
       " 'H81620': 5377,\n",
       " 'H81622': 2188,\n",
       " 'E85673': 3209,\n",
       " 'E85672': 1477,\n",
       " 'E85677': 4279,\n",
       " 'Y00902': 3884,\n",
       " 'E83030': 6271,\n",
       " 'E83032': 18519,\n",
       " 'E83035': 8914,\n",
       " 'E83034': 6482,\n",
       " 'G85698': 8304,\n",
       " 'G85695': 4848,\n",
       " 'G85696': 10037,\n",
       " 'G85690': 5616,\n",
       " 'G85692': 10579,\n",
       " 'F83664': 6319,\n",
       " 'F83666': 5595,\n",
       " 'F86701': 3450,\n",
       " 'F86700': 3376,\n",
       " 'F86703': 3406,\n",
       " 'F86702': 3749,\n",
       " 'F86705': 2993,\n",
       " 'F86704': 1784,\n",
       " 'F86707': 5949,\n",
       " 'F86708': 3057,\n",
       " 'P82616': 2571,\n",
       " 'P82613': 4780,\n",
       " 'F81130': 5941,\n",
       " 'Y02753': 3158,\n",
       " 'Y02751': 9154,\n",
       " 'Y02757': 5362,\n",
       " 'Y02755': 3522,\n",
       " 'Y02754': 4855,\n",
       " 'A88005': 4622,\n",
       " 'A88004': 9179,\n",
       " 'A88007': 9030,\n",
       " 'A88006': 8426,\n",
       " 'A88001': 2912,\n",
       " 'A88003': 11749,\n",
       " 'A88002': 12475,\n",
       " 'A88009': 6450,\n",
       " 'A88008': 6147,\n",
       " 'P87649': 1967,\n",
       " 'P87648': 3380,\n",
       " 'P87641': 2428,\n",
       " 'L83608': 3352,\n",
       " 'L83607': 4413,\n",
       " 'E82652': 2305,\n",
       " 'E82653': 1994,\n",
       " 'E82656': 2286,\n",
       " 'E82657': 6117,\n",
       " 'E82654': 4544,\n",
       " 'E82655': 3097,\n",
       " 'L84037': 10635,\n",
       " 'L84036': 10006,\n",
       " 'E82658': 4157,\n",
       " 'L84034': 13734,\n",
       " 'L84033': 13755,\n",
       " 'L84032': 9319,\n",
       " 'L84031': 5515,\n",
       " 'L84030': 7684,\n",
       " 'B86068': 5004,\n",
       " 'B86069': 12987,\n",
       " 'B86060': 8871,\n",
       " 'B86061': 3477,\n",
       " 'B86062': 9001,\n",
       " 'B86064': 16217,\n",
       " 'B86065': 4142,\n",
       " 'B86066': 13034,\n",
       " 'B86067': 16680,\n",
       " 'N84041': 4648,\n",
       " 'Y03664': 5959,\n",
       " 'Y03661': 4366,\n",
       " 'Y03663': 7901,\n",
       " 'N84043': 1790,\n",
       " 'M83009': 10073,\n",
       " 'M83004': 12058,\n",
       " 'M83005': 5708,\n",
       " 'M83006': 20484,\n",
       " 'M83007': 6634,\n",
       " 'M83001': 11118,\n",
       " 'L81049': 6328,\n",
       " 'F81704': 3264,\n",
       " 'L81044': 10272,\n",
       " 'L81047': 13179,\n",
       " 'L81046': 10010,\n",
       " 'F81700': 4197,\n",
       " 'L81040': 9059,\n",
       " 'L81043': 6380,\n",
       " 'L81042': 11303,\n",
       " 'B82064': 3314,\n",
       " 'L85609': 3416,\n",
       " 'B85606': 4915,\n",
       " 'L85602': 1734,\n",
       " 'L85601': 2656,\n",
       " 'C81104': 1767,\n",
       " 'L85607': 3817,\n",
       " 'B82066': 9406,\n",
       " 'G82089': 9252,\n",
       " 'B81042': 12160,\n",
       " 'B81041': 6155,\n",
       " 'B81040': 14838,\n",
       " 'B81047': 7049,\n",
       " 'B81046': 8996,\n",
       " 'B81045': 12542,\n",
       " 'B81044': 5768,\n",
       " 'G82080': 13145,\n",
       " 'B81049': 9260,\n",
       " 'B81048': 8849,\n",
       " 'G82085': 11982,\n",
       " 'G82087': 16336,\n",
       " 'G82086': 9413,\n",
       " 'G81694': 2149,\n",
       " 'G85736': 2446,\n",
       " 'Y00316': 4224,\n",
       " 'Y00312': 4262,\n",
       " 'Y00060': 500,\n",
       " 'Y03049': 7217,\n",
       " 'P92602': 2230,\n",
       " 'P92607': 2730,\n",
       " 'P92606': 2781,\n",
       " 'P92605': 5985,\n",
       " 'M85128': 5517,\n",
       " 'M85699': 12496,\n",
       " 'M85697': 4190,\n",
       " 'M85124': 7898,\n",
       " 'M85127': 3471,\n",
       " 'M85694': 2377,\n",
       " 'M85693': 1908,\n",
       " 'M85123': 7691,\n",
       " 'G81012': 5285,\n",
       " 'L85053': 6560,\n",
       " 'M86624': 8151,\n",
       " 'G83060': 7050,\n",
       " 'G83061': 8862,\n",
       " 'G83062': 6775,\n",
       " 'G83063': 2815,\n",
       " 'G83064': 2347,\n",
       " 'G83065': 15164,\n",
       " 'G83066': 8436,\n",
       " 'G83067': 24277,\n",
       " 'G83068': 1054,\n",
       " 'A81064': 6261,\n",
       " 'A81065': 3363,\n",
       " 'A81066': 4194,\n",
       " 'A81067': 10554,\n",
       " 'A81060': 5330,\n",
       " 'A81063': 5317,\n",
       " 'A81069': 1584,\n",
       " 'Y02322': 7814,\n",
       " 'Y02321': 4538,\n",
       " 'Y02325': 3269,\n",
       " 'P81130': 12594,\n",
       " 'P81133': 8893,\n",
       " 'P81132': 9171,\n",
       " 'P81134': 4033,\n",
       " 'P81137': 5907,\n",
       " 'P81136': 2516,\n",
       " 'P81138': 2772,\n",
       " 'F83034': 1820,\n",
       " 'F83030': 2124,\n",
       " 'F83031': 2177,\n",
       " 'F83032': 10205,\n",
       " 'F83033': 2428,\n",
       " 'F83039': 5335,\n",
       " 'B81603': 4525,\n",
       " 'B81602': 2567,\n",
       " 'B81606': 4125,\n",
       " 'F84619': 4000,\n",
       " 'B82008': 9096,\n",
       " 'B82006': 5099,\n",
       " 'B82007': 9376,\n",
       " 'B82004': 10388,\n",
       " 'B82005': 54570,\n",
       " 'B82002': 7190,\n",
       " 'B82003': 6419,\n",
       " 'B82001': 10471,\n",
       " 'P81140': 7894,\n",
       " 'N82668': 1920,\n",
       " 'N82669': 2553,\n",
       " 'N82664': 3925,\n",
       " 'N82665': 4846,\n",
       " 'N82662': 5840,\n",
       " 'N82663': 3160,\n",
       " 'Y02811': 8486,\n",
       " 'Y02812': 8636,\n",
       " 'P81146': 5655,\n",
       " 'Y02816': 3073,\n",
       " 'P81147': 3799,\n",
       " 'M92035': 3476,\n",
       " 'N82009': 8072,\n",
       " 'M92031': 6581,\n",
       " 'M92030': 5454,\n",
       " 'N82002': 4130,\n",
       " 'N82003': 3415,\n",
       " 'N82001': 5779,\n",
       " 'M92039': 6566,\n",
       " 'C88647': 3416,\n",
       " 'C88643': 3106,\n",
       " 'Y00412': 4668,\n",
       " 'Y00411': 6612,\n",
       " 'C88648': 6753,\n",
       " 'Y02778': 4750,\n",
       " 'M82014': 8079,\n",
       " 'M82016': 9101,\n",
       " 'M82017': 4504,\n",
       " 'M82010': 17253,\n",
       " 'M82011': 3693,\n",
       " 'M82012': 12163,\n",
       " 'M82013': 3016,\n",
       " 'M82018': 5950,\n",
       " 'M82019': 7896,\n",
       " 'B86658': 4309,\n",
       " 'B86655': 1955,\n",
       " 'B86654': 4617,\n",
       " 'B86651': 1885,\n",
       " 'E85657': 9496,\n",
       " 'E85656': 3624,\n",
       " 'E85659': 1779,\n",
       " 'E85658': 4262,\n",
       " 'A87600': 4417,\n",
       " 'A83035': 7153,\n",
       " 'A83034': 10069,\n",
       " 'A83037': 13837,\n",
       " 'A83036': 11650,\n",
       " 'A83031': 10051,\n",
       " 'A83030': 12069,\n",
       " 'A83033': 8727,\n",
       " 'A83032': 2451,\n",
       " 'A83038': 5829,\n",
       " 'P92016': 16675,\n",
       " 'P92017': 12774,\n",
       " 'P92014': 12026,\n",
       " 'P92015': 5389,\n",
       " 'P92012': 4904,\n",
       " 'P92010': 13098,\n",
       " 'P92011': 7579,\n",
       " 'P92019': 9721,\n",
       " 'F81065': 4378,\n",
       " 'F81067': 14949,\n",
       " 'F81066': 5708,\n",
       " 'F81061': 6836,\n",
       " 'F81060': 4315,\n",
       " 'F81062': 8414,\n",
       " 'F81069': 6903,\n",
       " 'F81068': 15782,\n",
       " 'L85018': 5287,\n",
       " 'L85019': 7043,\n",
       " 'L85016': 16052,\n",
       " 'L85017': 9736,\n",
       " 'L85014': 10062,\n",
       " 'L85015': 12770,\n",
       " 'L85012': 14660,\n",
       " 'L85013': 3228,\n",
       " 'L85010': 13520,\n",
       " 'L85011': 7572,\n",
       " 'P87661': 1991,\n",
       " 'P87660': 2691,\n",
       " 'A88025': 5080,\n",
       " 'P87668': 2219,\n",
       " 'A88023': 5137,\n",
       " 'A88022': 7718,\n",
       " 'A88020': 1777,\n",
       " 'M85005': 8413,\n",
       " 'G82622': 2860,\n",
       " 'P82634': 4080,\n",
       " 'P82633': 2012,\n",
       " 'L83627': 4051,\n",
       " 'L83626': 2099,\n",
       " 'P81674': 5327,\n",
       " 'L83624': 5872,\n",
       " 'L83628': 4418,\n",
       " 'L84059': 6971,\n",
       " 'L84058': 9832,\n",
       " 'L84051': 8417,\n",
       " 'L84050': 23326,\n",
       " 'L84053': 7317,\n",
       " 'L84052': 7861,\n",
       " 'L84055': 4699,\n",
       " 'L84054': 7478,\n",
       " 'L84057': 5903,\n",
       " 'L84056': 8703,\n",
       " 'Y00969': 9418,\n",
       " 'B86002': 12162,\n",
       " 'B86003': 14226,\n",
       " 'B86001': 2373,\n",
       " 'B86006': 13654,\n",
       " 'B86007': 8012,\n",
       " 'B86004': 7680,\n",
       " 'B86005': 4787,\n",
       " 'B86008': 8501,\n",
       " 'B86009': 6314,\n",
       " 'P89612': 2405,\n",
       " 'P84616': 6529,\n",
       " 'A82015': 5904,\n",
       " 'Y00612': 5804,\n",
       " 'F82609': 3859,\n",
       " 'P89613': 2606,\n",
       " 'E84681': 2756,\n",
       " 'E84680': 4036,\n",
       " 'E84685': 8157,\n",
       " 'E84684': 2838,\n",
       " 'N85058': 4617,\n",
       " 'N85059': 5607,\n",
       " 'N85054': 4569,\n",
       " 'N85057': 2117,\n",
       " 'N85051': 7510,\n",
       " 'N85052': 2446,\n",
       " 'N85053': 3421,\n",
       " 'D82023': 12267,\n",
       " 'M83682': 5977,\n",
       " 'M83680': 5423,\n",
       " 'M83681': 7699,\n",
       " 'Y00080': 6381,\n",
       " 'E87013': 9616,\n",
       " 'B85623': 2751,\n",
       " 'B85622': 3842,\n",
       " 'B85621': 2192,\n",
       " 'B85620': 2021,\n",
       " 'N81607': 2608,\n",
       " 'G85711': 3428,\n",
       " 'G85712': 3327,\n",
       " 'G85715': 6542,\n",
       " 'G85716': 4529,\n",
       " 'G85717': 6259,\n",
       " 'A87030': 5079,\n",
       " 'E87011': 7633,\n",
       " 'M88628': 2861,\n",
       " 'M88625': 2343,\n",
       " 'M88624': 4373,\n",
       " 'M88627': 2013,\n",
       " 'M88626': 2092,\n",
       " 'M88620': 2225,\n",
       " 'M88623': 2289,\n",
       " 'Y01964': 4737,\n",
       " 'L84617': 4743,\n",
       " 'L84616': 6018,\n",
       " 'L84615': 3233,\n",
       " 'L84613': 2758,\n",
       " 'L81067': 11253,\n",
       " 'L81066': 11832,\n",
       " 'L81065': 8699,\n",
       " 'L81064': 6839,\n",
       " 'L81063': 11698,\n",
       " 'L81062': 10477,\n",
       " 'L81061': 8144,\n",
       " 'L81060': 13497,\n",
       " 'Y01680': 1445,\n",
       " 'L81069': 7290,\n",
       " 'L81068': 11431,\n",
       " 'C81003': 10784,\n",
       " 'H81019': 9083,\n",
       " 'H81016': 10403,\n",
       " 'H81017': 19000,\n",
       " 'H81015': 11205,\n",
       " 'H81013': 27654,\n",
       " 'H81010': 24890,\n",
       " 'H81011': 7217,\n",
       " 'F81183': 2703,\n",
       " 'F81180': 7467,\n",
       " 'F81181': 13610,\n",
       " 'F81186': 5563,\n",
       " 'F81184': 3652,\n",
       " 'F81185': 4872,\n",
       " 'C81005': 16917,\n",
       " 'G83009': 10045,\n",
       " 'G83002': 8204,\n",
       " 'G83003': 4273,\n",
       " 'G83001': 12485,\n",
       " 'G83006': 13972,\n",
       " 'G83007': 5120,\n",
       " 'G83004': 15257,\n",
       " 'G83005': 9711,\n",
       " 'M85107': 2688,\n",
       " 'M85105': 3715,\n",
       " 'M85103': 7467,\n",
       " 'M85100': 4025,\n",
       " 'A84039': 5128,\n",
       " 'M85043': 4952,\n",
       " 'M89002': 7137,\n",
       " 'C82628': 3130,\n",
       " 'C86625': 1816,\n",
       " 'C86626': 2467,\n",
       " 'C86621': 4810,\n",
       " 'C86623': 1943,\n",
       " 'Y02519': 4780,\n",
       " 'M89001': 3135,\n",
       " 'N83049': 3757,\n",
       " 'Y02658': 1348,\n",
       " 'N83045': 4073,\n",
       " 'M89006': 6285,\n",
       " 'N83047': 3707,\n",
       " 'N83041': 4819,\n",
       " 'Y02653': 3333,\n",
       " 'N83043': 3976,\n",
       " 'M89007': 5604,\n",
       " 'F85036': 3531,\n",
       " 'F85034': 3410,\n",
       " 'F85035': 9190,\n",
       " 'F85032': 8470,\n",
       " 'F85033': 15850,\n",
       " 'F85030': 12847,\n",
       " 'F85031': 8986,\n",
       " 'P81113': 5943,\n",
       " 'P81112': 11527,\n",
       " 'M89005': 7003,\n",
       " 'P81117': 4272,\n",
       " 'P81115': 11920,\n",
       " 'F85039': 3937,\n",
       " 'M85041': 8828,\n",
       " 'Y00560': 4472,\n",
       " 'B83014': 12697,\n",
       " 'B81622': 4063,\n",
       " 'B83015': 8389,\n",
       " 'F81152': 10250,\n",
       " 'B81628': 2963,\n",
       " 'Y02512': 2314,\n",
       " 'Y00561': 2283,\n",
       " 'H85662': 5674,\n",
       " 'H85665': 2388,\n",
       " 'H85664': 2244,\n",
       " 'Y02516': 822,\n",
       " 'F84636': 3339,\n",
       " 'F84635': 7643,\n",
       " 'F84632': 1095,\n",
       " 'F84631': 3710,\n",
       " 'B83019': 6591,\n",
       " 'B82028': 14142,\n",
       " 'B82029': 3145,\n",
       " 'H83623': 2575,\n",
       " 'B82021': 7510,\n",
       " 'B82022': 5552,\n",
       " 'B82023': 6431,\n",
       " 'B82024': 7603,\n",
       " 'H83626': 2221,\n",
       " 'H83625': 4160,\n",
       " 'H83624': 7017,\n",
       " 'N82648': 1444,\n",
       " 'N82641': 7066,\n",
       " 'N82645': 4456,\n",
       " 'N82646': 9571,\n",
       " 'N82647': 2233,\n",
       " 'C84103': 5250,\n",
       " 'C84101': 2664,\n",
       " 'C84106': 8081,\n",
       " 'C84107': 10745,\n",
       " 'C84104': 2077,\n",
       " 'C84105': 6742,\n",
       " 'Y02875': 2485,\n",
       " 'N82024': 12300,\n",
       " 'N82026': 6204,\n",
       " 'N82022': 8579,\n",
       " 'E87670': 1450,\n",
       " 'E87677': 15520,\n",
       " 'F86666': 7417,\n",
       " 'F86664': 8549,\n",
       " 'B86638': 1723,\n",
       " 'B86633': 2096,\n",
       " 'E86034': 2111,\n",
       " 'P81172': 8221,\n",
       " 'E86033': 5691,\n",
       " 'E86030': 11484,\n",
       " 'Y00436': 2307,\n",
       " 'Y00437': 7722,\n",
       " 'J82213': 4478,\n",
       " 'J82212': 4820,\n",
       " 'J82210': 9162,\n",
       " 'J82217': 504,\n",
       " 'J82216': 11487,\n",
       " 'J82215': 6523,\n",
       " 'J82214': 5553,\n",
       " 'A83017': 7483,\n",
       " 'A83016': 11584,\n",
       " 'A83015': 10388,\n",
       " 'A83014': 7907,\n",
       " 'A83013': 11116,\n",
       " 'A83012': 15117,\n",
       " 'A83011': 27603,\n",
       " 'A83010': 14556,\n",
       " 'F81006': 6637,\n",
       " 'F81005': 8452,\n",
       " 'K84082': 7996,\n",
       " 'K84080': 4866,\n",
       " 'P92030': 4149,\n",
       " 'P92031': 3443,\n",
       " 'P92033': 4661,\n",
       " 'P92034': 5887,\n",
       " 'P92035': 3482,\n",
       " 'P92038': 3161,\n",
       " 'P81689': 2013,\n",
       " 'H82026': 15316,\n",
       " 'H82027': 3415,\n",
       " 'H82024': 5720,\n",
       " 'H82025': 15213,\n",
       " 'F84039': 8432,\n",
       " 'F84038': 3654,\n",
       " 'F81049': 10108,\n",
       " 'F81048': 12287,\n",
       " 'F81047': 9498,\n",
       " 'F81046': 4776,\n",
       " 'F81045': 2937,\n",
       " 'F81044': 6916,\n",
       " 'B82622': 1582,\n",
       " 'F81042': 8565,\n",
       " 'F81041': 9952,\n",
       " 'H82029': 10125,\n",
       " 'L85038': 6567,\n",
       " 'L85039': 13034,\n",
       " 'L85030': 9239,\n",
       " 'L85031': 5586,\n",
       " 'L85032': 5973,\n",
       " 'L85033': 12022,\n",
       " 'L85034': 6951,\n",
       " 'L85035': 14673,\n",
       " 'L85036': 5502,\n",
       " 'L85037': 3908,\n",
       " 'G81064': 3936,\n",
       " 'G81065': 6558,\n",
       " 'G81063': 2471,\n",
       " 'G81061': 6229,\n",
       " 'P81686': 2363,\n",
       " 'P81685': 2535,\n",
       " 'K81616': 4497,\n",
       " 'K81610': 11592,\n",
       " 'K81613': 4469,\n",
       " 'G82605': 1903,\n",
       " 'G82604': 9626,\n",
       " 'G82600': 2092,\n",
       " 'P82652': 3337,\n",
       " 'L83643': 2021,\n",
       " 'L83642': 2003,\n",
       " 'L83644': 3763,\n",
       " 'L83647': 2047,\n",
       " 'L83646': 6646,\n",
       " 'L83648': 13704,\n",
       " 'C81028': 7948,\n",
       " 'C81029': 15941,\n",
       " 'L84073': 4227,\n",
       " 'L84072': 4424,\n",
       " 'L84071': 5739,\n",
       " 'L84070': 5709,\n",
       " 'L84077': 4145,\n",
       " 'L84075': 4719,\n",
       " 'E87034': 14025,\n",
       " 'L84078': 4999,\n",
       " 'A83051': 10208,\n",
       " 'K83616': 5227,\n",
       " 'A83050': 11719,\n",
       " 'K83610': 8433,\n",
       " 'K83619': 4229,\n",
       " 'K83618': 6273,\n",
       " 'E87037': 6994,\n",
       " 'B86028': 3373,\n",
       " 'B86029': 5749,\n",
       " 'B86024': 9060,\n",
       " 'B86025': 10006,\n",
       " 'B86020': 10135,\n",
       " 'B86022': 12727,\n",
       " 'B86023': 4022,\n",
       " 'L83096': 8602,\n",
       " 'N84615': 2320,\n",
       " 'Y02464': 2428,\n",
       " 'Y02466': 7667,\n",
       " 'Y02461': 2952,\n",
       " 'Y02463': 6075,\n",
       " 'Y02462': 5140,\n",
       " 'Y02469': 4622,\n",
       " 'N84614': 2603,\n",
       " 'E84669': 2432,\n",
       " 'E84665': 7636,\n",
       " 'E84667': 2286,\n",
       " 'E84661': 3156,\n",
       " 'E84663': 5982,\n",
       " 'Y03135': 9694,\n",
       " 'L83098': 4705,\n",
       " 'N84617': 3699,\n",
       " 'N84611': 2509,\n",
       " 'B81087': 7089,\n",
       " 'B81085': 5056,\n",
       " 'B81084': 7731,\n",
       " 'G82049': 3255,\n",
       " 'G82048': 10616,\n",
       " 'B81081': 3849,\n",
       " 'B81080': 2070,\n",
       " 'B85641': 4776,\n",
       " 'G82044': 7110,\n",
       " 'G82046': 6405,\n",
       " 'B85645': 3029,\n",
       " 'B85644': 2449,\n",
       " 'B81089': 3621,\n",
       " 'B85646': 6016,\n",
       " 'N81626': 3970,\n",
       " 'N81625': 2542,\n",
       " 'N81624': 3475,\n",
       " 'N81623': 3093,\n",
       " 'G81658': 6898,\n",
       " 'G81656': 4265,\n",
       " 'G81651': 3867,\n",
       " 'N81628': 8374,\n",
       " 'P81204': 4803,\n",
       " 'M88600': 2517,\n",
       " 'P83025': 8284,\n",
       " 'P83024': 4558,\n",
       " 'P83027': 2172,\n",
       " 'E85755': 1469,\n",
       " 'P83021': 3735,\n",
       " 'P83020': 5324,\n",
       " 'E85750': 7922,\n",
       " 'Y00351': 9711,\n",
       " 'Y00352': 4938,\n",
       " 'P83029': 6226,\n",
       " 'F81212': 7238,\n",
       " 'F81213': 4438,\n",
       " 'F81210': 5546,\n",
       " 'L81002': 3963,\n",
       " 'F81216': 4247,\n",
       " 'L81004': 18021,\n",
       " 'L81007': 8938,\n",
       " 'L81006': 3864,\n",
       " 'L81009': 9245,\n",
       " 'L81008': 10680,\n",
       " 'F81218': 2100,\n",
       " 'F81219': 4499,\n",
       " 'H81038': 4133,\n",
       " 'H81039': 6795,\n",
       " 'H81030': 12762,\n",
       " 'H81031': 10041,\n",
       " 'H81032': 17852,\n",
       " 'H81033': 11218,\n",
       " 'H81034': 8336,\n",
       " 'H81035': 10825,\n",
       " 'H81036': 11041,\n",
       " 'H81037': 15208,\n",
       " 'A87013': 10119,\n",
       " 'A87012': 7151,\n",
       " 'A87011': 6596,\n",
       " 'A87017': 5412,\n",
       " 'A87016': 9611,\n",
       " 'A87015': 5975,\n",
       " 'A87014': 4292,\n",
       " 'A87019': 5817,\n",
       " 'M87017': 8144,\n",
       " 'M87016': 6205,\n",
       " 'M87015': 8819,\n",
       " 'G83024': 5164,\n",
       " 'G83025': 12993,\n",
       " 'G83026': 7302,\n",
       " 'G83027': 10215,\n",
       " 'J82002': 10495,\n",
       " 'G83021': 10788,\n",
       " 'G83022': 2356,\n",
       " 'J82001': 8752,\n",
       " 'M87013': 10986,\n",
       " 'G83028': 11333,\n",
       " 'G83029': 7331,\n",
       " 'J82008': 7549,\n",
       " 'J82009': 13069,\n",
       " 'M87011': 24681,\n",
       " 'M87010': 8232,\n",
       " 'M85163': 3484,\n",
       " 'M85164': 10290,\n",
       " 'M85167': 19669,\n",
       " 'C86606': 2407,\n",
       " 'C86605': 8700,\n",
       " 'C86609': 2921,\n",
       " 'N83060': 3772,\n",
       " 'Y02671': 12197,\n",
       " 'Y02672': 7291,\n",
       " 'Y02674': 616,\n",
       " 'Y02676': 5834,\n",
       " 'F85010': 4491,\n",
       " 'F85011': 2799,\n",
       " 'F85013': 9534,\n",
       " 'F85014': 15337,\n",
       " 'F85015': 4653,\n",
       " 'F85016': 6224,\n",
       " 'F85017': 6906,\n",
       " 'F85019': 12268,\n",
       " 'M86605': 2986,\n",
       " 'M86604': 2115,\n",
       " 'M86607': 2415,\n",
       " 'Y02583': 9088,\n",
       " 'Y02580': 182,\n",
       " 'Y02581': 3008,\n",
       " 'Y02586': 2606,\n",
       " 'M82046': 3793,\n",
       " 'Y02589': 7080,\n",
       " 'H85649': 10364,\n",
       " 'H85643': 2511,\n",
       " 'M82040': 5028,\n",
       " 'B82042': 8224,\n",
       " 'B82041': 15823,\n",
       " 'B82046': 2756,\n",
       " 'B82047': 23065,\n",
       " 'B82044': 9428,\n",
       " 'B82045': 4263,\n",
       " 'F84658': 6055,\n",
       " 'B82049': 7115,\n",
       " 'N82623': 1908,\n",
       " 'N82621': 2487,\n",
       " 'G82818': 839,\n",
       " 'G82812': 1841,\n",
       " 'G82810': 3754,\n",
       " 'P92623': 1932,\n",
       " 'P81066': 6374,\n",
       " 'Y02857': 4100,\n",
       " 'C84129': 6726,\n",
       " 'C84124': 11634,\n",
       " 'C84125': 3455,\n",
       " 'C84127': 4135,\n",
       " 'C84120': 13874,\n",
       " 'C84122': 7205,\n",
       " 'C84123': 2952,\n",
       " ...}"
      ]
     },
     "execution_count": 124,
     "metadata": {},
     "output_type": "execute_result"
    }
   ],
   "source": [
    "practice_patient_dict"
   ]
  },
  {
   "cell_type": "code",
   "execution_count": 125,
   "metadata": {
    "ExecuteTime": {
     "end_time": "2019-07-24T12:58:08.326279Z",
     "start_time": "2019-07-24T12:58:08.319887Z"
    }
   },
   "outputs": [],
   "source": [
    "common_GPs = set(practice_patient_dict.keys()).intersection(practice_surveypatient_dict.keys())"
   ]
  },
  {
   "cell_type": "code",
   "execution_count": 127,
   "metadata": {
    "ExecuteTime": {
     "end_time": "2019-07-24T12:58:13.229499Z",
     "start_time": "2019-07-24T12:58:13.226139Z"
    }
   },
   "outputs": [],
   "source": [
    "# common_GPs"
   ]
  },
  {
   "cell_type": "code",
   "execution_count": 129,
   "metadata": {
    "ExecuteTime": {
     "end_time": "2019-07-24T12:58:30.015152Z",
     "start_time": "2019-07-24T12:58:30.000820Z"
    }
   },
   "outputs": [
    {
     "data": {
      "text/plain": [
       "(0.9563669330721694, 0.0)"
      ]
     },
     "execution_count": 129,
     "metadata": {},
     "output_type": "execute_result"
    }
   ],
   "source": [
    "pearsonr([practice_surveypatient_dict[k] for k in common_GPs],[practice_patient_dict[k] for k in common_GPs])"
   ]
  },
  {
   "cell_type": "code",
   "execution_count": 97,
   "metadata": {
    "ExecuteTime": {
     "end_time": "2019-07-24T12:04:37.721188Z",
     "start_time": "2019-07-24T12:04:37.670560Z"
    }
   },
   "outputs": [
    {
     "data": {
      "text/html": [
       "<div>\n",
       "<style scoped>\n",
       "    .dataframe tbody tr th:only-of-type {\n",
       "        vertical-align: middle;\n",
       "    }\n",
       "\n",
       "    .dataframe tbody tr th {\n",
       "        vertical-align: top;\n",
       "    }\n",
       "\n",
       "    .dataframe thead th {\n",
       "        text-align: right;\n",
       "    }\n",
       "</style>\n",
       "<table border=\"1\" class=\"dataframe\">\n",
       "  <thead>\n",
       "    <tr style=\"text-align: right;\">\n",
       "      <th></th>\n",
       "      <th>PRACTICE_CODE</th>\n",
       "      <th>POSTCODE</th>\n",
       "      <th>PARENT_ORGANISATION_CODE</th>\n",
       "      <th>NHSE_AREA_TEAM</th>\n",
       "      <th>NHSE_REGION</th>\n",
       "      <th>Total_All</th>\n",
       "      <th>Total_Male</th>\n",
       "      <th>Total_Female</th>\n",
       "      <th>MALE_0_1</th>\n",
       "      <th>MALE_1_2</th>\n",
       "      <th>...</th>\n",
       "      <th>FEMALE_86_87</th>\n",
       "      <th>FEMALE_87_88</th>\n",
       "      <th>FEMALE_88_89</th>\n",
       "      <th>FEMALE_89_90</th>\n",
       "      <th>FEMALE_90_91</th>\n",
       "      <th>FEMALE_91_92</th>\n",
       "      <th>FEMALE_92_93</th>\n",
       "      <th>FEMALE_93_94</th>\n",
       "      <th>FEMALE_94_95</th>\n",
       "      <th>Female_95+</th>\n",
       "    </tr>\n",
       "  </thead>\n",
       "  <tbody>\n",
       "    <tr>\n",
       "      <th>0</th>\n",
       "      <td>A81001</td>\n",
       "      <td>TS18 1HU</td>\n",
       "      <td>00K</td>\n",
       "      <td>Q45</td>\n",
       "      <td>Y54</td>\n",
       "      <td>4180</td>\n",
       "      <td>2036</td>\n",
       "      <td>2144</td>\n",
       "      <td>23</td>\n",
       "      <td>25</td>\n",
       "      <td>...</td>\n",
       "      <td>13</td>\n",
       "      <td>8</td>\n",
       "      <td>8</td>\n",
       "      <td>4</td>\n",
       "      <td>6</td>\n",
       "      <td>4</td>\n",
       "      <td>4</td>\n",
       "      <td>5</td>\n",
       "      <td>7</td>\n",
       "      <td>6</td>\n",
       "    </tr>\n",
       "    <tr>\n",
       "      <th>1</th>\n",
       "      <td>A81002</td>\n",
       "      <td>TS18 2AW</td>\n",
       "      <td>00K</td>\n",
       "      <td>Q45</td>\n",
       "      <td>Y54</td>\n",
       "      <td>19621</td>\n",
       "      <td>9665</td>\n",
       "      <td>9956</td>\n",
       "      <td>77</td>\n",
       "      <td>114</td>\n",
       "      <td>...</td>\n",
       "      <td>56</td>\n",
       "      <td>43</td>\n",
       "      <td>40</td>\n",
       "      <td>33</td>\n",
       "      <td>38</td>\n",
       "      <td>23</td>\n",
       "      <td>18</td>\n",
       "      <td>11</td>\n",
       "      <td>11</td>\n",
       "      <td>26</td>\n",
       "    </tr>\n",
       "    <tr>\n",
       "      <th>2</th>\n",
       "      <td>A81003</td>\n",
       "      <td>TS26 8DB</td>\n",
       "      <td>00K</td>\n",
       "      <td>Q45</td>\n",
       "      <td>Y54</td>\n",
       "      <td>3470</td>\n",
       "      <td>1830</td>\n",
       "      <td>1640</td>\n",
       "      <td>16</td>\n",
       "      <td>16</td>\n",
       "      <td>...</td>\n",
       "      <td>4</td>\n",
       "      <td>2</td>\n",
       "      <td>2</td>\n",
       "      <td>5</td>\n",
       "      <td>7</td>\n",
       "      <td>2</td>\n",
       "      <td>3</td>\n",
       "      <td>0</td>\n",
       "      <td>1</td>\n",
       "      <td>2</td>\n",
       "    </tr>\n",
       "    <tr>\n",
       "      <th>3</th>\n",
       "      <td>A81004</td>\n",
       "      <td>TS1 3BE</td>\n",
       "      <td>00M</td>\n",
       "      <td>Q45</td>\n",
       "      <td>Y54</td>\n",
       "      <td>9078</td>\n",
       "      <td>4694</td>\n",
       "      <td>4384</td>\n",
       "      <td>33</td>\n",
       "      <td>42</td>\n",
       "      <td>...</td>\n",
       "      <td>24</td>\n",
       "      <td>17</td>\n",
       "      <td>10</td>\n",
       "      <td>19</td>\n",
       "      <td>15</td>\n",
       "      <td>10</td>\n",
       "      <td>7</td>\n",
       "      <td>5</td>\n",
       "      <td>4</td>\n",
       "      <td>20</td>\n",
       "    </tr>\n",
       "    <tr>\n",
       "      <th>4</th>\n",
       "      <td>A81005</td>\n",
       "      <td>TS14 7DJ</td>\n",
       "      <td>00M</td>\n",
       "      <td>Q45</td>\n",
       "      <td>Y54</td>\n",
       "      <td>7918</td>\n",
       "      <td>3851</td>\n",
       "      <td>4067</td>\n",
       "      <td>33</td>\n",
       "      <td>34</td>\n",
       "      <td>...</td>\n",
       "      <td>26</td>\n",
       "      <td>21</td>\n",
       "      <td>18</td>\n",
       "      <td>10</td>\n",
       "      <td>17</td>\n",
       "      <td>12</td>\n",
       "      <td>7</td>\n",
       "      <td>9</td>\n",
       "      <td>6</td>\n",
       "      <td>15</td>\n",
       "    </tr>\n",
       "  </tbody>\n",
       "</table>\n",
       "<p>5 rows × 200 columns</p>\n",
       "</div>"
      ],
      "text/plain": [
       "  PRACTICE_CODE  POSTCODE PARENT_ORGANISATION_CODE NHSE_AREA_TEAM NHSE_REGION  \\\n",
       "0        A81001  TS18 1HU                      00K            Q45         Y54   \n",
       "1        A81002  TS18 2AW                      00K            Q45         Y54   \n",
       "2        A81003  TS26 8DB                      00K            Q45         Y54   \n",
       "3        A81004   TS1 3BE                      00M            Q45         Y54   \n",
       "4        A81005  TS14 7DJ                      00M            Q45         Y54   \n",
       "\n",
       "   Total_All  Total_Male  Total_Female  MALE_0_1  MALE_1_2     ...      \\\n",
       "0       4180        2036          2144        23        25     ...       \n",
       "1      19621        9665          9956        77       114     ...       \n",
       "2       3470        1830          1640        16        16     ...       \n",
       "3       9078        4694          4384        33        42     ...       \n",
       "4       7918        3851          4067        33        34     ...       \n",
       "\n",
       "   FEMALE_86_87  FEMALE_87_88  FEMALE_88_89  FEMALE_89_90  FEMALE_90_91  \\\n",
       "0            13             8             8             4             6   \n",
       "1            56            43            40            33            38   \n",
       "2             4             2             2             5             7   \n",
       "3            24            17            10            19            15   \n",
       "4            26            21            18            10            17   \n",
       "\n",
       "   FEMALE_91_92  FEMALE_92_93  FEMALE_93_94  FEMALE_94_95  Female_95+  \n",
       "0             4             4             5             7           6  \n",
       "1            23            18            11            11          26  \n",
       "2             2             3             0             1           2  \n",
       "3            10             7             5             4          20  \n",
       "4            12             7             9             6          15  \n",
       "\n",
       "[5 rows x 200 columns]"
      ]
     },
     "execution_count": 97,
     "metadata": {},
     "output_type": "execute_result"
    }
   ],
   "source": [
    "patients.head()"
   ]
  },
  {
   "cell_type": "code",
   "execution_count": 130,
   "metadata": {
    "ExecuteTime": {
     "end_time": "2019-07-24T12:59:41.728147Z",
     "start_time": "2019-07-24T12:59:30.732095Z"
    }
   },
   "outputs": [],
   "source": [
    "ward_patients = {}\n",
    "for k in GP_postcodes_long:\n",
    "    postCode = GP_postcodes_long[k]\n",
    "    for ward in londonWardPostcode:\n",
    "        if postCode in londonWardPostcode[ward]:\n",
    "            try:\n",
    "                if ward not in ward_patients:\n",
    "                    ward_patients[ward] = practice_surveypatient_dict[k]\n",
    "                else:\n",
    "                    ward_patients[ward] += practice_surveypatient_dict[k]\n",
    "            except:\n",
    "                continue\n",
    "\n",
    "ward_patients_filtered = {k: ward_patients[k] for k in ward_patients if not np.isnan(ward_patients[k] )}"
   ]
  },
  {
   "cell_type": "code",
   "execution_count": 146,
   "metadata": {
    "ExecuteTime": {
     "end_time": "2019-07-26T15:19:56.900794Z",
     "start_time": "2019-07-26T15:19:56.891749Z"
    }
   },
   "outputs": [
    {
     "name": "stdout",
     "output_type": "stream",
     "text": [
      "Stored 'ward_patients_filtered' (dict)\n"
     ]
    }
   ],
   "source": [
    "%store ward_patients_filtered"
   ]
  },
  {
   "cell_type": "code",
   "execution_count": 131,
   "metadata": {
    "ExecuteTime": {
     "end_time": "2019-07-24T12:59:41.735949Z",
     "start_time": "2019-07-24T12:59:41.730057Z"
    }
   },
   "outputs": [
    {
     "data": {
      "text/plain": [
       "(0.25623315117718093, 7.374274831030356e-08)"
      ]
     },
     "execution_count": 131,
     "metadata": {},
     "output_type": "execute_result"
    }
   ],
   "source": [
    "pearsonr([ward_patients_gt[k] for k in ward_patients_filtered],[ward_patients_filtered[k] for k in ward_patients_filtered])"
   ]
  },
  {
   "cell_type": "code",
   "execution_count": 132,
   "metadata": {
    "ExecuteTime": {
     "end_time": "2019-07-24T12:59:47.263335Z",
     "start_time": "2019-07-24T12:59:47.257964Z"
    }
   },
   "outputs": [
    {
     "data": {
      "text/plain": [
       "429"
      ]
     },
     "execution_count": 132,
     "metadata": {},
     "output_type": "execute_result"
    }
   ],
   "source": [
    "len(ward_patients)"
   ]
  },
  {
   "cell_type": "code",
   "execution_count": 133,
   "metadata": {
    "ExecuteTime": {
     "end_time": "2019-07-24T12:59:55.917734Z",
     "start_time": "2019-07-24T12:59:55.908438Z"
    }
   },
   "outputs": [],
   "source": [
    "filteredGPs = list(set(diabetes_GP.keys()).intersection(practice_surveypatient_dict.keys()).intersection(GP_postcodes_long.keys()))\n"
   ]
  },
  {
   "cell_type": "code",
   "execution_count": 134,
   "metadata": {
    "ExecuteTime": {
     "end_time": "2019-07-24T12:59:56.633524Z",
     "start_time": "2019-07-24T12:59:56.629781Z"
    }
   },
   "outputs": [],
   "source": [
    "# for index, row in  luca_data.iterrows():\n",
    "#     if row['osward'] in ward_patients:\n",
    "#         print ward_patients[row['osward']] , row['gp_patients']"
   ]
  },
  {
   "cell_type": "code",
   "execution_count": 136,
   "metadata": {
    "ExecuteTime": {
     "end_time": "2019-07-24T13:01:26.196140Z",
     "start_time": "2019-07-24T13:01:20.014460Z"
    }
   },
   "outputs": [],
   "source": [
    "ward_diabetes_prevalence= {}\n",
    "ward_gp_prevalence = {}\n",
    "for ward in ward_patients_filtered:\n",
    "    for k in filteredGPs:\n",
    "        postCode = GP_postcodes_long[k]\n",
    "        if ward not in ward_gp_prevalence:\n",
    "            ward_gp_prevalence[ward] = []\n",
    "        if postCode in londonWardPostcode[ward]:\n",
    "            ward_gp_prevalence[ward].append(float(diabetes_GP[k])*float(practice_surveypatient_dict[k]))\n",
    "for ward in ward_gp_prevalence:\n",
    "    ward_diabetes_prevalence[ward] = float(np.sum(ward_gp_prevalence[ward]))/float(ward_patients_filtered[ward]+1)\n",
    "\n",
    "\n",
    "    "
   ]
  },
  {
   "cell_type": "code",
   "execution_count": 137,
   "metadata": {
    "ExecuteTime": {
     "end_time": "2019-07-24T13:01:27.514596Z",
     "start_time": "2019-07-24T13:01:27.314658Z"
    }
   },
   "outputs": [
    {
     "data": {
      "text/plain": [
       "(array([ 10.,  58., 122., 116.,  83.,  29.,   8.,   1.,   1.,   1.]),\n",
       " array([0.13233129, 0.15126002, 0.17018875, 0.18911748, 0.20804621,\n",
       "        0.22697493, 0.24590366, 0.26483239, 0.28376112, 0.30268985,\n",
       "        0.32161857]),\n",
       " <a list of 10 Patch objects>)"
      ]
     },
     "execution_count": 137,
     "metadata": {},
     "output_type": "execute_result"
    },
    {
     "data": {
      "image/png": "[encoded data removed]",
      "text/plain": [
       "<matplotlib.figure.Figure at 0x7f8328c54150>"
      ]
     },
     "metadata": {},
     "output_type": "display_data"
    }
   ],
   "source": [
    "plt.hist(ward_diabetes_prevalence.values())"
   ]
  },
  {
   "cell_type": "code",
   "execution_count": 138,
   "metadata": {
    "ExecuteTime": {
     "end_time": "2019-07-24T13:01:28.229921Z",
     "start_time": "2019-07-24T13:01:28.224549Z"
    }
   },
   "outputs": [
    {
     "data": {
      "text/plain": [
       "429"
      ]
     },
     "execution_count": 138,
     "metadata": {},
     "output_type": "execute_result"
    }
   ],
   "source": [
    "len(ward_diabetes_prevalence)"
   ]
  },
  {
   "cell_type": "code",
   "execution_count": 139,
   "metadata": {
    "ExecuteTime": {
     "end_time": "2019-07-24T13:01:31.819698Z",
     "start_time": "2019-07-24T13:01:31.816103Z"
    }
   },
   "outputs": [],
   "source": [
    "from sklearn import preprocessing"
   ]
  },
  {
   "cell_type": "code",
   "execution_count": null,
   "metadata": {
    "ExecuteTime": {
     "end_time": "2019-07-24T12:18:11.762279Z",
     "start_time": "2019-07-24T12:18:11.736013Z"
    }
   },
   "outputs": [],
   "source": []
  },
  {
   "cell_type": "code",
   "execution_count": 144,
   "metadata": {
    "ExecuteTime": {
     "end_time": "2019-07-24T13:02:13.413548Z",
     "start_time": "2019-07-24T13:02:13.402968Z"
    }
   },
   "outputs": [
    {
     "data": {
      "text/plain": [
       "(0.33145630519455677, 1.8501453383845056e-12)"
      ]
     },
     "execution_count": 144,
     "metadata": {},
     "output_type": "execute_result"
    }
   ],
   "source": [
    "pearsonr([ward_gt[k] for k in ward_diabetes_prevalence],[ward_diabetes_prevalence[k] for k in ward_diabetes_prevalence])"
   ]
  },
  {
   "cell_type": "code",
   "execution_count": null,
   "metadata": {},
   "outputs": [],
   "source": []
  },
  {
   "cell_type": "code",
   "execution_count": null,
   "metadata": {},
   "outputs": [],
   "source": []
  }
 ],
 "metadata": {
  "kernelspec": {
   "display_name": "Python 2",
   "language": "python",
   "name": "python2"
  },
  "language_info": {
   "codemirror_mode": {
    "name": "ipython",
    "version": 2
   },
   "file_extension": ".py",
   "mimetype": "text/x-python",
   "name": "python",
   "nbconvert_exporter": "python",
   "pygments_lexer": "ipython2",
   "version": "2.7.12"
  }
 },
 "nbformat": 4,
 "nbformat_minor": 2
}
