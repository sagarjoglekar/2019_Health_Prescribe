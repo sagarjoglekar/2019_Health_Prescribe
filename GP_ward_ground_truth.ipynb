{
 "cells": [
  {
   "cell_type": "code",
   "execution_count": 1,
   "metadata": {
    "ExecuteTime": {
     "end_time": "2019-07-24T10:53:12.164820Z",
     "start_time": "2019-07-24T10:53:11.197431Z"
    }
   },
   "outputs": [],
   "source": [
    "import pandas as pd\n",
    "import geopandas as gp \n",
    "import json\n",
    "from glob import glob\n",
    "import numpy as np\n",
    "import matplotlib.pyplot as plt\n",
    "import seaborn as sns\n",
    "\n",
    "sns.set(rc={'figure.figsize':(12,8)})\n",
    "%matplotlib inline\n",
    "from tqdm import tqdm\n",
    "import glob\n",
    "import numpy as np\n",
    "from scipy.stats import pearsonr\n",
    "from scipy.stats import linregress"
   ]
  },
  {
   "cell_type": "code",
   "execution_count": 2,
   "metadata": {
    "ExecuteTime": {
     "end_time": "2019-07-24T11:08:20.913191Z",
     "start_time": "2019-07-24T11:08:20.907352Z"
    }
   },
   "outputs": [
    {
     "name": "stdout",
     "output_type": "stream",
     "text": [
      "['../BL_Work/openPrescribe/serialized/201603.gz', '../BL_Work/openPrescribe/serialized/201601.gz', '../BL_Work/openPrescribe/serialized/201602.gz', '../BL_Work/openPrescribe/serialized/201008.gz', '../BL_Work/openPrescribe/serialized/201012.gz', '../BL_Work/openPrescribe/serialized/201011.gz', '../BL_Work/openPrescribe/serialized/201009.gz', '../BL_Work/openPrescribe/serialized/201010.gz']\n"
     ]
    }
   ],
   "source": [
    "files = glob.glob('../BL_Work/openPrescribe/serialized/*.gz')\n",
    "print files"
   ]
  },
  {
   "cell_type": "code",
   "execution_count": 3,
   "metadata": {
    "ExecuteTime": {
     "end_time": "2019-07-24T11:10:10.155600Z",
     "start_time": "2019-07-24T11:08:49.326830Z"
    }
   },
   "outputs": [],
   "source": [
    "pdp = pd.read_csv(files[-1],compression='gzip')"
   ]
  },
  {
   "cell_type": "code",
   "execution_count": 4,
   "metadata": {
    "ExecuteTime": {
     "end_time": "2019-07-24T11:11:05.779461Z",
     "start_time": "2019-07-24T11:10:10.201145Z"
    }
   },
   "outputs": [],
   "source": [
    "GP_postcodes_long = {}\n",
    "for name , group in pdp.groupby('2'):\n",
    "    postcode = list(set(group['10']))\n",
    "    GP_postcodes_long[name] = str(postcode[0]).strip()"
   ]
  },
  {
   "cell_type": "code",
   "execution_count": 5,
   "metadata": {
    "ExecuteTime": {
     "end_time": "2019-07-24T10:45:52.597846Z",
     "start_time": "2019-07-24T10:45:49.859196Z"
    }
   },
   "outputs": [
    {
     "name": "stderr",
     "output_type": "stream",
     "text": [
      "/home/sagar/anaconda3/envs/env_py2/lib/python2.7/site-packages/IPython/core/interactiveshell.py:2714: DtypeWarning: Columns (5,8,11) have mixed types. Specify dtype option on import or set low_memory=False.\n",
      "  interactivity=interactivity, compiler=compiler, result=result)\n"
     ]
    }
   ],
   "source": [
    "ward_df = pd.read_csv('../BL_Work/pcd11_par11_wd11_lad11_ew_lu.csv')"
   ]
  },
  {
   "cell_type": "code",
   "execution_count": 6,
   "metadata": {
    "ExecuteTime": {
     "end_time": "2019-07-24T10:45:56.302572Z",
     "start_time": "2019-07-24T10:45:56.253853Z"
    }
   },
   "outputs": [
    {
     "data": {
      "text/html": [
       "<div>\n",
       "<style scoped>\n",
       "    .dataframe tbody tr th:only-of-type {\n",
       "        vertical-align: middle;\n",
       "    }\n",
       "\n",
       "    .dataframe tbody tr th {\n",
       "        vertical-align: top;\n",
       "    }\n",
       "\n",
       "    .dataframe thead th {\n",
       "        text-align: right;\n",
       "    }\n",
       "</style>\n",
       "<table border=\"1\" class=\"dataframe\">\n",
       "  <thead>\n",
       "    <tr style=\"text-align: right;\">\n",
       "      <th></th>\n",
       "      <th>pcd7</th>\n",
       "      <th>pcd8</th>\n",
       "      <th>pcds</th>\n",
       "      <th>par11cd</th>\n",
       "      <th>par11nm</th>\n",
       "      <th>par11nmw</th>\n",
       "      <th>wd11cd</th>\n",
       "      <th>wd11nm</th>\n",
       "      <th>wd11nmw</th>\n",
       "      <th>lad11cd</th>\n",
       "      <th>lad11nm</th>\n",
       "      <th>lad11nmw</th>\n",
       "    </tr>\n",
       "  </thead>\n",
       "  <tbody>\n",
       "    <tr>\n",
       "      <th>0</th>\n",
       "      <td>AL1 1AG</td>\n",
       "      <td>AL1  1AG</td>\n",
       "      <td>AL1 1AG</td>\n",
       "      <td>NaN</td>\n",
       "      <td>NaN</td>\n",
       "      <td>NaN</td>\n",
       "      <td>E05004802</td>\n",
       "      <td>Sopwell</td>\n",
       "      <td>NaN</td>\n",
       "      <td>E07000100</td>\n",
       "      <td>St Albans</td>\n",
       "      <td>NaN</td>\n",
       "    </tr>\n",
       "    <tr>\n",
       "      <th>1</th>\n",
       "      <td>AL1 1AJ</td>\n",
       "      <td>AL1  1AJ</td>\n",
       "      <td>AL1 1AJ</td>\n",
       "      <td>NaN</td>\n",
       "      <td>NaN</td>\n",
       "      <td>NaN</td>\n",
       "      <td>E05004802</td>\n",
       "      <td>Sopwell</td>\n",
       "      <td>NaN</td>\n",
       "      <td>E07000100</td>\n",
       "      <td>St Albans</td>\n",
       "      <td>NaN</td>\n",
       "    </tr>\n",
       "    <tr>\n",
       "      <th>2</th>\n",
       "      <td>AL1 1AR</td>\n",
       "      <td>AL1  1AR</td>\n",
       "      <td>AL1 1AR</td>\n",
       "      <td>NaN</td>\n",
       "      <td>NaN</td>\n",
       "      <td>NaN</td>\n",
       "      <td>E05004789</td>\n",
       "      <td>Cunningham</td>\n",
       "      <td>NaN</td>\n",
       "      <td>E07000100</td>\n",
       "      <td>St Albans</td>\n",
       "      <td>NaN</td>\n",
       "    </tr>\n",
       "    <tr>\n",
       "      <th>3</th>\n",
       "      <td>AL1 1AS</td>\n",
       "      <td>AL1  1AS</td>\n",
       "      <td>AL1 1AS</td>\n",
       "      <td>NaN</td>\n",
       "      <td>NaN</td>\n",
       "      <td>NaN</td>\n",
       "      <td>E05004799</td>\n",
       "      <td>St Peters</td>\n",
       "      <td>NaN</td>\n",
       "      <td>E07000100</td>\n",
       "      <td>St Albans</td>\n",
       "      <td>NaN</td>\n",
       "    </tr>\n",
       "    <tr>\n",
       "      <th>4</th>\n",
       "      <td>AL1 1BH</td>\n",
       "      <td>AL1  1BH</td>\n",
       "      <td>AL1 1BH</td>\n",
       "      <td>NaN</td>\n",
       "      <td>NaN</td>\n",
       "      <td>NaN</td>\n",
       "      <td>E05004802</td>\n",
       "      <td>Sopwell</td>\n",
       "      <td>NaN</td>\n",
       "      <td>E07000100</td>\n",
       "      <td>St Albans</td>\n",
       "      <td>NaN</td>\n",
       "    </tr>\n",
       "  </tbody>\n",
       "</table>\n",
       "</div>"
      ],
      "text/plain": [
       "      pcd7      pcd8     pcds par11cd par11nm par11nmw     wd11cd      wd11nm  \\\n",
       "0  AL1 1AG  AL1  1AG  AL1 1AG     NaN     NaN      NaN  E05004802     Sopwell   \n",
       "1  AL1 1AJ  AL1  1AJ  AL1 1AJ     NaN     NaN      NaN  E05004802     Sopwell   \n",
       "2  AL1 1AR  AL1  1AR  AL1 1AR     NaN     NaN      NaN  E05004789  Cunningham   \n",
       "3  AL1 1AS  AL1  1AS  AL1 1AS     NaN     NaN      NaN  E05004799   St Peters   \n",
       "4  AL1 1BH  AL1  1BH  AL1 1BH     NaN     NaN      NaN  E05004802     Sopwell   \n",
       "\n",
       "  wd11nmw    lad11cd    lad11nm lad11nmw  \n",
       "0     NaN  E07000100  St Albans      NaN  \n",
       "1     NaN  E07000100  St Albans      NaN  \n",
       "2     NaN  E07000100  St Albans      NaN  \n",
       "3     NaN  E07000100  St Albans      NaN  \n",
       "4     NaN  E07000100  St Albans      NaN  "
      ]
     },
     "execution_count": 6,
     "metadata": {},
     "output_type": "execute_result"
    }
   ],
   "source": [
    "ward_df.head()"
   ]
  },
  {
   "cell_type": "code",
   "execution_count": 7,
   "metadata": {
    "ExecuteTime": {
     "end_time": "2019-07-24T10:48:41.773426Z",
     "start_time": "2019-07-24T10:48:39.672881Z"
    }
   },
   "outputs": [],
   "source": [
    "ward_postcode_map = {}\n",
    "for name, group in ward_df.groupby('wd11cd'):\n",
    "    ward_postcode_map[name] = list(group['pcds'])\n",
    "    "
   ]
  },
  {
   "cell_type": "code",
   "execution_count": 28,
   "metadata": {
    "ExecuteTime": {
     "end_time": "2019-07-24T10:49:39.158880Z",
     "start_time": "2019-07-24T10:49:39.075870Z"
    }
   },
   "outputs": [
    {
     "name": "stdout",
     "output_type": "stream",
     "text": [
      "no stored variable presc_Disease_prevalence\n"
     ]
    }
   ],
   "source": [
    "%store -r presc_Disease_prevalence"
   ]
  },
  {
   "cell_type": "code",
   "execution_count": 18,
   "metadata": {
    "ExecuteTime": {
     "end_time": "2019-07-24T10:51:05.426706Z",
     "start_time": "2019-07-24T10:51:05.419647Z"
    }
   },
   "outputs": [],
   "source": [
    "luca_data = pd.read_csv('../BL_Work/diabetes_estimates_osward_2016.csv')"
   ]
  },
  {
   "cell_type": "code",
   "execution_count": 19,
   "metadata": {
    "ExecuteTime": {
     "end_time": "2019-07-24T12:19:19.365310Z",
     "start_time": "2019-07-24T12:19:19.218151Z"
    }
   },
   "outputs": [],
   "source": [
    "ward_gt = {}\n",
    "ward_luca_predict = {}\n",
    "ward_patients_gt = {}\n",
    "for index , row in luca_data.iterrows():\n",
    "    ward_gt[row['osward']] = float(row['gp_patients_diabetes'])\n",
    "    ward_patients_gt[row['osward']] = float(row['gp_patients'])\n",
    "    ward_luca_predict[row['osward']] = row['diabetes_prevalence_estimated_from_prescriptions']"
   ]
  },
  {
   "cell_type": "code",
   "execution_count": 20,
   "metadata": {
    "ExecuteTime": {
     "end_time": "2019-07-24T12:19:48.192794Z",
     "start_time": "2019-07-24T12:19:47.926153Z"
    }
   },
   "outputs": [
    {
     "data": {
      "text/plain": [
       "(array([  7.,  68., 158., 164., 108.,  53.,  31.,  12.,   0.,   2.]),\n",
       " array([   5. ,  220.2,  435.4,  650.6,  865.8, 1081. , 1296.2, 1511.4,\n",
       "        1726.6, 1941.8, 2157. ]),\n",
       " <a list of 10 Patch objects>)"
      ]
     },
     "execution_count": 20,
     "metadata": {},
     "output_type": "execute_result"
    },
    {
     "data": {
      "image/png": "[encoded data removed]",
      "text/plain": [
       "<Figure size 432x288 with 1 Axes>"
      ]
     },
     "metadata": {
      "needs_background": "light"
     },
     "output_type": "display_data"
    }
   ],
   "source": [
    "plt.hist(ward_gt.values())"
   ]
  },
  {
   "cell_type": "code",
   "execution_count": 21,
   "metadata": {
    "ExecuteTime": {
     "end_time": "2019-07-24T12:19:02.851775Z",
     "start_time": "2019-07-24T12:19:02.844761Z"
    }
   },
   "outputs": [
    {
     "data": {
      "text/plain": [
       "(0.7203983722552026, 1.3988923480224664e-97)"
      ]
     },
     "execution_count": 21,
     "metadata": {},
     "output_type": "execute_result"
    }
   ],
   "source": [
    "pearsonr([ward_gt[k] for k in ward_gt],[ward_luca_predict[k] for k in ward_gt])"
   ]
  },
  {
   "cell_type": "code",
   "execution_count": 22,
   "metadata": {
    "ExecuteTime": {
     "end_time": "2019-07-24T11:40:26.967190Z",
     "start_time": "2019-07-24T11:40:26.963730Z"
    }
   },
   "outputs": [],
   "source": [
    "# ward_postcode_map"
   ]
  },
  {
   "cell_type": "code",
   "execution_count": 23,
   "metadata": {
    "ExecuteTime": {
     "end_time": "2019-07-24T11:40:27.527567Z",
     "start_time": "2019-07-24T11:40:27.523125Z"
    }
   },
   "outputs": [],
   "source": [
    "londonWardPostcode = {k : ward_postcode_map[k] for k in ward_gt if k in ward_postcode_map}"
   ]
  },
  {
   "cell_type": "code",
   "execution_count": 24,
   "metadata": {
    "ExecuteTime": {
     "end_time": "2019-07-24T11:40:29.058930Z",
     "start_time": "2019-07-24T11:40:29.053167Z"
    }
   },
   "outputs": [
    {
     "data": {
      "text/plain": [
       "(540, 603)"
      ]
     },
     "execution_count": 24,
     "metadata": {},
     "output_type": "execute_result"
    }
   ],
   "source": [
    "len(londonWardPostcode), len(ward_gt)"
   ]
  },
  {
   "cell_type": "code",
   "execution_count": 27,
   "metadata": {
    "ExecuteTime": {
     "end_time": "2019-07-24T11:40:29.532112Z",
     "start_time": "2019-07-24T11:40:29.528367Z"
    }
   },
   "outputs": [
    {
     "ename": "NameError",
     "evalue": "name 'presc_Disease_prevalence' is not defined",
     "output_type": "error",
     "traceback": [
      "\u001b[0;31m\u001b[0m",
      "\u001b[0;31mNameError\u001b[0mTraceback (most recent call last)",
      "\u001b[0;32m<ipython-input-27-9d2134a27a9c>\u001b[0m in \u001b[0;36m<module>\u001b[0;34m()\u001b[0m\n\u001b[0;32m----> 1\u001b[0;31m \u001b[0mdiabetes_GP\u001b[0m \u001b[0;34m=\u001b[0m \u001b[0mpresc_Disease_prevalence\u001b[0m\u001b[0;34m[\u001b[0m\u001b[0;34m'201009'\u001b[0m\u001b[0;34m]\u001b[0m\u001b[0;34m[\u001b[0m\u001b[0;34m'diabetes'\u001b[0m\u001b[0;34m]\u001b[0m\u001b[0;34m\u001b[0m\u001b[0m\n\u001b[0m",
      "\u001b[0;31mNameError\u001b[0m: name 'presc_Disease_prevalence' is not defined"
     ]
    }
   ],
   "source": [
    "diabetes_GP = presc_Disease_prevalence['201009']['diabetes']"
   ]
  },
  {
   "cell_type": "code",
   "execution_count": 26,
   "metadata": {
    "ExecuteTime": {
     "end_time": "2019-07-24T11:40:30.233582Z",
     "start_time": "2019-07-24T11:40:30.230497Z"
    }
   },
   "outputs": [],
   "source": [
    "# %store -r GP_postcodes"
   ]
  },
  {
   "cell_type": "code",
   "execution_count": null,
   "metadata": {
    "ExecuteTime": {
     "end_time": "2019-07-24T12:56:00.970401Z",
     "start_time": "2019-07-24T12:56:00.196224Z"
    }
   },
   "outputs": [],
   "source": [
    "patients = pd.read_csv('../BL_Work/grondTruths/GP_SYOA.csv')\n",
    "practice_patient_dict = {}\n",
    "for index , row in patients.iterrows():\n",
    "    practice_patient_dict[row['PRACTICE_CODE']] = row['Total_All']"
   ]
  },
  {
   "cell_type": "code",
   "execution_count": null,
   "metadata": {
    "ExecuteTime": {
     "end_time": "2019-07-24T12:56:02.324180Z",
     "start_time": "2019-07-24T12:56:01.760271Z"
    }
   },
   "outputs": [],
   "source": [
    "patients_survey = pd.read_csv('../BL_Work/prevalence/DM.csv')\n",
    "practice_surveypatient_dict = {}\n",
    "for index , row in patients_survey.iterrows():\n",
    "    practice_surveypatient_dict[row['practice_code']] = row['survey_takers']\n"
   ]
  },
  {
   "cell_type": "code",
   "execution_count": null,
   "metadata": {
    "ExecuteTime": {
     "end_time": "2019-07-24T12:57:53.266384Z",
     "start_time": "2019-07-24T12:57:53.198377Z"
    }
   },
   "outputs": [],
   "source": [
    "practice_patient_dict"
   ]
  },
  {
   "cell_type": "code",
   "execution_count": null,
   "metadata": {
    "ExecuteTime": {
     "end_time": "2019-07-24T12:58:08.326279Z",
     "start_time": "2019-07-24T12:58:08.319887Z"
    }
   },
   "outputs": [],
   "source": [
    "common_GPs = set(practice_patient_dict.keys()).intersection(practice_surveypatient_dict.keys())"
   ]
  },
  {
   "cell_type": "code",
   "execution_count": null,
   "metadata": {
    "ExecuteTime": {
     "end_time": "2019-07-24T12:58:13.229499Z",
     "start_time": "2019-07-24T12:58:13.226139Z"
    }
   },
   "outputs": [],
   "source": [
    "# common_GPs"
   ]
  },
  {
   "cell_type": "code",
   "execution_count": null,
   "metadata": {
    "ExecuteTime": {
     "end_time": "2019-07-24T12:58:30.015152Z",
     "start_time": "2019-07-24T12:58:30.000820Z"
    }
   },
   "outputs": [],
   "source": [
    "pearsonr([practice_surveypatient_dict[k] for k in common_GPs],[practice_patient_dict[k] for k in common_GPs])"
   ]
  },
  {
   "cell_type": "code",
   "execution_count": null,
   "metadata": {
    "ExecuteTime": {
     "end_time": "2019-07-24T12:04:37.721188Z",
     "start_time": "2019-07-24T12:04:37.670560Z"
    }
   },
   "outputs": [],
   "source": [
    "patients.head()"
   ]
  },
  {
   "cell_type": "code",
   "execution_count": null,
   "metadata": {
    "ExecuteTime": {
     "end_time": "2019-07-24T12:59:41.728147Z",
     "start_time": "2019-07-24T12:59:30.732095Z"
    }
   },
   "outputs": [],
   "source": [
    "ward_patients = {}\n",
    "for k in GP_postcodes_long:\n",
    "    postCode = GP_postcodes_long[k]\n",
    "    for ward in londonWardPostcode:\n",
    "        if postCode in londonWardPostcode[ward]:\n",
    "            try:\n",
    "                if ward not in ward_patients:\n",
    "                    ward_patients[ward] = practice_surveypatient_dict[k]\n",
    "                else:\n",
    "                    ward_patients[ward] += practice_surveypatient_dict[k]\n",
    "            except:\n",
    "                continue\n",
    "\n",
    "ward_patients_filtered = {k: ward_patients[k] for k in ward_patients if not np.isnan(ward_patients[k] )}"
   ]
  },
  {
   "cell_type": "code",
   "execution_count": null,
   "metadata": {
    "ExecuteTime": {
     "end_time": "2019-07-26T15:19:56.900794Z",
     "start_time": "2019-07-26T15:19:56.891749Z"
    }
   },
   "outputs": [],
   "source": [
    "%store ward_patients_filtered"
   ]
  },
  {
   "cell_type": "code",
   "execution_count": null,
   "metadata": {
    "ExecuteTime": {
     "end_time": "2019-07-24T12:59:41.735949Z",
     "start_time": "2019-07-24T12:59:41.730057Z"
    }
   },
   "outputs": [],
   "source": [
    "pearsonr([ward_patients_gt[k] for k in ward_patients_filtered],[ward_patients_filtered[k] for k in ward_patients_filtered])"
   ]
  },
  {
   "cell_type": "code",
   "execution_count": null,
   "metadata": {
    "ExecuteTime": {
     "end_time": "2019-07-24T12:59:47.263335Z",
     "start_time": "2019-07-24T12:59:47.257964Z"
    }
   },
   "outputs": [],
   "source": [
    "len(ward_patients)"
   ]
  },
  {
   "cell_type": "code",
   "execution_count": null,
   "metadata": {
    "ExecuteTime": {
     "end_time": "2019-07-24T12:59:55.917734Z",
     "start_time": "2019-07-24T12:59:55.908438Z"
    }
   },
   "outputs": [],
   "source": [
    "filteredGPs = list(set(diabetes_GP.keys()).intersection(practice_surveypatient_dict.keys()).intersection(GP_postcodes_long.keys()))\n"
   ]
  },
  {
   "cell_type": "code",
   "execution_count": null,
   "metadata": {
    "ExecuteTime": {
     "end_time": "2019-07-24T12:59:56.633524Z",
     "start_time": "2019-07-24T12:59:56.629781Z"
    }
   },
   "outputs": [],
   "source": [
    "# for index, row in  luca_data.iterrows():\n",
    "#     if row['osward'] in ward_patients:\n",
    "#         print ward_patients[row['osward']] , row['gp_patients']"
   ]
  },
  {
   "cell_type": "code",
   "execution_count": null,
   "metadata": {
    "ExecuteTime": {
     "end_time": "2019-07-24T13:01:26.196140Z",
     "start_time": "2019-07-24T13:01:20.014460Z"
    }
   },
   "outputs": [],
   "source": [
    "ward_diabetes_prevalence= {}\n",
    "ward_gp_prevalence = {}\n",
    "for ward in ward_patients_filtered:\n",
    "    for k in filteredGPs:\n",
    "        postCode = GP_postcodes_long[k]\n",
    "        if ward not in ward_gp_prevalence:\n",
    "            ward_gp_prevalence[ward] = []\n",
    "        if postCode in londonWardPostcode[ward]:\n",
    "            ward_gp_prevalence[ward].append(float(diabetes_GP[k])*float(practice_surveypatient_dict[k]))\n",
    "for ward in ward_gp_prevalence:\n",
    "    ward_diabetes_prevalence[ward] = float(np.sum(ward_gp_prevalence[ward]))/float(ward_patients_filtered[ward]+1)\n",
    "\n",
    "\n",
    "    "
   ]
  },
  {
   "cell_type": "code",
   "execution_count": null,
   "metadata": {
    "ExecuteTime": {
     "end_time": "2019-07-24T13:01:27.514596Z",
     "start_time": "2019-07-24T13:01:27.314658Z"
    }
   },
   "outputs": [],
   "source": [
    "plt.hist(ward_diabetes_prevalence.values())"
   ]
  },
  {
   "cell_type": "code",
   "execution_count": null,
   "metadata": {
    "ExecuteTime": {
     "end_time": "2019-07-24T13:01:28.229921Z",
     "start_time": "2019-07-24T13:01:28.224549Z"
    }
   },
   "outputs": [],
   "source": [
    "len(ward_diabetes_prevalence)"
   ]
  },
  {
   "cell_type": "code",
   "execution_count": null,
   "metadata": {
    "ExecuteTime": {
     "end_time": "2019-07-24T13:01:31.819698Z",
     "start_time": "2019-07-24T13:01:31.816103Z"
    }
   },
   "outputs": [],
   "source": [
    "from sklearn import preprocessing"
   ]
  },
  {
   "cell_type": "code",
   "execution_count": null,
   "metadata": {
    "ExecuteTime": {
     "end_time": "2019-07-24T13:02:13.413548Z",
     "start_time": "2019-07-24T13:02:13.402968Z"
    }
   },
   "outputs": [],
   "source": [
    "pearsonr([ward_gt[k] for k in ward_diabetes_prevalence],[ward_diabetes_prevalence[k] for k in ward_diabetes_prevalence])"
   ]
  },
  {
   "cell_type": "code",
   "execution_count": null,
   "metadata": {},
   "outputs": [],
   "source": []
  },
  {
   "cell_type": "code",
   "execution_count": null,
   "metadata": {},
   "outputs": [],
   "source": []
  }
 ],
 "metadata": {
  "kernelspec": {
   "display_name": "Python 2",
   "language": "python",
   "name": "python2"
  },
  "language_info": {
   "codemirror_mode": {
    "name": "ipython",
    "version": 2
   },
   "file_extension": ".py",
   "mimetype": "text/x-python",
   "name": "python",
   "nbconvert_exporter": "python",
   "pygments_lexer": "ipython2",
   "version": "2.7.16"
  }
 },
 "nbformat": 4,
 "nbformat_minor": 2
}
