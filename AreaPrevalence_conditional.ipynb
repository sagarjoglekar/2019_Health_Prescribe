{
 "cells": [
  {
   "cell_type": "code",
   "execution_count": 817,
   "metadata": {
    "ExecuteTime": {
     "end_time": "2019-07-17T11:34:46.412862Z",
     "start_time": "2019-07-17T11:34:46.397513Z"
    }
   },
   "outputs": [],
   "source": [
    "import pandas as pd\n",
    "import geopandas as gp \n",
    "import json\n",
    "from glob import glob\n",
    "import numpy as np\n",
    "import matplotlib.pyplot as plt\n",
    "import seaborn as sns\n",
    "\n",
    "sns.set(rc={'figure.figsize':(12,8)})\n",
    "%matplotlib inline\n",
    "from tqdm import tqdm\n",
    "import glob\n",
    "import numpy as np\n",
    "from scipy.stats import pearsonr\n",
    "from scipy.stats import linregress"
   ]
  },
  {
   "cell_type": "code",
   "execution_count": 818,
   "metadata": {
    "ExecuteTime": {
     "end_time": "2019-07-17T11:34:46.882056Z",
     "start_time": "2019-07-17T11:34:46.876224Z"
    }
   },
   "outputs": [
    {
     "name": "stdout",
     "output_type": "stream",
     "text": [
      "['../BL_Work/openPrescribe/serialized/201009.gz', '../BL_Work/openPrescribe/serialized/201008.gz', '../BL_Work/openPrescribe/serialized/201011.gz', '../BL_Work/openPrescribe/serialized/201010.gz', '../BL_Work/openPrescribe/serialized/201012.gz']\n"
     ]
    }
   ],
   "source": [
    "files = glob.glob('../BL_Work/openPrescribe/serialized/*.gz')\n",
    "print files"
   ]
  },
  {
   "cell_type": "code",
   "execution_count": 819,
   "metadata": {
    "ExecuteTime": {
     "end_time": "2019-07-17T11:34:47.677923Z",
     "start_time": "2019-07-17T11:34:47.608727Z"
    }
   },
   "outputs": [],
   "source": [
    "patients = pd.read_csv('../BL_Work/grondTruths/gp-reg-patients-04-2013.csv')"
   ]
  },
  {
   "cell_type": "code",
   "execution_count": 820,
   "metadata": {
    "ExecuteTime": {
     "end_time": "2019-07-17T11:34:48.105465Z",
     "start_time": "2019-07-17T11:34:48.084187Z"
    }
   },
   "outputs": [],
   "source": [
    "patients = patients.dropna()"
   ]
  },
  {
   "cell_type": "code",
   "execution_count": 821,
   "metadata": {
    "ExecuteTime": {
     "end_time": "2019-07-17T11:34:49.169518Z",
     "start_time": "2019-07-17T11:34:48.516867Z"
    }
   },
   "outputs": [],
   "source": [
    "practice_patient_dict = {}\n",
    "for index , row in patients.iterrows():\n",
    "    practice_patient_dict[row['GP_PRACTICE_CODE']] = row['TOTAL_ALL']"
   ]
  },
  {
   "cell_type": "code",
   "execution_count": 822,
   "metadata": {
    "ExecuteTime": {
     "end_time": "2019-07-17T11:34:50.089372Z",
     "start_time": "2019-07-17T11:34:49.968775Z"
    }
   },
   "outputs": [],
   "source": [
    "prevalence_df = pd.read_csv('../BL_Work/grondTruths/PREVALENCE.csv')"
   ]
  },
  {
   "cell_type": "code",
   "execution_count": 823,
   "metadata": {
    "ExecuteTime": {
     "end_time": "2019-07-17T11:34:52.867271Z",
     "start_time": "2019-07-17T11:34:52.862014Z"
    }
   },
   "outputs": [],
   "source": [
    "diseaseMatched = json.load(open('../processed/DiseasesMatched.json','rb'))"
   ]
  },
  {
   "cell_type": "code",
   "execution_count": 824,
   "metadata": {
    "ExecuteTime": {
     "end_time": "2019-07-17T11:34:53.579050Z",
     "start_time": "2019-07-17T11:34:53.572716Z"
    }
   },
   "outputs": [],
   "source": [
    "%store -r Drug_code"
   ]
  },
  {
   "cell_type": "code",
   "execution_count": 825,
   "metadata": {
    "ExecuteTime": {
     "end_time": "2019-07-17T11:34:54.227998Z",
     "start_time": "2019-07-17T11:34:54.223051Z"
    }
   },
   "outputs": [],
   "source": [
    "%store  -r compre_postCode_dict"
   ]
  },
  {
   "cell_type": "code",
   "execution_count": 826,
   "metadata": {
    "ExecuteTime": {
     "end_time": "2019-07-17T11:34:55.176080Z",
     "start_time": "2019-07-17T11:34:55.172190Z"
    }
   },
   "outputs": [],
   "source": [
    "postCodeDict = compre_postCode_dict"
   ]
  },
  {
   "cell_type": "code",
   "execution_count": 827,
   "metadata": {
    "ExecuteTime": {
     "end_time": "2019-07-17T11:34:57.368435Z",
     "start_time": "2019-07-17T11:34:57.363433Z"
    }
   },
   "outputs": [],
   "source": [
    "%store -r Area_values"
   ]
  },
  {
   "cell_type": "code",
   "execution_count": 828,
   "metadata": {
    "ExecuteTime": {
     "end_time": "2019-07-17T11:34:58.240128Z",
     "start_time": "2019-07-17T11:34:58.166870Z"
    }
   },
   "outputs": [
    {
     "data": {
      "text/plain": [
       "{u'Adur': {'patients': 133765.0, 'population': 61929},\n",
       " u'Allerdale': {'patients': 108473.0, 'population': 96268},\n",
       " u'Amber Valley': {'patients': 386927.0, 'population': 122746},\n",
       " u'Arun': {'patients': 213991.0, 'population': 150877},\n",
       " u'Ashfield': {'patients': 252315.0, 'population': 120131},\n",
       " u'Ashford': {'patients': 243080.0, 'population': 120116},\n",
       " u'Aylesbury Vale': {'patients': 481973.0, 'population': 176867},\n",
       " u'Babergh': {'patients': 168634.0, 'population': 87917},\n",
       " u'Barking and Dagenham': {'patients': 277996.0, 'population': 190560},\n",
       " u'Barnet': {'patients': 723280.0, 'population': 363956},\n",
       " u'Barnsley': {'patients': 427077.0, 'population': 233671},\n",
       " u'Barrow-in-Furness': {'patients': 92644.0, 'population': 68446},\n",
       " u'Basildon': {'patients': 291740.0, 'population': 176474},\n",
       " u'Basingstoke and Deane': {'patients': 333885.0, 'population': 170492},\n",
       " u'Bassetlaw': {'patients': 234610.0, 'population': 112248},\n",
       " u'Bath and North East Somerset': {'patients': 264739.0, 'population': 177643},\n",
       " u'Bedford': {'patients': 364621.0, 'population': 159090},\n",
       " u'Bexley': {'patients': 390114.0, 'population': 234271},\n",
       " u'Birmingham': {'patients': 1406732.0, 'population': 1084841},\n",
       " u'Blaby': {'patients': 538410.0, 'population': 94130},\n",
       " u'Blackburn with Darwen': {'patients': 265279.0, 'population': 147713},\n",
       " u'Blackpool': {'patients': 222930.0, 'population': 141976},\n",
       " u'Bolsover': {'patients': 101002.0, 'population': 76447},\n",
       " u'Bolton': {'patients': 389561.0, 'population': 278984},\n",
       " u'Boston': {'patients': 157566.0, 'population': 64407},\n",
       " u'Bournemouth': {'patients': 208089.0, 'population': 186744},\n",
       " u'Bracknell Forest': {'patients': 303295.0, 'population': 115058},\n",
       " u'Bradford': {'patients': 652017.0, 'population': 524619},\n",
       " u'Braintree': {'patients': 291141.0, 'population': 148384},\n",
       " u'Breckland': {'patients': 242022.0, 'population': 130948},\n",
       " u'Brent': {'patients': 488795.0, 'population': 314660},\n",
       " u'Brentwood': {'patients': 72866.0, 'population': 74020},\n",
       " u'Brighton and Hove': {'patients': 278328.0, 'population': 275762},\n",
       " u'Bristol, City of': {'patients': 561468.0, 'population': 432234},\n",
       " u'Broadland': {'patients': 266953.0, 'population': 125215},\n",
       " u'Bromley': {'patients': 467954.0, 'population': 314036},\n",
       " u'Bromsgrove': {'patients': 331105.0, 'population': 93653},\n",
       " u'Broxbourne': {'patients': 172455.0, 'population': 94497},\n",
       " u'Broxtowe': {'patients': 128622.0, 'population': 110716},\n",
       " u'Burnley': {'patients': 110106.0, 'population': 87127},\n",
       " u'Bury': {'patients': 236606.0, 'population': 186199},\n",
       " u'Calderdale': {'patients': 296766.0, 'population': 205293},\n",
       " u'Cambridge': {'patients': 208563.0, 'population': 125155},\n",
       " u'Camden': {'patients': 322250.0, 'population': 224962},\n",
       " u'Cannock Chase': {'patients': 170705.0, 'population': 97940},\n",
       " u'Canterbury': {'patients': 166955.0, 'population': 153101},\n",
       " u'Carlisle': {'patients': 106782.0, 'population': 107952},\n",
       " u'Castle Point': {'patients': 139111.0, 'population': 88218},\n",
       " u'Central Bedfordshire': {'patients': 540070.0, 'population': 259969},\n",
       " u'Charnwood': {'patients': 296871.0, 'population': 168779},\n",
       " u'Chelmsford': {'patients': 150857.0, 'population': 169094},\n",
       " u'Cheltenham': {'patients': 168577.0, 'population': 116080},\n",
       " u'Cherwell': {'patients': 253821.0, 'population': 142110},\n",
       " u'Cheshire East': {'patients': 918702.0, 'population': 371916},\n",
       " u'Cheshire West and Chester': {'patients': 366761.0, 'population': 330200},\n",
       " u'Chesterfield': {'patients': 99592.0, 'population': 103782},\n",
       " u'Chichester': {'patients': 253121.0, 'population': 114521},\n",
       " u'Chiltern': {'patients': 175299.0, 'population': 92954},\n",
       " u'Chorley': {'patients': 210145.0, 'population': 107254},\n",
       " u'Christchurch': {'patients': 81466.0, 'population': 47987},\n",
       " u'City of London': {'patients': 97210.0, 'population': 7604},\n",
       " u'Colchester': {'patients': 147990.0, 'population': 176008},\n",
       " u'Copeland': {'patients': 66558.0, 'population': 69754},\n",
       " u'Corby': {'patients': 133707.0, 'population': 63073},\n",
       " u'Cornwall': {'patients': 556384.0, 'population': 537914},\n",
       " u'Cotswold': {'patients': 228347.0, 'population': 83562},\n",
       " u'County Durham': {'patients': 720438.0, 'population': 512616},\n",
       " u'Coventry': {'patients': 402180.0, 'population': 323132},\n",
       " u'Craven': {'patients': 82531.0, 'population': 55457},\n",
       " u'Crawley': {'patients': 162948.0, 'population': 108302},\n",
       " u'Croydon': {'patients': 546473.0, 'population': 368886},\n",
       " u'Dacorum': {'patients': 111025.0, 'population': 146037},\n",
       " u'Darlington': {'patients': 56418.0, 'population': 105248},\n",
       " u'Dartford': {'patients': 135201.0, 'population': 98940},\n",
       " u'Daventry': {'patients': 300018.0, 'population': 77141},\n",
       " u'Derby': {'patients': 220847.0, 'population': 250568},\n",
       " u'Derbyshire Dales': {'patients': 135784.0, 'population': 70793},\n",
       " u'Doncaster': {'patients': 423524.0, 'population': 300302},\n",
       " u'Dover': {'patients': 105026.0, 'population': 111765},\n",
       " u'Dudley': {'patients': 367834.0, 'population': 313589},\n",
       " u'Ealing': {'patients': 623001.0, 'population': 340671},\n",
       " u'East Cambridgeshire': {'patients': 175215.0, 'population': 85097},\n",
       " u'East Devon': {'patients': 322937.0, 'population': 134359},\n",
       " u'East Dorset': {'patients': 160909.0, 'population': 87755},\n",
       " u'East Hampshire': {'patients': 125506.0, 'population': 116400},\n",
       " u'East Hertfordshire': {'patients': 250350.0, 'population': 139458},\n",
       " u'East Lindsey': {'patients': 148502.0, 'population': 136596},\n",
       " u'East Northamptonshire': {'patients': 108799.0, 'population': 87365},\n",
       " u'East Riding of Yorkshire': {'patients': 488298.0, 'population': 334748},\n",
       " u'East Staffordshire': {'patients': 142128.0, 'population': 113504},\n",
       " u'Eastbourne': {'patients': 103963.0, 'population': 100049},\n",
       " u'Eastleigh': {'patients': 263440.0, 'population': 126764},\n",
       " u'Eden': {'patients': 53336.0, 'population': 52656},\n",
       " u'Elmbridge': {'patients': 282417.0, 'population': 131512},\n",
       " u'Enfield': {'patients': 381459.0, 'population': 317287},\n",
       " u'Epping Forest': {'patients': 242087.0, 'population': 126080},\n",
       " u'Epsom and Ewell': {'patients': 143850.0, 'population': 76052},\n",
       " u'Erewash': {'patients': 61556.0, 'population': 112809},\n",
       " u'Exeter': {'patients': 0.0, 'population': 119180},\n",
       " u'Fareham': {'patients': 141148.0, 'population': 112802},\n",
       " u'Fenland': {'patients': 149970.0, 'population': 95549},\n",
       " u'Forest Heath': {'patients': 0.0, 'population': 60735},\n",
       " u'Forest of Dean': {'patients': 149712.0, 'population': 82731},\n",
       " u'Fylde': {'patients': 138498.0, 'population': 75404},\n",
       " u'Gateshead': {'patients': 176426.0, 'population': 200153},\n",
       " u'Gedling': {'patients': 223382.0, 'population': 114052},\n",
       " u'Gloucester': {'patients': 114992.0, 'population': 123293},\n",
       " u'Gosport': {'patients': 47568.0, 'population': 83276},\n",
       " u'Gravesham': {'patients': 119365.0, 'population': 102764},\n",
       " u'Great Yarmouth': {'patients': 73982.0, 'population': 97570},\n",
       " u'Greenwich': {'patients': 303682.0, 'population': 258995},\n",
       " u'Guildford': {'patients': 237609.0, 'population': 139463},\n",
       " u'Hackney': {'patients': 536932.0, 'population': 252119},\n",
       " u'Halton': {'patients': 101019.0, 'population': 125692},\n",
       " u'Hambleton': {'patients': 253482.0, 'population': 89549},\n",
       " u'Hammersmith and Fulham': {'patients': 229402.0, 'population': 179388},\n",
       " u'Harborough': {'patients': 90676.0, 'population': 85694},\n",
       " u'Haringey': {'patients': 52492.0, 'population': 258912},\n",
       " u'Harlow': {'patients': 0.0, 'population': 82676},\n",
       " u'Harrogate': {'patients': 250130.0, 'population': 158610},\n",
       " u'Harrow': {'patients': 133609.0, 'population': 242377},\n",
       " u'Hart': {'patients': 127344.0, 'population': 92162},\n",
       " u'Hartlepool': {'patients': 130106.0, 'population': 92238},\n",
       " u'Hastings': {'patients': 98881.0, 'population': 90345},\n",
       " u'Havant': {'patients': 81976.0, 'population': 121271},\n",
       " u'Havering': {'patients': 240872.0, 'population': 239733},\n",
       " u'Herefordshire, County of': {'patients': 222191.0, 'population': 184932},\n",
       " u'Hertsmere': {'patients': 73079.0, 'population': 100710},\n",
       " u'High Peak': {'patients': 102752.0, 'population': 91118},\n",
       " u'Hillingdon': {'patients': 254678.0, 'population': 281756},\n",
       " u'Hinckley and Bosworth': {'patients': 116655.0, 'population': 106046},\n",
       " u'Horsham': {'patients': 135703.0, 'population': 132160},\n",
       " u'Hounslow': {'patients': 309699.0, 'population': 258876},\n",
       " u'Huntingdonshire': {'patients': 66336.0, 'population': 169955},\n",
       " u'Hyndburn': {'patients': 108321.0, 'population': 80190},\n",
       " u'Ipswich': {'patients': 162988.0, 'population': 134466},\n",
       " u'Isle of Wight': {'patients': 141857.0, 'population': 137243},\n",
       " u'Isles of Scilly': {'patients': 2119.0, 'population': 2264},\n",
       " u'Islington': {'patients': 0.0, 'population': 210255},\n",
       " u'Kensington and Chelsea': {'patients': 163728.0, 'population': 155930},\n",
       " u'Kettering': {'patients': 78804.0, 'population': 94841},\n",
       " u\"King's Lynn and West Norfolk\": {'patients': 90492.0, 'population': 148628},\n",
       " u'Kingston upon Hull, City of': {'patients': 126432.0, 'population': 256717},\n",
       " u'Kingston upon Thames': {'patients': 235113.0, 'population': 163906},\n",
       " u'Kirklees': {'patients': 347489.0, 'population': 425517},\n",
       " u'Knowsley': {'patients': 302968.0, 'population': 145936},\n",
       " u'Lambeth': {'patients': 469047.0, 'population': 309716},\n",
       " u'Lancaster': {'patients': 143607.0, 'population': 139272},\n",
       " u'Leeds': {'patients': 799471.0, 'population': 756212},\n",
       " u'Leicester': {'patients': 25299.0, 'population': 331502},\n",
       " u'Lewes': {'patients': 201915.0, 'population': 98373},\n",
       " u'Lewisham': {'patients': 235539.0, 'population': 281556},\n",
       " u'Lichfield': {'patients': 196902.0, 'population': 100598},\n",
       " u'Lincoln': {'patients': 172706.0, 'population': 94225},\n",
       " u'Liverpool': {'patients': 440061.0, 'population': 468397},\n",
       " u'Luton': {'patients': 0.0, 'population': 205843},\n",
       " u'Maidstone': {'patients': 287834.0, 'population': 156644},\n",
       " u'Maldon': {'patients': 17951.0, 'population': 61918},\n",
       " u'Malvern Hills': {'patients': 128911.0, 'population': 74980},\n",
       " u'Manchester': {'patients': 638485.0, 'population': 510151},\n",
       " u'Mansfield': {'patients': 0.0, 'population': 104737},\n",
       " u'Medway': {'patients': 115768.0, 'population': 267622},\n",
       " u'Melton': {'patients': 72489.0, 'population': 50770},\n",
       " u'Mendip': {'patients': 148074.0, 'population': 109755},\n",
       " u'Merton': {'patients': 277035.0, 'population': 202225},\n",
       " u'Mid Devon': {'patients': 137509.0, 'population': 78335},\n",
       " u'Mid Suffolk': {'patients': 119812.0, 'population': 97611},\n",
       " u'Mid Sussex': {'patients': 33159.0, 'population': 141162},\n",
       " u'Middlesbrough': {'patients': 184833.0, 'population': 138744},\n",
       " u'Milton Keynes': {'patients': 217465.0, 'population': 251980},\n",
       " u'Mole Valley': {'patients': 99658.0, 'population': 85846},\n",
       " u'New Forest': {'patients': 180606.0, 'population': 177382},\n",
       " u'Newark and Sherwood': {'patients': 62798.0, 'population': 115019},\n",
       " u'Newcastle upon Tyne': {'patients': 343041.0, 'population': 282442},\n",
       " u'Newcastle-under-Lyme': {'patients': 195570.0, 'population': 124183},\n",
       " u'Newham': {'patients': 433591.0, 'population': 314084},\n",
       " u'North Devon': {'patients': 128962.0, 'population': 93847},\n",
       " u'North Dorset': {'patients': 106012.0, 'population': 68914},\n",
       " u'North East Derbyshire': {'patients': 113849.0, 'population': 99325},\n",
       " u'North East Lincolnshire': {'patients': 169728.0, 'population': 159727},\n",
       " u'North Hertfordshire': {'patients': 118512.0, 'population': 128428},\n",
       " u'North Kesteven': {'patients': 41498.0, 'population': 109263},\n",
       " u'North Lincolnshire': {'patients': 189299.0, 'population': 168372},\n",
       " u'North Norfolk': {'patients': 55207.0, 'population': 101316},\n",
       " u'North Somerset': {'patients': 216612.0, 'population': 204385},\n",
       " u'North Tyneside': {'patients': 237111.0, 'population': 201446},\n",
       " u'North Warwickshire': {'patients': 74817.0, 'population': 62200},\n",
       " u'North West Leicestershire': {'patients': 85966.0, 'population': 94018},\n",
       " u'Northampton': {'patients': 89959.0, 'population': 214566},\n",
       " u'Northumberland': {'patients': 242635.0, 'population': 314978},\n",
       " u'Norwich': {'patients': 84263.0, 'population': 133904},\n",
       " u'Nottingham': {'patients': 224751.0, 'population': 308313},\n",
       " u'Nuneaton and Bedworth': {'patients': 0.0, 'population': 125805},\n",
       " u'Oadby and Wigston': {'patients': 0.0, 'population': 56103},\n",
       " u'Oldham': {'patients': 385330.0, 'population': 225875},\n",
       " u'Oxford': {'patients': 124958.0, 'population': 152527},\n",
       " u'Pendle': {'patients': 72609.0, 'population': 89613},\n",
       " u'Peterborough': {'patients': 217702.0, 'population': 185829},\n",
       " u'Plymouth': {'patients': 252227.0, 'population': 258026},\n",
       " u'Poole': {'patients': 140060.0, 'population': 148615},\n",
       " u'Portsmouth': {'patients': 154338.0, 'population': 206639},\n",
       " u'Preston': {'patients': 163394.0, 'population': 140197},\n",
       " u'Purbeck': {'patients': 11668.0, 'population': 45289},\n",
       " u'Reading': {'patients': 255524.0, 'population': 157027},\n",
       " u'Redbridge': {'patients': 300163.0, 'population': 284617},\n",
       " u'Redcar and Cleveland': {'patients': 138339.0, 'population': 134998},\n",
       " u'Redditch': {'patients': 13456.0, 'population': 84419},\n",
       " u'Reigate and Banstead': {'patients': 111478.0, 'population': 139043},\n",
       " u'Ribble Valley': {'patients': 0.0, 'population': 57596},\n",
       " u'Richmond upon Thames': {'patients': 147063.0, 'population': 189145},\n",
       " u'Richmondshire': {'patients': 6632.0, 'population': 53935},\n",
       " u'Rochdale': {'patients': 73914.0, 'population': 211597},\n",
       " u'Rochford': {'patients': 99876.0, 'population': 83687},\n",
       " u'Rossendale': {'patients': 63140.0, 'population': 68366},\n",
       " u'Rother': {'patients': 123010.0, 'population': 91088},\n",
       " u'Rotherham': {'patients': 170628.0, 'population': 258352},\n",
       " u'Rugby': {'patients': 120209.0, 'population': 100751},\n",
       " u'Runnymede': {'patients': 98397.0, 'population': 82189},\n",
       " u'Rushcliffe': {'patients': 42769.0, 'population': 110826},\n",
       " u'Rushmoor': {'patients': 33715.0, 'population': 94870},\n",
       " u'Rutland': {'patients': 0.0, 'population': 36170},\n",
       " u'Ryedale': {'patients': 105617.0, 'population': 52102},\n",
       " u'Salford': {'patients': 289274.0, 'population': 236494},\n",
       " u'Sandwell': {'patients': 260542.0, 'population': 311304},\n",
       " u'Scarborough': {'patients': 43745.0, 'population': 108632},\n",
       " u'Sedgemoor': {'patients': 121825.0, 'population': 116071},\n",
       " u'Sefton': {'patients': 208644.0, 'population': 273370},\n",
       " u'Selby': {'patients': 23030.0, 'population': 84144},\n",
       " u'Sevenoaks': {'patients': 73309.0, 'population': 116400},\n",
       " u'Sheffield': {'patients': 346641.0, 'population': 557382},\n",
       " u'Shepway': {'patients': 92292.0, 'population': 108700},\n",
       " u'Shropshire': {'patients': 400719.0, 'population': 307393},\n",
       " u'Slough': {'patients': 284007.0, 'population': 141838},\n",
       " u'Solihull': {'patients': 60167.0, 'population': 207380},\n",
       " u'South Bucks': {'patients': 0.0, 'population': 67435},\n",
       " u'South Cambridgeshire': {'patients': 93169.0, 'population': 151068},\n",
       " u'South Derbyshire': {'patients': 18809.0, 'population': 95778},\n",
       " u'South Gloucestershire': {'patients': 192272.0, 'population': 265338},\n",
       " u'South Hams': {'patients': 214363.0, 'population': 83597},\n",
       " u'South Holland': {'patients': 68757.0, 'population': 88518},\n",
       " u'South Kesteven': {'patients': 49244.0, 'population': 135033},\n",
       " u'South Lakeland': {'patients': 78020.0, 'population': 103453},\n",
       " u'South Norfolk': {'patients': 89233.0, 'population': 125978},\n",
       " u'South Northamptonshire': {'patients': 0.0, 'population': 86350},\n",
       " u'South Oxfordshire': {'patients': 188833.0, 'population': 135156},\n",
       " u'South Ribble': {'patients': 0.0, 'population': 108971},\n",
       " u'South Somerset': {'patients': 132647.0, 'population': 163012},\n",
       " u'South Staffordshire': {'patients': 213798.0, 'population': 107170},\n",
       " u'South Tyneside': {'patients': 225897.0, 'population': 148428},\n",
       " u'Southampton': {'patients': 174707.0, 'population': 239428},\n",
       " u'Southend-on-Sea': {'patients': 79179.0, 'population': 174838},\n",
       " u'Southwark': {'patients': 98327.0, 'population': 293530},\n",
       " u'Spelthorne': {'patients': 0.0, 'population': 96507},\n",
       " u'St Albans': {'patients': 57322.0, 'population': 141899},\n",
       " u'St Edmundsbury': {'patients': 61166.0, 'population': 110470},\n",
       " u'St. Helens': {'patients': 322540.0, 'population': 176114},\n",
       " u'Stafford': {'patients': 161084.0, 'population': 130706},\n",
       " u'Staffordshire Moorlands': {'patients': 91667.0, 'population': 97147},\n",
       " u'Stevenage': {'patients': 0.0, 'population': 84798},\n",
       " u'Stockport': {'patients': 137570.0, 'population': 283897},\n",
       " u'Stockton-on-Tees': {'patients': 99369.0, 'population': 191456},\n",
       " u'Stoke-on-Trent': {'patients': 43301.0, 'population': 249903},\n",
       " u'Stratford-on-Avon': {'patients': 164517.0, 'population': 120578},\n",
       " u'Stroud': {'patients': 68779.0, 'population': 113363},\n",
       " u'Suffolk Coastal': {'patients': 93808.0, 'population': 123857},\n",
       " u'Sunderland': {'patients': 138228.0, 'population': 275743},\n",
       " u'Surrey Heath': {'patients': 39115.0, 'population': 86138},\n",
       " u'Sutton': {'patients': 107508.0, 'population': 193630},\n",
       " u'Swale': {'patients': 98887.0, 'population': 135814},\n",
       " u'Swindon': {'patients': 264444.0, 'population': 211934},\n",
       " u'Tameside': {'patients': 83935.0, 'population': 220241},\n",
       " u'Tamworth': {'patients': 0.0, 'population': 77118},\n",
       " u'Tandridge': {'patients': 34382.0, 'population': 83693},\n",
       " u'Taunton Deane': {'patients': 63159.0, 'population': 111370},\n",
       " u'Teignbridge': {'patients': 114562.0, 'population': 124382},\n",
       " u'Telford and Wrekin': {'patients': 108098.0, 'population': 167682},\n",
       " u'Tendring': {'patients': 114420.0, 'population': 138285},\n",
       " u'Test Valley': {'patients': 90998.0, 'population': 117032},\n",
       " u'Tewkesbury': {'patients': 0.0, 'population': 82984},\n",
       " u'Thanet': {'patients': 133774.0, 'population': 135661},\n",
       " u'Three Rivers': {'patients': 49366.0, 'population': 88801},\n",
       " u'Thurrock': {'patients': 113070.0, 'population': 159533},\n",
       " u'Tonbridge and Malling': {'patients': 94082.0, 'population': 121912},\n",
       " u'Torbay': {'patients': 34492.0, 'population': 131492},\n",
       " u'Torridge': {'patients': 19154.0, 'population': 64743},\n",
       " u'Tower Hamlets': {'patients': 95794.0, 'population': 263003},\n",
       " u'Trafford': {'patients': 89064.0, 'population': 228466},\n",
       " u'Tunbridge Wells': {'patients': 49074.0, 'population': 115422},\n",
       " u'Uttlesford': {'patients': 22440.0, 'population': 81250},\n",
       " u'Vale of White Horse': {'patients': 78943.0, 'population': 122764},\n",
       " u'Wakefield': {'patients': 167039.0, 'population': 326674},\n",
       " u'Walsall': {'patients': 151402.0, 'population': 270924},\n",
       " u'Waltham Forest': {'patients': 176096.0, 'population': 262566},\n",
       " u'Wandsworth': {'patients': 85815.0, 'population': 307892},\n",
       " u'Warrington': {'patients': 37100.0, 'population': 202399},\n",
       " u'Warwick': {'patients': 70295.0, 'population': 138640},\n",
       " u'Watford': {'patients': 33908.0, 'population': 91732},\n",
       " u'Waveney': {'patients': 84020.0, 'population': 115228},\n",
       " u'Waverley': {'patients': 57004.0, 'population': 121884},\n",
       " u'Wealden': {'patients': 87173.0, 'population': 151029},\n",
       " u'Wellingborough': {'patients': 61376.0, 'population': 75586},\n",
       " u'Welwyn Hatfield': {'patients': 85303.0, 'population': 112046},\n",
       " u'West Berkshire': {'patients': 65878.0, 'population': 154486},\n",
       " u'West Devon': {'patients': 23035.0, 'population': 53337},\n",
       " u'West Dorset': {'patients': 115744.0, 'population': 99415},\n",
       " u'West Lancashire': {'patients': 29621.0, 'population': 110925},\n",
       " u'West Lindsey': {'patients': 0.0, 'population': 90047},\n",
       " u'West Oxfordshire': {'patients': 37222.0, 'population': 107118},\n",
       " u'West Somerset': {'patients': 19540.0, 'population': 34559},\n",
       " u'Westminster': {'patients': 65766.0, 'population': 223858},\n",
       " u'Weymouth and Portland': {'patients': 12465.0, 'population': 64022},\n",
       " u'Wigan': {'patients': 77760.0, 'population': 318480},\n",
       " u'Wiltshire': {'patients': 310849.0, 'population': 476352},\n",
       " u'Winchester': {'patients': 56809.0, 'population': 117417},\n",
       " u'Windsor and Maidenhead': {'patients': 34289.0, 'population': 145822},\n",
       " u'Wirral': {'patients': 298096.0, 'population': 320229},\n",
       " u'Woking': {'patients': 56779.0, 'population': 99377},\n",
       " u'Wokingham': {'patients': 38332.0, 'population': 156663},\n",
       " u'Wolverhampton': {'patients': 40249.0, 'population': 250970},\n",
       " u'Worcester': {'patients': 60082.0, 'population': 99604},\n",
       " u'Worthing': {'patients': 45372.0, 'population': 105661},\n",
       " u'Wychavon': {'patients': 54967.0, 'population': 117087},\n",
       " u'Wycombe': {'patients': 90111.0, 'population': 173306},\n",
       " u'Wyre': {'patients': 28385.0, 'population': 107889},\n",
       " u'Wyre Forest': {'patients': 0.0, 'population': 98074},\n",
       " u'York': {'patients': 102994.0, 'population': 199902}}"
      ]
     },
     "execution_count": 828,
     "metadata": {},
     "output_type": "execute_result"
    }
   ],
   "source": [
    "Area_values"
   ]
  },
  {
   "cell_type": "code",
   "execution_count": 857,
   "metadata": {
    "ExecuteTime": {
     "end_time": "2019-07-18T10:28:45.981893Z",
     "start_time": "2019-07-18T10:28:45.973990Z"
    }
   },
   "outputs": [],
   "source": [
    "def diseasePrevalenceArea( disease_presc, drug_prob , totalDrugs):\n",
    "    diseaseGP_prevalence= []\n",
    "    for name , group in disease_presc.groupby('3'):\n",
    "        for code in drug_prob:\n",
    "            if code in name:\n",
    "                prev = (float(len(group))/float(totalDrugs)) * drug_prob[code]['disease_given_drug']\n",
    "                diseaseGP_prevalence.append(prev)\n",
    "    return np.sum(diseaseGP_prevalence)\n"
   ]
  },
  {
   "cell_type": "code",
   "execution_count": 858,
   "metadata": {
    "ExecuteTime": {
     "end_time": "2019-07-18T10:32:04.746847Z",
     "start_time": "2019-07-18T10:28:56.316992Z"
    }
   },
   "outputs": [
    {
     "name": "stderr",
     "output_type": "stream",
     "text": [
      "\r",
      "  0%|          | 0/1 [00:00<?, ?it/s]"
     ]
    },
    {
     "name": "stdout",
     "output_type": "stream",
     "text": [
      "Working with 201009 month\n",
      "there are in total 10265 practices in this file\n"
     ]
    },
    {
     "name": "stderr",
     "output_type": "stream",
     "text": [
      "\n",
      "  0%|          | 0/18 [00:00<?, ?it/s]\u001b[A\n",
      " 83%|████████▎ | 15/18 [00:00<00:00, 134.73it/s]\u001b[A\n",
      "100%|██████████| 18/18 [00:00<00:00, 106.44it/s]\u001b[A\n",
      "  0%|          | 0/18 [00:00<?, ?it/s]\u001b[A\n",
      " 83%|████████▎ | 15/18 [00:00<00:00, 132.21it/s]\u001b[A\n",
      "100%|██████████| 18/18 [00:00<00:00, 102.22it/s]\u001b[A\n",
      "  0%|          | 0/18 [00:00<?, ?it/s]\u001b[A\n",
      "100%|██████████| 18/18 [00:00<00:00, 188.21it/s]\u001b[A\n",
      "  0%|          | 0/18 [00:00<?, ?it/s]\u001b[A\n",
      "100%|██████████| 18/18 [00:00<00:00, 1620.88it/s]\u001b[A\n",
      "  0%|          | 0/18 [00:00<?, ?it/s]\u001b[A\n",
      " 67%|██████▋   | 12/18 [00:00<00:00, 113.41it/s]\u001b[A\n",
      "100%|██████████| 18/18 [00:00<00:00, 91.36it/s] \u001b[A\n",
      "  0%|          | 0/18 [00:00<?, ?it/s]\u001b[A\n",
      " 61%|██████    | 11/18 [00:00<00:00, 103.51it/s]\u001b[A\n",
      "100%|██████████| 18/18 [00:00<00:00, 88.44it/s] \u001b[A\n",
      "  0%|          | 0/18 [00:00<?, ?it/s]\u001b[A\n",
      " 56%|█████▌    | 10/18 [00:00<00:00, 96.39it/s]\u001b[A\n",
      "100%|██████████| 18/18 [00:00<00:00, 82.62it/s]\u001b[A\n",
      "\u001b[A\n",
      "  0%|          | 0/18 [00:00<?, ?it/s]\u001b[A\n",
      " 33%|███▎      | 6/18 [00:00<00:00, 59.14it/s]\u001b[A\n",
      " 94%|█████████▍| 17/18 [00:00<00:00, 81.84it/s]\u001b[A\n",
      "100%|██████████| 18/18 [00:00<00:00, 69.73it/s]\u001b[A\n",
      "  0%|          | 0/18 [00:00<?, ?it/s]\u001b[A\n",
      " 33%|███▎      | 6/18 [00:00<00:00, 45.62it/s]\u001b[A\n",
      " 83%|████████▎ | 15/18 [00:00<00:00, 62.82it/s]\u001b[A\n",
      "100%|██████████| 18/18 [00:00<00:00, 54.55it/s]\u001b[A\n",
      "  0%|          | 0/18 [00:00<?, ?it/s]\u001b[A\n",
      " 94%|█████████▍| 17/18 [00:00<00:00, 154.78it/s]\u001b[A\n",
      "100%|██████████| 18/18 [00:00<00:00, 126.28it/s]\u001b[A\n",
      "  0%|          | 0/18 [00:00<?, ?it/s]\u001b[A\n",
      " 94%|█████████▍| 17/18 [00:00<00:00, 149.02it/s]\u001b[A\n",
      "100%|██████████| 18/18 [00:00<00:00, 118.61it/s]\u001b[A\n",
      "  0%|          | 0/18 [00:00<?, ?it/s]\u001b[A\n",
      "100%|██████████| 18/18 [00:00<00:00, 166.42it/s]\u001b[A\n",
      "\u001b[A\n",
      "  0%|          | 0/18 [00:00<?, ?it/s]\u001b[A\n",
      " 50%|█████     | 9/18 [00:00<00:00, 87.81it/s]\u001b[A\n",
      "100%|██████████| 18/18 [00:00<00:00, 82.28it/s]\u001b[A\n",
      "\u001b[A\n",
      "  0%|          | 0/18 [00:00<?, ?it/s]\u001b[A\n",
      " 61%|██████    | 11/18 [00:00<00:00, 98.52it/s]\u001b[A\n",
      "100%|██████████| 18/18 [00:00<00:00, 84.71it/s]\u001b[A\n",
      "\u001b[A\n",
      "  0%|          | 0/18 [00:00<?, ?it/s]\u001b[A\n",
      "100%|██████████| 18/18 [00:00<00:00, 1594.89it/s]\u001b[A\n",
      "  0%|          | 0/18 [00:00<?, ?it/s]\u001b[A\n",
      " 83%|████████▎ | 15/18 [00:00<00:00, 132.61it/s]\u001b[A\n",
      "100%|██████████| 18/18 [00:00<00:00, 106.00it/s]\u001b[A\n",
      "  0%|          | 0/18 [00:00<?, ?it/s]\u001b[A\n",
      " 33%|███▎      | 6/18 [00:00<00:00, 57.64it/s]\u001b[A\n",
      " 94%|█████████▍| 17/18 [00:00<00:00, 81.22it/s]\u001b[A\n",
      "100%|██████████| 18/18 [00:00<00:00, 69.02it/s]\u001b[A\n",
      "  0%|          | 0/18 [00:00<?, ?it/s]\u001b[A\n",
      " 83%|████████▎ | 15/18 [00:00<00:00, 135.92it/s]\u001b[A\n",
      "100%|██████████| 18/18 [00:00<00:00, 107.13it/s]\u001b[A\n",
      "  0%|          | 0/18 [00:00<?, ?it/s]\u001b[A\n",
      " 56%|█████▌    | 10/18 [00:00<00:00, 98.28it/s]\u001b[A\n",
      "100%|██████████| 18/18 [00:00<00:00, 82.97it/s]\u001b[A\n",
      "\u001b[A\n",
      "  0%|          | 0/18 [00:00<?, ?it/s]\u001b[A\n",
      " 83%|████████▎ | 15/18 [00:00<00:00, 142.36it/s]\u001b[A\n",
      "100%|██████████| 18/18 [00:00<00:00, 113.10it/s]\u001b[A\n",
      "  0%|          | 0/18 [00:00<?, ?it/s]\u001b[A\n",
      " 56%|█████▌    | 10/18 [00:00<00:00, 97.00it/s]\u001b[A\n",
      "100%|██████████| 18/18 [00:00<00:00, 84.39it/s]\u001b[A\n",
      "\u001b[A\n",
      "  0%|          | 0/18 [00:00<?, ?it/s]\u001b[A\n",
      " 33%|███▎      | 6/18 [00:00<00:00, 51.45it/s]\u001b[A\n",
      " 89%|████████▉ | 16/18 [00:00<00:00, 72.78it/s]\u001b[A\n",
      "100%|██████████| 18/18 [00:00<00:00, 60.24it/s]\u001b[A\n",
      "  0%|          | 0/18 [00:00<?, ?it/s]\u001b[A\n",
      " 50%|█████     | 9/18 [00:00<00:00, 88.64it/s]\u001b[A\n",
      "100%|██████████| 18/18 [00:00<00:00, 81.67it/s]\u001b[A\n",
      "\u001b[A\n",
      "  0%|          | 0/18 [00:00<?, ?it/s]\u001b[A\n",
      " 83%|████████▎ | 15/18 [00:00<00:00, 133.58it/s]\u001b[A\n",
      "100%|██████████| 18/18 [00:00<00:00, 103.44it/s]\u001b[A\n",
      "  0%|          | 0/18 [00:00<?, ?it/s]\u001b[A\n",
      " 39%|███▉      | 7/18 [00:00<00:00, 66.50it/s]\u001b[A\n",
      "100%|██████████| 18/18 [00:00<00:00, 72.85it/s]\u001b[A\n",
      "\u001b[A\n",
      "  0%|          | 0/18 [00:00<?, ?it/s]\u001b[A\n",
      "100%|██████████| 18/18 [00:00<00:00, 436.32it/s]\u001b[A\n",
      "  0%|          | 0/18 [00:00<?, ?it/s]\u001b[A\n",
      " 39%|███▉      | 7/18 [00:00<00:00, 67.73it/s]\u001b[A\n",
      "100%|██████████| 18/18 [00:00<00:00, 77.23it/s]\u001b[A\n",
      "\u001b[A\n",
      "  0%|          | 0/18 [00:00<?, ?it/s]\u001b[A\n",
      " 83%|████████▎ | 15/18 [00:00<00:00, 135.01it/s]\u001b[A\n",
      "100%|██████████| 18/18 [00:00<00:00, 106.98it/s]\u001b[A\n",
      "  0%|          | 0/18 [00:00<?, ?it/s]\u001b[A\n",
      " 83%|████████▎ | 15/18 [00:00<00:00, 135.23it/s]\u001b[A\n",
      "100%|██████████| 18/18 [00:00<00:00, 109.37it/s]\u001b[A\n",
      "  0%|          | 0/18 [00:00<?, ?it/s]\u001b[A\n",
      " 83%|████████▎ | 15/18 [00:00<00:00, 143.89it/s]\u001b[A\n",
      "100%|██████████| 18/18 [00:00<00:00, 112.70it/s]\u001b[A\n",
      "  0%|          | 0/18 [00:00<?, ?it/s]\u001b[A\n",
      " 50%|█████     | 9/18 [00:00<00:00, 87.79it/s]\u001b[A\n",
      "100%|██████████| 18/18 [00:00<00:00, 84.78it/s]\u001b[A\n",
      "\u001b[A\n",
      "  0%|          | 0/18 [00:00<?, ?it/s]\u001b[A\n",
      " 94%|█████████▍| 17/18 [00:00<00:00, 161.71it/s]\u001b[A\n",
      "100%|██████████| 18/18 [00:00<00:00, 130.91it/s]\u001b[A\n",
      "  0%|          | 0/18 [00:00<?, ?it/s]\u001b[A\n",
      " 94%|█████████▍| 17/18 [00:00<00:00, 155.29it/s]\u001b[A\n",
      "100%|██████████| 18/18 [00:00<00:00, 130.99it/s]\u001b[A\n",
      "  0%|          | 0/18 [00:00<?, ?it/s]\u001b[A\n",
      " 33%|███▎      | 6/18 [00:00<00:00, 57.75it/s]\u001b[A\n",
      " 94%|█████████▍| 17/18 [00:00<00:00, 83.17it/s]\u001b[A\n",
      "100%|██████████| 18/18 [00:00<00:00, 70.70it/s]\u001b[A\n",
      "  0%|          | 0/18 [00:00<?, ?it/s]\u001b[A\n",
      " 39%|███▉      | 7/18 [00:00<00:00, 66.51it/s]\u001b[A\n",
      "100%|██████████| 18/18 [00:00<00:00, 75.13it/s]\u001b[A\n",
      "\u001b[A\n",
      "  0%|          | 0/18 [00:00<?, ?it/s]\u001b[A\n",
      " 50%|█████     | 9/18 [00:00<00:00, 86.53it/s]\u001b[A\n",
      "100%|██████████| 18/18 [00:00<00:00, 79.78it/s]\u001b[A\n",
      "\u001b[A\n",
      "  0%|          | 0/18 [00:00<?, ?it/s]\u001b[A\n",
      " 94%|█████████▍| 17/18 [00:00<00:00, 158.71it/s]\u001b[A\n",
      "100%|██████████| 18/18 [00:00<00:00, 127.27it/s]\u001b[A\n",
      "  0%|          | 0/18 [00:00<?, ?it/s]\u001b[A\n",
      " 61%|██████    | 11/18 [00:00<00:00, 103.61it/s]\u001b[A\n",
      "100%|██████████| 18/18 [00:00<00:00, 90.00it/s] \u001b[A\n",
      "  0%|          | 0/18 [00:00<?, ?it/s]\u001b[A\n",
      " 33%|███▎      | 6/18 [00:00<00:00, 55.64it/s]\u001b[A\n",
      " 94%|█████████▍| 17/18 [00:00<00:00, 80.57it/s]\u001b[A\n",
      "100%|██████████| 18/18 [00:00<00:00, 68.64it/s]\u001b[A\n",
      "  0%|          | 0/18 [00:00<?, ?it/s]\u001b[A\n",
      "100%|██████████| 18/18 [00:00<00:00, 1659.72it/s]\u001b[A\n",
      "  0%|          | 0/18 [00:00<?, ?it/s]\u001b[A\n",
      " 39%|███▉      | 7/18 [00:00<00:00, 67.48it/s]\u001b[A\n",
      "100%|██████████| 18/18 [00:00<00:00, 76.72it/s]\u001b[A\n",
      "\u001b[A\n",
      "  0%|          | 0/18 [00:00<?, ?it/s]\u001b[A\n",
      "100%|██████████| 18/18 [00:00<00:00, 1647.73it/s]\u001b[A\n",
      "  0%|          | 0/18 [00:00<?, ?it/s]\u001b[A\n",
      " 78%|███████▊  | 14/18 [00:00<00:00, 134.63it/s]\u001b[A\n",
      "100%|██████████| 18/18 [00:00<00:00, 102.06it/s]\u001b[A\n",
      "  0%|          | 0/18 [00:00<?, ?it/s]\u001b[A\n",
      " 39%|███▉      | 7/18 [00:00<00:00, 68.25it/s]\u001b[A\n",
      "100%|██████████| 18/18 [00:00<00:00, 76.16it/s]\u001b[A\n",
      "\u001b[A\n",
      "  0%|          | 0/18 [00:00<?, ?it/s]\u001b[A\n",
      " 67%|██████▋   | 12/18 [00:00<00:00, 115.07it/s]\u001b[A\n",
      "100%|██████████| 18/18 [00:00<00:00, 96.13it/s] \u001b[A\n",
      "  0%|          | 0/18 [00:00<?, ?it/s]\u001b[A\n",
      " 94%|█████████▍| 17/18 [00:00<00:00, 161.01it/s]\u001b[A\n",
      "100%|██████████| 18/18 [00:00<00:00, 130.91it/s]\u001b[A\n",
      "  0%|          | 0/18 [00:00<?, ?it/s]\u001b[A\n",
      " 61%|██████    | 11/18 [00:00<00:00, 107.13it/s]\u001b[A\n",
      "100%|██████████| 18/18 [00:00<00:00, 93.14it/s] \u001b[A\n",
      "  0%|          | 0/18 [00:00<?, ?it/s]\u001b[A\n",
      " 89%|████████▉ | 16/18 [00:00<00:00, 157.59it/s]\u001b[A\n",
      "100%|██████████| 18/18 [00:00<00:00, 119.14it/s]\u001b[A\n",
      "  0%|          | 0/18 [00:00<?, ?it/s]\u001b[A\n",
      " 83%|████████▎ | 15/18 [00:00<00:00, 145.96it/s]\u001b[A\n",
      "100%|██████████| 18/18 [00:00<00:00, 114.96it/s]\u001b[A\n",
      "  0%|          | 0/18 [00:00<?, ?it/s]\u001b[A\n",
      " 33%|███▎      | 6/18 [00:00<00:00, 57.95it/s]\u001b[A\n",
      "100%|██████████| 18/18 [00:00<00:00, 72.85it/s]\u001b[A\n",
      "\u001b[A\n",
      "  0%|          | 0/18 [00:00<?, ?it/s]\u001b[A\n",
      " 94%|█████████▍| 17/18 [00:00<00:00, 150.81it/s]\u001b[A\n",
      "100%|██████████| 18/18 [00:00<00:00, 120.78it/s]\u001b[A\n",
      "  0%|          | 0/18 [00:00<?, ?it/s]\u001b[A\n",
      " 33%|███▎      | 6/18 [00:00<00:00, 58.82it/s]\u001b[A\n",
      " 94%|█████████▍| 17/18 [00:00<00:00, 83.81it/s]\u001b[A\n",
      "100%|██████████| 18/18 [00:00<00:00, 72.17it/s]\u001b[A\n",
      "  0%|          | 0/18 [00:00<?, ?it/s]\u001b[A\n",
      " 94%|█████████▍| 17/18 [00:00<00:00, 149.24it/s]\u001b[A\n",
      "100%|██████████| 18/18 [00:00<00:00, 100.59it/s]\u001b[A\n",
      "  0%|          | 0/18 [00:00<?, ?it/s]\u001b[A\n",
      " 61%|██████    | 11/18 [00:00<00:00, 105.54it/s]\u001b[A\n",
      "100%|██████████| 18/18 [00:00<00:00, 86.07it/s] \u001b[A\n",
      "\u001b[A\n",
      "  0%|          | 0/18 [00:00<?, ?it/s]\u001b[A\n",
      " 83%|████████▎ | 15/18 [00:00<00:00, 136.37it/s]\u001b[A\n",
      "100%|██████████| 18/18 [00:00<00:00, 107.48it/s]\u001b[A\n",
      "  0%|          | 0/18 [00:00<?, ?it/s]\u001b[A\n",
      "100%|██████████| 18/18 [00:00<00:00, 1479.56it/s]\u001b[A\n",
      "  0%|          | 0/18 [00:00<?, ?it/s]\u001b[A\n"
     ]
    },
    {
     "name": "stderr",
     "output_type": "stream",
     "text": [
      " 33%|███▎      | 6/18 [00:00<00:00, 52.23it/s]\u001b[A\n",
      " 94%|█████████▍| 17/18 [00:00<00:00, 72.03it/s]\u001b[A\n",
      "100%|██████████| 18/18 [00:00<00:00, 54.66it/s]\u001b[A\n",
      "  0%|          | 0/18 [00:00<?, ?it/s]\u001b[A\n",
      " 39%|███▉      | 7/18 [00:00<00:00, 65.03it/s]\u001b[A\n",
      "100%|██████████| 18/18 [00:00<00:00, 72.02it/s]\u001b[A\n",
      "\u001b[A\n",
      "  0%|          | 0/18 [00:00<?, ?it/s]\u001b[A\n",
      " 72%|███████▏  | 13/18 [00:00<00:00, 127.99it/s]\u001b[A\n",
      "100%|██████████| 18/18 [00:00<00:00, 102.37it/s]\u001b[A\n",
      "  0%|          | 0/18 [00:00<?, ?it/s]\u001b[A\n",
      " 83%|████████▎ | 15/18 [00:00<00:00, 139.04it/s]\u001b[A\n",
      "100%|██████████| 18/18 [00:00<00:00, 110.09it/s]\u001b[A\n",
      "  0%|          | 0/18 [00:00<?, ?it/s]\u001b[A\n",
      " 50%|█████     | 9/18 [00:00<00:00, 88.42it/s]\u001b[A\n",
      "100%|██████████| 18/18 [00:00<00:00, 85.36it/s]\u001b[A\n",
      "\u001b[A\n",
      "  0%|          | 0/18 [00:00<?, ?it/s]\u001b[A\n",
      " 83%|████████▎ | 15/18 [00:00<00:00, 142.16it/s]\u001b[A\n",
      "100%|██████████| 18/18 [00:00<00:00, 88.11it/s] \u001b[A\n",
      "  0%|          | 0/18 [00:00<?, ?it/s]\u001b[A\n",
      " 83%|████████▎ | 15/18 [00:00<00:00, 140.37it/s]\u001b[A\n",
      "100%|██████████| 18/18 [00:00<00:00, 111.79it/s]\u001b[A\n",
      "  0%|          | 0/18 [00:00<?, ?it/s]\u001b[A\n",
      " 72%|███████▏  | 13/18 [00:00<00:00, 127.19it/s]\u001b[A\n",
      "100%|██████████| 18/18 [00:00<00:00, 100.57it/s]\u001b[A\n",
      "  0%|          | 0/18 [00:00<?, ?it/s]\u001b[A\n",
      " 89%|████████▉ | 16/18 [00:00<00:00, 154.04it/s]\u001b[A\n",
      "100%|██████████| 18/18 [00:00<00:00, 114.38it/s]\u001b[A\n",
      "  0%|          | 0/18 [00:00<?, ?it/s]\u001b[A\n",
      " 89%|████████▉ | 16/18 [00:00<00:00, 153.98it/s]\u001b[A\n",
      "100%|██████████| 18/18 [00:00<00:00, 114.34it/s]\u001b[A\n",
      "  0%|          | 0/18 [00:00<?, ?it/s]\u001b[A\n",
      " 61%|██████    | 11/18 [00:00<00:00, 101.35it/s]\u001b[A\n",
      "100%|██████████| 18/18 [00:00<00:00, 89.39it/s] \u001b[A\n",
      "  0%|          | 0/18 [00:00<?, ?it/s]\u001b[A\n",
      " 78%|███████▊  | 14/18 [00:00<00:00, 135.33it/s]\u001b[A\n",
      "100%|██████████| 18/18 [00:00<00:00, 99.92it/s] \u001b[A\n",
      "  0%|          | 0/18 [00:00<?, ?it/s]\u001b[A\n",
      "100%|██████████| 18/18 [00:00<00:00, 158.85it/s]\u001b[A\n",
      "\u001b[A\n",
      "  0%|          | 0/18 [00:00<?, ?it/s]\u001b[A\n",
      " 72%|███████▏  | 13/18 [00:00<00:00, 125.35it/s]\u001b[A\n",
      "100%|██████████| 18/18 [00:00<00:00, 100.11it/s]\u001b[A\n",
      "  0%|          | 0/18 [00:00<?, ?it/s]\u001b[A\n",
      " 78%|███████▊  | 14/18 [00:00<00:00, 137.23it/s]\u001b[A\n",
      "100%|██████████| 18/18 [00:00<00:00, 100.81it/s]\u001b[A\n",
      "  0%|          | 0/18 [00:00<?, ?it/s]\u001b[A\n",
      "100%|██████████| 18/18 [00:00<00:00, 1595.16it/s]\u001b[A\n",
      "  0%|          | 0/18 [00:00<?, ?it/s]\u001b[A\n",
      "100%|██████████| 18/18 [00:00<00:00, 139.88it/s]\u001b[A\n",
      "\u001b[A\n",
      "  0%|          | 0/18 [00:00<?, ?it/s]\u001b[A\n",
      " 33%|███▎      | 6/18 [00:00<00:00, 56.97it/s]\u001b[A\n",
      " 94%|█████████▍| 17/18 [00:00<00:00, 78.83it/s]\u001b[A\n",
      "100%|██████████| 18/18 [00:00<00:00, 68.39it/s]\u001b[A\n",
      "  0%|          | 0/18 [00:00<?, ?it/s]\u001b[A\n",
      "100%|██████████| 18/18 [00:00<00:00, 149.82it/s]\u001b[A\n",
      "\u001b[A\n",
      "  0%|          | 0/18 [00:00<?, ?it/s]\u001b[A\n",
      "100%|██████████| 18/18 [00:00<00:00, 161.27it/s]\u001b[A\n",
      "\u001b[A\n",
      "  0%|          | 0/18 [00:00<?, ?it/s]\u001b[A\n",
      " 39%|███▉      | 7/18 [00:00<00:00, 68.17it/s]\u001b[A\n",
      "100%|██████████| 18/18 [00:00<00:00, 79.18it/s]\u001b[A\n",
      "\u001b[A\n",
      "  0%|          | 0/18 [00:00<?, ?it/s]\u001b[A\n",
      " 83%|████████▎ | 15/18 [00:00<00:00, 137.97it/s]\u001b[A\n",
      "100%|██████████| 18/18 [00:00<00:00, 110.14it/s]\u001b[A\n",
      "  0%|          | 0/18 [00:00<?, ?it/s]\u001b[A\n",
      "100%|██████████| 18/18 [00:00<00:00, 155.23it/s]\u001b[A\n",
      "\u001b[A\n",
      "  0%|          | 0/18 [00:00<?, ?it/s]\u001b[A\n",
      " 72%|███████▏  | 13/18 [00:00<00:00, 126.99it/s]\u001b[A\n",
      "100%|██████████| 18/18 [00:00<00:00, 102.53it/s]\u001b[A\n",
      "  0%|          | 0/18 [00:00<?, ?it/s]\u001b[A\n",
      " 94%|█████████▍| 17/18 [00:00<00:00, 151.49it/s]\u001b[A\n",
      "100%|██████████| 18/18 [00:00<00:00, 120.73it/s]\u001b[A\n",
      "  0%|          | 0/18 [00:00<?, ?it/s]\u001b[A\n",
      " 33%|███▎      | 6/18 [00:00<00:00, 52.91it/s]\u001b[A\n",
      " 94%|█████████▍| 17/18 [00:00<00:00, 72.83it/s]\u001b[A\n",
      "100%|██████████| 18/18 [00:00<00:00, 62.56it/s]\u001b[A\n",
      "  0%|          | 0/18 [00:00<?, ?it/s]\u001b[A\n",
      " 78%|███████▊  | 14/18 [00:00<00:00, 137.09it/s]\u001b[A\n",
      "100%|██████████| 18/18 [00:00<00:00, 103.99it/s]\u001b[A\n",
      "  0%|          | 0/18 [00:00<?, ?it/s]\u001b[A\n",
      " 83%|████████▎ | 15/18 [00:00<00:00, 138.17it/s]\u001b[A\n",
      "100%|██████████| 18/18 [00:00<00:00, 108.62it/s]\u001b[A\n",
      "  0%|          | 0/18 [00:00<?, ?it/s]\u001b[A\n",
      "100%|██████████| 18/18 [00:00<00:00, 221.92it/s]\u001b[A\n",
      "  0%|          | 0/18 [00:00<?, ?it/s]\u001b[A\n",
      " 67%|██████▋   | 12/18 [00:00<00:00, 116.68it/s]\u001b[A\n",
      "100%|██████████| 18/18 [00:00<00:00, 97.51it/s] \u001b[A\n",
      "  0%|          | 0/18 [00:00<?, ?it/s]\u001b[A\n",
      " 50%|█████     | 9/18 [00:00<00:00, 87.18it/s]\u001b[A\n",
      "100%|██████████| 18/18 [00:00<00:00, 80.61it/s]\u001b[A\n",
      "\u001b[A\n",
      "  0%|          | 0/18 [00:00<?, ?it/s]\u001b[A\n",
      " 33%|███▎      | 6/18 [00:00<00:00, 56.72it/s]\u001b[A\n",
      " 94%|█████████▍| 17/18 [00:00<00:00, 79.06it/s]\u001b[A\n",
      "100%|██████████| 18/18 [00:00<00:00, 68.83it/s]\u001b[A\n",
      "  0%|          | 0/18 [00:00<?, ?it/s]\u001b[A\n",
      "100%|██████████| 18/18 [00:00<00:00, 305.80it/s]\u001b[A\n",
      "  0%|          | 0/18 [00:00<?, ?it/s]\u001b[A\n",
      " 61%|██████    | 11/18 [00:00<00:00, 101.38it/s]\u001b[A\n",
      "100%|██████████| 18/18 [00:00<00:00, 86.19it/s] \u001b[A\n",
      "\u001b[A\n",
      "  0%|          | 0/18 [00:00<?, ?it/s]\u001b[A\n",
      " 94%|█████████▍| 17/18 [00:00<00:00, 146.03it/s]\u001b[A\n",
      "100%|██████████| 18/18 [00:00<00:00, 118.08it/s]\u001b[A\n",
      "  0%|          | 0/18 [00:00<?, ?it/s]\u001b[A\n",
      " 83%|████████▎ | 15/18 [00:00<00:00, 130.92it/s]\u001b[A\n",
      "100%|██████████| 18/18 [00:00<00:00, 103.46it/s]\u001b[A\n",
      "  0%|          | 0/18 [00:00<?, ?it/s]\u001b[A\n",
      " 61%|██████    | 11/18 [00:00<00:00, 103.30it/s]\u001b[A\n",
      "100%|██████████| 18/18 [00:00<00:00, 88.08it/s] \u001b[A\n",
      "  0%|          | 0/18 [00:00<?, ?it/s]\u001b[A\n",
      " 61%|██████    | 11/18 [00:00<00:00, 99.50it/s]\u001b[A\n",
      "100%|██████████| 18/18 [00:00<00:00, 86.37it/s]\u001b[A\n",
      "  0%|          | 0/18 [00:00<?, ?it/s]\u001b[A\n",
      " 50%|█████     | 9/18 [00:00<00:00, 89.07it/s]\u001b[A\n",
      "100%|██████████| 18/18 [00:00<00:00, 84.56it/s]\u001b[A\n",
      "\u001b[A\n",
      "  0%|          | 0/18 [00:00<?, ?it/s]\u001b[A\n",
      " 72%|███████▏  | 13/18 [00:00<00:00, 126.80it/s]\u001b[A\n",
      "100%|██████████| 18/18 [00:00<00:00, 98.64it/s] \u001b[A\n",
      "  0%|          | 0/18 [00:00<?, ?it/s]\u001b[A\n",
      " 83%|████████▎ | 15/18 [00:00<00:00, 138.51it/s]\u001b[A\n",
      "100%|██████████| 18/18 [00:00<00:00, 108.80it/s]\u001b[A\n",
      "  0%|          | 0/18 [00:00<?, ?it/s]\u001b[A\n",
      " 56%|█████▌    | 10/18 [00:00<00:00, 97.57it/s]\u001b[A\n",
      "100%|██████████| 18/18 [00:00<00:00, 84.29it/s]\u001b[A\n",
      "\u001b[A\n",
      "  0%|          | 0/18 [00:00<?, ?it/s]\u001b[A\n",
      " 39%|███▉      | 7/18 [00:00<00:00, 65.66it/s]\u001b[A\n",
      "100%|██████████| 18/18 [00:00<00:00, 75.87it/s]\u001b[A\n",
      "\u001b[A\n",
      "  0%|          | 0/18 [00:00<?, ?it/s]\u001b[A\n",
      " 44%|████▍     | 8/18 [00:00<00:00, 77.94it/s]\u001b[A\n",
      "100%|██████████| 18/18 [00:00<00:00, 79.44it/s]\u001b[A\n",
      "\u001b[A\n",
      "  0%|          | 0/18 [00:00<?, ?it/s]\u001b[A\n",
      " 83%|████████▎ | 15/18 [00:00<00:00, 148.30it/s]\u001b[A\n",
      "100%|██████████| 18/18 [00:00<00:00, 116.46it/s]\u001b[A\n",
      "  0%|          | 0/18 [00:00<?, ?it/s]\u001b[A\n",
      " 67%|██████▋   | 12/18 [00:00<00:00, 118.43it/s]\u001b[A\n",
      "100%|██████████| 18/18 [00:00<00:00, 98.47it/s] \u001b[A\n",
      "  0%|          | 0/18 [00:00<?, ?it/s]\u001b[A\n",
      " 33%|███▎      | 6/18 [00:00<00:00, 44.95it/s]\u001b[A\n",
      " 83%|████████▎ | 15/18 [00:00<00:00, 61.57it/s]\u001b[A\n",
      "100%|██████████| 18/18 [00:00<00:00, 53.22it/s]\u001b[A\n",
      "  0%|          | 0/18 [00:00<?, ?it/s]\u001b[A\n",
      " 33%|███▎      | 6/18 [00:00<00:00, 55.10it/s]\u001b[A\n",
      " 94%|█████████▍| 17/18 [00:00<00:00, 77.93it/s]\u001b[A\n",
      "100%|██████████| 18/18 [00:00<00:00, 65.99it/s]\u001b[A\n",
      "  0%|          | 0/18 [00:00<?, ?it/s]\u001b[A\n",
      " 56%|█████▌    | 10/18 [00:00<00:00, 98.22it/s]\u001b[A\n",
      "100%|██████████| 18/18 [00:00<00:00, 84.93it/s]\u001b[A\n",
      "\u001b[A\n",
      "  0%|          | 0/18 [00:00<?, ?it/s]\u001b[A\n",
      " 33%|███▎      | 6/18 [00:00<00:00, 44.97it/s]\u001b[A\n",
      " 83%|████████▎ | 15/18 [00:00<00:00, 61.99it/s]\u001b[A\n",
      "100%|██████████| 18/18 [00:00<00:00, 53.27it/s]\u001b[A\n",
      "  0%|          | 0/18 [00:00<?, ?it/s]\u001b[A\n",
      " 67%|██████▋   | 12/18 [00:00<00:00, 118.20it/s]\u001b[A\n",
      "100%|██████████| 18/18 [00:00<00:00, 98.68it/s] \u001b[A\n",
      "  0%|          | 0/18 [00:00<?, ?it/s]\u001b[A\n",
      " 33%|███▎      | 6/18 [00:00<00:00, 45.24it/s]\u001b[A\n",
      " 83%|████████▎ | 15/18 [00:00<00:00, 62.54it/s]\u001b[A\n",
      "100%|██████████| 18/18 [00:00<00:00, 53.54it/s]\u001b[A\n",
      "  0%|          | 0/18 [00:00<?, ?it/s]\u001b[A\n",
      " 72%|███████▏  | 13/18 [00:00<00:00, 125.91it/s]\u001b[A\n",
      "100%|██████████| 18/18 [00:00<00:00, 99.53it/s] \u001b[A\n",
      "  0%|          | 0/18 [00:00<?, ?it/s]\u001b[A\n",
      " 72%|███████▏  | 13/18 [00:00<00:00, 127.82it/s]\u001b[A\n",
      "100%|██████████| 18/18 [00:00<00:00, 98.88it/s] \u001b[A\n",
      "  0%|          | 0/18 [00:00<?, ?it/s]\u001b[A\n",
      " 56%|█████▌    | 10/18 [00:00<00:00, 96.61it/s]\u001b[A\n",
      "100%|██████████| 18/18 [00:00<00:00, 81.62it/s]\u001b[A\n",
      "\u001b[A\n",
      "  0%|          | 0/18 [00:00<?, ?it/s]\u001b[A\n",
      "100%|██████████| 18/18 [00:00<00:00, 186.51it/s]\u001b[A\n",
      "  0%|          | 0/18 [00:00<?, ?it/s]\u001b[A\n",
      " 83%|████████▎ | 15/18 [00:00<00:00, 148.01it/s]\u001b[A\n"
     ]
    },
    {
     "name": "stderr",
     "output_type": "stream",
     "text": [
      "100%|██████████| 18/18 [00:00<00:00, 113.20it/s]\u001b[A\n",
      "  0%|          | 0/18 [00:00<?, ?it/s]\u001b[A\n",
      "100%|██████████| 18/18 [00:00<00:00, 1611.89it/s]\u001b[A\n",
      "  0%|          | 0/18 [00:00<?, ?it/s]\u001b[A\n",
      " 67%|██████▋   | 12/18 [00:00<00:00, 118.35it/s]\u001b[A\n",
      "100%|██████████| 18/18 [00:00<00:00, 98.83it/s] \u001b[A\n",
      "  0%|          | 0/18 [00:00<?, ?it/s]\u001b[A\n",
      " 44%|████▍     | 8/18 [00:00<00:00, 78.25it/s]\u001b[A\n",
      "100%|██████████| 18/18 [00:00<00:00, 79.94it/s]\u001b[A\n",
      "\u001b[A\n",
      "  0%|          | 0/18 [00:00<?, ?it/s]\u001b[A\n",
      " 94%|█████████▍| 17/18 [00:00<00:00, 164.85it/s]\u001b[A\n",
      "100%|██████████| 18/18 [00:00<00:00, 136.33it/s]\u001b[A\n",
      "  0%|          | 0/18 [00:00<?, ?it/s]\u001b[A\n",
      " 94%|█████████▍| 17/18 [00:00<00:00, 163.87it/s]\u001b[A\n",
      "100%|██████████| 18/18 [00:00<00:00, 134.87it/s]\u001b[A\n",
      "  0%|          | 0/18 [00:00<?, ?it/s]\u001b[A\n",
      " 78%|███████▊  | 14/18 [00:00<00:00, 133.99it/s]\u001b[A\n",
      "100%|██████████| 18/18 [00:00<00:00, 100.08it/s]\u001b[A\n",
      "  0%|          | 0/18 [00:00<?, ?it/s]\u001b[A\n",
      " 56%|█████▌    | 10/18 [00:00<00:00, 96.32it/s]\u001b[A\n",
      "100%|██████████| 18/18 [00:00<00:00, 83.23it/s]\u001b[A\n",
      "\u001b[A\n",
      "  0%|          | 0/18 [00:00<?, ?it/s]\u001b[A\n",
      " 61%|██████    | 11/18 [00:00<00:00, 104.83it/s]\u001b[A\n",
      "100%|██████████| 18/18 [00:00<00:00, 91.24it/s] \u001b[A\n",
      "  0%|          | 0/18 [00:00<?, ?it/s]\u001b[A\n",
      " 44%|████▍     | 8/18 [00:00<00:00, 78.48it/s]\u001b[A\n",
      "100%|██████████| 18/18 [00:00<00:00, 79.22it/s]\u001b[A\n",
      "\u001b[A\n",
      "  0%|          | 0/18 [00:00<?, ?it/s]\u001b[A\n",
      " 61%|██████    | 11/18 [00:00<00:00, 104.67it/s]\u001b[A\n",
      "100%|██████████| 18/18 [00:00<00:00, 87.70it/s] \u001b[A\n",
      "\u001b[A\n",
      "  0%|          | 0/18 [00:00<?, ?it/s]\u001b[A\n",
      "100%|██████████| 18/18 [00:00<00:00, 1657.46it/s]\u001b[A\n",
      "  0%|          | 0/18 [00:00<?, ?it/s]\u001b[A\n",
      "100%|██████████| 18/18 [00:00<00:00, 1511.22it/s]\u001b[A\n",
      "  0%|          | 0/18 [00:00<?, ?it/s]\u001b[A\n",
      " 61%|██████    | 11/18 [00:00<00:00, 103.48it/s]\u001b[A\n",
      "100%|██████████| 18/18 [00:00<00:00, 87.30it/s] \u001b[A\n",
      "  0%|          | 0/18 [00:00<?, ?it/s]\u001b[A\n",
      " 61%|██████    | 11/18 [00:00<00:00, 98.05it/s]\u001b[A\n",
      "100%|██████████| 18/18 [00:00<00:00, 84.82it/s]\u001b[A\n",
      "  0%|          | 0/18 [00:00<?, ?it/s]\u001b[A\n",
      " 61%|██████    | 11/18 [00:00<00:00, 99.99it/s]\u001b[A\n",
      "100%|██████████| 18/18 [00:00<00:00, 86.60it/s]\u001b[A\n",
      "  0%|          | 0/18 [00:00<?, ?it/s]\u001b[A\n",
      " 94%|█████████▍| 17/18 [00:00<00:00, 153.87it/s]\u001b[A\n",
      "100%|██████████| 18/18 [00:00<00:00, 130.07it/s]\u001b[A\n",
      "  0%|          | 0/18 [00:00<?, ?it/s]\u001b[A\n",
      " 89%|████████▉ | 16/18 [00:00<00:00, 154.04it/s]\u001b[A\n",
      "100%|██████████| 18/18 [00:00<00:00, 115.16it/s]\u001b[A\n",
      "  0%|          | 0/18 [00:00<?, ?it/s]\u001b[A\n",
      " 61%|██████    | 11/18 [00:00<00:00, 103.36it/s]\u001b[A\n",
      "100%|██████████| 18/18 [00:00<00:00, 90.23it/s] \u001b[A\n",
      "  0%|          | 0/18 [00:00<?, ?it/s]\u001b[A\n",
      "100%|██████████| 18/18 [00:00<00:00, 186.52it/s]\u001b[A\n",
      "  0%|          | 0/18 [00:00<?, ?it/s]\u001b[A\n",
      " 83%|████████▎ | 15/18 [00:00<00:00, 136.76it/s]\u001b[A\n",
      "100%|██████████| 18/18 [00:00<00:00, 107.72it/s]\u001b[A\n",
      "  0%|          | 0/18 [00:00<?, ?it/s]\u001b[A\n",
      "100%|██████████| 18/18 [00:00<00:00, 170.59it/s]\u001b[A\n",
      "\u001b[A\n",
      "  0%|          | 0/18 [00:00<?, ?it/s]\u001b[A\n",
      "100%|██████████| 18/18 [00:00<00:00, 142.38it/s]\u001b[A\n",
      "\u001b[A\n",
      "  0%|          | 0/18 [00:00<?, ?it/s]\u001b[A\n",
      "100%|██████████| 18/18 [00:00<00:00, 180.92it/s]\u001b[A\n",
      "  0%|          | 0/18 [00:00<?, ?it/s]\u001b[A\n",
      " 61%|██████    | 11/18 [00:00<00:00, 108.41it/s]\u001b[A\n",
      "100%|██████████| 18/18 [00:00<00:00, 91.35it/s] \u001b[A\n",
      "  0%|          | 0/18 [00:00<?, ?it/s]\u001b[A\n",
      "100%|██████████| 18/18 [00:00<00:00, 177.13it/s]\u001b[A\n",
      "\u001b[A\n",
      "  0%|          | 0/18 [00:00<?, ?it/s]\u001b[A\n",
      " 94%|█████████▍| 17/18 [00:00<00:00, 157.51it/s]\u001b[A\n",
      "100%|██████████| 18/18 [00:00<00:00, 128.35it/s]\u001b[A\n",
      "  0%|          | 0/18 [00:00<?, ?it/s]\u001b[A\n",
      " 78%|███████▊  | 14/18 [00:00<00:00, 137.02it/s]\u001b[A\n",
      "100%|██████████| 18/18 [00:00<00:00, 100.29it/s]\u001b[A\n",
      "  0%|          | 0/18 [00:00<?, ?it/s]\u001b[A\n",
      " 61%|██████    | 11/18 [00:00<00:00, 99.48it/s]\u001b[A\n",
      "100%|██████████| 18/18 [00:00<00:00, 86.46it/s]\u001b[A\n",
      "  0%|          | 0/18 [00:00<?, ?it/s]\u001b[A\n",
      " 67%|██████▋   | 12/18 [00:00<00:00, 116.72it/s]\u001b[A\n",
      "100%|██████████| 18/18 [00:00<00:00, 96.27it/s] \u001b[A\n",
      "  0%|          | 0/18 [00:00<?, ?it/s]\u001b[A\n",
      "100%|██████████| 18/18 [00:00<00:00, 1588.42it/s]\u001b[A\n",
      "  0%|          | 0/18 [00:00<?, ?it/s]\u001b[A\n",
      " 83%|████████▎ | 15/18 [00:00<00:00, 141.43it/s]\u001b[A\n",
      "100%|██████████| 18/18 [00:00<00:00, 109.20it/s]\u001b[A\n",
      "  0%|          | 0/18 [00:00<?, ?it/s]\u001b[A\n",
      " 83%|████████▎ | 15/18 [00:00<00:00, 144.13it/s]\u001b[A\n",
      "100%|██████████| 18/18 [00:00<00:00, 117.71it/s]\u001b[A\n",
      "  0%|          | 0/18 [00:00<?, ?it/s]\u001b[A\n",
      " 78%|███████▊  | 14/18 [00:00<00:00, 136.90it/s]\u001b[A\n",
      "100%|██████████| 18/18 [00:00<00:00, 117.22it/s]\u001b[A\n",
      "  0%|          | 0/18 [00:00<?, ?it/s]\u001b[A\n",
      " 94%|█████████▍| 17/18 [00:00<00:00, 148.06it/s]\u001b[A\n",
      "100%|██████████| 18/18 [00:00<00:00, 122.86it/s]\u001b[A\n",
      "  0%|          | 0/18 [00:00<?, ?it/s]\u001b[A\n",
      " 33%|███▎      | 6/18 [00:00<00:00, 58.52it/s]\u001b[A\n",
      " 94%|█████████▍| 17/18 [00:00<00:00, 81.20it/s]\u001b[A\n",
      "100%|██████████| 18/18 [00:00<00:00, 68.60it/s]\u001b[A\n",
      "  0%|          | 0/18 [00:00<?, ?it/s]\u001b[A\n",
      " 50%|█████     | 9/18 [00:00<00:00, 86.52it/s]\u001b[A\n",
      "100%|██████████| 18/18 [00:00<00:00, 80.00it/s]\u001b[A\n",
      "\u001b[A\n",
      "  0%|          | 0/18 [00:00<?, ?it/s]\u001b[A\n",
      "100%|██████████| 18/18 [00:00<00:00, 187.75it/s]\u001b[A\n",
      "  0%|          | 0/18 [00:00<?, ?it/s]\u001b[A\n",
      "100%|██████████| 18/18 [00:00<00:00, 1617.55it/s]\u001b[A\n",
      "  0%|          | 0/18 [00:00<?, ?it/s]\u001b[A\n",
      "100%|██████████| 18/18 [00:00<00:00, 194.21it/s]\u001b[A\n",
      "  0%|          | 0/18 [00:00<?, ?it/s]\u001b[A\n",
      " 83%|████████▎ | 15/18 [00:00<00:00, 145.26it/s]\u001b[A\n",
      "100%|██████████| 18/18 [00:00<00:00, 117.44it/s]\u001b[A\n",
      "  0%|          | 0/18 [00:00<?, ?it/s]\u001b[A\n",
      " 94%|█████████▍| 17/18 [00:00<00:00, 150.30it/s]\u001b[A\n",
      "100%|██████████| 18/18 [00:00<00:00, 125.32it/s]\u001b[A\n",
      "  0%|          | 0/18 [00:00<?, ?it/s]\u001b[A\n",
      " 83%|████████▎ | 15/18 [00:00<00:00, 137.05it/s]\u001b[A\n",
      "100%|██████████| 18/18 [00:00<00:00, 108.88it/s]\u001b[A\n",
      "  0%|          | 0/18 [00:00<?, ?it/s]\u001b[A\n",
      "100%|██████████| 18/18 [00:00<00:00, 228.22it/s]\u001b[A\n",
      "  0%|          | 0/18 [00:00<?, ?it/s]\u001b[A\n",
      " 44%|████▍     | 8/18 [00:00<00:00, 78.27it/s]\u001b[A\n",
      "100%|██████████| 18/18 [00:00<00:00, 80.27it/s]\u001b[A\n",
      "\u001b[A\n",
      "  0%|          | 0/18 [00:00<?, ?it/s]\u001b[A\n",
      " 50%|█████     | 9/18 [00:00<00:00, 86.79it/s]\u001b[A\n",
      "100%|██████████| 18/18 [00:00<00:00, 83.47it/s]\u001b[A\n",
      "\u001b[A\n",
      "  0%|          | 0/18 [00:00<?, ?it/s]\u001b[A\n",
      " 94%|█████████▍| 17/18 [00:00<00:00, 153.84it/s]\u001b[A\n",
      "100%|██████████| 18/18 [00:00<00:00, 123.65it/s]\u001b[A\n",
      "  0%|          | 0/18 [00:00<?, ?it/s]\u001b[A\n",
      " 61%|██████    | 11/18 [00:00<00:00, 105.00it/s]\u001b[A\n",
      "100%|██████████| 18/18 [00:00<00:00, 92.29it/s] \u001b[A\n",
      "  0%|          | 0/18 [00:00<?, ?it/s]\u001b[A\n",
      " 61%|██████    | 11/18 [00:00<00:00, 102.57it/s]\u001b[A\n",
      "100%|██████████| 18/18 [00:00<00:00, 90.40it/s] \u001b[A\n",
      "  0%|          | 0/18 [00:00<?, ?it/s]\u001b[A\n",
      "100%|██████████| 18/18 [00:00<00:00, 1581.99it/s]\u001b[A\n",
      "  0%|          | 0/18 [00:00<?, ?it/s]\u001b[A\n",
      " 33%|███▎      | 6/18 [00:00<00:00, 57.38it/s]\u001b[A\n",
      " 94%|█████████▍| 17/18 [00:00<00:00, 81.60it/s]\u001b[A\n",
      "100%|██████████| 18/18 [00:00<00:00, 59.75it/s]\u001b[A\n",
      "  0%|          | 0/18 [00:00<?, ?it/s]\u001b[A\n",
      " 39%|███▉      | 7/18 [00:00<00:00, 65.55it/s]\u001b[A\n",
      "100%|██████████| 18/18 [00:00<00:00, 75.07it/s]\u001b[A\n",
      "\u001b[A\n",
      "  0%|          | 0/18 [00:00<?, ?it/s]\u001b[A\n",
      " 39%|███▉      | 7/18 [00:00<00:00, 67.13it/s]\u001b[A\n",
      "100%|██████████| 18/18 [00:00<00:00, 76.68it/s]\u001b[A\n",
      "\u001b[A\n",
      "  0%|          | 0/18 [00:00<?, ?it/s]\u001b[A\n",
      " 83%|████████▎ | 15/18 [00:00<00:00, 143.90it/s]\u001b[A\n",
      "100%|██████████| 18/18 [00:00<00:00, 113.35it/s]\u001b[A\n",
      "  0%|          | 0/18 [00:00<?, ?it/s]\u001b[A\n",
      " 78%|███████▊  | 14/18 [00:00<00:00, 137.67it/s]\u001b[A\n",
      "100%|██████████| 18/18 [00:00<00:00, 101.20it/s]\u001b[A\n",
      "  0%|          | 0/18 [00:00<?, ?it/s]\u001b[A\n",
      " 83%|████████▎ | 15/18 [00:00<00:00, 135.63it/s]\u001b[A\n",
      "100%|██████████| 18/18 [00:00<00:00, 105.93it/s]\u001b[A\n",
      "  0%|          | 0/18 [00:00<?, ?it/s]\u001b[A\n",
      "100%|██████████| 18/18 [00:00<00:00, 146.92it/s]\u001b[A\n",
      "\u001b[A\n",
      "  0%|          | 0/18 [00:00<?, ?it/s]\u001b[A\n",
      " 83%|████████▎ | 15/18 [00:00<00:00, 145.76it/s]\u001b[A\n",
      "100%|██████████| 18/18 [00:00<00:00, 113.18it/s]\u001b[A\n",
      "  0%|          | 0/18 [00:00<?, ?it/s]\u001b[A\n",
      " 72%|███████▏  | 13/18 [00:00<00:00, 124.61it/s]\u001b[A\n",
      "100%|██████████| 18/18 [00:00<00:00, 97.02it/s] \u001b[A\n",
      "  0%|          | 0/18 [00:00<?, ?it/s]\u001b[A\n",
      " 72%|███████▏  | 13/18 [00:00<00:00, 127.57it/s]\u001b[A\n",
      "100%|██████████| 18/18 [00:00<00:00, 101.22it/s]\u001b[A\n",
      "  0%|          | 0/18 [00:00<?, ?it/s]\u001b[A\n",
      " 61%|██████    | 11/18 [00:00<00:00, 101.49it/s]\u001b[A\n",
      "100%|██████████| 18/18 [00:00<00:00, 89.26it/s] \u001b[A\n"
     ]
    },
    {
     "name": "stderr",
     "output_type": "stream",
     "text": [
      "  0%|          | 0/18 [00:00<?, ?it/s]\u001b[A\n",
      " 33%|███▎      | 6/18 [00:00<00:00, 52.38it/s]\u001b[A\n",
      " 94%|█████████▍| 17/18 [00:00<00:00, 72.75it/s]\u001b[A\n",
      "100%|██████████| 18/18 [00:00<00:00, 62.50it/s]\u001b[A\n",
      "  0%|          | 0/18 [00:00<?, ?it/s]\u001b[A\n",
      " 94%|█████████▍| 17/18 [00:00<00:00, 157.30it/s]\u001b[A\n",
      "100%|██████████| 18/18 [00:00<00:00, 127.79it/s]\u001b[A\n",
      "  0%|          | 0/18 [00:00<?, ?it/s]\u001b[A\n",
      " 89%|████████▉ | 16/18 [00:00<00:00, 156.39it/s]\u001b[A\n",
      "100%|██████████| 18/18 [00:00<00:00, 117.09it/s]\u001b[A\n",
      "  0%|          | 0/18 [00:00<?, ?it/s]\u001b[A\n",
      " 56%|█████▌    | 10/18 [00:00<00:00, 98.70it/s]\u001b[A\n",
      "100%|██████████| 18/18 [00:00<00:00, 85.37it/s]\u001b[A\n",
      "\u001b[A\n",
      "  0%|          | 0/18 [00:00<?, ?it/s]\u001b[A\n",
      "100%|██████████| 18/18 [00:00<00:00, 159.31it/s]\u001b[A\n",
      "\u001b[A\n",
      "  0%|          | 0/18 [00:00<?, ?it/s]\u001b[A\n",
      "100%|██████████| 18/18 [00:00<00:00, 149.49it/s]\u001b[A\n",
      "\u001b[A\n",
      "  0%|          | 0/18 [00:00<?, ?it/s]\u001b[A\n",
      " 61%|██████    | 11/18 [00:00<00:00, 102.04it/s]\u001b[A\n",
      "100%|██████████| 18/18 [00:00<00:00, 89.86it/s] \u001b[A\n",
      "  0%|          | 0/18 [00:00<?, ?it/s]\u001b[A\n",
      "100%|██████████| 18/18 [00:00<00:00, 170.80it/s]\u001b[A\n",
      "\u001b[A\n",
      "  0%|          | 0/18 [00:00<?, ?it/s]\u001b[A\n",
      " 33%|███▎      | 6/18 [00:00<00:00, 57.49it/s]\u001b[A\n",
      " 94%|█████████▍| 17/18 [00:00<00:00, 82.07it/s]\u001b[A\n",
      "100%|██████████| 18/18 [00:00<00:00, 70.00it/s]\u001b[A\n",
      "  0%|          | 0/18 [00:00<?, ?it/s]\u001b[A\n",
      " 61%|██████    | 11/18 [00:00<00:00, 104.49it/s]\u001b[A\n",
      "100%|██████████| 18/18 [00:00<00:00, 90.07it/s] \u001b[A\n",
      "  0%|          | 0/18 [00:00<?, ?it/s]\u001b[A\n",
      "100%|██████████| 18/18 [00:00<00:00, 1648.06it/s]\u001b[A\n",
      "  0%|          | 0/18 [00:00<?, ?it/s]\u001b[A\n",
      " 56%|█████▌    | 10/18 [00:00<00:00, 97.49it/s]\u001b[A\n",
      "100%|██████████| 18/18 [00:00<00:00, 82.01it/s]\u001b[A\n",
      "\u001b[A\n",
      "  0%|          | 0/18 [00:00<?, ?it/s]\u001b[A\n",
      " 83%|████████▎ | 15/18 [00:00<00:00, 135.47it/s]\u001b[A\n",
      "100%|██████████| 18/18 [00:00<00:00, 105.95it/s]\u001b[A\n",
      "  0%|          | 0/18 [00:00<?, ?it/s]\u001b[A\n",
      "100%|██████████| 18/18 [00:00<00:00, 147.73it/s]\u001b[A\n",
      "\u001b[A\n",
      "  0%|          | 0/18 [00:00<?, ?it/s]\u001b[A\n",
      " 33%|███▎      | 6/18 [00:00<00:00, 55.01it/s]\u001b[A\n",
      " 94%|█████████▍| 17/18 [00:00<00:00, 77.73it/s]\u001b[A\n",
      "100%|██████████| 18/18 [00:00<00:00, 67.52it/s]\u001b[A\n",
      "  0%|          | 0/18 [00:00<?, ?it/s]\u001b[A\n",
      " 39%|███▉      | 7/18 [00:00<00:00, 66.12it/s]\u001b[A\n",
      "100%|██████████| 18/18 [00:00<00:00, 74.74it/s]\u001b[A\n",
      "\u001b[A\n",
      "  0%|          | 0/18 [00:00<?, ?it/s]\u001b[A\n",
      "100%|██████████| 18/18 [00:00<00:00, 174.32it/s]\u001b[A\n",
      "\u001b[A\n",
      "  0%|          | 0/18 [00:00<?, ?it/s]\u001b[A\n",
      " 67%|██████▋   | 12/18 [00:00<00:00, 114.35it/s]\u001b[A\n",
      "100%|██████████| 18/18 [00:00<00:00, 92.65it/s] \u001b[A\n",
      "  0%|          | 0/18 [00:00<?, ?it/s]\u001b[A\n",
      "100%|██████████| 18/18 [00:00<00:00, 1653.83it/s]\u001b[A\n",
      "  0%|          | 0/18 [00:00<?, ?it/s]\u001b[A\n",
      " 83%|████████▎ | 15/18 [00:00<00:00, 140.30it/s]\u001b[A\n",
      "100%|██████████| 18/18 [00:00<00:00, 108.95it/s]\u001b[A\n",
      "  0%|          | 0/18 [00:00<?, ?it/s]\u001b[A\n",
      " 78%|███████▊  | 14/18 [00:00<00:00, 137.31it/s]\u001b[A\n",
      "100%|██████████| 18/18 [00:00<00:00, 101.66it/s]\u001b[A\n",
      "  0%|          | 0/18 [00:00<?, ?it/s]\u001b[A\n",
      "100%|██████████| 18/18 [00:00<00:00, 250.93it/s]\u001b[A\n",
      "  0%|          | 0/18 [00:00<?, ?it/s]\u001b[A\n",
      " 94%|█████████▍| 17/18 [00:00<00:00, 158.64it/s]\u001b[A\n",
      "100%|██████████| 18/18 [00:00<00:00, 129.96it/s]\u001b[A\n",
      "  0%|          | 0/18 [00:00<?, ?it/s]\u001b[A\n",
      " 83%|████████▎ | 15/18 [00:00<00:00, 146.84it/s]\u001b[A\n",
      "100%|██████████| 18/18 [00:00<00:00, 114.01it/s]\u001b[A\n",
      "  0%|          | 0/18 [00:00<?, ?it/s]\u001b[A\n",
      " 33%|███▎      | 6/18 [00:00<00:00, 41.62it/s]\u001b[A\n",
      " 83%|████████▎ | 15/18 [00:00<00:00, 56.24it/s]\u001b[A\n",
      "100%|██████████| 18/18 [00:00<00:00, 48.72it/s]\u001b[A\n",
      "  0%|          | 0/18 [00:00<?, ?it/s]\u001b[A\n",
      " 94%|█████████▍| 17/18 [00:00<00:00, 148.00it/s]\u001b[A\n",
      "100%|██████████| 18/18 [00:00<00:00, 121.46it/s]\u001b[A\n",
      "  0%|          | 0/18 [00:00<?, ?it/s]\u001b[A\n",
      " 78%|███████▊  | 14/18 [00:00<00:00, 136.61it/s]\u001b[A\n",
      "100%|██████████| 18/18 [00:00<00:00, 106.44it/s]\u001b[A\n",
      "  0%|          | 0/18 [00:00<?, ?it/s]\u001b[A\n",
      " 33%|███▎      | 6/18 [00:00<00:00, 58.17it/s]\u001b[A\n",
      " 94%|█████████▍| 17/18 [00:00<00:00, 80.04it/s]\u001b[A\n",
      "100%|██████████| 18/18 [00:00<00:00, 68.03it/s]\u001b[A\n",
      "  0%|          | 0/18 [00:00<?, ?it/s]\u001b[A\n",
      " 61%|██████    | 11/18 [00:00<00:00, 102.35it/s]\u001b[A\n",
      "100%|██████████| 18/18 [00:00<00:00, 89.28it/s] \u001b[A\n",
      "  0%|          | 0/18 [00:00<?, ?it/s]\u001b[A\n",
      "100%|██████████| 18/18 [00:00<00:00, 1684.27it/s]\u001b[A\n",
      "  0%|          | 0/18 [00:00<?, ?it/s]\u001b[A\n",
      " 39%|███▉      | 7/18 [00:00<00:00, 67.33it/s]\u001b[A\n",
      "100%|██████████| 18/18 [00:00<00:00, 77.33it/s]\u001b[A\n",
      "\u001b[A\n",
      "  0%|          | 0/18 [00:00<?, ?it/s]\u001b[A\n",
      "100%|██████████| 18/18 [00:00<00:00, 170.55it/s]\u001b[A\n",
      "\u001b[A\n",
      "  0%|          | 0/18 [00:00<?, ?it/s]\u001b[A\n",
      " 78%|███████▊  | 14/18 [00:00<00:00, 135.50it/s]\u001b[A\n",
      "100%|██████████| 18/18 [00:00<00:00, 102.09it/s]\u001b[A\n",
      "  0%|          | 0/18 [00:00<?, ?it/s]\u001b[A\n",
      " 78%|███████▊  | 14/18 [00:00<00:00, 137.08it/s]\u001b[A\n",
      "100%|██████████| 18/18 [00:00<00:00, 101.63it/s]\u001b[A\n",
      "  0%|          | 0/18 [00:00<?, ?it/s]\u001b[A\n",
      " 78%|███████▊  | 14/18 [00:00<00:00, 136.88it/s]\u001b[A\n",
      "100%|██████████| 18/18 [00:00<00:00, 100.69it/s]\u001b[A\n",
      "  0%|          | 0/18 [00:00<?, ?it/s]\u001b[A\n",
      " 94%|█████████▍| 17/18 [00:00<00:00, 158.35it/s]\u001b[A\n",
      "100%|██████████| 18/18 [00:00<00:00, 128.15it/s]\u001b[A\n",
      "  0%|          | 0/18 [00:00<?, ?it/s]\u001b[A\n",
      "100%|██████████| 18/18 [00:00<00:00, 1501.24it/s]\u001b[A\n",
      "  0%|          | 0/18 [00:00<?, ?it/s]\u001b[A\n",
      " 72%|███████▏  | 13/18 [00:00<00:00, 128.58it/s]\u001b[A\n",
      "100%|██████████| 18/18 [00:00<00:00, 97.85it/s] \u001b[A\n",
      "  0%|          | 0/18 [00:00<?, ?it/s]\u001b[A\n",
      " 61%|██████    | 11/18 [00:00<00:00, 101.48it/s]\u001b[A\n",
      "100%|██████████| 18/18 [00:00<00:00, 87.34it/s] \u001b[A\n",
      "  0%|          | 0/18 [00:00<?, ?it/s]\u001b[A\n",
      " 33%|███▎      | 6/18 [00:00<00:00, 55.84it/s]\u001b[A\n",
      " 94%|█████████▍| 17/18 [00:00<00:00, 77.10it/s]\u001b[A\n",
      "100%|██████████| 18/18 [00:00<00:00, 65.14it/s]\u001b[A\n",
      "  0%|          | 0/18 [00:00<?, ?it/s]\u001b[A\n",
      " 50%|█████     | 9/18 [00:00<00:00, 88.62it/s]\u001b[A\n",
      "100%|██████████| 18/18 [00:00<00:00, 81.51it/s]\u001b[A\n",
      "\u001b[A\n",
      "  0%|          | 0/18 [00:00<?, ?it/s]\u001b[A\n",
      " 83%|████████▎ | 15/18 [00:00<00:00, 134.01it/s]\u001b[A\n",
      "100%|██████████| 18/18 [00:00<00:00, 105.32it/s]\u001b[A\n",
      "  0%|          | 0/18 [00:00<?, ?it/s]\u001b[A\n",
      "100%|██████████| 18/18 [00:00<00:00, 144.11it/s]\u001b[A\n",
      "\u001b[A\n",
      "  0%|          | 0/18 [00:00<?, ?it/s]\u001b[A\n",
      " 78%|███████▊  | 14/18 [00:00<00:00, 136.58it/s]\u001b[A\n",
      "100%|██████████| 18/18 [00:00<00:00, 101.39it/s]\u001b[A\n",
      "  0%|          | 0/18 [00:00<?, ?it/s]\u001b[A\n",
      " 61%|██████    | 11/18 [00:00<00:00, 100.85it/s]\u001b[A\n",
      "100%|██████████| 18/18 [00:00<00:00, 86.77it/s] \u001b[A\n",
      "  0%|          | 0/18 [00:00<?, ?it/s]\u001b[A\n",
      "100%|██████████| 18/18 [00:00<00:00, 158.00it/s]\u001b[A\n",
      "\u001b[A\n",
      "  0%|          | 0/18 [00:00<?, ?it/s]\u001b[A\n",
      " 72%|███████▏  | 13/18 [00:00<00:00, 127.60it/s]\u001b[A\n",
      "100%|██████████| 18/18 [00:00<00:00, 100.07it/s]\u001b[A\n",
      "  0%|          | 0/18 [00:00<?, ?it/s]\u001b[A\n",
      "100%|██████████| 18/18 [00:00<00:00, 1559.12it/s]\u001b[A\n",
      "  0%|          | 0/18 [00:00<?, ?it/s]\u001b[A\n",
      " 72%|███████▏  | 13/18 [00:00<00:00, 125.64it/s]\u001b[A\n",
      "100%|██████████| 18/18 [00:00<00:00, 98.88it/s] \u001b[A\n",
      "  0%|          | 0/18 [00:00<?, ?it/s]\u001b[A\n",
      "100%|██████████| 18/18 [00:00<00:00, 215.17it/s]\u001b[A\n",
      "  0%|          | 0/18 [00:00<?, ?it/s]\u001b[A\n",
      " 94%|█████████▍| 17/18 [00:00<00:00, 165.67it/s]\u001b[A\n",
      "100%|██████████| 18/18 [00:00<00:00, 135.58it/s]\u001b[A\n",
      "  0%|          | 0/18 [00:00<?, ?it/s]\u001b[A\n",
      " 67%|██████▋   | 12/18 [00:00<00:00, 113.68it/s]\u001b[A\n",
      "100%|██████████| 18/18 [00:00<00:00, 96.19it/s] \u001b[A\n",
      "  0%|          | 0/18 [00:00<?, ?it/s]\u001b[A\n",
      "100%|██████████| 18/18 [00:00<00:00, 148.65it/s]\u001b[A\n",
      "\u001b[A\n",
      "  0%|          | 0/18 [00:00<?, ?it/s]\u001b[A\n",
      "100%|██████████| 18/18 [00:00<00:00, 150.01it/s]\u001b[A\n",
      "\u001b[A\n",
      "  0%|          | 0/18 [00:00<?, ?it/s]\u001b[A\n",
      " 83%|████████▎ | 15/18 [00:00<00:00, 141.33it/s]\u001b[A\n",
      "100%|██████████| 18/18 [00:00<00:00, 112.83it/s]\u001b[A\n",
      "  0%|          | 0/18 [00:00<?, ?it/s]\u001b[A\n",
      " 33%|███▎      | 6/18 [00:00<00:00, 31.96it/s]\u001b[A\n",
      " 67%|██████▋   | 12/18 [00:00<00:00, 40.75it/s]\u001b[A\n",
      " 94%|█████████▍| 17/18 [00:00<00:00, 40.51it/s]\u001b[A\n",
      "100%|██████████| 18/18 [00:00<00:00, 36.49it/s]\u001b[A\n",
      "  0%|          | 0/18 [00:00<?, ?it/s]\u001b[A\n",
      " 78%|███████▊  | 14/18 [00:00<00:00, 137.08it/s]\u001b[A\n",
      "100%|██████████| 18/18 [00:00<00:00, 100.25it/s]\u001b[A\n",
      "  0%|          | 0/18 [00:00<?, ?it/s]\u001b[A\n",
      " 83%|████████▎ | 15/18 [00:00<00:00, 146.26it/s]\u001b[A\n",
      "100%|██████████| 18/18 [00:00<00:00, 114.64it/s]\u001b[A\n",
      "  0%|          | 0/18 [00:00<?, ?it/s]\u001b[A\n",
      " 72%|███████▏  | 13/18 [00:00<00:00, 126.00it/s]\u001b[A\n",
      "100%|██████████| 18/18 [00:00<00:00, 96.59it/s] \u001b[A\n"
     ]
    },
    {
     "name": "stderr",
     "output_type": "stream",
     "text": [
      "  0%|          | 0/18 [00:00<?, ?it/s]\u001b[A\n",
      "100%|██████████| 18/18 [00:00<00:00, 207.42it/s]\u001b[A\n",
      "  0%|          | 0/18 [00:00<?, ?it/s]\u001b[A\n",
      " 94%|█████████▍| 17/18 [00:00<00:00, 165.42it/s]\u001b[A\n",
      "100%|██████████| 18/18 [00:00<00:00, 132.64it/s]\u001b[A\n",
      "  0%|          | 0/18 [00:00<?, ?it/s]\u001b[A\n",
      " 83%|████████▎ | 15/18 [00:00<00:00, 131.32it/s]\u001b[A\n",
      "100%|██████████| 18/18 [00:00<00:00, 104.98it/s]\u001b[A\n",
      "  0%|          | 0/18 [00:00<?, ?it/s]\u001b[A\n",
      "100%|██████████| 18/18 [00:00<00:00, 167.63it/s]\u001b[A\n",
      "\u001b[A\n",
      "  0%|          | 0/18 [00:00<?, ?it/s]\u001b[A\n",
      " 33%|███▎      | 6/18 [00:00<00:00, 47.62it/s]\u001b[A\n",
      " 83%|████████▎ | 15/18 [00:00<00:00, 65.71it/s]\u001b[A\n",
      "100%|██████████| 18/18 [00:00<00:00, 56.21it/s]\u001b[A\n",
      "  0%|          | 0/18 [00:00<?, ?it/s]\u001b[A\n",
      "100%|██████████| 18/18 [00:00<00:00, 168.26it/s]\u001b[A\n",
      "\u001b[A\n",
      "  0%|          | 0/18 [00:00<?, ?it/s]\u001b[A\n",
      " 94%|█████████▍| 17/18 [00:00<00:00, 156.24it/s]\u001b[A\n",
      "100%|██████████| 18/18 [00:00<00:00, 125.73it/s]\u001b[A\n",
      "  0%|          | 0/18 [00:00<?, ?it/s]\u001b[A\n",
      " 94%|█████████▍| 17/18 [00:00<00:00, 149.48it/s]\u001b[A\n",
      "100%|██████████| 18/18 [00:00<00:00, 122.17it/s]\u001b[A\n",
      "  0%|          | 0/18 [00:00<?, ?it/s]\u001b[A\n",
      " 83%|████████▎ | 15/18 [00:00<00:00, 140.67it/s]\u001b[A\n",
      "100%|██████████| 18/18 [00:00<00:00, 106.67it/s]\u001b[A\n",
      "  0%|          | 0/18 [00:00<?, ?it/s]\u001b[A\n",
      " 67%|██████▋   | 12/18 [00:00<00:00, 114.34it/s]\u001b[A\n",
      "100%|██████████| 18/18 [00:00<00:00, 94.72it/s] \u001b[A\n",
      "  0%|          | 0/18 [00:00<?, ?it/s]\u001b[A\n",
      "100%|██████████| 18/18 [00:00<00:00, 1636.98it/s]\u001b[A\n",
      "  0%|          | 0/18 [00:00<?, ?it/s]\u001b[A\n",
      "100%|██████████| 18/18 [00:00<00:00, 141.95it/s]\u001b[A\n",
      "\u001b[A\n",
      "  0%|          | 0/18 [00:00<?, ?it/s]\u001b[A\n",
      " 94%|█████████▍| 17/18 [00:00<00:00, 159.98it/s]\u001b[A\n",
      "100%|██████████| 18/18 [00:00<00:00, 128.64it/s]\u001b[A\n",
      "  0%|          | 0/18 [00:00<?, ?it/s]\u001b[A\n",
      "100%|██████████| 18/18 [00:00<00:00, 145.45it/s]\u001b[A\n",
      "\u001b[A\n",
      "  0%|          | 0/18 [00:00<?, ?it/s]\u001b[A\n",
      "100%|██████████| 18/18 [00:00<00:00, 1665.29it/s]\u001b[A\n",
      "  0%|          | 0/18 [00:00<?, ?it/s]\u001b[A\n",
      " 72%|███████▏  | 13/18 [00:00<00:00, 126.02it/s]\u001b[A\n",
      "100%|██████████| 18/18 [00:00<00:00, 95.14it/s] \u001b[A\n",
      "  0%|          | 0/18 [00:00<?, ?it/s]\u001b[A\n",
      " 83%|████████▎ | 15/18 [00:00<00:00, 135.80it/s]\u001b[A\n",
      "100%|██████████| 18/18 [00:00<00:00, 107.40it/s]\u001b[A\n",
      "  0%|          | 0/18 [00:00<?, ?it/s]\u001b[A\n",
      " 67%|██████▋   | 12/18 [00:00<00:00, 116.39it/s]\u001b[A\n",
      "100%|██████████| 18/18 [00:00<00:00, 94.11it/s] \u001b[A\n",
      "  0%|          | 0/18 [00:00<?, ?it/s]\u001b[A\n",
      " 83%|████████▎ | 15/18 [00:00<00:00, 137.49it/s]\u001b[A\n",
      "100%|██████████| 18/18 [00:00<00:00, 107.18it/s]\u001b[A\n",
      "  0%|          | 0/18 [00:00<?, ?it/s]\u001b[A\n",
      " 83%|████████▎ | 15/18 [00:00<00:00, 141.41it/s]\u001b[A\n",
      "100%|██████████| 18/18 [00:00<00:00, 114.07it/s]\u001b[A\n",
      "  0%|          | 0/18 [00:00<?, ?it/s]\u001b[A\n",
      " 83%|████████▎ | 15/18 [00:00<00:00, 141.85it/s]\u001b[A\n",
      "100%|██████████| 18/18 [00:00<00:00, 112.82it/s]\u001b[A\n",
      "  0%|          | 0/18 [00:00<?, ?it/s]\u001b[A\n",
      "100%|██████████| 18/18 [00:00<00:00, 144.70it/s]\u001b[A\n",
      "\u001b[A\n",
      "  0%|          | 0/18 [00:00<?, ?it/s]\u001b[A\n",
      " 94%|█████████▍| 17/18 [00:00<00:00, 157.31it/s]\u001b[A\n",
      "100%|██████████| 18/18 [00:00<00:00, 127.96it/s]\u001b[A\n",
      "  0%|          | 0/18 [00:00<?, ?it/s]\u001b[A\n",
      " 94%|█████████▍| 17/18 [00:00<00:00, 165.42it/s]\u001b[A\n",
      "100%|██████████| 18/18 [00:00<00:00, 136.39it/s]\u001b[A\n",
      "  0%|          | 0/18 [00:00<?, ?it/s]\u001b[A\n",
      " 83%|████████▎ | 15/18 [00:00<00:00, 136.11it/s]\u001b[A\n",
      "100%|██████████| 18/18 [00:00<00:00, 107.53it/s]\u001b[A\n",
      "  0%|          | 0/18 [00:00<?, ?it/s]\u001b[A\n",
      " 78%|███████▊  | 14/18 [00:00<00:00, 136.87it/s]\u001b[A\n",
      "100%|██████████| 18/18 [00:00<00:00, 102.79it/s]\u001b[A\n",
      "  0%|          | 0/18 [00:00<?, ?it/s]\u001b[A\n",
      " 94%|█████████▍| 17/18 [00:00<00:00, 156.69it/s]\u001b[A\n",
      "100%|██████████| 18/18 [00:00<00:00, 129.45it/s]\u001b[A\n",
      "  0%|          | 0/18 [00:00<?, ?it/s]\u001b[A\n",
      " 33%|███▎      | 6/18 [00:00<00:00, 53.75it/s]\u001b[A\n",
      " 94%|█████████▍| 17/18 [00:00<00:00, 75.92it/s]\u001b[A\n",
      "100%|██████████| 18/18 [00:00<00:00, 65.58it/s]\u001b[A\n",
      "  0%|          | 0/18 [00:00<?, ?it/s]\u001b[A\n",
      " 83%|████████▎ | 15/18 [00:00<00:00, 136.80it/s]\u001b[A\n",
      "100%|██████████| 18/18 [00:00<00:00, 109.89it/s]\u001b[A\n",
      "  0%|          | 0/18 [00:00<?, ?it/s]\u001b[A\n",
      " 56%|█████▌    | 10/18 [00:00<00:00, 96.63it/s]\u001b[A\n",
      "100%|██████████| 18/18 [00:00<00:00, 84.21it/s]\u001b[A\n",
      "\u001b[A\n",
      "  0%|          | 0/18 [00:00<?, ?it/s]\u001b[A\n",
      " 61%|██████    | 11/18 [00:00<00:00, 103.75it/s]\u001b[A\n",
      "100%|██████████| 18/18 [00:00<00:00, 90.14it/s] \u001b[A\n",
      "  0%|          | 0/18 [00:00<?, ?it/s]\u001b[A\n",
      " 83%|████████▎ | 15/18 [00:00<00:00, 144.96it/s]\u001b[A\n",
      "100%|██████████| 18/18 [00:00<00:00, 114.34it/s]\u001b[A\n",
      "  0%|          | 0/18 [00:00<?, ?it/s]\u001b[A\n",
      " 61%|██████    | 11/18 [00:00<00:00, 98.94it/s]\u001b[A\n",
      "100%|██████████| 18/18 [00:00<00:00, 83.78it/s]\u001b[A\n",
      "\u001b[A\n",
      "  0%|          | 0/18 [00:00<?, ?it/s]\u001b[A\n",
      " 83%|████████▎ | 15/18 [00:00<00:00, 132.12it/s]\u001b[A\n",
      "100%|██████████| 18/18 [00:00<00:00, 103.40it/s]\u001b[A\n",
      "  0%|          | 0/18 [00:00<?, ?it/s]\u001b[A\n",
      "100%|██████████| 18/18 [00:00<00:00, 144.32it/s]\u001b[A\n",
      "\u001b[A\n",
      "  0%|          | 0/18 [00:00<?, ?it/s]\u001b[A\n",
      " 33%|███▎      | 6/18 [00:00<00:00, 47.47it/s]\u001b[A\n",
      " 89%|████████▉ | 16/18 [00:00<00:00, 70.17it/s]\u001b[A\n",
      "100%|██████████| 18/18 [00:00<00:00, 57.88it/s]\u001b[A\n",
      "  0%|          | 0/18 [00:00<?, ?it/s]\u001b[A\n",
      " 94%|█████████▍| 17/18 [00:00<00:00, 160.61it/s]\u001b[A\n",
      "100%|██████████| 18/18 [00:00<00:00, 128.68it/s]\u001b[A\n",
      "  0%|          | 0/18 [00:00<?, ?it/s]\u001b[A\n",
      " 83%|████████▎ | 15/18 [00:00<00:00, 142.34it/s]\u001b[A\n",
      "100%|██████████| 18/18 [00:00<00:00, 113.04it/s]\u001b[A\n",
      "  0%|          | 0/18 [00:00<?, ?it/s]\u001b[A\n",
      " 83%|████████▎ | 15/18 [00:00<00:00, 145.46it/s]\u001b[A\n",
      "100%|██████████| 18/18 [00:00<00:00, 112.98it/s]\u001b[A\n",
      "  0%|          | 0/18 [00:00<?, ?it/s]\u001b[A\n",
      "100%|██████████| 18/18 [00:00<00:00, 146.24it/s]\u001b[A\n",
      "\u001b[A\n",
      "  0%|          | 0/18 [00:00<?, ?it/s]\u001b[A\n",
      " 83%|████████▎ | 15/18 [00:00<00:00, 137.37it/s]\u001b[A\n",
      "100%|██████████| 18/18 [00:00<00:00, 109.25it/s]\u001b[A\n",
      "  0%|          | 0/18 [00:00<?, ?it/s]\u001b[A\n",
      " 61%|██████    | 11/18 [00:00<00:00, 102.33it/s]\u001b[A\n",
      "100%|██████████| 18/18 [00:00<00:00, 87.87it/s] \u001b[A\n",
      "  0%|          | 0/18 [00:00<?, ?it/s]\u001b[A\n",
      " 83%|████████▎ | 15/18 [00:00<00:00, 130.34it/s]\u001b[A\n",
      "100%|██████████| 18/18 [00:00<00:00, 104.29it/s]\u001b[A\n",
      "  0%|          | 0/18 [00:00<?, ?it/s]\u001b[A\n",
      " 83%|████████▎ | 15/18 [00:00<00:00, 138.66it/s]\u001b[A\n",
      "100%|██████████| 18/18 [00:00<00:00, 106.12it/s]\u001b[A\n",
      "  0%|          | 0/18 [00:00<?, ?it/s]\u001b[A\n",
      "100%|██████████| 18/18 [00:00<00:00, 165.26it/s]\u001b[A\n",
      "\u001b[A\n",
      "  0%|          | 0/18 [00:00<?, ?it/s]\u001b[A\n",
      " 83%|████████▎ | 15/18 [00:00<00:00, 143.12it/s]\u001b[A\n",
      "100%|██████████| 18/18 [00:00<00:00, 110.83it/s]\u001b[A\n",
      "  0%|          | 0/18 [00:00<?, ?it/s]\u001b[A\n",
      " 61%|██████    | 11/18 [00:00<00:00, 102.02it/s]\u001b[A\n",
      "100%|██████████| 18/18 [00:00<00:00, 87.94it/s] \u001b[A\n",
      "  0%|          | 0/18 [00:00<?, ?it/s]\u001b[A\n",
      "100%|██████████| 18/18 [00:00<00:00, 166.55it/s]\u001b[A\n",
      "\u001b[A\n",
      "  0%|          | 0/18 [00:00<?, ?it/s]\u001b[A\n",
      " 33%|███▎      | 6/18 [00:00<00:00, 56.79it/s]\u001b[A\n",
      " 94%|█████████▍| 17/18 [00:00<00:00, 79.71it/s]\u001b[A\n",
      "100%|██████████| 18/18 [00:00<00:00, 68.66it/s]\u001b[A\n",
      "  0%|          | 0/18 [00:00<?, ?it/s]\u001b[A\n",
      " 61%|██████    | 11/18 [00:00<00:00, 103.99it/s]\u001b[A\n",
      "100%|██████████| 18/18 [00:00<00:00, 87.85it/s] \u001b[A\n",
      "  0%|          | 0/18 [00:00<?, ?it/s]\u001b[A\n",
      " 33%|███▎      | 6/18 [00:00<00:00, 51.80it/s]\u001b[A\n",
      " 94%|█████████▍| 17/18 [00:00<00:00, 71.51it/s]\u001b[A\n",
      "100%|██████████| 18/18 [00:00<00:00, 61.22it/s]\u001b[A\n",
      "  0%|          | 0/18 [00:00<?, ?it/s]\u001b[A\n",
      "100%|██████████| 18/18 [00:00<00:00, 151.58it/s]\u001b[A\n",
      "\u001b[A\n",
      "  0%|          | 0/18 [00:00<?, ?it/s]\u001b[A\n",
      " 83%|████████▎ | 15/18 [00:00<00:00, 142.24it/s]\u001b[A\n",
      "100%|██████████| 18/18 [00:00<00:00, 111.72it/s]\u001b[A\n",
      "  0%|          | 0/18 [00:00<?, ?it/s]\u001b[A\n",
      "100%|██████████| 18/18 [00:00<00:00, 142.83it/s]\u001b[A\n",
      "\u001b[A\n",
      "  0%|          | 0/18 [00:00<?, ?it/s]\u001b[A\n",
      " 94%|█████████▍| 17/18 [00:00<00:00, 166.07it/s]\u001b[A\n",
      "100%|██████████| 18/18 [00:00<00:00, 136.42it/s]\u001b[A\n",
      "  0%|          | 0/18 [00:00<?, ?it/s]\u001b[A\n",
      " 67%|██████▋   | 12/18 [00:00<00:00, 115.67it/s]\u001b[A\n",
      "100%|██████████| 18/18 [00:00<00:00, 95.82it/s] \u001b[A\n",
      "  0%|          | 0/18 [00:00<?, ?it/s]\u001b[A\n",
      " 44%|████▍     | 8/18 [00:00<00:00, 77.91it/s]\u001b[A\n",
      "100%|██████████| 18/18 [00:00<00:00, 79.41it/s]\u001b[A\n",
      "\u001b[A\n",
      "  0%|          | 0/18 [00:00<?, ?it/s]\u001b[A\n",
      " 83%|████████▎ | 15/18 [00:00<00:00, 134.35it/s]\u001b[A\n",
      "100%|██████████| 18/18 [00:00<00:00, 107.82it/s]\u001b[A\n",
      "  0%|          | 0/18 [00:00<?, ?it/s]\u001b[A\n",
      " 61%|██████    | 11/18 [00:00<00:00, 106.35it/s]\u001b[A\n",
      "100%|██████████| 18/18 [00:00<00:00, 90.26it/s] \u001b[A\n"
     ]
    },
    {
     "name": "stderr",
     "output_type": "stream",
     "text": [
      "  0%|          | 0/18 [00:00<?, ?it/s]\u001b[A\n",
      " 56%|█████▌    | 10/18 [00:00<00:00, 97.57it/s]\u001b[A\n",
      " 94%|█████████▍| 17/18 [00:00<00:00, 76.60it/s]\u001b[A\n",
      "100%|██████████| 18/18 [00:00<00:00, 65.46it/s]\u001b[A\n",
      "  0%|          | 0/18 [00:00<?, ?it/s]\u001b[A\n",
      " 61%|██████    | 11/18 [00:00<00:00, 106.02it/s]\u001b[A\n",
      "100%|██████████| 18/18 [00:00<00:00, 91.92it/s] \u001b[A\n",
      "  0%|          | 0/18 [00:00<?, ?it/s]\u001b[A\n",
      "100%|██████████| 18/18 [00:00<00:00, 160.31it/s]\u001b[A\n",
      "\u001b[A\n",
      "  0%|          | 0/18 [00:00<?, ?it/s]\u001b[A\n",
      "100%|██████████| 18/18 [00:00<00:00, 152.80it/s]\u001b[A\n",
      "\u001b[A\n",
      "  0%|          | 0/18 [00:00<?, ?it/s]\u001b[A\n",
      " 78%|███████▊  | 14/18 [00:00<00:00, 135.72it/s]\u001b[A\n",
      "100%|██████████| 18/18 [00:00<00:00, 97.53it/s] \u001b[A\n",
      "  0%|          | 0/18 [00:00<?, ?it/s]\u001b[A\n",
      " 94%|█████████▍| 17/18 [00:00<00:00, 147.67it/s]\u001b[A\n",
      "100%|██████████| 18/18 [00:00<00:00, 98.03it/s] \u001b[A\n",
      "  0%|          | 0/18 [00:00<?, ?it/s]\u001b[A\n",
      " 78%|███████▊  | 14/18 [00:00<00:00, 136.49it/s]\u001b[A\n",
      "100%|██████████| 18/18 [00:00<00:00, 101.35it/s]\u001b[A\n",
      "  0%|          | 0/18 [00:00<?, ?it/s]\u001b[A\n",
      " 33%|███▎      | 6/18 [00:00<00:00, 51.73it/s]\u001b[A\n",
      " 94%|█████████▍| 17/18 [00:00<00:00, 71.43it/s]\u001b[A\n",
      "100%|██████████| 18/18 [00:00<00:00, 61.99it/s]\u001b[A\n",
      "  0%|          | 0/18 [00:00<?, ?it/s]\u001b[A\n",
      " 83%|████████▎ | 15/18 [00:00<00:00, 144.88it/s]\u001b[A\n",
      "100%|██████████| 18/18 [00:00<00:00, 114.89it/s]\u001b[A\n",
      "  0%|          | 0/18 [00:00<?, ?it/s]\u001b[A\n",
      " 94%|█████████▍| 17/18 [00:00<00:00, 150.52it/s]\u001b[A\n",
      "100%|██████████| 18/18 [00:00<00:00, 122.92it/s]\u001b[A\n",
      "  0%|          | 0/18 [00:00<?, ?it/s]\u001b[A\n",
      " 94%|█████████▍| 17/18 [00:00<00:00, 150.71it/s]\u001b[A\n",
      "100%|██████████| 18/18 [00:00<00:00, 123.51it/s]\u001b[A\n",
      "  0%|          | 0/18 [00:00<?, ?it/s]\u001b[A\n",
      " 83%|████████▎ | 15/18 [00:00<00:00, 136.30it/s]\u001b[A\n",
      "100%|██████████| 18/18 [00:00<00:00, 109.29it/s]\u001b[A\n",
      "  0%|          | 0/18 [00:00<?, ?it/s]\u001b[A\n",
      " 33%|███▎      | 6/18 [00:00<00:00, 57.98it/s]\u001b[A\n",
      " 94%|█████████▍| 17/18 [00:00<00:00, 83.54it/s]\u001b[A\n",
      "100%|██████████| 18/18 [00:00<00:00, 71.55it/s]\u001b[A\n",
      "  0%|          | 0/18 [00:00<?, ?it/s]\u001b[A\n",
      " 44%|████▍     | 8/18 [00:00<00:00, 78.34it/s]\u001b[A\n",
      "100%|██████████| 18/18 [00:00<00:00, 77.85it/s]\u001b[A\n",
      "\u001b[A\n",
      "  0%|          | 0/18 [00:00<?, ?it/s]\u001b[A\n",
      " 83%|████████▎ | 15/18 [00:00<00:00, 137.49it/s]\u001b[A\n",
      "100%|██████████| 18/18 [00:00<00:00, 109.03it/s]\u001b[A\n",
      "  0%|          | 0/18 [00:00<?, ?it/s]\u001b[A\n",
      " 94%|█████████▍| 17/18 [00:00<00:00, 148.45it/s]\u001b[A\n",
      "100%|██████████| 18/18 [00:00<00:00, 122.41it/s]\u001b[A\n",
      "  0%|          | 0/18 [00:00<?, ?it/s]\u001b[A\n",
      " 94%|█████████▍| 17/18 [00:00<00:00, 162.70it/s]\u001b[A\n",
      "100%|██████████| 18/18 [00:00<00:00, 131.25it/s]\u001b[A\n",
      "  0%|          | 0/18 [00:00<?, ?it/s]\u001b[A\n",
      "100%|██████████| 18/18 [00:00<00:00, 185.99it/s]\u001b[A\n",
      "  0%|          | 0/18 [00:00<?, ?it/s]\u001b[A\n",
      " 94%|█████████▍| 17/18 [00:00<00:00, 167.07it/s]\u001b[A\n",
      "100%|██████████| 18/18 [00:00<00:00, 137.29it/s]\u001b[A\n",
      "  0%|          | 0/18 [00:00<?, ?it/s]\u001b[A\n",
      " 89%|████████▉ | 16/18 [00:00<00:00, 156.40it/s]\u001b[A\n",
      "100%|██████████| 18/18 [00:00<00:00, 120.47it/s]\u001b[A\n",
      "  0%|          | 0/18 [00:00<?, ?it/s]\u001b[A\n",
      " 94%|█████████▍| 17/18 [00:00<00:00, 156.45it/s]\u001b[A\n",
      "100%|██████████| 18/18 [00:00<00:00, 129.10it/s]\u001b[A\n",
      "  0%|          | 0/18 [00:00<?, ?it/s]\u001b[A\n",
      " 94%|█████████▍| 17/18 [00:00<00:00, 162.35it/s]\u001b[A\n",
      "100%|██████████| 18/18 [00:00<00:00, 127.51it/s]\u001b[A\n",
      "  0%|          | 0/18 [00:00<?, ?it/s]\u001b[A\n",
      " 83%|████████▎ | 15/18 [00:00<00:00, 143.26it/s]\u001b[A\n",
      "100%|██████████| 18/18 [00:00<00:00, 113.73it/s]\u001b[A\n",
      "  0%|          | 0/18 [00:00<?, ?it/s]\u001b[A\n",
      " 94%|█████████▍| 17/18 [00:00<00:00, 149.77it/s]\u001b[A\n",
      "100%|██████████| 18/18 [00:00<00:00, 123.22it/s]\u001b[A\n",
      "  0%|          | 0/18 [00:00<?, ?it/s]\u001b[A\n",
      " 83%|████████▎ | 15/18 [00:00<00:00, 132.09it/s]\u001b[A\n",
      "100%|██████████| 18/18 [00:00<00:00, 106.87it/s]\u001b[A\n",
      "  0%|          | 0/18 [00:00<?, ?it/s]\u001b[A\n",
      " 56%|█████▌    | 10/18 [00:00<00:00, 98.10it/s]\u001b[A\n",
      "100%|██████████| 18/18 [00:00<00:00, 86.33it/s]\u001b[A\n",
      "\u001b[A\n",
      "  0%|          | 0/18 [00:00<?, ?it/s]\u001b[A\n",
      " 78%|███████▊  | 14/18 [00:00<00:00, 136.33it/s]\u001b[A\n",
      "100%|██████████| 18/18 [00:00<00:00, 101.02it/s]\u001b[A\n",
      "  0%|          | 0/18 [00:00<?, ?it/s]\u001b[A\n",
      " 67%|██████▋   | 12/18 [00:00<00:00, 117.31it/s]\u001b[A\n",
      "100%|██████████| 18/18 [00:00<00:00, 97.43it/s] \u001b[A\n",
      "  0%|          | 0/18 [00:00<?, ?it/s]\u001b[A\n",
      " 67%|██████▋   | 12/18 [00:00<00:00, 118.12it/s]\u001b[A\n",
      "100%|██████████| 18/18 [00:00<00:00, 98.46it/s] \u001b[A\n",
      "  0%|          | 0/18 [00:00<?, ?it/s]\u001b[A\n",
      " 83%|████████▎ | 15/18 [00:00<00:00, 135.33it/s]\u001b[A\n",
      "100%|██████████| 18/18 [00:00<00:00, 109.23it/s]\u001b[A\n",
      "  0%|          | 0/18 [00:00<?, ?it/s]\u001b[A\n",
      " 89%|████████▉ | 16/18 [00:00<00:00, 155.34it/s]\u001b[A\n",
      "100%|██████████| 18/18 [00:00<00:00, 116.48it/s]\u001b[A\n",
      "  0%|          | 0/18 [00:00<?, ?it/s]\u001b[A\n",
      " 44%|████▍     | 8/18 [00:00<00:00, 78.90it/s]\u001b[A\n",
      "100%|██████████| 18/18 [00:00<00:00, 79.22it/s]\u001b[A\n",
      "\u001b[A\n",
      "  0%|          | 0/18 [00:00<?, ?it/s]\u001b[A\n",
      " 89%|████████▉ | 16/18 [00:00<00:00, 156.94it/s]\u001b[A\n",
      "100%|██████████| 18/18 [00:00<00:00, 118.54it/s]\u001b[A\n",
      "  0%|          | 0/18 [00:00<?, ?it/s]\u001b[A\n",
      " 50%|█████     | 9/18 [00:00<00:00, 88.38it/s]\u001b[A\n",
      "100%|██████████| 18/18 [00:00<00:00, 93.14it/s]\u001b[A\n",
      "  0%|          | 0/18 [00:00<?, ?it/s]\u001b[A\n",
      " 78%|███████▊  | 14/18 [00:00<00:00, 136.92it/s]\u001b[A\n",
      "100%|██████████| 1/1 [03:08<00:00, 188.39s/it]s]\u001b[A\n"
     ]
    }
   ],
   "source": [
    "presc_Disease_prevalence_area = {}\n",
    "missing_pract = []\n",
    "for f in tqdm(files[:1]):\n",
    "    month = f.split('/')[-1].split('.')[0]\n",
    "    print \"Working with %s month\"%(month)\n",
    "    presc_Disease_prevalence_area[month] = {}\n",
    "    pdp = pd.read_csv(f,compression='gzip')\n",
    "    print \"there are in total %d practices in this file\"%(len(set(pdp['2'])))\n",
    "    pdp['10']= pdp['10'].str.split(' ', n = 1, expand = True)\n",
    "    \n",
    "    for area in Area_values:\n",
    "        codes = compre_postCode_dict[area]['postcodes']\n",
    "        area_df = pdp[pdp['10'].isin(codes)]\n",
    "        all_diseases = area_df[area_df['12'].notnull()]\n",
    "        total_drugs = len(all_diseases)\n",
    "#         for d in tqdm(['diabetes','depression']):\n",
    "        for d in tqdm(diseaseMatched):\n",
    "            key = d.replace('\\\"','').replace('+',' ').replace('\\\\','')\n",
    "            if key not in  presc_Disease_prevalence_area[month]:\n",
    "                 presc_Disease_prevalence_area[month][key] = {}\n",
    "            disease_df = area_df[area_df['12'] == key]\n",
    "            if len(disease_df) == 0:\n",
    "                presc_Disease_prevalence_area[month][key][area] = 0.0\n",
    "            else:\n",
    "                scaling = float(Area_values[area]['patients'])/float(Area_values[area]['population'])\n",
    "#                 presc_Disease_prevalence_area[month][key][area] = (diseasePrevalenceArea(disease_df ,Drug_code , total_drugs))*scaling\n",
    "                presc_Disease_prevalence_area[month][key][area] = ((diseasePrevalenceArea (disease_df ,Drug_code , total_drugs)))\n"
   ]
  },
  {
   "cell_type": "code",
   "execution_count": 859,
   "metadata": {
    "ExecuteTime": {
     "end_time": "2019-07-18T10:34:45.734470Z",
     "start_time": "2019-07-18T10:34:45.686864Z"
    }
   },
   "outputs": [
    {
     "name": "stdout",
     "output_type": "stream",
     "text": [
      "Stored 'presc_Disease_prevalence_area' (dict)\n"
     ]
    }
   ],
   "source": [
    "# %store presc_Disease_prevalence_area"
   ]
  },
  {
   "cell_type": "code",
   "execution_count": 730,
   "metadata": {
    "ExecuteTime": {
     "end_time": "2019-07-17T07:12:20.876197Z",
     "start_time": "2019-07-17T07:12:20.871644Z"
    }
   },
   "outputs": [],
   "source": [
    "# pdp = pd.read_csv(files[-1],compression='gzip')\n",
    "# GP_postcodes = {}\n",
    "# for name , group in pdp.groupby('2'):\n",
    "#     postcode = list(set(group['10']))\n",
    "#     GP_postcodes[name] = str(postcode[0]).split(' ')[0]\n",
    "        "
   ]
  },
  {
   "cell_type": "code",
   "execution_count": 731,
   "metadata": {
    "ExecuteTime": {
     "end_time": "2019-07-17T07:12:21.161579Z",
     "start_time": "2019-07-17T07:12:21.155614Z"
    }
   },
   "outputs": [],
   "source": [
    "# area_patients = {}\n",
    "# for k in GP_postcodes:\n",
    "#     postCode = GP_postcodes[k]\n",
    "#     for area in postCodeDict:\n",
    "#         if postCode in postCodeDict[area]['postcodes']:\n",
    "#             try:\n",
    "#                 if area not in area_patients:\n",
    "#                     area_patients[area] = practice_patient_dict[k]\n",
    "#                 else:\n",
    "#                     area_patients[area] += practice_patient_dict[k]\n",
    "#             except:\n",
    "#                 continue\n",
    "\n",
    "# area_patients_filtered = {k: area_patients[k] for k in area_patients if not np.isnan(area_patients[k] )}"
   ]
  },
  {
   "cell_type": "code",
   "execution_count": 830,
   "metadata": {
    "ExecuteTime": {
     "end_time": "2019-07-17T11:42:20.738042Z",
     "start_time": "2019-07-17T11:42:20.329230Z"
    }
   },
   "outputs": [
    {
     "data": {
      "text/plain": [
       "<matplotlib.text.Text at 0x7eff94753310>"
      ]
     },
     "execution_count": 830,
     "metadata": {},
     "output_type": "execute_result"
    },
    {
     "data": {
      "image/png": "[encoded data removed]",
      "text/plain": [
       "<matplotlib.figure.Figure at 0x7eff6a6a9650>"
      ]
     },
     "metadata": {},
     "output_type": "display_data"
    }
   ],
   "source": [
    "filtered = [k for k in presc_Disease_prevalence_area['201009']['depression'].values() if not np.isnan(k)]\n",
    "fig, ax = plt.subplots()\n",
    "fig.set_size_inches(18.5, 10.5)\n",
    "\n",
    "plt.hist(filtered,bins=100)\n",
    "\n",
    "ax.set_title(\"Distribution of prevalence across GPs\")\n",
    "# ax.set_xlabel(\"Prevalence dementia\")\n",
    "ax.set_ylabel(\"\")"
   ]
  },
  {
   "cell_type": "code",
   "execution_count": 831,
   "metadata": {
    "ExecuteTime": {
     "end_time": "2019-07-17T11:42:35.199487Z",
     "start_time": "2019-07-17T11:42:35.192988Z"
    }
   },
   "outputs": [
    {
     "data": {
      "text/plain": [
       "0.4588006886904924"
      ]
     },
     "execution_count": 831,
     "metadata": {},
     "output_type": "execute_result"
    }
   ],
   "source": [
    "presc_Disease_prevalence_area['201009']['depression']['City of London']"
   ]
  },
  {
   "cell_type": "code",
   "execution_count": 832,
   "metadata": {
    "ExecuteTime": {
     "end_time": "2019-07-17T11:43:14.728216Z",
     "start_time": "2019-07-17T11:43:14.721647Z"
    }
   },
   "outputs": [],
   "source": [
    "Area_Gt = pd.read_csv('../BL_Work/prevalence_LA_method2/DEP.csv')"
   ]
  },
  {
   "cell_type": "code",
   "execution_count": 833,
   "metadata": {
    "ExecuteTime": {
     "end_time": "2019-07-17T11:43:15.702253Z",
     "start_time": "2019-07-17T11:43:15.280396Z"
    }
   },
   "outputs": [
    {
     "data": {
      "text/plain": [
       "<matplotlib.text.Text at 0x7eff7fbb7190>"
      ]
     },
     "execution_count": 833,
     "metadata": {},
     "output_type": "execute_result"
    },
    {
     "data": {
      "image/png": "[encoded data removed]",
      "text/plain": [
       "<matplotlib.figure.Figure at 0x7eff7ded6d50>"
      ]
     },
     "metadata": {},
     "output_type": "display_data"
    }
   ],
   "source": [
    "filtered = Area_Gt['prevalence']\n",
    "fig, ax = plt.subplots()\n",
    "fig.set_size_inches(18.5, 10.5)\n",
    "\n",
    "plt.hist(filtered,bins=100)\n",
    "\n",
    "ax.set_title(\"Distribution of prevalence across GPs\")\n",
    "\n",
    "ax.set_ylabel(\"\")"
   ]
  },
  {
   "cell_type": "code",
   "execution_count": 834,
   "metadata": {
    "ExecuteTime": {
     "end_time": "2019-07-17T11:43:21.583407Z",
     "start_time": "2019-07-17T11:43:21.565860Z"
    }
   },
   "outputs": [
    {
     "data": {
      "text/html": [
       "<div>\n",
       "<style scoped>\n",
       "    .dataframe tbody tr th:only-of-type {\n",
       "        vertical-align: middle;\n",
       "    }\n",
       "\n",
       "    .dataframe tbody tr th {\n",
       "        vertical-align: top;\n",
       "    }\n",
       "\n",
       "    .dataframe thead th {\n",
       "        text-align: right;\n",
       "    }\n",
       "</style>\n",
       "<table border=\"1\" class=\"dataframe\">\n",
       "  <thead>\n",
       "    <tr style=\"text-align: right;\">\n",
       "      <th></th>\n",
       "      <th>Unnamed: 0</th>\n",
       "      <th>Area</th>\n",
       "      <th>prevalence</th>\n",
       "    </tr>\n",
       "  </thead>\n",
       "  <tbody>\n",
       "    <tr>\n",
       "      <th>0</th>\n",
       "      <td>0</td>\n",
       "      <td>Mendip</td>\n",
       "      <td>0.029438</td>\n",
       "    </tr>\n",
       "    <tr>\n",
       "      <th>1</th>\n",
       "      <td>1</td>\n",
       "      <td>Hastings</td>\n",
       "      <td>0.022908</td>\n",
       "    </tr>\n",
       "    <tr>\n",
       "      <th>2</th>\n",
       "      <td>2</td>\n",
       "      <td>Windsor and Maidenhead</td>\n",
       "      <td>0.004760</td>\n",
       "    </tr>\n",
       "    <tr>\n",
       "      <th>3</th>\n",
       "      <td>3</td>\n",
       "      <td>Wyre Forest</td>\n",
       "      <td>0.000000</td>\n",
       "    </tr>\n",
       "    <tr>\n",
       "      <th>4</th>\n",
       "      <td>4</td>\n",
       "      <td>Peterborough</td>\n",
       "      <td>0.017392</td>\n",
       "    </tr>\n",
       "  </tbody>\n",
       "</table>\n",
       "</div>"
      ],
      "text/plain": [
       "   Unnamed: 0                    Area  prevalence\n",
       "0           0                  Mendip    0.029438\n",
       "1           1                Hastings    0.022908\n",
       "2           2  Windsor and Maidenhead    0.004760\n",
       "3           3             Wyre Forest    0.000000\n",
       "4           4            Peterborough    0.017392"
      ]
     },
     "execution_count": 834,
     "metadata": {},
     "output_type": "execute_result"
    }
   ],
   "source": [
    "Area_Gt.head()"
   ]
  },
  {
   "cell_type": "code",
   "execution_count": 835,
   "metadata": {
    "ExecuteTime": {
     "end_time": "2019-07-17T11:43:23.944842Z",
     "start_time": "2019-07-17T11:43:23.939471Z"
    }
   },
   "outputs": [],
   "source": [
    "Area_Gt = Area_Gt[Area_Gt['prevalence']!=1.000]"
   ]
  },
  {
   "cell_type": "code",
   "execution_count": 836,
   "metadata": {
    "ExecuteTime": {
     "end_time": "2019-07-17T11:43:24.382226Z",
     "start_time": "2019-07-17T11:43:24.376727Z"
    }
   },
   "outputs": [
    {
     "data": {
      "text/plain": [
       "326"
      ]
     },
     "execution_count": 836,
     "metadata": {},
     "output_type": "execute_result"
    }
   ],
   "source": [
    "len(Area_Gt)"
   ]
  },
  {
   "cell_type": "code",
   "execution_count": 837,
   "metadata": {
    "ExecuteTime": {
     "end_time": "2019-07-17T11:43:26.706655Z",
     "start_time": "2019-07-17T11:43:26.702227Z"
    }
   },
   "outputs": [],
   "source": [
    "%store -r lon_boro"
   ]
  },
  {
   "cell_type": "code",
   "execution_count": 838,
   "metadata": {
    "ExecuteTime": {
     "end_time": "2019-07-17T11:43:28.028930Z",
     "start_time": "2019-07-17T11:43:28.024982Z"
    }
   },
   "outputs": [],
   "source": [
    "area_prevalence = presc_Disease_prevalence_area['201009']['depression']"
   ]
  },
  {
   "cell_type": "code",
   "execution_count": 839,
   "metadata": {
    "ExecuteTime": {
     "end_time": "2019-07-17T11:43:28.556479Z",
     "start_time": "2019-07-17T11:43:28.550661Z"
    }
   },
   "outputs": [
    {
     "data": {
      "text/plain": [
       "['depression', 'diabetes']"
      ]
     },
     "execution_count": 839,
     "metadata": {},
     "output_type": "execute_result"
    }
   ],
   "source": [
    "presc_Disease_prevalence_area['201009'].keys()"
   ]
  },
  {
   "cell_type": "code",
   "execution_count": 840,
   "metadata": {
    "ExecuteTime": {
     "end_time": "2019-07-17T11:43:29.363936Z",
     "start_time": "2019-07-17T11:43:29.360568Z"
    }
   },
   "outputs": [],
   "source": [
    "# %store -r gt_dict"
   ]
  },
  {
   "cell_type": "code",
   "execution_count": 841,
   "metadata": {
    "ExecuteTime": {
     "end_time": "2019-07-17T11:43:29.901179Z",
     "start_time": "2019-07-17T11:43:29.897513Z"
    }
   },
   "outputs": [],
   "source": [
    "# list(set(area_prevalence.keys()).intersection(Area_Gt['Area']))"
   ]
  },
  {
   "cell_type": "code",
   "execution_count": 842,
   "metadata": {
    "ExecuteTime": {
     "end_time": "2019-07-17T11:43:30.413103Z",
     "start_time": "2019-07-17T11:43:30.407998Z"
    }
   },
   "outputs": [],
   "source": [
    "# subAreas = [k for k in lon_boro if k != 'City of London']\n",
    "# subAreas = lon_boro\n",
    "subAreas = list(set(area_prevalence.keys()).intersection(Area_Gt['Area']))"
   ]
  },
  {
   "cell_type": "code",
   "execution_count": 843,
   "metadata": {
    "ExecuteTime": {
     "end_time": "2019-07-17T11:43:31.530847Z",
     "start_time": "2019-07-17T11:43:31.527252Z"
    }
   },
   "outputs": [],
   "source": [
    "# filt_sub = [k for k in Area_values if Area_values[k]['patients'] < Area_values[k]['population']]"
   ]
  },
  {
   "cell_type": "code",
   "execution_count": 844,
   "metadata": {
    "ExecuteTime": {
     "end_time": "2019-07-17T11:43:31.941747Z",
     "start_time": "2019-07-17T11:43:31.935761Z"
    }
   },
   "outputs": [
    {
     "data": {
      "text/plain": [
       "{'patients': 723280.0, 'population': 363956}"
      ]
     },
     "execution_count": 844,
     "metadata": {},
     "output_type": "execute_result"
    }
   ],
   "source": [
    "Area_values['Barnet']"
   ]
  },
  {
   "cell_type": "code",
   "execution_count": 845,
   "metadata": {
    "ExecuteTime": {
     "end_time": "2019-07-17T11:43:32.731652Z",
     "start_time": "2019-07-17T11:43:32.728235Z"
    }
   },
   "outputs": [],
   "source": [
    "# area_prevalence"
   ]
  },
  {
   "cell_type": "code",
   "execution_count": 846,
   "metadata": {
    "ExecuteTime": {
     "end_time": "2019-07-17T11:43:33.517120Z",
     "start_time": "2019-07-17T11:43:33.511286Z"
    }
   },
   "outputs": [
    {
     "data": {
      "text/plain": [
       "{'patients': 213798.0, 'population': 107170}"
      ]
     },
     "execution_count": 846,
     "metadata": {},
     "output_type": "execute_result"
    }
   ],
   "source": [
    "Area_values['South Staffordshire']"
   ]
  },
  {
   "cell_type": "code",
   "execution_count": 855,
   "metadata": {
    "ExecuteTime": {
     "end_time": "2019-07-17T11:47:41.296133Z",
     "start_time": "2019-07-17T11:47:41.196999Z"
    }
   },
   "outputs": [],
   "source": [
    "predict = []\n",
    "gt = []\n",
    "names = []\n",
    "predict_area_agg = {}\n",
    "gt_area_agg = {}\n",
    "for index, row in Area_Gt.iterrows():\n",
    "    if row['Area'].strip() in subAreas:\n",
    "        if row['prevalence'] >= 0: \n",
    "#             if area_patients[row['Area'].strip()] > 400000:# and area_patients[row['Area'].strip()] < 2000000:\n",
    "            predict.append(area_prevalence[row['Area']])\n",
    "            predict_area_agg[row['Area'].strip()] = area_prevalence[row['Area']]\n",
    "            names.append(row['Area'].strip())\n",
    "            gt.append(row['prevalence'])\n",
    "            gt_area_agg[row['Area'].strip()] = row['prevalence']\n",
    "#             gt.append(gt_dict[row['Area']])"
   ]
  },
  {
   "cell_type": "code",
   "execution_count": 856,
   "metadata": {
    "ExecuteTime": {
     "end_time": "2019-07-17T11:47:48.430604Z",
     "start_time": "2019-07-17T11:47:48.419108Z"
    }
   },
   "outputs": [
    {
     "name": "stdout",
     "output_type": "stream",
     "text": [
      "Stored 'predict_area_agg' (dict)\n",
      "Stored 'gt_area_agg' (dict)\n"
     ]
    }
   ],
   "source": [
    "%store predict_area_agg\n",
    "%store gt_area_agg"
   ]
  },
  {
   "cell_type": "code",
   "execution_count": 848,
   "metadata": {
    "ExecuteTime": {
     "end_time": "2019-07-17T11:43:35.791140Z",
     "start_time": "2019-07-17T11:43:35.786381Z"
    }
   },
   "outputs": [],
   "source": [
    "# slope, intercept, r_value, p_value, std_err = linregress(predict,gt)\n",
    "\n",
    "\n",
    "# print slope , intercept\n",
    "\n",
    "# predicted = [(slope*k)+intercept for k in gt]\n",
    "\n",
    "# residuals = [abs(v1 - v2) for (v1,v2) in zip(predicted,predict)]\n",
    "\n",
    "# np.argsort(residuals)[-10:][::-1]"
   ]
  },
  {
   "cell_type": "code",
   "execution_count": 849,
   "metadata": {
    "ExecuteTime": {
     "end_time": "2019-07-17T11:43:36.410182Z",
     "start_time": "2019-07-17T11:43:36.406021Z"
    }
   },
   "outputs": [],
   "source": [
    "corr = pearsonr(predict,gt)"
   ]
  },
  {
   "cell_type": "code",
   "execution_count": 850,
   "metadata": {
    "ExecuteTime": {
     "end_time": "2019-07-17T11:43:37.169529Z",
     "start_time": "2019-07-17T11:43:37.153388Z"
    }
   },
   "outputs": [],
   "source": [
    "def label_point(x, y, val, ax ):\n",
    "    a = pd.concat({'x': pd.Series(x), 'y':  pd.Series(y), 'val': pd.Series(val)}, axis=1)\n",
    "    for i, point in a.iterrows():\n",
    "        ax.text(point['x'], point['y'], str(point['val']))\n",
    "\n",
    "def filterHighestResiduals(gt,predict,names , topK):\n",
    "    slope, intercept, r_value, p_value, std_err = linregress(predict,gt)\n",
    "    predicted = [(slope*k)+intercept for k in gt]\n",
    "    residuals = [np.square(v1 - v2) for (v1,v2) in zip(predicted,predict)]\n",
    "    topKidx = np.argsort(residuals)[-topK:][::-1]\n",
    "    return [gt[i] for i in topKidx] , [predict[i] for i in topKidx], [names[i] for i in topKidx]"
   ]
  },
  {
   "cell_type": "code",
   "execution_count": 851,
   "metadata": {
    "ExecuteTime": {
     "end_time": "2019-07-17T11:43:38.320849Z",
     "start_time": "2019-07-17T11:43:37.894892Z"
    }
   },
   "outputs": [
    {
     "data": {
      "text/plain": [
       "<matplotlib.text.Text at 0x7eff7ded6c10>"
      ]
     },
     "execution_count": 851,
     "metadata": {},
     "output_type": "execute_result"
    },
    {
     "data": {
      "image/png": "[encoded data removed]",
      "text/plain": [
       "<matplotlib.figure.Figure at 0x7eff72268210>"
      ]
     },
     "metadata": {},
     "output_type": "display_data"
    }
   ],
   "source": [
    "fig, ax = plt.subplots()\n",
    "fig.set_size_inches(18.5, 10.5)\n",
    "sns.regplot(x=gt , y = predict , ax = ax)\n",
    "gt_ , predict_ , names_ = filterHighestResiduals(gt, predict , names, 10)\n",
    "label_point(gt_ , predict_ , names_ , ax)\n",
    "# label_point(gt , predict , names , ax)\n",
    "ax.set_title(\"Presc Vs GT prevalence- Depression, Corr: \" + str(corr[0]) )\n",
    "ax.set_xlabel(\"Quality assesment prevalence\")\n",
    "ax.set_ylabel(\"Estimated cases by prescriptions\",)"
   ]
  },
  {
   "cell_type": "code",
   "execution_count": null,
   "metadata": {},
   "outputs": [],
   "source": []
  },
  {
   "cell_type": "code",
   "execution_count": null,
   "metadata": {},
   "outputs": [],
   "source": []
  }
 ],
 "metadata": {
  "kernelspec": {
   "display_name": "Python 2",
   "language": "python",
   "name": "python2"
  },
  "language_info": {
   "codemirror_mode": {
    "name": "ipython",
    "version": 2
   },
   "file_extension": ".py",
   "mimetype": "text/x-python",
   "name": "python",
   "nbconvert_exporter": "python",
   "pygments_lexer": "ipython2",
   "version": "2.7.12"
  }
 },
 "nbformat": 4,
 "nbformat_minor": 2
}
