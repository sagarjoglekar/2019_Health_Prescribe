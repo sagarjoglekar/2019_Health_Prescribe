{
 "cells": [
  {
   "cell_type": "code",
   "execution_count": 20,
   "metadata": {
    "ExecuteTime": {
     "end_time": "2019-06-21T10:30:49.541176Z",
     "start_time": "2019-06-21T10:30:49.376673Z"
    }
   },
   "outputs": [],
   "source": [
    "import requests as rq \n",
    "import json\n",
    "from bs4 import BeautifulSoup as bs\n",
    "import urllib3\n",
    "import pandas as pd"
   ]
  },
  {
   "cell_type": "code",
   "execution_count": 2,
   "metadata": {
    "ExecuteTime": {
     "end_time": "2019-06-21T10:27:09.216663Z",
     "start_time": "2019-06-21T10:27:09.210889Z"
    }
   },
   "outputs": [],
   "source": [
    "urlhead = \"https://www.drugbank.ca/unearth/q?\"\n",
    "frag1 = \"utf8=%E2%9C%93&\"\n",
    "frag2 = \"searcher=indications&\"\n",
    "query = \"query=\"\n",
    "filtersFrag= \"&us=0&ca=0&eu=0&eu=1&commit=Apply+Filter\""
   ]
  },
  {
   "cell_type": "code",
   "execution_count": 3,
   "metadata": {
    "ExecuteTime": {
     "end_time": "2019-06-21T10:27:09.634824Z",
     "start_time": "2019-06-21T10:27:09.630668Z"
    }
   },
   "outputs": [],
   "source": [
    "params={'utf8':'%E2%9C%93' , 'searcher' : 'indications' , 'us':'0','ca':'0','eu':'1','commit':'Apply+Filter' , 'query':''}"
   ]
  },
  {
   "cell_type": "code",
   "execution_count": 4,
   "metadata": {
    "ExecuteTime": {
     "end_time": "2019-06-21T10:27:10.385902Z",
     "start_time": "2019-06-21T10:27:10.160424Z"
    }
   },
   "outputs": [],
   "source": [
    "# disease = \"chronic+fatigue+syndrome\"\n",
    "params['query']=\"\\\"crohn's+disease\\\"\"\n",
    "# url = urlhead + frag1 + frag2 + query + disease + filtersFrag\n",
    "response = rq.get(urlhead,params=params)"
   ]
  },
  {
   "cell_type": "code",
   "execution_count": 5,
   "metadata": {
    "ExecuteTime": {
     "end_time": "2019-06-21T10:27:10.844832Z",
     "start_time": "2019-06-21T10:27:10.787800Z"
    }
   },
   "outputs": [
    {
     "data": {
      "text/plain": [
       "bs4.BeautifulSoup"
      ]
     },
     "execution_count": 5,
     "metadata": {},
     "output_type": "execute_result"
    }
   ],
   "source": [
    "soup = bs(response.text,'html.parser')\n",
    "type(soup)"
   ]
  },
  {
   "cell_type": "code",
   "execution_count": null,
   "metadata": {
    "ExecuteTime": {
     "end_time": "2019-06-18T12:47:23.226819Z",
     "start_time": "2019-06-18T12:47:23.208729Z"
    }
   },
   "outputs": [],
   "source": []
  },
  {
   "cell_type": "code",
   "execution_count": 6,
   "metadata": {
    "ExecuteTime": {
     "end_time": "2019-06-21T10:27:11.757597Z",
     "start_time": "2019-06-21T10:27:11.738328Z"
    }
   },
   "outputs": [],
   "source": [
    "synonym = soup.find_all('div', class_ = 'search-highlights')"
   ]
  },
  {
   "cell_type": "code",
   "execution_count": 7,
   "metadata": {
    "ExecuteTime": {
     "end_time": "2019-06-21T10:27:12.362977Z",
     "start_time": "2019-06-21T10:27:12.343562Z"
    }
   },
   "outputs": [],
   "source": [
    "drug_matches = soup.find_all('div', class_ = 'db-matches')"
   ]
  },
  {
   "cell_type": "code",
   "execution_count": 8,
   "metadata": {
    "ExecuteTime": {
     "end_time": "2019-06-21T10:27:12.850515Z",
     "start_time": "2019-06-21T10:27:12.845888Z"
    }
   },
   "outputs": [
    {
     "data": {
      "text/plain": [
       "(6, 6)"
      ]
     },
     "execution_count": 8,
     "metadata": {},
     "output_type": "execute_result"
    }
   ],
   "source": [
    "len(drug_matches) , len(synonym)"
   ]
  },
  {
   "cell_type": "code",
   "execution_count": 9,
   "metadata": {
    "ExecuteTime": {
     "end_time": "2019-06-21T10:27:13.433853Z",
     "start_time": "2019-06-21T10:27:13.430543Z"
    }
   },
   "outputs": [],
   "source": [
    "# synonym"
   ]
  },
  {
   "cell_type": "code",
   "execution_count": 10,
   "metadata": {
    "ExecuteTime": {
     "end_time": "2019-06-21T10:27:13.925534Z",
     "start_time": "2019-06-21T10:27:13.919580Z"
    }
   },
   "outputs": [
    {
     "data": {
      "text/plain": [
       "u'Adalimumab'"
      ]
     },
     "execution_count": 10,
     "metadata": {},
     "output_type": "execute_result"
    }
   ],
   "source": [
    "first = drug_matches[3]\n",
    "first.text"
   ]
  },
  {
   "cell_type": "code",
   "execution_count": 11,
   "metadata": {
    "ExecuteTime": {
     "end_time": "2019-06-21T10:27:14.502492Z",
     "start_time": "2019-06-21T10:27:14.493245Z"
    }
   },
   "outputs": [],
   "source": [
    "MatchJson = {'Synonyms':[] , 'MatchedDrugs':[]}\n",
    "for i in range(len(synonym)):\n",
    "    syn = synonym[i]\n",
    "    drug = drug_matches[i]\n",
    "    synText = syn.text.replace(u'\\u2026','')\n",
    "    drugsName = drug.text.split('/')\n",
    "    MatchJson['Synonyms'].append(synText)\n",
    "    MatchJson['MatchedDrugs'].append(drugsName)"
   ]
  },
  {
   "cell_type": "code",
   "execution_count": 36,
   "metadata": {
    "ExecuteTime": {
     "end_time": "2019-06-21T11:36:05.294154Z",
     "start_time": "2019-06-21T11:36:05.290626Z"
    }
   },
   "outputs": [],
   "source": [
    "# MatchJson"
   ]
  },
  {
   "cell_type": "code",
   "execution_count": 14,
   "metadata": {
    "ExecuteTime": {
     "end_time": "2019-06-21T10:27:22.953494Z",
     "start_time": "2019-06-21T10:27:22.948587Z"
    }
   },
   "outputs": [],
   "source": [
    "DiseaseList = [ \"bipolar\", \"\\\"chronic+fatigue+syndrome\\\"\", \"\\\"crohn's+disease\\\"\" , 'dementia' , 'depression' ,'diabetes' , 'dysautonomia' , \n",
    "                'gastroparesis' , 'hypothyroidism' , \"\\\"irritable+bowel+syndrome\\\"\" , \"\\\"interstitial+cystitis\\\"\", \"\\\"kidney+stones\\\"\", \"\\\"Meniere's disease\\\"\" , \"\\\"multiple+sclerosis\\\"\" , 'parkinsons',\n",
    "                'psoriasis','rheumatoid', \"\\\"sleep+apnea\\\"\"]"
   ]
  },
  {
   "cell_type": "code",
   "execution_count": 15,
   "metadata": {
    "ExecuteTime": {
     "end_time": "2019-06-21T10:27:29.000664Z",
     "start_time": "2019-06-21T10:27:23.480395Z"
    }
   },
   "outputs": [
    {
     "name": "stdout",
     "output_type": "stream",
     "text": [
      "https://www.drugbank.ca/unearth/q?utf8=%E2%9C%93&searcher=indications&query=bipolar&us=1&ca=0&eu=0&eu=1&commit=Apply+Filter\n",
      "11 11\n",
      "https://www.drugbank.ca/unearth/q?utf8=%E2%9C%93&searcher=indications&query=%22chronic+fatigue+syndrome%22&us=1&ca=0&eu=0&eu=1&commit=Apply+Filter\n",
      "0 0\n",
      "https://www.drugbank.ca/unearth/q?utf8=%E2%9C%93&searcher=indications&query=%22crohn's+disease%22&us=1&ca=0&eu=0&eu=1&commit=Apply+Filter\n",
      "6 6\n",
      "https://www.drugbank.ca/unearth/q?utf8=%E2%9C%93&searcher=indications&query=dementia&us=1&ca=0&eu=0&eu=1&commit=Apply+Filter\n",
      "19 19\n",
      "https://www.drugbank.ca/unearth/q?utf8=%E2%9C%93&searcher=indications&query=depression&us=1&ca=0&eu=0&eu=1&commit=Apply+Filter\n",
      "25 25\n",
      "https://www.drugbank.ca/unearth/q?utf8=%E2%9C%93&searcher=indications&query=diabetes&us=1&ca=0&eu=0&eu=1&commit=Apply+Filter\n",
      "18 18\n",
      "https://www.drugbank.ca/unearth/q?utf8=%E2%9C%93&searcher=indications&query=dysautonomia&us=1&ca=0&eu=0&eu=1&commit=Apply+Filter\n",
      "0 0\n",
      "https://www.drugbank.ca/unearth/q?utf8=%E2%9C%93&searcher=indications&query=gastroparesis&us=1&ca=0&eu=0&eu=1&commit=Apply+Filter\n",
      "2 2\n",
      "https://www.drugbank.ca/unearth/q?utf8=%E2%9C%93&searcher=indications&query=hypothyroidism&us=1&ca=0&eu=0&eu=1&commit=Apply+Filter\n",
      "1 1\n",
      "https://www.drugbank.ca/unearth/q?utf8=%E2%9C%93&searcher=indications&query=%22irritable+bowel+syndrome%22&us=1&ca=0&eu=0&eu=1&commit=Apply+Filter\n",
      "5 5\n",
      "https://www.drugbank.ca/unearth/q?utf8=%E2%9C%93&searcher=indications&query=%22interstitial+cystitis%22&us=1&ca=0&eu=0&eu=1&commit=Apply+Filter\n",
      "2 2\n",
      "https://www.drugbank.ca/unearth/q?utf8=%E2%9C%93&searcher=indications&query=%22kidney+stones%22&us=1&ca=0&eu=0&eu=1&commit=Apply+Filter\n",
      "1 1\n",
      "https://www.drugbank.ca/unearth/q?utf8=%E2%9C%93&searcher=indications&query=%22Meniere's%20disease%22&us=1&ca=0&eu=0&eu=1&commit=Apply+Filter\n",
      "1 1\n",
      "https://www.drugbank.ca/unearth/q?utf8=%E2%9C%93&searcher=indications&query=%22multiple+sclerosis%22&us=1&ca=0&eu=0&eu=1&commit=Apply+Filter\n",
      "11 11\n",
      "https://www.drugbank.ca/unearth/q?utf8=%E2%9C%93&searcher=indications&query=parkinsons&us=1&ca=0&eu=0&eu=1&commit=Apply+Filter\n",
      "1 1\n",
      "https://www.drugbank.ca/unearth/q?utf8=%E2%9C%93&searcher=indications&query=psoriasis&us=1&ca=0&eu=0&eu=1&commit=Apply+Filter\n",
      "25 25\n",
      "https://www.drugbank.ca/unearth/q?utf8=%E2%9C%93&searcher=indications&query=rheumatoid&us=1&ca=0&eu=0&eu=1&commit=Apply+Filter\n",
      "13 13\n",
      "https://www.drugbank.ca/unearth/q?utf8=%E2%9C%93&searcher=indications&query=%22sleep+apnea%22&us=1&ca=0&eu=0&eu=1&commit=Apply+Filter\n",
      "1 1\n"
     ]
    }
   ],
   "source": [
    "urlhead = \"https://www.drugbank.ca/unearth/q?\"\n",
    "frag1 = \"utf8=%E2%9C%93&\"\n",
    "frag2 = \"searcher=indications&\"\n",
    "query = \"query=\"\n",
    "filtersFrag= \"&us=1&ca=0&eu=0&eu=1&commit=Apply+Filter\"\n",
    "# params={'utf8':\"%E2%9C%93\" , 'searcher' : 'indications' , 'us':'0','ca':'0','eu':'0','eu':'1','commit':\"Apply+Filter\" , 'query':''}\n",
    "\n",
    "DiseaseDrugJson = {}\n",
    "\n",
    "for disease in DiseaseList:\n",
    "    url = urlhead + frag1 + frag2 +query+disease+ filtersFrag\n",
    "#     params['query']=disease\n",
    "    response = rq.get(url)\n",
    "    print response.url\n",
    "    soup = bs(response.text,'html.parser')\n",
    "    synonym = soup.find_all('div', class_ = 'search-highlights')\n",
    "    drug_matches = soup.find_all('div', class_ = 'db-matches')\n",
    "    print len(drug_matches) , len(synonym)\n",
    "    MatchJson = {'Synonyms':[] , 'MatchedDrugs':[]}\n",
    "    try:\n",
    "        for i in range(len(synonym)):\n",
    "            syn = synonym[i]\n",
    "            drug = drug_matches[i]\n",
    "            synText = syn.text.replace(u'\\u2026','')\n",
    "            drugsName = drug.text.split('/')\n",
    "            MatchJson['Synonyms'].append(synText)\n",
    "            MatchJson['MatchedDrugs'].append(drugsName)\n",
    "    except:\n",
    "        print \"Something went horribly Wrong\"\n",
    "    DiseaseDrugJson[disease] = MatchJson"
   ]
  },
  {
   "cell_type": "code",
   "execution_count": 18,
   "metadata": {
    "ExecuteTime": {
     "end_time": "2019-06-21T10:27:38.749880Z",
     "start_time": "2019-06-21T10:27:38.735572Z"
    }
   },
   "outputs": [
    {
     "name": "stdout",
     "output_type": "stream",
     "text": [
      "psoriasis\n",
      "25\n",
      "rheumatoid\n",
      "13\n",
      "\"multiple+sclerosis\"\n",
      "11\n",
      "\"sleep+apnea\"\n",
      "1\n",
      "\"interstitial+cystitis\"\n",
      "2\n",
      "\"irritable+bowel+syndrome\"\n",
      "5\n",
      "parkinsons\n",
      "1\n",
      "dysautonomia\n",
      "0\n",
      "\"kidney+stones\"\n",
      "1\n",
      "\"Meniere's disease\"\n",
      "1\n",
      "bipolar\n",
      "11\n",
      "hypothyroidism\n",
      "1\n",
      "\"crohn's+disease\"\n",
      "6\n",
      "\"chronic+fatigue+syndrome\"\n",
      "0\n",
      "dementia\n",
      "19\n",
      "gastroparesis\n",
      "2\n",
      "depression\n",
      "25\n",
      "diabetes\n",
      "18\n"
     ]
    }
   ],
   "source": [
    "for k in DiseaseDrugJson:\n",
    "    print k\n",
    "    print len(DiseaseDrugJson[k]['Synonyms'])"
   ]
  },
  {
   "cell_type": "code",
   "execution_count": 19,
   "metadata": {
    "ExecuteTime": {
     "end_time": "2019-06-21T10:27:46.297975Z",
     "start_time": "2019-06-21T10:27:46.294359Z"
    }
   },
   "outputs": [],
   "source": [
    "# with open('DiseasesMatched.json','wb') as f:\n",
    "#     json.dump(DiseaseDrugJson,f)"
   ]
  },
  {
   "cell_type": "code",
   "execution_count": 27,
   "metadata": {
    "ExecuteTime": {
     "end_time": "2019-06-21T11:25:32.725645Z",
     "start_time": "2019-06-21T11:25:32.718460Z"
    }
   },
   "outputs": [],
   "source": [
    "symptomList= pd.read_csv(\"../BL_Work/Dis_sym_edited.csv\")"
   ]
  },
  {
   "cell_type": "code",
   "execution_count": 31,
   "metadata": {
    "ExecuteTime": {
     "end_time": "2019-06-21T11:28:59.068222Z",
     "start_time": "2019-06-21T11:28:59.030136Z"
    }
   },
   "outputs": [
    {
     "name": "stdout",
     "output_type": "stream",
     "text": [
      "['\"Impairment+level+of+vision\"', '\"Backache\"', '\"Dyssomnia\"', '\"Loss+of+hair\"', '\"Mood+swings\"', '\"Tired\"', '\"Weight+gain\"', '\"Emotional+upset\"', '\"Disorientated\"', '\"Clouded+consciousness\"', '\"Stomach+ache\"', '\"Increased+thirst\"', '\"Sleep+deprivation\"', '\"Heartburn\"', '\"Abdominal+pain\"', '\"Swelling\"', '\"Feeling+agitated\"', '\"Impairment+of+balance\"', '\"Paresthesia\"', '\"Blurring+of+visual+image\"', '\"Feeling+angry\"', '\"Loss+of+appetite\"', '\"Pain\"', '\"Tremor\"', '\"Rectal+hemorrhage\"', '\"Abnormal+gait\"', '\"Impotence\"', '\"Eruption+of+skin\"', '\"Feeling+hopeless\"', '\"Indigestion\"', '\"Parkinson\\'s+disease\"', '\"Trigeminal+neuralgia\"', '\"Bowel+dysfunction\"', '\"Parkinsonism\"', '\"Delusional+disorder\"', '\"Muscle+pain\"', '\"Pain+in+pelvis\"', '\"Malaise\"', '\"Thoughts+of+self+harm\"', '\"Dementia\"', '\"Depressive+disorder\"', '\"Hypothyroidism\"', '\"Reduced+mobility\"', '\"Jaundice\"', '\"Lack+of+energy\"', '\"Joint+pain\"', '\"Vertigo\"', '\"Headache\"', '\"Tinnitus\"', '\"Insomnia\"', '\"Multiple+sclerosis\"', '\"Dry+skin\"', '\"Blood+in+urine\"', '\"Increased+frequency+of+urination\"', '\"Muscle+weakness\"', '\"Itching\"', '\"Hypersomnia\"', '\"Sharp+pain\"', '\"Hoarse\"', '\"Swollen+abdomen\"', '\"Loss+of+interest\"', '\"Forgetful\"', '\"Pins+and+needles\"', '\"Irritable+bowel+syndrome\"', '\"Weight+loss\"', '\"Vomiting\"', '\"Chronic+pain\"', '\"Lethargy\"', '\"Depressed+mood\"', '\"Decrease+in+appetite\"', '\"Constipation\"', '\"Crying+associated+with+mood\"', '\"Rheumatoid+arthritis\"', '\"Hallucinations\"', '\"Increased+appetite\"', '\"Memory+impairment\"', '\"Otalgia\"', '\"Arthritis\"', '\"Scalp+itchy\"', '\"Slurred+speech\"', '\"Frequent+defecation\"', '\"Cannot+sleep+at+all\"', '\"Restlessness\"', '\"Fatigue\"', '\"Pain+in+throat\"', '\"Feeling+irritable\"', '\"Anger+reaction\"', '\"Muscle+rigidity\"', '\"Syncope\"', '\"Itching+of+skin\"', '\"Chronic+fatigue+syndrome\"', '\"Foot+pain\"', '\"Nausea\"', '\"Amnesia\"', '\"Stiffness\"', '\"Poor+short-term+memory\"', '\"Suicidal\"', '\"Hearing+loss\"', '\"Fever\"', '\"Abdominal+bloating\"', '\"Muscle+fatigue\"', '\"Knee+pain\"', '\"Impaired+cognition\"', '\"Feeling+lonely\"', '\"Difficulty+swallowing\"', '\"Edema\"', '\"Asthenia\"', '\"Urinary+incontinence\"', '\"Kidney+stone\"', '\"Poor+concentration\"', '\"Abnormal+sexual+function\"', '\"Dizziness\"', '\"Anxiety\"', '\"Exhaustion\"', '\"Diarrhea\"']\n"
     ]
    }
   ],
   "source": [
    "groups = symptomList.groupby('norm_UID')\n",
    "symptoms = []\n",
    "for name , group in groups:\n",
    "    symptoms.append('\\\"' + name.strip().replace(' ','+') + '\\\"')\n",
    "symptoms = list(set(symptoms))\n",
    "print symptoms"
   ]
  },
  {
   "cell_type": "code",
   "execution_count": 34,
   "metadata": {
    "ExecuteTime": {
     "end_time": "2019-06-21T11:33:06.734398Z",
     "start_time": "2019-06-21T11:32:32.324083Z"
    }
   },
   "outputs": [
    {
     "name": "stdout",
     "output_type": "stream",
     "text": [
      "https://www.drugbank.ca/unearth/q?utf8=%E2%9C%93&searcher=indications&query=%22Impairment+level+of+vision%22&us=1&ca=0&eu=0&eu=1&commit=Apply+Filter\n",
      "0 0\n",
      "https://www.drugbank.ca/unearth/q?utf8=%E2%9C%93&searcher=indications&query=%22Backache%22&us=1&ca=0&eu=0&eu=1&commit=Apply+Filter\n",
      "25 25\n",
      "https://www.drugbank.ca/unearth/q?utf8=%E2%9C%93&searcher=indications&query=%22Dyssomnia%22&us=1&ca=0&eu=0&eu=1&commit=Apply+Filter\n",
      "0 0\n",
      "https://www.drugbank.ca/unearth/q?utf8=%E2%9C%93&searcher=indications&query=%22Loss+of+hair%22&us=1&ca=0&eu=0&eu=1&commit=Apply+Filter\n",
      "0 0\n",
      "https://www.drugbank.ca/unearth/q?utf8=%E2%9C%93&searcher=indications&query=%22Mood+swings%22&us=1&ca=0&eu=0&eu=1&commit=Apply+Filter\n",
      "0 0\n",
      "https://www.drugbank.ca/unearth/q?utf8=%E2%9C%93&searcher=indications&query=%22Tired%22&us=1&ca=0&eu=0&eu=1&commit=Apply+Filter\n",
      "3 3\n",
      "https://www.drugbank.ca/unearth/q?utf8=%E2%9C%93&searcher=indications&query=%22Weight+gain%22&us=1&ca=0&eu=0&eu=1&commit=Apply+Filter\n",
      "1 1\n",
      "https://www.drugbank.ca/unearth/q?utf8=%E2%9C%93&searcher=indications&query=%22Emotional+upset%22&us=1&ca=0&eu=0&eu=1&commit=Apply+Filter\n",
      "0 0\n",
      "https://www.drugbank.ca/unearth/q?utf8=%E2%9C%93&searcher=indications&query=%22Disorientated%22&us=1&ca=0&eu=0&eu=1&commit=Apply+Filter\n",
      "0 0\n",
      "https://www.drugbank.ca/unearth/q?utf8=%E2%9C%93&searcher=indications&query=%22Clouded+consciousness%22&us=1&ca=0&eu=0&eu=1&commit=Apply+Filter\n",
      "0 0\n",
      "https://www.drugbank.ca/unearth/q?utf8=%E2%9C%93&searcher=indications&query=%22Stomach+ache%22&us=1&ca=0&eu=0&eu=1&commit=Apply+Filter\n",
      "0 0\n",
      "https://www.drugbank.ca/unearth/q?utf8=%E2%9C%93&searcher=indications&query=%22Increased+thirst%22&us=1&ca=0&eu=0&eu=1&commit=Apply+Filter\n",
      "0 0\n",
      "https://www.drugbank.ca/unearth/q?utf8=%E2%9C%93&searcher=indications&query=%22Sleep+deprivation%22&us=1&ca=0&eu=0&eu=1&commit=Apply+Filter\n",
      "0 0\n",
      "https://www.drugbank.ca/unearth/q?utf8=%E2%9C%93&searcher=indications&query=%22Heartburn%22&us=1&ca=0&eu=0&eu=1&commit=Apply+Filter\n",
      "25 25\n",
      "https://www.drugbank.ca/unearth/q?utf8=%E2%9C%93&searcher=indications&query=%22Abdominal+pain%22&us=1&ca=0&eu=0&eu=1&commit=Apply+Filter\n",
      "1 1\n",
      "https://www.drugbank.ca/unearth/q?utf8=%E2%9C%93&searcher=indications&query=%22Swelling%22&us=1&ca=0&eu=0&eu=1&commit=Apply+Filter\n",
      "3 3\n",
      "https://www.drugbank.ca/unearth/q?utf8=%E2%9C%93&searcher=indications&query=%22Feeling+agitated%22&us=1&ca=0&eu=0&eu=1&commit=Apply+Filter\n",
      "1 1\n",
      "https://www.drugbank.ca/unearth/q?utf8=%E2%9C%93&searcher=indications&query=%22Impairment+of+balance%22&us=1&ca=0&eu=0&eu=1&commit=Apply+Filter\n",
      "0 0\n",
      "https://www.drugbank.ca/unearth/q?utf8=%E2%9C%93&searcher=indications&query=%22Paresthesia%22&us=1&ca=0&eu=0&eu=1&commit=Apply+Filter\n",
      "0 0\n",
      "https://www.drugbank.ca/unearth/q?utf8=%E2%9C%93&searcher=indications&query=%22Blurring+of+visual+image%22&us=1&ca=0&eu=0&eu=1&commit=Apply+Filter\n",
      "0 0\n",
      "https://www.drugbank.ca/unearth/q?utf8=%E2%9C%93&searcher=indications&query=%22Feeling+angry%22&us=1&ca=0&eu=0&eu=1&commit=Apply+Filter\n",
      "0 0\n",
      "https://www.drugbank.ca/unearth/q?utf8=%E2%9C%93&searcher=indications&query=%22Loss+of+appetite%22&us=1&ca=0&eu=0&eu=1&commit=Apply+Filter\n",
      "1 1\n",
      "https://www.drugbank.ca/unearth/q?utf8=%E2%9C%93&searcher=indications&query=%22Pain%22&us=1&ca=0&eu=0&eu=1&commit=Apply+Filter\n",
      "25 25\n",
      "https://www.drugbank.ca/unearth/q?utf8=%E2%9C%93&searcher=indications&query=%22Tremor%22&us=1&ca=0&eu=0&eu=1&commit=Apply+Filter\n",
      "2 2\n",
      "https://www.drugbank.ca/unearth/q?utf8=%E2%9C%93&searcher=indications&query=%22Rectal+hemorrhage%22&us=1&ca=0&eu=0&eu=1&commit=Apply+Filter\n",
      "0 0\n",
      "https://www.drugbank.ca/unearth/q?utf8=%E2%9C%93&searcher=indications&query=%22Abnormal+gait%22&us=1&ca=0&eu=0&eu=1&commit=Apply+Filter\n",
      "0 0\n",
      "https://www.drugbank.ca/unearth/q?utf8=%E2%9C%93&searcher=indications&query=%22Impotence%22&us=1&ca=0&eu=0&eu=1&commit=Apply+Filter\n",
      "1 1\n",
      "https://www.drugbank.ca/unearth/q?utf8=%E2%9C%93&searcher=indications&query=%22Eruption+of+skin%22&us=1&ca=0&eu=0&eu=1&commit=Apply+Filter\n",
      "0 0\n",
      "https://www.drugbank.ca/unearth/q?utf8=%E2%9C%93&searcher=indications&query=%22Feeling+hopeless%22&us=1&ca=0&eu=0&eu=1&commit=Apply+Filter\n",
      "0 0\n",
      "https://www.drugbank.ca/unearth/q?utf8=%E2%9C%93&searcher=indications&query=%22Indigestion%22&us=1&ca=0&eu=0&eu=1&commit=Apply+Filter\n",
      "3 3\n",
      "https://www.drugbank.ca/unearth/q?utf8=%E2%9C%93&searcher=indications&query=%22Parkinson's+disease%22&us=1&ca=0&eu=0&eu=1&commit=Apply+Filter\n",
      "7 7\n",
      "https://www.drugbank.ca/unearth/q?utf8=%E2%9C%93&searcher=indications&query=%22Trigeminal+neuralgia%22&us=1&ca=0&eu=0&eu=1&commit=Apply+Filter\n",
      "1 1\n",
      "https://www.drugbank.ca/unearth/q?utf8=%E2%9C%93&searcher=indications&query=%22Bowel+dysfunction%22&us=1&ca=0&eu=0&eu=1&commit=Apply+Filter\n",
      "1 1\n",
      "https://www.drugbank.ca/unearth/q?utf8=%E2%9C%93&searcher=indications&query=%22Parkinsonism%22&us=1&ca=0&eu=0&eu=1&commit=Apply+Filter\n",
      "7 7\n",
      "https://www.drugbank.ca/unearth/q?utf8=%E2%9C%93&searcher=indications&query=%22Delusional+disorder%22&us=1&ca=0&eu=0&eu=1&commit=Apply+Filter\n",
      "0 0\n",
      "https://www.drugbank.ca/unearth/q?utf8=%E2%9C%93&searcher=indications&query=%22Muscle+pain%22&us=1&ca=0&eu=0&eu=1&commit=Apply+Filter\n",
      "25 25\n",
      "https://www.drugbank.ca/unearth/q?utf8=%E2%9C%93&searcher=indications&query=%22Pain+in+pelvis%22&us=1&ca=0&eu=0&eu=1&commit=Apply+Filter\n",
      "0 0\n",
      "https://www.drugbank.ca/unearth/q?utf8=%E2%9C%93&searcher=indications&query=%22Malaise%22&us=1&ca=0&eu=0&eu=1&commit=Apply+Filter\n",
      "0 0\n",
      "https://www.drugbank.ca/unearth/q?utf8=%E2%9C%93&searcher=indications&query=%22Thoughts+of+self+harm%22&us=1&ca=0&eu=0&eu=1&commit=Apply+Filter\n",
      "0 0\n",
      "https://www.drugbank.ca/unearth/q?utf8=%E2%9C%93&searcher=indications&query=%22Dementia%22&us=1&ca=0&eu=0&eu=1&commit=Apply+Filter\n",
      "19 19\n",
      "https://www.drugbank.ca/unearth/q?utf8=%E2%9C%93&searcher=indications&query=%22Depressive+disorder%22&us=1&ca=0&eu=0&eu=1&commit=Apply+Filter\n",
      "12 12\n",
      "https://www.drugbank.ca/unearth/q?utf8=%E2%9C%93&searcher=indications&query=%22Hypothyroidism%22&us=1&ca=0&eu=0&eu=1&commit=Apply+Filter\n",
      "1 1\n",
      "https://www.drugbank.ca/unearth/q?utf8=%E2%9C%93&searcher=indications&query=%22Reduced+mobility%22&us=1&ca=0&eu=0&eu=1&commit=Apply+Filter\n",
      "1 1\n",
      "https://www.drugbank.ca/unearth/q?utf8=%E2%9C%93&searcher=indications&query=%22Jaundice%22&us=1&ca=0&eu=0&eu=1&commit=Apply+Filter\n",
      "1 1\n",
      "https://www.drugbank.ca/unearth/q?utf8=%E2%9C%93&searcher=indications&query=%22Lack+of+energy%22&us=1&ca=0&eu=0&eu=1&commit=Apply+Filter\n",
      "1 1\n",
      "https://www.drugbank.ca/unearth/q?utf8=%E2%9C%93&searcher=indications&query=%22Joint+pain%22&us=1&ca=0&eu=0&eu=1&commit=Apply+Filter\n",
      "25 25\n",
      "https://www.drugbank.ca/unearth/q?utf8=%E2%9C%93&searcher=indications&query=%22Vertigo%22&us=1&ca=0&eu=0&eu=1&commit=Apply+Filter\n",
      "2 2\n",
      "https://www.drugbank.ca/unearth/q?utf8=%E2%9C%93&searcher=indications&query=%22Headache%22&us=1&ca=0&eu=0&eu=1&commit=Apply+Filter\n",
      "25 25\n",
      "https://www.drugbank.ca/unearth/q?utf8=%E2%9C%93&searcher=indications&query=%22Tinnitus%22&us=1&ca=0&eu=0&eu=1&commit=Apply+Filter\n",
      "0 0\n",
      "https://www.drugbank.ca/unearth/q?utf8=%E2%9C%93&searcher=indications&query=%22Insomnia%22&us=1&ca=0&eu=0&eu=1&commit=Apply+Filter\n",
      "3 3\n",
      "https://www.drugbank.ca/unearth/q?utf8=%E2%9C%93&searcher=indications&query=%22Multiple+sclerosis%22&us=1&ca=0&eu=0&eu=1&commit=Apply+Filter\n",
      "11 11\n",
      "https://www.drugbank.ca/unearth/q?utf8=%E2%9C%93&searcher=indications&query=%22Dry+skin%22&us=1&ca=0&eu=0&eu=1&commit=Apply+Filter\n",
      "21 21\n",
      "https://www.drugbank.ca/unearth/q?utf8=%E2%9C%93&searcher=indications&query=%22Blood+in+urine%22&us=1&ca=0&eu=0&eu=1&commit=Apply+Filter\n",
      "0 0\n",
      "https://www.drugbank.ca/unearth/q?utf8=%E2%9C%93&searcher=indications&query=%22Increased+frequency+of+urination%22&us=1&ca=0&eu=0&eu=1&commit=Apply+Filter\n",
      "0 0\n",
      "https://www.drugbank.ca/unearth/q?utf8=%E2%9C%93&searcher=indications&query=%22Muscle+weakness%22&us=1&ca=0&eu=0&eu=1&commit=Apply+Filter\n",
      "1 1\n",
      "https://www.drugbank.ca/unearth/q?utf8=%E2%9C%93&searcher=indications&query=%22Itching%22&us=1&ca=0&eu=0&eu=1&commit=Apply+Filter\n",
      "15 15\n",
      "https://www.drugbank.ca/unearth/q?utf8=%E2%9C%93&searcher=indications&query=%22Hypersomnia%22&us=1&ca=0&eu=0&eu=1&commit=Apply+Filter\n",
      "0 0\n",
      "https://www.drugbank.ca/unearth/q?utf8=%E2%9C%93&searcher=indications&query=%22Sharp+pain%22&us=1&ca=0&eu=0&eu=1&commit=Apply+Filter\n",
      "0 0\n",
      "https://www.drugbank.ca/unearth/q?utf8=%E2%9C%93&searcher=indications&query=%22Hoarse%22&us=1&ca=0&eu=0&eu=1&commit=Apply+Filter\n",
      "0 0\n"
     ]
    },
    {
     "name": "stdout",
     "output_type": "stream",
     "text": [
      "https://www.drugbank.ca/unearth/q?utf8=%E2%9C%93&searcher=indications&query=%22Swollen+abdomen%22&us=1&ca=0&eu=0&eu=1&commit=Apply+Filter\n",
      "1 1\n",
      "https://www.drugbank.ca/unearth/q?utf8=%E2%9C%93&searcher=indications&query=%22Loss+of+interest%22&us=1&ca=0&eu=0&eu=1&commit=Apply+Filter\n",
      "0 0\n",
      "https://www.drugbank.ca/unearth/q?utf8=%E2%9C%93&searcher=indications&query=%22Forgetful%22&us=1&ca=0&eu=0&eu=1&commit=Apply+Filter\n",
      "0 0\n",
      "https://www.drugbank.ca/unearth/q?utf8=%E2%9C%93&searcher=indications&query=%22Pins+and+needles%22&us=1&ca=0&eu=0&eu=1&commit=Apply+Filter\n",
      "0 0\n",
      "https://www.drugbank.ca/unearth/q?utf8=%E2%9C%93&searcher=indications&query=%22Irritable+bowel+syndrome%22&us=1&ca=0&eu=0&eu=1&commit=Apply+Filter\n",
      "5 5\n",
      "https://www.drugbank.ca/unearth/q?utf8=%E2%9C%93&searcher=indications&query=%22Weight+loss%22&us=1&ca=0&eu=0&eu=1&commit=Apply+Filter\n",
      "3 3\n",
      "https://www.drugbank.ca/unearth/q?utf8=%E2%9C%93&searcher=indications&query=%22Vomiting%22&us=1&ca=0&eu=0&eu=1&commit=Apply+Filter\n",
      "25 25\n",
      "https://www.drugbank.ca/unearth/q?utf8=%E2%9C%93&searcher=indications&query=%22Chronic+pain%22&us=1&ca=0&eu=0&eu=1&commit=Apply+Filter\n",
      "25 25\n",
      "https://www.drugbank.ca/unearth/q?utf8=%E2%9C%93&searcher=indications&query=%22Lethargy%22&us=1&ca=0&eu=0&eu=1&commit=Apply+Filter\n",
      "1 1\n",
      "https://www.drugbank.ca/unearth/q?utf8=%E2%9C%93&searcher=indications&query=%22Depressed+mood%22&us=1&ca=0&eu=0&eu=1&commit=Apply+Filter\n",
      "2 2\n",
      "https://www.drugbank.ca/unearth/q?utf8=%E2%9C%93&searcher=indications&query=%22Decrease+in+appetite%22&us=1&ca=0&eu=0&eu=1&commit=Apply+Filter\n",
      "0 0\n",
      "https://www.drugbank.ca/unearth/q?utf8=%E2%9C%93&searcher=indications&query=%22Constipation%22&us=1&ca=0&eu=0&eu=1&commit=Apply+Filter\n",
      "5 5\n",
      "https://www.drugbank.ca/unearth/q?utf8=%E2%9C%93&searcher=indications&query=%22Crying+associated+with+mood%22&us=1&ca=0&eu=0&eu=1&commit=Apply+Filter\n",
      "0 0\n",
      "https://www.drugbank.ca/unearth/q?utf8=%E2%9C%93&searcher=indications&query=%22Rheumatoid+arthritis%22&us=1&ca=0&eu=0&eu=1&commit=Apply+Filter\n",
      "13 13\n",
      "https://www.drugbank.ca/unearth/q?utf8=%E2%9C%93&searcher=indications&query=%22Hallucinations%22&us=1&ca=0&eu=0&eu=1&commit=Apply+Filter\n",
      "0 0\n",
      "https://www.drugbank.ca/unearth/q?utf8=%E2%9C%93&searcher=indications&query=%22Increased+appetite%22&us=1&ca=0&eu=0&eu=1&commit=Apply+Filter\n",
      "0 0\n",
      "https://www.drugbank.ca/unearth/q?utf8=%E2%9C%93&searcher=indications&query=%22Memory+impairment%22&us=1&ca=0&eu=0&eu=1&commit=Apply+Filter\n",
      "0 0\n",
      "https://www.drugbank.ca/unearth/q?utf8=%E2%9C%93&searcher=indications&query=%22Otalgia%22&us=1&ca=0&eu=0&eu=1&commit=Apply+Filter\n",
      "0 0\n",
      "https://www.drugbank.ca/unearth/q?utf8=%E2%9C%93&searcher=indications&query=%22Arthritis%22&us=1&ca=0&eu=0&eu=1&commit=Apply+Filter\n",
      "25 25\n",
      "https://www.drugbank.ca/unearth/q?utf8=%E2%9C%93&searcher=indications&query=%22Scalp+itchy%22&us=1&ca=0&eu=0&eu=1&commit=Apply+Filter\n",
      "0 0\n",
      "https://www.drugbank.ca/unearth/q?utf8=%E2%9C%93&searcher=indications&query=%22Slurred+speech%22&us=1&ca=0&eu=0&eu=1&commit=Apply+Filter\n",
      "0 0\n",
      "https://www.drugbank.ca/unearth/q?utf8=%E2%9C%93&searcher=indications&query=%22Frequent+defecation%22&us=1&ca=0&eu=0&eu=1&commit=Apply+Filter\n",
      "0 0\n",
      "https://www.drugbank.ca/unearth/q?utf8=%E2%9C%93&searcher=indications&query=%22Cannot+sleep+at+all%22&us=1&ca=0&eu=0&eu=1&commit=Apply+Filter\n",
      "0 0\n",
      "https://www.drugbank.ca/unearth/q?utf8=%E2%9C%93&searcher=indications&query=%22Restlessness%22&us=1&ca=0&eu=0&eu=1&commit=Apply+Filter\n",
      "4 4\n",
      "https://www.drugbank.ca/unearth/q?utf8=%E2%9C%93&searcher=indications&query=%22Fatigue%22&us=1&ca=0&eu=0&eu=1&commit=Apply+Filter\n",
      "4 4\n",
      "https://www.drugbank.ca/unearth/q?utf8=%E2%9C%93&searcher=indications&query=%22Pain+in+throat%22&us=1&ca=0&eu=0&eu=1&commit=Apply+Filter\n",
      "1 1\n",
      "https://www.drugbank.ca/unearth/q?utf8=%E2%9C%93&searcher=indications&query=%22Feeling+irritable%22&us=1&ca=0&eu=0&eu=1&commit=Apply+Filter\n",
      "0 0\n",
      "https://www.drugbank.ca/unearth/q?utf8=%E2%9C%93&searcher=indications&query=%22Anger+reaction%22&us=1&ca=0&eu=0&eu=1&commit=Apply+Filter\n",
      "0 0\n",
      "https://www.drugbank.ca/unearth/q?utf8=%E2%9C%93&searcher=indications&query=%22Muscle+rigidity%22&us=1&ca=0&eu=0&eu=1&commit=Apply+Filter\n",
      "1 1\n",
      "https://www.drugbank.ca/unearth/q?utf8=%E2%9C%93&searcher=indications&query=%22Syncope%22&us=1&ca=0&eu=0&eu=1&commit=Apply+Filter\n",
      "3 3\n",
      "https://www.drugbank.ca/unearth/q?utf8=%E2%9C%93&searcher=indications&query=%22Itching+of+skin%22&us=1&ca=0&eu=0&eu=1&commit=Apply+Filter\n",
      "0 0\n",
      "https://www.drugbank.ca/unearth/q?utf8=%E2%9C%93&searcher=indications&query=%22Chronic+fatigue+syndrome%22&us=1&ca=0&eu=0&eu=1&commit=Apply+Filter\n",
      "0 0\n",
      "https://www.drugbank.ca/unearth/q?utf8=%E2%9C%93&searcher=indications&query=%22Foot+pain%22&us=1&ca=0&eu=0&eu=1&commit=Apply+Filter\n",
      "21 21\n",
      "https://www.drugbank.ca/unearth/q?utf8=%E2%9C%93&searcher=indications&query=%22Nausea%22&us=1&ca=0&eu=0&eu=1&commit=Apply+Filter\n",
      "25 25\n",
      "https://www.drugbank.ca/unearth/q?utf8=%E2%9C%93&searcher=indications&query=%22Amnesia%22&us=1&ca=0&eu=0&eu=1&commit=Apply+Filter\n",
      "0 0\n",
      "https://www.drugbank.ca/unearth/q?utf8=%E2%9C%93&searcher=indications&query=%22Stiffness%22&us=1&ca=0&eu=0&eu=1&commit=Apply+Filter\n",
      "1 1\n",
      "https://www.drugbank.ca/unearth/q?utf8=%E2%9C%93&searcher=indications&query=%22Poor+short-term+memory%22&us=1&ca=0&eu=0&eu=1&commit=Apply+Filter\n",
      "0 0\n",
      "https://www.drugbank.ca/unearth/q?utf8=%E2%9C%93&searcher=indications&query=%22Suicidal%22&us=1&ca=0&eu=0&eu=1&commit=Apply+Filter\n",
      "1 1\n",
      "https://www.drugbank.ca/unearth/q?utf8=%E2%9C%93&searcher=indications&query=%22Hearing+loss%22&us=1&ca=0&eu=0&eu=1&commit=Apply+Filter\n",
      "0 0\n",
      "https://www.drugbank.ca/unearth/q?utf8=%E2%9C%93&searcher=indications&query=%22Fever%22&us=1&ca=0&eu=0&eu=1&commit=Apply+Filter\n",
      "25 25\n",
      "https://www.drugbank.ca/unearth/q?utf8=%E2%9C%93&searcher=indications&query=%22Abdominal+bloating%22&us=1&ca=0&eu=0&eu=1&commit=Apply+Filter\n",
      "1 1\n",
      "https://www.drugbank.ca/unearth/q?utf8=%E2%9C%93&searcher=indications&query=%22Muscle+fatigue%22&us=1&ca=0&eu=0&eu=1&commit=Apply+Filter\n",
      "0 0\n",
      "https://www.drugbank.ca/unearth/q?utf8=%E2%9C%93&searcher=indications&query=%22Knee+pain%22&us=1&ca=0&eu=0&eu=1&commit=Apply+Filter\n",
      "0 0\n",
      "https://www.drugbank.ca/unearth/q?utf8=%E2%9C%93&searcher=indications&query=%22Impaired+cognition%22&us=1&ca=0&eu=0&eu=1&commit=Apply+Filter\n",
      "0 0\n",
      "https://www.drugbank.ca/unearth/q?utf8=%E2%9C%93&searcher=indications&query=%22Feeling+lonely%22&us=1&ca=0&eu=0&eu=1&commit=Apply+Filter\n",
      "0 0\n",
      "https://www.drugbank.ca/unearth/q?utf8=%E2%9C%93&searcher=indications&query=%22Difficulty+swallowing%22&us=1&ca=0&eu=0&eu=1&commit=Apply+Filter\n",
      "0 0\n",
      "https://www.drugbank.ca/unearth/q?utf8=%E2%9C%93&searcher=indications&query=%22Edema%22&us=1&ca=0&eu=0&eu=1&commit=Apply+Filter\n",
      "20 20\n",
      "https://www.drugbank.ca/unearth/q?utf8=%E2%9C%93&searcher=indications&query=%22Asthenia%22&us=1&ca=0&eu=0&eu=1&commit=Apply+Filter\n",
      "0 0\n",
      "https://www.drugbank.ca/unearth/q?utf8=%E2%9C%93&searcher=indications&query=%22Urinary+incontinence%22&us=1&ca=0&eu=0&eu=1&commit=Apply+Filter\n",
      "2 2\n",
      "https://www.drugbank.ca/unearth/q?utf8=%E2%9C%93&searcher=indications&query=%22Kidney+stone%22&us=1&ca=0&eu=0&eu=1&commit=Apply+Filter\n",
      "3 3\n",
      "https://www.drugbank.ca/unearth/q?utf8=%E2%9C%93&searcher=indications&query=%22Poor+concentration%22&us=1&ca=0&eu=0&eu=1&commit=Apply+Filter\n",
      "0 0\n",
      "https://www.drugbank.ca/unearth/q?utf8=%E2%9C%93&searcher=indications&query=%22Abnormal+sexual+function%22&us=1&ca=0&eu=0&eu=1&commit=Apply+Filter\n",
      "0 0\n",
      "https://www.drugbank.ca/unearth/q?utf8=%E2%9C%93&searcher=indications&query=%22Dizziness%22&us=1&ca=0&eu=0&eu=1&commit=Apply+Filter\n",
      "0 0\n",
      "https://www.drugbank.ca/unearth/q?utf8=%E2%9C%93&searcher=indications&query=%22Anxiety%22&us=1&ca=0&eu=0&eu=1&commit=Apply+Filter\n",
      "15 15\n",
      "https://www.drugbank.ca/unearth/q?utf8=%E2%9C%93&searcher=indications&query=%22Exhaustion%22&us=1&ca=0&eu=0&eu=1&commit=Apply+Filter\n",
      "0 0\n",
      "https://www.drugbank.ca/unearth/q?utf8=%E2%9C%93&searcher=indications&query=%22Diarrhea%22&us=1&ca=0&eu=0&eu=1&commit=Apply+Filter\n",
      "24 24\n"
     ]
    }
   ],
   "source": [
    "urlhead = \"https://www.drugbank.ca/unearth/q?\"\n",
    "frag1 = \"utf8=%E2%9C%93&\"\n",
    "frag2 = \"searcher=indications&\"\n",
    "query = \"query=\"\n",
    "filtersFrag= \"&us=1&ca=0&eu=0&eu=1&commit=Apply+Filter\"\n",
    "# params={'utf8':\"%E2%9C%93\" , 'searcher' : 'indications' , 'us':'0','ca':'0','eu':'0','eu':'1','commit':\"Apply+Filter\" , 'query':''}\n",
    "\n",
    "SymptomsDrugJson = {}\n",
    "\n",
    "for disease in symptoms:\n",
    "    url = urlhead + frag1 + frag2 +query+disease+ filtersFrag\n",
    "#     params['query']=disease\n",
    "    response = rq.get(url)\n",
    "    print response.url\n",
    "    soup = bs(response.text,'html.parser')\n",
    "    synonym = soup.find_all('div', class_ = 'search-highlights')\n",
    "    drug_matches = soup.find_all('div', class_ = 'db-matches')\n",
    "    print len(drug_matches) , len(synonym)\n",
    "    MatchJson = {'Synonyms':[] , 'MatchedDrugs':[]}\n",
    "    try:\n",
    "        for i in range(len(synonym)):\n",
    "            syn = synonym[i]\n",
    "            drug = drug_matches[i]\n",
    "            synText = syn.text.replace(u'\\u2026','')\n",
    "            drugsName = drug.text.split('/')\n",
    "            MatchJson['Synonyms'].append(synText)\n",
    "            MatchJson['MatchedDrugs'].append(drugsName)\n",
    "    except:\n",
    "        print \"Something went horribly Wrong\"\n",
    "    SymptomsDrugJson[disease] = MatchJson"
   ]
  },
  {
   "cell_type": "code",
   "execution_count": 35,
   "metadata": {
    "ExecuteTime": {
     "end_time": "2019-06-21T11:33:33.712410Z",
     "start_time": "2019-06-21T11:33:33.666104Z"
    }
   },
   "outputs": [
    {
     "name": "stdout",
     "output_type": "stream",
     "text": [
      "\"Impairment+level+of+vision\"\n",
      "0\n",
      "\"Backache\"\n",
      "25\n",
      "\"Dyssomnia\"\n",
      "0\n",
      "\"Lack+of+energy\"\n",
      "1\n",
      "\"Mood+swings\"\n",
      "0\n",
      "\"Tired\"\n",
      "3\n",
      "\"Weight+gain\"\n",
      "1\n",
      "\"Emotional+upset\"\n",
      "0\n",
      "\"Disorientated\"\n",
      "0\n",
      "\"Clouded+consciousness\"\n",
      "0\n",
      "\"Stomach+ache\"\n",
      "0\n",
      "\"Increased+thirst\"\n",
      "0\n",
      "\"Sleep+deprivation\"\n",
      "0\n",
      "\"Heartburn\"\n",
      "25\n",
      "\"Abdominal+pain\"\n",
      "1\n",
      "\"Swelling\"\n",
      "3\n",
      "\"Feeling+agitated\"\n",
      "1\n",
      "\"Impairment+of+balance\"\n",
      "0\n",
      "\"Paresthesia\"\n",
      "0\n",
      "\"Blurring+of+visual+image\"\n",
      "0\n",
      "\"Feeling+angry\"\n",
      "0\n",
      "\"Loss+of+appetite\"\n",
      "1\n",
      "\"Pain\"\n",
      "25\n",
      "\"Impaired+cognition\"\n",
      "0\n",
      "\"Tremor\"\n",
      "2\n",
      "\"Rectal+hemorrhage\"\n",
      "0\n",
      "\"Abnormal+gait\"\n",
      "0\n",
      "\"Impotence\"\n",
      "1\n",
      "\"Eruption+of+skin\"\n",
      "0\n",
      "\"Feeling+hopeless\"\n",
      "0\n",
      "\"Indigestion\"\n",
      "3\n",
      "\"Parkinson's+disease\"\n",
      "7\n",
      "\"Trigeminal+neuralgia\"\n",
      "1\n",
      "\"Bowel+dysfunction\"\n",
      "1\n",
      "\"Parkinsonism\"\n",
      "7\n",
      "\"Delusional+disorder\"\n",
      "0\n",
      "\"Muscle+pain\"\n",
      "25\n",
      "\"Restlessness\"\n",
      "4\n",
      "\"Malaise\"\n",
      "0\n",
      "\"Increased+appetite\"\n",
      "0\n",
      "\"Dementia\"\n",
      "19\n",
      "\"Depressive+disorder\"\n",
      "12\n",
      "\"Hypothyroidism\"\n",
      "1\n",
      "\"Reduced+mobility\"\n",
      "1\n",
      "\"Jaundice\"\n",
      "1\n",
      "\"Loss+of+hair\"\n",
      "0\n",
      "\"Joint+pain\"\n",
      "25\n",
      "\"Vertigo\"\n",
      "2\n",
      "\"Crying+associated+with+mood\"\n",
      "0\n",
      "\"Tinnitus\"\n",
      "0\n",
      "\"Insomnia\"\n",
      "3\n",
      "\"Multiple+sclerosis\"\n",
      "11\n",
      "\"Dry+skin\"\n",
      "21\n",
      "\"Blood+in+urine\"\n",
      "0\n",
      "\"Increased+frequency+of+urination\"\n",
      "0\n",
      "\"Muscle+weakness\"\n",
      "1\n",
      "\"Itching\"\n",
      "15\n",
      "\"Hypersomnia\"\n",
      "0\n",
      "\"Sharp+pain\"\n",
      "0\n",
      "\"Hoarse\"\n",
      "0\n",
      "\"Swollen+abdomen\"\n",
      "1\n",
      "\"Loss+of+interest\"\n",
      "0\n",
      "\"Forgetful\"\n",
      "0\n",
      "\"Pins+and+needles\"\n",
      "0\n",
      "\"Irritable+bowel+syndrome\"\n",
      "5\n",
      "\"Weight+loss\"\n",
      "3\n",
      "\"Chronic+pain\"\n",
      "25\n",
      "\"Lethargy\"\n",
      "1\n",
      "\"Depressed+mood\"\n",
      "2\n",
      "\"Vomiting\"\n",
      "25\n",
      "\"Constipation\"\n",
      "5\n",
      "\"Headache\"\n",
      "25\n",
      "\"Rheumatoid+arthritis\"\n",
      "13\n",
      "\"Hallucinations\"\n",
      "0\n",
      "\"Thoughts+of+self+harm\"\n",
      "0\n",
      "\"Memory+impairment\"\n",
      "0\n",
      "\"Otalgia\"\n",
      "0\n",
      "\"Arthritis\"\n",
      "25\n",
      "\"Scalp+itchy\"\n",
      "0\n",
      "\"Slurred+speech\"\n",
      "0\n",
      "\"Frequent+defecation\"\n",
      "0\n",
      "\"Cannot+sleep+at+all\"\n",
      "0\n",
      "\"Pain+in+pelvis\"\n",
      "0\n",
      "\"Fatigue\"\n",
      "4\n",
      "\"Pain+in+throat\"\n",
      "1\n",
      "\"Feeling+irritable\"\n",
      "0\n",
      "\"Anger+reaction\"\n",
      "0\n",
      "\"Muscle+rigidity\"\n",
      "1\n",
      "\"Abnormal+sexual+function\"\n",
      "0\n",
      "\"Itching+of+skin\"\n",
      "0\n",
      "\"Chronic+fatigue+syndrome\"\n",
      "0\n",
      "\"Foot+pain\"\n",
      "21\n",
      "\"Nausea\"\n",
      "25\n",
      "\"Amnesia\"\n",
      "0\n",
      "\"Stiffness\"\n",
      "1\n",
      "\"Poor+short-term+memory\"\n",
      "0\n",
      "\"Suicidal\"\n",
      "1\n",
      "\"Hearing+loss\"\n",
      "0\n",
      "\"Fever\"\n",
      "25\n",
      "\"Abdominal+bloating\"\n",
      "1\n",
      "\"Muscle+fatigue\"\n",
      "0\n",
      "\"Knee+pain\"\n",
      "0\n",
      "\"Decrease+in+appetite\"\n",
      "0\n",
      "\"Feeling+lonely\"\n",
      "0\n",
      "\"Difficulty+swallowing\"\n",
      "0\n",
      "\"Edema\"\n",
      "20\n",
      "\"Asthenia\"\n",
      "0\n",
      "\"Urinary+incontinence\"\n",
      "2\n",
      "\"Kidney+stone\"\n",
      "3\n",
      "\"Poor+concentration\"\n",
      "0\n",
      "\"Syncope\"\n",
      "3\n",
      "\"Dizziness\"\n",
      "0\n",
      "\"Anxiety\"\n",
      "15\n",
      "\"Exhaustion\"\n",
      "0\n",
      "\"Diarrhea\"\n",
      "24\n"
     ]
    }
   ],
   "source": [
    "for k in SymptomsDrugJson:\n",
    "    print k\n",
    "    print len(SymptomsDrugJson[k]['Synonyms'])"
   ]
  },
  {
   "cell_type": "code",
   "execution_count": 37,
   "metadata": {
    "ExecuteTime": {
     "end_time": "2019-06-21T11:37:07.462781Z",
     "start_time": "2019-06-21T11:37:07.447634Z"
    }
   },
   "outputs": [],
   "source": [
    "# with open('SymptomsMatched.json','wb') as f:\n",
    "#     json.dump(SymptomsDrugJson,f)"
   ]
  },
  {
   "cell_type": "code",
   "execution_count": 32,
   "metadata": {
    "ExecuteTime": {
     "end_time": "2019-06-21T11:31:44.096031Z",
     "start_time": "2019-06-21T11:31:44.091001Z"
    }
   },
   "outputs": [],
   "source": [
    "# def cleanDictionary(diseaseList , DiseaseMatch):\n",
    "#     for k in diseaseList:\n",
    "#         for i in range(len(DiseaseMatch[k]['Synonyms'])):\n",
    "#             findString = k.replace('+',' ').lower()\n",
    "#             sourceString = DiseaseMatch[k]['Synonyms'][i].lower()\n",
    "#             if sourceString.find(findString) < 0:\n",
    "#                 print \"found pointless synonym\"\n",
    "#                 print DiseaseMatch[k]['Synonyms'][i]"
   ]
  },
  {
   "cell_type": "code",
   "execution_count": 33,
   "metadata": {
    "ExecuteTime": {
     "end_time": "2019-06-21T11:31:46.715087Z",
     "start_time": "2019-06-21T11:31:46.711756Z"
    }
   },
   "outputs": [],
   "source": [
    "# cleanDictionary(DiseaseList,DiseaseDrugJson)"
   ]
  },
  {
   "cell_type": "code",
   "execution_count": null,
   "metadata": {},
   "outputs": [],
   "source": [
    "DiseaseDrugJson"
   ]
  }
 ],
 "metadata": {
  "kernelspec": {
   "display_name": "Python 2",
   "language": "python",
   "name": "python2"
  },
  "language_info": {
   "codemirror_mode": {
    "name": "ipython",
    "version": 2
   },
   "file_extension": ".py",
   "mimetype": "text/x-python",
   "name": "python",
   "nbconvert_exporter": "python",
   "pygments_lexer": "ipython2",
   "version": "2.7.12"
  }
 },
 "nbformat": 4,
 "nbformat_minor": 2
}
