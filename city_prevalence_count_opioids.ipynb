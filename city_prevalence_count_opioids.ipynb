{
 "cells": [
  {
   "cell_type": "code",
   "execution_count": 1,
   "metadata": {
    "ExecuteTime": {
     "end_time": "2020-11-16T14:37:03.767687Z",
     "start_time": "2020-11-16T14:37:02.913062Z"
    },
    "collapsed": true
   },
   "outputs": [],
   "source": [
    "import pandas as pd\n",
    "import geopandas as gp \n",
    "import json\n",
    "from glob import glob\n",
    "import numpy as np\n",
    "import matplotlib.pyplot as plt\n",
    "import seaborn as sns\n",
    "\n",
    "sns.set(rc={'figure.figsize':(12,8)})\n",
    "%matplotlib inline\n",
    "from tqdm import tqdm\n",
    "import glob\n",
    "import numpy as np\n",
    "from scipy.stats import pearsonr\n",
    "from scipy.stats import linregress"
   ]
  },
  {
   "cell_type": "code",
   "execution_count": 2,
   "metadata": {
    "ExecuteTime": {
     "end_time": "2020-11-16T14:37:04.704600Z",
     "start_time": "2020-11-16T14:37:04.697820Z"
    }
   },
   "outputs": [
    {
     "name": "stdout",
     "output_type": "stream",
     "text": [
      "['../BL_Work/openPrescribe/savings_Impact/201706.h5', '../BL_Work/openPrescribe/savings_Impact/201608.h5', '../BL_Work/openPrescribe/savings_Impact/201703.h5', '../BL_Work/openPrescribe/savings_Impact/201605.h5', '../BL_Work/openPrescribe/savings_Impact/201705.h5', '../BL_Work/openPrescribe/savings_Impact/201905.h5', '../BL_Work/openPrescribe/savings_Impact/201708.h5', '../BL_Work/openPrescribe/savings_Impact/201604.h5', '../BL_Work/openPrescribe/savings_Impact/201901.h5', '../BL_Work/openPrescribe/savings_Impact/201806.h5', '../BL_Work/openPrescribe/savings_Impact/201805.h5', '../BL_Work/openPrescribe/savings_Impact/201408.h5', '../BL_Work/openPrescribe/savings_Impact/201808.h5', '../BL_Work/openPrescribe/savings_Impact/201504.h5', '../BL_Work/openPrescribe/savings_Impact/201609.h5', '../BL_Work/openPrescribe/savings_Impact/201711.h5', '../BL_Work/openPrescribe/savings_Impact/201807.h5', '../BL_Work/openPrescribe/savings_Impact/201607.h5', '../BL_Work/openPrescribe/savings_Impact/201903.h5', '../BL_Work/openPrescribe/savings_Impact/201501.h5', '../BL_Work/openPrescribe/savings_Impact/201801.h5', '../BL_Work/openPrescribe/savings_Impact/201512.h5', '../BL_Work/openPrescribe/savings_Impact/201611.h5', '../BL_Work/openPrescribe/savings_Impact/201411.h5', '../BL_Work/openPrescribe/savings_Impact/201508.h5', '../BL_Work/openPrescribe/savings_Impact/201610.h5', '../BL_Work/openPrescribe/savings_Impact/201602.h5', '../BL_Work/openPrescribe/savings_Impact/201507.h5', '../BL_Work/openPrescribe/savings_Impact/201410.h5', '../BL_Work/openPrescribe/savings_Impact/201502.h5', '../BL_Work/openPrescribe/savings_Impact/201902.h5', '../BL_Work/openPrescribe/savings_Impact/201811.h5', '../BL_Work/openPrescribe/savings_Impact/201601.h5', '../BL_Work/openPrescribe/savings_Impact/201407.h5', '../BL_Work/openPrescribe/savings_Impact/201803.h5', '../BL_Work/openPrescribe/savings_Impact/201701.h5', '../BL_Work/openPrescribe/savings_Impact/201804.h5', '../BL_Work/openPrescribe/savings_Impact/201812.h5', '../BL_Work/openPrescribe/savings_Impact/201702.h5', '../BL_Work/openPrescribe/savings_Impact/201510.h5', '../BL_Work/openPrescribe/savings_Impact/201412.h5', '../BL_Work/openPrescribe/savings_Impact/201810.h5', '../BL_Work/openPrescribe/savings_Impact/201503.h5', '../BL_Work/openPrescribe/savings_Impact/201506.h5', '../BL_Work/openPrescribe/savings_Impact/201409.h5', '../BL_Work/openPrescribe/savings_Impact/201603.h5', '../BL_Work/openPrescribe/savings_Impact/201606.h5', '../BL_Work/openPrescribe/savings_Impact/201904.h5', '../BL_Work/openPrescribe/savings_Impact/201710.h5', '../BL_Work/openPrescribe/savings_Impact/201906.h5', '../BL_Work/openPrescribe/savings_Impact/201802.h5', '../BL_Work/openPrescribe/savings_Impact/201511.h5', '../BL_Work/openPrescribe/savings_Impact/201809.h5', '../BL_Work/openPrescribe/savings_Impact/201704.h5', '../BL_Work/openPrescribe/savings_Impact/201709.h5', '../BL_Work/openPrescribe/savings_Impact/201509.h5', '../BL_Work/openPrescribe/savings_Impact/201406.h5', '../BL_Work/openPrescribe/savings_Impact/201707.h5', '../BL_Work/openPrescribe/savings_Impact/201505.h5', '../BL_Work/openPrescribe/savings_Impact/201712.h5', '../BL_Work/openPrescribe/savings_Impact/201612.h5']\n"
     ]
    }
   ],
   "source": [
    "# files = glob.glob('../BL_Work/openPrescribe/serialized/*.gz')\n",
    "files = glob.glob('../BL_Work/openPrescribe/savings_Impact/*.h5')\n",
    "print files"
   ]
  },
  {
   "cell_type": "code",
   "execution_count": 3,
   "metadata": {
    "ExecuteTime": {
     "end_time": "2020-11-16T14:39:20.677615Z",
     "start_time": "2020-11-16T14:37:06.331147Z"
    },
    "collapsed": true
   },
   "outputs": [],
   "source": [
    "# pdp = pd.read_csv('../BL_Work/openPrescribe/savings_Impact/201601.h5',compression='gzip')\n",
    "pdp = pd.read_hdf('../BL_Work/openPrescribe/savings_Impact/201601.h5',compression='gzip')\n",
    "pdp.dropna()\n",
    "for month in [ '201602' , '201603','201604','201605','201606','201607','201608','201609','201610','201611','201612']:\n",
    "    file_path  = '../BL_Work/openPrescribe/savings_Impact/' + month + '.h5'\n",
    "#     pdp2 = pd.read_csv(file_path,compression='gzip')\n",
    "    pdp2 = pd.read_hdf(file_path,compression='gzip')\n",
    "    pdp2.dropna()\n",
    "    pdp.append(pdp2)\n",
    "    "
   ]
  },
  {
   "cell_type": "code",
   "execution_count": 68,
   "metadata": {
    "ExecuteTime": {
     "end_time": "2020-11-17T12:24:09.608440Z",
     "start_time": "2020-11-17T12:24:09.598645Z"
    }
   },
   "outputs": [
    {
     "data": {
      "text/plain": [
       "9046629"
      ]
     },
     "execution_count": 68,
     "metadata": {},
     "output_type": "execute_result"
    }
   ],
   "source": [
    "len(pdp)"
   ]
  },
  {
   "cell_type": "code",
   "execution_count": 4,
   "metadata": {
    "ExecuteTime": {
     "end_time": "2020-11-16T14:39:58.844290Z",
     "start_time": "2020-11-16T14:39:58.839304Z"
    },
    "collapsed": true
   },
   "outputs": [],
   "source": [
    "# pdp_BNF = pd.read_csv('../BL_Work/openPrescribe/serialized_BNF/201601.gz',compression='gzip')\n",
    "# pdp_BNF.dropna()\n",
    "# for month in [ '201602' , '201603']:\n",
    "#     file_path  = '../BL_Work/openPrescribe/serialized_BNF/' + month + '.gz'\n",
    "#     pdp2 = pd.read_csv(file_path,compression='gzip')\n",
    "#     pdp2.dropna()\n",
    "#     pdp_BNF.append(pdp2)"
   ]
  },
  {
   "cell_type": "code",
   "execution_count": 5,
   "metadata": {
    "ExecuteTime": {
     "end_time": "2020-11-16T14:40:32.481034Z",
     "start_time": "2020-11-16T14:40:32.437049Z"
    }
   },
   "outputs": [
    {
     "data": {
      "text/html": [
       "<div>\n",
       "<style scoped>\n",
       "    .dataframe tbody tr th:only-of-type {\n",
       "        vertical-align: middle;\n",
       "    }\n",
       "\n",
       "    .dataframe tbody tr th {\n",
       "        vertical-align: top;\n",
       "    }\n",
       "\n",
       "    .dataframe thead th {\n",
       "        text-align: right;\n",
       "    }\n",
       "</style>\n",
       "<table border=\"1\" class=\"dataframe\">\n",
       "  <thead>\n",
       "    <tr style=\"text-align: right;\">\n",
       "      <th></th>\n",
       "      <th></th>\n",
       "      <th>Unnamed: 0</th>\n",
       "      <th>0</th>\n",
       "      <th>1</th>\n",
       "      <th>2</th>\n",
       "      <th>3</th>\n",
       "      <th>4</th>\n",
       "      <th>5</th>\n",
       "      <th>6</th>\n",
       "      <th>7</th>\n",
       "      <th>8</th>\n",
       "      <th>...</th>\n",
       "      <th>15</th>\n",
       "      <th>16</th>\n",
       "      <th>17</th>\n",
       "      <th>18</th>\n",
       "      <th>19</th>\n",
       "      <th>20</th>\n",
       "      <th>21</th>\n",
       "      <th>22</th>\n",
       "      <th>23</th>\n",
       "      <th>24</th>\n",
       "    </tr>\n",
       "  </thead>\n",
       "  <tbody>\n",
       "    <tr>\n",
       "      <th rowspan=\"5\" valign=\"top\">0</th>\n",
       "      <th>51135</th>\n",
       "      <td>59964</td>\n",
       "      <td>Q44</td>\n",
       "      <td>01R</td>\n",
       "      <td>N81084</td>\n",
       "      <td>0101010C0BBAAAA</td>\n",
       "      <td>Alu-Cap_Cap 475mg</td>\n",
       "      <td>1.0</td>\n",
       "      <td>38.39</td>\n",
       "      <td>35.57</td>\n",
       "      <td>336.0</td>\n",
       "      <td>...</td>\n",
       "      <td>475.0</td>\n",
       "      <td>0101010C0</td>\n",
       "      <td>112.000000</td>\n",
       "      <td>1.0</td>\n",
       "      <td>112.000000</td>\n",
       "      <td>BB</td>\n",
       "      <td>0.110952</td>\n",
       "      <td>0.143333</td>\n",
       "      <td>10.880000</td>\n",
       "      <td>1.413690</td>\n",
       "    </tr>\n",
       "    <tr>\n",
       "      <th>55454</th>\n",
       "      <td>64283</td>\n",
       "      <td>Q44</td>\n",
       "      <td>01R</td>\n",
       "      <td>N81614</td>\n",
       "      <td>0101010C0AAAAAA</td>\n",
       "      <td>Alum Hydrox_Cap 475mg</td>\n",
       "      <td>1.0</td>\n",
       "      <td>13.71</td>\n",
       "      <td>12.66</td>\n",
       "      <td>120.0</td>\n",
       "      <td>...</td>\n",
       "      <td>475.0</td>\n",
       "      <td>0101010C0</td>\n",
       "      <td>40.000000</td>\n",
       "      <td>1.0</td>\n",
       "      <td>40.000000</td>\n",
       "      <td>AA</td>\n",
       "      <td>0.110952</td>\n",
       "      <td>0.143333</td>\n",
       "      <td>3.885714</td>\n",
       "      <td>3.958333</td>\n",
       "    </tr>\n",
       "    <tr>\n",
       "      <th>69323</th>\n",
       "      <td>78846</td>\n",
       "      <td>Q44</td>\n",
       "      <td>02D</td>\n",
       "      <td>N81087</td>\n",
       "      <td>0101010C0AAAAAA</td>\n",
       "      <td>Alum Hydrox_Cap 475mg</td>\n",
       "      <td>1.0</td>\n",
       "      <td>31.99</td>\n",
       "      <td>29.66</td>\n",
       "      <td>280.0</td>\n",
       "      <td>...</td>\n",
       "      <td>475.0</td>\n",
       "      <td>0101010C0</td>\n",
       "      <td>93.333333</td>\n",
       "      <td>1.0</td>\n",
       "      <td>93.333333</td>\n",
       "      <td>AA</td>\n",
       "      <td>0.110952</td>\n",
       "      <td>0.143333</td>\n",
       "      <td>9.066667</td>\n",
       "      <td>1.696429</td>\n",
       "    </tr>\n",
       "    <tr>\n",
       "      <th>81064</th>\n",
       "      <td>91133</td>\n",
       "      <td>Q44</td>\n",
       "      <td>02E</td>\n",
       "      <td>N81020</td>\n",
       "      <td>0101010C0AAAAAA</td>\n",
       "      <td>Alum Hydrox_Cap 475mg</td>\n",
       "      <td>2.0</td>\n",
       "      <td>25.60</td>\n",
       "      <td>23.86</td>\n",
       "      <td>224.0</td>\n",
       "      <td>...</td>\n",
       "      <td>475.0</td>\n",
       "      <td>0101010C0</td>\n",
       "      <td>74.666667</td>\n",
       "      <td>1.0</td>\n",
       "      <td>74.666667</td>\n",
       "      <td>AA</td>\n",
       "      <td>0.110952</td>\n",
       "      <td>0.143333</td>\n",
       "      <td>7.253333</td>\n",
       "      <td>2.120536</td>\n",
       "    </tr>\n",
       "    <tr>\n",
       "      <th>104971</th>\n",
       "      <td>115040</td>\n",
       "      <td>Q44</td>\n",
       "      <td>02E</td>\n",
       "      <td>N81122</td>\n",
       "      <td>0101010C0BBAAAA</td>\n",
       "      <td>Alu-Cap_Cap 475mg</td>\n",
       "      <td>1.0</td>\n",
       "      <td>19.19</td>\n",
       "      <td>17.84</td>\n",
       "      <td>168.0</td>\n",
       "      <td>...</td>\n",
       "      <td>475.0</td>\n",
       "      <td>0101010C0</td>\n",
       "      <td>56.000000</td>\n",
       "      <td>1.0</td>\n",
       "      <td>56.000000</td>\n",
       "      <td>BB</td>\n",
       "      <td>0.110952</td>\n",
       "      <td>0.143333</td>\n",
       "      <td>5.440000</td>\n",
       "      <td>2.827381</td>\n",
       "    </tr>\n",
       "  </tbody>\n",
       "</table>\n",
       "<p>5 rows × 26 columns</p>\n",
       "</div>"
      ],
      "text/plain": [
       "          Unnamed: 0    0    1       2                3  \\\n",
       "0 51135        59964  Q44  01R  N81084  0101010C0BBAAAA   \n",
       "  55454        64283  Q44  01R  N81614  0101010C0AAAAAA   \n",
       "  69323        78846  Q44  02D  N81087  0101010C0AAAAAA   \n",
       "  81064        91133  Q44  02E  N81020  0101010C0AAAAAA   \n",
       "  104971      115040  Q44  02E  N81122  0101010C0BBAAAA   \n",
       "\n",
       "                                                 4    5      6      7      8  \\\n",
       "0 51135   Alu-Cap_Cap 475mg                         1.0  38.39  35.57  336.0   \n",
       "  55454   Alum Hydrox_Cap 475mg                     1.0  13.71  12.66  120.0   \n",
       "  69323   Alum Hydrox_Cap 475mg                     1.0  31.99  29.66  280.0   \n",
       "  81064   Alum Hydrox_Cap 475mg                     2.0  25.60  23.86  224.0   \n",
       "  104971  Alu-Cap_Cap 475mg                         1.0  19.19  17.84  168.0   \n",
       "\n",
       "          ...     15         16          17   18          19  20        21  \\\n",
       "0 51135   ...  475.0  0101010C0  112.000000  1.0  112.000000  BB  0.110952   \n",
       "  55454   ...  475.0  0101010C0   40.000000  1.0   40.000000  AA  0.110952   \n",
       "  69323   ...  475.0  0101010C0   93.333333  1.0   93.333333  AA  0.110952   \n",
       "  81064   ...  475.0  0101010C0   74.666667  1.0   74.666667  AA  0.110952   \n",
       "  104971  ...  475.0  0101010C0   56.000000  1.0   56.000000  BB  0.110952   \n",
       "\n",
       "                22         23        24  \n",
       "0 51135   0.143333  10.880000  1.413690  \n",
       "  55454   0.143333   3.885714  3.958333  \n",
       "  69323   0.143333   9.066667  1.696429  \n",
       "  81064   0.143333   7.253333  2.120536  \n",
       "  104971  0.143333   5.440000  2.827381  \n",
       "\n",
       "[5 rows x 26 columns]"
      ]
     },
     "execution_count": 5,
     "metadata": {},
     "output_type": "execute_result"
    }
   ],
   "source": [
    "pdp.head()"
   ]
  },
  {
   "cell_type": "code",
   "execution_count": 6,
   "metadata": {
    "ExecuteTime": {
     "end_time": "2020-11-16T14:27:22.379079Z",
     "start_time": "2020-11-16T14:27:22.374374Z"
    },
    "collapsed": true
   },
   "outputs": [],
   "source": [
    "# pdp = pd.read_csv('../BL_Work/openPrescribe/serialized/201601.gz',compression='gzip')\n",
    "# pdp.dropna()\n"
   ]
  },
  {
   "cell_type": "code",
   "execution_count": 6,
   "metadata": {
    "ExecuteTime": {
     "end_time": "2020-11-16T14:41:06.518757Z",
     "start_time": "2020-11-16T14:41:06.514195Z"
    },
    "collapsed": true
   },
   "outputs": [],
   "source": [
    "# set(pdp['12'])"
   ]
  },
  {
   "cell_type": "code",
   "execution_count": 7,
   "metadata": {
    "ExecuteTime": {
     "end_time": "2020-11-16T14:41:39.901919Z",
     "start_time": "2020-11-16T14:41:38.682767Z"
    },
    "collapsed": true
   },
   "outputs": [],
   "source": [
    "%store -r taxonomyDict"
   ]
  },
  {
   "cell_type": "code",
   "execution_count": 8,
   "metadata": {
    "ExecuteTime": {
     "end_time": "2020-11-16T14:42:08.964810Z",
     "start_time": "2020-11-16T14:42:08.935303Z"
    },
    "collapsed": true
   },
   "outputs": [],
   "source": [
    "%store -r cityMap"
   ]
  },
  {
   "cell_type": "code",
   "execution_count": 9,
   "metadata": {
    "ExecuteTime": {
     "end_time": "2020-11-16T14:46:38.069755Z",
     "start_time": "2020-11-16T14:46:38.045581Z"
    },
    "collapsed": true
   },
   "outputs": [],
   "source": [
    "disease_drugs = json.load(open(\"scratchpad/Disease_Drug_DrugBank.json\",'rb'))"
   ]
  },
  {
   "cell_type": "code",
   "execution_count": 10,
   "metadata": {
    "ExecuteTime": {
     "end_time": "2020-11-16T14:47:06.571396Z",
     "start_time": "2020-11-16T14:47:06.566807Z"
    },
    "collapsed": true
   },
   "outputs": [],
   "source": [
    "# pdp.head(n=1000)"
   ]
  },
  {
   "cell_type": "code",
   "execution_count": 11,
   "metadata": {
    "ExecuteTime": {
     "end_time": "2020-11-16T14:47:37.187331Z",
     "start_time": "2020-11-16T14:47:36.901707Z"
    }
   },
   "outputs": [
    {
     "name": "stderr",
     "output_type": "stream",
     "text": [
      "/home/sagar/anaconda3/envs/env_py2/lib/python2.7/site-packages/IPython/core/interactiveshell.py:2714: DtypeWarning: Columns (23,24,25,26,27,28,29,30,31,32,33,34,35) have mixed types. Specify dtype option on import or set low_memory=False.\n",
      "  interactivity=interactivity, compiler=compiler, result=result)\n"
     ]
    }
   ],
   "source": [
    "ward_pop = pd.read_csv('scratchpad/ward_pop.csv')"
   ]
  },
  {
   "cell_type": "code",
   "execution_count": 12,
   "metadata": {
    "ExecuteTime": {
     "end_time": "2020-11-16T14:48:11.624983Z",
     "start_time": "2020-11-16T14:48:11.593674Z"
    }
   },
   "outputs": [
    {
     "data": {
      "text/html": [
       "<div>\n",
       "<style scoped>\n",
       "    .dataframe tbody tr th:only-of-type {\n",
       "        vertical-align: middle;\n",
       "    }\n",
       "\n",
       "    .dataframe tbody tr th {\n",
       "        vertical-align: top;\n",
       "    }\n",
       "\n",
       "    .dataframe thead th {\n",
       "        text-align: right;\n",
       "    }\n",
       "</style>\n",
       "<table border=\"1\" class=\"dataframe\">\n",
       "  <thead>\n",
       "    <tr style=\"text-align: right;\">\n",
       "      <th></th>\n",
       "      <th>Ward Code 1</th>\n",
       "      <th>Ward Name 1</th>\n",
       "      <th>Local Authority</th>\n",
       "      <th>All Ages</th>\n",
       "      <th>0</th>\n",
       "      <th>1</th>\n",
       "      <th>2</th>\n",
       "      <th>3</th>\n",
       "      <th>4</th>\n",
       "      <th>5</th>\n",
       "      <th>...</th>\n",
       "      <th>81</th>\n",
       "      <th>82</th>\n",
       "      <th>83</th>\n",
       "      <th>84</th>\n",
       "      <th>85</th>\n",
       "      <th>86</th>\n",
       "      <th>87</th>\n",
       "      <th>88</th>\n",
       "      <th>89</th>\n",
       "      <th>90+</th>\n",
       "    </tr>\n",
       "  </thead>\n",
       "  <tbody>\n",
       "    <tr>\n",
       "      <th>0</th>\n",
       "      <td>E05000026</td>\n",
       "      <td>Abbey</td>\n",
       "      <td>Barking and Dagenham</td>\n",
       "      <td>15,133</td>\n",
       "      <td>351</td>\n",
       "      <td>332</td>\n",
       "      <td>361</td>\n",
       "      <td>311</td>\n",
       "      <td>328</td>\n",
       "      <td>290</td>\n",
       "      <td>...</td>\n",
       "      <td>18</td>\n",
       "      <td>15</td>\n",
       "      <td>22</td>\n",
       "      <td>14</td>\n",
       "      <td>14</td>\n",
       "      <td>19</td>\n",
       "      <td>12</td>\n",
       "      <td>6</td>\n",
       "      <td>10</td>\n",
       "      <td>14</td>\n",
       "    </tr>\n",
       "    <tr>\n",
       "      <th>1</th>\n",
       "      <td>E05000027</td>\n",
       "      <td>Alibon</td>\n",
       "      <td>Barking and Dagenham</td>\n",
       "      <td>10,853</td>\n",
       "      <td>178</td>\n",
       "      <td>185</td>\n",
       "      <td>205</td>\n",
       "      <td>205</td>\n",
       "      <td>196</td>\n",
       "      <td>222</td>\n",
       "      <td>...</td>\n",
       "      <td>31</td>\n",
       "      <td>32</td>\n",
       "      <td>23</td>\n",
       "      <td>22</td>\n",
       "      <td>34</td>\n",
       "      <td>20</td>\n",
       "      <td>14</td>\n",
       "      <td>20</td>\n",
       "      <td>17</td>\n",
       "      <td>59</td>\n",
       "    </tr>\n",
       "    <tr>\n",
       "      <th>2</th>\n",
       "      <td>E05000028</td>\n",
       "      <td>Becontree</td>\n",
       "      <td>Barking and Dagenham</td>\n",
       "      <td>14,466</td>\n",
       "      <td>303</td>\n",
       "      <td>304</td>\n",
       "      <td>285</td>\n",
       "      <td>320</td>\n",
       "      <td>294</td>\n",
       "      <td>271</td>\n",
       "      <td>...</td>\n",
       "      <td>28</td>\n",
       "      <td>25</td>\n",
       "      <td>22</td>\n",
       "      <td>29</td>\n",
       "      <td>19</td>\n",
       "      <td>22</td>\n",
       "      <td>15</td>\n",
       "      <td>19</td>\n",
       "      <td>11</td>\n",
       "      <td>65</td>\n",
       "    </tr>\n",
       "    <tr>\n",
       "      <th>3</th>\n",
       "      <td>E05000029</td>\n",
       "      <td>Chadwell Heath</td>\n",
       "      <td>Barking and Dagenham</td>\n",
       "      <td>11,140</td>\n",
       "      <td>196</td>\n",
       "      <td>176</td>\n",
       "      <td>175</td>\n",
       "      <td>177</td>\n",
       "      <td>199</td>\n",
       "      <td>168</td>\n",
       "      <td>...</td>\n",
       "      <td>60</td>\n",
       "      <td>41</td>\n",
       "      <td>44</td>\n",
       "      <td>43</td>\n",
       "      <td>33</td>\n",
       "      <td>38</td>\n",
       "      <td>35</td>\n",
       "      <td>28</td>\n",
       "      <td>22</td>\n",
       "      <td>146</td>\n",
       "    </tr>\n",
       "    <tr>\n",
       "      <th>4</th>\n",
       "      <td>E05000030</td>\n",
       "      <td>Eastbrook</td>\n",
       "      <td>Barking and Dagenham</td>\n",
       "      <td>11,464</td>\n",
       "      <td>185</td>\n",
       "      <td>156</td>\n",
       "      <td>177</td>\n",
       "      <td>172</td>\n",
       "      <td>165</td>\n",
       "      <td>156</td>\n",
       "      <td>...</td>\n",
       "      <td>54</td>\n",
       "      <td>46</td>\n",
       "      <td>51</td>\n",
       "      <td>56</td>\n",
       "      <td>42</td>\n",
       "      <td>37</td>\n",
       "      <td>28</td>\n",
       "      <td>29</td>\n",
       "      <td>30</td>\n",
       "      <td>139</td>\n",
       "    </tr>\n",
       "  </tbody>\n",
       "</table>\n",
       "<p>5 rows × 95 columns</p>\n",
       "</div>"
      ],
      "text/plain": [
       "  Ward Code 1     Ward Name 1       Local Authority All Ages    0    1    2  \\\n",
       "0   E05000026           Abbey  Barking and Dagenham   15,133  351  332  361   \n",
       "1   E05000027          Alibon  Barking and Dagenham   10,853  178  185  205   \n",
       "2   E05000028       Becontree  Barking and Dagenham   14,466  303  304  285   \n",
       "3   E05000029  Chadwell Heath  Barking and Dagenham   11,140  196  176  175   \n",
       "4   E05000030       Eastbrook  Barking and Dagenham   11,464  185  156  177   \n",
       "\n",
       "     3    4    5  ...  81  82  83  84  85  86  87  88  89  90+  \n",
       "0  311  328  290  ...  18  15  22  14  14  19  12   6  10   14  \n",
       "1  205  196  222  ...  31  32  23  22  34  20  14  20  17   59  \n",
       "2  320  294  271  ...  28  25  22  29  19  22  15  19  11   65  \n",
       "3  177  199  168  ...  60  41  44  43  33  38  35  28  22  146  \n",
       "4  172  165  156  ...  54  46  51  56  42  37  28  29  30  139  \n",
       "\n",
       "[5 rows x 95 columns]"
      ]
     },
     "execution_count": 12,
     "metadata": {},
     "output_type": "execute_result"
    }
   ],
   "source": [
    "ward_pop.head()"
   ]
  },
  {
   "cell_type": "code",
   "execution_count": 13,
   "metadata": {
    "ExecuteTime": {
     "end_time": "2020-11-16T14:48:43.347037Z",
     "start_time": "2020-11-16T14:48:43.117826Z"
    },
    "collapsed": true
   },
   "outputs": [],
   "source": [
    "GP_META = pd.read_csv('../BL_Work/epraccur.csv',header=None)\n",
    "GP_META.rename(columns={0:'BP_code',\n",
    "                        1:'Name',\n",
    "                        2:'Grouping',\n",
    "                        3:'National_geo',\n",
    "                        4:'Addr1',\n",
    "                        5:'Addr2',\n",
    "                        6:'Addr3',\n",
    "                        7: 'Addr4',\n",
    "                        8:'Addr5',\n",
    "                        9:'Postcode',\n",
    "                        10:'Open',\n",
    "                        11:'Closed',\n",
    "                        12:'Status',\n",
    "                        13:'Org type code',\n",
    "                        14:'Commissioner',\n",
    "                        15:'Join provider',\n",
    "                        16:'Left provider',\n",
    "                        17:'Contact',\n",
    "                        18:'Null1',\n",
    "                        19:'Null2',\n",
    "                        20:'Null3',\n",
    "                        21:'Amended',\n",
    "                        22:'Null4',\n",
    "                        23:'Provider',\n",
    "                        24:'Null5',\n",
    "                        25:'Setting',\n",
    "                        26:'Null6'}, \n",
    "                 inplace=True)"
   ]
  },
  {
   "cell_type": "code",
   "execution_count": 14,
   "metadata": {
    "ExecuteTime": {
     "end_time": "2020-11-16T14:49:12.318016Z",
     "start_time": "2020-11-16T14:49:12.313182Z"
    }
   },
   "outputs": [
    {
     "name": "stdout",
     "output_type": "stream",
     "text": [
      "yo\n"
     ]
    }
   ],
   "source": [
    "print(\"yo\")"
   ]
  },
  {
   "cell_type": "code",
   "execution_count": 15,
   "metadata": {
    "ExecuteTime": {
     "end_time": "2020-11-16T15:15:54.924393Z",
     "start_time": "2020-11-16T15:15:54.859351Z"
    }
   },
   "outputs": [
    {
     "data": {
      "text/html": [
       "<div>\n",
       "<style scoped>\n",
       "    .dataframe tbody tr th:only-of-type {\n",
       "        vertical-align: middle;\n",
       "    }\n",
       "\n",
       "    .dataframe tbody tr th {\n",
       "        vertical-align: top;\n",
       "    }\n",
       "\n",
       "    .dataframe thead th {\n",
       "        text-align: right;\n",
       "    }\n",
       "</style>\n",
       "<table border=\"1\" class=\"dataframe\">\n",
       "  <thead>\n",
       "    <tr style=\"text-align: right;\">\n",
       "      <th></th>\n",
       "      <th>BP_code</th>\n",
       "      <th>Name</th>\n",
       "      <th>Grouping</th>\n",
       "      <th>National_geo</th>\n",
       "      <th>Addr1</th>\n",
       "      <th>Addr2</th>\n",
       "      <th>Addr3</th>\n",
       "      <th>Addr4</th>\n",
       "      <th>Addr5</th>\n",
       "      <th>Postcode</th>\n",
       "      <th>...</th>\n",
       "      <th>Contact</th>\n",
       "      <th>Null1</th>\n",
       "      <th>Null2</th>\n",
       "      <th>Null3</th>\n",
       "      <th>Amended</th>\n",
       "      <th>Null4</th>\n",
       "      <th>Provider</th>\n",
       "      <th>Null5</th>\n",
       "      <th>Setting</th>\n",
       "      <th>Null6</th>\n",
       "    </tr>\n",
       "  </thead>\n",
       "  <tbody>\n",
       "    <tr>\n",
       "      <th>0</th>\n",
       "      <td>A81001</td>\n",
       "      <td>THE DENSHAM SURGERY</td>\n",
       "      <td>Y63</td>\n",
       "      <td>Q74</td>\n",
       "      <td>THE HEALTH CENTRE</td>\n",
       "      <td>LAWSON STREET</td>\n",
       "      <td>STOCKTON-ON-TEES</td>\n",
       "      <td>CLEVELAND</td>\n",
       "      <td>NaN</td>\n",
       "      <td>TS18 1HU</td>\n",
       "      <td>...</td>\n",
       "      <td>01642 672351</td>\n",
       "      <td>NaN</td>\n",
       "      <td>NaN</td>\n",
       "      <td>NaN</td>\n",
       "      <td>1</td>\n",
       "      <td>NaN</td>\n",
       "      <td>00K</td>\n",
       "      <td>NaN</td>\n",
       "      <td>4</td>\n",
       "      <td>NaN</td>\n",
       "    </tr>\n",
       "    <tr>\n",
       "      <th>1</th>\n",
       "      <td>A81002</td>\n",
       "      <td>QUEENS PARK MEDICAL CENTRE</td>\n",
       "      <td>Y63</td>\n",
       "      <td>Q74</td>\n",
       "      <td>QUEENS PARK MEDICAL CTR</td>\n",
       "      <td>FARRER STREET</td>\n",
       "      <td>STOCKTON ON TEES</td>\n",
       "      <td>CLEVELAND</td>\n",
       "      <td>NaN</td>\n",
       "      <td>TS18 2AW</td>\n",
       "      <td>...</td>\n",
       "      <td>01642 679681</td>\n",
       "      <td>NaN</td>\n",
       "      <td>NaN</td>\n",
       "      <td>NaN</td>\n",
       "      <td>1</td>\n",
       "      <td>NaN</td>\n",
       "      <td>00K</td>\n",
       "      <td>NaN</td>\n",
       "      <td>4</td>\n",
       "      <td>NaN</td>\n",
       "    </tr>\n",
       "    <tr>\n",
       "      <th>2</th>\n",
       "      <td>A81003</td>\n",
       "      <td>VICTORIA MEDICAL PRACTICE</td>\n",
       "      <td>Y54</td>\n",
       "      <td>Q74</td>\n",
       "      <td>THE HEALTH CENTRE</td>\n",
       "      <td>VICTORIA ROAD</td>\n",
       "      <td>HARTLEPOOL</td>\n",
       "      <td>CLEVELAND</td>\n",
       "      <td>NaN</td>\n",
       "      <td>TS26 8DB</td>\n",
       "      <td>...</td>\n",
       "      <td>01429 272945</td>\n",
       "      <td>NaN</td>\n",
       "      <td>NaN</td>\n",
       "      <td>NaN</td>\n",
       "      <td>0</td>\n",
       "      <td>NaN</td>\n",
       "      <td>00K</td>\n",
       "      <td>NaN</td>\n",
       "      <td>4</td>\n",
       "      <td>NaN</td>\n",
       "    </tr>\n",
       "    <tr>\n",
       "      <th>3</th>\n",
       "      <td>A81004</td>\n",
       "      <td>BLUEBELL MEDICAL CENTRE</td>\n",
       "      <td>Y63</td>\n",
       "      <td>Q74</td>\n",
       "      <td>TRIMDON AVENUE</td>\n",
       "      <td>ACKLAM</td>\n",
       "      <td>MIDDLESBROUGH</td>\n",
       "      <td>NaN</td>\n",
       "      <td>NaN</td>\n",
       "      <td>TS5 8SB</td>\n",
       "      <td>...</td>\n",
       "      <td>01642 827697</td>\n",
       "      <td>NaN</td>\n",
       "      <td>NaN</td>\n",
       "      <td>NaN</td>\n",
       "      <td>1</td>\n",
       "      <td>NaN</td>\n",
       "      <td>00M</td>\n",
       "      <td>NaN</td>\n",
       "      <td>4</td>\n",
       "      <td>NaN</td>\n",
       "    </tr>\n",
       "    <tr>\n",
       "      <th>4</th>\n",
       "      <td>A81005</td>\n",
       "      <td>SPRINGWOOD SURGERY</td>\n",
       "      <td>Y63</td>\n",
       "      <td>Q74</td>\n",
       "      <td>SPRINGWOOD SURGERY</td>\n",
       "      <td>RECTORY LANE</td>\n",
       "      <td>GUISBOROUGH</td>\n",
       "      <td>NaN</td>\n",
       "      <td>NaN</td>\n",
       "      <td>TS14 7DJ</td>\n",
       "      <td>...</td>\n",
       "      <td>01287 619611</td>\n",
       "      <td>NaN</td>\n",
       "      <td>NaN</td>\n",
       "      <td>NaN</td>\n",
       "      <td>1</td>\n",
       "      <td>NaN</td>\n",
       "      <td>00M</td>\n",
       "      <td>NaN</td>\n",
       "      <td>4</td>\n",
       "      <td>NaN</td>\n",
       "    </tr>\n",
       "  </tbody>\n",
       "</table>\n",
       "<p>5 rows × 27 columns</p>\n",
       "</div>"
      ],
      "text/plain": [
       "  BP_code                        Name Grouping National_geo  \\\n",
       "0  A81001         THE DENSHAM SURGERY      Y63          Q74   \n",
       "1  A81002  QUEENS PARK MEDICAL CENTRE      Y63          Q74   \n",
       "2  A81003   VICTORIA MEDICAL PRACTICE      Y54          Q74   \n",
       "3  A81004     BLUEBELL MEDICAL CENTRE      Y63          Q74   \n",
       "4  A81005          SPRINGWOOD SURGERY      Y63          Q74   \n",
       "\n",
       "                     Addr1          Addr2             Addr3      Addr4 Addr5  \\\n",
       "0        THE HEALTH CENTRE  LAWSON STREET  STOCKTON-ON-TEES  CLEVELAND   NaN   \n",
       "1  QUEENS PARK MEDICAL CTR  FARRER STREET  STOCKTON ON TEES  CLEVELAND   NaN   \n",
       "2        THE HEALTH CENTRE  VICTORIA ROAD        HARTLEPOOL  CLEVELAND   NaN   \n",
       "3           TRIMDON AVENUE         ACKLAM     MIDDLESBROUGH        NaN   NaN   \n",
       "4       SPRINGWOOD SURGERY   RECTORY LANE       GUISBOROUGH        NaN   NaN   \n",
       "\n",
       "   Postcode  ...       Contact  Null1 Null2 Null3 Amended  Null4  Provider  \\\n",
       "0  TS18 1HU  ...  01642 672351    NaN   NaN   NaN       1    NaN       00K   \n",
       "1  TS18 2AW  ...  01642 679681    NaN   NaN   NaN       1    NaN       00K   \n",
       "2  TS26 8DB  ...  01429 272945    NaN   NaN   NaN       0    NaN       00K   \n",
       "3   TS5 8SB  ...  01642 827697    NaN   NaN   NaN       1    NaN       00M   \n",
       "4  TS14 7DJ  ...  01287 619611    NaN   NaN   NaN       1    NaN       00M   \n",
       "\n",
       "  Null5  Setting  Null6  \n",
       "0   NaN        4    NaN  \n",
       "1   NaN        4    NaN  \n",
       "2   NaN        4    NaN  \n",
       "3   NaN        4    NaN  \n",
       "4   NaN        4    NaN  \n",
       "\n",
       "[5 rows x 27 columns]"
      ]
     },
     "execution_count": 15,
     "metadata": {},
     "output_type": "execute_result"
    }
   ],
   "source": [
    "GP_META.head()"
   ]
  },
  {
   "cell_type": "code",
   "execution_count": 16,
   "metadata": {
    "ExecuteTime": {
     "end_time": "2020-11-16T15:16:27.230272Z",
     "start_time": "2020-11-16T15:16:25.424572Z"
    },
    "collapsed": true
   },
   "outputs": [],
   "source": [
    "Open_filtered_GPs = {}\n",
    "for index,row in GP_META.iterrows():\n",
    "    if row ['Setting'] == 4 and row['Status'] =='A':\n",
    "        Open_filtered_GPs[row['BP_code']] = row['Postcode'].strip()"
   ]
  },
  {
   "cell_type": "code",
   "execution_count": 17,
   "metadata": {
    "ExecuteTime": {
     "end_time": "2020-11-16T15:19:41.197795Z",
     "start_time": "2020-11-16T15:19:41.188026Z"
    }
   },
   "outputs": [
    {
     "data": {
      "text/plain": [
       "6924"
      ]
     },
     "execution_count": 17,
     "metadata": {},
     "output_type": "execute_result"
    }
   ],
   "source": [
    "len(Open_filtered_GPs)"
   ]
  },
  {
   "cell_type": "code",
   "execution_count": 18,
   "metadata": {
    "ExecuteTime": {
     "end_time": "2020-11-16T15:20:11.112854Z",
     "start_time": "2020-11-16T15:20:10.537463Z"
    },
    "collapsed": true
   },
   "outputs": [],
   "source": [
    "df_city = pd.read_csv('../BL_Work/lower_layer_super_output_area_2011_to_major_towns_and_cities_december_2015_lookup_in_england_and_wales.csv')"
   ]
  },
  {
   "cell_type": "code",
   "execution_count": 19,
   "metadata": {
    "ExecuteTime": {
     "end_time": "2020-11-16T15:20:43.204837Z",
     "start_time": "2020-11-16T15:20:43.161117Z"
    },
    "collapsed": true
   },
   "outputs": [],
   "source": [
    "cityMap = {}\n",
    "for name , group in df_city.groupby('TCITY15NM'):\n",
    "        cityMap[name] = list(group['LSOA11CD'])"
   ]
  },
  {
   "cell_type": "code",
   "execution_count": null,
   "metadata": {
    "ExecuteTime": {
     "start_time": "2020-11-16T14:23:36.045Z"
    },
    "collapsed": true
   },
   "outputs": [],
   "source": [
    "df_city.head()"
   ]
  },
  {
   "cell_type": "code",
   "execution_count": 22,
   "metadata": {
    "ExecuteTime": {
     "end_time": "2020-11-16T15:22:06.317352Z",
     "start_time": "2020-11-16T15:22:05.862166Z"
    },
    "collapsed": true
   },
   "outputs": [],
   "source": [
    "IMD_df = pd.read_csv('../BL_Work/File_7_ID_2015_All_ranks__deciles_and_scores_for_the_Indices_of_Deprivation__and_population_denominators.csv')"
   ]
  },
  {
   "cell_type": "code",
   "execution_count": 23,
   "metadata": {
    "ExecuteTime": {
     "end_time": "2020-11-16T15:22:39.016711Z",
     "start_time": "2020-11-16T15:22:38.973563Z"
    }
   },
   "outputs": [
    {
     "data": {
      "text/html": [
       "<div>\n",
       "<style scoped>\n",
       "    .dataframe tbody tr th:only-of-type {\n",
       "        vertical-align: middle;\n",
       "    }\n",
       "\n",
       "    .dataframe tbody tr th {\n",
       "        vertical-align: top;\n",
       "    }\n",
       "\n",
       "    .dataframe thead th {\n",
       "        text-align: right;\n",
       "    }\n",
       "</style>\n",
       "<table border=\"1\" class=\"dataframe\">\n",
       "  <thead>\n",
       "    <tr style=\"text-align: right;\">\n",
       "      <th></th>\n",
       "      <th>LSOA code (2011)</th>\n",
       "      <th>LSOA name (2011)</th>\n",
       "      <th>Local Authority District code (2013)</th>\n",
       "      <th>Local Authority District name (2013)</th>\n",
       "      <th>Index of Multiple Deprivation (IMD) Score</th>\n",
       "      <th>Index of Multiple Deprivation (IMD) Rank (where 1 is most deprived)</th>\n",
       "      <th>Index of Multiple Deprivation (IMD) Decile (where 1 is most deprived 10% of LSOAs)</th>\n",
       "      <th>Income Score (rate)</th>\n",
       "      <th>Income Rank (where 1 is most deprived)</th>\n",
       "      <th>Income Decile (where 1 is most deprived 10% of LSOAs)</th>\n",
       "      <th>...</th>\n",
       "      <th>Indoors Sub-domain Rank (where 1 is most deprived)</th>\n",
       "      <th>Indoors Sub-domain Decile (where 1 is most deprived 10% of LSOAs)</th>\n",
       "      <th>Outdoors Sub-domain Score</th>\n",
       "      <th>Outdoors Sub-domain Rank (where 1 is most deprived)</th>\n",
       "      <th>Outdoors Sub-domain Decile (where 1 is most deprived 10% of LSOAs)</th>\n",
       "      <th>Total population: mid 2012 (excluding prisoners)</th>\n",
       "      <th>Dependent Children aged 0-15: mid 2012 (excluding prisoners)</th>\n",
       "      <th>Population aged 16-59: mid 2012 (excluding prisoners)</th>\n",
       "      <th>Older population aged 60 and over: mid 2012 (excluding prisoners)</th>\n",
       "      <th>Working age population 18-59/64: for use with Employment Deprivation Domain (excluding prisoners)</th>\n",
       "    </tr>\n",
       "  </thead>\n",
       "  <tbody>\n",
       "    <tr>\n",
       "      <th>0</th>\n",
       "      <td>E01031349</td>\n",
       "      <td>Adur 001A</td>\n",
       "      <td>E07000223</td>\n",
       "      <td>Adur</td>\n",
       "      <td>12.389</td>\n",
       "      <td>21352</td>\n",
       "      <td>7</td>\n",
       "      <td>0.096</td>\n",
       "      <td>18992</td>\n",
       "      <td>6</td>\n",
       "      <td>...</td>\n",
       "      <td>20379</td>\n",
       "      <td>7</td>\n",
       "      <td>0.312</td>\n",
       "      <td>11318</td>\n",
       "      <td>4</td>\n",
       "      <td>1318</td>\n",
       "      <td>206</td>\n",
       "      <td>694</td>\n",
       "      <td>418</td>\n",
       "      <td>702.75</td>\n",
       "    </tr>\n",
       "    <tr>\n",
       "      <th>1</th>\n",
       "      <td>E01031350</td>\n",
       "      <td>Adur 001B</td>\n",
       "      <td>E07000223</td>\n",
       "      <td>Adur</td>\n",
       "      <td>28.619</td>\n",
       "      <td>8864</td>\n",
       "      <td>3</td>\n",
       "      <td>0.187</td>\n",
       "      <td>9233</td>\n",
       "      <td>3</td>\n",
       "      <td>...</td>\n",
       "      <td>16285</td>\n",
       "      <td>5</td>\n",
       "      <td>0.234</td>\n",
       "      <td>12445</td>\n",
       "      <td>4</td>\n",
       "      <td>1212</td>\n",
       "      <td>232</td>\n",
       "      <td>712</td>\n",
       "      <td>268</td>\n",
       "      <td>720.75</td>\n",
       "    </tr>\n",
       "    <tr>\n",
       "      <th>2</th>\n",
       "      <td>E01031351</td>\n",
       "      <td>Adur 001C</td>\n",
       "      <td>E07000223</td>\n",
       "      <td>Adur</td>\n",
       "      <td>11.713</td>\n",
       "      <td>22143</td>\n",
       "      <td>7</td>\n",
       "      <td>0.065</td>\n",
       "      <td>24539</td>\n",
       "      <td>8</td>\n",
       "      <td>...</td>\n",
       "      <td>25054</td>\n",
       "      <td>8</td>\n",
       "      <td>0.208</td>\n",
       "      <td>12820</td>\n",
       "      <td>4</td>\n",
       "      <td>1577</td>\n",
       "      <td>290</td>\n",
       "      <td>829</td>\n",
       "      <td>458</td>\n",
       "      <td>838.25</td>\n",
       "    </tr>\n",
       "    <tr>\n",
       "      <th>3</th>\n",
       "      <td>E01031352</td>\n",
       "      <td>Adur 001D</td>\n",
       "      <td>E07000223</td>\n",
       "      <td>Adur</td>\n",
       "      <td>16.446</td>\n",
       "      <td>17252</td>\n",
       "      <td>6</td>\n",
       "      <td>0.117</td>\n",
       "      <td>16087</td>\n",
       "      <td>5</td>\n",
       "      <td>...</td>\n",
       "      <td>24455</td>\n",
       "      <td>8</td>\n",
       "      <td>0.109</td>\n",
       "      <td>14350</td>\n",
       "      <td>5</td>\n",
       "      <td>1453</td>\n",
       "      <td>233</td>\n",
       "      <td>739</td>\n",
       "      <td>481</td>\n",
       "      <td>748.25</td>\n",
       "    </tr>\n",
       "    <tr>\n",
       "      <th>4</th>\n",
       "      <td>E01031370</td>\n",
       "      <td>Adur 001E</td>\n",
       "      <td>E07000223</td>\n",
       "      <td>Adur</td>\n",
       "      <td>18.265</td>\n",
       "      <td>15643</td>\n",
       "      <td>5</td>\n",
       "      <td>0.102</td>\n",
       "      <td>17918</td>\n",
       "      <td>6</td>\n",
       "      <td>...</td>\n",
       "      <td>20214</td>\n",
       "      <td>7</td>\n",
       "      <td>0.321</td>\n",
       "      <td>11202</td>\n",
       "      <td>4</td>\n",
       "      <td>1443</td>\n",
       "      <td>306</td>\n",
       "      <td>799</td>\n",
       "      <td>338</td>\n",
       "      <td>795.50</td>\n",
       "    </tr>\n",
       "  </tbody>\n",
       "</table>\n",
       "<p>5 rows × 57 columns</p>\n",
       "</div>"
      ],
      "text/plain": [
       "  LSOA code (2011) LSOA name (2011) Local Authority District code (2013)  \\\n",
       "0        E01031349        Adur 001A                            E07000223   \n",
       "1        E01031350        Adur 001B                            E07000223   \n",
       "2        E01031351        Adur 001C                            E07000223   \n",
       "3        E01031352        Adur 001D                            E07000223   \n",
       "4        E01031370        Adur 001E                            E07000223   \n",
       "\n",
       "  Local Authority District name (2013)  \\\n",
       "0                                 Adur   \n",
       "1                                 Adur   \n",
       "2                                 Adur   \n",
       "3                                 Adur   \n",
       "4                                 Adur   \n",
       "\n",
       "   Index of Multiple Deprivation (IMD) Score  \\\n",
       "0                                     12.389   \n",
       "1                                     28.619   \n",
       "2                                     11.713   \n",
       "3                                     16.446   \n",
       "4                                     18.265   \n",
       "\n",
       "   Index of Multiple Deprivation (IMD) Rank (where 1 is most deprived)  \\\n",
       "0                                              21352                     \n",
       "1                                               8864                     \n",
       "2                                              22143                     \n",
       "3                                              17252                     \n",
       "4                                              15643                     \n",
       "\n",
       "   Index of Multiple Deprivation (IMD) Decile (where 1 is most deprived 10% of LSOAs)  \\\n",
       "0                                                  7                                    \n",
       "1                                                  3                                    \n",
       "2                                                  7                                    \n",
       "3                                                  6                                    \n",
       "4                                                  5                                    \n",
       "\n",
       "   Income Score (rate)  Income Rank (where 1 is most deprived)  \\\n",
       "0                0.096                                   18992   \n",
       "1                0.187                                    9233   \n",
       "2                0.065                                   24539   \n",
       "3                0.117                                   16087   \n",
       "4                0.102                                   17918   \n",
       "\n",
       "   Income Decile (where 1 is most deprived 10% of LSOAs)  ...  \\\n",
       "0                                                  6      ...   \n",
       "1                                                  3      ...   \n",
       "2                                                  8      ...   \n",
       "3                                                  5      ...   \n",
       "4                                                  6      ...   \n",
       "\n",
       "   Indoors Sub-domain Rank (where 1 is most deprived)  \\\n",
       "0                                              20379    \n",
       "1                                              16285    \n",
       "2                                              25054    \n",
       "3                                              24455    \n",
       "4                                              20214    \n",
       "\n",
       "   Indoors Sub-domain Decile (where 1 is most deprived 10% of LSOAs)  \\\n",
       "0                                                  7                   \n",
       "1                                                  5                   \n",
       "2                                                  8                   \n",
       "3                                                  8                   \n",
       "4                                                  7                   \n",
       "\n",
       "   Outdoors Sub-domain Score  \\\n",
       "0                      0.312   \n",
       "1                      0.234   \n",
       "2                      0.208   \n",
       "3                      0.109   \n",
       "4                      0.321   \n",
       "\n",
       "   Outdoors Sub-domain Rank (where 1 is most deprived)  \\\n",
       "0                                              11318     \n",
       "1                                              12445     \n",
       "2                                              12820     \n",
       "3                                              14350     \n",
       "4                                              11202     \n",
       "\n",
       "   Outdoors Sub-domain Decile (where 1 is most deprived 10% of LSOAs)  \\\n",
       "0                                                  4                    \n",
       "1                                                  4                    \n",
       "2                                                  4                    \n",
       "3                                                  5                    \n",
       "4                                                  4                    \n",
       "\n",
       "   Total population: mid 2012 (excluding prisoners)  \\\n",
       "0                                              1318   \n",
       "1                                              1212   \n",
       "2                                              1577   \n",
       "3                                              1453   \n",
       "4                                              1443   \n",
       "\n",
       "   Dependent Children aged 0-15: mid 2012 (excluding prisoners)  \\\n",
       "0                                                206              \n",
       "1                                                232              \n",
       "2                                                290              \n",
       "3                                                233              \n",
       "4                                                306              \n",
       "\n",
       "   Population aged 16-59: mid 2012 (excluding prisoners)  \\\n",
       "0                                                694       \n",
       "1                                                712       \n",
       "2                                                829       \n",
       "3                                                739       \n",
       "4                                                799       \n",
       "\n",
       "   Older population aged 60 and over: mid 2012 (excluding prisoners)  \\\n",
       "0                                                418                   \n",
       "1                                                268                   \n",
       "2                                                458                   \n",
       "3                                                481                   \n",
       "4                                                338                   \n",
       "\n",
       "   Working age population 18-59/64: for use with Employment Deprivation Domain (excluding prisoners)   \n",
       "0                                             702.75                                                   \n",
       "1                                             720.75                                                   \n",
       "2                                             838.25                                                   \n",
       "3                                             748.25                                                   \n",
       "4                                             795.50                                                   \n",
       "\n",
       "[5 rows x 57 columns]"
      ]
     },
     "execution_count": 23,
     "metadata": {},
     "output_type": "execute_result"
    }
   ],
   "source": [
    "IMD_df.head()"
   ]
  },
  {
   "cell_type": "code",
   "execution_count": 24,
   "metadata": {
    "ExecuteTime": {
     "end_time": "2020-11-16T15:23:09.046566Z",
     "start_time": "2020-11-16T15:23:09.008397Z"
    },
    "collapsed": true
   },
   "outputs": [],
   "source": [
    "LSOA_survey_takers = json.load(open('scratchpad/LSOA_suvery_pop.json'))"
   ]
  },
  {
   "cell_type": "code",
   "execution_count": 25,
   "metadata": {
    "ExecuteTime": {
     "end_time": "2020-11-16T15:23:46.328312Z",
     "start_time": "2020-11-16T15:23:41.653373Z"
    },
    "collapsed": true
   },
   "outputs": [],
   "source": [
    "LSOA_pop = {}\n",
    "LSOA_IMD = {}\n",
    "for index, row in IMD_df.iterrows():\n",
    "    LSOA_pop[row['LSOA code (2011)']] = row['Total population: mid 2012 (excluding prisoners)']\n",
    "    LSOA_IMD[row['LSOA code (2011)']] = row['Index of Multiple Deprivation (IMD) Score']"
   ]
  },
  {
   "cell_type": "code",
   "execution_count": 26,
   "metadata": {
    "ExecuteTime": {
     "end_time": "2020-11-16T15:32:52.900067Z",
     "start_time": "2020-11-16T15:32:52.791420Z"
    }
   },
   "outputs": [
    {
     "name": "stdout",
     "output_type": "stream",
     "text": [
      "('could not find LSOA', 'W01001912')\n",
      "('could not find LSOA', 'W01001913')\n",
      "('could not find LSOA', 'W01001600')\n",
      "('could not find LSOA', 'W01001651')\n",
      "('could not find LSOA', 'W01001601')\n",
      "('could not find LSOA', 'W01001652')\n",
      "('could not find LSOA', 'W01001602')\n",
      "('could not find LSOA', 'W01001653')\n",
      "('could not find LSOA', 'W01001654')\n",
      "('could not find LSOA', 'W01001603')\n",
      "('could not find LSOA', 'W01001604')\n",
      "('could not find LSOA', 'W01001655')\n",
      "('could not find LSOA', 'W01001605')\n",
      "('could not find LSOA', 'W01001606')\n",
      "('could not find LSOA', 'W01001607')\n",
      "('could not find LSOA', 'W01001659')\n",
      "('could not find LSOA', 'W01001608')\n",
      "('could not find LSOA', 'W01001660')\n",
      "('could not find LSOA', 'W01001609')\n",
      "('could not find LSOA', 'W01001661')\n",
      "('could not find LSOA', 'W01001610')\n",
      "('could not find LSOA', 'W01001662')\n",
      "('could not find LSOA', 'W01001611')\n",
      "('could not find LSOA', 'W01001663')\n",
      "('could not find LSOA', 'W01001612')\n",
      "('could not find LSOA', 'W01001664')\n",
      "('could not find LSOA', 'W01001613')\n",
      "('could not find LSOA', 'W01001614')\n",
      "('could not find LSOA', 'W01001615')\n",
      "('could not find LSOA', 'W01001616')\n",
      "('could not find LSOA', 'W01001617')\n",
      "('could not find LSOA', 'W01001618')\n",
      "('could not find LSOA', 'W01001619')\n",
      "('could not find LSOA', 'W01001620')\n",
      "('could not find LSOA', 'W01001621')\n",
      "('could not find LSOA', 'W01001622')\n",
      "('could not find LSOA', 'W01001629')\n",
      "('could not find LSOA', 'W01001630')\n",
      "('could not find LSOA', 'W01001631')\n",
      "('could not find LSOA', 'W01001632')\n",
      "('could not find LSOA', 'W01001633')\n",
      "('could not find LSOA', 'W01001634')\n",
      "('could not find LSOA', 'W01001635')\n",
      "('could not find LSOA', 'W01001636')\n",
      "('could not find LSOA', 'W01001637')\n",
      "('could not find LSOA', 'W01001638')\n",
      "('could not find LSOA', 'W01001639')\n",
      "('could not find LSOA', 'W01001641')\n",
      "('could not find LSOA', 'W01001642')\n",
      "('could not find LSOA', 'W01001643')\n",
      "('could not find LSOA', 'W01001644')\n",
      "('could not find LSOA', 'W01001645')\n",
      "('could not find LSOA', 'W01001646')\n",
      "('could not find LSOA', 'W01001647')\n",
      "('could not find LSOA', 'W01001648')\n",
      "('could not find LSOA', 'W01001665')\n",
      "('could not find LSOA', 'W01001666')\n",
      "('could not find LSOA', 'W01001667')\n",
      "('could not find LSOA', 'W01001668')\n",
      "('could not find LSOA', 'W01001669')\n",
      "('could not find LSOA', 'W01001670')\n",
      "('could not find LSOA', 'W01001671')\n",
      "('could not find LSOA', 'W01001672')\n",
      "('could not find LSOA', 'W01001673')\n",
      "('could not find LSOA', 'W01001674')\n",
      "('could not find LSOA', 'W01001675')\n",
      "('could not find LSOA', 'W01001676')\n",
      "('could not find LSOA', 'W01001677')\n",
      "('could not find LSOA', 'W01001678')\n",
      "('could not find LSOA', 'W01001679')\n",
      "('could not find LSOA', 'W01001680')\n",
      "('could not find LSOA', 'W01001681')\n",
      "('could not find LSOA', 'W01001682')\n",
      "('could not find LSOA', 'W01001683')\n",
      "('could not find LSOA', 'W01001684')\n",
      "('could not find LSOA', 'W01001685')\n",
      "('could not find LSOA', 'W01001686')\n",
      "('could not find LSOA', 'W01001687')\n",
      "('could not find LSOA', 'W01001688')\n",
      "('could not find LSOA', 'W01001689')\n",
      "('could not find LSOA', 'W01001690')\n",
      "('could not find LSOA', 'W01001691')\n",
      "('could not find LSOA', 'W01001692')\n",
      "('could not find LSOA', 'W01001693')\n",
      "('could not find LSOA', 'W01000329')\n",
      "('could not find LSOA', 'W01000330')\n",
      "('could not find LSOA', 'W01000331')\n",
      "('could not find LSOA', 'W01001938')\n",
      "('could not find LSOA', 'W01001955')\n",
      "('could not find LSOA', 'W01001956')\n",
      "('could not find LSOA', 'W01001957')\n",
      "('could not find LSOA', 'W01001958')\n",
      "('could not find LSOA', 'W01000738')\n",
      "('could not find LSOA', 'W01000739')\n",
      "('could not find LSOA', 'W01000740')\n",
      "('could not find LSOA', 'W01000741')\n",
      "('could not find LSOA', 'W01000742')\n",
      "('could not find LSOA', 'W01000744')\n",
      "('could not find LSOA', 'W01000745')\n",
      "('could not find LSOA', 'W01000746')\n",
      "('could not find LSOA', 'W01000747')\n",
      "('could not find LSOA', 'W01000749')\n",
      "('could not find LSOA', 'W01000750')\n",
      "('could not find LSOA', 'W01000751')\n",
      "('could not find LSOA', 'W01000752')\n",
      "('could not find LSOA', 'W01000753')\n",
      "('could not find LSOA', 'W01000754')\n",
      "('could not find LSOA', 'W01000755')\n",
      "('could not find LSOA', 'W01000757')\n",
      "('could not find LSOA', 'W01000758')\n",
      "('could not find LSOA', 'W01000760')\n",
      "('could not find LSOA', 'W01000761')\n",
      "('could not find LSOA', 'W01000762')\n",
      "('could not find LSOA', 'W01000763')\n",
      "('could not find LSOA', 'W01000764')\n",
      "('could not find LSOA', 'W01000765')\n",
      "('could not find LSOA', 'W01000766')\n",
      "('could not find LSOA', 'W01000767')\n",
      "('could not find LSOA', 'W01000768')\n",
      "('could not find LSOA', 'W01000769')\n",
      "('could not find LSOA', 'W01000770')\n",
      "('could not find LSOA', 'W01000781')\n",
      "('could not find LSOA', 'W01000782')\n",
      "('could not find LSOA', 'W01000787')\n",
      "('could not find LSOA', 'W01000788')\n",
      "('could not find LSOA', 'W01000789')\n",
      "('could not find LSOA', 'W01000790')\n",
      "('could not find LSOA', 'W01000791')\n",
      "('could not find LSOA', 'W01000794')\n",
      "('could not find LSOA', 'W01000795')\n",
      "('could not find LSOA', 'W01000796')\n",
      "('could not find LSOA', 'W01000797')\n",
      "('could not find LSOA', 'W01000798')\n",
      "('could not find LSOA', 'W01000799')\n",
      "('could not find LSOA', 'W01000849')\n",
      "('could not find LSOA', 'W01000801')\n",
      "('could not find LSOA', 'W01000804')\n",
      "('could not find LSOA', 'W01000805')\n",
      "('could not find LSOA', 'W01000806')\n",
      "('could not find LSOA', 'W01000807')\n",
      "('could not find LSOA', 'W01000808')\n",
      "('could not find LSOA', 'W01000809')\n",
      "('could not find LSOA', 'W01000810')\n",
      "('could not find LSOA', 'W01000811')\n",
      "('could not find LSOA', 'W01000812')\n",
      "('could not find LSOA', 'W01000813')\n",
      "('could not find LSOA', 'W01000814')\n",
      "('could not find LSOA', 'W01000815')\n",
      "('could not find LSOA', 'W01000816')\n",
      "('could not find LSOA', 'W01000817')\n",
      "('could not find LSOA', 'W01000818')\n",
      "('could not find LSOA', 'W01000819')\n",
      "('could not find LSOA', 'W01000820')\n",
      "('could not find LSOA', 'W01000821')\n",
      "('could not find LSOA', 'W01000822')\n",
      "('could not find LSOA', 'W01000823')\n",
      "('could not find LSOA', 'W01000824')\n",
      "('could not find LSOA', 'W01000825')\n",
      "('could not find LSOA', 'W01000826')\n",
      "('could not find LSOA', 'W01000827')\n",
      "('could not find LSOA', 'W01000830')\n",
      "('could not find LSOA', 'W01000831')\n",
      "('could not find LSOA', 'W01000832')\n",
      "('could not find LSOA', 'W01000833')\n",
      "('could not find LSOA', 'W01000834')\n",
      "('could not find LSOA', 'W01000835')\n",
      "('could not find LSOA', 'W01000836')\n",
      "('could not find LSOA', 'W01000850')\n",
      "('could not find LSOA', 'W01000851')\n",
      "('could not find LSOA', 'W01000852')\n",
      "('could not find LSOA', 'W01000853')\n",
      "('could not find LSOA', 'W01000854')\n",
      "('could not find LSOA', 'W01000855')\n",
      "('could not find LSOA', 'W01000856')\n",
      "('could not find LSOA', 'W01000857')\n",
      "('could not find LSOA', 'W01000858')\n",
      "('could not find LSOA', 'W01000859')\n",
      "('could not find LSOA', 'W01000860')\n",
      "('could not find LSOA', 'W01000861')\n",
      "('could not find LSOA', 'W01000862')\n",
      "('could not find LSOA', 'W01000863')\n",
      "('could not find LSOA', 'W01000864')\n",
      "('could not find LSOA', 'W01000865')\n",
      "('could not find LSOA', 'W01000866')\n",
      "('could not find LSOA', 'W01000867')\n",
      "('could not find LSOA', 'W01000868')\n",
      "('could not find LSOA', 'W01000869')\n",
      "('could not find LSOA', 'W01000870')\n",
      "('could not find LSOA', 'W01000871')\n",
      "('could not find LSOA', 'W01000872')\n",
      "('could not find LSOA', 'W01000873')\n",
      "('could not find LSOA', 'W01000874')\n",
      "('could not find LSOA', 'W01000875')\n",
      "('could not find LSOA', 'W01000876')\n",
      "('could not find LSOA', 'W01000879')\n",
      "('could not find LSOA', 'W01000880')\n",
      "('could not find LSOA', 'W01000881')\n",
      "('could not find LSOA', 'W01000882')\n",
      "('could not find LSOA', 'W01001861')\n",
      "('could not find LSOA', 'W01001809')\n",
      "('could not find LSOA', 'W01001862')\n",
      "('could not find LSOA', 'W01001863')\n",
      "('could not find LSOA', 'W01001864')\n",
      "('could not find LSOA', 'W01001810')\n",
      "('could not find LSOA', 'W01001865')\n",
      "('could not find LSOA', 'W01001811')\n",
      "('could not find LSOA', 'W01001866')\n",
      "('could not find LSOA', 'W01001812')\n",
      "('could not find LSOA', 'W01001867')\n",
      "('could not find LSOA', 'W01001813')\n",
      "('could not find LSOA', 'W01001704')\n",
      "('could not find LSOA', 'W01001868')\n",
      "('could not find LSOA', 'W01001814')\n",
      "('could not find LSOA', 'W01001705')\n",
      "('could not find LSOA', 'W01001756')\n",
      "('could not find LSOA', 'W01001869')\n",
      "('could not find LSOA', 'W01001815')\n",
      "('could not find LSOA', 'W01001706')\n",
      "('could not find LSOA', 'W01001757')\n",
      "('could not find LSOA', 'W01001870')\n",
      "('could not find LSOA', 'W01001816')\n",
      "('could not find LSOA', 'W01001707')\n",
      "('could not find LSOA', 'W01001758')\n",
      "('could not find LSOA', 'W01001871')\n",
      "('could not find LSOA', 'W01001759')\n",
      "('could not find LSOA', 'W01001817')\n",
      "('could not find LSOA', 'W01001872')\n",
      "('could not find LSOA', 'W01001708')\n",
      "('could not find LSOA', 'W01001818')\n",
      "('could not find LSOA', 'W01001709')\n",
      "('could not find LSOA', 'W01001873')\n",
      "('could not find LSOA', 'W01001760')\n",
      "('could not find LSOA', 'W01001710')\n",
      "('could not find LSOA', 'W01001922')\n",
      "('could not find LSOA', 'W01001874')\n",
      "('could not find LSOA', 'W01001761')\n",
      "('could not find LSOA', 'W01001711')\n",
      "('could not find LSOA', 'W01001875')\n",
      "('could not find LSOA', 'W01001762')\n",
      "('could not find LSOA', 'W01001821')\n",
      "('could not find LSOA', 'W01001712')\n",
      "('could not find LSOA', 'W01001876')\n",
      "('could not find LSOA', 'W01001764')\n",
      "('could not find LSOA', 'W01001822')\n",
      "('could not find LSOA', 'W01001713')\n",
      "('could not find LSOA', 'W01001877')\n",
      "('could not find LSOA', 'W01001765')\n",
      "('could not find LSOA', 'W01001823')\n",
      "('could not find LSOA', 'W01001714')\n",
      "('could not find LSOA', 'W01001878')\n",
      "('could not find LSOA', 'W01001766')\n",
      "('could not find LSOA', 'W01001824')\n",
      "('could not find LSOA', 'W01001715')\n",
      "('could not find LSOA', 'W01001879')\n",
      "('could not find LSOA', 'W01001767')\n",
      "('could not find LSOA', 'W01001825')\n",
      "('could not find LSOA', 'W01001716')\n",
      "('could not find LSOA', 'W01001880')\n",
      "('could not find LSOA', 'W01001768')\n",
      "('could not find LSOA', 'W01001826')\n",
      "('could not find LSOA', 'W01001717')\n",
      "('could not find LSOA', 'W01001881')\n",
      "('could not find LSOA', 'W01001769')\n",
      "('could not find LSOA', 'W01001827')\n",
      "('could not find LSOA', 'W01001718')\n",
      "('could not find LSOA', 'W01001882')\n",
      "('could not find LSOA', 'W01001883')\n",
      "('could not find LSOA', 'W01001719')\n",
      "('could not find LSOA', 'W01001884')\n",
      "('could not find LSOA', 'W01001720')\n",
      "('could not find LSOA', 'W01001885')\n",
      "('could not find LSOA', 'W01001721')\n",
      "('could not find LSOA', 'W01001886')\n",
      "('could not find LSOA', 'W01001770')\n",
      "('could not find LSOA', 'W01001722')\n",
      "('could not find LSOA', 'W01001887')\n",
      "('could not find LSOA', 'W01001771')\n",
      "('could not find LSOA', 'W01001724')\n",
      "('could not find LSOA', 'W01001888')\n",
      "('could not find LSOA', 'W01001772')\n",
      "('could not find LSOA', 'W01001725')\n",
      "('could not find LSOA', 'W01001889')\n",
      "('could not find LSOA', 'W01001773')\n",
      "('could not find LSOA', 'W01001726')\n",
      "('could not find LSOA', 'W01001890')\n",
      "('could not find LSOA', 'W01001774')\n",
      "('could not find LSOA', 'W01001828')\n",
      "('could not find LSOA', 'W01001891')\n",
      "('could not find LSOA', 'W01001775')\n",
      "('could not find LSOA', 'W01001939')\n",
      "('could not find LSOA', 'W01001829')\n",
      "('could not find LSOA', 'W01001892')\n",
      "('could not find LSOA', 'W01001730')\n",
      "('could not find LSOA', 'W01001776')\n",
      "('could not find LSOA', 'W01001830')\n",
      "('could not find LSOA', 'W01001940')\n",
      "('could not find LSOA', 'W01001731')\n",
      "('could not find LSOA', 'W01001777')\n",
      "('could not find LSOA', 'W01001831')\n",
      "('could not find LSOA', 'W01001941')\n",
      "('could not find LSOA', 'W01001894')\n",
      "('could not find LSOA', 'W01001732')\n",
      "('could not find LSOA', 'W01001778')\n",
      "('could not find LSOA', 'W01001832')\n",
      "('could not find LSOA', 'W01001942')\n",
      "('could not find LSOA', 'W01001895')\n",
      "('could not find LSOA', 'W01001733')\n",
      "('could not find LSOA', 'W01001779')\n",
      "('could not find LSOA', 'W01001833')\n",
      "('could not find LSOA', 'W01001943')\n",
      "('could not find LSOA', 'W01001896')\n",
      "('could not find LSOA', 'W01001734')\n",
      "('could not find LSOA', 'W01001780')\n",
      "('could not find LSOA', 'W01001834')\n",
      "('could not find LSOA', 'W01001944')\n",
      "('could not find LSOA', 'W01001735')\n",
      "('could not find LSOA', 'W01001781')\n",
      "('could not find LSOA', 'W01001835')\n",
      "('could not find LSOA', 'W01001736')\n",
      "('could not find LSOA', 'W01001782')\n",
      "('could not find LSOA', 'W01001836')\n",
      "('could not find LSOA', 'W01001946')\n",
      "('could not find LSOA', 'W01001737')\n",
      "('could not find LSOA', 'W01001783')\n",
      "('could not find LSOA', 'W01001837')\n",
      "('could not find LSOA', 'W01001947')\n",
      "('could not find LSOA', 'W01001738')\n",
      "('could not find LSOA', 'W01001784')\n",
      "('could not find LSOA', 'W01001838')\n",
      "('could not find LSOA', 'W01001948')\n",
      "('could not find LSOA', 'W01001739')\n",
      "('could not find LSOA', 'W01001785')\n",
      "('could not find LSOA', 'W01001839')\n",
      "('could not find LSOA', 'W01001949')\n",
      "('could not find LSOA', 'W01001740')\n",
      "('could not find LSOA', 'W01001786')\n",
      "('could not find LSOA', 'W01001840')\n",
      "('could not find LSOA', 'W01001950')\n",
      "('could not find LSOA', 'W01001741')\n",
      "('could not find LSOA', 'W01001787')\n",
      "('could not find LSOA', 'W01001788')\n",
      "('could not find LSOA', 'W01001789')\n",
      "('could not find LSOA', 'W01001790')\n",
      "('could not find LSOA', 'W01001791')\n",
      "('could not find LSOA', 'W01001792')\n",
      "('could not find LSOA', 'W01001793')\n",
      "('could not find LSOA', 'W01001794')\n",
      "('could not find LSOA', 'W01001795')\n",
      "('could not find LSOA', 'W01001796')\n",
      "('could not find LSOA', 'W01001797')\n",
      "('could not find LSOA', 'W01001798')\n",
      "('could not find LSOA', 'W01001799')\n",
      "('could not find LSOA', 'W01001800')\n",
      "('could not find LSOA', 'W01001802')\n",
      "('could not find LSOA', 'W01001803')\n",
      "('could not find LSOA', 'W01001804')\n",
      "('could not find LSOA', 'W01001805')\n",
      "('could not find LSOA', 'W01001806')\n",
      "('could not find LSOA', 'W01001807')\n",
      "('could not find LSOA', 'W01001808')\n",
      "('could not find LSOA', 'W01001841')\n",
      "('could not find LSOA', 'W01001742')\n",
      "('could not find LSOA', 'W01001842')\n",
      "('could not find LSOA', 'W01001743')\n",
      "('could not find LSOA', 'W01001843')\n",
      "('could not find LSOA', 'W01001951')\n",
      "('could not find LSOA', 'W01001744')\n",
      "('could not find LSOA', 'W01001844')\n",
      "('could not find LSOA', 'W01001952')\n",
      "('could not find LSOA', 'W01001745')\n",
      "('could not find LSOA', 'W01001846')\n",
      "('could not find LSOA', 'W01001953')\n",
      "('could not find LSOA', 'W01001746')\n",
      "('could not find LSOA', 'W01001847')\n",
      "('could not find LSOA', 'W01001954')\n",
      "('could not find LSOA', 'W01001747')\n",
      "('could not find LSOA', 'W01001848')\n",
      "('could not find LSOA', 'W01001748')\n",
      "('could not find LSOA', 'W01001849')\n",
      "('could not find LSOA', 'W01001749')\n",
      "('could not find LSOA', 'W01001850')\n",
      "('could not find LSOA', 'W01001750')\n",
      "('could not find LSOA', 'W01001851')\n",
      "('could not find LSOA', 'W01001751')\n",
      "('could not find LSOA', 'W01001852')\n",
      "('could not find LSOA', 'W01001694')\n",
      "('could not find LSOA', 'W01001853')\n",
      "('could not find LSOA', 'W01001752')\n",
      "('could not find LSOA', 'W01001695')\n",
      "('could not find LSOA', 'W01001854')\n",
      "('could not find LSOA', 'W01001753')\n",
      "('could not find LSOA', 'W01001696')\n",
      "('could not find LSOA', 'W01001855')\n",
      "('could not find LSOA', 'W01001754')\n",
      "('could not find LSOA', 'W01001697')\n",
      "('could not find LSOA', 'W01001856')\n",
      "('could not find LSOA', 'W01001755')\n",
      "('could not find LSOA', 'W01001698')\n",
      "('could not find LSOA', 'W01001699')\n",
      "('could not find LSOA', 'W01001702')\n",
      "('could not find LSOA', 'W01001703')\n",
      "('could not find LSOA', 'W01001857')\n",
      "('could not find LSOA', 'W01001858')\n",
      "('could not find LSOA', 'W01001859')\n",
      "('could not find LSOA', 'W01001860')\n"
     ]
    }
   ],
   "source": [
    "cityPop = {}\n",
    "city_IMD = {}\n",
    "city_survey_pop = {}\n",
    "for k in cityMap:\n",
    "    pop = 0\n",
    "    surveypop = 0\n",
    "    IMD = []\n",
    "    for j in cityMap[k]:\n",
    "        try:\n",
    "            pop += LSOA_pop[j]\n",
    "            surveypop += LSOA_survey_takers[j]\n",
    "            IMD.append(LSOA_IMD[j])\n",
    "        except:\n",
    "            print(\"could not find LSOA\",j)\n",
    "    city_IMD[k] = {}\n",
    "    if pop > 0:\n",
    "        cityPop[k] = pop\n",
    "        city_survey_pop[k] = surveypop\n",
    "        city_IMD[k]['median_IMD'] = np.median(IMD)\n",
    "        city_IMD[k]['mean_IMD'] = np.mean(IMD)"
   ]
  },
  {
   "cell_type": "code",
   "execution_count": 27,
   "metadata": {
    "ExecuteTime": {
     "end_time": "2020-11-16T15:33:23.585694Z",
     "start_time": "2020-11-16T15:33:23.581100Z"
    },
    "collapsed": true
   },
   "outputs": [],
   "source": [
    "# json.dump(city_survey_pop,open('city_SurveyPop.json','wb'))\n",
    "# json.dump(LSOA_pop,open('LSOA_Pop.json','wb'))"
   ]
  },
  {
   "cell_type": "code",
   "execution_count": 28,
   "metadata": {
    "ExecuteTime": {
     "end_time": "2020-11-16T15:33:54.625400Z",
     "start_time": "2020-11-16T15:33:54.621068Z"
    },
    "collapsed": true
   },
   "outputs": [],
   "source": [
    "# json.dump(city_IMD,open('city_IMD.json','wb'))"
   ]
  },
  {
   "cell_type": "code",
   "execution_count": 29,
   "metadata": {
    "ExecuteTime": {
     "end_time": "2020-11-16T15:34:24.069213Z",
     "start_time": "2020-11-16T15:34:24.032376Z"
    }
   },
   "outputs": [
    {
     "name": "stdout",
     "output_type": "stream",
     "text": [
      "Stored 'Open_filtered_GPs' (dict)\n"
     ]
    }
   ],
   "source": [
    "%store Open_filtered_GPs"
   ]
  },
  {
   "cell_type": "code",
   "execution_count": 30,
   "metadata": {
    "ExecuteTime": {
     "end_time": "2020-11-16T15:34:56.657264Z",
     "start_time": "2020-11-16T15:34:53.510070Z"
    },
    "collapsed": true
   },
   "outputs": [],
   "source": [
    "pdp = pdp[pdp['2'].isin(Open_filtered_GPs.keys())]"
   ]
  },
  {
   "cell_type": "code",
   "execution_count": 31,
   "metadata": {
    "ExecuteTime": {
     "end_time": "2020-11-16T15:35:26.070789Z",
     "start_time": "2020-11-16T15:35:26.066651Z"
    },
    "collapsed": true
   },
   "outputs": [],
   "source": [
    "# pdp_BNF = pdp_BNF[pdp_BNF['2'].isin(Open_filtered_GPs.keys())]"
   ]
  },
  {
   "cell_type": "code",
   "execution_count": 32,
   "metadata": {
    "ExecuteTime": {
     "end_time": "2020-11-16T15:37:44.160615Z",
     "start_time": "2020-11-16T15:37:42.862960Z"
    },
    "collapsed": true
   },
   "outputs": [],
   "source": [
    "population = {}\n",
    "for index, row in ward_pop.iterrows():\n",
    "    population[row['Ward Code 1']] = float(row['All Ages'].replace(',',''))\n",
    "    "
   ]
  },
  {
   "cell_type": "code",
   "execution_count": 33,
   "metadata": {
    "ExecuteTime": {
     "end_time": "2020-11-16T15:38:15.823767Z",
     "start_time": "2020-11-16T15:38:15.795330Z"
    }
   },
   "outputs": [
    {
     "data": {
      "text/html": [
       "<div>\n",
       "<style scoped>\n",
       "    .dataframe tbody tr th:only-of-type {\n",
       "        vertical-align: middle;\n",
       "    }\n",
       "\n",
       "    .dataframe tbody tr th {\n",
       "        vertical-align: top;\n",
       "    }\n",
       "\n",
       "    .dataframe thead th {\n",
       "        text-align: right;\n",
       "    }\n",
       "</style>\n",
       "<table border=\"1\" class=\"dataframe\">\n",
       "  <thead>\n",
       "    <tr style=\"text-align: right;\">\n",
       "      <th></th>\n",
       "      <th>Ward Code 1</th>\n",
       "      <th>Ward Name 1</th>\n",
       "      <th>Local Authority</th>\n",
       "      <th>All Ages</th>\n",
       "      <th>0</th>\n",
       "      <th>1</th>\n",
       "      <th>2</th>\n",
       "      <th>3</th>\n",
       "      <th>4</th>\n",
       "      <th>5</th>\n",
       "      <th>...</th>\n",
       "      <th>81</th>\n",
       "      <th>82</th>\n",
       "      <th>83</th>\n",
       "      <th>84</th>\n",
       "      <th>85</th>\n",
       "      <th>86</th>\n",
       "      <th>87</th>\n",
       "      <th>88</th>\n",
       "      <th>89</th>\n",
       "      <th>90+</th>\n",
       "    </tr>\n",
       "  </thead>\n",
       "  <tbody>\n",
       "    <tr>\n",
       "      <th>0</th>\n",
       "      <td>E05000026</td>\n",
       "      <td>Abbey</td>\n",
       "      <td>Barking and Dagenham</td>\n",
       "      <td>15,133</td>\n",
       "      <td>351</td>\n",
       "      <td>332</td>\n",
       "      <td>361</td>\n",
       "      <td>311</td>\n",
       "      <td>328</td>\n",
       "      <td>290</td>\n",
       "      <td>...</td>\n",
       "      <td>18</td>\n",
       "      <td>15</td>\n",
       "      <td>22</td>\n",
       "      <td>14</td>\n",
       "      <td>14</td>\n",
       "      <td>19</td>\n",
       "      <td>12</td>\n",
       "      <td>6</td>\n",
       "      <td>10</td>\n",
       "      <td>14</td>\n",
       "    </tr>\n",
       "    <tr>\n",
       "      <th>1</th>\n",
       "      <td>E05000027</td>\n",
       "      <td>Alibon</td>\n",
       "      <td>Barking and Dagenham</td>\n",
       "      <td>10,853</td>\n",
       "      <td>178</td>\n",
       "      <td>185</td>\n",
       "      <td>205</td>\n",
       "      <td>205</td>\n",
       "      <td>196</td>\n",
       "      <td>222</td>\n",
       "      <td>...</td>\n",
       "      <td>31</td>\n",
       "      <td>32</td>\n",
       "      <td>23</td>\n",
       "      <td>22</td>\n",
       "      <td>34</td>\n",
       "      <td>20</td>\n",
       "      <td>14</td>\n",
       "      <td>20</td>\n",
       "      <td>17</td>\n",
       "      <td>59</td>\n",
       "    </tr>\n",
       "    <tr>\n",
       "      <th>2</th>\n",
       "      <td>E05000028</td>\n",
       "      <td>Becontree</td>\n",
       "      <td>Barking and Dagenham</td>\n",
       "      <td>14,466</td>\n",
       "      <td>303</td>\n",
       "      <td>304</td>\n",
       "      <td>285</td>\n",
       "      <td>320</td>\n",
       "      <td>294</td>\n",
       "      <td>271</td>\n",
       "      <td>...</td>\n",
       "      <td>28</td>\n",
       "      <td>25</td>\n",
       "      <td>22</td>\n",
       "      <td>29</td>\n",
       "      <td>19</td>\n",
       "      <td>22</td>\n",
       "      <td>15</td>\n",
       "      <td>19</td>\n",
       "      <td>11</td>\n",
       "      <td>65</td>\n",
       "    </tr>\n",
       "    <tr>\n",
       "      <th>3</th>\n",
       "      <td>E05000029</td>\n",
       "      <td>Chadwell Heath</td>\n",
       "      <td>Barking and Dagenham</td>\n",
       "      <td>11,140</td>\n",
       "      <td>196</td>\n",
       "      <td>176</td>\n",
       "      <td>175</td>\n",
       "      <td>177</td>\n",
       "      <td>199</td>\n",
       "      <td>168</td>\n",
       "      <td>...</td>\n",
       "      <td>60</td>\n",
       "      <td>41</td>\n",
       "      <td>44</td>\n",
       "      <td>43</td>\n",
       "      <td>33</td>\n",
       "      <td>38</td>\n",
       "      <td>35</td>\n",
       "      <td>28</td>\n",
       "      <td>22</td>\n",
       "      <td>146</td>\n",
       "    </tr>\n",
       "    <tr>\n",
       "      <th>4</th>\n",
       "      <td>E05000030</td>\n",
       "      <td>Eastbrook</td>\n",
       "      <td>Barking and Dagenham</td>\n",
       "      <td>11,464</td>\n",
       "      <td>185</td>\n",
       "      <td>156</td>\n",
       "      <td>177</td>\n",
       "      <td>172</td>\n",
       "      <td>165</td>\n",
       "      <td>156</td>\n",
       "      <td>...</td>\n",
       "      <td>54</td>\n",
       "      <td>46</td>\n",
       "      <td>51</td>\n",
       "      <td>56</td>\n",
       "      <td>42</td>\n",
       "      <td>37</td>\n",
       "      <td>28</td>\n",
       "      <td>29</td>\n",
       "      <td>30</td>\n",
       "      <td>139</td>\n",
       "    </tr>\n",
       "  </tbody>\n",
       "</table>\n",
       "<p>5 rows × 95 columns</p>\n",
       "</div>"
      ],
      "text/plain": [
       "  Ward Code 1     Ward Name 1       Local Authority All Ages    0    1    2  \\\n",
       "0   E05000026           Abbey  Barking and Dagenham   15,133  351  332  361   \n",
       "1   E05000027          Alibon  Barking and Dagenham   10,853  178  185  205   \n",
       "2   E05000028       Becontree  Barking and Dagenham   14,466  303  304  285   \n",
       "3   E05000029  Chadwell Heath  Barking and Dagenham   11,140  196  176  175   \n",
       "4   E05000030       Eastbrook  Barking and Dagenham   11,464  185  156  177   \n",
       "\n",
       "     3    4    5  ...  81  82  83  84  85  86  87  88  89  90+  \n",
       "0  311  328  290  ...  18  15  22  14  14  19  12   6  10   14  \n",
       "1  205  196  222  ...  31  32  23  22  34  20  14  20  17   59  \n",
       "2  320  294  271  ...  28  25  22  29  19  22  15  19  11   65  \n",
       "3  177  199  168  ...  60  41  44  43  33  38  35  28  22  146  \n",
       "4  172  165  156  ...  54  46  51  56  42  37  28  29  30  139  \n",
       "\n",
       "[5 rows x 95 columns]"
      ]
     },
     "execution_count": 33,
     "metadata": {},
     "output_type": "execute_result"
    }
   ],
   "source": [
    "ward_pop.head()"
   ]
  },
  {
   "cell_type": "code",
   "execution_count": 34,
   "metadata": {
    "ExecuteTime": {
     "end_time": "2020-11-16T15:38:46.453736Z",
     "start_time": "2020-11-16T15:38:45.326579Z"
    },
    "collapsed": true
   },
   "outputs": [],
   "source": [
    "population_borough = {}\n",
    "for name,group in ward_pop.groupby('Local Authority'):\n",
    "    population_borough[name] = 0.0\n",
    "    for index , row in group.iterrows():\n",
    "        population_borough[name] += float(row['All Ages'].replace(',',''))"
   ]
  },
  {
   "cell_type": "code",
   "execution_count": 35,
   "metadata": {
    "ExecuteTime": {
     "end_time": "2020-11-16T15:39:16.213682Z",
     "start_time": "2020-11-16T15:39:16.205365Z"
    }
   },
   "outputs": [
    {
     "data": {
      "text/plain": [
       "58381217.0"
      ]
     },
     "execution_count": 35,
     "metadata": {},
     "output_type": "execute_result"
    }
   ],
   "source": [
    "sum(population_borough.values())"
   ]
  },
  {
   "cell_type": "code",
   "execution_count": null,
   "metadata": {
    "collapsed": true
   },
   "outputs": [],
   "source": []
  },
  {
   "cell_type": "code",
   "execution_count": 36,
   "metadata": {
    "ExecuteTime": {
     "end_time": "2020-11-16T15:39:46.179432Z",
     "start_time": "2020-11-16T15:39:46.173052Z"
    },
    "collapsed": true
   },
   "outputs": [],
   "source": [
    "# compareKeys = set(ward_pop_prev.keys()).intersection(ward_luca_predict.keys())\n",
    "\n",
    "# pearsonr([ ward_gt[k] for k in compareKeys],[ward_pop_prev[k] for k in compareKeys])\n",
    "\n",
    "# pearsonr([ ward_gt[k] for k in compareKeys],[ward_pop_prev_BNF[k] for k in compareKeys])\n",
    "\n",
    "# pearsonr([ ward_gt[k] for k in compareKeys],[ward_luca_predict[k] for k in compareKeys])\n",
    "\n",
    "# sns.regplot([ ward_gt[k] for k in compareKeys],[ward_pop_prev_BNF[k] for k in compareKeys])\n",
    "\n",
    "# sns.regplot([ ward_gt[k] for k in compareKeys],[ward_pop_prev[k] for k in compareKeys])\n",
    "\n",
    "# sns.regplot([ ward_gt[k] for k in compareKeys],[ward_luca_predict[k] for k in compareKeys])\n",
    "\n",
    "# sns.regplot([ ward_pop_prev[k] for k in compareKeys],[ward_luca_predict[k] for k in compareKeys])\n",
    "# ax = plt.gca()\n",
    "# ax.set_title(\"Comparison between prevalences acquired by BNF and Drugbank drug lists\")\n",
    "# ax.set_xlabel(\"Drugbank prevalence\")\n",
    "# ax.set_ylabel(\"BNF prevalence\")\n",
    "\n",
    "# pearsonr([ ward_pop_prev[k] for k in compareKeys],[ward_luca_predict[k] for k in compareKeys])"
   ]
  },
  {
   "cell_type": "code",
   "execution_count": 37,
   "metadata": {
    "ExecuteTime": {
     "end_time": "2020-11-16T15:40:17.473114Z",
     "start_time": "2020-11-16T15:40:17.463981Z"
    }
   },
   "outputs": [
    {
     "data": {
      "text/plain": [
       "348"
      ]
     },
     "execution_count": 37,
     "metadata": {},
     "output_type": "execute_result"
    }
   ],
   "source": [
    "len(set(ward_pop['Local Authority']))"
   ]
  },
  {
   "cell_type": "code",
   "execution_count": 38,
   "metadata": {
    "ExecuteTime": {
     "end_time": "2020-11-16T15:40:59.904408Z",
     "start_time": "2020-11-16T15:40:50.329611Z"
    },
    "collapsed": true
   },
   "outputs": [],
   "source": [
    "GP_postcodes_long = {}\n",
    "for name , group in pdp.groupby('2'):\n",
    "    postcode = list(set(group['10']))\n",
    "    GP_postcodes_long[name] = str(postcode[0]).strip()"
   ]
  },
  {
   "cell_type": "code",
   "execution_count": 39,
   "metadata": {
    "ExecuteTime": {
     "end_time": "2020-11-16T15:41:40.430328Z",
     "start_time": "2020-11-16T15:41:33.615574Z"
    }
   },
   "outputs": [
    {
     "name": "stderr",
     "output_type": "stream",
     "text": [
      "/home/sagar/anaconda3/envs/env_py2/lib/python2.7/site-packages/IPython/core/interactiveshell.py:2714: DtypeWarning: Columns (5,8,11) have mixed types. Specify dtype option on import or set low_memory=False.\n",
      "  interactivity=interactivity, compiler=compiler, result=result)\n"
     ]
    }
   ],
   "source": [
    "ward_df = pd.read_csv('../BL_Work/pcd11_par11_wd11_lad11_ew_lu.csv')\n",
    "\n",
    "ward_df.head()\n",
    "\n",
    "ward_postcode_map = {}\n",
    "for name, group in ward_df.groupby('wd11cd'):\n",
    "    ward_postcode_map[name] = list(group['pcds'])"
   ]
  },
  {
   "cell_type": "code",
   "execution_count": 40,
   "metadata": {
    "ExecuteTime": {
     "end_time": "2020-11-16T15:42:13.016309Z",
     "start_time": "2020-11-16T15:42:13.011638Z"
    },
    "collapsed": true
   },
   "outputs": [],
   "source": [
    "# ward_postcode_map"
   ]
  },
  {
   "cell_type": "code",
   "execution_count": 41,
   "metadata": {
    "ExecuteTime": {
     "end_time": "2020-11-16T15:42:44.095082Z",
     "start_time": "2020-11-16T15:42:44.090505Z"
    },
    "collapsed": true
   },
   "outputs": [],
   "source": [
    "# ward_gt"
   ]
  },
  {
   "cell_type": "code",
   "execution_count": 42,
   "metadata": {
    "ExecuteTime": {
     "end_time": "2020-11-16T15:43:15.160415Z",
     "start_time": "2020-11-16T15:43:15.156370Z"
    },
    "collapsed": true
   },
   "outputs": [],
   "source": [
    "# ward_postcode_map"
   ]
  },
  {
   "cell_type": "code",
   "execution_count": 43,
   "metadata": {
    "ExecuteTime": {
     "end_time": "2020-11-16T15:43:48.449343Z",
     "start_time": "2020-11-16T15:43:48.429642Z"
    },
    "collapsed": true
   },
   "outputs": [],
   "source": [
    "%store -r ward_patients_filtered"
   ]
  },
  {
   "cell_type": "code",
   "execution_count": 45,
   "metadata": {
    "ExecuteTime": {
     "end_time": "2020-11-16T15:44:31.236238Z",
     "start_time": "2020-11-16T15:44:29.498300Z"
    },
    "collapsed": true
   },
   "outputs": [],
   "source": [
    "LSOA_dist = json.load(open('scratchpad/GP_LSOA_PATIENTSDIST.json','rb'))"
   ]
  },
  {
   "cell_type": "code",
   "execution_count": 46,
   "metadata": {
    "ExecuteTime": {
     "end_time": "2020-11-16T15:45:07.528766Z",
     "start_time": "2020-11-16T15:45:07.520202Z"
    }
   },
   "outputs": [
    {
     "data": {
      "text/plain": [
       "4672559"
      ]
     },
     "execution_count": 46,
     "metadata": {},
     "output_type": "execute_result"
    }
   ],
   "source": [
    "sum(ward_patients_filtered.values())"
   ]
  },
  {
   "cell_type": "code",
   "execution_count": 47,
   "metadata": {
    "ExecuteTime": {
     "end_time": "2020-11-16T15:45:48.521498Z",
     "start_time": "2020-11-16T15:45:47.461228Z"
    }
   },
   "outputs": [
    {
     "name": "stdout",
     "output_type": "stream",
     "text": [
      "['psoriasis', \"Meniere's disease\", \"crohn's disease\", 'gastroparesis', 'irritable bowel syndrome', 'parkinson', 'sleep apnea', 'interstitial cystitis', 'bipolar', 'hypothyroidism', 'dementia', 'rheumatoid', 'depression', 'diabetes']\n"
     ]
    }
   ],
   "source": [
    "disease = list(set(pdp[pd.notnull(pdp['12'])]['12']))\n",
    "print disease"
   ]
  },
  {
   "cell_type": "code",
   "execution_count": 48,
   "metadata": {
    "ExecuteTime": {
     "end_time": "2020-11-16T16:38:36.731509Z",
     "start_time": "2020-11-16T16:38:36.721255Z"
    },
    "collapsed": true
   },
   "outputs": [],
   "source": [
    "def func_ome(df,drugBNF,ome_map):\n",
    "    df['presc_ome'] = df['8'] *df['15']*ome_map[drugBNF]\n",
    "    return df\n",
    "\n",
    "def calculateOME(pdp,ome_map):\n",
    "    pdp['presc_ome'] = 0.0\n",
    "    return pdp.groupby('3',as_index=False).apply(lambda df: func_ome(df , df.name, ome_map ))"
   ]
  },
  {
   "cell_type": "code",
   "execution_count": 49,
   "metadata": {
    "ExecuteTime": {
     "end_time": "2020-11-16T17:57:10.421070Z",
     "start_time": "2020-11-16T17:57:10.414471Z"
    },
    "collapsed": true
   },
   "outputs": [],
   "source": [
    "%store -r ome_map"
   ]
  },
  {
   "cell_type": "code",
   "execution_count": 52,
   "metadata": {
    "ExecuteTime": {
     "end_time": "2020-11-16T18:06:15.680470Z",
     "start_time": "2020-11-16T18:06:14.942410Z"
    },
    "collapsed": true
   },
   "outputs": [],
   "source": [
    "pdp_ome = pdp[pdp['3'].isin(ome_map.keys())]"
   ]
  },
  {
   "cell_type": "code",
   "execution_count": 56,
   "metadata": {
    "ExecuteTime": {
     "end_time": "2020-11-16T18:10:27.885540Z",
     "start_time": "2020-11-16T18:10:23.079751Z"
    }
   },
   "outputs": [
    {
     "name": "stderr",
     "output_type": "stream",
     "text": [
      "/10TBdrive/sagarj/anaconda3/envs/env_py2/lib/python2.7/site-packages/ipykernel_launcher.py:6: SettingWithCopyWarning: \n",
      "A value is trying to be set on a copy of a slice from a DataFrame.\n",
      "Try using .loc[row_indexer,col_indexer] = value instead\n",
      "\n",
      "See the caveats in the documentation: http://pandas.pydata.org/pandas-docs/stable/indexing.html#indexing-view-versus-copy\n",
      "  \n"
     ]
    }
   ],
   "source": [
    "pdp_ome = calculateOME(pdp_ome , ome_map) "
   ]
  },
  {
   "cell_type": "code",
   "execution_count": 57,
   "metadata": {
    "ExecuteTime": {
     "end_time": "2020-11-16T18:11:05.143826Z",
     "start_time": "2020-11-16T18:11:05.136660Z"
    }
   },
   "outputs": [
    {
     "data": {
      "text/plain": [
       "265195"
      ]
     },
     "execution_count": 57,
     "metadata": {},
     "output_type": "execute_result"
    }
   ],
   "source": [
    "len(pdp_ome)"
   ]
  },
  {
   "cell_type": "code",
   "execution_count": 58,
   "metadata": {
    "ExecuteTime": {
     "end_time": "2020-11-16T18:11:43.809456Z",
     "start_time": "2020-11-16T18:11:43.765447Z"
    }
   },
   "outputs": [
    {
     "data": {
      "text/html": [
       "<div>\n",
       "<style scoped>\n",
       "    .dataframe tbody tr th:only-of-type {\n",
       "        vertical-align: middle;\n",
       "    }\n",
       "\n",
       "    .dataframe tbody tr th {\n",
       "        vertical-align: top;\n",
       "    }\n",
       "\n",
       "    .dataframe thead th {\n",
       "        text-align: right;\n",
       "    }\n",
       "</style>\n",
       "<table border=\"1\" class=\"dataframe\">\n",
       "  <thead>\n",
       "    <tr style=\"text-align: right;\">\n",
       "      <th></th>\n",
       "      <th></th>\n",
       "      <th>Unnamed: 0</th>\n",
       "      <th>0</th>\n",
       "      <th>1</th>\n",
       "      <th>2</th>\n",
       "      <th>3</th>\n",
       "      <th>4</th>\n",
       "      <th>5</th>\n",
       "      <th>6</th>\n",
       "      <th>7</th>\n",
       "      <th>8</th>\n",
       "      <th>...</th>\n",
       "      <th>16</th>\n",
       "      <th>17</th>\n",
       "      <th>18</th>\n",
       "      <th>19</th>\n",
       "      <th>20</th>\n",
       "      <th>21</th>\n",
       "      <th>22</th>\n",
       "      <th>23</th>\n",
       "      <th>24</th>\n",
       "      <th>presc_ome</th>\n",
       "    </tr>\n",
       "  </thead>\n",
       "  <tbody>\n",
       "    <tr>\n",
       "      <th rowspan=\"5\" valign=\"top\">494</th>\n",
       "      <th>168748</th>\n",
       "      <td>182864</td>\n",
       "      <td>Q44</td>\n",
       "      <td>12F</td>\n",
       "      <td>N85008</td>\n",
       "      <td>040702020BBABAB</td>\n",
       "      <td>Cyclimorph 15_Inj 1ml Amp</td>\n",
       "      <td>4.0</td>\n",
       "      <td>109.44</td>\n",
       "      <td>101.13</td>\n",
       "      <td>60.0</td>\n",
       "      <td>...</td>\n",
       "      <td>040702020</td>\n",
       "      <td>60.0</td>\n",
       "      <td>1.5</td>\n",
       "      <td>90.0</td>\n",
       "      <td>BB</td>\n",
       "      <td>1.00</td>\n",
       "      <td>1.68</td>\n",
       "      <td>40.80</td>\n",
       "      <td>0.250000</td>\n",
       "      <td>1800.0</td>\n",
       "    </tr>\n",
       "    <tr>\n",
       "      <th>1358838</th>\n",
       "      <td>1511460</td>\n",
       "      <td>Q48</td>\n",
       "      <td>01V</td>\n",
       "      <td>N84021</td>\n",
       "      <td>040702020BBAAAA</td>\n",
       "      <td>Cyclimorph 10_Inj 1ml Amp</td>\n",
       "      <td>1.0</td>\n",
       "      <td>43.85</td>\n",
       "      <td>40.51</td>\n",
       "      <td>25.0</td>\n",
       "      <td>...</td>\n",
       "      <td>040702020</td>\n",
       "      <td>25.0</td>\n",
       "      <td>1.0</td>\n",
       "      <td>25.0</td>\n",
       "      <td>BB</td>\n",
       "      <td>1.00</td>\n",
       "      <td>1.62</td>\n",
       "      <td>15.50</td>\n",
       "      <td>0.400000</td>\n",
       "      <td>500.0</td>\n",
       "    </tr>\n",
       "    <tr>\n",
       "      <th>1696351</th>\n",
       "      <td>1883688</td>\n",
       "      <td>Q49</td>\n",
       "      <td>01H</td>\n",
       "      <td>A82037</td>\n",
       "      <td>040702020BBAAAA</td>\n",
       "      <td>Cyclimorph 10_Inj 1ml Amp</td>\n",
       "      <td>2.0</td>\n",
       "      <td>31.58</td>\n",
       "      <td>29.40</td>\n",
       "      <td>18.0</td>\n",
       "      <td>...</td>\n",
       "      <td>040702020</td>\n",
       "      <td>18.0</td>\n",
       "      <td>1.0</td>\n",
       "      <td>18.0</td>\n",
       "      <td>BB</td>\n",
       "      <td>1.00</td>\n",
       "      <td>1.62</td>\n",
       "      <td>11.16</td>\n",
       "      <td>0.555556</td>\n",
       "      <td>360.0</td>\n",
       "    </tr>\n",
       "    <tr>\n",
       "      <th>2172098</th>\n",
       "      <td>2429047</td>\n",
       "      <td>Q51</td>\n",
       "      <td>02Q</td>\n",
       "      <td>C84008</td>\n",
       "      <td>040702020AAABAB</td>\n",
       "      <td>Morph/Cyclizine_Inj 15mg/50mg 1ml Amp</td>\n",
       "      <td>3.0</td>\n",
       "      <td>5.46</td>\n",
       "      <td>5.04</td>\n",
       "      <td>3.0</td>\n",
       "      <td>...</td>\n",
       "      <td>040702020</td>\n",
       "      <td>3.0</td>\n",
       "      <td>5.0</td>\n",
       "      <td>15.0</td>\n",
       "      <td>AA</td>\n",
       "      <td>1.62</td>\n",
       "      <td>1.00</td>\n",
       "      <td>0.00</td>\n",
       "      <td>16.666667</td>\n",
       "      <td>300.0</td>\n",
       "    </tr>\n",
       "    <tr>\n",
       "      <th>2212315</th>\n",
       "      <td>2473273</td>\n",
       "      <td>Q51</td>\n",
       "      <td>02X</td>\n",
       "      <td>C86022</td>\n",
       "      <td>040702020BBABAB</td>\n",
       "      <td>Cyclimorph 15_Inj 1ml Amp</td>\n",
       "      <td>2.0</td>\n",
       "      <td>27.36</td>\n",
       "      <td>25.30</td>\n",
       "      <td>15.0</td>\n",
       "      <td>...</td>\n",
       "      <td>040702020</td>\n",
       "      <td>15.0</td>\n",
       "      <td>1.5</td>\n",
       "      <td>22.5</td>\n",
       "      <td>BB</td>\n",
       "      <td>1.00</td>\n",
       "      <td>1.68</td>\n",
       "      <td>10.20</td>\n",
       "      <td>1.000000</td>\n",
       "      <td>450.0</td>\n",
       "    </tr>\n",
       "  </tbody>\n",
       "</table>\n",
       "<p>5 rows × 27 columns</p>\n",
       "</div>"
      ],
      "text/plain": [
       "             Unnamed: 0    0    1       2                3  \\\n",
       "494 168748       182864  Q44  12F  N85008  040702020BBABAB   \n",
       "    1358838     1511460  Q48  01V  N84021  040702020BBAAAA   \n",
       "    1696351     1883688  Q49  01H  A82037  040702020BBAAAA   \n",
       "    2172098     2429047  Q51  02Q  C84008  040702020AAABAB   \n",
       "    2212315     2473273  Q51  02X  C86022  040702020BBABAB   \n",
       "\n",
       "                                                    4    5       6       7  \\\n",
       "494 168748   Cyclimorph 15_Inj 1ml Amp                 4.0  109.44  101.13   \n",
       "    1358838  Cyclimorph 10_Inj 1ml Amp                 1.0   43.85   40.51   \n",
       "    1696351  Cyclimorph 10_Inj 1ml Amp                 2.0   31.58   29.40   \n",
       "    2172098  Morph/Cyclizine_Inj 15mg/50mg 1ml Amp     3.0    5.46    5.04   \n",
       "    2212315  Cyclimorph 15_Inj 1ml Amp                 2.0   27.36   25.30   \n",
       "\n",
       "                8  ...         16    17   18    19  20    21    22     23  \\\n",
       "494 168748   60.0  ...  040702020  60.0  1.5  90.0  BB  1.00  1.68  40.80   \n",
       "    1358838  25.0  ...  040702020  25.0  1.0  25.0  BB  1.00  1.62  15.50   \n",
       "    1696351  18.0  ...  040702020  18.0  1.0  18.0  BB  1.00  1.62  11.16   \n",
       "    2172098   3.0  ...  040702020   3.0  5.0  15.0  AA  1.62  1.00   0.00   \n",
       "    2212315  15.0  ...  040702020  15.0  1.5  22.5  BB  1.00  1.68  10.20   \n",
       "\n",
       "                    24  presc_ome  \n",
       "494 168748    0.250000     1800.0  \n",
       "    1358838   0.400000      500.0  \n",
       "    1696351   0.555556      360.0  \n",
       "    2172098  16.666667      300.0  \n",
       "    2212315   1.000000      450.0  \n",
       "\n",
       "[5 rows x 27 columns]"
      ]
     },
     "execution_count": 58,
     "metadata": {},
     "output_type": "execute_result"
    }
   ],
   "source": [
    "pdp_ome.head()"
   ]
  },
  {
   "cell_type": "code",
   "execution_count": 60,
   "metadata": {
    "ExecuteTime": {
     "end_time": "2020-11-16T18:13:11.491582Z",
     "start_time": "2020-11-16T18:13:06.122305Z"
    }
   },
   "outputs": [
    {
     "name": "stderr",
     "output_type": "stream",
     "text": [
      "100%|██████████| 6877/6877 [00:04<00:00, 1626.22it/s]\n"
     ]
    }
   ],
   "source": [
    "All_drug_count = {}\n",
    "for name, group in tqdm(pdp_ome.groupby('2')):\n",
    "    all_drugs = np.sum(group['presc_ome'])\n",
    "    if name in LSOA_dist:\n",
    "        for k in LSOA_dist[name]:\n",
    "            if k not in All_drug_count:\n",
    "                All_drug_count[k] = 0.0\n",
    "            All_drug_count[k]+= float(all_drugs)*float(LSOA_dist[name][k])"
   ]
  },
  {
   "cell_type": "code",
   "execution_count": null,
   "metadata": {
    "ExecuteTime": {
     "end_time": "2020-05-29T09:43:45.966001Z",
     "start_time": "2020-05-29T09:39:08.653Z"
    },
    "collapsed": true
   },
   "outputs": [],
   "source": [
    "# All_drug_count.keys()"
   ]
  },
  {
   "cell_type": "code",
   "execution_count": 61,
   "metadata": {
    "ExecuteTime": {
     "end_time": "2020-11-16T18:13:49.023341Z",
     "start_time": "2020-11-16T18:13:49.017280Z"
    }
   },
   "outputs": [
    {
     "name": "stderr",
     "output_type": "stream",
     "text": [
      "UsageError: Unknown variable 'All_drug_count_ome'\n"
     ]
    }
   ],
   "source": [
    "# %store All_drug_count"
   ]
  },
  {
   "cell_type": "code",
   "execution_count": 62,
   "metadata": {
    "ExecuteTime": {
     "end_time": "2020-11-16T18:14:03.681864Z",
     "start_time": "2020-11-16T18:14:03.672563Z"
    },
    "collapsed": true
   },
   "outputs": [],
   "source": [
    "# LSOA_disease_drug_count = {}\n",
    "# LSOA_disease_dosage_count = {}\n",
    "# for d in tqdm(disease):\n",
    "# # for d in ['dementia','rheumatoid','dementia','depression','diabetes']:\n",
    "#     if d not in LSOA_disease_drug_count:\n",
    "#         LSOA_disease_drug_count[d]={}\n",
    "#         LSOA_disease_dosage_count[d] = {}\n",
    "#     for name, group in pdp.groupby('2'):\n",
    "#         if name in LSOA_dist:\n",
    "#             disease_presc = group[group['12']==d]\n",
    "#             disease_count = np.sum(disease_presc['5'])\n",
    "#             disease_dosage_count = np.sum(disease_presc['19'])\n",
    "#             for k in LSOA_dist[name]:\n",
    "#                 if k not in LSOA_disease_drug_count[d]:\n",
    "#                     LSOA_disease_drug_count[d][k] = 0.0\n",
    "#                 if k not in LSOA_disease_dosage_count[d]:\n",
    "#                     LSOA_disease_dosage_count[d][k] = 0.0\n",
    "#                 LSOA_disease_dosage_count[d][k]+= float(disease_dosage_count)*float(LSOA_dist[name][k])\n",
    "#                 LSOA_disease_drug_count[d][k]+= float(disease_count)*float(LSOA_dist[name][k])"
   ]
  },
  {
   "cell_type": "code",
   "execution_count": 63,
   "metadata": {
    "ExecuteTime": {
     "end_time": "2020-11-16T18:14:42.638825Z",
     "start_time": "2020-11-16T18:14:42.634314Z"
    },
    "collapsed": true
   },
   "outputs": [],
   "source": [
    "# symptom = list(set(pdp[pd.notnull(pdp['13'])]['13']))\n",
    "# print symptom"
   ]
  },
  {
   "cell_type": "code",
   "execution_count": 64,
   "metadata": {
    "ExecuteTime": {
     "end_time": "2020-11-16T18:15:19.825439Z",
     "start_time": "2020-11-16T18:15:19.818813Z"
    },
    "collapsed": true
   },
   "outputs": [],
   "source": [
    "# LSOA_symptom_drug_count = {}\n",
    "# LSOA_symptom_dosage_count = {}\n",
    "# for d in tqdm(symptom):\n",
    "# # for d in ['dementia','rheumatoid','dementia','depression','diabetes']:\n",
    "#     if d not in LSOA_symptom_drug_count:\n",
    "#         LSOA_symptom_drug_count[d]={}\n",
    "#         LSOA_symptom_dosage_count[d] = {}\n",
    "#     for name, group in pdp.groupby('2'):\n",
    "#         if name in LSOA_dist:\n",
    "#             disease_presc = group[group['13']==d]\n",
    "#             disease_count = np.sum(disease_presc['5'])\n",
    "#             dosage_count = np.sum(disease_presc['19'])\n",
    "#             for k in LSOA_dist[name]:\n",
    "#                 if k not in LSOA_symptom_drug_count[d]:\n",
    "#                     LSOA_symptom_drug_count[d][k] = 0.0\n",
    "#                 if k not in LSOA_symptom_dosage_count[d]:\n",
    "#                     LSOA_symptom_dosage_count[d][k] = 0.0\n",
    "#                 LSOA_symptom_drug_count[d][k]+= float(disease_count)*float(LSOA_dist[name][k])\n",
    "#                 LSOA_symptom_dosage_count[d][k]+= float(dosage_count)*float(LSOA_dist[name][k])"
   ]
  },
  {
   "cell_type": "code",
   "execution_count": 65,
   "metadata": {
    "ExecuteTime": {
     "end_time": "2020-11-16T18:15:59.412251Z",
     "start_time": "2020-11-16T18:15:59.406083Z"
    },
    "collapsed": true,
    "deletable": false,
    "editable": false
   },
   "outputs": [],
   "source": [
    "# LSOA_disease_drug_count_BNF = {}\n",
    "# for d in tqdm(disease):\n",
    "# # for d in ['dementia']:\n",
    "#     if d not in LSOA_disease_drug_count_BNF:\n",
    "#         LSOA_disease_drug_count_BNF[d]={}\n",
    "#     for name, group in tqdm(pdp_BNF.groupby('2')):\n",
    "#         if name in LSOA_dist:\n",
    "#             disease_presc = group[group['12']==d]\n",
    "#             disease_count = np.sum(disease_presc['5'])\n",
    "#             for k in LSOA_dist[name]:\n",
    "#                 if k not in LSOA_disease_drug_count_BNF[d]:\n",
    "#                     LSOA_disease_drug_count_BNF[d][k] = 0.0\n",
    "#                 LSOA_disease_drug_count_BNF[d][k]+= float(disease_count)*float(LSOA_dist[name][k])"
   ]
  },
  {
   "cell_type": "code",
   "execution_count": 66,
   "metadata": {
    "ExecuteTime": {
     "end_time": "2020-11-16T18:16:39.612105Z",
     "start_time": "2020-11-16T18:16:39.607446Z"
    },
    "collapsed": true
   },
   "outputs": [],
   "source": [
    "# LSOA_disease_drug_count_BNF"
   ]
  },
  {
   "cell_type": "code",
   "execution_count": null,
   "metadata": {
    "ExecuteTime": {
     "end_time": "2019-08-23T10:19:54.599382Z",
     "start_time": "2019-08-23T10:19:54.592774Z"
    },
    "collapsed": true
   },
   "outputs": [],
   "source": [
    "%store -r Ward_prevalence\n",
    "%store -r Ward_patients\n",
    "%store -r DiseasePop_byWard"
   ]
  },
  {
   "cell_type": "code",
   "execution_count": null,
   "metadata": {
    "collapsed": true
   },
   "outputs": [],
   "source": [
    "len(Ward_patients['MH'])"
   ]
  },
  {
   "cell_type": "code",
   "execution_count": null,
   "metadata": {
    "ExecuteTime": {
     "end_time": "2019-08-23T10:19:55.235089Z",
     "start_time": "2019-08-23T10:19:55.231504Z"
    },
    "collapsed": true
   },
   "outputs": [],
   "source": [
    "# with open('LSOA_disease_count.json','wb') as f:\n",
    "#     json.dump(LSOA_disease_drug_count,f)"
   ]
  },
  {
   "cell_type": "code",
   "execution_count": null,
   "metadata": {
    "ExecuteTime": {
     "end_time": "2019-08-23T10:19:55.891238Z",
     "start_time": "2019-08-23T10:19:55.887865Z"
    },
    "collapsed": true
   },
   "outputs": [],
   "source": [
    "# %store LSOA_disease_drug_count"
   ]
  },
  {
   "cell_type": "code",
   "execution_count": null,
   "metadata": {
    "ExecuteTime": {
     "end_time": "2019-08-23T10:19:56.316172Z",
     "start_time": "2019-08-23T10:19:56.311664Z"
    },
    "collapsed": true
   },
   "outputs": [],
   "source": [
    "# ward_prev_LSOA= {}\n",
    "# for k in LSOA_disease_drug_count['diabetes']:\n",
    "#     if LSOA_disease_drug_count['diabetes'][k] > Ward_patients[k]:\n",
    "#         print LSOA_disease_drug_count['diabetes'][k] , Ward_patients[k]\n",
    "# #         continue\n",
    "#     ward_prev_LSOA[k] = LSOA_disease_drug_count['diabetes'][k]/Ward_patients[k]"
   ]
  },
  {
   "cell_type": "code",
   "execution_count": null,
   "metadata": {
    "ExecuteTime": {
     "end_time": "2019-08-23T10:19:57.437502Z",
     "start_time": "2019-08-23T10:19:57.344764Z"
    },
    "collapsed": true
   },
   "outputs": [],
   "source": [
    "df = pd.read_csv('../BL_Work/Lower_Layer_Super_Output_Area_2011_to_Ward_2015_Lookup_in_England_and_Wales.csv')"
   ]
  },
  {
   "cell_type": "code",
   "execution_count": null,
   "metadata": {
    "ExecuteTime": {
     "end_time": "2019-08-23T10:19:58.091871Z",
     "start_time": "2019-08-23T10:19:58.062384Z"
    },
    "collapsed": true
   },
   "outputs": [],
   "source": [
    "df.head()"
   ]
  },
  {
   "cell_type": "code",
   "execution_count": null,
   "metadata": {
    "ExecuteTime": {
     "end_time": "2019-08-23T10:20:03.279431Z",
     "start_time": "2019-08-23T10:20:03.210485Z"
    },
    "collapsed": true
   },
   "outputs": [],
   "source": [
    "boroughMap = {}\n",
    "for name , group in df.groupby('LAD15NM'):\n",
    "        boroughMap[name] = list(group['LSOA11CD'])"
   ]
  },
  {
   "cell_type": "code",
   "execution_count": null,
   "metadata": {
    "ExecuteTime": {
     "end_time": "2019-08-23T10:51:57.011392Z",
     "start_time": "2019-08-23T10:51:56.757619Z"
    },
    "collapsed": true
   },
   "outputs": [],
   "source": [
    "city_prevalence_UK = {}\n",
    "city_gt_prevalence_UK = {}\n",
    "\n",
    "for k in cityMap:\n",
    "    try:\n",
    "        city_disease_presc = np.sum([LSOA_disease_dosage_count['dementia'][w] for w in cityMap[k] if not np.isnan(LSOA_disease_dosage_count['dementia'][w])])\n",
    "#         city_patient_pop = np.sum([Ward_patients['DEM'][w] for w in cityMap[k] if not np.isnan(Ward_patients['DEM'][w])])\n",
    "        city_disease_pop = np.sum([DiseasePop_byWard['DEM'][w] for w in cityMap[k] if not np.isnan(DiseasePop_byWard['DEM'][w])])\n",
    "        city_prevalence_UK[k] = float(city_disease_presc)/float(cityPop[k])\n",
    "        city_gt_prevalence_UK[k] = float(city_disease_pop)/float(cityPop[k])\n",
    "    except:\n",
    "        print \"Some ward had wrong data\""
   ]
  },
  {
   "cell_type": "code",
   "execution_count": null,
   "metadata": {
    "ExecuteTime": {
     "end_time": "2019-08-23T10:51:57.679262Z",
     "start_time": "2019-08-23T10:51:57.673773Z"
    },
    "collapsed": true
   },
   "outputs": [],
   "source": [
    "len(city_prevalence_UK)"
   ]
  },
  {
   "cell_type": "code",
   "execution_count": null,
   "metadata": {
    "collapsed": true
   },
   "outputs": [],
   "source": [
    "city_prevalence_UK"
   ]
  },
  {
   "cell_type": "code",
   "execution_count": null,
   "metadata": {
    "ExecuteTime": {
     "end_time": "2019-08-23T10:51:58.463779Z",
     "start_time": "2019-08-23T10:51:58.241149Z"
    },
    "collapsed": true
   },
   "outputs": [],
   "source": [
    "sns.distplot(city_gt_prevalence_UK.values())"
   ]
  },
  {
   "cell_type": "code",
   "execution_count": null,
   "metadata": {
    "ExecuteTime": {
     "end_time": "2019-08-23T10:51:59.267834Z",
     "start_time": "2019-08-23T10:51:59.066448Z"
    },
    "collapsed": true
   },
   "outputs": [],
   "source": [
    "sns.distplot(city_prevalence_UK.values())"
   ]
  },
  {
   "cell_type": "code",
   "execution_count": null,
   "metadata": {
    "ExecuteTime": {
     "end_time": "2019-08-23T10:51:59.555653Z",
     "start_time": "2019-08-23T10:51:59.552551Z"
    },
    "collapsed": true
   },
   "outputs": [],
   "source": [
    "commonWards_UK_borough = set(city_prevalence_UK.keys()).intersection(city_gt_prevalence_UK.keys())"
   ]
  },
  {
   "cell_type": "code",
   "execution_count": null,
   "metadata": {
    "ExecuteTime": {
     "end_time": "2019-08-23T10:52:55.140420Z",
     "start_time": "2019-08-23T10:52:54.854095Z"
    },
    "collapsed": true
   },
   "outputs": [],
   "source": [
    "sns.regplot([ city_prevalence_UK[k] for k in commonWards_UK_borough],[city_gt_prevalence_UK[k] for k in commonWards_UK_borough])\n",
    "ax = plt.gca()\n",
    "ax.set_title(\"Comparison between prevalences acquired by BNF and Drugbank drug lists\")\n",
    "ax.set_xlabel(\"Drugbank prevalence\")\n",
    "ax.set_ylabel(\"BNF prevalence\")"
   ]
  },
  {
   "cell_type": "code",
   "execution_count": null,
   "metadata": {
    "ExecuteTime": {
     "end_time": "2019-08-23T10:52:01.188504Z",
     "start_time": "2019-08-23T10:52:01.181546Z"
    },
    "collapsed": true
   },
   "outputs": [],
   "source": [
    "pearsonr([ city_prevalence_UK[k] for k in commonWards_UK_borough],[city_gt_prevalence_UK[k] for k in commonWards_UK_borough])"
   ]
  },
  {
   "cell_type": "code",
   "execution_count": null,
   "metadata": {
    "ExecuteTime": {
     "end_time": "2019-08-22T17:00:26.376936Z",
     "start_time": "2019-08-22T17:00:26.370424Z"
    },
    "collapsed": true
   },
   "outputs": [],
   "source": [
    "LSOA_disease_drug_count.keys()"
   ]
  },
  {
   "cell_type": "code",
   "execution_count": null,
   "metadata": {
    "ExecuteTime": {
     "end_time": "2019-08-22T17:00:27.506678Z",
     "start_time": "2019-08-22T17:00:26.605149Z"
    },
    "collapsed": true
   },
   "outputs": [],
   "source": [
    "city_prevalence_UK = {}\n",
    "city_disease_prescription_count = {}\n",
    "city_all_prescription_count = {}\n",
    "for d in LSOA_disease_drug_count:\n",
    "    if d not in city_prevalence_UK:\n",
    "        city_prevalence_UK[d] = {}\n",
    "        city_disease_prescription_count[d] = {}\n",
    "\n",
    "        for k in cityMap:\n",
    "            try:\n",
    "                city_disease_presc = np.sum([LSOA_disease_drug_count[d][w] for w in cityMap[k] if not np.isnan(LSOA_disease_drug_count[d][w])])\n",
    "                if k not in city_all_prescription_count:\n",
    "                    city_all_presc = np.sum([All_drug_count[w] for w in cityMap[k] if not np.isnan(All_drug_count[w])])\n",
    "                    city_all_prescription_count[k] = city_all_presc\n",
    "                city_disease_prescription_count[d][k] = city_disease_presc\n",
    "                city_prevalence_UK[d][k] = float(city_disease_presc)/float(cityPop[k])\n",
    "            except:\n",
    "                print \"Some ward had wrong data\""
   ]
  },
  {
   "cell_type": "code",
   "execution_count": null,
   "metadata": {
    "ExecuteTime": {
     "end_time": "2019-08-22T17:00:27.512090Z",
     "start_time": "2019-08-22T17:00:27.508323Z"
    },
    "collapsed": true
   },
   "outputs": [],
   "source": [
    "city_prevalence_UK.keys()"
   ]
  },
  {
   "cell_type": "code",
   "execution_count": null,
   "metadata": {
    "ExecuteTime": {
     "end_time": "2019-08-22T17:00:27.525022Z",
     "start_time": "2019-08-22T17:00:27.513628Z"
    },
    "collapsed": true
   },
   "outputs": [],
   "source": [
    "sum(city_all_prescription_count.values())"
   ]
  },
  {
   "cell_type": "code",
   "execution_count": null,
   "metadata": {
    "ExecuteTime": {
     "end_time": "2019-08-22T17:00:27.699604Z",
     "start_time": "2019-08-22T17:00:27.696237Z"
    },
    "collapsed": true
   },
   "outputs": [],
   "source": [
    "# borough_disease_prescription_count['diabetes']"
   ]
  },
  {
   "cell_type": "code",
   "execution_count": null,
   "metadata": {
    "ExecuteTime": {
     "end_time": "2019-08-22T17:00:34.989306Z",
     "start_time": "2019-08-22T17:00:34.985873Z"
    },
    "collapsed": true
   },
   "outputs": [],
   "source": [
    "# borough_prevalence_UK['rheumatoid']"
   ]
  },
  {
   "cell_type": "code",
   "execution_count": null,
   "metadata": {
    "ExecuteTime": {
     "end_time": "2019-08-22T17:00:35.562386Z",
     "start_time": "2019-08-22T17:00:35.558055Z"
    },
    "collapsed": true
   },
   "outputs": [],
   "source": [
    "FinalDisease_prevalence = {'2016Q1':city_prevalence_UK}\n",
    "with open('Disease_Prevalence_City.json','wb') as f:\n",
    "    json.dump(FinalDisease_prevalence,f)"
   ]
  },
  {
   "cell_type": "code",
   "execution_count": null,
   "metadata": {
    "collapsed": true
   },
   "outputs": [],
   "source": [
    "city_prevalence_UK"
   ]
  },
  {
   "cell_type": "code",
   "execution_count": null,
   "metadata": {
    "ExecuteTime": {
     "end_time": "2019-08-22T17:00:36.102114Z",
     "start_time": "2019-08-22T17:00:36.058313Z"
    },
    "collapsed": true
   },
   "outputs": [],
   "source": [
    "symptomList= pd.read_csv(\"../BL_Work/Dis_sym_edited.csv\")\n",
    "symptomList.head()\n",
    "normId = {}\n",
    "for index , row in symptomList.iterrows():\n",
    "    normId[row['norm_UID'].strip().lower()] = row['UID']"
   ]
  },
  {
   "cell_type": "code",
   "execution_count": null,
   "metadata": {
    "ExecuteTime": {
     "end_time": "2019-08-22T17:00:38.852509Z",
     "start_time": "2019-08-22T17:00:37.370803Z"
    },
    "collapsed": true,
    "scrolled": true
   },
   "outputs": [],
   "source": [
    "city_prevalence_Symptom_UK = {}\n",
    "city_symptom_prescription_count = {}\n",
    "for d in LSOA_symptom_drug_count:\n",
    "    if d not in city_prevalence_Symptom_UK:\n",
    "        city_symptom_prescription_count[d] = {}\n",
    "        city_prevalence_Symptom_UK[d] = {}\n",
    "        city_prevalence_Symptom_UK[d]['Id'] = normId[d]\n",
    "        city_prevalence_Symptom_UK[d]['prev']={}\n",
    "\n",
    "        for k in cityMap:\n",
    "            try:\n",
    "                city_disease_presc = np.sum([LSOA_symptom_dosage_count[d][w] for w in cityMap[k] if not np.isnan(LSOA_symptom_drug_count[d][w])])\n",
    "                city_symptom_prescription_count[d][k] = city_disease_presc\n",
    "                city_prevalence_Symptom_UK[d]['prev'][k] = float(city_disease_presc)/float(cityPop[k])\n",
    "            except:\n",
    "                print \"Some ward had wrong data\""
   ]
  },
  {
   "cell_type": "code",
   "execution_count": null,
   "metadata": {
    "ExecuteTime": {
     "end_time": "2019-08-22T17:00:39.009709Z",
     "start_time": "2019-08-22T17:00:39.007437Z"
    },
    "collapsed": true
   },
   "outputs": [],
   "source": [
    "len(city_prevalence_Symptom_UK['anxiety']['prev'])"
   ]
  },
  {
   "cell_type": "code",
   "execution_count": null,
   "metadata": {
    "ExecuteTime": {
     "end_time": "2019-08-22T17:00:39.021151Z",
     "start_time": "2019-08-22T17:00:39.011333Z"
    },
    "collapsed": true
   },
   "outputs": [],
   "source": [
    "# FinalSymptom_prevalence = {'2016Q1':city_prevalence_Symptom_UK}\n",
    "# with open('Symptom_Prevalence_city.json','wb') as f:\n",
    "#     json.dump(FinalSymptom_prevalence,f)"
   ]
  },
  {
   "cell_type": "code",
   "execution_count": null,
   "metadata": {
    "ExecuteTime": {
     "end_time": "2019-08-22T17:00:39.105436Z",
     "start_time": "2019-08-22T17:00:39.022891Z"
    },
    "collapsed": true
   },
   "outputs": [],
   "source": [
    "# confidence_disease = json.load(open('../processed/DiseaseConfidence_V2_352.json','rb'))\n",
    "# confidence_symptom = json.load(open('../processed/SymtomConfidence_with_normID_349.json','rb'))"
   ]
  },
  {
   "cell_type": "code",
   "execution_count": null,
   "metadata": {
    "ExecuteTime": {
     "end_time": "2019-08-22T17:00:39.111421Z",
     "start_time": "2019-08-22T17:00:39.108557Z"
    },
    "collapsed": true
   },
   "outputs": [],
   "source": [
    "\n",
    "# DiseasePrevalence = FinalDisease_prevalence['2016Q1']\n",
    "# SymptomPrevalence = FinalSymptom_prevalence['2016Q1']"
   ]
  },
  {
   "cell_type": "code",
   "execution_count": null,
   "metadata": {
    "collapsed": true
   },
   "outputs": [],
   "source": [
    "DiseasePop_byWard.keys()"
   ]
  },
  {
   "cell_type": "code",
   "execution_count": null,
   "metadata": {
    "ExecuteTime": {
     "end_time": "2019-08-23T11:01:35.481632Z",
     "start_time": "2019-08-23T11:01:35.157285Z"
    },
    "collapsed": true
   },
   "outputs": [],
   "source": [
    "city_prevalence_UK = {}\n",
    "city_prevalence_dosage_UK = {}\n",
    "city_gt_prevalence_UK = {}\n",
    "city_prescription_count = {}\n",
    "disease_key = 'depression'\n",
    "survey_key = 'DEP'\n",
    "for k in tqdm(cityMap):\n",
    "    try:\n",
    "        city_disease_presc = np.sum([LSOA_disease_drug_count[disease_key][w] for w in cityMap[k] if not np.isnan(LSOA_disease_drug_count[disease_key][w])])\n",
    "        city_disease_dosage_presc = np.sum([LSOA_disease_dosage_count[disease_key][w] for w in cityMap[k] if not np.isnan(LSOA_disease_dosage_count[disease_key][w])])\n",
    "        city_patient_pop = np.sum([Ward_patients[survey_key][w] for w in cityMap[k] if not np.isnan(Ward_patients[survey_key][w])])\n",
    "        city_disease_pop = np.sum([DiseasePop_byWard[survey_key][w] for w in cityMap[k] if not np.isnan(DiseasePop_byWard[survey_key][w])])\n",
    "        \n",
    "        city_prescription_count[k] = city_disease_presc\n",
    "        city_prevalence_UK[k] = float(city_disease_presc)/float(cityPop[k])\n",
    "        city_prevalence_dosage_UK[k] = float(city_disease_dosage_presc)/float(cityPop[k])\n",
    "        city_gt_prevalence_UK[k] = float(city_disease_pop)/float(cityPop[k])\n",
    "#         city_prevalence_UK[k] = float(city_disease_presc)/city_patient_pop\n",
    "#         city_prevalence_dosage_UK[k] = float(city_disease_dosage_presc)/city_patient_pop\n",
    "#         city_gt_prevalence_UK[k] = float(city_disease_pop)/city_patient_pop\n",
    "    except:\n",
    "        print(\"Some ward had wrong data\")"
   ]
  },
  {
   "cell_type": "code",
   "execution_count": null,
   "metadata": {
    "collapsed": true
   },
   "outputs": [],
   "source": [
    "# city_prescription_count"
   ]
  },
  {
   "cell_type": "code",
   "execution_count": null,
   "metadata": {
    "collapsed": true
   },
   "outputs": [],
   "source": [
    "# json.dump(city_gt_prevalence_UK,open('dementia_survey_gt.json','wb'))"
   ]
  },
  {
   "cell_type": "code",
   "execution_count": null,
   "metadata": {
    "ExecuteTime": {
     "end_time": "2019-08-23T11:01:37.607222Z",
     "start_time": "2019-08-23T11:01:37.603275Z"
    },
    "collapsed": true
   },
   "outputs": [],
   "source": [
    "commonWards_UK_borough = set(city_prevalence_UK.keys()).intersection(city_gt_prevalence_UK.keys())"
   ]
  },
  {
   "cell_type": "code",
   "execution_count": null,
   "metadata": {
    "collapsed": true
   },
   "outputs": [],
   "source": [
    "len(commonWards_UK_borough)"
   ]
  },
  {
   "cell_type": "code",
   "execution_count": null,
   "metadata": {
    "collapsed": true
   },
   "outputs": [],
   "source": [
    "city_gt_prevalence_UK"
   ]
  },
  {
   "cell_type": "code",
   "execution_count": null,
   "metadata": {
    "collapsed": true
   },
   "outputs": [],
   "source": [
    "city_prevalence_UK"
   ]
  },
  {
   "cell_type": "code",
   "execution_count": null,
   "metadata": {
    "ExecuteTime": {
     "end_time": "2019-08-23T11:01:38.038527Z",
     "start_time": "2019-08-23T11:01:38.033012Z"
    },
    "collapsed": true
   },
   "outputs": [],
   "source": [
    "# commonWards_UK_borough = [k for k in commonWards_UK_borough if k != 'Dudley']"
   ]
  },
  {
   "cell_type": "code",
   "execution_count": null,
   "metadata": {
    "ExecuteTime": {
     "end_time": "2019-08-23T11:01:38.350960Z",
     "start_time": "2019-08-23T11:01:38.346758Z"
    },
    "collapsed": true
   },
   "outputs": [],
   "source": [
    "# sns.regplot([ DiseasePrevalence['depression'][k]/100 for k in commonWards_UK_borough],[London_gt[k] for k in commonWards_UK_borough])\n",
    "# ax = plt.gca()\n",
    "# ax.set_title(\"Comparison between prevalences acquired by BNF and Drugbank drug lists\")\n",
    "# ax.set_xlabel(\"Drugbank prevalence\")\n",
    "# ax.set_ylabel(\"BNF prevalence\")"
   ]
  },
  {
   "cell_type": "code",
   "execution_count": null,
   "metadata": {
    "ExecuteTime": {
     "end_time": "2019-08-23T11:01:38.729814Z",
     "start_time": "2019-08-23T11:01:38.726329Z"
    },
    "collapsed": true
   },
   "outputs": [],
   "source": [
    "# pearsonr([ DiseasePrevalence['depression'][k]  for k in commonWards_UK_borough],[London_gt[k] for k in commonWards_UK_borough])"
   ]
  },
  {
   "cell_type": "code",
   "execution_count": null,
   "metadata": {
    "ExecuteTime": {
     "end_time": "2019-08-23T11:01:39.070830Z",
     "start_time": "2019-08-23T11:01:39.066463Z"
    },
    "collapsed": true
   },
   "outputs": [],
   "source": [
    "# sns.regplot([ DiseasePrevalence['dementia'][k] for k in commonWards_UK_borough],[borough_gt_prevalence_UK[k] for k in commonWards_UK_borough])\n",
    "# ax = plt.gca()\n",
    "# ax.set_title(\"Comparison between prevalences acquired by BNF and Drugbank drug lists\")\n",
    "# ax.set_xlabel(\"Drugbank prevalence\")\n",
    "# ax.set_ylabel(\"BNF prevalence\")"
   ]
  },
  {
   "cell_type": "code",
   "execution_count": null,
   "metadata": {
    "ExecuteTime": {
     "end_time": "2019-08-23T11:01:39.395826Z",
     "start_time": "2019-08-23T11:01:39.389586Z"
    },
    "collapsed": true
   },
   "outputs": [],
   "source": [
    "pearsonr([ city_prevalence_UK[k] for k in commonWards_UK_borough],[city_gt_prevalence_UK[k] for k in commonWards_UK_borough])"
   ]
  },
  {
   "cell_type": "code",
   "execution_count": null,
   "metadata": {
    "ExecuteTime": {
     "end_time": "2019-08-23T11:01:40.228423Z",
     "start_time": "2019-08-23T11:01:40.222333Z"
    },
    "collapsed": true
   },
   "outputs": [],
   "source": [
    "pearsonr([ city_prevalence_dosage_UK[k] for k in commonWards_UK_borough],[city_gt_prevalence_UK[k] for k in commonWards_UK_borough])"
   ]
  },
  {
   "cell_type": "code",
   "execution_count": null,
   "metadata": {
    "ExecuteTime": {
     "end_time": "2019-08-23T11:01:42.846890Z",
     "start_time": "2019-08-23T11:01:42.805251Z"
    },
    "collapsed": true
   },
   "outputs": [],
   "source": [
    "def label_point(x, y, val, ax ):\n",
    "    a = pd.concat({'x': pd.Series(x), 'y':  pd.Series(y), 'val': pd.Series(val)}, axis=1)\n",
    "    for i, point in a.iterrows():\n",
    "        ax.text(point['x'], point['y'], str(point['val']),fontsize=12)\n",
    "\n",
    "def filterHighestResiduals(gt,predict,names , topK):\n",
    "    slope, intercept, r_value, p_value, std_err = linregress(predict,gt)\n",
    "    predicted = [(slope*k)+intercept for k in gt]\n",
    "    residuals = [abs(v1 - v2) for (v1,v2) in zip(predicted,predict)]\n",
    "    topKidx = np.argsort(residuals)[-topK:][::-1]\n",
    "    return [gt[i] for i in topKidx] , [predict[i] for i in topKidx], [names[i] for i in topKidx]\n",
    "\n",
    "predict = []\n",
    "predict_dose = []\n",
    "gt = []\n",
    "names = []\n",
    "logpop = []\n",
    "logdosage = [] \n",
    "for k in commonWards_UK_borough:\n",
    "    predict.append(city_prevalence_UK[k]*1000.0)\n",
    "    predict_dose.append(city_prevalence_dosage_UK[k]*10)#*1000.0)\n",
    "    names.append(k)\n",
    "    gt.append(city_gt_prevalence_UK[k]*1000.0)\n",
    "    logpop.append(np.log(cityPop[k]))\n",
    "    logdosage.append(np.log(city_prescription_count[k]))\n",
    "\n",
    "# predict\n",
    "\n",
    "corr1 = pearsonr(predict,gt)\n",
    "corr2 = pearsonr(predict_dose,gt)\n",
    "print corr1 , corr2"
   ]
  },
  {
   "cell_type": "code",
   "execution_count": null,
   "metadata": {
    "ExecuteTime": {
     "end_time": "2019-08-23T11:01:51.339985Z",
     "start_time": "2019-08-23T11:01:51.336322Z"
    },
    "collapsed": true
   },
   "outputs": [],
   "source": [
    "disease_string = 'Dementia'"
   ]
  },
  {
   "cell_type": "code",
   "execution_count": null,
   "metadata": {
    "ExecuteTime": {
     "end_time": "2019-08-23T11:01:52.350088Z",
     "start_time": "2019-08-23T11:01:51.928527Z"
    },
    "collapsed": true
   },
   "outputs": [],
   "source": [
    "fig, ax = plt.subplots()\n",
    "fig.set_size_inches(12, 8)\n",
    "sns.regplot(x=gt , y = predict)\n",
    "ax = plt.gca()\n",
    "# gt_ , predict_ , names_ = filterHighestResiduals(gt, predict , names, 10)\n",
    "label_point(gt , predict , names , ax)\n",
    "ax.set_title(disease_string ,fontsize=25)\n",
    "plt.xticks(fontsize = 20 )\n",
    "plt.yticks(fontsize = 20 )\n",
    "ax.set_xlabel(\"Normalized disease prevalence from NHS survey\",fontsize=25)\n",
    "ax.set_ylabel(\"Normalized prescription items\",fontsize=25)\n",
    "ax.annotate(\"r = \" +  str(corr1[0])[:4], xy=(0.1, 0.8), xycoords='axes fraction',fontsize = 20)"
   ]
  },
  {
   "cell_type": "code",
   "execution_count": null,
   "metadata": {
    "ExecuteTime": {
     "end_time": "2019-08-23T11:01:53.786857Z",
     "start_time": "2019-08-23T11:01:53.359287Z"
    },
    "collapsed": true
   },
   "outputs": [],
   "source": [
    "fig, ax = plt.subplots()\n",
    "fig.set_size_inches(12, 8)\n",
    "sns.regplot(x=gt , y = predict_dose)\n",
    "ax = plt.gca()\n",
    "# gt_ , predict_ , names_ = filterHighestResiduals(gt, predict , names, 10)\n",
    "label_point(gt , predict_dose , names , ax)\n",
    "ax.set_title(disease_string ,fontsize=25)\n",
    "plt.xticks(fontsize = 20 )\n",
    "plt.yticks(fontsize = 20 )\n",
    "ax.set_xlabel(\"Normalized disease prevalence from NHS survey\",fontsize=25)\n",
    "ax.set_ylabel(\"Normalized prescription dosage (x 100)\",fontsize=25)\n",
    "ax.annotate(\"r = \" +  str(corr2[0])[:4], xy=(0.1, 0.8), xycoords='axes fraction',fontsize = 20)"
   ]
  },
  {
   "cell_type": "code",
   "execution_count": null,
   "metadata": {
    "collapsed": true
   },
   "outputs": [],
   "source": [
    "from scipy.stats import linregress\n",
    "\n",
    "corr = pearsonr(predict, gt)\n",
    "print corr\n",
    "\n",
    "slope, intercept, r_value, p_value, std_err = linregress(x=predict,y=gt)\n",
    "\n",
    "print slope,  intercept , r_value , p_value , std_err"
   ]
  },
  {
   "cell_type": "code",
   "execution_count": null,
   "metadata": {
    "collapsed": true
   },
   "outputs": [],
   "source": [
    "from scipy.stats import linregress\n",
    "\n",
    "corr = pearsonr(logpop, logdosage)\n",
    "print corr\n",
    "\n",
    "slope, intercept, r_value, p_value, std_err = linregress(x=logpop,y=logdosage)\n",
    "\n",
    "print slope,  intercept , r_value , p_value , std_err"
   ]
  },
  {
   "cell_type": "code",
   "execution_count": null,
   "metadata": {
    "collapsed": true
   },
   "outputs": [],
   "source": [
    "r_value**2"
   ]
  },
  {
   "cell_type": "code",
   "execution_count": null,
   "metadata": {
    "collapsed": true
   },
   "outputs": [],
   "source": [
    "fig, ax = plt.subplots()\n",
    "fig.set_size_inches(12, 8)\n",
    "p = sns.regplot(x=logpop,y=logdosage,ax=ax)\n",
    "ax.set_xlabel(\"ln(Population)\",fontsize=25)\n",
    "ax.set_ylabel(\"ln(Quantity of prescription items)\",fontsize=25)\n",
    "ax.set_title(disease_string,fontsize=25)\n",
    "plt.xticks(fontsize = 20 )\n",
    "plt.yticks(fontsize = 20 )\n",
    "# label_point(logpop , logdosage , names , ax)\n",
    "ax.annotate(r\"$\\beta$\" +\": \" +  str(slope)[:4], xy=(0.1, 0.8), xycoords='axes fraction',fontsize = 20)\n",
    "ax.annotate(r\"$R^2$\" +\": \" +  str(r_value**2)[:4], xy=(0.1, 0.7), xycoords='axes fraction',fontsize = 20)"
   ]
  },
  {
   "cell_type": "code",
   "execution_count": null,
   "metadata": {
    "collapsed": true
   },
   "outputs": [],
   "source": []
  }
 ],
 "metadata": {
  "celltoolbar": "Edit Metadata",
  "kernelspec": {
   "display_name": "Python [conda env:env_py2]",
   "language": "python",
   "name": "conda-env-env_py2-py"
  },
  "language_info": {
   "codemirror_mode": {
    "name": "ipython",
    "version": 2
   },
   "file_extension": ".py",
   "mimetype": "text/x-python",
   "name": "python",
   "nbconvert_exporter": "python",
   "pygments_lexer": "ipython2",
   "version": "2.7.16"
  },
  "latex_envs": {
   "LaTeX_envs_menu_present": true,
   "autoclose": false,
   "autocomplete": true,
   "bibliofile": "biblio.bib",
   "cite_by": "apalike",
   "current_citInitial": 1,
   "eqLabelWithNumbers": true,
   "eqNumInitial": 1,
   "hotkeys": {
    "equation": "Ctrl-E",
    "itemize": "Ctrl-I"
   },
   "labels_anchors": false,
   "latex_user_defs": false,
   "report_style_numbering": false,
   "user_envs_cfg": false
  },
  "toc": {
   "base_numbering": 1,
   "nav_menu": {},
   "number_sections": true,
   "sideBar": true,
   "skip_h1_title": false,
   "title_cell": "Table of Contents",
   "title_sidebar": "Contents",
   "toc_cell": false,
   "toc_position": {},
   "toc_section_display": true,
   "toc_window_display": false
  },
  "varInspector": {
   "cols": {
    "lenName": 16,
    "lenType": 16,
    "lenVar": 40
   },
   "kernels_config": {
    "python": {
     "delete_cmd_postfix": "",
     "delete_cmd_prefix": "del ",
     "library": "var_list.py",
     "varRefreshCmd": "print(var_dic_list())"
    },
    "r": {
     "delete_cmd_postfix": ") ",
     "delete_cmd_prefix": "rm(",
     "library": "var_list.r",
     "varRefreshCmd": "cat(var_dic_list()) "
    }
   },
   "types_to_exclude": [
    "module",
    "function",
    "builtin_function_or_method",
    "instance",
    "_Feature"
   ],
   "window_display": false
  }
 },
 "nbformat": 4,
 "nbformat_minor": 2
}
