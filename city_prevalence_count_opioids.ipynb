{
 "cells": [
  {
   "cell_type": "code",
   "execution_count": 1,
   "metadata": {
    "ExecuteTime": {
     "end_time": "2020-09-15T11:50:12.822368Z",
     "start_time": "2020-09-15T11:50:08.163784Z"
    },
    "collapsed": true
   },
   "outputs": [],
   "source": [
    "import pandas as pd\n",
    "import geopandas as gp \n",
    "import json\n",
    "from glob import glob\n",
    "import numpy as np\n",
    "import matplotlib.pyplot as plt\n",
    "import seaborn as sns\n",
    "\n",
    "sns.set(rc={'figure.figsize':(12,8)})\n",
    "%matplotlib inline\n",
    "from tqdm import tqdm\n",
    "import glob\n",
    "import numpy as np\n",
    "from scipy.stats import pearsonr\n",
    "from scipy.stats import linregress"
   ]
  },
  {
   "cell_type": "code",
   "execution_count": 2,
   "metadata": {
    "ExecuteTime": {
     "end_time": "2020-09-15T11:50:12.862209Z",
     "start_time": "2020-09-15T11:50:12.841462Z"
    }
   },
   "outputs": [
    {
     "name": "stdout",
     "output_type": "stream",
     "text": [
      "['../BL_Work/openPrescribe/serialized/201810.gz', '../BL_Work/openPrescribe/serialized/201710.gz', '../BL_Work/openPrescribe/serialized/201203.gz', '../BL_Work/openPrescribe/serialized/201110.gz', '../BL_Work/openPrescribe/serialized/201804.gz', '../BL_Work/openPrescribe/serialized/201308.gz', '../BL_Work/openPrescribe/serialized/201708.gz', '../BL_Work/openPrescribe/serialized/201211.gz', '../BL_Work/openPrescribe/serialized/201707.gz', '../BL_Work/openPrescribe/serialized/201803.gz', '../BL_Work/openPrescribe/serialized/201410.gz', '../BL_Work/openPrescribe/serialized/201301.gz', '../BL_Work/openPrescribe/serialized/201201.gz', '../BL_Work/openPrescribe/serialized/201409.gz', '../BL_Work/openPrescribe/serialized/201812.gz', '../BL_Work/openPrescribe/serialized/201603.gz', '../BL_Work/openPrescribe/serialized/201109.gz', '../BL_Work/openPrescribe/serialized/201512.gz', '../BL_Work/openPrescribe/serialized/201601.gz', '../BL_Work/openPrescribe/serialized/201101.gz', '../BL_Work/openPrescribe/serialized/201402.gz', '../BL_Work/openPrescribe/serialized/201602.gz', '../BL_Work/openPrescribe/serialized/201206.gz', '../BL_Work/openPrescribe/serialized/201207.gz', '../BL_Work/openPrescribe/serialized/201210.gz', '../BL_Work/openPrescribe/serialized/201404.gz', '../BL_Work/openPrescribe/serialized/201105.gz', '../BL_Work/openPrescribe/serialized/201705.gz', '../BL_Work/openPrescribe/serialized/201509.gz', '../BL_Work/openPrescribe/serialized/201802.gz', '../BL_Work/openPrescribe/serialized/201307.gz', '../BL_Work/openPrescribe/serialized/201902.gz', '../BL_Work/openPrescribe/serialized/201204.gz', '../BL_Work/openPrescribe/serialized/201104.gz', '../BL_Work/openPrescribe/serialized/201102.gz', '../BL_Work/openPrescribe/serialized/201507.gz', '../BL_Work/openPrescribe/serialized/201502.gz', '../BL_Work/openPrescribe/serialized/201103.gz', '../BL_Work/openPrescribe/serialized/201704.gz', '../BL_Work/openPrescribe/serialized/201511.gz', '../BL_Work/openPrescribe/serialized/201406.gz', '../BL_Work/openPrescribe/serialized/201808.gz', '../BL_Work/openPrescribe/serialized/201904.gz', '../BL_Work/openPrescribe/serialized/201407.gz', '../BL_Work/openPrescribe/serialized/201805.gz', '../BL_Work/openPrescribe/serialized/201506.gz', '../BL_Work/openPrescribe/serialized/201008.gz', '../BL_Work/openPrescribe/serialized/201611.gz', '../BL_Work/openPrescribe/serialized/201604.gz', '../BL_Work/openPrescribe/serialized/201012.gz', '../BL_Work/openPrescribe/serialized/201411.gz', '../BL_Work/openPrescribe/serialized/201701.gz', '../BL_Work/openPrescribe/serialized/201501.gz', '../BL_Work/openPrescribe/serialized/201903.gz', '../BL_Work/openPrescribe/serialized/201612.gz', '../BL_Work/openPrescribe/serialized/201205.gz', '../BL_Work/openPrescribe/serialized/201608.gz', '../BL_Work/openPrescribe/serialized/201901.gz', '../BL_Work/openPrescribe/serialized/201510.gz', '../BL_Work/openPrescribe/serialized/201011.gz', '../BL_Work/openPrescribe/serialized/201811.gz', '../BL_Work/openPrescribe/serialized/201202.gz', '../BL_Work/openPrescribe/serialized/201009.gz', '../BL_Work/openPrescribe/serialized/201905.gz', '../BL_Work/openPrescribe/serialized/201405.gz', '../BL_Work/openPrescribe/serialized/201605.gz', '../BL_Work/openPrescribe/serialized/201709.gz', '../BL_Work/openPrescribe/serialized/201610.gz', '../BL_Work/openPrescribe/serialized/201503.gz', '../BL_Work/openPrescribe/serialized/201305.gz', '../BL_Work/openPrescribe/serialized/201906.gz', '../BL_Work/openPrescribe/serialized/201107.gz', '../BL_Work/openPrescribe/serialized/201208.gz', '../BL_Work/openPrescribe/serialized/201209.gz', '../BL_Work/openPrescribe/serialized/201609.gz', '../BL_Work/openPrescribe/serialized/201310.gz', '../BL_Work/openPrescribe/serialized/201401.gz', '../BL_Work/openPrescribe/serialized/201304.gz', '../BL_Work/openPrescribe/serialized/201504.gz', '../BL_Work/openPrescribe/serialized/201508.gz', '../BL_Work/openPrescribe/serialized/201403.gz', '../BL_Work/openPrescribe/serialized/201807.gz', '../BL_Work/openPrescribe/serialized/201312.gz', '../BL_Work/openPrescribe/serialized/201212.gz', '../BL_Work/openPrescribe/serialized/201408.gz', '../BL_Work/openPrescribe/serialized/201806.gz', '../BL_Work/openPrescribe/serialized/201412.gz', '../BL_Work/openPrescribe/serialized/201311.gz', '../BL_Work/openPrescribe/serialized/201702.gz', '../BL_Work/openPrescribe/serialized/201010.gz', '../BL_Work/openPrescribe/serialized/201505.gz', '../BL_Work/openPrescribe/serialized/201302.gz', '../BL_Work/openPrescribe/serialized/201112.gz', '../BL_Work/openPrescribe/serialized/201703.gz', '../BL_Work/openPrescribe/serialized/201801.gz', '../BL_Work/openPrescribe/serialized/201809.gz', '../BL_Work/openPrescribe/serialized/201607.gz', '../BL_Work/openPrescribe/serialized/201712.gz', '../BL_Work/openPrescribe/serialized/201606.gz', '../BL_Work/openPrescribe/serialized/201711.gz', '../BL_Work/openPrescribe/serialized/201111.gz', '../BL_Work/openPrescribe/serialized/201309.gz', '../BL_Work/openPrescribe/serialized/201106.gz', '../BL_Work/openPrescribe/serialized/201706.gz', '../BL_Work/openPrescribe/serialized/201306.gz', '../BL_Work/openPrescribe/serialized/201303.gz', '../BL_Work/openPrescribe/serialized/201108.gz']\n"
     ]
    }
   ],
   "source": [
    "files = glob.glob('../BL_Work/openPrescribe/serialized/*.gz')\n",
    "print files"
   ]
  },
  {
   "cell_type": "code",
   "execution_count": 3,
   "metadata": {
    "ExecuteTime": {
     "end_time": "2020-09-15T11:52:57.605327Z",
     "start_time": "2020-09-15T11:50:16.110519Z"
    },
    "collapsed": true
   },
   "outputs": [],
   "source": [
    "pdp = pd.read_csv('../BL_Work/openPrescribe/serialized/201601.gz',compression='gzip')\n",
    "pdp.dropna()\n",
    "for month in [ '201602' , '201603']:\n",
    "    file_path  = '../BL_Work/openPrescribe/serialized/' + month + '.gz'\n",
    "    pdp2 = pd.read_csv(file_path,compression='gzip')\n",
    "    pdp2.dropna()\n",
    "    pdp.append(pdp2)\n",
    "    "
   ]
  },
  {
   "cell_type": "code",
   "execution_count": 4,
   "metadata": {
    "ExecuteTime": {
     "end_time": "2020-09-15T11:53:15.787859Z",
     "start_time": "2020-09-15T11:53:15.782833Z"
    },
    "collapsed": true
   },
   "outputs": [],
   "source": [
    "# pdp_BNF = pd.read_csv('../BL_Work/openPrescribe/serialized_BNF/201601.gz',compression='gzip')\n",
    "# pdp_BNF.dropna()\n",
    "# for month in [ '201602' , '201603']:\n",
    "#     file_path  = '../BL_Work/openPrescribe/serialized_BNF/' + month + '.gz'\n",
    "#     pdp2 = pd.read_csv(file_path,compression='gzip')\n",
    "#     pdp2.dropna()\n",
    "#     pdp_BNF.append(pdp2)"
   ]
  },
  {
   "cell_type": "code",
   "execution_count": 5,
   "metadata": {
    "ExecuteTime": {
     "end_time": "2020-09-15T11:53:32.929515Z",
     "start_time": "2020-09-15T11:53:32.845543Z"
    }
   },
   "outputs": [
    {
     "data": {
      "text/html": [
       "<div>\n",
       "<style scoped>\n",
       "    .dataframe tbody tr th:only-of-type {\n",
       "        vertical-align: middle;\n",
       "    }\n",
       "\n",
       "    .dataframe tbody tr th {\n",
       "        vertical-align: top;\n",
       "    }\n",
       "\n",
       "    .dataframe thead th {\n",
       "        text-align: right;\n",
       "    }\n",
       "</style>\n",
       "<table border=\"1\" class=\"dataframe\">\n",
       "  <thead>\n",
       "    <tr style=\"text-align: right;\">\n",
       "      <th></th>\n",
       "      <th>Unnamed: 0</th>\n",
       "      <th>0</th>\n",
       "      <th>1</th>\n",
       "      <th>2</th>\n",
       "      <th>3</th>\n",
       "      <th>4</th>\n",
       "      <th>5</th>\n",
       "      <th>6</th>\n",
       "      <th>7</th>\n",
       "      <th>8</th>\n",
       "      <th>...</th>\n",
       "      <th>11</th>\n",
       "      <th>12</th>\n",
       "      <th>13</th>\n",
       "      <th>14</th>\n",
       "      <th>15</th>\n",
       "      <th>16</th>\n",
       "      <th>17</th>\n",
       "      <th>18</th>\n",
       "      <th>19</th>\n",
       "      <th>20</th>\n",
       "    </tr>\n",
       "  </thead>\n",
       "  <tbody>\n",
       "    <tr>\n",
       "      <th>0</th>\n",
       "      <td>1962</td>\n",
       "      <td>Q44</td>\n",
       "      <td>01C</td>\n",
       "      <td>N81002</td>\n",
       "      <td>0101010G0BBABAB</td>\n",
       "      <td>Maalox_Susp 195mg/220mg/5ml S/F</td>\n",
       "      <td>1.0</td>\n",
       "      <td>3.35</td>\n",
       "      <td>3.11</td>\n",
       "      <td>500.0</td>\n",
       "      <td>...</td>\n",
       "      <td>NaN</td>\n",
       "      <td>NaN</td>\n",
       "      <td>NaN</td>\n",
       "      <td>NaN</td>\n",
       "      <td>220.0</td>\n",
       "      <td>0101010G0</td>\n",
       "      <td>500.0</td>\n",
       "      <td>1.0</td>\n",
       "      <td>500.0</td>\n",
       "      <td>BB</td>\n",
       "    </tr>\n",
       "    <tr>\n",
       "      <th>1</th>\n",
       "      <td>1963</td>\n",
       "      <td>Q44</td>\n",
       "      <td>01C</td>\n",
       "      <td>N81002</td>\n",
       "      <td>0101010G0BCABAB</td>\n",
       "      <td>Mucogel_Susp 195mg/220mg/5ml S/F</td>\n",
       "      <td>1.0</td>\n",
       "      <td>2.99</td>\n",
       "      <td>2.77</td>\n",
       "      <td>500.0</td>\n",
       "      <td>...</td>\n",
       "      <td>NaN</td>\n",
       "      <td>NaN</td>\n",
       "      <td>NaN</td>\n",
       "      <td>NaN</td>\n",
       "      <td>220.0</td>\n",
       "      <td>0101010G0</td>\n",
       "      <td>500.0</td>\n",
       "      <td>1.0</td>\n",
       "      <td>500.0</td>\n",
       "      <td>BC</td>\n",
       "    </tr>\n",
       "    <tr>\n",
       "      <th>2</th>\n",
       "      <td>1964</td>\n",
       "      <td>Q44</td>\n",
       "      <td>01C</td>\n",
       "      <td>N81002</td>\n",
       "      <td>0101021B0AAALAL</td>\n",
       "      <td>Sod Algin/Pot Bicarb_Susp S/F</td>\n",
       "      <td>4.0</td>\n",
       "      <td>30.72</td>\n",
       "      <td>28.42</td>\n",
       "      <td>3000.0</td>\n",
       "      <td>...</td>\n",
       "      <td>NaN</td>\n",
       "      <td>NaN</td>\n",
       "      <td>NaN</td>\n",
       "      <td>NaN</td>\n",
       "      <td>0.0</td>\n",
       "      <td>0101021B0</td>\n",
       "      <td>3000.0</td>\n",
       "      <td>1.0</td>\n",
       "      <td>3000.0</td>\n",
       "      <td>AA</td>\n",
       "    </tr>\n",
       "    <tr>\n",
       "      <th>3</th>\n",
       "      <td>1965</td>\n",
       "      <td>Q44</td>\n",
       "      <td>01C</td>\n",
       "      <td>N81002</td>\n",
       "      <td>0101021B0AAAPAP</td>\n",
       "      <td>Sod Alginate/Pot Bicarb_Tab Chble 500mg</td>\n",
       "      <td>2.0</td>\n",
       "      <td>9.21</td>\n",
       "      <td>8.53</td>\n",
       "      <td>180.0</td>\n",
       "      <td>...</td>\n",
       "      <td>NaN</td>\n",
       "      <td>NaN</td>\n",
       "      <td>NaN</td>\n",
       "      <td>NaN</td>\n",
       "      <td>500.0</td>\n",
       "      <td>0101021B0</td>\n",
       "      <td>180.0</td>\n",
       "      <td>1.0</td>\n",
       "      <td>180.0</td>\n",
       "      <td>AA</td>\n",
       "    </tr>\n",
       "    <tr>\n",
       "      <th>4</th>\n",
       "      <td>1966</td>\n",
       "      <td>Q44</td>\n",
       "      <td>01C</td>\n",
       "      <td>N81002</td>\n",
       "      <td>0101021B0BEACAH</td>\n",
       "      <td>Gaviscon_Liq Orig Aniseed Relief</td>\n",
       "      <td>2.0</td>\n",
       "      <td>20.10</td>\n",
       "      <td>18.59</td>\n",
       "      <td>1500.0</td>\n",
       "      <td>...</td>\n",
       "      <td>NaN</td>\n",
       "      <td>NaN</td>\n",
       "      <td>NaN</td>\n",
       "      <td>NaN</td>\n",
       "      <td>0.0</td>\n",
       "      <td>0101021B0</td>\n",
       "      <td>1500.0</td>\n",
       "      <td>1.0</td>\n",
       "      <td>1500.0</td>\n",
       "      <td>BE</td>\n",
       "    </tr>\n",
       "  </tbody>\n",
       "</table>\n",
       "<p>5 rows × 22 columns</p>\n",
       "</div>"
      ],
      "text/plain": [
       "   Unnamed: 0    0    1       2                3  \\\n",
       "0        1962  Q44  01C  N81002  0101010G0BBABAB   \n",
       "1        1963  Q44  01C  N81002  0101010G0BCABAB   \n",
       "2        1964  Q44  01C  N81002  0101021B0AAALAL   \n",
       "3        1965  Q44  01C  N81002  0101021B0AAAPAP   \n",
       "4        1966  Q44  01C  N81002  0101021B0BEACAH   \n",
       "\n",
       "                                          4    5      6      7       8  ...  \\\n",
       "0  Maalox_Susp 195mg/220mg/5ml S/F           1.0   3.35   3.11   500.0  ...   \n",
       "1  Mucogel_Susp 195mg/220mg/5ml S/F          1.0   2.99   2.77   500.0  ...   \n",
       "2  Sod Algin/Pot Bicarb_Susp S/F             4.0  30.72  28.42  3000.0  ...   \n",
       "3  Sod Alginate/Pot Bicarb_Tab Chble 500mg   2.0   9.21   8.53   180.0  ...   \n",
       "4  Gaviscon_Liq Orig Aniseed Relief          2.0  20.10  18.59  1500.0  ...   \n",
       "\n",
       "    11   12   13   14     15         16      17   18      19  20  \n",
       "0  NaN  NaN  NaN  NaN  220.0  0101010G0   500.0  1.0   500.0  BB  \n",
       "1  NaN  NaN  NaN  NaN  220.0  0101010G0   500.0  1.0   500.0  BC  \n",
       "2  NaN  NaN  NaN  NaN    0.0  0101021B0  3000.0  1.0  3000.0  AA  \n",
       "3  NaN  NaN  NaN  NaN  500.0  0101021B0   180.0  1.0   180.0  AA  \n",
       "4  NaN  NaN  NaN  NaN    0.0  0101021B0  1500.0  1.0  1500.0  BE  \n",
       "\n",
       "[5 rows x 22 columns]"
      ]
     },
     "execution_count": 5,
     "metadata": {},
     "output_type": "execute_result"
    }
   ],
   "source": [
    "pdp.head()"
   ]
  },
  {
   "cell_type": "code",
   "execution_count": 6,
   "metadata": {
    "ExecuteTime": {
     "end_time": "2020-05-29T09:42:31.332521Z",
     "start_time": "2020-05-29T09:42:31.328259Z"
    },
    "collapsed": true
   },
   "outputs": [],
   "source": [
    "# pdp = pd.read_csv('../BL_Work/openPrescribe/serialized/201601.gz',compression='gzip')\n",
    "# pdp.dropna()\n"
   ]
  },
  {
   "cell_type": "code",
   "execution_count": 6,
   "metadata": {
    "ExecuteTime": {
     "end_time": "2020-09-15T12:08:06.914246Z",
     "start_time": "2020-09-15T12:08:06.134629Z"
    }
   },
   "outputs": [
    {
     "data": {
      "text/plain": [
       "{nan,\n",
       " \"Meniere's disease\",\n",
       " 'bipolar',\n",
       " \"crohn's disease\",\n",
       " 'dementia',\n",
       " 'depression',\n",
       " 'diabetes',\n",
       " 'gastroparesis',\n",
       " 'hypothyroidism',\n",
       " 'interstitial cystitis',\n",
       " 'irritable bowel syndrome',\n",
       " 'parkinson',\n",
       " 'psoriasis',\n",
       " 'rheumatoid',\n",
       " 'sleep apnea'}"
      ]
     },
     "execution_count": 6,
     "metadata": {},
     "output_type": "execute_result"
    }
   ],
   "source": [
    "set(pdp['12'])"
   ]
  },
  {
   "cell_type": "code",
   "execution_count": 7,
   "metadata": {
    "ExecuteTime": {
     "end_time": "2020-09-15T12:08:23.546634Z",
     "start_time": "2020-09-15T12:08:23.507581Z"
    },
    "collapsed": true
   },
   "outputs": [],
   "source": [
    "%store -r taxonomyDict"
   ]
  },
  {
   "cell_type": "code",
   "execution_count": 8,
   "metadata": {
    "ExecuteTime": {
     "end_time": "2020-09-15T12:08:41.159687Z",
     "start_time": "2020-09-15T12:08:41.131572Z"
    },
    "collapsed": true
   },
   "outputs": [],
   "source": [
    "%store -r cityMap"
   ]
  },
  {
   "cell_type": "code",
   "execution_count": 9,
   "metadata": {
    "ExecuteTime": {
     "end_time": "2020-09-15T12:08:58.182555Z",
     "start_time": "2020-09-15T12:08:58.131624Z"
    },
    "collapsed": true
   },
   "outputs": [],
   "source": [
    "disease_drugs = json.load(open(\"scratchpad/Disease_Drug_DrugBank.json\",'rb'))"
   ]
  },
  {
   "cell_type": "code",
   "execution_count": 10,
   "metadata": {
    "ExecuteTime": {
     "end_time": "2020-09-15T12:11:42.266354Z",
     "start_time": "2020-09-15T12:11:42.260400Z"
    },
    "collapsed": true
   },
   "outputs": [],
   "source": [
    "# pdp.head(n=1000)"
   ]
  },
  {
   "cell_type": "code",
   "execution_count": 11,
   "metadata": {
    "ExecuteTime": {
     "end_time": "2020-09-15T12:11:59.588256Z",
     "start_time": "2020-09-15T12:11:59.322146Z"
    }
   },
   "outputs": [
    {
     "name": "stderr",
     "output_type": "stream",
     "text": [
      "/home/sagar/anaconda3/envs/env_py2/lib/python2.7/site-packages/IPython/core/interactiveshell.py:2714: DtypeWarning: Columns (23,24,25,26,27,28,29,30,31,32,33,34,35) have mixed types. Specify dtype option on import or set low_memory=False.\n",
      "  interactivity=interactivity, compiler=compiler, result=result)\n"
     ]
    }
   ],
   "source": [
    "ward_pop = pd.read_csv('scratchpad/ward_pop.csv')"
   ]
  },
  {
   "cell_type": "code",
   "execution_count": 12,
   "metadata": {
    "ExecuteTime": {
     "end_time": "2020-09-15T12:12:15.597275Z",
     "start_time": "2020-09-15T12:12:15.567442Z"
    }
   },
   "outputs": [
    {
     "data": {
      "text/html": [
       "<div>\n",
       "<style scoped>\n",
       "    .dataframe tbody tr th:only-of-type {\n",
       "        vertical-align: middle;\n",
       "    }\n",
       "\n",
       "    .dataframe tbody tr th {\n",
       "        vertical-align: top;\n",
       "    }\n",
       "\n",
       "    .dataframe thead th {\n",
       "        text-align: right;\n",
       "    }\n",
       "</style>\n",
       "<table border=\"1\" class=\"dataframe\">\n",
       "  <thead>\n",
       "    <tr style=\"text-align: right;\">\n",
       "      <th></th>\n",
       "      <th>Ward Code 1</th>\n",
       "      <th>Ward Name 1</th>\n",
       "      <th>Local Authority</th>\n",
       "      <th>All Ages</th>\n",
       "      <th>0</th>\n",
       "      <th>1</th>\n",
       "      <th>2</th>\n",
       "      <th>3</th>\n",
       "      <th>4</th>\n",
       "      <th>5</th>\n",
       "      <th>...</th>\n",
       "      <th>81</th>\n",
       "      <th>82</th>\n",
       "      <th>83</th>\n",
       "      <th>84</th>\n",
       "      <th>85</th>\n",
       "      <th>86</th>\n",
       "      <th>87</th>\n",
       "      <th>88</th>\n",
       "      <th>89</th>\n",
       "      <th>90+</th>\n",
       "    </tr>\n",
       "  </thead>\n",
       "  <tbody>\n",
       "    <tr>\n",
       "      <th>0</th>\n",
       "      <td>E05000026</td>\n",
       "      <td>Abbey</td>\n",
       "      <td>Barking and Dagenham</td>\n",
       "      <td>15,133</td>\n",
       "      <td>351</td>\n",
       "      <td>332</td>\n",
       "      <td>361</td>\n",
       "      <td>311</td>\n",
       "      <td>328</td>\n",
       "      <td>290</td>\n",
       "      <td>...</td>\n",
       "      <td>18</td>\n",
       "      <td>15</td>\n",
       "      <td>22</td>\n",
       "      <td>14</td>\n",
       "      <td>14</td>\n",
       "      <td>19</td>\n",
       "      <td>12</td>\n",
       "      <td>6</td>\n",
       "      <td>10</td>\n",
       "      <td>14</td>\n",
       "    </tr>\n",
       "    <tr>\n",
       "      <th>1</th>\n",
       "      <td>E05000027</td>\n",
       "      <td>Alibon</td>\n",
       "      <td>Barking and Dagenham</td>\n",
       "      <td>10,853</td>\n",
       "      <td>178</td>\n",
       "      <td>185</td>\n",
       "      <td>205</td>\n",
       "      <td>205</td>\n",
       "      <td>196</td>\n",
       "      <td>222</td>\n",
       "      <td>...</td>\n",
       "      <td>31</td>\n",
       "      <td>32</td>\n",
       "      <td>23</td>\n",
       "      <td>22</td>\n",
       "      <td>34</td>\n",
       "      <td>20</td>\n",
       "      <td>14</td>\n",
       "      <td>20</td>\n",
       "      <td>17</td>\n",
       "      <td>59</td>\n",
       "    </tr>\n",
       "    <tr>\n",
       "      <th>2</th>\n",
       "      <td>E05000028</td>\n",
       "      <td>Becontree</td>\n",
       "      <td>Barking and Dagenham</td>\n",
       "      <td>14,466</td>\n",
       "      <td>303</td>\n",
       "      <td>304</td>\n",
       "      <td>285</td>\n",
       "      <td>320</td>\n",
       "      <td>294</td>\n",
       "      <td>271</td>\n",
       "      <td>...</td>\n",
       "      <td>28</td>\n",
       "      <td>25</td>\n",
       "      <td>22</td>\n",
       "      <td>29</td>\n",
       "      <td>19</td>\n",
       "      <td>22</td>\n",
       "      <td>15</td>\n",
       "      <td>19</td>\n",
       "      <td>11</td>\n",
       "      <td>65</td>\n",
       "    </tr>\n",
       "    <tr>\n",
       "      <th>3</th>\n",
       "      <td>E05000029</td>\n",
       "      <td>Chadwell Heath</td>\n",
       "      <td>Barking and Dagenham</td>\n",
       "      <td>11,140</td>\n",
       "      <td>196</td>\n",
       "      <td>176</td>\n",
       "      <td>175</td>\n",
       "      <td>177</td>\n",
       "      <td>199</td>\n",
       "      <td>168</td>\n",
       "      <td>...</td>\n",
       "      <td>60</td>\n",
       "      <td>41</td>\n",
       "      <td>44</td>\n",
       "      <td>43</td>\n",
       "      <td>33</td>\n",
       "      <td>38</td>\n",
       "      <td>35</td>\n",
       "      <td>28</td>\n",
       "      <td>22</td>\n",
       "      <td>146</td>\n",
       "    </tr>\n",
       "    <tr>\n",
       "      <th>4</th>\n",
       "      <td>E05000030</td>\n",
       "      <td>Eastbrook</td>\n",
       "      <td>Barking and Dagenham</td>\n",
       "      <td>11,464</td>\n",
       "      <td>185</td>\n",
       "      <td>156</td>\n",
       "      <td>177</td>\n",
       "      <td>172</td>\n",
       "      <td>165</td>\n",
       "      <td>156</td>\n",
       "      <td>...</td>\n",
       "      <td>54</td>\n",
       "      <td>46</td>\n",
       "      <td>51</td>\n",
       "      <td>56</td>\n",
       "      <td>42</td>\n",
       "      <td>37</td>\n",
       "      <td>28</td>\n",
       "      <td>29</td>\n",
       "      <td>30</td>\n",
       "      <td>139</td>\n",
       "    </tr>\n",
       "  </tbody>\n",
       "</table>\n",
       "<p>5 rows × 95 columns</p>\n",
       "</div>"
      ],
      "text/plain": [
       "  Ward Code 1     Ward Name 1       Local Authority All Ages    0    1    2  \\\n",
       "0   E05000026           Abbey  Barking and Dagenham   15,133  351  332  361   \n",
       "1   E05000027          Alibon  Barking and Dagenham   10,853  178  185  205   \n",
       "2   E05000028       Becontree  Barking and Dagenham   14,466  303  304  285   \n",
       "3   E05000029  Chadwell Heath  Barking and Dagenham   11,140  196  176  175   \n",
       "4   E05000030       Eastbrook  Barking and Dagenham   11,464  185  156  177   \n",
       "\n",
       "     3    4    5  ...  81  82  83  84  85  86  87  88  89  90+  \n",
       "0  311  328  290  ...  18  15  22  14  14  19  12   6  10   14  \n",
       "1  205  196  222  ...  31  32  23  22  34  20  14  20  17   59  \n",
       "2  320  294  271  ...  28  25  22  29  19  22  15  19  11   65  \n",
       "3  177  199  168  ...  60  41  44  43  33  38  35  28  22  146  \n",
       "4  172  165  156  ...  54  46  51  56  42  37  28  29  30  139  \n",
       "\n",
       "[5 rows x 95 columns]"
      ]
     },
     "execution_count": 12,
     "metadata": {},
     "output_type": "execute_result"
    }
   ],
   "source": [
    "ward_pop.head()"
   ]
  },
  {
   "cell_type": "code",
   "execution_count": 13,
   "metadata": {
    "ExecuteTime": {
     "end_time": "2020-09-15T12:12:33.153564Z",
     "start_time": "2020-09-15T12:12:32.884277Z"
    },
    "collapsed": true
   },
   "outputs": [],
   "source": [
    "GP_META = pd.read_csv('../BL_Work/epraccur.csv',header=None)\n",
    "GP_META.rename(columns={0:'BP_code',\n",
    "                        1:'Name',\n",
    "                        2:'Grouping',\n",
    "                        3:'National_geo',\n",
    "                        4:'Addr1',\n",
    "                        5:'Addr2',\n",
    "                        6:'Addr3',\n",
    "                        7: 'Addr4',\n",
    "                        8:'Addr5',\n",
    "                        9:'Postcode',\n",
    "                        10:'Open',\n",
    "                        11:'Closed',\n",
    "                        12:'Status',\n",
    "                        13:'Org type code',\n",
    "                        14:'Commissioner',\n",
    "                        15:'Join provider',\n",
    "                        16:'Left provider',\n",
    "                        17:'Contact',\n",
    "                        18:'Null1',\n",
    "                        19:'Null2',\n",
    "                        20:'Null3',\n",
    "                        21:'Amended',\n",
    "                        22:'Null4',\n",
    "                        23:'Provider',\n",
    "                        24:'Null5',\n",
    "                        25:'Setting',\n",
    "                        26:'Null6'}, \n",
    "                 inplace=True)"
   ]
  },
  {
   "cell_type": "code",
   "execution_count": 14,
   "metadata": {
    "ExecuteTime": {
     "end_time": "2020-09-15T12:12:54.625570Z",
     "start_time": "2020-09-15T12:12:54.562960Z"
    }
   },
   "outputs": [
    {
     "data": {
      "text/html": [
       "<div>\n",
       "<style scoped>\n",
       "    .dataframe tbody tr th:only-of-type {\n",
       "        vertical-align: middle;\n",
       "    }\n",
       "\n",
       "    .dataframe tbody tr th {\n",
       "        vertical-align: top;\n",
       "    }\n",
       "\n",
       "    .dataframe thead th {\n",
       "        text-align: right;\n",
       "    }\n",
       "</style>\n",
       "<table border=\"1\" class=\"dataframe\">\n",
       "  <thead>\n",
       "    <tr style=\"text-align: right;\">\n",
       "      <th></th>\n",
       "      <th>BP_code</th>\n",
       "      <th>Name</th>\n",
       "      <th>Grouping</th>\n",
       "      <th>National_geo</th>\n",
       "      <th>Addr1</th>\n",
       "      <th>Addr2</th>\n",
       "      <th>Addr3</th>\n",
       "      <th>Addr4</th>\n",
       "      <th>Addr5</th>\n",
       "      <th>Postcode</th>\n",
       "      <th>...</th>\n",
       "      <th>Contact</th>\n",
       "      <th>Null1</th>\n",
       "      <th>Null2</th>\n",
       "      <th>Null3</th>\n",
       "      <th>Amended</th>\n",
       "      <th>Null4</th>\n",
       "      <th>Provider</th>\n",
       "      <th>Null5</th>\n",
       "      <th>Setting</th>\n",
       "      <th>Null6</th>\n",
       "    </tr>\n",
       "  </thead>\n",
       "  <tbody>\n",
       "    <tr>\n",
       "      <th>0</th>\n",
       "      <td>A81001</td>\n",
       "      <td>THE DENSHAM SURGERY</td>\n",
       "      <td>Y63</td>\n",
       "      <td>Q74</td>\n",
       "      <td>THE HEALTH CENTRE</td>\n",
       "      <td>LAWSON STREET</td>\n",
       "      <td>STOCKTON-ON-TEES</td>\n",
       "      <td>CLEVELAND</td>\n",
       "      <td>NaN</td>\n",
       "      <td>TS18 1HU</td>\n",
       "      <td>...</td>\n",
       "      <td>01642 672351</td>\n",
       "      <td>NaN</td>\n",
       "      <td>NaN</td>\n",
       "      <td>NaN</td>\n",
       "      <td>1</td>\n",
       "      <td>NaN</td>\n",
       "      <td>00K</td>\n",
       "      <td>NaN</td>\n",
       "      <td>4</td>\n",
       "      <td>NaN</td>\n",
       "    </tr>\n",
       "    <tr>\n",
       "      <th>1</th>\n",
       "      <td>A81002</td>\n",
       "      <td>QUEENS PARK MEDICAL CENTRE</td>\n",
       "      <td>Y63</td>\n",
       "      <td>Q74</td>\n",
       "      <td>QUEENS PARK MEDICAL CTR</td>\n",
       "      <td>FARRER STREET</td>\n",
       "      <td>STOCKTON ON TEES</td>\n",
       "      <td>CLEVELAND</td>\n",
       "      <td>NaN</td>\n",
       "      <td>TS18 2AW</td>\n",
       "      <td>...</td>\n",
       "      <td>01642 679681</td>\n",
       "      <td>NaN</td>\n",
       "      <td>NaN</td>\n",
       "      <td>NaN</td>\n",
       "      <td>1</td>\n",
       "      <td>NaN</td>\n",
       "      <td>00K</td>\n",
       "      <td>NaN</td>\n",
       "      <td>4</td>\n",
       "      <td>NaN</td>\n",
       "    </tr>\n",
       "    <tr>\n",
       "      <th>2</th>\n",
       "      <td>A81003</td>\n",
       "      <td>VICTORIA MEDICAL PRACTICE</td>\n",
       "      <td>Y54</td>\n",
       "      <td>Q74</td>\n",
       "      <td>THE HEALTH CENTRE</td>\n",
       "      <td>VICTORIA ROAD</td>\n",
       "      <td>HARTLEPOOL</td>\n",
       "      <td>CLEVELAND</td>\n",
       "      <td>NaN</td>\n",
       "      <td>TS26 8DB</td>\n",
       "      <td>...</td>\n",
       "      <td>01429 272945</td>\n",
       "      <td>NaN</td>\n",
       "      <td>NaN</td>\n",
       "      <td>NaN</td>\n",
       "      <td>0</td>\n",
       "      <td>NaN</td>\n",
       "      <td>00K</td>\n",
       "      <td>NaN</td>\n",
       "      <td>4</td>\n",
       "      <td>NaN</td>\n",
       "    </tr>\n",
       "    <tr>\n",
       "      <th>3</th>\n",
       "      <td>A81004</td>\n",
       "      <td>BLUEBELL MEDICAL CENTRE</td>\n",
       "      <td>Y63</td>\n",
       "      <td>Q74</td>\n",
       "      <td>TRIMDON AVENUE</td>\n",
       "      <td>ACKLAM</td>\n",
       "      <td>MIDDLESBROUGH</td>\n",
       "      <td>NaN</td>\n",
       "      <td>NaN</td>\n",
       "      <td>TS5 8SB</td>\n",
       "      <td>...</td>\n",
       "      <td>01642 827697</td>\n",
       "      <td>NaN</td>\n",
       "      <td>NaN</td>\n",
       "      <td>NaN</td>\n",
       "      <td>1</td>\n",
       "      <td>NaN</td>\n",
       "      <td>00M</td>\n",
       "      <td>NaN</td>\n",
       "      <td>4</td>\n",
       "      <td>NaN</td>\n",
       "    </tr>\n",
       "    <tr>\n",
       "      <th>4</th>\n",
       "      <td>A81005</td>\n",
       "      <td>SPRINGWOOD SURGERY</td>\n",
       "      <td>Y63</td>\n",
       "      <td>Q74</td>\n",
       "      <td>SPRINGWOOD SURGERY</td>\n",
       "      <td>RECTORY LANE</td>\n",
       "      <td>GUISBOROUGH</td>\n",
       "      <td>NaN</td>\n",
       "      <td>NaN</td>\n",
       "      <td>TS14 7DJ</td>\n",
       "      <td>...</td>\n",
       "      <td>01287 619611</td>\n",
       "      <td>NaN</td>\n",
       "      <td>NaN</td>\n",
       "      <td>NaN</td>\n",
       "      <td>1</td>\n",
       "      <td>NaN</td>\n",
       "      <td>00M</td>\n",
       "      <td>NaN</td>\n",
       "      <td>4</td>\n",
       "      <td>NaN</td>\n",
       "    </tr>\n",
       "  </tbody>\n",
       "</table>\n",
       "<p>5 rows × 27 columns</p>\n",
       "</div>"
      ],
      "text/plain": [
       "  BP_code                        Name Grouping National_geo  \\\n",
       "0  A81001         THE DENSHAM SURGERY      Y63          Q74   \n",
       "1  A81002  QUEENS PARK MEDICAL CENTRE      Y63          Q74   \n",
       "2  A81003   VICTORIA MEDICAL PRACTICE      Y54          Q74   \n",
       "3  A81004     BLUEBELL MEDICAL CENTRE      Y63          Q74   \n",
       "4  A81005          SPRINGWOOD SURGERY      Y63          Q74   \n",
       "\n",
       "                     Addr1          Addr2             Addr3      Addr4 Addr5  \\\n",
       "0        THE HEALTH CENTRE  LAWSON STREET  STOCKTON-ON-TEES  CLEVELAND   NaN   \n",
       "1  QUEENS PARK MEDICAL CTR  FARRER STREET  STOCKTON ON TEES  CLEVELAND   NaN   \n",
       "2        THE HEALTH CENTRE  VICTORIA ROAD        HARTLEPOOL  CLEVELAND   NaN   \n",
       "3           TRIMDON AVENUE         ACKLAM     MIDDLESBROUGH        NaN   NaN   \n",
       "4       SPRINGWOOD SURGERY   RECTORY LANE       GUISBOROUGH        NaN   NaN   \n",
       "\n",
       "   Postcode  ...       Contact  Null1 Null2 Null3 Amended  Null4  Provider  \\\n",
       "0  TS18 1HU  ...  01642 672351    NaN   NaN   NaN       1    NaN       00K   \n",
       "1  TS18 2AW  ...  01642 679681    NaN   NaN   NaN       1    NaN       00K   \n",
       "2  TS26 8DB  ...  01429 272945    NaN   NaN   NaN       0    NaN       00K   \n",
       "3   TS5 8SB  ...  01642 827697    NaN   NaN   NaN       1    NaN       00M   \n",
       "4  TS14 7DJ  ...  01287 619611    NaN   NaN   NaN       1    NaN       00M   \n",
       "\n",
       "  Null5  Setting  Null6  \n",
       "0   NaN        4    NaN  \n",
       "1   NaN        4    NaN  \n",
       "2   NaN        4    NaN  \n",
       "3   NaN        4    NaN  \n",
       "4   NaN        4    NaN  \n",
       "\n",
       "[5 rows x 27 columns]"
      ]
     },
     "execution_count": 14,
     "metadata": {},
     "output_type": "execute_result"
    }
   ],
   "source": [
    "GP_META.head()"
   ]
  },
  {
   "cell_type": "code",
   "execution_count": 15,
   "metadata": {
    "ExecuteTime": {
     "end_time": "2020-09-15T12:13:12.547682Z",
     "start_time": "2020-09-15T12:13:10.723702Z"
    },
    "collapsed": true
   },
   "outputs": [],
   "source": [
    "Open_filtered_GPs = {}\n",
    "for index,row in GP_META.iterrows():\n",
    "    if row ['Setting'] == 4 and row['Status'] =='A':\n",
    "        Open_filtered_GPs[row['BP_code']] = row['Postcode'].strip()"
   ]
  },
  {
   "cell_type": "code",
   "execution_count": 16,
   "metadata": {
    "ExecuteTime": {
     "end_time": "2020-09-15T12:13:28.786209Z",
     "start_time": "2020-09-15T12:13:28.777897Z"
    }
   },
   "outputs": [
    {
     "data": {
      "text/plain": [
       "6924"
      ]
     },
     "execution_count": 16,
     "metadata": {},
     "output_type": "execute_result"
    }
   ],
   "source": [
    "len(Open_filtered_GPs)"
   ]
  },
  {
   "cell_type": "code",
   "execution_count": 17,
   "metadata": {
    "ExecuteTime": {
     "end_time": "2020-09-15T12:13:43.479493Z",
     "start_time": "2020-09-15T12:13:43.362054Z"
    },
    "collapsed": true
   },
   "outputs": [],
   "source": [
    "df_city = pd.read_csv('../BL_Work/lower_layer_super_output_area_2011_to_major_towns_and_cities_december_2015_lookup_in_england_and_wales.csv')"
   ]
  },
  {
   "cell_type": "code",
   "execution_count": 18,
   "metadata": {
    "ExecuteTime": {
     "end_time": "2020-09-15T12:14:01.624707Z",
     "start_time": "2020-09-15T12:14:01.544289Z"
    },
    "collapsed": true
   },
   "outputs": [],
   "source": [
    "cityMap = {}\n",
    "for name , group in df_city.groupby('TCITY15NM'):\n",
    "        cityMap[name] = list(group['LSOA11CD'])"
   ]
  },
  {
   "cell_type": "code",
   "execution_count": 19,
   "metadata": {
    "ExecuteTime": {
     "end_time": "2020-09-15T12:14:19.562939Z",
     "start_time": "2020-09-15T12:14:19.545776Z"
    }
   },
   "outputs": [
    {
     "data": {
      "text/html": [
       "<div>\n",
       "<style scoped>\n",
       "    .dataframe tbody tr th:only-of-type {\n",
       "        vertical-align: middle;\n",
       "    }\n",
       "\n",
       "    .dataframe tbody tr th {\n",
       "        vertical-align: top;\n",
       "    }\n",
       "\n",
       "    .dataframe thead th {\n",
       "        text-align: right;\n",
       "    }\n",
       "</style>\n",
       "<table border=\"1\" class=\"dataframe\">\n",
       "  <thead>\n",
       "    <tr style=\"text-align: right;\">\n",
       "      <th></th>\n",
       "      <th>LSOA11CD</th>\n",
       "      <th>LSOA11NM</th>\n",
       "      <th>TCITY15CD</th>\n",
       "      <th>TCITY15NM</th>\n",
       "      <th>FID</th>\n",
       "    </tr>\n",
       "  </thead>\n",
       "  <tbody>\n",
       "    <tr>\n",
       "      <th>0</th>\n",
       "      <td>E01002351</td>\n",
       "      <td>Havering 016C</td>\n",
       "      <td>J01000055</td>\n",
       "      <td>London</td>\n",
       "      <td>2001</td>\n",
       "    </tr>\n",
       "    <tr>\n",
       "      <th>1</th>\n",
       "      <td>E01002352</td>\n",
       "      <td>Havering 016D</td>\n",
       "      <td>J01000055</td>\n",
       "      <td>London</td>\n",
       "      <td>2002</td>\n",
       "    </tr>\n",
       "    <tr>\n",
       "      <th>2</th>\n",
       "      <td>E01002100</td>\n",
       "      <td>Haringey 008B</td>\n",
       "      <td>J01000055</td>\n",
       "      <td>London</td>\n",
       "      <td>2003</td>\n",
       "    </tr>\n",
       "    <tr>\n",
       "      <th>3</th>\n",
       "      <td>E01002301</td>\n",
       "      <td>Havering 003A</td>\n",
       "      <td>J01000055</td>\n",
       "      <td>London</td>\n",
       "      <td>2004</td>\n",
       "    </tr>\n",
       "    <tr>\n",
       "      <th>4</th>\n",
       "      <td>E01002353</td>\n",
       "      <td>Havering 013B</td>\n",
       "      <td>J01000055</td>\n",
       "      <td>London</td>\n",
       "      <td>2005</td>\n",
       "    </tr>\n",
       "  </tbody>\n",
       "</table>\n",
       "</div>"
      ],
      "text/plain": [
       "    LSOA11CD       LSOA11NM  TCITY15CD TCITY15NM   FID\n",
       "0  E01002351  Havering 016C  J01000055    London  2001\n",
       "1  E01002352  Havering 016D  J01000055    London  2002\n",
       "2  E01002100  Haringey 008B  J01000055    London  2003\n",
       "3  E01002301  Havering 003A  J01000055    London  2004\n",
       "4  E01002353  Havering 013B  J01000055    London  2005"
      ]
     },
     "execution_count": 19,
     "metadata": {},
     "output_type": "execute_result"
    }
   ],
   "source": [
    "df_city.head()"
   ]
  },
  {
   "cell_type": "code",
   "execution_count": 20,
   "metadata": {
    "ExecuteTime": {
     "end_time": "2020-09-15T12:14:37.380075Z",
     "start_time": "2020-09-15T12:14:36.929042Z"
    },
    "collapsed": true
   },
   "outputs": [],
   "source": [
    "IMD_df = pd.read_csv('../BL_Work/File_7_ID_2015_All_ranks__deciles_and_scores_for_the_Indices_of_Deprivation__and_population_denominators.csv')"
   ]
  },
  {
   "cell_type": "code",
   "execution_count": 21,
   "metadata": {
    "ExecuteTime": {
     "end_time": "2020-09-15T12:14:54.737018Z",
     "start_time": "2020-09-15T12:14:54.696130Z"
    }
   },
   "outputs": [
    {
     "data": {
      "text/html": [
       "<div>\n",
       "<style scoped>\n",
       "    .dataframe tbody tr th:only-of-type {\n",
       "        vertical-align: middle;\n",
       "    }\n",
       "\n",
       "    .dataframe tbody tr th {\n",
       "        vertical-align: top;\n",
       "    }\n",
       "\n",
       "    .dataframe thead th {\n",
       "        text-align: right;\n",
       "    }\n",
       "</style>\n",
       "<table border=\"1\" class=\"dataframe\">\n",
       "  <thead>\n",
       "    <tr style=\"text-align: right;\">\n",
       "      <th></th>\n",
       "      <th>LSOA code (2011)</th>\n",
       "      <th>LSOA name (2011)</th>\n",
       "      <th>Local Authority District code (2013)</th>\n",
       "      <th>Local Authority District name (2013)</th>\n",
       "      <th>Index of Multiple Deprivation (IMD) Score</th>\n",
       "      <th>Index of Multiple Deprivation (IMD) Rank (where 1 is most deprived)</th>\n",
       "      <th>Index of Multiple Deprivation (IMD) Decile (where 1 is most deprived 10% of LSOAs)</th>\n",
       "      <th>Income Score (rate)</th>\n",
       "      <th>Income Rank (where 1 is most deprived)</th>\n",
       "      <th>Income Decile (where 1 is most deprived 10% of LSOAs)</th>\n",
       "      <th>...</th>\n",
       "      <th>Indoors Sub-domain Rank (where 1 is most deprived)</th>\n",
       "      <th>Indoors Sub-domain Decile (where 1 is most deprived 10% of LSOAs)</th>\n",
       "      <th>Outdoors Sub-domain Score</th>\n",
       "      <th>Outdoors Sub-domain Rank (where 1 is most deprived)</th>\n",
       "      <th>Outdoors Sub-domain Decile (where 1 is most deprived 10% of LSOAs)</th>\n",
       "      <th>Total population: mid 2012 (excluding prisoners)</th>\n",
       "      <th>Dependent Children aged 0-15: mid 2012 (excluding prisoners)</th>\n",
       "      <th>Population aged 16-59: mid 2012 (excluding prisoners)</th>\n",
       "      <th>Older population aged 60 and over: mid 2012 (excluding prisoners)</th>\n",
       "      <th>Working age population 18-59/64: for use with Employment Deprivation Domain (excluding prisoners)</th>\n",
       "    </tr>\n",
       "  </thead>\n",
       "  <tbody>\n",
       "    <tr>\n",
       "      <th>0</th>\n",
       "      <td>E01031349</td>\n",
       "      <td>Adur 001A</td>\n",
       "      <td>E07000223</td>\n",
       "      <td>Adur</td>\n",
       "      <td>12.389</td>\n",
       "      <td>21352</td>\n",
       "      <td>7</td>\n",
       "      <td>0.096</td>\n",
       "      <td>18992</td>\n",
       "      <td>6</td>\n",
       "      <td>...</td>\n",
       "      <td>20379</td>\n",
       "      <td>7</td>\n",
       "      <td>0.312</td>\n",
       "      <td>11318</td>\n",
       "      <td>4</td>\n",
       "      <td>1318</td>\n",
       "      <td>206</td>\n",
       "      <td>694</td>\n",
       "      <td>418</td>\n",
       "      <td>702.75</td>\n",
       "    </tr>\n",
       "    <tr>\n",
       "      <th>1</th>\n",
       "      <td>E01031350</td>\n",
       "      <td>Adur 001B</td>\n",
       "      <td>E07000223</td>\n",
       "      <td>Adur</td>\n",
       "      <td>28.619</td>\n",
       "      <td>8864</td>\n",
       "      <td>3</td>\n",
       "      <td>0.187</td>\n",
       "      <td>9233</td>\n",
       "      <td>3</td>\n",
       "      <td>...</td>\n",
       "      <td>16285</td>\n",
       "      <td>5</td>\n",
       "      <td>0.234</td>\n",
       "      <td>12445</td>\n",
       "      <td>4</td>\n",
       "      <td>1212</td>\n",
       "      <td>232</td>\n",
       "      <td>712</td>\n",
       "      <td>268</td>\n",
       "      <td>720.75</td>\n",
       "    </tr>\n",
       "    <tr>\n",
       "      <th>2</th>\n",
       "      <td>E01031351</td>\n",
       "      <td>Adur 001C</td>\n",
       "      <td>E07000223</td>\n",
       "      <td>Adur</td>\n",
       "      <td>11.713</td>\n",
       "      <td>22143</td>\n",
       "      <td>7</td>\n",
       "      <td>0.065</td>\n",
       "      <td>24539</td>\n",
       "      <td>8</td>\n",
       "      <td>...</td>\n",
       "      <td>25054</td>\n",
       "      <td>8</td>\n",
       "      <td>0.208</td>\n",
       "      <td>12820</td>\n",
       "      <td>4</td>\n",
       "      <td>1577</td>\n",
       "      <td>290</td>\n",
       "      <td>829</td>\n",
       "      <td>458</td>\n",
       "      <td>838.25</td>\n",
       "    </tr>\n",
       "    <tr>\n",
       "      <th>3</th>\n",
       "      <td>E01031352</td>\n",
       "      <td>Adur 001D</td>\n",
       "      <td>E07000223</td>\n",
       "      <td>Adur</td>\n",
       "      <td>16.446</td>\n",
       "      <td>17252</td>\n",
       "      <td>6</td>\n",
       "      <td>0.117</td>\n",
       "      <td>16087</td>\n",
       "      <td>5</td>\n",
       "      <td>...</td>\n",
       "      <td>24455</td>\n",
       "      <td>8</td>\n",
       "      <td>0.109</td>\n",
       "      <td>14350</td>\n",
       "      <td>5</td>\n",
       "      <td>1453</td>\n",
       "      <td>233</td>\n",
       "      <td>739</td>\n",
       "      <td>481</td>\n",
       "      <td>748.25</td>\n",
       "    </tr>\n",
       "    <tr>\n",
       "      <th>4</th>\n",
       "      <td>E01031370</td>\n",
       "      <td>Adur 001E</td>\n",
       "      <td>E07000223</td>\n",
       "      <td>Adur</td>\n",
       "      <td>18.265</td>\n",
       "      <td>15643</td>\n",
       "      <td>5</td>\n",
       "      <td>0.102</td>\n",
       "      <td>17918</td>\n",
       "      <td>6</td>\n",
       "      <td>...</td>\n",
       "      <td>20214</td>\n",
       "      <td>7</td>\n",
       "      <td>0.321</td>\n",
       "      <td>11202</td>\n",
       "      <td>4</td>\n",
       "      <td>1443</td>\n",
       "      <td>306</td>\n",
       "      <td>799</td>\n",
       "      <td>338</td>\n",
       "      <td>795.50</td>\n",
       "    </tr>\n",
       "  </tbody>\n",
       "</table>\n",
       "<p>5 rows × 57 columns</p>\n",
       "</div>"
      ],
      "text/plain": [
       "  LSOA code (2011) LSOA name (2011) Local Authority District code (2013)  \\\n",
       "0        E01031349        Adur 001A                            E07000223   \n",
       "1        E01031350        Adur 001B                            E07000223   \n",
       "2        E01031351        Adur 001C                            E07000223   \n",
       "3        E01031352        Adur 001D                            E07000223   \n",
       "4        E01031370        Adur 001E                            E07000223   \n",
       "\n",
       "  Local Authority District name (2013)  \\\n",
       "0                                 Adur   \n",
       "1                                 Adur   \n",
       "2                                 Adur   \n",
       "3                                 Adur   \n",
       "4                                 Adur   \n",
       "\n",
       "   Index of Multiple Deprivation (IMD) Score  \\\n",
       "0                                     12.389   \n",
       "1                                     28.619   \n",
       "2                                     11.713   \n",
       "3                                     16.446   \n",
       "4                                     18.265   \n",
       "\n",
       "   Index of Multiple Deprivation (IMD) Rank (where 1 is most deprived)  \\\n",
       "0                                              21352                     \n",
       "1                                               8864                     \n",
       "2                                              22143                     \n",
       "3                                              17252                     \n",
       "4                                              15643                     \n",
       "\n",
       "   Index of Multiple Deprivation (IMD) Decile (where 1 is most deprived 10% of LSOAs)  \\\n",
       "0                                                  7                                    \n",
       "1                                                  3                                    \n",
       "2                                                  7                                    \n",
       "3                                                  6                                    \n",
       "4                                                  5                                    \n",
       "\n",
       "   Income Score (rate)  Income Rank (where 1 is most deprived)  \\\n",
       "0                0.096                                   18992   \n",
       "1                0.187                                    9233   \n",
       "2                0.065                                   24539   \n",
       "3                0.117                                   16087   \n",
       "4                0.102                                   17918   \n",
       "\n",
       "   Income Decile (where 1 is most deprived 10% of LSOAs)  ...  \\\n",
       "0                                                  6      ...   \n",
       "1                                                  3      ...   \n",
       "2                                                  8      ...   \n",
       "3                                                  5      ...   \n",
       "4                                                  6      ...   \n",
       "\n",
       "   Indoors Sub-domain Rank (where 1 is most deprived)  \\\n",
       "0                                              20379    \n",
       "1                                              16285    \n",
       "2                                              25054    \n",
       "3                                              24455    \n",
       "4                                              20214    \n",
       "\n",
       "   Indoors Sub-domain Decile (where 1 is most deprived 10% of LSOAs)  \\\n",
       "0                                                  7                   \n",
       "1                                                  5                   \n",
       "2                                                  8                   \n",
       "3                                                  8                   \n",
       "4                                                  7                   \n",
       "\n",
       "   Outdoors Sub-domain Score  \\\n",
       "0                      0.312   \n",
       "1                      0.234   \n",
       "2                      0.208   \n",
       "3                      0.109   \n",
       "4                      0.321   \n",
       "\n",
       "   Outdoors Sub-domain Rank (where 1 is most deprived)  \\\n",
       "0                                              11318     \n",
       "1                                              12445     \n",
       "2                                              12820     \n",
       "3                                              14350     \n",
       "4                                              11202     \n",
       "\n",
       "   Outdoors Sub-domain Decile (where 1 is most deprived 10% of LSOAs)  \\\n",
       "0                                                  4                    \n",
       "1                                                  4                    \n",
       "2                                                  4                    \n",
       "3                                                  5                    \n",
       "4                                                  4                    \n",
       "\n",
       "   Total population: mid 2012 (excluding prisoners)  \\\n",
       "0                                              1318   \n",
       "1                                              1212   \n",
       "2                                              1577   \n",
       "3                                              1453   \n",
       "4                                              1443   \n",
       "\n",
       "   Dependent Children aged 0-15: mid 2012 (excluding prisoners)  \\\n",
       "0                                                206              \n",
       "1                                                232              \n",
       "2                                                290              \n",
       "3                                                233              \n",
       "4                                                306              \n",
       "\n",
       "   Population aged 16-59: mid 2012 (excluding prisoners)  \\\n",
       "0                                                694       \n",
       "1                                                712       \n",
       "2                                                829       \n",
       "3                                                739       \n",
       "4                                                799       \n",
       "\n",
       "   Older population aged 60 and over: mid 2012 (excluding prisoners)  \\\n",
       "0                                                418                   \n",
       "1                                                268                   \n",
       "2                                                458                   \n",
       "3                                                481                   \n",
       "4                                                338                   \n",
       "\n",
       "   Working age population 18-59/64: for use with Employment Deprivation Domain (excluding prisoners)   \n",
       "0                                             702.75                                                   \n",
       "1                                             720.75                                                   \n",
       "2                                             838.25                                                   \n",
       "3                                             748.25                                                   \n",
       "4                                             795.50                                                   \n",
       "\n",
       "[5 rows x 57 columns]"
      ]
     },
     "execution_count": 21,
     "metadata": {},
     "output_type": "execute_result"
    }
   ],
   "source": [
    "IMD_df.head()"
   ]
  },
  {
   "cell_type": "code",
   "execution_count": 23,
   "metadata": {
    "ExecuteTime": {
     "end_time": "2020-09-15T14:22:24.022031Z",
     "start_time": "2020-09-15T14:22:23.798705Z"
    },
    "collapsed": true
   },
   "outputs": [],
   "source": [
    "LSOA_survey_takers = json.load(open('scratchpad/LSOA_suvery_pop.json'))"
   ]
  },
  {
   "cell_type": "code",
   "execution_count": 24,
   "metadata": {
    "ExecuteTime": {
     "end_time": "2020-09-15T14:22:46.267684Z",
     "start_time": "2020-09-15T14:22:41.527270Z"
    },
    "collapsed": true
   },
   "outputs": [],
   "source": [
    "LSOA_pop = {}\n",
    "LSOA_IMD = {}\n",
    "for index, row in IMD_df.iterrows():\n",
    "    LSOA_pop[row['LSOA code (2011)']] = row['Total population: mid 2012 (excluding prisoners)']\n",
    "    LSOA_IMD[row['LSOA code (2011)']] = row['Index of Multiple Deprivation (IMD) Score']"
   ]
  },
  {
   "cell_type": "code",
   "execution_count": 25,
   "metadata": {
    "ExecuteTime": {
     "end_time": "2020-09-15T14:23:03.444193Z",
     "start_time": "2020-09-15T14:23:03.316899Z"
    }
   },
   "outputs": [
    {
     "name": "stdout",
     "output_type": "stream",
     "text": [
      "('could not find LSOA', 'W01001912')\n",
      "('could not find LSOA', 'W01001913')\n",
      "('could not find LSOA', 'W01001600')\n",
      "('could not find LSOA', 'W01001651')\n",
      "('could not find LSOA', 'W01001601')\n",
      "('could not find LSOA', 'W01001652')\n",
      "('could not find LSOA', 'W01001602')\n",
      "('could not find LSOA', 'W01001653')\n",
      "('could not find LSOA', 'W01001654')\n",
      "('could not find LSOA', 'W01001603')\n",
      "('could not find LSOA', 'W01001604')\n",
      "('could not find LSOA', 'W01001655')\n",
      "('could not find LSOA', 'W01001605')\n",
      "('could not find LSOA', 'W01001606')\n",
      "('could not find LSOA', 'W01001607')\n",
      "('could not find LSOA', 'W01001659')\n",
      "('could not find LSOA', 'W01001608')\n",
      "('could not find LSOA', 'W01001660')\n",
      "('could not find LSOA', 'W01001609')\n",
      "('could not find LSOA', 'W01001661')\n",
      "('could not find LSOA', 'W01001610')\n",
      "('could not find LSOA', 'W01001662')\n",
      "('could not find LSOA', 'W01001611')\n",
      "('could not find LSOA', 'W01001663')\n",
      "('could not find LSOA', 'W01001612')\n",
      "('could not find LSOA', 'W01001664')\n",
      "('could not find LSOA', 'W01001613')\n",
      "('could not find LSOA', 'W01001614')\n",
      "('could not find LSOA', 'W01001615')\n",
      "('could not find LSOA', 'W01001616')\n",
      "('could not find LSOA', 'W01001617')\n",
      "('could not find LSOA', 'W01001618')\n",
      "('could not find LSOA', 'W01001619')\n",
      "('could not find LSOA', 'W01001620')\n",
      "('could not find LSOA', 'W01001621')\n",
      "('could not find LSOA', 'W01001622')\n",
      "('could not find LSOA', 'W01001629')\n",
      "('could not find LSOA', 'W01001630')\n",
      "('could not find LSOA', 'W01001631')\n",
      "('could not find LSOA', 'W01001632')\n",
      "('could not find LSOA', 'W01001633')\n",
      "('could not find LSOA', 'W01001634')\n",
      "('could not find LSOA', 'W01001635')\n",
      "('could not find LSOA', 'W01001636')\n",
      "('could not find LSOA', 'W01001637')\n",
      "('could not find LSOA', 'W01001638')\n",
      "('could not find LSOA', 'W01001639')\n",
      "('could not find LSOA', 'W01001641')\n",
      "('could not find LSOA', 'W01001642')\n",
      "('could not find LSOA', 'W01001643')\n",
      "('could not find LSOA', 'W01001644')\n",
      "('could not find LSOA', 'W01001645')\n",
      "('could not find LSOA', 'W01001646')\n",
      "('could not find LSOA', 'W01001647')\n",
      "('could not find LSOA', 'W01001648')\n",
      "('could not find LSOA', 'W01001665')\n",
      "('could not find LSOA', 'W01001666')\n",
      "('could not find LSOA', 'W01001667')\n",
      "('could not find LSOA', 'W01001668')\n",
      "('could not find LSOA', 'W01001669')\n",
      "('could not find LSOA', 'W01001670')\n",
      "('could not find LSOA', 'W01001671')\n",
      "('could not find LSOA', 'W01001672')\n",
      "('could not find LSOA', 'W01001673')\n",
      "('could not find LSOA', 'W01001674')\n",
      "('could not find LSOA', 'W01001675')\n",
      "('could not find LSOA', 'W01001676')\n",
      "('could not find LSOA', 'W01001677')\n",
      "('could not find LSOA', 'W01001678')\n",
      "('could not find LSOA', 'W01001679')\n",
      "('could not find LSOA', 'W01001680')\n",
      "('could not find LSOA', 'W01001681')\n",
      "('could not find LSOA', 'W01001682')\n",
      "('could not find LSOA', 'W01001683')\n",
      "('could not find LSOA', 'W01001684')\n",
      "('could not find LSOA', 'W01001685')\n",
      "('could not find LSOA', 'W01001686')\n",
      "('could not find LSOA', 'W01001687')\n",
      "('could not find LSOA', 'W01001688')\n",
      "('could not find LSOA', 'W01001689')\n",
      "('could not find LSOA', 'W01001690')\n",
      "('could not find LSOA', 'W01001691')\n",
      "('could not find LSOA', 'W01001692')\n",
      "('could not find LSOA', 'W01001693')\n",
      "('could not find LSOA', 'W01000329')\n",
      "('could not find LSOA', 'W01000330')\n",
      "('could not find LSOA', 'W01000331')\n",
      "('could not find LSOA', 'W01001938')\n",
      "('could not find LSOA', 'W01001955')\n",
      "('could not find LSOA', 'W01001956')\n",
      "('could not find LSOA', 'W01001957')\n",
      "('could not find LSOA', 'W01001958')\n",
      "('could not find LSOA', 'W01000738')\n",
      "('could not find LSOA', 'W01000739')\n",
      "('could not find LSOA', 'W01000740')\n",
      "('could not find LSOA', 'W01000741')\n",
      "('could not find LSOA', 'W01000742')\n",
      "('could not find LSOA', 'W01000744')\n",
      "('could not find LSOA', 'W01000745')\n",
      "('could not find LSOA', 'W01000746')\n",
      "('could not find LSOA', 'W01000747')\n",
      "('could not find LSOA', 'W01000749')\n",
      "('could not find LSOA', 'W01000750')\n",
      "('could not find LSOA', 'W01000751')\n",
      "('could not find LSOA', 'W01000752')\n",
      "('could not find LSOA', 'W01000753')\n",
      "('could not find LSOA', 'W01000754')\n",
      "('could not find LSOA', 'W01000755')\n",
      "('could not find LSOA', 'W01000757')\n",
      "('could not find LSOA', 'W01000758')\n",
      "('could not find LSOA', 'W01000760')\n",
      "('could not find LSOA', 'W01000761')\n",
      "('could not find LSOA', 'W01000762')\n",
      "('could not find LSOA', 'W01000763')\n",
      "('could not find LSOA', 'W01000764')\n",
      "('could not find LSOA', 'W01000765')\n",
      "('could not find LSOA', 'W01000766')\n",
      "('could not find LSOA', 'W01000767')\n",
      "('could not find LSOA', 'W01000768')\n",
      "('could not find LSOA', 'W01000769')\n",
      "('could not find LSOA', 'W01000770')\n",
      "('could not find LSOA', 'W01000781')\n",
      "('could not find LSOA', 'W01000782')\n",
      "('could not find LSOA', 'W01000787')\n",
      "('could not find LSOA', 'W01000788')\n",
      "('could not find LSOA', 'W01000789')\n",
      "('could not find LSOA', 'W01000790')\n",
      "('could not find LSOA', 'W01000791')\n",
      "('could not find LSOA', 'W01000794')\n",
      "('could not find LSOA', 'W01000795')\n",
      "('could not find LSOA', 'W01000796')\n",
      "('could not find LSOA', 'W01000797')\n",
      "('could not find LSOA', 'W01000798')\n",
      "('could not find LSOA', 'W01000799')\n",
      "('could not find LSOA', 'W01000849')\n",
      "('could not find LSOA', 'W01000801')\n",
      "('could not find LSOA', 'W01000804')\n",
      "('could not find LSOA', 'W01000805')\n",
      "('could not find LSOA', 'W01000806')\n",
      "('could not find LSOA', 'W01000807')\n",
      "('could not find LSOA', 'W01000808')\n",
      "('could not find LSOA', 'W01000809')\n",
      "('could not find LSOA', 'W01000810')\n",
      "('could not find LSOA', 'W01000811')\n",
      "('could not find LSOA', 'W01000812')\n",
      "('could not find LSOA', 'W01000813')\n",
      "('could not find LSOA', 'W01000814')\n",
      "('could not find LSOA', 'W01000815')\n",
      "('could not find LSOA', 'W01000816')\n",
      "('could not find LSOA', 'W01000817')\n",
      "('could not find LSOA', 'W01000818')\n",
      "('could not find LSOA', 'W01000819')\n",
      "('could not find LSOA', 'W01000820')\n",
      "('could not find LSOA', 'W01000821')\n",
      "('could not find LSOA', 'W01000822')\n",
      "('could not find LSOA', 'W01000823')\n",
      "('could not find LSOA', 'W01000824')\n",
      "('could not find LSOA', 'W01000825')\n",
      "('could not find LSOA', 'W01000826')\n",
      "('could not find LSOA', 'W01000827')\n",
      "('could not find LSOA', 'W01000830')\n",
      "('could not find LSOA', 'W01000831')\n",
      "('could not find LSOA', 'W01000832')\n",
      "('could not find LSOA', 'W01000833')\n",
      "('could not find LSOA', 'W01000834')\n",
      "('could not find LSOA', 'W01000835')\n",
      "('could not find LSOA', 'W01000836')\n",
      "('could not find LSOA', 'W01000850')\n",
      "('could not find LSOA', 'W01000851')\n",
      "('could not find LSOA', 'W01000852')\n",
      "('could not find LSOA', 'W01000853')\n",
      "('could not find LSOA', 'W01000854')\n",
      "('could not find LSOA', 'W01000855')\n",
      "('could not find LSOA', 'W01000856')\n",
      "('could not find LSOA', 'W01000857')\n",
      "('could not find LSOA', 'W01000858')\n",
      "('could not find LSOA', 'W01000859')\n",
      "('could not find LSOA', 'W01000860')\n",
      "('could not find LSOA', 'W01000861')\n",
      "('could not find LSOA', 'W01000862')\n",
      "('could not find LSOA', 'W01000863')\n",
      "('could not find LSOA', 'W01000864')\n",
      "('could not find LSOA', 'W01000865')\n",
      "('could not find LSOA', 'W01000866')\n",
      "('could not find LSOA', 'W01000867')\n",
      "('could not find LSOA', 'W01000868')\n",
      "('could not find LSOA', 'W01000869')\n",
      "('could not find LSOA', 'W01000870')\n",
      "('could not find LSOA', 'W01000871')\n",
      "('could not find LSOA', 'W01000872')\n",
      "('could not find LSOA', 'W01000873')\n",
      "('could not find LSOA', 'W01000874')\n",
      "('could not find LSOA', 'W01000875')\n",
      "('could not find LSOA', 'W01000876')\n",
      "('could not find LSOA', 'W01000879')\n",
      "('could not find LSOA', 'W01000880')\n",
      "('could not find LSOA', 'W01000881')\n",
      "('could not find LSOA', 'W01000882')\n",
      "('could not find LSOA', 'W01001861')\n",
      "('could not find LSOA', 'W01001809')\n",
      "('could not find LSOA', 'W01001862')\n",
      "('could not find LSOA', 'W01001863')\n",
      "('could not find LSOA', 'W01001864')\n",
      "('could not find LSOA', 'W01001810')\n",
      "('could not find LSOA', 'W01001865')\n",
      "('could not find LSOA', 'W01001811')\n",
      "('could not find LSOA', 'W01001866')\n",
      "('could not find LSOA', 'W01001812')\n",
      "('could not find LSOA', 'W01001867')\n",
      "('could not find LSOA', 'W01001813')\n",
      "('could not find LSOA', 'W01001704')\n",
      "('could not find LSOA', 'W01001868')\n",
      "('could not find LSOA', 'W01001814')\n",
      "('could not find LSOA', 'W01001705')\n",
      "('could not find LSOA', 'W01001756')\n",
      "('could not find LSOA', 'W01001869')\n",
      "('could not find LSOA', 'W01001815')\n",
      "('could not find LSOA', 'W01001706')\n",
      "('could not find LSOA', 'W01001757')\n",
      "('could not find LSOA', 'W01001870')\n",
      "('could not find LSOA', 'W01001816')\n",
      "('could not find LSOA', 'W01001707')\n",
      "('could not find LSOA', 'W01001758')\n",
      "('could not find LSOA', 'W01001871')\n",
      "('could not find LSOA', 'W01001759')\n",
      "('could not find LSOA', 'W01001817')\n",
      "('could not find LSOA', 'W01001872')\n",
      "('could not find LSOA', 'W01001708')\n",
      "('could not find LSOA', 'W01001818')\n",
      "('could not find LSOA', 'W01001709')\n",
      "('could not find LSOA', 'W01001873')\n",
      "('could not find LSOA', 'W01001760')\n",
      "('could not find LSOA', 'W01001710')\n",
      "('could not find LSOA', 'W01001922')\n",
      "('could not find LSOA', 'W01001874')\n",
      "('could not find LSOA', 'W01001761')\n",
      "('could not find LSOA', 'W01001711')\n",
      "('could not find LSOA', 'W01001875')\n",
      "('could not find LSOA', 'W01001762')\n",
      "('could not find LSOA', 'W01001821')\n",
      "('could not find LSOA', 'W01001712')\n",
      "('could not find LSOA', 'W01001876')\n",
      "('could not find LSOA', 'W01001764')\n",
      "('could not find LSOA', 'W01001822')\n",
      "('could not find LSOA', 'W01001713')\n",
      "('could not find LSOA', 'W01001877')\n",
      "('could not find LSOA', 'W01001765')\n",
      "('could not find LSOA', 'W01001823')\n",
      "('could not find LSOA', 'W01001714')\n",
      "('could not find LSOA', 'W01001878')\n",
      "('could not find LSOA', 'W01001766')\n",
      "('could not find LSOA', 'W01001824')\n",
      "('could not find LSOA', 'W01001715')\n",
      "('could not find LSOA', 'W01001879')\n",
      "('could not find LSOA', 'W01001767')\n",
      "('could not find LSOA', 'W01001825')\n",
      "('could not find LSOA', 'W01001716')\n",
      "('could not find LSOA', 'W01001880')\n",
      "('could not find LSOA', 'W01001768')\n",
      "('could not find LSOA', 'W01001826')\n",
      "('could not find LSOA', 'W01001717')\n",
      "('could not find LSOA', 'W01001881')\n",
      "('could not find LSOA', 'W01001769')\n",
      "('could not find LSOA', 'W01001827')\n",
      "('could not find LSOA', 'W01001718')\n",
      "('could not find LSOA', 'W01001882')\n",
      "('could not find LSOA', 'W01001883')\n",
      "('could not find LSOA', 'W01001719')\n",
      "('could not find LSOA', 'W01001884')\n",
      "('could not find LSOA', 'W01001720')\n",
      "('could not find LSOA', 'W01001885')\n",
      "('could not find LSOA', 'W01001721')\n",
      "('could not find LSOA', 'W01001886')\n",
      "('could not find LSOA', 'W01001770')\n",
      "('could not find LSOA', 'W01001722')\n",
      "('could not find LSOA', 'W01001887')\n",
      "('could not find LSOA', 'W01001771')\n",
      "('could not find LSOA', 'W01001724')\n",
      "('could not find LSOA', 'W01001888')\n",
      "('could not find LSOA', 'W01001772')\n",
      "('could not find LSOA', 'W01001725')\n",
      "('could not find LSOA', 'W01001889')\n",
      "('could not find LSOA', 'W01001773')\n",
      "('could not find LSOA', 'W01001726')\n",
      "('could not find LSOA', 'W01001890')\n",
      "('could not find LSOA', 'W01001774')\n",
      "('could not find LSOA', 'W01001828')\n",
      "('could not find LSOA', 'W01001891')\n",
      "('could not find LSOA', 'W01001775')\n",
      "('could not find LSOA', 'W01001939')\n",
      "('could not find LSOA', 'W01001829')\n",
      "('could not find LSOA', 'W01001892')\n",
      "('could not find LSOA', 'W01001730')\n",
      "('could not find LSOA', 'W01001776')\n",
      "('could not find LSOA', 'W01001830')\n",
      "('could not find LSOA', 'W01001940')\n",
      "('could not find LSOA', 'W01001731')\n",
      "('could not find LSOA', 'W01001777')\n",
      "('could not find LSOA', 'W01001831')\n",
      "('could not find LSOA', 'W01001941')\n",
      "('could not find LSOA', 'W01001894')\n",
      "('could not find LSOA', 'W01001732')\n",
      "('could not find LSOA', 'W01001778')\n",
      "('could not find LSOA', 'W01001832')\n",
      "('could not find LSOA', 'W01001942')\n",
      "('could not find LSOA', 'W01001895')\n",
      "('could not find LSOA', 'W01001733')\n",
      "('could not find LSOA', 'W01001779')\n",
      "('could not find LSOA', 'W01001833')\n",
      "('could not find LSOA', 'W01001943')\n",
      "('could not find LSOA', 'W01001896')\n",
      "('could not find LSOA', 'W01001734')\n",
      "('could not find LSOA', 'W01001780')\n",
      "('could not find LSOA', 'W01001834')\n",
      "('could not find LSOA', 'W01001944')\n",
      "('could not find LSOA', 'W01001735')\n",
      "('could not find LSOA', 'W01001781')\n",
      "('could not find LSOA', 'W01001835')\n",
      "('could not find LSOA', 'W01001736')\n",
      "('could not find LSOA', 'W01001782')\n",
      "('could not find LSOA', 'W01001836')\n",
      "('could not find LSOA', 'W01001946')\n",
      "('could not find LSOA', 'W01001737')\n",
      "('could not find LSOA', 'W01001783')\n",
      "('could not find LSOA', 'W01001837')\n",
      "('could not find LSOA', 'W01001947')\n",
      "('could not find LSOA', 'W01001738')\n",
      "('could not find LSOA', 'W01001784')\n",
      "('could not find LSOA', 'W01001838')\n",
      "('could not find LSOA', 'W01001948')\n",
      "('could not find LSOA', 'W01001739')\n",
      "('could not find LSOA', 'W01001785')\n",
      "('could not find LSOA', 'W01001839')\n",
      "('could not find LSOA', 'W01001949')\n",
      "('could not find LSOA', 'W01001740')\n",
      "('could not find LSOA', 'W01001786')\n",
      "('could not find LSOA', 'W01001840')\n",
      "('could not find LSOA', 'W01001950')\n",
      "('could not find LSOA', 'W01001741')\n",
      "('could not find LSOA', 'W01001787')\n",
      "('could not find LSOA', 'W01001788')\n",
      "('could not find LSOA', 'W01001789')\n",
      "('could not find LSOA', 'W01001790')\n",
      "('could not find LSOA', 'W01001791')\n",
      "('could not find LSOA', 'W01001792')\n",
      "('could not find LSOA', 'W01001793')\n",
      "('could not find LSOA', 'W01001794')\n",
      "('could not find LSOA', 'W01001795')\n",
      "('could not find LSOA', 'W01001796')\n",
      "('could not find LSOA', 'W01001797')\n",
      "('could not find LSOA', 'W01001798')\n",
      "('could not find LSOA', 'W01001799')\n",
      "('could not find LSOA', 'W01001800')\n",
      "('could not find LSOA', 'W01001802')\n",
      "('could not find LSOA', 'W01001803')\n",
      "('could not find LSOA', 'W01001804')\n",
      "('could not find LSOA', 'W01001805')\n",
      "('could not find LSOA', 'W01001806')\n",
      "('could not find LSOA', 'W01001807')\n",
      "('could not find LSOA', 'W01001808')\n",
      "('could not find LSOA', 'W01001841')\n",
      "('could not find LSOA', 'W01001742')\n",
      "('could not find LSOA', 'W01001842')\n",
      "('could not find LSOA', 'W01001743')\n",
      "('could not find LSOA', 'W01001843')\n",
      "('could not find LSOA', 'W01001951')\n",
      "('could not find LSOA', 'W01001744')\n",
      "('could not find LSOA', 'W01001844')\n",
      "('could not find LSOA', 'W01001952')\n",
      "('could not find LSOA', 'W01001745')\n",
      "('could not find LSOA', 'W01001846')\n",
      "('could not find LSOA', 'W01001953')\n",
      "('could not find LSOA', 'W01001746')\n",
      "('could not find LSOA', 'W01001847')\n",
      "('could not find LSOA', 'W01001954')\n",
      "('could not find LSOA', 'W01001747')\n",
      "('could not find LSOA', 'W01001848')\n",
      "('could not find LSOA', 'W01001748')\n",
      "('could not find LSOA', 'W01001849')\n",
      "('could not find LSOA', 'W01001749')\n",
      "('could not find LSOA', 'W01001850')\n",
      "('could not find LSOA', 'W01001750')\n",
      "('could not find LSOA', 'W01001851')\n",
      "('could not find LSOA', 'W01001751')\n",
      "('could not find LSOA', 'W01001852')\n",
      "('could not find LSOA', 'W01001694')\n",
      "('could not find LSOA', 'W01001853')\n",
      "('could not find LSOA', 'W01001752')\n",
      "('could not find LSOA', 'W01001695')\n",
      "('could not find LSOA', 'W01001854')\n",
      "('could not find LSOA', 'W01001753')\n",
      "('could not find LSOA', 'W01001696')\n",
      "('could not find LSOA', 'W01001855')\n",
      "('could not find LSOA', 'W01001754')\n",
      "('could not find LSOA', 'W01001697')\n",
      "('could not find LSOA', 'W01001856')\n",
      "('could not find LSOA', 'W01001755')\n",
      "('could not find LSOA', 'W01001698')\n",
      "('could not find LSOA', 'W01001699')\n",
      "('could not find LSOA', 'W01001702')\n",
      "('could not find LSOA', 'W01001703')\n",
      "('could not find LSOA', 'W01001857')\n",
      "('could not find LSOA', 'W01001858')\n",
      "('could not find LSOA', 'W01001859')\n",
      "('could not find LSOA', 'W01001860')\n"
     ]
    }
   ],
   "source": [
    "cityPop = {}\n",
    "city_IMD = {}\n",
    "city_survey_pop = {}\n",
    "for k in cityMap:\n",
    "    pop = 0\n",
    "    surveypop = 0\n",
    "    IMD = []\n",
    "    for j in cityMap[k]:\n",
    "        try:\n",
    "            pop += LSOA_pop[j]\n",
    "            surveypop += LSOA_survey_takers[j]\n",
    "            IMD.append(LSOA_IMD[j])\n",
    "        except:\n",
    "            print(\"could not find LSOA\",j)\n",
    "    city_IMD[k] = {}\n",
    "    if pop > 0:\n",
    "        cityPop[k] = pop\n",
    "        city_survey_pop[k] = surveypop\n",
    "        city_IMD[k]['median_IMD'] = np.median(IMD)\n",
    "        city_IMD[k]['mean_IMD'] = np.mean(IMD)"
   ]
  },
  {
   "cell_type": "code",
   "execution_count": null,
   "metadata": {
    "ExecuteTime": {
     "end_time": "2020-05-29T09:43:45.866020Z",
     "start_time": "2020-05-29T09:38:41.189Z"
    },
    "collapsed": true
   },
   "outputs": [],
   "source": [
    "# json.dump(city_survey_pop,open('city_SurveyPop.json','wb'))\n",
    "# json.dump(LSOA_pop,open('LSOA_Pop.json','wb'))"
   ]
  },
  {
   "cell_type": "code",
   "execution_count": null,
   "metadata": {
    "ExecuteTime": {
     "end_time": "2020-05-29T09:43:45.871553Z",
     "start_time": "2020-05-29T09:38:42.043Z"
    },
    "collapsed": true
   },
   "outputs": [],
   "source": [
    "# json.dump(city_IMD,open('city_IMD.json','wb'))"
   ]
  },
  {
   "cell_type": "code",
   "execution_count": null,
   "metadata": {
    "ExecuteTime": {
     "end_time": "2020-05-29T09:43:45.876927Z",
     "start_time": "2020-05-29T09:38:42.765Z"
    },
    "collapsed": true
   },
   "outputs": [],
   "source": [
    "%store Open_filtered_GPs"
   ]
  },
  {
   "cell_type": "code",
   "execution_count": null,
   "metadata": {
    "ExecuteTime": {
     "end_time": "2020-05-29T09:43:45.882079Z",
     "start_time": "2020-05-29T09:38:47.669Z"
    },
    "collapsed": true
   },
   "outputs": [],
   "source": [
    "pdp = pdp[pdp['2'].isin(Open_filtered_GPs.keys())]"
   ]
  },
  {
   "cell_type": "code",
   "execution_count": null,
   "metadata": {
    "ExecuteTime": {
     "end_time": "2020-05-29T09:43:45.887228Z",
     "start_time": "2020-05-29T09:38:49.157Z"
    },
    "collapsed": true
   },
   "outputs": [],
   "source": [
    "# pdp_BNF = pdp_BNF[pdp_BNF['2'].isin(Open_filtered_GPs.keys())]"
   ]
  },
  {
   "cell_type": "code",
   "execution_count": null,
   "metadata": {
    "ExecuteTime": {
     "end_time": "2020-05-29T09:43:45.892820Z",
     "start_time": "2020-05-29T09:38:51.597Z"
    },
    "collapsed": true
   },
   "outputs": [],
   "source": [
    "population = {}\n",
    "for index, row in ward_pop.iterrows():\n",
    "    population[row['Ward Code 1']] = float(row['All Ages'].replace(',',''))\n",
    "    "
   ]
  },
  {
   "cell_type": "code",
   "execution_count": null,
   "metadata": {
    "ExecuteTime": {
     "end_time": "2020-05-29T09:43:45.897941Z",
     "start_time": "2020-05-29T09:38:52.596Z"
    },
    "collapsed": true
   },
   "outputs": [],
   "source": [
    "ward_pop.head()"
   ]
  },
  {
   "cell_type": "code",
   "execution_count": null,
   "metadata": {
    "ExecuteTime": {
     "end_time": "2020-05-29T09:43:45.902668Z",
     "start_time": "2020-05-29T09:38:53.140Z"
    },
    "collapsed": true
   },
   "outputs": [],
   "source": [
    "population_borough = {}\n",
    "for name,group in ward_pop.groupby('Local Authority'):\n",
    "    population_borough[name] = 0.0\n",
    "    for index , row in group.iterrows():\n",
    "        population_borough[name] += float(row['All Ages'].replace(',',''))"
   ]
  },
  {
   "cell_type": "code",
   "execution_count": null,
   "metadata": {
    "ExecuteTime": {
     "end_time": "2020-05-29T09:43:45.907032Z",
     "start_time": "2020-05-29T09:38:55.072Z"
    },
    "collapsed": true
   },
   "outputs": [],
   "source": [
    "sum(population_borough.values())"
   ]
  },
  {
   "cell_type": "code",
   "execution_count": null,
   "metadata": {
    "collapsed": true
   },
   "outputs": [],
   "source": []
  },
  {
   "cell_type": "code",
   "execution_count": null,
   "metadata": {
    "ExecuteTime": {
     "end_time": "2020-05-29T09:43:45.911502Z",
     "start_time": "2020-05-29T09:38:57.878Z"
    },
    "collapsed": true
   },
   "outputs": [],
   "source": [
    "# compareKeys = set(ward_pop_prev.keys()).intersection(ward_luca_predict.keys())\n",
    "\n",
    "# pearsonr([ ward_gt[k] for k in compareKeys],[ward_pop_prev[k] for k in compareKeys])\n",
    "\n",
    "# pearsonr([ ward_gt[k] for k in compareKeys],[ward_pop_prev_BNF[k] for k in compareKeys])\n",
    "\n",
    "# pearsonr([ ward_gt[k] for k in compareKeys],[ward_luca_predict[k] for k in compareKeys])\n",
    "\n",
    "# sns.regplot([ ward_gt[k] for k in compareKeys],[ward_pop_prev_BNF[k] for k in compareKeys])\n",
    "\n",
    "# sns.regplot([ ward_gt[k] for k in compareKeys],[ward_pop_prev[k] for k in compareKeys])\n",
    "\n",
    "# sns.regplot([ ward_gt[k] for k in compareKeys],[ward_luca_predict[k] for k in compareKeys])\n",
    "\n",
    "# sns.regplot([ ward_pop_prev[k] for k in compareKeys],[ward_luca_predict[k] for k in compareKeys])\n",
    "# ax = plt.gca()\n",
    "# ax.set_title(\"Comparison between prevalences acquired by BNF and Drugbank drug lists\")\n",
    "# ax.set_xlabel(\"Drugbank prevalence\")\n",
    "# ax.set_ylabel(\"BNF prevalence\")\n",
    "\n",
    "# pearsonr([ ward_pop_prev[k] for k in compareKeys],[ward_luca_predict[k] for k in compareKeys])"
   ]
  },
  {
   "cell_type": "code",
   "execution_count": null,
   "metadata": {
    "ExecuteTime": {
     "end_time": "2020-05-29T09:43:45.915923Z",
     "start_time": "2020-05-29T09:38:58.990Z"
    },
    "collapsed": true
   },
   "outputs": [],
   "source": [
    "len(set(ward_pop['Local Authority']))"
   ]
  },
  {
   "cell_type": "code",
   "execution_count": null,
   "metadata": {
    "ExecuteTime": {
     "end_time": "2020-05-29T09:43:45.920504Z",
     "start_time": "2020-05-29T09:39:00.293Z"
    },
    "collapsed": true
   },
   "outputs": [],
   "source": [
    "GP_postcodes_long = {}\n",
    "for name , group in pdp.groupby('2'):\n",
    "    postcode = list(set(group['10']))\n",
    "    GP_postcodes_long[name] = str(postcode[0]).strip()"
   ]
  },
  {
   "cell_type": "code",
   "execution_count": null,
   "metadata": {
    "ExecuteTime": {
     "end_time": "2020-05-29T09:43:45.925313Z",
     "start_time": "2020-05-29T09:39:01.341Z"
    },
    "collapsed": true
   },
   "outputs": [],
   "source": [
    "ward_df = pd.read_csv('../BL_Work/pcd11_par11_wd11_lad11_ew_lu.csv')\n",
    "\n",
    "ward_df.head()\n",
    "\n",
    "ward_postcode_map = {}\n",
    "for name, group in ward_df.groupby('wd11cd'):\n",
    "    ward_postcode_map[name] = list(group['pcds'])"
   ]
  },
  {
   "cell_type": "code",
   "execution_count": null,
   "metadata": {
    "ExecuteTime": {
     "end_time": "2020-05-29T09:43:45.929799Z",
     "start_time": "2020-05-29T09:39:02.372Z"
    },
    "collapsed": true
   },
   "outputs": [],
   "source": [
    "# ward_postcode_map"
   ]
  },
  {
   "cell_type": "code",
   "execution_count": null,
   "metadata": {
    "ExecuteTime": {
     "end_time": "2020-05-29T09:43:45.934070Z",
     "start_time": "2020-05-29T09:39:02.748Z"
    },
    "collapsed": true
   },
   "outputs": [],
   "source": [
    "# ward_gt"
   ]
  },
  {
   "cell_type": "code",
   "execution_count": null,
   "metadata": {
    "ExecuteTime": {
     "end_time": "2020-05-29T09:43:45.938382Z",
     "start_time": "2020-05-29T09:39:03.140Z"
    },
    "collapsed": true
   },
   "outputs": [],
   "source": [
    "# ward_postcode_map"
   ]
  },
  {
   "cell_type": "code",
   "execution_count": null,
   "metadata": {
    "ExecuteTime": {
     "end_time": "2020-05-29T09:43:45.943109Z",
     "start_time": "2020-05-29T09:39:03.661Z"
    },
    "collapsed": true
   },
   "outputs": [],
   "source": [
    "%store -r ward_patients_filtered"
   ]
  },
  {
   "cell_type": "code",
   "execution_count": null,
   "metadata": {
    "ExecuteTime": {
     "end_time": "2020-05-29T09:43:45.947470Z",
     "start_time": "2020-05-29T09:39:04.925Z"
    },
    "collapsed": true
   },
   "outputs": [],
   "source": [
    "LSOA_dist = json.load(open('GP_LSOA_PATIENTSDIST.json','rb'))"
   ]
  },
  {
   "cell_type": "code",
   "execution_count": null,
   "metadata": {
    "ExecuteTime": {
     "end_time": "2020-05-29T09:43:45.951951Z",
     "start_time": "2020-05-29T09:39:05.812Z"
    },
    "collapsed": true
   },
   "outputs": [],
   "source": [
    "sum(ward_patients_filtered.values())"
   ]
  },
  {
   "cell_type": "code",
   "execution_count": null,
   "metadata": {
    "ExecuteTime": {
     "end_time": "2020-05-29T09:43:45.956405Z",
     "start_time": "2020-05-29T09:39:06.581Z"
    },
    "collapsed": true
   },
   "outputs": [],
   "source": [
    "disease = list(set(pdp[pd.notnull(pdp['12'])]['12']))\n",
    "print disease"
   ]
  },
  {
   "cell_type": "code",
   "execution_count": null,
   "metadata": {
    "ExecuteTime": {
     "end_time": "2020-05-29T09:43:45.961231Z",
     "start_time": "2020-05-29T09:39:07.868Z"
    },
    "collapsed": true
   },
   "outputs": [],
   "source": [
    "All_drug_count = {}\n",
    "for name, group in tqdm(pdp.groupby('2')):\n",
    "    all_drugs = np.sum(group['19'])\n",
    "    if name in LSOA_dist:\n",
    "        for k in LSOA_dist[name]:\n",
    "            if k not in All_drug_count:\n",
    "                All_drug_count[k] = 0.0\n",
    "            All_drug_count[k]+= float(all_drugs)*float(LSOA_dist[name][k])"
   ]
  },
  {
   "cell_type": "code",
   "execution_count": null,
   "metadata": {
    "ExecuteTime": {
     "end_time": "2020-05-29T09:43:45.966001Z",
     "start_time": "2020-05-29T09:39:08.653Z"
    },
    "collapsed": true
   },
   "outputs": [],
   "source": [
    "# All_drug_count.keys()"
   ]
  },
  {
   "cell_type": "code",
   "execution_count": null,
   "metadata": {
    "ExecuteTime": {
     "end_time": "2020-05-29T09:43:45.970651Z",
     "start_time": "2020-05-29T09:39:09.468Z"
    },
    "collapsed": true
   },
   "outputs": [],
   "source": [
    "%store All_drug_count"
   ]
  },
  {
   "cell_type": "code",
   "execution_count": null,
   "metadata": {
    "ExecuteTime": {
     "end_time": "2020-05-29T09:43:45.975068Z",
     "start_time": "2020-05-29T09:39:10.870Z"
    },
    "collapsed": true
   },
   "outputs": [],
   "source": [
    "LSOA_disease_drug_count = {}\n",
    "LSOA_disease_dosage_count = {}\n",
    "for d in tqdm(disease):\n",
    "# for d in ['dementia','rheumatoid','dementia','depression','diabetes']:\n",
    "    if d not in LSOA_disease_drug_count:\n",
    "        LSOA_disease_drug_count[d]={}\n",
    "        LSOA_disease_dosage_count[d] = {}\n",
    "    for name, group in pdp.groupby('2'):\n",
    "        if name in LSOA_dist:\n",
    "            disease_presc = group[group['12']==d]\n",
    "            disease_count = np.sum(disease_presc['5'])\n",
    "            disease_dosage_count = np.sum(disease_presc['19'])\n",
    "            for k in LSOA_dist[name]:\n",
    "                if k not in LSOA_disease_drug_count[d]:\n",
    "                    LSOA_disease_drug_count[d][k] = 0.0\n",
    "                if k not in LSOA_disease_dosage_count[d]:\n",
    "                    LSOA_disease_dosage_count[d][k] = 0.0\n",
    "                LSOA_disease_dosage_count[d][k]+= float(disease_dosage_count)*float(LSOA_dist[name][k])\n",
    "                LSOA_disease_drug_count[d][k]+= float(disease_count)*float(LSOA_dist[name][k])"
   ]
  },
  {
   "cell_type": "code",
   "execution_count": null,
   "metadata": {
    "ExecuteTime": {
     "end_time": "2020-05-29T09:43:45.979351Z",
     "start_time": "2020-05-29T09:39:12.158Z"
    },
    "collapsed": true
   },
   "outputs": [],
   "source": [
    "symptom = list(set(pdp[pd.notnull(pdp['13'])]['13']))\n",
    "print symptom"
   ]
  },
  {
   "cell_type": "code",
   "execution_count": null,
   "metadata": {
    "ExecuteTime": {
     "end_time": "2020-05-29T09:43:45.983764Z",
     "start_time": "2020-05-29T09:39:13.109Z"
    },
    "collapsed": true
   },
   "outputs": [],
   "source": [
    "LSOA_symptom_drug_count = {}\n",
    "LSOA_symptom_dosage_count = {}\n",
    "for d in tqdm(symptom):\n",
    "# for d in ['dementia','rheumatoid','dementia','depression','diabetes']:\n",
    "    if d not in LSOA_symptom_drug_count:\n",
    "        LSOA_symptom_drug_count[d]={}\n",
    "        LSOA_symptom_dosage_count[d] = {}\n",
    "    for name, group in pdp.groupby('2'):\n",
    "        if name in LSOA_dist:\n",
    "            disease_presc = group[group['13']==d]\n",
    "            disease_count = np.sum(disease_presc['5'])\n",
    "            dosage_count = np.sum(disease_presc['19'])\n",
    "            for k in LSOA_dist[name]:\n",
    "                if k not in LSOA_symptom_drug_count[d]:\n",
    "                    LSOA_symptom_drug_count[d][k] = 0.0\n",
    "                if k not in LSOA_symptom_dosage_count[d]:\n",
    "                    LSOA_symptom_dosage_count[d][k] = 0.0\n",
    "                LSOA_symptom_drug_count[d][k]+= float(disease_count)*float(LSOA_dist[name][k])\n",
    "                LSOA_symptom_dosage_count[d][k]+= float(dosage_count)*float(LSOA_dist[name][k])"
   ]
  },
  {
   "cell_type": "code",
   "execution_count": 57,
   "metadata": {
    "ExecuteTime": {
     "end_time": "2019-08-23T10:19:53.855069Z",
     "start_time": "2019-08-23T10:19:53.849037Z"
    },
    "collapsed": true,
    "deletable": false,
    "editable": false
   },
   "outputs": [],
   "source": [
    "# LSOA_disease_drug_count_BNF = {}\n",
    "# for d in tqdm(disease):\n",
    "# # for d in ['dementia']:\n",
    "#     if d not in LSOA_disease_drug_count_BNF:\n",
    "#         LSOA_disease_drug_count_BNF[d]={}\n",
    "#     for name, group in tqdm(pdp_BNF.groupby('2')):\n",
    "#         if name in LSOA_dist:\n",
    "#             disease_presc = group[group['12']==d]\n",
    "#             disease_count = np.sum(disease_presc['5'])\n",
    "#             for k in LSOA_dist[name]:\n",
    "#                 if k not in LSOA_disease_drug_count_BNF[d]:\n",
    "#                     LSOA_disease_drug_count_BNF[d][k] = 0.0\n",
    "#                 LSOA_disease_drug_count_BNF[d][k]+= float(disease_count)*float(LSOA_dist[name][k])"
   ]
  },
  {
   "cell_type": "code",
   "execution_count": 59,
   "metadata": {
    "ExecuteTime": {
     "end_time": "2019-08-23T10:19:54.299263Z",
     "start_time": "2019-08-23T10:19:54.295743Z"
    },
    "collapsed": true
   },
   "outputs": [],
   "source": [
    "# LSOA_disease_drug_count_BNF"
   ]
  },
  {
   "cell_type": "code",
   "execution_count": 161,
   "metadata": {
    "ExecuteTime": {
     "end_time": "2019-08-23T10:19:54.599382Z",
     "start_time": "2019-08-23T10:19:54.592774Z"
    },
    "collapsed": true
   },
   "outputs": [],
   "source": [
    "%store -r Ward_prevalence\n",
    "%store -r Ward_patients\n",
    "%store -r DiseasePop_byWard"
   ]
  },
  {
   "cell_type": "code",
   "execution_count": 162,
   "metadata": {},
   "outputs": [
    {
     "data": {
      "text/plain": [
       "32936"
      ]
     },
     "execution_count": 162,
     "metadata": {},
     "output_type": "execute_result"
    }
   ],
   "source": [
    "len(Ward_patients['MH'])"
   ]
  },
  {
   "cell_type": "code",
   "execution_count": 163,
   "metadata": {
    "ExecuteTime": {
     "end_time": "2019-08-23T10:19:55.235089Z",
     "start_time": "2019-08-23T10:19:55.231504Z"
    },
    "collapsed": true
   },
   "outputs": [],
   "source": [
    "# with open('LSOA_disease_count.json','wb') as f:\n",
    "#     json.dump(LSOA_disease_drug_count,f)"
   ]
  },
  {
   "cell_type": "code",
   "execution_count": 164,
   "metadata": {
    "ExecuteTime": {
     "end_time": "2019-08-23T10:19:55.891238Z",
     "start_time": "2019-08-23T10:19:55.887865Z"
    },
    "collapsed": true
   },
   "outputs": [],
   "source": [
    "# %store LSOA_disease_drug_count"
   ]
  },
  {
   "cell_type": "code",
   "execution_count": 165,
   "metadata": {
    "ExecuteTime": {
     "end_time": "2019-08-23T10:19:56.316172Z",
     "start_time": "2019-08-23T10:19:56.311664Z"
    },
    "collapsed": true
   },
   "outputs": [],
   "source": [
    "# ward_prev_LSOA= {}\n",
    "# for k in LSOA_disease_drug_count['diabetes']:\n",
    "#     if LSOA_disease_drug_count['diabetes'][k] > Ward_patients[k]:\n",
    "#         print LSOA_disease_drug_count['diabetes'][k] , Ward_patients[k]\n",
    "# #         continue\n",
    "#     ward_prev_LSOA[k] = LSOA_disease_drug_count['diabetes'][k]/Ward_patients[k]"
   ]
  },
  {
   "cell_type": "code",
   "execution_count": 166,
   "metadata": {
    "ExecuteTime": {
     "end_time": "2019-08-23T10:19:57.437502Z",
     "start_time": "2019-08-23T10:19:57.344764Z"
    },
    "collapsed": true
   },
   "outputs": [],
   "source": [
    "df = pd.read_csv('../BL_Work/Lower_Layer_Super_Output_Area_2011_to_Ward_2015_Lookup_in_England_and_Wales.csv')"
   ]
  },
  {
   "cell_type": "code",
   "execution_count": 167,
   "metadata": {
    "ExecuteTime": {
     "end_time": "2019-08-23T10:19:58.091871Z",
     "start_time": "2019-08-23T10:19:58.062384Z"
    }
   },
   "outputs": [
    {
     "data": {
      "text/html": [
       "<div>\n",
       "<style scoped>\n",
       "    .dataframe tbody tr th:only-of-type {\n",
       "        vertical-align: middle;\n",
       "    }\n",
       "\n",
       "    .dataframe tbody tr th {\n",
       "        vertical-align: top;\n",
       "    }\n",
       "\n",
       "    .dataframe thead th {\n",
       "        text-align: right;\n",
       "    }\n",
       "</style>\n",
       "<table border=\"1\" class=\"dataframe\">\n",
       "  <thead>\n",
       "    <tr style=\"text-align: right;\">\n",
       "      <th></th>\n",
       "      <th>LSOA11CD</th>\n",
       "      <th>LSOA11NM</th>\n",
       "      <th>WD15CD</th>\n",
       "      <th>WD15NM</th>\n",
       "      <th>WD15NMW</th>\n",
       "      <th>LAD15CD</th>\n",
       "      <th>LAD15NM</th>\n",
       "      <th>FID</th>\n",
       "    </tr>\n",
       "  </thead>\n",
       "  <tbody>\n",
       "    <tr>\n",
       "      <th>0</th>\n",
       "      <td>E01000104</td>\n",
       "      <td>Barking and Dagenham 014B</td>\n",
       "      <td>E05000041</td>\n",
       "      <td>Village</td>\n",
       "      <td></td>\n",
       "      <td>E09000002</td>\n",
       "      <td>Barking and Dagenham</td>\n",
       "      <td>1</td>\n",
       "    </tr>\n",
       "    <tr>\n",
       "      <th>1</th>\n",
       "      <td>E01000105</td>\n",
       "      <td>Barking and Dagenham 014C</td>\n",
       "      <td>E05000041</td>\n",
       "      <td>Village</td>\n",
       "      <td></td>\n",
       "      <td>E09000002</td>\n",
       "      <td>Barking and Dagenham</td>\n",
       "      <td>2</td>\n",
       "    </tr>\n",
       "    <tr>\n",
       "      <th>2</th>\n",
       "      <td>E01000106</td>\n",
       "      <td>Barking and Dagenham 014D</td>\n",
       "      <td>E05000041</td>\n",
       "      <td>Village</td>\n",
       "      <td></td>\n",
       "      <td>E09000002</td>\n",
       "      <td>Barking and Dagenham</td>\n",
       "      <td>3</td>\n",
       "    </tr>\n",
       "    <tr>\n",
       "      <th>3</th>\n",
       "      <td>E01000107</td>\n",
       "      <td>Barking and Dagenham 010C</td>\n",
       "      <td>E05000041</td>\n",
       "      <td>Village</td>\n",
       "      <td></td>\n",
       "      <td>E09000002</td>\n",
       "      <td>Barking and Dagenham</td>\n",
       "      <td>4</td>\n",
       "    </tr>\n",
       "    <tr>\n",
       "      <th>4</th>\n",
       "      <td>E01000108</td>\n",
       "      <td>Barking and Dagenham 010D</td>\n",
       "      <td>E05000041</td>\n",
       "      <td>Village</td>\n",
       "      <td></td>\n",
       "      <td>E09000002</td>\n",
       "      <td>Barking and Dagenham</td>\n",
       "      <td>5</td>\n",
       "    </tr>\n",
       "  </tbody>\n",
       "</table>\n",
       "</div>"
      ],
      "text/plain": [
       "    LSOA11CD                   LSOA11NM     WD15CD   WD15NM WD15NMW  \\\n",
       "0  E01000104  Barking and Dagenham 014B  E05000041  Village           \n",
       "1  E01000105  Barking and Dagenham 014C  E05000041  Village           \n",
       "2  E01000106  Barking and Dagenham 014D  E05000041  Village           \n",
       "3  E01000107  Barking and Dagenham 010C  E05000041  Village           \n",
       "4  E01000108  Barking and Dagenham 010D  E05000041  Village           \n",
       "\n",
       "     LAD15CD               LAD15NM  FID  \n",
       "0  E09000002  Barking and Dagenham    1  \n",
       "1  E09000002  Barking and Dagenham    2  \n",
       "2  E09000002  Barking and Dagenham    3  \n",
       "3  E09000002  Barking and Dagenham    4  \n",
       "4  E09000002  Barking and Dagenham    5  "
      ]
     },
     "execution_count": 167,
     "metadata": {},
     "output_type": "execute_result"
    }
   ],
   "source": [
    "df.head()"
   ]
  },
  {
   "cell_type": "code",
   "execution_count": 168,
   "metadata": {
    "ExecuteTime": {
     "end_time": "2019-08-23T10:20:03.279431Z",
     "start_time": "2019-08-23T10:20:03.210485Z"
    },
    "collapsed": true
   },
   "outputs": [],
   "source": [
    "boroughMap = {}\n",
    "for name , group in df.groupby('LAD15NM'):\n",
    "        boroughMap[name] = list(group['LSOA11CD'])"
   ]
  },
  {
   "cell_type": "code",
   "execution_count": 169,
   "metadata": {
    "ExecuteTime": {
     "end_time": "2019-08-23T10:51:57.011392Z",
     "start_time": "2019-08-23T10:51:56.757619Z"
    }
   },
   "outputs": [
    {
     "name": "stdout",
     "output_type": "stream",
     "text": [
      "Some ward had wrong data\n",
      "Some ward had wrong data\n",
      "Some ward had wrong data\n"
     ]
    }
   ],
   "source": [
    "city_prevalence_UK = {}\n",
    "city_gt_prevalence_UK = {}\n",
    "\n",
    "for k in cityMap:\n",
    "    try:\n",
    "        city_disease_presc = np.sum([LSOA_disease_dosage_count['dementia'][w] for w in cityMap[k] if not np.isnan(LSOA_disease_dosage_count['dementia'][w])])\n",
    "#         city_patient_pop = np.sum([Ward_patients['DEM'][w] for w in cityMap[k] if not np.isnan(Ward_patients['DEM'][w])])\n",
    "        city_disease_pop = np.sum([DiseasePop_byWard['DEM'][w] for w in cityMap[k] if not np.isnan(DiseasePop_byWard['DEM'][w])])\n",
    "        city_prevalence_UK[k] = float(city_disease_presc)/float(cityPop[k])\n",
    "        city_gt_prevalence_UK[k] = float(city_disease_pop)/float(cityPop[k])\n",
    "    except:\n",
    "        print \"Some ward had wrong data\""
   ]
  },
  {
   "cell_type": "code",
   "execution_count": 170,
   "metadata": {
    "ExecuteTime": {
     "end_time": "2019-08-23T10:51:57.679262Z",
     "start_time": "2019-08-23T10:51:57.673773Z"
    }
   },
   "outputs": [
    {
     "data": {
      "text/plain": [
       "109"
      ]
     },
     "execution_count": 170,
     "metadata": {},
     "output_type": "execute_result"
    }
   ],
   "source": [
    "len(city_prevalence_UK)"
   ]
  },
  {
   "cell_type": "code",
   "execution_count": 171,
   "metadata": {},
   "outputs": [
    {
     "data": {
      "text/plain": [
       "{'Barnsley': 1.148492259270779,\n",
       " 'Basildon': 0.9244808633240316,\n",
       " 'Basingstoke': 0.8645041883303904,\n",
       " 'Bath': 0.7600593553616624,\n",
       " 'Bedford': 0.9236266646798719,\n",
       " 'Birkenhead': 1.43770074066997,\n",
       " 'Birmingham': 0.7819087502560997,\n",
       " 'Blackburn': 1.0939916015846398,\n",
       " 'Blackpool': 1.6087725969583746,\n",
       " 'Bolton': 1.0956907716461801,\n",
       " 'Bournemouth': 1.3736361450492662,\n",
       " 'Bracknell': 0.73720133815275,\n",
       " 'Bradford': 0.956802137573008,\n",
       " 'Brighton and Hove': 0.9570907807239637,\n",
       " 'Bristol': 0.8867809497540915,\n",
       " 'Burnley': 1.0975268681361248,\n",
       " 'Burton upon Trent': 0.8730263593063375,\n",
       " 'Bury': 1.191997247704603,\n",
       " 'Cambridge': 1.0478204947940006,\n",
       " 'Carlisle': 1.376383381906577,\n",
       " 'Chatham': 0.6786778824426368,\n",
       " 'Chelmsford': 0.89553613117234,\n",
       " 'Cheltenham': 1.8805240290385299,\n",
       " 'Chester': 1.0782642180020077,\n",
       " 'Chesterfield': 1.4797786045830346,\n",
       " 'Colchester': 0.75160831428514,\n",
       " 'Coventry': 0.8304233973584182,\n",
       " 'Crawley': 0.9624758710479383,\n",
       " 'Darlington': 1.3092954776888017,\n",
       " 'Derby': 1.5499761626329704,\n",
       " 'Doncaster': 1.1375585278548694,\n",
       " 'Dudley': 0.8143186305945513,\n",
       " 'Eastbourne': 1.2530732174420607,\n",
       " 'Exeter': 1.2162826894542338,\n",
       " 'Gateshead': 2.1427490749784814,\n",
       " 'Gillingham': 0.6055856862839373,\n",
       " 'Gloucester': 0.9849107003771409,\n",
       " 'Grimsby': 0.9933535370827141,\n",
       " 'Guildford': 1.2123810848632335,\n",
       " 'Halifax': 1.3939917133180146,\n",
       " 'Harlow': 1.1059996149646985,\n",
       " 'Harrogate': 1.4153152003206426,\n",
       " 'Hartlepool': 1.0627716688813842,\n",
       " 'Hastings': 1.0312617722502238,\n",
       " 'Hemel Hempstead': 0.6562538358025135,\n",
       " 'High Wycombe': 0.827901904283551,\n",
       " 'Huddersfield': 1.6355932027346167,\n",
       " 'Ipswich': 1.1713374657388098,\n",
       " 'Kingston upon Hull': 0.8583435916587283,\n",
       " 'Leeds': 1.337266135074238,\n",
       " 'Leicester': 0.8354553050759963,\n",
       " 'Lincoln': 1.3297771223330996,\n",
       " 'Liverpool': 1.3587361873799308,\n",
       " 'London': 1.0831289324864604,\n",
       " 'Luton': 0.9534376799563871,\n",
       " 'Maidstone': 0.836807328668798,\n",
       " 'Manchester': 1.1253120794575537,\n",
       " 'Mansfield': 1.3919545908992885,\n",
       " 'Middlesbrough': 1.2952472588940613,\n",
       " 'Milton Keynes': 0.6982363277765296,\n",
       " 'Newcastle upon Tyne': 1.6944228709567568,\n",
       " 'Newcastle-under-Lyme': 2.03555421411255,\n",
       " 'Northampton': 1.5569474309491862,\n",
       " 'Norwich': 1.4344778880251476,\n",
       " 'Nottingham': 1.009874944304355,\n",
       " 'Nuneaton': 1.2752339696397363,\n",
       " 'Oldham': 1.535394162557751,\n",
       " 'Oxford': 1.194109425449864,\n",
       " 'Peterborough': 1.143948541724232,\n",
       " 'Plymouth': 1.2296175260974858,\n",
       " 'Poole': 1.2039439683617355,\n",
       " 'Portsmouth': 1.0917257579757669,\n",
       " 'Preston': 1.0366927555912895,\n",
       " 'Reading': 0.8479181888176002,\n",
       " 'Redditch': 0.8238402683100244,\n",
       " 'Rochdale': 1.4181454837416443,\n",
       " 'Rotherham': 1.9062633282281838,\n",
       " 'Salford': 1.3240201277126629,\n",
       " 'Scunthorpe': 1.1296256169368142,\n",
       " 'Sheffield': 1.7061008489208922,\n",
       " 'Shrewsbury': 1.150039051738668,\n",
       " 'Slough': 0.7896072988884733,\n",
       " 'Solihull': 0.46385109578357164,\n",
       " 'South Shields': 1.9296026814221268,\n",
       " 'Southampton': 1.1613334392681245,\n",
       " 'Southend-on-Sea': 1.3552323727609288,\n",
       " 'Southport': 1.7931631666268333,\n",
       " 'St Albans': 0.7895392199624492,\n",
       " 'St Helens': 1.6354684488373934,\n",
       " 'Stevenage': 0.9175468928138464,\n",
       " 'Stockport': 1.0480694570507085,\n",
       " 'Stockton-on-Tees': 1.2941062158328338,\n",
       " 'Stoke-on-Trent': 1.3026683434106514,\n",
       " 'Sunderland': 1.7807590668278814,\n",
       " 'Sutton Coldfield': 0.47323105969203727,\n",
       " 'Swindon': 0.6721815228853242,\n",
       " 'Telford': 0.9427265256981741,\n",
       " 'Wakefield': 1.094361976884856,\n",
       " 'Walsall': 1.1596507900666633,\n",
       " 'Warrington': 0.8352350458306542,\n",
       " 'Watford': 0.5528484804980134,\n",
       " 'West Bromwich': 1.3126067627501232,\n",
       " 'Weston-Super-Mare': 1.4882361644225879,\n",
       " 'Wigan': 1.1205582637399931,\n",
       " 'Woking': 1.6188968215678081,\n",
       " 'Wolverhampton': 1.0555449052981034,\n",
       " 'Worcester': 0.9057393270235244,\n",
       " 'Worthing': 1.453679414651992,\n",
       " 'York': 0.9637532062620691}"
      ]
     },
     "execution_count": 171,
     "metadata": {},
     "output_type": "execute_result"
    }
   ],
   "source": [
    "city_prevalence_UK"
   ]
  },
  {
   "cell_type": "code",
   "execution_count": 172,
   "metadata": {
    "ExecuteTime": {
     "end_time": "2019-08-23T10:51:58.463779Z",
     "start_time": "2019-08-23T10:51:58.241149Z"
    }
   },
   "outputs": [
    {
     "data": {
      "text/plain": [
       "<matplotlib.axes._subplots.AxesSubplot at 0x7f5c06eaab50>"
      ]
     },
     "execution_count": 172,
     "metadata": {},
     "output_type": "execute_result"
    },
    {
     "data": {
      "image/png": "[encoded data removed]",
      "text/plain": [
       "<Figure size 432x288 with 1 Axes>"
      ]
     },
     "metadata": {
      "needs_background": "light"
     },
     "output_type": "display_data"
    }
   ],
   "source": [
    "sns.distplot(city_gt_prevalence_UK.values())"
   ]
  },
  {
   "cell_type": "code",
   "execution_count": 173,
   "metadata": {
    "ExecuteTime": {
     "end_time": "2019-08-23T10:51:59.267834Z",
     "start_time": "2019-08-23T10:51:59.066448Z"
    }
   },
   "outputs": [
    {
     "data": {
      "text/plain": [
       "<matplotlib.axes._subplots.AxesSubplot at 0x7f5c06e0dd90>"
      ]
     },
     "execution_count": 173,
     "metadata": {},
     "output_type": "execute_result"
    },
    {
     "data": {
      "image/png": "[encoded data removed]",
      "text/plain": [
       "<Figure size 432x288 with 1 Axes>"
      ]
     },
     "metadata": {
      "needs_background": "light"
     },
     "output_type": "display_data"
    }
   ],
   "source": [
    "sns.distplot(city_prevalence_UK.values())"
   ]
  },
  {
   "cell_type": "code",
   "execution_count": 174,
   "metadata": {
    "ExecuteTime": {
     "end_time": "2019-08-23T10:51:59.555653Z",
     "start_time": "2019-08-23T10:51:59.552551Z"
    },
    "collapsed": true
   },
   "outputs": [],
   "source": [
    "commonWards_UK_borough = set(city_prevalence_UK.keys()).intersection(city_gt_prevalence_UK.keys())"
   ]
  },
  {
   "cell_type": "code",
   "execution_count": 175,
   "metadata": {
    "ExecuteTime": {
     "end_time": "2019-08-23T10:52:55.140420Z",
     "start_time": "2019-08-23T10:52:54.854095Z"
    }
   },
   "outputs": [
    {
     "data": {
      "text/plain": [
       "Text(0,0.5,'BNF prevalence')"
      ]
     },
     "execution_count": 175,
     "metadata": {},
     "output_type": "execute_result"
    },
    {
     "data": {
      "image/png": "[encoded data removed]",
      "text/plain": [
       "<Figure size 432x288 with 1 Axes>"
      ]
     },
     "metadata": {
      "needs_background": "light"
     },
     "output_type": "display_data"
    }
   ],
   "source": [
    "sns.regplot([ city_prevalence_UK[k] for k in commonWards_UK_borough],[city_gt_prevalence_UK[k] for k in commonWards_UK_borough])\n",
    "ax = plt.gca()\n",
    "ax.set_title(\"Comparison between prevalences acquired by BNF and Drugbank drug lists\")\n",
    "ax.set_xlabel(\"Drugbank prevalence\")\n",
    "ax.set_ylabel(\"BNF prevalence\")"
   ]
  },
  {
   "cell_type": "code",
   "execution_count": 176,
   "metadata": {
    "ExecuteTime": {
     "end_time": "2019-08-23T10:52:01.188504Z",
     "start_time": "2019-08-23T10:52:01.181546Z"
    }
   },
   "outputs": [
    {
     "data": {
      "text/plain": [
       "(0.6144469853146018, 1.1917344241114468e-12)"
      ]
     },
     "execution_count": 176,
     "metadata": {},
     "output_type": "execute_result"
    }
   ],
   "source": [
    "pearsonr([ city_prevalence_UK[k] for k in commonWards_UK_borough],[city_gt_prevalence_UK[k] for k in commonWards_UK_borough])"
   ]
  },
  {
   "cell_type": "code",
   "execution_count": 177,
   "metadata": {
    "ExecuteTime": {
     "end_time": "2019-08-22T17:00:26.376936Z",
     "start_time": "2019-08-22T17:00:26.370424Z"
    }
   },
   "outputs": [
    {
     "data": {
      "text/plain": [
       "['psoriasis',\n",
       " \"Meniere's disease\",\n",
       " \"crohn's disease\",\n",
       " 'rheumatoid',\n",
       " 'irritable bowel syndrome',\n",
       " 'parkinson',\n",
       " 'sleep apnea',\n",
       " 'interstitial cystitis',\n",
       " 'bipolar',\n",
       " 'hypothyroidism',\n",
       " 'dementia',\n",
       " 'gastroparesis',\n",
       " 'depression',\n",
       " 'diabetes']"
      ]
     },
     "execution_count": 177,
     "metadata": {},
     "output_type": "execute_result"
    }
   ],
   "source": [
    "LSOA_disease_drug_count.keys()"
   ]
  },
  {
   "cell_type": "code",
   "execution_count": 178,
   "metadata": {
    "ExecuteTime": {
     "end_time": "2019-08-22T17:00:27.506678Z",
     "start_time": "2019-08-22T17:00:26.605149Z"
    }
   },
   "outputs": [
    {
     "name": "stdout",
     "output_type": "stream",
     "text": [
      "Some ward had wrong data\n",
      "Some ward had wrong data\n",
      "Some ward had wrong data\n",
      "Some ward had wrong data\n",
      "Some ward had wrong data\n",
      "Some ward had wrong data\n",
      "Some ward had wrong data\n",
      "Some ward had wrong data\n",
      "Some ward had wrong data\n",
      "Some ward had wrong data\n",
      "Some ward had wrong data\n",
      "Some ward had wrong data\n",
      "Some ward had wrong data\n",
      "Some ward had wrong data\n",
      "Some ward had wrong data\n",
      "Some ward had wrong data\n",
      "Some ward had wrong data\n",
      "Some ward had wrong data\n",
      "Some ward had wrong data\n",
      "Some ward had wrong data\n",
      "Some ward had wrong data\n",
      "Some ward had wrong data\n",
      "Some ward had wrong data\n",
      "Some ward had wrong data\n",
      "Some ward had wrong data\n",
      "Some ward had wrong data\n",
      "Some ward had wrong data\n",
      "Some ward had wrong data\n",
      "Some ward had wrong data\n",
      "Some ward had wrong data\n",
      "Some ward had wrong data\n",
      "Some ward had wrong data\n",
      "Some ward had wrong data\n",
      "Some ward had wrong data\n",
      "Some ward had wrong data\n",
      "Some ward had wrong data\n",
      "Some ward had wrong data\n",
      "Some ward had wrong data\n",
      "Some ward had wrong data\n",
      "Some ward had wrong data\n",
      "Some ward had wrong data\n",
      "Some ward had wrong data\n"
     ]
    }
   ],
   "source": [
    "city_prevalence_UK = {}\n",
    "city_disease_prescription_count = {}\n",
    "city_all_prescription_count = {}\n",
    "for d in LSOA_disease_drug_count:\n",
    "    if d not in city_prevalence_UK:\n",
    "        city_prevalence_UK[d] = {}\n",
    "        city_disease_prescription_count[d] = {}\n",
    "\n",
    "        for k in cityMap:\n",
    "            try:\n",
    "                city_disease_presc = np.sum([LSOA_disease_drug_count[d][w] for w in cityMap[k] if not np.isnan(LSOA_disease_drug_count[d][w])])\n",
    "                if k not in city_all_prescription_count:\n",
    "                    city_all_presc = np.sum([All_drug_count[w] for w in cityMap[k] if not np.isnan(All_drug_count[w])])\n",
    "                    city_all_prescription_count[k] = city_all_presc\n",
    "                city_disease_prescription_count[d][k] = city_disease_presc\n",
    "                city_prevalence_UK[d][k] = float(city_disease_presc)/float(cityPop[k])\n",
    "            except:\n",
    "                print \"Some ward had wrong data\""
   ]
  },
  {
   "cell_type": "code",
   "execution_count": 179,
   "metadata": {
    "ExecuteTime": {
     "end_time": "2019-08-22T17:00:27.512090Z",
     "start_time": "2019-08-22T17:00:27.508323Z"
    }
   },
   "outputs": [
    {
     "data": {
      "text/plain": [
       "['psoriasis',\n",
       " \"Meniere's disease\",\n",
       " \"crohn's disease\",\n",
       " 'gastroparesis',\n",
       " 'irritable bowel syndrome',\n",
       " 'parkinson',\n",
       " 'sleep apnea',\n",
       " 'interstitial cystitis',\n",
       " 'bipolar',\n",
       " 'hypothyroidism',\n",
       " 'dementia',\n",
       " 'rheumatoid',\n",
       " 'depression',\n",
       " 'diabetes']"
      ]
     },
     "execution_count": 179,
     "metadata": {},
     "output_type": "execute_result"
    }
   ],
   "source": [
    "city_prevalence_UK.keys()"
   ]
  },
  {
   "cell_type": "code",
   "execution_count": 180,
   "metadata": {
    "ExecuteTime": {
     "end_time": "2019-08-22T17:00:27.525022Z",
     "start_time": "2019-08-22T17:00:27.513628Z"
    }
   },
   "outputs": [
    {
     "data": {
      "text/plain": [
       "7780565462.782055"
      ]
     },
     "execution_count": 180,
     "metadata": {},
     "output_type": "execute_result"
    }
   ],
   "source": [
    "sum(city_all_prescription_count.values())"
   ]
  },
  {
   "cell_type": "code",
   "execution_count": 79,
   "metadata": {
    "ExecuteTime": {
     "end_time": "2019-08-22T17:00:27.699604Z",
     "start_time": "2019-08-22T17:00:27.696237Z"
    },
    "collapsed": true
   },
   "outputs": [],
   "source": [
    "# borough_disease_prescription_count['diabetes']"
   ]
  },
  {
   "cell_type": "code",
   "execution_count": 181,
   "metadata": {
    "ExecuteTime": {
     "end_time": "2019-08-22T17:00:34.989306Z",
     "start_time": "2019-08-22T17:00:34.985873Z"
    },
    "collapsed": true
   },
   "outputs": [],
   "source": [
    "# borough_prevalence_UK['rheumatoid']"
   ]
  },
  {
   "cell_type": "code",
   "execution_count": 182,
   "metadata": {
    "ExecuteTime": {
     "end_time": "2019-08-22T17:00:35.562386Z",
     "start_time": "2019-08-22T17:00:35.558055Z"
    },
    "collapsed": true
   },
   "outputs": [],
   "source": [
    "FinalDisease_prevalence = {'2016Q1':city_prevalence_UK}\n",
    "with open('Disease_Prevalence_City.json','wb') as f:\n",
    "    json.dump(FinalDisease_prevalence,f)"
   ]
  },
  {
   "cell_type": "code",
   "execution_count": 183,
   "metadata": {},
   "outputs": [
    {
     "data": {
      "text/plain": [
       "{\"Meniere's disease\": {'Barnsley': 0.005823871822539486,\n",
       "  'Basildon': 0.0028201656582697576,\n",
       "  'Basingstoke': 0.001487527975025461,\n",
       "  'Bath': 0.0007832627833162701,\n",
       "  'Bedford': 0.0013271170525029877,\n",
       "  'Birkenhead': 0.0033094600943976075,\n",
       "  'Birmingham': 0.002389716570399248,\n",
       "  'Blackburn': 0.0027164284859945626,\n",
       "  'Blackpool': 0.003957933299368927,\n",
       "  'Bolton': 0.0036424040094668628,\n",
       "  'Bournemouth': 0.001818471170171097,\n",
       "  'Bracknell': 0.0012691698746131247,\n",
       "  'Bradford': 0.0020894000186548276,\n",
       "  'Brighton and Hove': 0.0015223459162123552,\n",
       "  'Bristol': 0.0012299088025097217,\n",
       "  'Burnley': 0.0024730564227927036,\n",
       "  'Burton upon Trent': 0.002615269295709109,\n",
       "  'Bury': 0.0023165532464344326,\n",
       "  'Cambridge': 0.0008868274077191547,\n",
       "  'Carlisle': 0.0017439871972939574,\n",
       "  'Chatham': 0.001956832776649963,\n",
       "  'Chelmsford': 0.0022849353415467055,\n",
       "  'Cheltenham': 0.001312336044509614,\n",
       "  'Chester': 0.002419829877707835,\n",
       "  'Chesterfield': 0.002711636982938368,\n",
       "  'Colchester': 0.0013564411315179238,\n",
       "  'Coventry': 0.0027647451618520403,\n",
       "  'Crawley': 0.0018810067371778012,\n",
       "  'Darlington': 0.00409427388716744,\n",
       "  'Derby': 0.0022537989983851883,\n",
       "  'Doncaster': 0.0027695837400421672,\n",
       "  'Dudley': 0.003033066055793616,\n",
       "  'Eastbourne': 0.004349079124517786,\n",
       "  'Exeter': 0.0014869609832031977,\n",
       "  'Gateshead': 0.0028583436505966514,\n",
       "  'Gillingham': 0.0021512849457139614,\n",
       "  'Gloucester': 0.00159570951603069,\n",
       "  'Grimsby': 0.004794304807000831,\n",
       "  'Guildford': 0.0012523148581605726,\n",
       "  'Halifax': 0.0027463788662798264,\n",
       "  'Harlow': 0.002116638132130174,\n",
       "  'Harrogate': 0.0016377579381283314,\n",
       "  'Hartlepool': 0.0037567407246172253,\n",
       "  'Hastings': 0.0025675913265034433,\n",
       "  'Hemel Hempstead': 0.002174839768863362,\n",
       "  'High Wycombe': 0.0012904140568912388,\n",
       "  'Huddersfield': 0.0018368796808932958,\n",
       "  'Ipswich': 0.0021931095741380352,\n",
       "  'Kingston upon Hull': 0.0027656231963451923,\n",
       "  'Leeds': 0.0019356721325454224,\n",
       "  'Leicester': 0.0017363822546589617,\n",
       "  'Lincoln': 0.0026025757294816138,\n",
       "  'Liverpool': 0.003301685105249654,\n",
       "  'London': 0.0014876990058532858,\n",
       "  'Luton': 0.00250009738106347,\n",
       "  'Maidstone': 0.002290368848987729,\n",
       "  'Manchester': 0.0021055823031819487,\n",
       "  'Mansfield': 0.005869187351039508,\n",
       "  'Middlesbrough': 0.003991859568178315,\n",
       "  'Milton Keynes': 0.0017597752168197055,\n",
       "  'Newcastle upon Tyne': 0.002451232657523017,\n",
       "  'Newcastle-under-Lyme': 0.0035184414423182603,\n",
       "  'Northampton': 0.002899842845001545,\n",
       "  'Norwich': 0.0016914069879614274,\n",
       "  'Nottingham': 0.0014236634758060453,\n",
       "  'Nuneaton': 0.0037797172770327133,\n",
       "  'Oldham': 0.0034828032188326916,\n",
       "  'Oxford': 0.0007342258745822439,\n",
       "  'Peterborough': 0.001251707358252919,\n",
       "  'Plymouth': 0.002214064722731544,\n",
       "  'Poole': 0.0014784464063675325,\n",
       "  'Portsmouth': 0.0013452565352552771,\n",
       "  'Preston': 0.002457287396456042,\n",
       "  'Reading': 0.0011580023199056404,\n",
       "  'Redditch': 0.001931811638662786,\n",
       "  'Rochdale': 0.0035748986907628215,\n",
       "  'Rotherham': 0.003606235227827233,\n",
       "  'Salford': 0.0034751492951058077,\n",
       "  'Scunthorpe': 0.004713443298937495,\n",
       "  'Sheffield': 0.0022623115737411543,\n",
       "  'Shrewsbury': 0.002080379112062235,\n",
       "  'Slough': 0.001306843003198645,\n",
       "  'Solihull': 0.0029621418701004285,\n",
       "  'South Shields': 0.0038640727207225577,\n",
       "  'Southampton': 0.0012147376380491905,\n",
       "  'Southend-on-Sea': 0.002112932091752957,\n",
       "  'Southport': 0.004048760516519036,\n",
       "  'St Albans': 0.001838029862447949,\n",
       "  'St Helens': 0.005280189579583489,\n",
       "  'Stevenage': 0.0019279109595800752,\n",
       "  'Stockport': 0.0024647712878371596,\n",
       "  'Stockton-on-Tees': 0.003060073671309412,\n",
       "  'Stoke-on-Trent': 0.00292555118602784,\n",
       "  'Sunderland': 0.004525671798572629,\n",
       "  'Sutton Coldfield': 0.0017032931758822968,\n",
       "  'Swindon': 0.002329440648959104,\n",
       "  'Telford': 0.0027014430335205205,\n",
       "  'Wakefield': 0.0024342610161445697,\n",
       "  'Walsall': 0.00466441938113223,\n",
       "  'Warrington': 0.0028270222212671585,\n",
       "  'Watford': 0.001374117726338646,\n",
       "  'West Bromwich': 0.0024945829333140935,\n",
       "  'Weston-Super-Mare': 0.002887494852509865,\n",
       "  'Wigan': 0.0036259362003070858,\n",
       "  'Woking': 0.0014611997560075405,\n",
       "  'Wolverhampton': 0.003152244571386609,\n",
       "  'Worcester': 0.002281769185180986,\n",
       "  'Worthing': 0.002546618828543691,\n",
       "  'York': 0.0014150632220690793},\n",
       " 'bipolar': {'Barnsley': 0.011529336528541592,\n",
       "  'Basildon': 0.013571304362896788,\n",
       "  'Basingstoke': 0.012422479745988533,\n",
       "  'Bath': 0.012978619092824372,\n",
       "  'Bedford': 0.008235697937530484,\n",
       "  'Birkenhead': 0.019681669090585933,\n",
       "  'Birmingham': 0.012760832128936535,\n",
       "  'Blackburn': 0.015760859070848347,\n",
       "  'Blackpool': 0.023892050585055138,\n",
       "  'Bolton': 0.01531428800049729,\n",
       "  'Bournemouth': 0.011548681935665965,\n",
       "  'Bracknell': 0.007788045450405974,\n",
       "  'Bradford': 0.01578302749869893,\n",
       "  'Brighton and Hove': 0.021875654938926188,\n",
       "  'Bristol': 0.012849126444528926,\n",
       "  'Burnley': 0.013438985237699052,\n",
       "  'Burton upon Trent': 0.01042576373106598,\n",
       "  'Bury': 0.010962683311278365,\n",
       "  'Cambridge': 0.016216377267111077,\n",
       "  'Carlisle': 0.020843744560227407,\n",
       "  'Chatham': 0.011967559927602841,\n",
       "  'Chelmsford': 0.015479167941482243,\n",
       "  'Cheltenham': 0.01573068653832125,\n",
       "  'Chester': 0.018357745044347316,\n",
       "  'Chesterfield': 0.01637290313367407,\n",
       "  'Colchester': 0.01932396877521761,\n",
       "  'Coventry': 0.014837658608985326,\n",
       "  'Crawley': 0.011210226187577754,\n",
       "  'Darlington': 0.02561103221775666,\n",
       "  'Derby': 0.010415541785728889,\n",
       "  'Doncaster': 0.008110393993811334,\n",
       "  'Dudley': 0.01445500123287095,\n",
       "  'Eastbourne': 0.017618205601123184,\n",
       "  'Exeter': 0.01956827616551015,\n",
       "  'Gateshead': 0.028953196381664718,\n",
       "  'Gillingham': 0.011073629512625645,\n",
       "  'Gloucester': 0.015219924097019003,\n",
       "  'Grimsby': 0.015002458556382967,\n",
       "  'Guildford': 0.010019876539894649,\n",
       "  'Halifax': 0.019606505244316917,\n",
       "  'Harlow': 0.014604299200875165,\n",
       "  'Harrogate': 0.009932469486985956,\n",
       "  'Hartlepool': 0.009875692983283245,\n",
       "  'Hastings': 0.019032633022254504,\n",
       "  'Hemel Hempstead': 0.010951820588721194,\n",
       "  'High Wycombe': 0.010572912118619205,\n",
       "  'Huddersfield': 0.0185868256681494,\n",
       "  'Ipswich': 0.016603815031561057,\n",
       "  'Kingston upon Hull': 0.012568140426443549,\n",
       "  'Leeds': 0.016697154502864454,\n",
       "  'Leicester': 0.012143340393987062,\n",
       "  'Lincoln': 0.01633514169843034,\n",
       "  'Liverpool': 0.022752438889977293,\n",
       "  'London': 0.011374194101177404,\n",
       "  'Luton': 0.010438049912100289,\n",
       "  'Maidstone': 0.01626828762136179,\n",
       "  'Manchester': 0.020687652009491728,\n",
       "  'Mansfield': 0.012912896081268629,\n",
       "  'Middlesbrough': 0.018544875525630274,\n",
       "  'Milton Keynes': 0.00925153407142912,\n",
       "  'Newcastle upon Tyne': 0.02300151764825694,\n",
       "  'Newcastle-under-Lyme': 0.015264189935806919,\n",
       "  'Northampton': 0.02082654039643505,\n",
       "  'Norwich': 0.02295256366837231,\n",
       "  'Nottingham': 0.009490972916331334,\n",
       "  'Nuneaton': 0.013990679198614117,\n",
       "  'Oldham': 0.019932610333159538,\n",
       "  'Oxford': 0.01432106754133608,\n",
       "  'Peterborough': 0.01152961591077319,\n",
       "  'Plymouth': 0.017528851336391867,\n",
       "  'Poole': 0.008798139862708238,\n",
       "  'Portsmouth': 0.015709561830338437,\n",
       "  'Preston': 0.01705564821381625,\n",
       "  'Reading': 0.009983476462104467,\n",
       "  'Redditch': 0.010642143968195962,\n",
       "  'Rochdale': 0.01671775064595583,\n",
       "  'Rotherham': 0.01155171726181665,\n",
       "  'Salford': 0.02588792433203982,\n",
       "  'Scunthorpe': 0.01304826318539134,\n",
       "  'Sheffield': 0.011955326859689898,\n",
       "  'Shrewsbury': 0.012112003536086902,\n",
       "  'Slough': 0.01609391597058312,\n",
       "  'Solihull': 0.010132217033310261,\n",
       "  'South Shields': 0.021420144838172728,\n",
       "  'Southampton': 0.013554022861023068,\n",
       "  'Southend-on-Sea': 0.01275434008132623,\n",
       "  'Southport': 0.02117969900725415,\n",
       "  'St Albans': 0.011552982147877262,\n",
       "  'St Helens': 0.020771348112766954,\n",
       "  'Stevenage': 0.010623601203899798,\n",
       "  'Stockport': 0.015440601057367323,\n",
       "  'Stockton-on-Tees': 0.012974760756834023,\n",
       "  'Stoke-on-Trent': 0.01236650512768957,\n",
       "  'Sunderland': 0.025525495834742798,\n",
       "  'Sutton Coldfield': 0.005663359908958016,\n",
       "  'Swindon': 0.015510073916262374,\n",
       "  'Telford': 0.01135177498958829,\n",
       "  'Wakefield': 0.011866276748844868,\n",
       "  'Walsall': 0.01702352430807312,\n",
       "  'Warrington': 0.01197903708261236,\n",
       "  'Watford': 0.010059309836422866,\n",
       "  'West Bromwich': 0.013694922597636524,\n",
       "  'Weston-Super-Mare': 0.021443796515580607,\n",
       "  'Wigan': 0.018314714594222802,\n",
       "  'Woking': 0.00946235645436092,\n",
       "  'Wolverhampton': 0.015250432061002388,\n",
       "  'Worcester': 0.01741403101439777,\n",
       "  'Worthing': 0.017364218901734788,\n",
       "  'York': 0.009848239301869555},\n",
       " \"crohn's disease\": {'Barnsley': 9.169152183846762e-05,\n",
       "  'Basildon': 7.770967118678803e-05,\n",
       "  'Basingstoke': 0.00015605094108206695,\n",
       "  'Bath': 4.088138246108715e-05,\n",
       "  'Bedford': 4.675471377500123e-05,\n",
       "  'Birkenhead': 5.6528143121436447e-05,\n",
       "  'Birmingham': 3.2507163864712895e-05,\n",
       "  'Blackburn': 5.96248168138721e-05,\n",
       "  'Blackpool': 6.717000806705878e-05,\n",
       "  'Bolton': 5.542981740977936e-05,\n",
       "  'Bournemouth': 0.00016276186560181392,\n",
       "  'Bracknell': 5.786811387908585e-05,\n",
       "  'Bradford': 2.579188308113222e-05,\n",
       "  'Brighton and Hove': 6.191656579679514e-05,\n",
       "  'Bristol': 4.629568389688261e-05,\n",
       "  'Burnley': 8.397322538156233e-05,\n",
       "  'Burton upon Trent': 7.774002766886642e-06,\n",
       "  'Bury': 3.851439670657277e-05,\n",
       "  'Cambridge': 0.00015521797452504337,\n",
       "  'Carlisle': 3.547408763930155e-05,\n",
       "  'Chatham': 0.00012006560449051522,\n",
       "  'Chelmsford': 0.00012659123203651466,\n",
       "  'Cheltenham': 8.776870921395628e-05,\n",
       "  'Chester': 3.36672698892031e-05,\n",
       "  'Chesterfield': 3.650521940777747e-05,\n",
       "  'Colchester': 0.00012745243391343325,\n",
       "  'Coventry': 5.548420498153057e-05,\n",
       "  'Crawley': 5.001342536955206e-05,\n",
       "  'Darlington': 8.527364975389673e-05,\n",
       "  'Derby': 1.4500511102530571e-05,\n",
       "  'Doncaster': 7.925204266399798e-06,\n",
       "  'Dudley': 1.4134883475964926e-05,\n",
       "  'Eastbourne': 0.00013360058764120717,\n",
       "  'Exeter': 0.0002468956822484863,\n",
       "  'Gateshead': 0.00014035419208377803,\n",
       "  'Gillingham': 6.679447040376099e-05,\n",
       "  'Gloucester': 9.218419102733293e-05,\n",
       "  'Grimsby': 5.753347363422122e-05,\n",
       "  'Guildford': 0.0001099263495282203,\n",
       "  'Halifax': 6.455251161216949e-05,\n",
       "  'Harlow': 9.409720399333099e-05,\n",
       "  'Harrogate': 0.00019599545403179176,\n",
       "  'Hartlepool': 2.192680266217991e-05,\n",
       "  'Hastings': 9.927706078548546e-06,\n",
       "  'Hemel Hempstead': 0.00017001352742572243,\n",
       "  'High Wycombe': 7.197175431181251e-05,\n",
       "  'Huddersfield': 3.614715312566701e-05,\n",
       "  'Ipswich': 7.3884595490821e-05,\n",
       "  'Kingston upon Hull': 0.00011966582067376495,\n",
       "  'Leeds': 0.00010712032923071319,\n",
       "  'Leicester': 0.00015156764382073682,\n",
       "  'Lincoln': 0.00014701005016295524,\n",
       "  'Liverpool': 7.524820227789002e-05,\n",
       "  'London': 5.7860770770827864e-05,\n",
       "  'Luton': 0.00010963791050411649,\n",
       "  'Maidstone': 0.0002822469879062143,\n",
       "  'Manchester': 3.834140723546586e-05,\n",
       "  'Mansfield': 0.00010287856332635492,\n",
       "  'Middlesbrough': 0.00015949672538149336,\n",
       "  'Milton Keynes': 5.442569654414868e-05,\n",
       "  'Newcastle upon Tyne': 3.403229553608622e-05,\n",
       "  'Newcastle-under-Lyme': 6.171420465386944e-05,\n",
       "  'Northampton': 0.0001246887746840632,\n",
       "  'Norwich': 0.00015445378695306408,\n",
       "  'Nottingham': 6.90688413082682e-05,\n",
       "  'Nuneaton': 1.2885850130389653e-05,\n",
       "  'Oldham': 3.9094952760623796e-05,\n",
       "  'Oxford': 3.590445278357668e-05,\n",
       "  'Peterborough': 9.077351127848817e-05,\n",
       "  'Plymouth': 8.755232086068578e-05,\n",
       "  'Poole': 0.0004301462182819603,\n",
       "  'Portsmouth': 0.00011747993999295589,\n",
       "  'Preston': 9.590402654370882e-05,\n",
       "  'Reading': 3.555464380456447e-05,\n",
       "  'Redditch': 8.084522235787165e-05,\n",
       "  'Rochdale': 5.304453439871014e-06,\n",
       "  'Rotherham': 9.240118513126192e-05,\n",
       "  'Salford': 2.8995741787356836e-05,\n",
       "  'Scunthorpe': 3.1552333175781997e-07,\n",
       "  'Sheffield': 8.539793873297899e-05,\n",
       "  'Shrewsbury': 3.685944251899641e-05,\n",
       "  'Slough': 6.380591606028517e-05,\n",
       "  'Solihull': 2.695412064903538e-05,\n",
       "  'South Shields': 0.00014214890037622492,\n",
       "  'Southampton': 9.765622865454791e-05,\n",
       "  'Southend-on-Sea': 6.310571814046539e-05,\n",
       "  'Southport': 1.6029066647853893e-08,\n",
       "  'St Albans': 9.806426665181722e-05,\n",
       "  'St Helens': 0.00011868943311793136,\n",
       "  'Stevenage': 0.00012664652297992977,\n",
       "  'Stockport': 3.812968521264338e-05,\n",
       "  'Stockton-on-Tees': 0.00013876912396940718,\n",
       "  'Stoke-on-Trent': 5.518372433434779e-05,\n",
       "  'Sunderland': 0.00010371754233564637,\n",
       "  'Sutton Coldfield': 3.288247387816712e-05,\n",
       "  'Swindon': 7.430339356306656e-05,\n",
       "  'Telford': 2.3772175415116123e-05,\n",
       "  'Wakefield': 0.00019614360906441492,\n",
       "  'Walsall': 2.764766877153977e-05,\n",
       "  'Warrington': 8.295071135486713e-05,\n",
       "  'Watford': 4.777364694615022e-05,\n",
       "  'West Bromwich': 4.601032676699121e-05,\n",
       "  'Weston-Super-Mare': 3.1004577364801154e-05,\n",
       "  'Wigan': 9.246309889099732e-05,\n",
       "  'Woking': 4.5251945275894266e-05,\n",
       "  'Wolverhampton': 5.174237228918237e-05,\n",
       "  'Worcester': 0.00010617244427316695,\n",
       "  'Worthing': 3.492713153714171e-05,\n",
       "  'York': 0.00012178549639836675},\n",
       " 'dementia': {'Barnsley': 0.01456819181705849,\n",
       "  'Basildon': 0.005243191890744985,\n",
       "  'Basingstoke': 0.006699692526135934,\n",
       "  'Bath': 0.007137171687156669,\n",
       "  'Bedford': 0.0059334496872162435,\n",
       "  'Birkenhead': 0.009717201196187327,\n",
       "  'Birmingham': 0.003666377043546676,\n",
       "  'Blackburn': 0.006187608301028393,\n",
       "  'Blackpool': 0.012864013896670195,\n",
       "  'Bolton': 0.009295119800406098,\n",
       "  'Bournemouth': 0.010023741077860568,\n",
       "  'Bracknell': 0.0050118596768135475,\n",
       "  'Bradford': 0.01167599974913865,\n",
       "  'Brighton and Hove': 0.00992764638394546,\n",
       "  'Bristol': 0.008498852438408339,\n",
       "  'Burnley': 0.006465565002176192,\n",
       "  'Burton upon Trent': 0.00550802002207815,\n",
       "  'Bury': 0.006992480874933583,\n",
       "  'Cambridge': 0.008784754516077528,\n",
       "  'Carlisle': 0.009279312205558016,\n",
       "  'Chatham': 0.003997122579434828,\n",
       "  'Chelmsford': 0.005773566816425623,\n",
       "  'Cheltenham': 0.018754281500959265,\n",
       "  'Chester': 0.007072014752687268,\n",
       "  'Chesterfield': 0.011872575659139514,\n",
       "  'Colchester': 0.005367967000803082,\n",
       "  'Coventry': 0.004713614357786591,\n",
       "  'Crawley': 0.007723613001478158,\n",
       "  'Darlington': 0.019060430765908406,\n",
       "  'Derby': 0.007964170528145367,\n",
       "  'Doncaster': 0.009947883762274453,\n",
       "  'Dudley': 0.004944714280014631,\n",
       "  'Eastbourne': 0.007704847094450835,\n",
       "  'Exeter': 0.010252846931606125,\n",
       "  'Gateshead': 0.024449289661271117,\n",
       "  'Gillingham': 0.0035284267179598234,\n",
       "  'Gloucester': 0.00894261871570829,\n",
       "  'Grimsby': 0.010655879064480712,\n",
       "  'Guildford': 0.007480542231784519,\n",
       "  'Halifax': 0.01133754152220601,\n",
       "  'Harlow': 0.007683716407318222,\n",
       "  'Harrogate': 0.009891170472534072,\n",
       "  'Hartlepool': 0.01138456903157612,\n",
       "  'Hastings': 0.0055476708908182544,\n",
       "  'Hemel Hempstead': 0.004740945818129152,\n",
       "  'High Wycombe': 0.004791427802158754,\n",
       "  'Huddersfield': 0.013484254478942232,\n",
       "  'Ipswich': 0.0070122711270199775,\n",
       "  'Kingston upon Hull': 0.006156671514032277,\n",
       "  'Leeds': 0.013548058073617095,\n",
       "  'Leicester': 0.004546348207374472,\n",
       "  'Lincoln': 0.011370276023078739,\n",
       "  'Liverpool': 0.007759813376824769,\n",
       "  'London': 0.007435994197071157,\n",
       "  'Luton': 0.005456181633411816,\n",
       "  'Maidstone': 0.007005143486677775,\n",
       "  'Manchester': 0.008049087432032545,\n",
       "  'Mansfield': 0.009142247949832571,\n",
       "  'Middlesbrough': 0.010245629847707972,\n",
       "  'Milton Keynes': 0.00631371273263696,\n",
       "  'Newcastle upon Tyne': 0.021224988266443097,\n",
       "  'Newcastle-under-Lyme': 0.012996583925898695,\n",
       "  'Northampton': 0.011525755772919992,\n",
       "  'Norwich': 0.01063016902114899,\n",
       "  'Nottingham': 0.007260770232634984,\n",
       "  'Nuneaton': 0.006451271999305894,\n",
       "  'Oldham': 0.011782549485527321,\n",
       "  'Oxford': 0.010808911139644831,\n",
       "  'Peterborough': 0.006601338724201443,\n",
       "  'Plymouth': 0.010906515000927285,\n",
       "  'Poole': 0.007943720538619688,\n",
       "  'Portsmouth': 0.00909735412894425,\n",
       "  'Preston': 0.00808007869544357,\n",
       "  'Reading': 0.005474012957399322,\n",
       "  'Redditch': 0.006728993230413499,\n",
       "  'Rochdale': 0.009137385094979895,\n",
       "  'Rotherham': 0.01209051656166074,\n",
       "  'Salford': 0.014661630423491381,\n",
       "  'Scunthorpe': 0.009735770452662712,\n",
       "  'Sheffield': 0.015088600904823966,\n",
       "  'Shrewsbury': 0.007458571202469028,\n",
       "  'Slough': 0.00721632791359974,\n",
       "  'Solihull': 0.0021766460967166568,\n",
       "  'South Shields': 0.02363454083782956,\n",
       "  'Southampton': 0.007367556757446025,\n",
       "  'Southend-on-Sea': 0.007595010506474484,\n",
       "  'Southport': 0.012750866106571165,\n",
       "  'St Albans': 0.005011710702354717,\n",
       "  'St Helens': 0.009426851019525723,\n",
       "  'Stevenage': 0.006691780352977028,\n",
       "  'Stockport': 0.010176041821650375,\n",
       "  'Stockton-on-Tees': 0.009249193344773787,\n",
       "  'Stoke-on-Trent': 0.00775327922269697,\n",
       "  'Sunderland': 0.021321159797069014,\n",
       "  'Sutton Coldfield': 0.001995156597254905,\n",
       "  'Swindon': 0.006436504464520657,\n",
       "  'Telford': 0.006222884041830967,\n",
       "  'Wakefield': 0.008239388553135092,\n",
       "  'Walsall': 0.006340328531635638,\n",
       "  'Warrington': 0.005685872234144081,\n",
       "  'Watford': 0.0039093952583429846,\n",
       "  'West Bromwich': 0.006109349047125632,\n",
       "  'Weston-Super-Mare': 0.014431339924016589,\n",
       "  'Wigan': 0.008770242259958908,\n",
       "  'Woking': 0.00803103263094976,\n",
       "  'Wolverhampton': 0.007145252637946875,\n",
       "  'Worcester': 0.005993370699205763,\n",
       "  'Worthing': 0.011940750296057054,\n",
       "  'York': 0.006056229213381358},\n",
       " 'depression': {'Barnsley': 0.09681992827419761,\n",
       "  'Basildon': 0.07494696920223902,\n",
       "  'Basingstoke': 0.05468708420353803,\n",
       "  'Bath': 0.05066056381587927,\n",
       "  'Bedford': 0.03348797820332159,\n",
       "  'Birkenhead': 0.09568125222873837,\n",
       "  'Birmingham': 0.04886068026263602,\n",
       "  'Blackburn': 0.06863514856817794,\n",
       "  'Blackpool': 0.10767931899540924,\n",
       "  'Bolton': 0.06654713365219497,\n",
       "  'Bournemouth': 0.05627709091373719,\n",
       "  'Bracknell': 0.04626042948854352,\n",
       "  'Bradford': 0.06461857702155357,\n",
       "  'Brighton and Hove': 0.05748651244879622,\n",
       "  'Bristol': 0.05853659100492829,\n",
       "  'Burnley': 0.06809403441265977,\n",
       "  'Burton upon Trent': 0.0616161505551591,\n",
       "  'Bury': 0.05103204417559185,\n",
       "  'Cambridge': 0.05748208900774292,\n",
       "  'Carlisle': 0.06015022459190468,\n",
       "  'Chatham': 0.058174512831629846,\n",
       "  'Chelmsford': 0.06865940682232259,\n",
       "  'Cheltenham': 0.07374045360959817,\n",
       "  'Chester': 0.06318697555590819,\n",
       "  'Chesterfield': 0.08212722942282263,\n",
       "  'Colchester': 0.06850490229549659,\n",
       "  'Coventry': 0.05735444032911497,\n",
       "  'Crawley': 0.05050305691609985,\n",
       "  'Darlington': 0.08428955271048671,\n",
       "  'Derby': 0.05006195987144473,\n",
       "  'Doncaster': 0.082760663833731,\n",
       "  'Dudley': 0.06290229124926086,\n",
       "  'Eastbourne': 0.07281801059663287,\n",
       "  'Exeter': 0.07800390083767877,\n",
       "  'Gateshead': 0.11400153733470426,\n",
       "  'Gillingham': 0.056060328501710395,\n",
       "  'Gloucester': 0.06419899409290732,\n",
       "  'Grimsby': 0.07359475078442843,\n",
       "  'Guildford': 0.04583172913013553,\n",
       "  'Halifax': 0.08093577224169772,\n",
       "  'Harlow': 0.06810647669609826,\n",
       "  'Harrogate': 0.057634089811865366,\n",
       "  'Hartlepool': 0.07423618312029627,\n",
       "  'Hastings': 0.06824597309942233,\n",
       "  'Hemel Hempstead': 0.05274902189196601,\n",
       "  'High Wycombe': 0.0422711006364603,\n",
       "  'Huddersfield': 0.06401302777214385,\n",
       "  'Ipswich': 0.07844828945426677,\n",
       "  'Kingston upon Hull': 0.06152618439528983,\n",
       "  'Leeds': 0.06930344020680926,\n",
       "  'Leicester': 0.058294965092336046,\n",
       "  'Lincoln': 0.07403245721654877,\n",
       "  'Liverpool': 0.08477732404123643,\n",
       "  'London': 0.03861240877757954,\n",
       "  'Luton': 0.040207406162843504,\n",
       "  'Maidstone': 0.06756531183267757,\n",
       "  'Manchester': 0.06601189019001949,\n",
       "  'Mansfield': 0.08967048336787639,\n",
       "  'Middlesbrough': 0.08859025404724395,\n",
       "  'Milton Keynes': 0.05081647068867953,\n",
       "  'Newcastle upon Tyne': 0.09687893955778681,\n",
       "  'Newcastle-under-Lyme': 0.07620438154410009,\n",
       "  'Northampton': 0.08869603016399473,\n",
       "  'Norwich': 0.08979976884102409,\n",
       "  'Nottingham': 0.05665310825931455,\n",
       "  'Nuneaton': 0.072351707202231,\n",
       "  'Oldham': 0.07590516418997453,\n",
       "  'Oxford': 0.05123061809344749,\n",
       "  'Peterborough': 0.05929424160738137,\n",
       "  'Plymouth': 0.06744310819151957,\n",
       "  'Poole': 0.0555512529686611,\n",
       "  'Portsmouth': 0.06259319048318958,\n",
       "  'Preston': 0.06663473470072631,\n",
       "  'Reading': 0.042177942581265775,\n",
       "  'Redditch': 0.05046945790585389,\n",
       "  'Rochdale': 0.07655689917090189,\n",
       "  'Rotherham': 0.08268563826093757,\n",
       "  'Salford': 0.09106154125311006,\n",
       "  'Scunthorpe': 0.08398251321520984,\n",
       "  'Sheffield': 0.07192860329981478,\n",
       "  'Shrewsbury': 0.05529944553608753,\n",
       "  'Slough': 0.04673955377510762,\n",
       "  'Solihull': 0.051277546022078194,\n",
       "  'South Shields': 0.09522197952248945,\n",
       "  'Southampton': 0.05378668195320334,\n",
       "  'Southend-on-Sea': 0.05667288318464834,\n",
       "  'Southport': 0.07688925596157423,\n",
       "  'St Albans': 0.04466592595090346,\n",
       "  'St Helens': 0.08859756186206788,\n",
       "  'Stevenage': 0.0628216301971435,\n",
       "  'Stockport': 0.06543994208381006,\n",
       "  'Stockton-on-Tees': 0.07820173704363827,\n",
       "  'Stoke-on-Trent': 0.07410583468520522,\n",
       "  'Sunderland': 0.10737106214945798,\n",
       "  'Sutton Coldfield': 0.02631678005158541,\n",
       "  'Swindon': 0.06919601724316221,\n",
       "  'Telford': 0.047171261077403805,\n",
       "  'Wakefield': 0.06482372561973776,\n",
       "  'Walsall': 0.050433561572813715,\n",
       "  'Warrington': 0.06724672980329423,\n",
       "  'Watford': 0.03847418130746611,\n",
       "  'West Bromwich': 0.049773630124667186,\n",
       "  'Weston-Super-Mare': 0.09442592860177376,\n",
       "  'Wigan': 0.07652760748641138,\n",
       "  'Woking': 0.04038208368592799,\n",
       "  'Wolverhampton': 0.056136084414186806,\n",
       "  'Worcester': 0.066014793425784,\n",
       "  'Worthing': 0.058457006317057796,\n",
       "  'York': 0.056725541761946226},\n",
       " 'diabetes': {'Barnsley': 0.07008726840880525,\n",
       "  'Basildon': 0.06320716939217247,\n",
       "  'Basingstoke': 0.03924600423911088,\n",
       "  'Bath': 0.03420115981946305,\n",
       "  'Bedford': 0.041062437543314775,\n",
       "  'Birkenhead': 0.05665799920808027,\n",
       "  'Birmingham': 0.06803219109638106,\n",
       "  'Blackburn': 0.07769465988003187,\n",
       "  'Blackpool': 0.07753341180890441,\n",
       "  'Bolton': 0.0756836460546099,\n",
       "  'Bournemouth': 0.037123665931982665,\n",
       "  'Bracknell': 0.04293429611501579,\n",
       "  'Bradford': 0.08350554334874676,\n",
       "  'Brighton and Hove': 0.034332206618835605,\n",
       "  'Bristol': 0.047969678811838175,\n",
       "  'Burnley': 0.05867525645944206,\n",
       "  'Burton upon Trent': 0.0633103574221877,\n",
       "  'Bury': 0.047777222052940826,\n",
       "  'Cambridge': 0.034175396950813446,\n",
       "  'Carlisle': 0.03256813819053824,\n",
       "  'Chatham': 0.05369060769955405,\n",
       "  'Chelmsford': 0.04141891473604771,\n",
       "  'Cheltenham': 0.04590774767766073,\n",
       "  'Chester': 0.04444025797756131,\n",
       "  'Chesterfield': 0.04610691045132983,\n",
       "  'Colchester': 0.04449401359862662,\n",
       "  'Coventry': 0.06665086406266069,\n",
       "  'Crawley': 0.05992091314559475,\n",
       "  'Darlington': 0.06307839490447656,\n",
       "  'Derby': 0.039613094937802365,\n",
       "  'Doncaster': 0.07509095317683623,\n",
       "  'Dudley': 0.06123500621665934,\n",
       "  'Eastbourne': 0.058640182067446346,\n",
       "  'Exeter': 0.05258405630806252,\n",
       "  'Gateshead': 0.07262109317204761,\n",
       "  'Gillingham': 0.05648864158634733,\n",
       "  'Gloucester': 0.048584329668281745,\n",
       "  'Grimsby': 0.06293055630638447,\n",
       "  'Guildford': 0.0333776425962053,\n",
       "  'Halifax': 0.0798005354836292,\n",
       "  'Harlow': 0.06766503556213281,\n",
       "  'Harrogate': 0.04244523891593555,\n",
       "  'Hartlepool': 0.0421083124414612,\n",
       "  'Hastings': 0.05259580120917484,\n",
       "  'Hemel Hempstead': 0.04793149676682897,\n",
       "  'High Wycombe': 0.050393704806000715,\n",
       "  'Huddersfield': 0.06555034971160298,\n",
       "  'Ipswich': 0.04619231548332972,\n",
       "  'Kingston upon Hull': 0.05333021784682167,\n",
       "  'Leeds': 0.061258390570315985,\n",
       "  'Leicester': 0.08715093154971688,\n",
       "  'Lincoln': 0.055404099892286465,\n",
       "  'Liverpool': 0.06166581301608414,\n",
       "  'London': 0.061019435104198216,\n",
       "  'Luton': 0.06134457320677217,\n",
       "  'Maidstone': 0.0600053310180256,\n",
       "  'Manchester': 0.07213662565725577,\n",
       "  'Mansfield': 0.06688114085855335,\n",
       "  'Middlesbrough': 0.058142333499060825,\n",
       "  'Milton Keynes': 0.043788661884609704,\n",
       "  'Newcastle upon Tyne': 0.06285568025239047,\n",
       "  'Newcastle-under-Lyme': 0.07682656782850021,\n",
       "  'Northampton': 0.0695939072871707,\n",
       "  'Norwich': 0.04452834535492306,\n",
       "  'Nottingham': 0.044032831106177665,\n",
       "  'Nuneaton': 0.08492697082994137,\n",
       "  'Oldham': 0.0977660994946096,\n",
       "  'Oxford': 0.039839405833020126,\n",
       "  'Peterborough': 0.0599554642663921,\n",
       "  'Plymouth': 0.04597940771919271,\n",
       "  'Poole': 0.04235156681230934,\n",
       "  'Portsmouth': 0.038713237587782647,\n",
       "  'Preston': 0.0703688322276862,\n",
       "  'Reading': 0.041369622065385935,\n",
       "  'Redditch': 0.0458285652276662,\n",
       "  'Rochdale': 0.07843213090255674,\n",
       "  'Rotherham': 0.0651788486567752,\n",
       "  'Salford': 0.07474308650408731,\n",
       "  'Scunthorpe': 0.07249770341149855,\n",
       "  'Sheffield': 0.06116604192387156,\n",
       "  'Shrewsbury': 0.04130217113198047,\n",
       "  'Slough': 0.09275856269845485,\n",
       "  'Solihull': 0.04920402889895823,\n",
       "  'South Shields': 0.0611445526339194,\n",
       "  'Southampton': 0.03680637732140414,\n",
       "  'Southend-on-Sea': 0.0435797965919034,\n",
       "  'Southport': 0.06507748515538578,\n",
       "  'St Albans': 0.03647787218601335,\n",
       "  'St Helens': 0.06095760222167606,\n",
       "  'Stevenage': 0.060050040164005454,\n",
       "  'Stockport': 0.049453918964994376,\n",
       "  'Stockton-on-Tees': 0.053750244400406696,\n",
       "  'Stoke-on-Trent': 0.07329978180312435,\n",
       "  'Sunderland': 0.07126608713974936,\n",
       "  'Sutton Coldfield': 0.028482160159767723,\n",
       "  'Swindon': 0.070272992879796,\n",
       "  'Telford': 0.03990619684607959,\n",
       "  'Wakefield': 0.052009842884083494,\n",
       "  'Walsall': 0.0720093989297003,\n",
       "  'Warrington': 0.05253987574061176,\n",
       "  'Watford': 0.04370474848912715,\n",
       "  'West Bromwich': 0.07495874235894295,\n",
       "  'Weston-Super-Mare': 0.06043259472671747,\n",
       "  'Wigan': 0.058296179894437146,\n",
       "  'Woking': 0.03837181443342249,\n",
       "  'Wolverhampton': 0.06778156609103951,\n",
       "  'Worcester': 0.04736440472642261,\n",
       "  'Worthing': 0.046437191387773906,\n",
       "  'York': 0.034691397383092515},\n",
       " 'gastroparesis': {'Barnsley': 0.0039051500169005686,\n",
       "  'Basildon': 0.0059546763974731715,\n",
       "  'Basingstoke': 0.003305271246157037,\n",
       "  'Bath': 0.002562586495400694,\n",
       "  'Bedford': 0.002658735976554385,\n",
       "  'Birkenhead': 0.004304461232879444,\n",
       "  'Birmingham': 0.003660746530406669,\n",
       "  'Blackburn': 0.0036794229459496514,\n",
       "  'Blackpool': 0.005422825296761648,\n",
       "  'Bolton': 0.003947718480662208,\n",
       "  'Bournemouth': 0.003309380309917887,\n",
       "  'Bracknell': 0.002854689654486039,\n",
       "  'Bradford': 0.004246601285697879,\n",
       "  'Brighton and Hove': 0.003457376428050732,\n",
       "  'Bristol': 0.002677089443293134,\n",
       "  'Burnley': 0.002981000334635523,\n",
       "  'Burton upon Trent': 0.003940059177879298,\n",
       "  'Bury': 0.0025123033735189636,\n",
       "  'Cambridge': 0.0032619258785822574,\n",
       "  'Carlisle': 0.0021186416309237847,\n",
       "  'Chatham': 0.003798806536225754,\n",
       "  'Chelmsford': 0.004077140158618164,\n",
       "  'Cheltenham': 0.002112665584432325,\n",
       "  'Chester': 0.00244235204352308,\n",
       "  'Chesterfield': 0.0026952893400454597,\n",
       "  'Colchester': 0.004275658315069111,\n",
       "  'Coventry': 0.003253891364732255,\n",
       "  'Crawley': 0.003976274015227407,\n",
       "  'Darlington': 0.004188047890554954,\n",
       "  'Derby': 0.00254124487721355,\n",
       "  'Doncaster': 0.004965100133107337,\n",
       "  'Dudley': 0.003647527572253216,\n",
       "  'Eastbourne': 0.004900201828922534,\n",
       "  'Exeter': 0.003705698511339195,\n",
       "  'Gateshead': 0.0030346339131140034,\n",
       "  'Gillingham': 0.0034736963085740384,\n",
       "  'Gloucester': 0.002221728558443493,\n",
       "  'Grimsby': 0.004779570963014389,\n",
       "  'Guildford': 0.0022410077248621683,\n",
       "  'Halifax': 0.004630355233970074,\n",
       "  'Harlow': 0.004262569308477515,\n",
       "  'Harrogate': 0.002591523940205486,\n",
       "  'Hartlepool': 0.0022539269493839307,\n",
       "  'Hastings': 0.005726302641257958,\n",
       "  'Hemel Hempstead': 0.003864948362597047,\n",
       "  'High Wycombe': 0.002686995067544445,\n",
       "  'Huddersfield': 0.004613553040630512,\n",
       "  'Ipswich': 0.00314576243403155,\n",
       "  'Kingston upon Hull': 0.004013747976462237,\n",
       "  'Leeds': 0.003438199861800122,\n",
       "  'Leicester': 0.0027900976655155004,\n",
       "  'Lincoln': 0.0031277331437688464,\n",
       "  'Liverpool': 0.00312471607835277,\n",
       "  'London': 0.0029703054618466116,\n",
       "  'Luton': 0.004030337615682661,\n",
       "  'Maidstone': 0.004063413532752707,\n",
       "  'Manchester': 0.0036615136467847515,\n",
       "  'Mansfield': 0.0032266014925834956,\n",
       "  'Middlesbrough': 0.005229289967505879,\n",
       "  'Milton Keynes': 0.00291866328061992,\n",
       "  'Newcastle upon Tyne': 0.004286362681596802,\n",
       "  'Newcastle-under-Lyme': 0.0036702713750528955,\n",
       "  'Northampton': 0.0046392098684971865,\n",
       "  'Norwich': 0.003696560681413938,\n",
       "  'Nottingham': 0.002192081659388311,\n",
       "  'Nuneaton': 0.003765143697032359,\n",
       "  'Oldham': 0.006098240087222995,\n",
       "  'Oxford': 0.0027387985026583552,\n",
       "  'Peterborough': 0.0029226165418222857,\n",
       "  'Plymouth': 0.003633062540763975,\n",
       "  'Poole': 0.0038575392513358116,\n",
       "  'Portsmouth': 0.0040931966458767535,\n",
       "  'Preston': 0.0031611266553875726,\n",
       "  'Reading': 0.0030314753630047166,\n",
       "  'Redditch': 0.002192180129874502,\n",
       "  'Rochdale': 0.005121586221846434,\n",
       "  'Rotherham': 0.0037665731875625194,\n",
       "  'Salford': 0.005577253010198801,\n",
       "  'Scunthorpe': 0.0038682281408410255,\n",
       "  'Sheffield': 0.0028677114985113305,\n",
       "  'Shrewsbury': 0.002946825258601004,\n",
       "  'Slough': 0.005722405600685743,\n",
       "  'Solihull': 0.003179656050367884,\n",
       "  'South Shields': 0.0036341042360137172,\n",
       "  'Southampton': 0.0030447574905600847,\n",
       "  'Southend-on-Sea': 0.004122839014415801,\n",
       "  'Southport': 0.0030634836995499675,\n",
       "  'St Albans': 0.003020511775050638,\n",
       "  'St Helens': 0.002298305185107376,\n",
       "  'Stevenage': 0.0032273057786945574,\n",
       "  'Stockport': 0.002995266273064373,\n",
       "  'Stockton-on-Tees': 0.0027389717534988486,\n",
       "  'Stoke-on-Trent': 0.003440773691121428,\n",
       "  'Sunderland': 0.0038236384428510443,\n",
       "  'Sutton Coldfield': 0.0020646279352362815,\n",
       "  'Swindon': 0.0032119878759126023,\n",
       "  'Telford': 0.0032441110569208817,\n",
       "  'Wakefield': 0.002844905946477246,\n",
       "  'Walsall': 0.003431599098145186,\n",
       "  'Warrington': 0.0023267609967654594,\n",
       "  'Watford': 0.002507639367841433,\n",
       "  'West Bromwich': 0.0035552195258099603,\n",
       "  'Weston-Super-Mare': 0.004638518190166416,\n",
       "  'Wigan': 0.0039319538472138505,\n",
       "  'Woking': 0.0032807858920104144,\n",
       "  'Wolverhampton': 0.0037675200553070236,\n",
       "  'Worcester': 0.004191883241399961,\n",
       "  'Worthing': 0.0035989084367847213,\n",
       "  'York': 0.002727066486664411},\n",
       " 'hypothyroidism': {'Barnsley': 0.05331541816322518,\n",
       "  'Basildon': 0.05754202919789444,\n",
       "  'Basingstoke': 0.03185840812275564,\n",
       "  'Bath': 0.035748025445041416,\n",
       "  'Bedford': 0.026531621490790823,\n",
       "  'Birkenhead': 0.04189472217932244,\n",
       "  'Birmingham': 0.029888401768922577,\n",
       "  'Blackburn': 0.03667193657471547,\n",
       "  'Blackpool': 0.05193222857555889,\n",
       "  'Bolton': 0.04199270705184457,\n",
       "  'Bournemouth': 0.027661688438121917,\n",
       "  'Bracknell': 0.03550856101364815,\n",
       "  'Bradford': 0.03469095891459315,\n",
       "  'Brighton and Hove': 0.035258935291519515,\n",
       "  'Bristol': 0.03547997785465128,\n",
       "  'Burnley': 0.0331202328486985,\n",
       "  'Burton upon Trent': 0.04102950914121562,\n",
       "  'Bury': 0.028688319963864967,\n",
       "  'Cambridge': 0.029373303179733072,\n",
       "  'Carlisle': 0.035362000426628654,\n",
       "  'Chatham': 0.033274279640638726,\n",
       "  'Chelmsford': 0.04156259997904493,\n",
       "  'Cheltenham': 0.04648229582002124,\n",
       "  'Chester': 0.03494764984362345,\n",
       "  'Chesterfield': 0.04160150010886752,\n",
       "  'Colchester': 0.059031693839059235,\n",
       "  'Coventry': 0.04058739738743777,\n",
       "  'Crawley': 0.05684846819651128,\n",
       "  'Darlington': 0.04409584913857333,\n",
       "  'Derby': 0.027056399329658552,\n",
       "  'Doncaster': 0.041700515492286615,\n",
       "  'Dudley': 0.03729514622471372,\n",
       "  'Eastbourne': 0.052882123965701786,\n",
       "  'Exeter': 0.047969426770294685,\n",
       "  'Gateshead': 0.0583667984125567,\n",
       "  'Gillingham': 0.03821375539226307,\n",
       "  'Gloucester': 0.035733610437212404,\n",
       "  'Grimsby': 0.0437914741182407,\n",
       "  'Guildford': 0.0298384332703639,\n",
       "  'Halifax': 0.059635534138702366,\n",
       "  'Harlow': 0.04849078049716353,\n",
       "  'Harrogate': 0.04567557604099873,\n",
       "  'Hartlepool': 0.042560004618771664,\n",
       "  'Hastings': 0.038239652520712944,\n",
       "  'Hemel Hempstead': 0.03619092697643951,\n",
       "  'High Wycombe': 0.026178075469265257,\n",
       "  'Huddersfield': 0.04798792562643901,\n",
       "  'Ipswich': 0.037982570807710114,\n",
       "  'Kingston upon Hull': 0.03837307505017542,\n",
       "  'Leeds': 0.035887228718904575,\n",
       "  'Leicester': 0.04150937963983265,\n",
       "  'Lincoln': 0.03635079784067217,\n",
       "  'Liverpool': 0.038232356929967154,\n",
       "  'London': 0.030022856256589438,\n",
       "  'Luton': 0.025551025067964705,\n",
       "  'Maidstone': 0.059716089748644834,\n",
       "  'Manchester': 0.030283833804229634,\n",
       "  'Mansfield': 0.051932028337658274,\n",
       "  'Middlesbrough': 0.057452817287989316,\n",
       "  'Milton Keynes': 0.022641178034991032,\n",
       "  'Newcastle upon Tyne': 0.05187130480138153,\n",
       "  'Newcastle-under-Lyme': 0.0444467049897147,\n",
       "  'Northampton': 0.049998825264755645,\n",
       "  'Norwich': 0.04120244307674783,\n",
       "  'Nottingham': 0.02566714375582946,\n",
       "  'Nuneaton': 0.07307594187407804,\n",
       "  'Oldham': 0.03480433054611702,\n",
       "  'Oxford': 0.024536161785162554,\n",
       "  'Peterborough': 0.045826748285313745,\n",
       "  'Plymouth': 0.03680517128633773,\n",
       "  'Poole': 0.03109059376684828,\n",
       "  'Portsmouth': 0.02435283982247178,\n",
       "  'Preston': 0.03845471491964932,\n",
       "  'Reading': 0.036489218373383786,\n",
       "  'Redditch': 0.038630049176302646,\n",
       "  'Rochdale': 0.025729913422778302,\n",
       "  'Rotherham': 0.04281336189818079,\n",
       "  'Salford': 0.044817825024871145,\n",
       "  'Scunthorpe': 0.05155931957203371,\n",
       "  'Sheffield': 0.05082548204231048,\n",
       "  'Shrewsbury': 0.028953691029599243,\n",
       "  'Slough': 0.04691895845989126,\n",
       "  'Solihull': 0.04317324887506014,\n",
       "  'South Shields': 0.06427085246744323,\n",
       "  'Southampton': 0.02126530324429589,\n",
       "  'Southend-on-Sea': 0.03989321491027224,\n",
       "  'Southport': 0.05767899216585569,\n",
       "  'St Albans': 0.03169385124369495,\n",
       "  'St Helens': 0.04331270113789657,\n",
       "  'Stevenage': 0.04317262185883076,\n",
       "  'Stockport': 0.03844968300817047,\n",
       "  'Stockton-on-Tees': 0.04360067547938418,\n",
       "  'Stoke-on-Trent': 0.03653811685372741,\n",
       "  'Sunderland': 0.0697650010556111,\n",
       "  'Sutton Coldfield': 0.01954538540987724,\n",
       "  'Swindon': 0.03390685181168428,\n",
       "  'Telford': 0.022500395803547516,\n",
       "  'Wakefield': 0.037344262496964827,\n",
       "  'Walsall': 0.034487070256459876,\n",
       "  'Warrington': 0.02908797771053658,\n",
       "  'Watford': 0.03233393828980682,\n",
       "  'West Bromwich': 0.034982914733471974,\n",
       "  'Weston-Super-Mare': 0.050198703566486674,\n",
       "  'Wigan': 0.044519563106562986,\n",
       "  'Woking': 0.03435217387996477,\n",
       "  'Wolverhampton': 0.04122760422191196,\n",
       "  'Worcester': 0.04138760864675772,\n",
       "  'Worthing': 0.042929739424149606,\n",
       "  'York': 0.039497719862343995},\n",
       " 'interstitial cystitis': {'Barnsley': 0.0,\n",
       "  'Basildon': 7.314315365849894e-07,\n",
       "  'Basingstoke': 0.0,\n",
       "  'Bath': 0.0,\n",
       "  'Bedford': 5.3107138722805875e-06,\n",
       "  'Birkenhead': 4.94527166751e-09,\n",
       "  'Birmingham': 0.0,\n",
       "  'Blackburn': 0.0,\n",
       "  'Blackpool': 0.0,\n",
       "  'Bolton': 0.0,\n",
       "  'Bournemouth': 9.744842610844323e-08,\n",
       "  'Bracknell': 1.2201020193046002e-05,\n",
       "  'Bradford': 2.7990487226593213e-06,\n",
       "  'Brighton and Hove': 0.0,\n",
       "  'Bristol': 2.631925756225319e-10,\n",
       "  'Burnley': 1.0413569844554394e-09,\n",
       "  'Burton upon Trent': 2.83327995305131e-08,\n",
       "  'Bury': 0.0,\n",
       "  'Cambridge': 0.0,\n",
       "  'Carlisle': 0.0,\n",
       "  'Chatham': 0.0,\n",
       "  'Chelmsford': 1.0152362725747463e-08,\n",
       "  'Cheltenham': 0.0,\n",
       "  'Chester': 0.0,\n",
       "  'Chesterfield': 0.0,\n",
       "  'Colchester': 9.9693912999797e-09,\n",
       "  'Coventry': 0.0,\n",
       "  'Crawley': 6.813170828061213e-08,\n",
       "  'Darlington': 0.0,\n",
       "  'Derby': 3.786124581706969e-10,\n",
       "  'Doncaster': 0.0,\n",
       "  'Dudley': 0.0,\n",
       "  'Eastbourne': 0.0,\n",
       "  'Exeter': 0.0,\n",
       "  'Gateshead': 0.0,\n",
       "  'Gillingham': 1.7620157512349794e-09,\n",
       "  'Gloucester': 0.0,\n",
       "  'Grimsby': 0.0,\n",
       "  'Guildford': 1.163048130263763e-09,\n",
       "  'Halifax': 4.656504288425087e-08,\n",
       "  'Harlow': 0.0,\n",
       "  'Harrogate': 0.0,\n",
       "  'Hartlepool': 0.0,\n",
       "  'Hastings': 0.0,\n",
       "  'Hemel Hempstead': 2.4828739883779033e-09,\n",
       "  'High Wycombe': 0.0,\n",
       "  'Huddersfield': 0.0,\n",
       "  'Ipswich': 3.3625911483841235e-08,\n",
       "  'Kingston upon Hull': 3.2226695923556545e-10,\n",
       "  'Leeds': 2.087023052265172e-06,\n",
       "  'Leicester': 7.144358019383629e-09,\n",
       "  'Lincoln': 0.0,\n",
       "  'Liverpool': 5.408157239046056e-06,\n",
       "  'London': 1.2857149520873855e-06,\n",
       "  'Luton': 0.0,\n",
       "  'Maidstone': 1.8157537183664605e-05,\n",
       "  'Manchester': 2.2571857899565914e-09,\n",
       "  'Mansfield': 0.0,\n",
       "  'Middlesbrough': 0.0,\n",
       "  'Milton Keynes': 0.0,\n",
       "  'Newcastle upon Tyne': 0.0,\n",
       "  'Newcastle-under-Lyme': 0.0,\n",
       "  'Northampton': 0.0,\n",
       "  'Norwich': 0.0,\n",
       "  'Nottingham': 0.0,\n",
       "  'Nuneaton': 0.0,\n",
       "  'Oldham': 0.0,\n",
       "  'Oxford': 1.220003009412918e-09,\n",
       "  'Peterborough': 2.248122176753656e-09,\n",
       "  'Plymouth': 0.0,\n",
       "  'Poole': 3.7386365063803184e-06,\n",
       "  'Portsmouth': 1.3174048502604641e-08,\n",
       "  'Preston': 0.0,\n",
       "  'Reading': 4.17249112664569e-09,\n",
       "  'Redditch': 0.0,\n",
       "  'Rochdale': 8.447316851294743e-10,\n",
       "  'Rotherham': 0.0,\n",
       "  'Salford': 0.0,\n",
       "  'Scunthorpe': 0.0,\n",
       "  'Sheffield': 0.0,\n",
       "  'Shrewsbury': 0.0,\n",
       "  'Slough': 2.4355903573845974e-09,\n",
       "  'Solihull': 0.0,\n",
       "  'South Shields': 4.074274745686215e-09,\n",
       "  'Southampton': 1.15100655179019e-07,\n",
       "  'Southend-on-Sea': 5.685179431587265e-06,\n",
       "  'Southport': 0.0,\n",
       "  'St Albans': 0.0,\n",
       "  'St Helens': 0.0,\n",
       "  'Stevenage': 0.0,\n",
       "  'Stockport': 8.965641762792281e-06,\n",
       "  'Stockton-on-Tees': 0.0,\n",
       "  'Stoke-on-Trent': 9.608555722442715e-10,\n",
       "  'Sunderland': 5.592715135182258e-06,\n",
       "  'Sutton Coldfield': 4.6013067333815654e-09,\n",
       "  'Swindon': 5.2430960769906105e-06,\n",
       "  'Telford': 0.0,\n",
       "  'Wakefield': 0.0,\n",
       "  'Walsall': 0.0,\n",
       "  'Warrington': 1.8253508904416677e-09,\n",
       "  'Watford': 7.291374387654615e-08,\n",
       "  'West Bromwich': 0.0,\n",
       "  'Weston-Super-Mare': 0.0,\n",
       "  'Wigan': 0.0,\n",
       "  'Woking': 0.0,\n",
       "  'Wolverhampton': 0.0,\n",
       "  'Worcester': 0.0,\n",
       "  'Worthing': 0.0,\n",
       "  'York': 0.0},\n",
       " 'irritable bowel syndrome': {'Barnsley': 0.004818215907222951,\n",
       "  'Basildon': 0.0023627104927075792,\n",
       "  'Basingstoke': 0.003448510378016326,\n",
       "  'Bath': 0.0021287707147643773,\n",
       "  'Bedford': 0.0011521872499960176,\n",
       "  'Birkenhead': 0.0033308490314143346,\n",
       "  'Birmingham': 0.0021014385483323446,\n",
       "  'Blackburn': 0.002727238019561158,\n",
       "  'Blackpool': 0.006889394237938667,\n",
       "  'Bolton': 0.004064876653317318,\n",
       "  'Bournemouth': 0.0019782442233484423,\n",
       "  'Bracknell': 0.0018906132484456958,\n",
       "  'Bradford': 0.002865023257473252,\n",
       "  'Brighton and Hove': 0.001674971023190466,\n",
       "  'Bristol': 0.0025932689408811557,\n",
       "  'Burnley': 0.0034094981324205025,\n",
       "  'Burton upon Trent': 0.003417737015128671,\n",
       "  'Bury': 0.002651794009034789,\n",
       "  'Cambridge': 0.0025223880316399866,\n",
       "  'Carlisle': 0.003893786025516143,\n",
       "  'Chatham': 0.0029874894185713367,\n",
       "  'Chelmsford': 0.0032619791386667043,\n",
       "  'Cheltenham': 0.002819643781764706,\n",
       "  'Chester': 0.002818697968122356,\n",
       "  'Chesterfield': 0.0033102221999325204,\n",
       "  'Colchester': 0.004450681917966365,\n",
       "  'Coventry': 0.0021694380263169825,\n",
       "  'Crawley': 0.002411726749877098,\n",
       "  'Darlington': 0.0023045668385652984,\n",
       "  'Derby': 0.0028359652808045924,\n",
       "  'Doncaster': 0.003818669563395661,\n",
       "  'Dudley': 0.0025020201327447867,\n",
       "  'Eastbourne': 0.0023804995373658895,\n",
       "  'Exeter': 0.0026130370587321627,\n",
       "  'Gateshead': 0.005787065099837514,\n",
       "  'Gillingham': 0.0034348061500467184,\n",
       "  'Gloucester': 0.0017031449417619553,\n",
       "  'Grimsby': 0.002042333356691859,\n",
       "  'Guildford': 0.0018465075104102094,\n",
       "  'Halifax': 0.0028224485984880616,\n",
       "  'Harlow': 0.003590117502182282,\n",
       "  'Harrogate': 0.0024145569733455535,\n",
       "  'Hartlepool': 0.0029271328937736114,\n",
       "  'Hastings': 0.001919031128798117,\n",
       "  'Hemel Hempstead': 0.0028238695509805035,\n",
       "  'High Wycombe': 0.0017391991233068934,\n",
       "  'Huddersfield': 0.002240222562014001,\n",
       "  'Ipswich': 0.0028989135902757215,\n",
       "  'Kingston upon Hull': 0.002577095906301551,\n",
       "  'Leeds': 0.0028430828506009914,\n",
       "  'Leicester': 0.0029262640500973508,\n",
       "  'Lincoln': 0.002552912019349051,\n",
       "  'Liverpool': 0.003905905569796721,\n",
       "  'London': 0.00199358589736849,\n",
       "  'Luton': 0.0014887628032133158,\n",
       "  'Maidstone': 0.003897866609531083,\n",
       "  'Manchester': 0.0038914000420104894,\n",
       "  'Mansfield': 0.003945742978718601,\n",
       "  'Middlesbrough': 0.004466677341132631,\n",
       "  'Milton Keynes': 0.0015417001734450981,\n",
       "  'Newcastle upon Tyne': 0.0035935085479666534,\n",
       "  'Newcastle-under-Lyme': 0.005370790780261804,\n",
       "  'Northampton': 0.0038671864751504636,\n",
       "  'Norwich': 0.003224204252934461,\n",
       "  'Nottingham': 0.002304253937840238,\n",
       "  'Nuneaton': 0.003119518416971767,\n",
       "  'Oldham': 0.005153904110694212,\n",
       "  'Oxford': 0.00203677780629092,\n",
       "  'Peterborough': 0.0024810021055085537,\n",
       "  'Plymouth': 0.0024233152525916578,\n",
       "  'Poole': 0.0016030403902009631,\n",
       "  'Portsmouth': 0.002550752886526035,\n",
       "  'Preston': 0.004950410567804188,\n",
       "  'Reading': 0.0033496372694480302,\n",
       "  'Redditch': 0.0019590573538568862,\n",
       "  'Rochdale': 0.006408169758139576,\n",
       "  'Rotherham': 0.0031111001015595315,\n",
       "  'Salford': 0.005662520317845981,\n",
       "  'Scunthorpe': 0.002387210442143249,\n",
       "  'Sheffield': 0.0032668405582549536,\n",
       "  'Shrewsbury': 0.0016990007460087277,\n",
       "  'Slough': 0.003266121006656916,\n",
       "  'Solihull': 0.002472907390393322,\n",
       "  'South Shields': 0.0033099650308617643,\n",
       "  'Southampton': 0.002389138167406233,\n",
       "  'Southend-on-Sea': 0.003507603903505835,\n",
       "  'Southport': 0.003449194439266986,\n",
       "  'St Albans': 0.0023506028130041785,\n",
       "  'St Helens': 0.004319888947327276,\n",
       "  'Stevenage': 0.0026426117891540203,\n",
       "  'Stockport': 0.003392891598201643,\n",
       "  'Stockton-on-Tees': 0.0025426261999762874,\n",
       "  'Stoke-on-Trent': 0.004458506010300794,\n",
       "  'Sunderland': 0.005755108781528635,\n",
       "  'Sutton Coldfield': 0.0014609137042844301,\n",
       "  'Swindon': 0.002783886957061667,\n",
       "  'Telford': 0.0011797999753881182,\n",
       "  'Wakefield': 0.0022810820431837585,\n",
       "  'Walsall': 0.002003189654008604,\n",
       "  'Warrington': 0.0027819990907115033,\n",
       "  'Watford': 0.002126587995533309,\n",
       "  'West Bromwich': 0.0023243117071650252,\n",
       "  'Weston-Super-Mare': 0.0038439600290687964,\n",
       "  'Wigan': 0.0041688721612512065,\n",
       "  'Woking': 0.00213107150065923,\n",
       "  'Wolverhampton': 0.0022816174490028276,\n",
       "  'Worcester': 0.003100606288268132,\n",
       "  'Worthing': 0.002604209435241263,\n",
       "  'York': 0.0018775599888345002},\n",
       " 'parkinson': {'Barnsley': 0.004525807697337987,\n",
       "  'Basildon': 0.0028401625814541355,\n",
       "  'Basingstoke': 0.003394281169825832,\n",
       "  'Bath': 0.0029070244735260203,\n",
       "  'Bedford': 0.0019462898022424206,\n",
       "  'Birkenhead': 0.003934308507073265,\n",
       "  'Birmingham': 0.00273404307658682,\n",
       "  'Blackburn': 0.003151399268570638,\n",
       "  'Blackpool': 0.006114696347598527,\n",
       "  'Bolton': 0.004209073431305202,\n",
       "  'Bournemouth': 0.0032530564463802147,\n",
       "  'Bracknell': 0.0015430317417059144,\n",
       "  'Bradford': 0.003721258556421221,\n",
       "  'Brighton and Hove': 0.003206652324407438,\n",
       "  'Bristol': 0.0027855980105601693,\n",
       "  'Burnley': 0.0029826434937617876,\n",
       "  'Burton upon Trent': 0.0029190373170030204,\n",
       "  'Bury': 0.0027083434956733207,\n",
       "  'Cambridge': 0.002627215566001718,\n",
       "  'Carlisle': 0.0027877518078982715,\n",
       "  'Chatham': 0.0025793705986034885,\n",
       "  'Chelmsford': 0.0030144492533460436,\n",
       "  'Cheltenham': 0.0028241613486317306,\n",
       "  'Chester': 0.003116161026612985,\n",
       "  'Chesterfield': 0.003186029070235906,\n",
       "  'Colchester': 0.0030803927901069585,\n",
       "  'Coventry': 0.003273646178584808,\n",
       "  'Crawley': 0.002455895447566045,\n",
       "  'Darlington': 0.0048476025388112555,\n",
       "  'Derby': 0.002963150624802705,\n",
       "  'Doncaster': 0.0030375455103244606,\n",
       "  'Dudley': 0.00387419848042345,\n",
       "  'Eastbourne': 0.0040786132369768306,\n",
       "  'Exeter': 0.003713189247197442,\n",
       "  'Gateshead': 0.005528068289121203,\n",
       "  'Gillingham': 0.0032708761160965276,\n",
       "  'Gloucester': 0.003219449791628691,\n",
       "  'Grimsby': 0.004922222064784737,\n",
       "  'Guildford': 0.002284499416251691,\n",
       "  'Halifax': 0.003959746539321415,\n",
       "  'Harlow': 0.0035757081685792442,\n",
       "  'Harrogate': 0.0030525830979307557,\n",
       "  'Hartlepool': 0.0027853879755370325,\n",
       "  'Hastings': 0.003229227056088039,\n",
       "  'Hemel Hempstead': 0.0035926283080788064,\n",
       "  'High Wycombe': 0.001525614355204072,\n",
       "  'Huddersfield': 0.004298004159652412,\n",
       "  'Ipswich': 0.0044712169554675,\n",
       "  'Kingston upon Hull': 0.0032383648728652207,\n",
       "  'Leeds': 0.0050884468419197075,\n",
       "  'Leicester': 0.003197332018938367,\n",
       "  'Lincoln': 0.0034731671873286015,\n",
       "  'Liverpool': 0.004064298619855491,\n",
       "  'London': 0.0028654249605925327,\n",
       "  'Luton': 0.0027627479160328328,\n",
       "  'Maidstone': 0.003226063693641114,\n",
       "  'Manchester': 0.0038509203498963834,\n",
       "  'Mansfield': 0.004419236228666566,\n",
       "  'Middlesbrough': 0.0031210918163826888,\n",
       "  'Milton Keynes': 0.0015870575848110579,\n",
       "  'Newcastle upon Tyne': 0.004874655181635705,\n",
       "  'Newcastle-under-Lyme': 0.0028706486124354964,\n",
       "  'Northampton': 0.0036218295623078605,\n",
       "  'Norwich': 0.0045867881474009236,\n",
       "  'Nottingham': 0.0018370583649137224,\n",
       "  'Nuneaton': 0.0032334770558157706,\n",
       "  'Oldham': 0.003859749832273772,\n",
       "  'Oxford': 0.002211688491026884,\n",
       "  'Peterborough': 0.0022100084001598764,\n",
       "  'Plymouth': 0.0026560261748336,\n",
       "  'Poole': 0.001803209573067301,\n",
       "  'Portsmouth': 0.002445932802589717,\n",
       "  'Preston': 0.0034623318829589194,\n",
       "  'Reading': 0.0017248874385765618,\n",
       "  'Redditch': 0.0029642591033120433,\n",
       "  'Rochdale': 0.003932216000738742,\n",
       "  'Rotherham': 0.003355817418059755,\n",
       "  'Salford': 0.0049506252877524895,\n",
       "  'Scunthorpe': 0.0033481962986052043,\n",
       "  'Sheffield': 0.0029892577442677823,\n",
       "  'Shrewsbury': 0.003252533602942675,\n",
       "  'Slough': 0.0030548296358055022,\n",
       "  'Solihull': 0.0030015540229903583,\n",
       "  'South Shields': 0.004030779972741182,\n",
       "  'Southampton': 0.002755779581042614,\n",
       "  'Southend-on-Sea': 0.002729271186542032,\n",
       "  'Southport': 0.005440416862082675,\n",
       "  'St Albans': 0.0038119033960210017,\n",
       "  'St Helens': 0.0042230217253888674,\n",
       "  'Stevenage': 0.002676340860651662,\n",
       "  'Stockport': 0.003160201474144155,\n",
       "  'Stockton-on-Tees': 0.0028066036797820024,\n",
       "  'Stoke-on-Trent': 0.002854658146444771,\n",
       "  'Sunderland': 0.0038413179101836246,\n",
       "  'Sutton Coldfield': 0.0015790947687996046,\n",
       "  'Swindon': 0.0038652504846195396,\n",
       "  'Telford': 0.0022481901580892753,\n",
       "  'Wakefield': 0.0026375603557874786,\n",
       "  'Walsall': 0.004709795184256767,\n",
       "  'Warrington': 0.0033385598429770537,\n",
       "  'Watford': 0.00258515859826275,\n",
       "  'West Bromwich': 0.003160764122003633,\n",
       "  'Weston-Super-Mare': 0.00479050362142928,\n",
       "  'Wigan': 0.0039153870397765364,\n",
       "  'Woking': 0.0025708331958496653,\n",
       "  'Wolverhampton': 0.004436955605442243,\n",
       "  'Worcester': 0.0031593239229254265,\n",
       "  'Worthing': 0.002527393877660868,\n",
       "  'York': 0.002974226292995895},\n",
       " 'psoriasis': {'Barnsley': 0.004219813644133149,\n",
       "  'Basildon': 0.0037806210285520024,\n",
       "  'Basingstoke': 0.002112639277563242,\n",
       "  'Bath': 0.0022251946641686695,\n",
       "  'Bedford': 0.0029490351342212834,\n",
       "  'Birkenhead': 0.006913108802327834,\n",
       "  'Birmingham': 0.005156845690223742,\n",
       "  'Blackburn': 0.005298286021846481,\n",
       "  'Blackpool': 0.005084848252611153,\n",
       "  'Bolton': 0.004923784937455214,\n",
       "  'Bournemouth': 0.002974489843253261,\n",
       "  'Bracknell': 0.0030363791628224513,\n",
       "  'Bradford': 0.005449743192324424,\n",
       "  'Brighton and Hove': 0.002822399098032159,\n",
       "  'Bristol': 0.002934193399621297,\n",
       "  'Burnley': 0.004166961027449848,\n",
       "  'Burton upon Trent': 0.0037597558401294404,\n",
       "  'Bury': 0.0030255185921816584,\n",
       "  'Cambridge': 0.002704583268586168,\n",
       "  'Carlisle': 0.00352498986906953,\n",
       "  'Chatham': 0.0026216912889789872,\n",
       "  'Chelmsford': 0.0034075510559779367,\n",
       "  'Cheltenham': 0.0034191498179286556,\n",
       "  'Chester': 0.004541912141971721,\n",
       "  'Chesterfield': 0.0046702592742978504,\n",
       "  'Colchester': 0.0028484032655165105,\n",
       "  'Coventry': 0.003939210509010978,\n",
       "  'Crawley': 0.004590480468981488,\n",
       "  'Darlington': 0.004771160197655909,\n",
       "  'Derby': 0.0033814489842022484,\n",
       "  'Doncaster': 0.0051448444104068925,\n",
       "  'Dudley': 0.00417307152244442,\n",
       "  'Eastbourne': 0.004438216998439683,\n",
       "  'Exeter': 0.003920754745208204,\n",
       "  'Gateshead': 0.004504443452596281,\n",
       "  'Gillingham': 0.002399152499069556,\n",
       "  'Gloucester': 0.0032928426236834185,\n",
       "  'Grimsby': 0.003426783163498238,\n",
       "  'Guildford': 0.0023679165028442977,\n",
       "  'Halifax': 0.005173859762077839,\n",
       "  'Harlow': 0.0035480147314695286,\n",
       "  'Harrogate': 0.0039183341714749565,\n",
       "  'Hartlepool': 0.0041697877861643345,\n",
       "  'Hastings': 0.0024394639942681207,\n",
       "  'Hemel Hempstead': 0.003737158649257265,\n",
       "  'High Wycombe': 0.0034284779866526516,\n",
       "  'Huddersfield': 0.004082176834494426,\n",
       "  'Ipswich': 0.0027826214018525563,\n",
       "  'Kingston upon Hull': 0.0038499596768122053,\n",
       "  'Leeds': 0.004734668109187648,\n",
       "  'Leicester': 0.005436197344326684,\n",
       "  'Lincoln': 0.0032815109045815126,\n",
       "  'Liverpool': 0.006419585509780577,\n",
       "  'London': 0.003415056477005241,\n",
       "  'Luton': 0.003719862004989153,\n",
       "  'Maidstone': 0.002805296543681845,\n",
       "  'Manchester': 0.004592981322874783,\n",
       "  'Mansfield': 0.005225929842067434,\n",
       "  'Middlesbrough': 0.006450408865113942,\n",
       "  'Milton Keynes': 0.003148525421348475,\n",
       "  'Newcastle upon Tyne': 0.004543617267859238,\n",
       "  'Newcastle-under-Lyme': 0.004350000996752285,\n",
       "  'Northampton': 0.00452176909905172,\n",
       "  'Norwich': 0.0033913487133330664,\n",
       "  'Nottingham': 0.0037194092121824313,\n",
       "  'Nuneaton': 0.0042978989420985065,\n",
       "  'Oldham': 0.0050149486622194355,\n",
       "  'Oxford': 0.002934198168004498,\n",
       "  'Peterborough': 0.003997131005853858,\n",
       "  'Plymouth': 0.0031411861668020733,\n",
       "  'Poole': 0.0030609607367273386,\n",
       "  'Portsmouth': 0.003079719463060558,\n",
       "  'Preston': 0.003859900823109668,\n",
       "  'Reading': 0.0029470635350048527,\n",
       "  'Redditch': 0.003042893620604686,\n",
       "  'Rochdale': 0.005711971097726361,\n",
       "  'Rotherham': 0.005906579676265873,\n",
       "  'Salford': 0.0051410625846577615,\n",
       "  'Scunthorpe': 0.003985780893546796,\n",
       "  'Sheffield': 0.0046353929959384345,\n",
       "  'Shrewsbury': 0.0031211726840247047,\n",
       "  'Slough': 0.0038307933290052413,\n",
       "  'Solihull': 0.004671627053742326,\n",
       "  'South Shields': 0.004737953197312453,\n",
       "  'Southampton': 0.0032930769190266987,\n",
       "  'Southend-on-Sea': 0.0033199964682043095,\n",
       "  'Southport': 0.004732314590354382,\n",
       "  'St Albans': 0.0032354010653652234,\n",
       "  'St Helens': 0.00593332928551195,\n",
       "  'Stevenage': 0.003847041738606957,\n",
       "  'Stockport': 0.003751165758706962,\n",
       "  'Stockton-on-Tees': 0.005368464953482621,\n",
       "  'Stoke-on-Trent': 0.004430210929534655,\n",
       "  'Sunderland': 0.005360096769841584,\n",
       "  'Sutton Coldfield': 0.003112091370333995,\n",
       "  'Swindon': 0.0031396771075935226,\n",
       "  'Telford': 0.0028856474419377116,\n",
       "  'Wakefield': 0.00396797474318161,\n",
       "  'Walsall': 0.005315685227919908,\n",
       "  'Warrington': 0.004557086345310641,\n",
       "  'Watford': 0.0026183625255221895,\n",
       "  'West Bromwich': 0.004626089445527241,\n",
       "  'Weston-Super-Mare': 0.002650540984241578,\n",
       "  'Wigan': 0.004587998329625852,\n",
       "  'Woking': 0.002822836704527663,\n",
       "  'Wolverhampton': 0.0038094987456837705,\n",
       "  'Worcester': 0.003198985262338055,\n",
       "  'Worthing': 0.002969589240288913,\n",
       "  'York': 0.0033216342154097868},\n",
       " 'rheumatoid': {'Barnsley': 0.0796438286492291,\n",
       "  'Basildon': 0.06408128168765255,\n",
       "  'Basingstoke': 0.04829342246007477,\n",
       "  'Bath': 0.04809477806167533,\n",
       "  'Bedford': 0.04589321231196221,\n",
       "  'Birkenhead': 0.07771388144664078,\n",
       "  'Birmingham': 0.07121690597226672,\n",
       "  'Blackburn': 0.07571203432373531,\n",
       "  'Blackpool': 0.08425753814852695,\n",
       "  'Bolton': 0.07157968488458104,\n",
       "  'Bournemouth': 0.06372049756487971,\n",
       "  'Bracknell': 0.04558737069005125,\n",
       "  'Bradford': 0.07641834325196195,\n",
       "  'Brighton and Hove': 0.04294663181723591,\n",
       "  'Bristol': 0.05482332945273411,\n",
       "  'Burnley': 0.07575996965978186,\n",
       "  'Burton upon Trent': 0.06699907356287209,\n",
       "  'Bury': 0.053500403045763305,\n",
       "  'Cambridge': 0.05116369005870829,\n",
       "  'Carlisle': 0.05305839304019999,\n",
       "  'Chatham': 0.04811640496129949,\n",
       "  'Chelmsford': 0.05903009291340055,\n",
       "  'Cheltenham': 0.05904610131884718,\n",
       "  'Chester': 0.07009214300131233,\n",
       "  'Chesterfield': 0.07102418221184834,\n",
       "  'Colchester': 0.056077117570927544,\n",
       "  'Coventry': 0.06194183101158496,\n",
       "  'Crawley': 0.0605677456662516,\n",
       "  'Darlington': 0.06844699697052503,\n",
       "  'Derby': 0.059936729512261165,\n",
       "  'Doncaster': 0.07835135132859525,\n",
       "  'Dudley': 0.07417276692494226,\n",
       "  'Eastbourne': 0.07700421519417586,\n",
       "  'Exeter': 0.05873861353979076,\n",
       "  'Gateshead': 0.08522291414023764,\n",
       "  'Gillingham': 0.049571037019895695,\n",
       "  'Gloucester': 0.058393053263081446,\n",
       "  'Grimsby': 0.06457425549890058,\n",
       "  'Guildford': 0.04332877275745502,\n",
       "  'Halifax': 0.08958821506211162,\n",
       "  'Harlow': 0.062100386136333896,\n",
       "  'Harrogate': 0.06853084172126685,\n",
       "  'Hartlepool': 0.05745989182787756,\n",
       "  'Hastings': 0.056690224368512045,\n",
       "  'Hemel Hempstead': 0.07055700762337935,\n",
       "  'High Wycombe': 0.057487320199985176,\n",
       "  'Huddersfield': 0.07665999631351145,\n",
       "  'Ipswich': 0.05934320246391682,\n",
       "  'Kingston upon Hull': 0.05853339768564398,\n",
       "  'Leeds': 0.06932779389872423,\n",
       "  'Leicester': 0.06961242546643065,\n",
       "  'Lincoln': 0.059415426649359226,\n",
       "  'Liverpool': 0.07164627552427996,\n",
       "  'London': 0.049880781817800056,\n",
       "  'Luton': 0.06145786848860142,\n",
       "  'Maidstone': 0.062353672070996326,\n",
       "  'Manchester': 0.06815768028687787,\n",
       "  'Mansfield': 0.07640790922382647,\n",
       "  'Middlesbrough': 0.08474491396766735,\n",
       "  'Milton Keynes': 0.05535971281743093,\n",
       "  'Newcastle upon Tyne': 0.0706178544650078,\n",
       "  'Newcastle-under-Lyme': 0.07035215670933567,\n",
       "  'Northampton': 0.07359239913052959,\n",
       "  'Norwich': 0.06750652589615354,\n",
       "  'Nottingham': 0.05284199706533156,\n",
       "  'Nuneaton': 0.08017127586929416,\n",
       "  'Oldham': 0.09712412811992162,\n",
       "  'Oxford': 0.04795180637003157,\n",
       "  'Peterborough': 0.060918111043754074,\n",
       "  'Plymouth': 0.06187925807833512,\n",
       "  'Poole': 0.06717819229711962,\n",
       "  'Portsmouth': 0.05009706142454761,\n",
       "  'Preston': 0.062040843948341924,\n",
       "  'Reading': 0.050572295521549945,\n",
       "  'Redditch': 0.06016622824794067,\n",
       "  'Rochdale': 0.10302659469177083,\n",
       "  'Rotherham': 0.0723289009673221,\n",
       "  'Salford': 0.067462135619931,\n",
       "  'Scunthorpe': 0.07212139442812088,\n",
       "  'Sheffield': 0.06900143575634624,\n",
       "  'Shrewsbury': 0.05656337511081534,\n",
       "  'Slough': 0.061087759297814175,\n",
       "  'Solihull': 0.06460637188050587,\n",
       "  'South Shields': 0.07835440420346648,\n",
       "  'Southampton': 0.04744140828592276,\n",
       "  'Southend-on-Sea': 0.0542235923199467,\n",
       "  'Southport': 0.08125808208071064,\n",
       "  'St Albans': 0.053250129907530766,\n",
       "  'St Helens': 0.08289362129282088,\n",
       "  'Stevenage': 0.06114887955489311,\n",
       "  'Stockport': 0.06289338348590405,\n",
       "  'Stockton-on-Tees': 0.07403749786657436,\n",
       "  'Stoke-on-Trent': 0.06621940268848168,\n",
       "  'Sunderland': 0.07354405112980432,\n",
       "  'Sutton Coldfield': 0.041442199940313514,\n",
       "  'Swindon': 0.05789640509877754,\n",
       "  'Telford': 0.049437024753552515,\n",
       "  'Wakefield': 0.06560684194900404,\n",
       "  'Walsall': 0.07611651037072333,\n",
       "  'Warrington': 0.06911376106420013,\n",
       "  'Watford': 0.04836295469019466,\n",
       "  'West Bromwich': 0.06438971846896505,\n",
       "  'Weston-Super-Mare': 0.0790256344662959,\n",
       "  'Wigan': 0.08117927441451288,\n",
       "  'Woking': 0.0482085096248651,\n",
       "  'Wolverhampton': 0.06868743484483433,\n",
       "  'Worcester': 0.06843395042048275,\n",
       "  'Worthing': 0.06255419480234979,\n",
       "  'York': 0.0526602984634476},\n",
       " 'sleep apnea': {'Barnsley': 0.00016947023284693085,\n",
       "  'Basildon': 0.00019702717785896094,\n",
       "  'Basingstoke': 0.00010890699277903233,\n",
       "  'Bath': 0.00010011007144070376,\n",
       "  'Bedford': 0.00010637046778287873,\n",
       "  'Birkenhead': 0.0001506740246842854,\n",
       "  'Birmingham': 4.65876055288491e-05,\n",
       "  'Blackburn': 0.00010140413270714144,\n",
       "  'Blackpool': 9.17514780713476e-05,\n",
       "  'Bolton': 4.9310631912995645e-05,\n",
       "  'Bournemouth': 7.067859320062892e-05,\n",
       "  'Bracknell': 3.781630359807704e-05,\n",
       "  'Bradford': 5.663633067282982e-05,\n",
       "  'Brighton and Hove': 8.750465077647318e-05,\n",
       "  'Bristol': 1.423083221804416e-05,\n",
       "  'Burnley': 0.00014209512406136558,\n",
       "  'Burton upon Trent': 0.0001229623078829844,\n",
       "  'Bury': 5.819544423176731e-05,\n",
       "  'Cambridge': 0.00012301169997282796,\n",
       "  'Carlisle': 3.628289973645532e-05,\n",
       "  'Chatham': 0.00011619343795075081,\n",
       "  'Chelmsford': 0.00023601334438627116,\n",
       "  'Cheltenham': 8.965117383090579e-05,\n",
       "  'Chester': 4.167737119579927e-05,\n",
       "  'Chesterfield': 0.00012264848436287676,\n",
       "  'Colchester': 0.0001158011348013062,\n",
       "  'Coventry': 9.651062715682494e-05,\n",
       "  'Crawley': 0.0001270089545513111,\n",
       "  'Darlington': 0.0005231888040544892,\n",
       "  'Derby': 8.885883075531425e-05,\n",
       "  'Doncaster': 1.6126312886497725e-05,\n",
       "  'Dudley': 4.3653643696014904e-05,\n",
       "  'Eastbourne': 0.00010397944587651682,\n",
       "  'Exeter': 0.00010820954414921316,\n",
       "  'Gateshead': 0.00022668505184538965,\n",
       "  'Gillingham': 0.00016469104707876782,\n",
       "  'Gloucester': 8.566905544751722e-05,\n",
       "  'Grimsby': 0.0001021618309626972,\n",
       "  'Guildford': 0.0001545413914102177,\n",
       "  'Halifax': 8.839486964884558e-05,\n",
       "  'Harlow': 0.00014350403652040072,\n",
       "  'Harrogate': 0.0001583806483859113,\n",
       "  'Hartlepool': 0.00011998931488795725,\n",
       "  'Hastings': 0.00016291654238817586,\n",
       "  'Hemel Hempstead': 0.00010207994281069614,\n",
       "  'High Wycombe': 3.324460146434672e-05,\n",
       "  'Huddersfield': 8.425210498164281e-05,\n",
       "  'Ipswich': 0.0001773445054249291,\n",
       "  'Kingston upon Hull': 6.659740424964352e-05,\n",
       "  'Leeds': 0.0001135958657536546,\n",
       "  'Leicester': 7.69170855392936e-05,\n",
       "  'Lincoln': 6.248810936794049e-05,\n",
       "  'Liverpool': 8.662600340438399e-05,\n",
       "  'London': 0.00010184882680397243,\n",
       "  'Luton': 3.6888815903773624e-05,\n",
       "  'Maidstone': 0.00027124588587949756,\n",
       "  'Manchester': 9.13210999368616e-05,\n",
       "  'Mansfield': 0.00010733043342442683,\n",
       "  'Middlesbrough': 6.823870946553589e-05,\n",
       "  'Milton Keynes': 5.6386463525634764e-05,\n",
       "  'Newcastle upon Tyne': 0.0001672385274476416,\n",
       "  'Newcastle-under-Lyme': 0.00014805881934595972,\n",
       "  'Northampton': 0.00011089854941976987,\n",
       "  'Norwich': 0.00017328417952989838,\n",
       "  'Nottingham': 7.84245442843809e-05,\n",
       "  'Nuneaton': 6.760463923530562e-05,\n",
       "  'Oldham': 0.00011295088591980001,\n",
       "  'Oxford': 6.0181690081740244e-05,\n",
       "  'Peterborough': 5.2874920086358945e-05,\n",
       "  'Plymouth': 4.440858257376168e-05,\n",
       "  'Poole': 2.83619411085038e-05,\n",
       "  'Portsmouth': 4.377279755655914e-05,\n",
       "  'Preston': 0.00011402688616780092,\n",
       "  'Reading': 9.255144559960243e-05,\n",
       "  'Redditch': 5.667658049721778e-05,\n",
       "  'Rochdale': 7.768635403782624e-05,\n",
       "  'Rotherham': 6.894978232270153e-05,\n",
       "  'Salford': 9.073401198559061e-05,\n",
       "  'Scunthorpe': 0.00010040754090914776,\n",
       "  'Sheffield': 0.00010043555034533298,\n",
       "  'Shrewsbury': 3.856147103649236e-05,\n",
       "  'Slough': 3.754379218054552e-05,\n",
       "  'Solihull': 2.8430719909581374e-05,\n",
       "  'South Shields': 0.00020270464943692855,\n",
       "  'Southampton': 8.532832778585326e-05,\n",
       "  'Southend-on-Sea': 0.00013958186940284486,\n",
       "  'Southport': 0.00013929858285964238,\n",
       "  'St Albans': 7.522196878705447e-05,\n",
       "  'St Helens': 7.037856287975958e-05,\n",
       "  'Stevenage': 6.321458669969075e-05,\n",
       "  'Stockport': 8.384372752894837e-05,\n",
       "  'Stockton-on-Tees': 0.00013456059557452425,\n",
       "  'Stoke-on-Trent': 5.716957943320579e-05,\n",
       "  'Sunderland': 0.0001539230034956718,\n",
       "  'Sutton Coldfield': 2.97669073774801e-05,\n",
       "  'Swindon': 0.000180204544872518,\n",
       "  'Telford': 4.984078294923909e-05,\n",
       "  'Wakefield': 5.390879885956874e-05,\n",
       "  'Walsall': 2.9583482009100173e-05,\n",
       "  'Warrington': 7.377987977121299e-05,\n",
       "  'Watford': 4.7941555559019016e-05,\n",
       "  'West Bromwich': 1.789251016974252e-06,\n",
       "  'Weston-Super-Mare': 3.2176268197643044e-08,\n",
       "  'Wigan': 7.527422109825126e-05,\n",
       "  'Woking': 0.00010726227958686037,\n",
       "  'Wolverhampton': 9.895907339495057e-05,\n",
       "  'Worcester': 0.00014289717954330908,\n",
       "  'Worthing': 0.00012045481899017778,\n",
       "  'York': 5.4201747171778405e-05}}"
      ]
     },
     "execution_count": 183,
     "metadata": {},
     "output_type": "execute_result"
    }
   ],
   "source": [
    "city_prevalence_UK"
   ]
  },
  {
   "cell_type": "code",
   "execution_count": 185,
   "metadata": {
    "ExecuteTime": {
     "end_time": "2019-08-22T17:00:36.102114Z",
     "start_time": "2019-08-22T17:00:36.058313Z"
    },
    "collapsed": true
   },
   "outputs": [],
   "source": [
    "symptomList= pd.read_csv(\"../BL_Work/Dis_sym_edited.csv\")\n",
    "symptomList.head()\n",
    "normId = {}\n",
    "for index , row in symptomList.iterrows():\n",
    "    normId[row['norm_UID'].strip().lower()] = row['UID']"
   ]
  },
  {
   "cell_type": "code",
   "execution_count": 189,
   "metadata": {
    "ExecuteTime": {
     "end_time": "2019-08-22T17:00:38.852509Z",
     "start_time": "2019-08-22T17:00:37.370803Z"
    },
    "scrolled": true
   },
   "outputs": [
    {
     "name": "stdout",
     "output_type": "stream",
     "text": [
      "Some ward had wrong data\n",
      "Some ward had wrong data\n",
      "Some ward had wrong data\n",
      "Some ward had wrong data\n",
      "Some ward had wrong data\n",
      "Some ward had wrong data\n",
      "Some ward had wrong data\n",
      "Some ward had wrong data\n",
      "Some ward had wrong data\n",
      "Some ward had wrong data\n",
      "Some ward had wrong data\n",
      "Some ward had wrong data\n",
      "Some ward had wrong data\n",
      "Some ward had wrong data\n",
      "Some ward had wrong data\n",
      "Some ward had wrong data\n",
      "Some ward had wrong data\n",
      "Some ward had wrong data\n",
      "Some ward had wrong data\n",
      "Some ward had wrong data\n",
      "Some ward had wrong data\n",
      "Some ward had wrong data\n",
      "Some ward had wrong data\n",
      "Some ward had wrong data\n",
      "Some ward had wrong data\n",
      "Some ward had wrong data\n",
      "Some ward had wrong data\n",
      "Some ward had wrong data\n",
      "Some ward had wrong data\n",
      "Some ward had wrong data\n",
      "Some ward had wrong data\n",
      "Some ward had wrong data\n",
      "Some ward had wrong data\n",
      "Some ward had wrong data\n",
      "Some ward had wrong data\n",
      "Some ward had wrong data\n",
      "Some ward had wrong data\n",
      "Some ward had wrong data\n",
      "Some ward had wrong data\n",
      "Some ward had wrong data\n",
      "Some ward had wrong data\n",
      "Some ward had wrong data\n",
      "Some ward had wrong data\n",
      "Some ward had wrong data\n",
      "Some ward had wrong data\n",
      "Some ward had wrong data\n",
      "Some ward had wrong data\n",
      "Some ward had wrong data\n",
      "Some ward had wrong data\n",
      "Some ward had wrong data\n",
      "Some ward had wrong data\n",
      "Some ward had wrong data\n",
      "Some ward had wrong data\n",
      "Some ward had wrong data\n",
      "Some ward had wrong data\n",
      "Some ward had wrong data\n",
      "Some ward had wrong data\n",
      "Some ward had wrong data\n",
      "Some ward had wrong data\n",
      "Some ward had wrong data\n",
      "Some ward had wrong data\n",
      "Some ward had wrong data\n",
      "Some ward had wrong data\n",
      "Some ward had wrong data\n",
      "Some ward had wrong data\n",
      "Some ward had wrong data\n",
      "Some ward had wrong data\n",
      "Some ward had wrong data\n",
      "Some ward had wrong data\n",
      "Some ward had wrong data\n",
      "Some ward had wrong data\n",
      "Some ward had wrong data\n",
      "Some ward had wrong data\n",
      "Some ward had wrong data\n",
      "Some ward had wrong data\n",
      "Some ward had wrong data\n",
      "Some ward had wrong data\n",
      "Some ward had wrong data\n",
      "Some ward had wrong data\n",
      "Some ward had wrong data\n",
      "Some ward had wrong data\n"
     ]
    }
   ],
   "source": [
    "city_prevalence_Symptom_UK = {}\n",
    "city_symptom_prescription_count = {}\n",
    "for d in LSOA_symptom_drug_count:\n",
    "    if d not in city_prevalence_Symptom_UK:\n",
    "        city_symptom_prescription_count[d] = {}\n",
    "        city_prevalence_Symptom_UK[d] = {}\n",
    "        city_prevalence_Symptom_UK[d]['Id'] = normId[d]\n",
    "        city_prevalence_Symptom_UK[d]['prev']={}\n",
    "\n",
    "        for k in cityMap:\n",
    "            try:\n",
    "                city_disease_presc = np.sum([LSOA_symptom_dosage_count[d][w] for w in cityMap[k] if not np.isnan(LSOA_symptom_drug_count[d][w])])\n",
    "                city_symptom_prescription_count[d][k] = city_disease_presc\n",
    "                city_prevalence_Symptom_UK[d]['prev'][k] = float(city_disease_presc)/float(cityPop[k])\n",
    "            except:\n",
    "                print \"Some ward had wrong data\""
   ]
  },
  {
   "cell_type": "code",
   "execution_count": 197,
   "metadata": {
    "ExecuteTime": {
     "end_time": "2019-08-22T17:00:39.009709Z",
     "start_time": "2019-08-22T17:00:39.007437Z"
    }
   },
   "outputs": [
    {
     "data": {
      "text/plain": [
       "109"
      ]
     },
     "execution_count": 197,
     "metadata": {},
     "output_type": "execute_result"
    }
   ],
   "source": [
    "len(city_prevalence_Symptom_UK['anxiety']['prev'])"
   ]
  },
  {
   "cell_type": "code",
   "execution_count": 192,
   "metadata": {
    "ExecuteTime": {
     "end_time": "2019-08-22T17:00:39.021151Z",
     "start_time": "2019-08-22T17:00:39.011333Z"
    },
    "collapsed": true
   },
   "outputs": [],
   "source": [
    "# FinalSymptom_prevalence = {'2016Q1':city_prevalence_Symptom_UK}\n",
    "# with open('Symptom_Prevalence_city.json','wb') as f:\n",
    "#     json.dump(FinalSymptom_prevalence,f)"
   ]
  },
  {
   "cell_type": "code",
   "execution_count": 198,
   "metadata": {
    "ExecuteTime": {
     "end_time": "2019-08-22T17:00:39.105436Z",
     "start_time": "2019-08-22T17:00:39.022891Z"
    },
    "collapsed": true
   },
   "outputs": [],
   "source": [
    "# confidence_disease = json.load(open('../processed/DiseaseConfidence_V2_352.json','rb'))\n",
    "# confidence_symptom = json.load(open('../processed/SymtomConfidence_with_normID_349.json','rb'))"
   ]
  },
  {
   "cell_type": "code",
   "execution_count": 199,
   "metadata": {
    "ExecuteTime": {
     "end_time": "2019-08-22T17:00:39.111421Z",
     "start_time": "2019-08-22T17:00:39.108557Z"
    },
    "collapsed": true
   },
   "outputs": [],
   "source": [
    "\n",
    "# DiseasePrevalence = FinalDisease_prevalence['2016Q1']\n",
    "# SymptomPrevalence = FinalSymptom_prevalence['2016Q1']"
   ]
  },
  {
   "cell_type": "code",
   "execution_count": 201,
   "metadata": {},
   "outputs": [
    {
     "data": {
      "text/plain": [
       "['CKD',\n",
       " 'LD',\n",
       " 'DM',\n",
       " 'CHD',\n",
       " 'COPD',\n",
       " 'AST',\n",
       " 'DEP',\n",
       " 'AF',\n",
       " 'MH',\n",
       " 'OB',\n",
       " 'HYP',\n",
       " 'PC',\n",
       " 'OST',\n",
       " 'PAD',\n",
       " 'RA',\n",
       " 'CVDPP',\n",
       " 'CAN',\n",
       " 'STIA',\n",
       " 'HF',\n",
       " 'EP',\n",
       " 'DEM']"
      ]
     },
     "execution_count": 201,
     "metadata": {},
     "output_type": "execute_result"
    }
   ],
   "source": [
    "DiseasePop_byWard.keys()"
   ]
  },
  {
   "cell_type": "code",
   "execution_count": 503,
   "metadata": {
    "ExecuteTime": {
     "end_time": "2019-08-23T11:01:35.481632Z",
     "start_time": "2019-08-23T11:01:35.157285Z"
    }
   },
   "outputs": [
    {
     "name": "stderr",
     "output_type": "stream",
     "text": [
      "100%|██████████| 112/112 [00:00<00:00, 413.44it/s]"
     ]
    },
    {
     "name": "stdout",
     "output_type": "stream",
     "text": [
      "Some ward had wrong data\n",
      "Some ward had wrong data\n",
      "Some ward had wrong data\n"
     ]
    },
    {
     "name": "stderr",
     "output_type": "stream",
     "text": [
      "\n"
     ]
    }
   ],
   "source": [
    "city_prevalence_UK = {}\n",
    "city_prevalence_dosage_UK = {}\n",
    "city_gt_prevalence_UK = {}\n",
    "city_prescription_count = {}\n",
    "disease_key = 'depression'\n",
    "survey_key = 'DEP'\n",
    "for k in tqdm(cityMap):\n",
    "    try:\n",
    "        city_disease_presc = np.sum([LSOA_disease_drug_count[disease_key][w] for w in cityMap[k] if not np.isnan(LSOA_disease_drug_count[disease_key][w])])\n",
    "        city_disease_dosage_presc = np.sum([LSOA_disease_dosage_count[disease_key][w] for w in cityMap[k] if not np.isnan(LSOA_disease_dosage_count[disease_key][w])])\n",
    "        city_patient_pop = np.sum([Ward_patients[survey_key][w] for w in cityMap[k] if not np.isnan(Ward_patients[survey_key][w])])\n",
    "        city_disease_pop = np.sum([DiseasePop_byWard[survey_key][w] for w in cityMap[k] if not np.isnan(DiseasePop_byWard[survey_key][w])])\n",
    "        \n",
    "        city_prescription_count[k] = city_disease_presc\n",
    "        city_prevalence_UK[k] = float(city_disease_presc)/float(cityPop[k])\n",
    "        city_prevalence_dosage_UK[k] = float(city_disease_dosage_presc)/float(cityPop[k])\n",
    "        city_gt_prevalence_UK[k] = float(city_disease_pop)/float(cityPop[k])\n",
    "#         city_prevalence_UK[k] = float(city_disease_presc)/city_patient_pop\n",
    "#         city_prevalence_dosage_UK[k] = float(city_disease_dosage_presc)/city_patient_pop\n",
    "#         city_gt_prevalence_UK[k] = float(city_disease_pop)/city_patient_pop\n",
    "    except:\n",
    "        print(\"Some ward had wrong data\")"
   ]
  },
  {
   "cell_type": "code",
   "execution_count": 504,
   "metadata": {
    "collapsed": true
   },
   "outputs": [],
   "source": [
    "# city_prescription_count"
   ]
  },
  {
   "cell_type": "code",
   "execution_count": 505,
   "metadata": {
    "collapsed": true
   },
   "outputs": [],
   "source": [
    "# json.dump(city_gt_prevalence_UK,open('dementia_survey_gt.json','wb'))"
   ]
  },
  {
   "cell_type": "code",
   "execution_count": 506,
   "metadata": {
    "ExecuteTime": {
     "end_time": "2019-08-23T11:01:37.607222Z",
     "start_time": "2019-08-23T11:01:37.603275Z"
    },
    "collapsed": true
   },
   "outputs": [],
   "source": [
    "commonWards_UK_borough = set(city_prevalence_UK.keys()).intersection(city_gt_prevalence_UK.keys())"
   ]
  },
  {
   "cell_type": "code",
   "execution_count": 507,
   "metadata": {},
   "outputs": [
    {
     "data": {
      "text/plain": [
       "109"
      ]
     },
     "execution_count": 507,
     "metadata": {},
     "output_type": "execute_result"
    }
   ],
   "source": [
    "len(commonWards_UK_borough)"
   ]
  },
  {
   "cell_type": "code",
   "execution_count": 510,
   "metadata": {},
   "outputs": [
    {
     "data": {
      "text/plain": [
       "{'Barnsley': 0.09925813378305692,\n",
       " 'Basildon': 0.11054607775958883,\n",
       " 'Basingstoke': 0.06600111283953669,\n",
       " 'Bath': 0.06942634392765816,\n",
       " 'Bedford': 0.07276541757013799,\n",
       " 'Birkenhead': 0.14164879369986255,\n",
       " 'Birmingham': 0.08852945815408246,\n",
       " 'Blackburn': 0.09518544169595373,\n",
       " 'Blackpool': 0.14520491808101207,\n",
       " 'Bolton': 0.09637425055629911,\n",
       " 'Bournemouth': 0.0861166381773844,\n",
       " 'Bracknell': 0.11796671847666554,\n",
       " 'Bradford': 0.09642003520089602,\n",
       " 'Brighton and Hove': 0.09200147212781006,\n",
       " 'Bristol': 0.09175156965397802,\n",
       " 'Burnley': 0.08847362826964247,\n",
       " 'Burton upon Trent': 0.08929889735013581,\n",
       " 'Bury': 0.050364591399227075,\n",
       " 'Cambridge': 0.08033180731379135,\n",
       " 'Carlisle': 0.11028002197104676,\n",
       " 'Chatham': 0.07803563000524978,\n",
       " 'Chelmsford': 0.07405371180093084,\n",
       " 'Cheltenham': 0.09124313707832613,\n",
       " 'Chester': 0.10752241570007663,\n",
       " 'Chesterfield': 0.11047291873068874,\n",
       " 'Colchester': 0.06942167937073726,\n",
       " 'Coventry': 0.08774367022731618,\n",
       " 'Crawley': 0.09549986784249291,\n",
       " 'Darlington': 0.11230651102882022,\n",
       " 'Derby': 0.08284748472155505,\n",
       " 'Doncaster': 0.09958569407509758,\n",
       " 'Dudley': 0.027293303305364273,\n",
       " 'Eastbourne': 0.13695703784792973,\n",
       " 'Exeter': 0.09240577256346472,\n",
       " 'Gateshead': 0.11722646323837667,\n",
       " 'Gillingham': 0.07850702948083801,\n",
       " 'Gloucester': 0.07556168847652163,\n",
       " 'Grimsby': 0.08264229561925197,\n",
       " 'Guildford': 0.09413362469977964,\n",
       " 'Halifax': 0.1363543579901557,\n",
       " 'Harlow': 0.09493293168784543,\n",
       " 'Harrogate': 0.09360154720567243,\n",
       " 'Hartlepool': 0.07793725203239714,\n",
       " 'Hastings': 0.09021772197539646,\n",
       " 'Hemel Hempstead': 0.10246913853206462,\n",
       " 'High Wycombe': 0.0896081656646264,\n",
       " 'Huddersfield': 0.10147687668532554,\n",
       " 'Ipswich': 0.10634941462724061,\n",
       " 'Kingston upon Hull': 0.06450888193742452,\n",
       " 'Leeds': 0.09370642992467354,\n",
       " 'Leicester': 0.09696672798344111,\n",
       " 'Lincoln': 0.1013959552626737,\n",
       " 'Liverpool': 0.10835571001753652,\n",
       " 'London': 0.06871705230343414,\n",
       " 'Luton': 0.07337769145641675,\n",
       " 'Maidstone': 0.09941927591484002,\n",
       " 'Manchester': 0.09760937485451031,\n",
       " 'Mansfield': 0.09185566366219819,\n",
       " 'Middlesbrough': 0.08771980000827227,\n",
       " 'Milton Keynes': 0.09136056838085053,\n",
       " 'Newcastle upon Tyne': 0.08112695965388225,\n",
       " 'Newcastle-under-Lyme': 0.10919684161642566,\n",
       " 'Northampton': 0.12343249302571795,\n",
       " 'Norwich': 0.09888615098176792,\n",
       " 'Nottingham': 0.0886953756215965,\n",
       " 'Nuneaton': 0.0748747286761106,\n",
       " 'Oldham': 0.11269712651327056,\n",
       " 'Oxford': 0.09170237592161995,\n",
       " 'Peterborough': 0.06289525151082237,\n",
       " 'Plymouth': 0.0978648486985939,\n",
       " 'Poole': 0.1017470183031227,\n",
       " 'Portsmouth': 0.07635512824988792,\n",
       " 'Preston': 0.11018762965017856,\n",
       " 'Reading': 0.08344059125589363,\n",
       " 'Redditch': 0.12334392498706305,\n",
       " 'Rochdale': 0.14354816075461904,\n",
       " 'Rotherham': 0.1137810057600542,\n",
       " 'Salford': 0.09699099515134817,\n",
       " 'Scunthorpe': 0.12279494231677343,\n",
       " 'Sheffield': 0.09817198499547646,\n",
       " 'Shrewsbury': 0.09325065171045899,\n",
       " 'Slough': 0.07138060290483234,\n",
       " 'Solihull': 0.055885800197021857,\n",
       " 'South Shields': 0.1017862122296787,\n",
       " 'Southampton': 0.08357786983146036,\n",
       " 'Southend-on-Sea': 0.09208853231305765,\n",
       " 'Southport': 0.09689200894387835,\n",
       " 'St Albans': 0.07172697144807855,\n",
       " 'St Helens': 0.12455417314694879,\n",
       " 'Stevenage': 0.09189720044332522,\n",
       " 'Stockport': 0.09320647347561666,\n",
       " 'Stockton-on-Tees': 0.12052795443701862,\n",
       " 'Stoke-on-Trent': 0.1173520891054038,\n",
       " 'Sunderland': 0.09591045611019959,\n",
       " 'Sutton Coldfield': 0.04819928740816372,\n",
       " 'Swindon': 0.1003156932958057,\n",
       " 'Telford': 0.09113174533243984,\n",
       " 'Wakefield': 0.10478154992996568,\n",
       " 'Walsall': 0.07815242012905878,\n",
       " 'Warrington': 0.1099418851557915,\n",
       " 'Watford': 0.06064975895508562,\n",
       " 'West Bromwich': 0.06073342213328635,\n",
       " 'Weston-Super-Mare': 0.10400946805523616,\n",
       " 'Wigan': 0.11649152193669063,\n",
       " 'Woking': 0.07463805366636124,\n",
       " 'Wolverhampton': 0.09025535592688491,\n",
       " 'Worcester': 0.10328730145694463,\n",
       " 'Worthing': 0.10357968111861779,\n",
       " 'York': 0.08896062301136978}"
      ]
     },
     "execution_count": 510,
     "metadata": {},
     "output_type": "execute_result"
    }
   ],
   "source": [
    "city_gt_prevalence_UK"
   ]
  },
  {
   "cell_type": "code",
   "execution_count": 509,
   "metadata": {},
   "outputs": [
    {
     "data": {
      "text/plain": [
       "{'Barnsley': 0.09681992827419761,\n",
       " 'Basildon': 0.07494696920223902,\n",
       " 'Basingstoke': 0.05468708420353803,\n",
       " 'Bath': 0.05066056381587927,\n",
       " 'Bedford': 0.03348797820332159,\n",
       " 'Birkenhead': 0.09568125222873837,\n",
       " 'Birmingham': 0.04886068026263602,\n",
       " 'Blackburn': 0.06863514856817794,\n",
       " 'Blackpool': 0.10767931899540924,\n",
       " 'Bolton': 0.06654713365219497,\n",
       " 'Bournemouth': 0.05627709091373719,\n",
       " 'Bracknell': 0.04626042948854352,\n",
       " 'Bradford': 0.06461857702155357,\n",
       " 'Brighton and Hove': 0.05748651244879622,\n",
       " 'Bristol': 0.05853659100492829,\n",
       " 'Burnley': 0.06809403441265977,\n",
       " 'Burton upon Trent': 0.0616161505551591,\n",
       " 'Bury': 0.05103204417559185,\n",
       " 'Cambridge': 0.05748208900774292,\n",
       " 'Carlisle': 0.06015022459190468,\n",
       " 'Chatham': 0.058174512831629846,\n",
       " 'Chelmsford': 0.06865940682232259,\n",
       " 'Cheltenham': 0.07374045360959817,\n",
       " 'Chester': 0.06318697555590819,\n",
       " 'Chesterfield': 0.08212722942282263,\n",
       " 'Colchester': 0.06850490229549659,\n",
       " 'Coventry': 0.05735444032911497,\n",
       " 'Crawley': 0.05050305691609985,\n",
       " 'Darlington': 0.08428955271048671,\n",
       " 'Derby': 0.05006195987144473,\n",
       " 'Doncaster': 0.082760663833731,\n",
       " 'Dudley': 0.06290229124926086,\n",
       " 'Eastbourne': 0.07281801059663287,\n",
       " 'Exeter': 0.07800390083767877,\n",
       " 'Gateshead': 0.11400153733470426,\n",
       " 'Gillingham': 0.056060328501710395,\n",
       " 'Gloucester': 0.06419899409290732,\n",
       " 'Grimsby': 0.07359475078442843,\n",
       " 'Guildford': 0.04583172913013553,\n",
       " 'Halifax': 0.08093577224169772,\n",
       " 'Harlow': 0.06810647669609826,\n",
       " 'Harrogate': 0.057634089811865366,\n",
       " 'Hartlepool': 0.07423618312029627,\n",
       " 'Hastings': 0.06824597309942233,\n",
       " 'Hemel Hempstead': 0.05274902189196601,\n",
       " 'High Wycombe': 0.0422711006364603,\n",
       " 'Huddersfield': 0.06401302777214385,\n",
       " 'Ipswich': 0.07844828945426677,\n",
       " 'Kingston upon Hull': 0.06152618439528983,\n",
       " 'Leeds': 0.06930344020680926,\n",
       " 'Leicester': 0.058294965092336046,\n",
       " 'Lincoln': 0.07403245721654877,\n",
       " 'Liverpool': 0.08477732404123643,\n",
       " 'London': 0.03861240877757954,\n",
       " 'Luton': 0.040207406162843504,\n",
       " 'Maidstone': 0.06756531183267757,\n",
       " 'Manchester': 0.06601189019001949,\n",
       " 'Mansfield': 0.08967048336787639,\n",
       " 'Middlesbrough': 0.08859025404724395,\n",
       " 'Milton Keynes': 0.05081647068867953,\n",
       " 'Newcastle upon Tyne': 0.09687893955778681,\n",
       " 'Newcastle-under-Lyme': 0.07620438154410009,\n",
       " 'Northampton': 0.08869603016399473,\n",
       " 'Norwich': 0.08979976884102409,\n",
       " 'Nottingham': 0.05665310825931455,\n",
       " 'Nuneaton': 0.072351707202231,\n",
       " 'Oldham': 0.07590516418997453,\n",
       " 'Oxford': 0.05123061809344749,\n",
       " 'Peterborough': 0.05929424160738137,\n",
       " 'Plymouth': 0.06744310819151957,\n",
       " 'Poole': 0.0555512529686611,\n",
       " 'Portsmouth': 0.06259319048318958,\n",
       " 'Preston': 0.06663473470072631,\n",
       " 'Reading': 0.042177942581265775,\n",
       " 'Redditch': 0.05046945790585389,\n",
       " 'Rochdale': 0.07655689917090189,\n",
       " 'Rotherham': 0.08268563826093757,\n",
       " 'Salford': 0.09106154125311006,\n",
       " 'Scunthorpe': 0.08398251321520984,\n",
       " 'Sheffield': 0.07192860329981478,\n",
       " 'Shrewsbury': 0.05529944553608753,\n",
       " 'Slough': 0.04673955377510762,\n",
       " 'Solihull': 0.051277546022078194,\n",
       " 'South Shields': 0.09522197952248945,\n",
       " 'Southampton': 0.05378668195320334,\n",
       " 'Southend-on-Sea': 0.05667288318464834,\n",
       " 'Southport': 0.07688925596157423,\n",
       " 'St Albans': 0.04466592595090346,\n",
       " 'St Helens': 0.08859756186206788,\n",
       " 'Stevenage': 0.0628216301971435,\n",
       " 'Stockport': 0.06543994208381006,\n",
       " 'Stockton-on-Tees': 0.07820173704363827,\n",
       " 'Stoke-on-Trent': 0.07410583468520522,\n",
       " 'Sunderland': 0.10737106214945798,\n",
       " 'Sutton Coldfield': 0.02631678005158541,\n",
       " 'Swindon': 0.06919601724316221,\n",
       " 'Telford': 0.047171261077403805,\n",
       " 'Wakefield': 0.06482372561973776,\n",
       " 'Walsall': 0.050433561572813715,\n",
       " 'Warrington': 0.06724672980329423,\n",
       " 'Watford': 0.03847418130746611,\n",
       " 'West Bromwich': 0.049773630124667186,\n",
       " 'Weston-Super-Mare': 0.09442592860177376,\n",
       " 'Wigan': 0.07652760748641138,\n",
       " 'Woking': 0.04038208368592799,\n",
       " 'Wolverhampton': 0.056136084414186806,\n",
       " 'Worcester': 0.066014793425784,\n",
       " 'Worthing': 0.058457006317057796,\n",
       " 'York': 0.056725541761946226}"
      ]
     },
     "execution_count": 509,
     "metadata": {},
     "output_type": "execute_result"
    }
   ],
   "source": [
    "city_prevalence_UK"
   ]
  },
  {
   "cell_type": "code",
   "execution_count": 468,
   "metadata": {
    "ExecuteTime": {
     "end_time": "2019-08-23T11:01:38.038527Z",
     "start_time": "2019-08-23T11:01:38.033012Z"
    },
    "collapsed": true
   },
   "outputs": [],
   "source": [
    "# commonWards_UK_borough = [k for k in commonWards_UK_borough if k != 'Dudley']"
   ]
  },
  {
   "cell_type": "code",
   "execution_count": 469,
   "metadata": {
    "ExecuteTime": {
     "end_time": "2019-08-23T11:01:38.350960Z",
     "start_time": "2019-08-23T11:01:38.346758Z"
    },
    "collapsed": true
   },
   "outputs": [],
   "source": [
    "# sns.regplot([ DiseasePrevalence['depression'][k]/100 for k in commonWards_UK_borough],[London_gt[k] for k in commonWards_UK_borough])\n",
    "# ax = plt.gca()\n",
    "# ax.set_title(\"Comparison between prevalences acquired by BNF and Drugbank drug lists\")\n",
    "# ax.set_xlabel(\"Drugbank prevalence\")\n",
    "# ax.set_ylabel(\"BNF prevalence\")"
   ]
  },
  {
   "cell_type": "code",
   "execution_count": 470,
   "metadata": {
    "ExecuteTime": {
     "end_time": "2019-08-23T11:01:38.729814Z",
     "start_time": "2019-08-23T11:01:38.726329Z"
    },
    "collapsed": true
   },
   "outputs": [],
   "source": [
    "# pearsonr([ DiseasePrevalence['depression'][k]  for k in commonWards_UK_borough],[London_gt[k] for k in commonWards_UK_borough])"
   ]
  },
  {
   "cell_type": "code",
   "execution_count": 471,
   "metadata": {
    "ExecuteTime": {
     "end_time": "2019-08-23T11:01:39.070830Z",
     "start_time": "2019-08-23T11:01:39.066463Z"
    },
    "collapsed": true
   },
   "outputs": [],
   "source": [
    "# sns.regplot([ DiseasePrevalence['dementia'][k] for k in commonWards_UK_borough],[borough_gt_prevalence_UK[k] for k in commonWards_UK_borough])\n",
    "# ax = plt.gca()\n",
    "# ax.set_title(\"Comparison between prevalences acquired by BNF and Drugbank drug lists\")\n",
    "# ax.set_xlabel(\"Drugbank prevalence\")\n",
    "# ax.set_ylabel(\"BNF prevalence\")"
   ]
  },
  {
   "cell_type": "code",
   "execution_count": 472,
   "metadata": {
    "ExecuteTime": {
     "end_time": "2019-08-23T11:01:39.395826Z",
     "start_time": "2019-08-23T11:01:39.389586Z"
    }
   },
   "outputs": [
    {
     "data": {
      "text/plain": [
       "(0.4680854994386916, 2.8604428682774624e-07)"
      ]
     },
     "execution_count": 472,
     "metadata": {},
     "output_type": "execute_result"
    }
   ],
   "source": [
    "pearsonr([ city_prevalence_UK[k] for k in commonWards_UK_borough],[city_gt_prevalence_UK[k] for k in commonWards_UK_borough])"
   ]
  },
  {
   "cell_type": "code",
   "execution_count": 473,
   "metadata": {
    "ExecuteTime": {
     "end_time": "2019-08-23T11:01:40.228423Z",
     "start_time": "2019-08-23T11:01:40.222333Z"
    }
   },
   "outputs": [
    {
     "data": {
      "text/plain": [
       "(0.6144469853146018, 1.1917344241114468e-12)"
      ]
     },
     "execution_count": 473,
     "metadata": {},
     "output_type": "execute_result"
    }
   ],
   "source": [
    "pearsonr([ city_prevalence_dosage_UK[k] for k in commonWards_UK_borough],[city_gt_prevalence_UK[k] for k in commonWards_UK_borough])"
   ]
  },
  {
   "cell_type": "code",
   "execution_count": 474,
   "metadata": {
    "ExecuteTime": {
     "end_time": "2019-08-23T11:01:42.846890Z",
     "start_time": "2019-08-23T11:01:42.805251Z"
    }
   },
   "outputs": [
    {
     "name": "stdout",
     "output_type": "stream",
     "text": [
      "(0.46808549943869154, 2.8604428682774624e-07) (0.614446985314602, 1.1917344241114238e-12)\n"
     ]
    }
   ],
   "source": [
    "def label_point(x, y, val, ax ):\n",
    "    a = pd.concat({'x': pd.Series(x), 'y':  pd.Series(y), 'val': pd.Series(val)}, axis=1)\n",
    "    for i, point in a.iterrows():\n",
    "        ax.text(point['x'], point['y'], str(point['val']),fontsize=12)\n",
    "\n",
    "def filterHighestResiduals(gt,predict,names , topK):\n",
    "    slope, intercept, r_value, p_value, std_err = linregress(predict,gt)\n",
    "    predicted = [(slope*k)+intercept for k in gt]\n",
    "    residuals = [abs(v1 - v2) for (v1,v2) in zip(predicted,predict)]\n",
    "    topKidx = np.argsort(residuals)[-topK:][::-1]\n",
    "    return [gt[i] for i in topKidx] , [predict[i] for i in topKidx], [names[i] for i in topKidx]\n",
    "\n",
    "predict = []\n",
    "predict_dose = []\n",
    "gt = []\n",
    "names = []\n",
    "logpop = []\n",
    "logdosage = [] \n",
    "for k in commonWards_UK_borough:\n",
    "    predict.append(city_prevalence_UK[k]*1000.0)\n",
    "    predict_dose.append(city_prevalence_dosage_UK[k]*10)#*1000.0)\n",
    "    names.append(k)\n",
    "    gt.append(city_gt_prevalence_UK[k]*1000.0)\n",
    "    logpop.append(np.log(cityPop[k]))\n",
    "    logdosage.append(np.log(city_prescription_count[k]))\n",
    "\n",
    "# predict\n",
    "\n",
    "corr1 = pearsonr(predict,gt)\n",
    "corr2 = pearsonr(predict_dose,gt)\n",
    "print corr1 , corr2"
   ]
  },
  {
   "cell_type": "code",
   "execution_count": 475,
   "metadata": {
    "ExecuteTime": {
     "end_time": "2019-08-23T11:01:51.339985Z",
     "start_time": "2019-08-23T11:01:51.336322Z"
    },
    "collapsed": true
   },
   "outputs": [],
   "source": [
    "disease_string = 'Dementia'"
   ]
  },
  {
   "cell_type": "code",
   "execution_count": 476,
   "metadata": {
    "ExecuteTime": {
     "end_time": "2019-08-23T11:01:52.350088Z",
     "start_time": "2019-08-23T11:01:51.928527Z"
    }
   },
   "outputs": [
    {
     "data": {
      "text/plain": [
       "Text(0.1,0.8,'r = 0.46')"
      ]
     },
     "execution_count": 476,
     "metadata": {},
     "output_type": "execute_result"
    },
    {
     "data": {
      "image/png": "[encoded data removed]",
      "text/plain": [
       "<Figure size 864x576 with 1 Axes>"
      ]
     },
     "metadata": {
      "needs_background": "light"
     },
     "output_type": "display_data"
    }
   ],
   "source": [
    "fig, ax = plt.subplots()\n",
    "fig.set_size_inches(12, 8)\n",
    "sns.regplot(x=gt , y = predict)\n",
    "ax = plt.gca()\n",
    "# gt_ , predict_ , names_ = filterHighestResiduals(gt, predict , names, 10)\n",
    "label_point(gt , predict , names , ax)\n",
    "ax.set_title(disease_string ,fontsize=25)\n",
    "plt.xticks(fontsize = 20 )\n",
    "plt.yticks(fontsize = 20 )\n",
    "ax.set_xlabel(\"Normalized disease prevalence from NHS survey\",fontsize=25)\n",
    "ax.set_ylabel(\"Normalized prescription items\",fontsize=25)\n",
    "ax.annotate(\"r = \" +  str(corr1[0])[:4], xy=(0.1, 0.8), xycoords='axes fraction',fontsize = 20)"
   ]
  },
  {
   "cell_type": "code",
   "execution_count": 477,
   "metadata": {
    "ExecuteTime": {
     "end_time": "2019-08-23T11:01:53.786857Z",
     "start_time": "2019-08-23T11:01:53.359287Z"
    }
   },
   "outputs": [
    {
     "data": {
      "text/plain": [
       "Text(0.1,0.8,'r = 0.61')"
      ]
     },
     "execution_count": 477,
     "metadata": {},
     "output_type": "execute_result"
    },
    {
     "data": {
      "image/png": "[encoded data removed]",
      "text/plain": [
       "<Figure size 864x576 with 1 Axes>"
      ]
     },
     "metadata": {
      "needs_background": "light"
     },
     "output_type": "display_data"
    }
   ],
   "source": [
    "fig, ax = plt.subplots()\n",
    "fig.set_size_inches(12, 8)\n",
    "sns.regplot(x=gt , y = predict_dose)\n",
    "ax = plt.gca()\n",
    "# gt_ , predict_ , names_ = filterHighestResiduals(gt, predict , names, 10)\n",
    "label_point(gt , predict_dose , names , ax)\n",
    "ax.set_title(disease_string ,fontsize=25)\n",
    "plt.xticks(fontsize = 20 )\n",
    "plt.yticks(fontsize = 20 )\n",
    "ax.set_xlabel(\"Normalized disease prevalence from NHS survey\",fontsize=25)\n",
    "ax.set_ylabel(\"Normalized prescription dosage (x 100)\",fontsize=25)\n",
    "ax.annotate(\"r = \" +  str(corr2[0])[:4], xy=(0.1, 0.8), xycoords='axes fraction',fontsize = 20)"
   ]
  },
  {
   "cell_type": "code",
   "execution_count": 478,
   "metadata": {},
   "outputs": [
    {
     "name": "stdout",
     "output_type": "stream",
     "text": [
      "(0.46808549943869154, 2.8604428682774624e-07)\n",
      "0.22005532587347262 5.250528138658121 0.4680854994386918 2.860442868277419e-07 0.040161636128594885\n"
     ]
    }
   ],
   "source": [
    "from scipy.stats import linregress\n",
    "\n",
    "corr = pearsonr(predict, gt)\n",
    "print corr\n",
    "\n",
    "slope, intercept, r_value, p_value, std_err = linregress(x=predict,y=gt)\n",
    "\n",
    "print slope,  intercept , r_value , p_value , std_err"
   ]
  },
  {
   "cell_type": "code",
   "execution_count": 479,
   "metadata": {},
   "outputs": [
    {
     "name": "stdout",
     "output_type": "stream",
     "text": [
      "(0.8389157299349423, 4.9232752067478644e-30)\n",
      "0.9921299139684787 -4.723121227497177 0.8389157299349423 4.923275206747867e-30 0.06222512797802202\n"
     ]
    }
   ],
   "source": [
    "from scipy.stats import linregress\n",
    "\n",
    "corr = pearsonr(logpop, logdosage)\n",
    "print corr\n",
    "\n",
    "slope, intercept, r_value, p_value, std_err = linregress(x=logpop,y=logdosage)\n",
    "\n",
    "print slope,  intercept , r_value , p_value , std_err"
   ]
  },
  {
   "cell_type": "code",
   "execution_count": 480,
   "metadata": {},
   "outputs": [
    {
     "data": {
      "text/plain": [
       "0.7037796019322771"
      ]
     },
     "execution_count": 480,
     "metadata": {},
     "output_type": "execute_result"
    }
   ],
   "source": [
    "r_value**2"
   ]
  },
  {
   "cell_type": "code",
   "execution_count": 481,
   "metadata": {},
   "outputs": [
    {
     "data": {
      "text/plain": [
       "Text(0.1,0.7,'$R^2$: 0.70')"
      ]
     },
     "execution_count": 481,
     "metadata": {},
     "output_type": "execute_result"
    },
    {
     "data": {
      "image/png": "[encoded data removed]",
      "text/plain": [
       "<Figure size 864x576 with 1 Axes>"
      ]
     },
     "metadata": {
      "needs_background": "light"
     },
     "output_type": "display_data"
    }
   ],
   "source": [
    "fig, ax = plt.subplots()\n",
    "fig.set_size_inches(12, 8)\n",
    "p = sns.regplot(x=logpop,y=logdosage,ax=ax)\n",
    "ax.set_xlabel(\"ln(Population)\",fontsize=25)\n",
    "ax.set_ylabel(\"ln(Quantity of prescription items)\",fontsize=25)\n",
    "ax.set_title(disease_string,fontsize=25)\n",
    "plt.xticks(fontsize = 20 )\n",
    "plt.yticks(fontsize = 20 )\n",
    "# label_point(logpop , logdosage , names , ax)\n",
    "ax.annotate(r\"$\\beta$\" +\": \" +  str(slope)[:4], xy=(0.1, 0.8), xycoords='axes fraction',fontsize = 20)\n",
    "ax.annotate(r\"$R^2$\" +\": \" +  str(r_value**2)[:4], xy=(0.1, 0.7), xycoords='axes fraction',fontsize = 20)"
   ]
  },
  {
   "cell_type": "code",
   "execution_count": null,
   "metadata": {
    "collapsed": true
   },
   "outputs": [],
   "source": []
  }
 ],
 "metadata": {
  "celltoolbar": "Edit Metadata",
  "kernelspec": {
   "display_name": "Python [conda env:env_py2]",
   "language": "python",
   "name": "conda-env-env_py2-py"
  },
  "language_info": {
   "codemirror_mode": {
    "name": "ipython",
    "version": 2
   },
   "file_extension": ".py",
   "mimetype": "text/x-python",
   "name": "python",
   "nbconvert_exporter": "python",
   "pygments_lexer": "ipython2",
   "version": "2.7.16"
  },
  "latex_envs": {
   "LaTeX_envs_menu_present": true,
   "autoclose": false,
   "autocomplete": true,
   "bibliofile": "biblio.bib",
   "cite_by": "apalike",
   "current_citInitial": 1,
   "eqLabelWithNumbers": true,
   "eqNumInitial": 1,
   "hotkeys": {
    "equation": "Ctrl-E",
    "itemize": "Ctrl-I"
   },
   "labels_anchors": false,
   "latex_user_defs": false,
   "report_style_numbering": false,
   "user_envs_cfg": false
  },
  "toc": {
   "base_numbering": 1,
   "nav_menu": {},
   "number_sections": true,
   "sideBar": true,
   "skip_h1_title": false,
   "title_cell": "Table of Contents",
   "title_sidebar": "Contents",
   "toc_cell": false,
   "toc_position": {},
   "toc_section_display": true,
   "toc_window_display": false
  },
  "varInspector": {
   "cols": {
    "lenName": 16,
    "lenType": 16,
    "lenVar": 40
   },
   "kernels_config": {
    "python": {
     "delete_cmd_postfix": "",
     "delete_cmd_prefix": "del ",
     "library": "var_list.py",
     "varRefreshCmd": "print(var_dic_list())"
    },
    "r": {
     "delete_cmd_postfix": ") ",
     "delete_cmd_prefix": "rm(",
     "library": "var_list.r",
     "varRefreshCmd": "cat(var_dic_list()) "
    }
   },
   "types_to_exclude": [
    "module",
    "function",
    "builtin_function_or_method",
    "instance",
    "_Feature"
   ],
   "window_display": false
  }
 },
 "nbformat": 4,
 "nbformat_minor": 2
}
