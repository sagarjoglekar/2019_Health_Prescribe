{
 "cells": [
  {
   "cell_type": "code",
   "execution_count": 1,
   "metadata": {
    "ExecuteTime": {
     "end_time": "2020-03-12T18:13:24.285790Z",
     "start_time": "2020-03-12T18:13:23.440569Z"
    },
    "collapsed": true
   },
   "outputs": [],
   "source": [
    "import pandas as pd\n",
    "import geopandas as gp \n",
    "import json\n",
    "from glob import glob\n",
    "import numpy as np\n",
    "import matplotlib.pyplot as plt\n",
    "import seaborn as sns\n",
    "import pickle as pkl\n",
    "import networkx as nx\n",
    "sns.set(rc={'figure.figsize':(12,8)})\n",
    "%matplotlib inline\n",
    "from tqdm import tqdm\n",
    "import glob\n",
    "import numpy as np\n",
    "from scipy.stats import pearsonr\n",
    "from scipy.stats import linregress"
   ]
  },
  {
   "cell_type": "code",
   "execution_count": 2,
   "metadata": {
    "ExecuteTime": {
     "end_time": "2020-03-12T18:13:26.112835Z",
     "start_time": "2020-03-12T18:13:24.298223Z"
    },
    "collapsed": true
   },
   "outputs": [],
   "source": [
    "train = pd.read_csv('scratchpad/drugsComTrain_raw.tsv',sep = '\\t')\n",
    "test = pd.read_csv('scratchpad/drugsComTest_raw.tsv',sep = '\\t')\n",
    "total = pd.concat([train, test])\n",
    "total = total.dropna()\n",
    "drug_disease_dict = {}\n",
    "for name , group in total.groupby('condition'):\n",
    "    if '</span>' not in name:\n",
    "        drug_disease_dict[name] = list(group['drugName'].unique())"
   ]
  },
  {
   "cell_type": "code",
   "execution_count": 3,
   "metadata": {
    "ExecuteTime": {
     "end_time": "2020-03-12T18:13:26.695759Z",
     "start_time": "2020-03-12T18:13:26.287475Z"
    }
   },
   "outputs": [
    {
     "data": {
      "text/plain": [
       "{'ADHD': ['Guanfacine',\n",
       "  'Daytrana',\n",
       "  'Intuniv',\n",
       "  'Focalin',\n",
       "  'Vyvanse',\n",
       "  'Lisdexamfetamine',\n",
       "  'Amphetamine / dextroamphetamine',\n",
       "  'Atomoxetine',\n",
       "  'Concerta',\n",
       "  'Strattera',\n",
       "  'Focalin XR',\n",
       "  'Methylphenidate',\n",
       "  'Ritalin',\n",
       "  'Kapvay',\n",
       "  'Adderall',\n",
       "  'Bupropion',\n",
       "  'Dexmethylphenidate',\n",
       "  'Wellbutrin SR',\n",
       "  'Zenzedi',\n",
       "  'Desoxyn',\n",
       "  'Adderall XR',\n",
       "  'Adzenys XR-ODT',\n",
       "  'Pemoline',\n",
       "  'Nuvigil',\n",
       "  'Dyanavel XR',\n",
       "  'Dextroamphetamine',\n",
       "  'Methylin ER',\n",
       "  'Dexedrine',\n",
       "  'Amphetamine',\n",
       "  'Quillivant XR',\n",
       "  'Omega-3 polyunsaturated fatty acids',\n",
       "  'Mydayis',\n",
       "  'Clonidine',\n",
       "  'Catapres',\n",
       "  'Ritalin LA',\n",
       "  'ProCentra',\n",
       "  'Methylin',\n",
       "  'Metadate CD',\n",
       "  'Amantadine',\n",
       "  'Wellbutrin',\n",
       "  'Modafinil',\n",
       "  'Methamphetamine',\n",
       "  'Wellbutrin XL',\n",
       "  'Ritalin-SR',\n",
       "  'Armodafinil',\n",
       "  'Evekeo',\n",
       "  'Cylert',\n",
       "  'Aptensio XR',\n",
       "  'Desipramine',\n",
       "  'Imipramine',\n",
       "  'Tenex',\n",
       "  'Provigil',\n",
       "  'Selegiline',\n",
       "  'Pristiq',\n",
       "  'Desvenlafaxine',\n",
       "  'Metadate ER',\n",
       "  'Budeprion XL',\n",
       "  'Dextrostat'],\n",
       " 'AIDS Related Wasting': ['Somatropin', 'Dronabinol', 'Marinol', 'Serostim'],\n",
       " 'AV Heart Block': ['Epinephrine'],\n",
       " 'Abdominal Distension': ['Urecholine', 'Bethanechol'],\n",
       " 'Abnormal Uterine Bleeding': ['Provera',\n",
       "  'Medroxyprogesterone',\n",
       "  'Depo-Provera',\n",
       "  'Levonorgestrel',\n",
       "  'Mirena',\n",
       "  'Ethinyl estradiol / norgestrel',\n",
       "  'Ethinyl estradiol / levonorgestrel',\n",
       "  'Ethinyl estradiol / norgestimate',\n",
       "  'Mestranol / norethindrone',\n",
       "  'Sronyx',\n",
       "  'Norethindrone',\n",
       "  'Quasense',\n",
       "  'Alesse',\n",
       "  'Tri-Sprintec',\n",
       "  'Ethinyl estradiol / norethindrone',\n",
       "  'Ortho Tri-Cyclen',\n",
       "  'Cryselle',\n",
       "  'Tri-Previfem',\n",
       "  'Loestrin 24 Fe',\n",
       "  'Nora-Be',\n",
       "  'Estarylla',\n",
       "  'Seasonique',\n",
       "  'Aviane',\n",
       "  'Necon 1 / 35',\n",
       "  'Aygestin',\n",
       "  'TriNessa',\n",
       "  'Previfem',\n",
       "  'Sprintec',\n",
       "  'Mononessa',\n",
       "  'LoSeasonique',\n",
       "  'Necon 1 / 50',\n",
       "  'Lutera',\n",
       "  'Levlen',\n",
       "  'Megestrol',\n",
       "  'Camila',\n",
       "  'Jolivette',\n",
       "  'Lyza',\n",
       "  'Seasonale',\n",
       "  'TriNessa Lo',\n",
       "  'Levora',\n",
       "  'Low-Ogestrel-21',\n",
       "  'Gildess Fe 1.5 / 30',\n",
       "  'Amethia Lo',\n",
       "  'Ethinyl estradiol / etonogestrel',\n",
       "  'Jolessa',\n",
       "  'Desogestrel / ethinyl estradiol',\n",
       "  'Ortho Micronor',\n",
       "  'Junel Fe 1 / 20',\n",
       "  'Apri',\n",
       "  'Gildess Fe 1 / 20',\n",
       "  'Megace',\n",
       "  'Chateal',\n",
       "  'Tri-Lo-Sprintec',\n",
       "  'Premarin',\n",
       "  'Orsythia',\n",
       "  'Tri-Linyah',\n",
       "  'Heather',\n",
       "  'Falmina',\n",
       "  'Junel Fe 1.5 / 30',\n",
       "  'Ortho Tri-Cyclen Lo',\n",
       "  'Nortrel 1 / 35',\n",
       "  'Tri-Lo-Marzia',\n",
       "  'Microgestin Fe 1.5 / 30',\n",
       "  'Microgestin 1 / 20',\n",
       "  'Conjugated estrogens',\n",
       "  'Lo / Ovral-28',\n",
       "  'Alyacen 1 / 35',\n",
       "  'Ortho-Novum 7 / 7 / 7',\n",
       "  'Balziva',\n",
       "  'Loestrin 21 1 / 20',\n",
       "  'CamreseLo',\n",
       "  'Ethinyl estradiol / ethynodiol',\n",
       "  'Errin',\n",
       "  'Microgestin Fe 1 / 20',\n",
       "  'Ortho Cyclen',\n",
       "  'Portia',\n",
       "  'Ovcon 35'],\n",
       " 'Abortion': ['Misoprostol', 'Cytotec', 'Mifepristone'],\n",
       " 'Acetaminophen Overdose': ['Acetylcysteine', 'Mucomyst-10'],\n",
       " 'Acne': ['Tretinoin',\n",
       "  'Ethinyl estradiol / norgestimate',\n",
       "  'Spironolactone',\n",
       "  'Adapalene / benzoyl peroxide',\n",
       "  'Isotretinoin',\n",
       "  'Aczone',\n",
       "  'Epiduo',\n",
       "  'Accutane',\n",
       "  'Solodyn',\n",
       "  'Ziana',\n",
       "  'Doxycycline',\n",
       "  'TriNessa',\n",
       "  'Tri-Sprintec',\n",
       "  'Benzoyl peroxide / clindamycin',\n",
       "  'Clindamycin / tretinoin',\n",
       "  'Differin',\n",
       "  'Minocycline',\n",
       "  'Atralin',\n",
       "  'Drospirenone / ethinyl estradiol',\n",
       "  'Sulfamethoxazole / trimethoprim',\n",
       "  'Clindamycin',\n",
       "  'Duac',\n",
       "  'Dapsone',\n",
       "  'Yaz',\n",
       "  'Doryx',\n",
       "  'Loestrin 24 Fe',\n",
       "  'Microgestin Fe 1 / 20',\n",
       "  'Adapalene',\n",
       "  'Estarylla',\n",
       "  'Magnesium hydroxide',\n",
       "  'Gildess Fe 1.5 / 30',\n",
       "  'Monodox',\n",
       "  'Aldactone',\n",
       "  'Drospirenone / ethinyl estradiol / levomefolate calcium',\n",
       "  'Junel Fe 1 / 20',\n",
       "  'Tazarotene',\n",
       "  'Ethinyl estradiol / norethindrone',\n",
       "  'Benzoyl peroxide / erythromycin',\n",
       "  'Finacea',\n",
       "  'Claravis',\n",
       "  'Acanya',\n",
       "  'Benzaclin',\n",
       "  'Yasmin',\n",
       "  'Loestrin Fe 1 / 20',\n",
       "  'Loryna',\n",
       "  'NuOx',\n",
       "  'Beyaz',\n",
       "  'Bactrim',\n",
       "  'Benzoyl peroxide',\n",
       "  'Sulfacetamide sodium / sulfur',\n",
       "  'Tri-Previfem',\n",
       "  'Gianvi',\n",
       "  'Ortho Tri-Cyclen',\n",
       "  'Tretin-X',\n",
       "  'Retin-A',\n",
       "  'Gildess Fe 1 / 20',\n",
       "  'Tazorac',\n",
       "  'Zenatane',\n",
       "  'Fabior',\n",
       "  'Ocella',\n",
       "  'PanOxyl',\n",
       "  'Benzoyl peroxide / hydrocortisone',\n",
       "  'Avita',\n",
       "  'Junel Fe 1.5 / 30',\n",
       "  'Tri-Linyah',\n",
       "  'Minocin',\n",
       "  'Epiduo Forte',\n",
       "  'Veltin',\n",
       "  'Amnesteem',\n",
       "  'Azelaic acid',\n",
       "  'Bactrim DS',\n",
       "  'Tri-Estarylla',\n",
       "  'TriNessa Lo',\n",
       "  'Tetracycline',\n",
       "  'Retin A Micro',\n",
       "  'Benzamycin',\n",
       "  'Clindagel',\n",
       "  'Onexton',\n",
       "  'Sulfur',\n",
       "  'Adoxa',\n",
       "  'Norinyl 1+35',\n",
       "  'Clarifoam EF',\n",
       "  'Doxy 100',\n",
       "  'Benzoyl peroxide / sulfur',\n",
       "  'Dynacin',\n",
       "  'Keflex',\n",
       "  'SMZ-TMP DS',\n",
       "  'Septra',\n",
       "  'Acticlate',\n",
       "  'Salicylic acid / sulfur',\n",
       "  'Myorisan',\n",
       "  'Microgestin Fe 1.5 / 30',\n",
       "  'Sumadan',\n",
       "  'Altabax',\n",
       "  'Salicylic acid',\n",
       "  'Azelex',\n",
       "  'Cyclafem 1 / 35',\n",
       "  'Ortho-Novum 1 / 35',\n",
       "  'Absorica',\n",
       "  'Hexachlorophene',\n",
       "  'Oxy-10',\n",
       "  'Avar',\n",
       "  'Vibramycin',\n",
       "  'Retapamulin',\n",
       "  'Fostex Medicated',\n",
       "  'BenzEFoam',\n",
       "  'Cephalexin',\n",
       "  'PanOxyl 10% Acne Foaming Wash',\n",
       "  'Vestura',\n",
       "  'BP Wash',\n",
       "  'femhrt',\n",
       "  'Resorcinol / sulfur',\n",
       "  'Pernox',\n",
       "  'Ery Pads',\n",
       "  'Benzoyl peroxide / salicylic acid',\n",
       "  'Milk of Magnesia',\n",
       "  'Erythromycin',\n",
       "  'Desquam-X Wash',\n",
       "  'Sotret',\n",
       "  'Inova 4 / 1',\n",
       "  'Necon 1 / 35',\n",
       "  'BenzEFoam Ultra',\n",
       "  'Necon 7 / 7 / 7',\n",
       "  'Nortrel 1 / 35',\n",
       "  'Acnex',\n",
       "  'Vanoxide-HC',\n",
       "  \"Phillips' Milk of Magnesia\"],\n",
       " 'Actinic Keratosis': ['Fluorouracil',\n",
       "  'Ingenol',\n",
       "  'Carac',\n",
       "  'Picato',\n",
       "  'Tolak',\n",
       "  'Efudex'],\n",
       " 'Acute Coronary Syndrome': ['Effient',\n",
       "  'Ticagrelor',\n",
       "  'Brilinta',\n",
       "  'Prasugrel',\n",
       "  'Plavix',\n",
       "  'Clopidogrel'],\n",
       " 'Acute Lymphoblastic Leukemia': ['Gleevec',\n",
       "  'Dasatinib',\n",
       "  'Iclusig',\n",
       "  'Imatinib',\n",
       "  'Ponatinib',\n",
       "  'Sprycel'],\n",
       " 'Acute Nonlymphocytic Leukemia': ['Isotretinoin', 'Accutane'],\n",
       " 'Acute Otitis Externa': ['Ciprofloxacin'],\n",
       " 'Acute Promyelocytic Leukemia': ['Arsenic trioxide', 'Vesanoid', 'Tretinoin'],\n",
       " \"Addison's Disease\": ['Decadron',\n",
       "  'Dexamethasone',\n",
       "  'Hydrocortisone',\n",
       "  'Hydrocortone',\n",
       "  'Fludrocortisone',\n",
       "  'Florinef Acetate'],\n",
       " 'Adrenocortical Insufficiency': ['Prednisone', 'Hydrocortisone', 'Cortef'],\n",
       " 'Adult Human Growth Hormone Deficiency': ['Humatrope',\n",
       "  'Somatropin',\n",
       "  'Omnitrope',\n",
       "  'Norditropin',\n",
       "  'Saizen'],\n",
       " 'Aggressive Behavi': ['Haloperidol'],\n",
       " 'Agitated State': ['Abilify', 'Aripiprazole'],\n",
       " 'Agitation': ['Risperidone',\n",
       "  'Olanzapine',\n",
       "  'Citalopram',\n",
       "  'Zyprexa Intramuscular',\n",
       "  'Loxapine'],\n",
       " 'Alcohol Dependence': ['Naltrexone',\n",
       "  'Campral',\n",
       "  'Acamprosate',\n",
       "  'Ondansetron',\n",
       "  'Disulfiram',\n",
       "  'Antabuse',\n",
       "  'Vivitrol',\n",
       "  'Revia'],\n",
       " 'Alcohol Withdrawal': ['Baclofen',\n",
       "  'Librium',\n",
       "  'Chlordiazepoxide',\n",
       "  'Catapres',\n",
       "  'Gabapentin',\n",
       "  'Clonidine',\n",
       "  'Atenolol',\n",
       "  'Lioresal',\n",
       "  'Diazepam',\n",
       "  'Serax',\n",
       "  'Neurontin',\n",
       "  'Clorazepate',\n",
       "  'Valium',\n",
       "  'Oxazepam',\n",
       "  'Tranxene'],\n",
       " 'Allergic Reactions': ['Epinephrine',\n",
       "  'Dexchlorpheniramine',\n",
       "  'Prednisone',\n",
       "  'Phenergan',\n",
       "  'Cyproheptadine',\n",
       "  'Benadryl',\n",
       "  'EpiPen',\n",
       "  'Diphenhydramine',\n",
       "  'Chlorpheniramine',\n",
       "  'Triamcinolone',\n",
       "  'Chlor-Trimeton',\n",
       "  'Loratadine',\n",
       "  'Benadryl Allergy',\n",
       "  'Promethazine',\n",
       "  'Deltasone',\n",
       "  'Aristocort',\n",
       "  'Q-Dryl'],\n",
       " 'Allergic Rhinitis': ['Loratadine',\n",
       "  'Montelukast',\n",
       "  'Azelastine / fluticasone',\n",
       "  'Azelastine',\n",
       "  'Dymista',\n",
       "  'Desloratadine',\n",
       "  'Fexofenadine',\n",
       "  'Dexbrompheniramine / pseudoephedrine',\n",
       "  'Fluticasone',\n",
       "  'Loratadine / pseudoephedrine',\n",
       "  'R-Tanna',\n",
       "  'Xyzal',\n",
       "  'Methylprednisolone',\n",
       "  'Patanase',\n",
       "  'Nasacort',\n",
       "  'Chlorpheniramine',\n",
       "  'Flonase',\n",
       "  'Mometasone',\n",
       "  'Fexofenadine / pseudoephedrine',\n",
       "  'Brompheniramine',\n",
       "  'Claritin',\n",
       "  'Zyrtec',\n",
       "  'Triamcinolone',\n",
       "  'Nasacort Allergy 24HR',\n",
       "  'Singulair',\n",
       "  'Diphenhydramine',\n",
       "  'Cetirizine',\n",
       "  'Clarinex',\n",
       "  'Levocetirizine',\n",
       "  'Drixoral Cold and Allergy',\n",
       "  'Olopatadine',\n",
       "  'Astelin',\n",
       "  'Nasonex',\n",
       "  'Astepro',\n",
       "  'Allegra-D 12 Hour',\n",
       "  'Kenalog-40',\n",
       "  'Cetirizine / pseudoephedrine',\n",
       "  'Allegra',\n",
       "  'Drixoral Cold / Flu',\n",
       "  'Nasacort AQ',\n",
       "  'Ciclesonide',\n",
       "  'Dexamethasone',\n",
       "  'Carbinoxamine',\n",
       "  'Prednisone',\n",
       "  'Allegra Allergy',\n",
       "  'Benadryl',\n",
       "  'Pseudoephedrine / triprolidine',\n",
       "  'Chlorpheniramine / phenylephrine',\n",
       "  'Allegra-D 24 Hour',\n",
       "  'Dexchlorpheniramine',\n",
       "  'Chlorpheniramine / pseudoephedrine',\n",
       "  'All Day Allergy',\n",
       "  'Omnaris',\n",
       "  'Chlor-Trimeton',\n",
       "  'QNASL',\n",
       "  'Diphenhydramine / pseudoephedrine',\n",
       "  'Claritin-D',\n",
       "  'Actifed',\n",
       "  'Beconase AQ',\n",
       "  'Beclomethasone',\n",
       "  'Rhinocort',\n",
       "  'Zyrtec-D 12 Hour',\n",
       "  'Claritin-D 24 Hour',\n",
       "  'Veramyst',\n",
       "  'Palgic',\n",
       "  'Budesonide',\n",
       "  'Brompheniramine / pseudoephedrine',\n",
       "  \"Children's Claritin Allergy\",\n",
       "  'Diphenhydramine / phenylephrine',\n",
       "  'Rhinocort Aqua',\n",
       "  'Chlorpheniramine / methscopolamine / pseudoephedrine',\n",
       "  'Benadryl Allergy',\n",
       "  'Wal-finate',\n",
       "  'Nasarel',\n",
       "  'Promethazine',\n",
       "  'Zyrtec-D',\n",
       "  'Semprex-D',\n",
       "  'Decadron',\n",
       "  'Medrol Dosepak',\n",
       "  'Flunisolide',\n",
       "  'Allegra ODT',\n",
       "  'Phenergan',\n",
       "  'Benadryl Allergy Sinus',\n",
       "  'Deconamine',\n",
       "  'Clarinex-D 12 Hour',\n",
       "  'Acetaminophen / dexbrompheniramine / pseudoephedrine',\n",
       "  'Clemastine',\n",
       "  'Desloratadine / pseudoephedrine',\n",
       "  'Alavert D-12 Hour Allergy and Sinus',\n",
       "  'Acrivastine / pseudoephedrine',\n",
       "  'Rynatan',\n",
       "  'Claritin-D 12 Hour',\n",
       "  'Alahist LQ',\n",
       "  'Flonase Sensimist',\n",
       "  'Cyproheptadine'],\n",
       " 'Allergic Urticaria': ['Hydroxyzine', 'Atarax', 'Famotidine', 'Vistaril'],\n",
       " 'Allergies': ['Hydroxyzine',\n",
       "  'Xyzal',\n",
       "  'Levocetirizine',\n",
       "  'Zymine',\n",
       "  'Atarax',\n",
       "  'Triprolidine',\n",
       "  'Acthar',\n",
       "  'Vistaril',\n",
       "  'Hyzine',\n",
       "  'Corticotropin'],\n",
       " 'Alopecia': ['Minoxidil',\n",
       "  'Kenalog-10',\n",
       "  'Triamcinolone',\n",
       "  \"Rogaine Women's\",\n",
       "  'Spironolactone',\n",
       "  'Rogaine',\n",
       "  'Aldactone',\n",
       "  \"Rogaine Men's Extra Strength\"],\n",
       " 'Alpha-1 Proteinase Inhibitor Deficiency': ['Alpha 1-proteinase inhibitor',\n",
       "  'Prolastin-C',\n",
       "  'Zemaira'],\n",
       " \"Alzheimer's Disease\": ['Memantine',\n",
       "  'Donepezil',\n",
       "  'Rivastigmine',\n",
       "  'Galantamine',\n",
       "  'Aricept',\n",
       "  'Namenda XR',\n",
       "  'Exelon',\n",
       "  'Namenda',\n",
       "  'Razadyne ER',\n",
       "  'Aricept ODT'],\n",
       " 'Amebiasis': ['Metronidazole', 'Tinidazole'],\n",
       " 'Amenorrhea': ['Provera',\n",
       "  'Medroxyprogesterone',\n",
       "  'Norethindrone',\n",
       "  'Depo-Provera',\n",
       "  'Jolivette',\n",
       "  'Progesterone',\n",
       "  'Prometrium'],\n",
       " 'Amyotrophic Lateral Sclerosis': ['Riluzole'],\n",
       " 'Anal Fissure and Fistula': ['Nitroglycerin', 'Rectiv'],\n",
       " 'Anal Itching': ['Boudreaux Butt Paste',\n",
       "  'Dibucaine',\n",
       "  'Pramoxine',\n",
       "  'Clobetasol',\n",
       "  'Zinc"
      ]
     },
     "execution_count": 3,
     "metadata": {},
     "output_type": "execute_result"
    },
    {
     "data": {
      "text/html": [
       "<b>limit_output extension: Maximum message size of 10000 exceeded with 170227 characters</b>"
      ]
     },
     "metadata": {},
     "output_type": "display_data"
    }
   ],
   "source": [
    "drug_disease_dict"
   ]
  },
  {
   "cell_type": "code",
   "execution_count": 4,
   "metadata": {
    "ExecuteTime": {
     "end_time": "2020-03-12T18:13:26.802780Z",
     "start_time": "2020-03-12T18:13:26.798189Z"
    }
   },
   "outputs": [
    {
     "name": "stdout",
     "output_type": "stream",
     "text": [
      "['../BL_Work/openPrescribe/serialized/201810.gz', '../BL_Work/openPrescribe/serialized/201710.gz', '../BL_Work/openPrescribe/serialized/201203.gz', '../BL_Work/openPrescribe/serialized/201110.gz', '../BL_Work/openPrescribe/serialized/201804.gz', '../BL_Work/openPrescribe/serialized/201308.gz', '../BL_Work/openPrescribe/serialized/201708.gz', '../BL_Work/openPrescribe/serialized/201211.gz', '../BL_Work/openPrescribe/serialized/201707.gz', '../BL_Work/openPrescribe/serialized/201803.gz', '../BL_Work/openPrescribe/serialized/201410.gz', '../BL_Work/openPrescribe/serialized/201301.gz', '../BL_Work/openPrescribe/serialized/201201.gz', '../BL_Work/openPrescribe/serialized/201409.gz', '../BL_Work/openPrescribe/serialized/201812.gz', '../BL_Work/openPrescribe/serialized/201603.gz', '../BL_Work/openPrescribe/serialized/201109.gz', '../BL_Work/openPrescribe/serialized/201512.gz', '../BL_Work/openPrescribe/serialized/201601.gz', '../BL_Work/openPrescribe/serialized/201101.gz', '../BL_Work/openPrescribe/serialized/201402.gz', '../BL_Work/openPrescribe/serialized/201602.gz', '../BL_Work/openPrescribe/serialized/201206.gz', '../BL_Work/openPrescribe/serialized/201207.gz', '../BL_Work/openPrescribe/serialized/201210.gz', '../BL_Work/openPrescribe/serialized/201404.gz', '../BL_Work/openPrescribe/serialized/201105.gz', '../BL_Work/openPrescribe/serialized/201705.gz', '../BL_Work/openPrescribe/serialized/201509.gz', '../BL_Work/openPrescribe/serialized/201802.gz', '../BL_Work/openPrescribe/serialized/201307.gz', '../BL_Work/openPrescribe/serialized/201902.gz', '../BL_Work/openPrescribe/serialized/201204.gz', '../BL_Work/openPrescribe/serialized/201104.gz', '../BL_Work/openPrescribe/serialized/201102.gz', '../BL_Work/openPrescribe/serialized/201507.gz', '../BL_Work/openPrescribe/serialized/201502.gz', '../BL_Work/openPrescribe/serialized/201103.gz', '../BL_Work/openPrescribe/serialized/201704.gz', '../BL_Work/openPrescribe/serialized/201511.gz', '../BL_Work/openPrescribe/serialized/201406.gz', '../BL_Work/openPrescribe/serialized/201808.gz', '../BL_Work/openPrescribe/serialized/201904.gz', '../BL_Work/openPrescribe/serialized/201407.gz', '../BL_Work/openPrescribe/serialized/201805.gz', '../BL_Work/openPrescribe/serialized/201506.gz', '../BL_Work/openPrescribe/serialized/201008.gz', '../BL_Work/openPrescribe/serialized/201611.gz', '../BL_Work/openPrescribe/serialized/201604.gz', '../BL_Work/openPrescribe/serialized/201012.gz', '../BL_Work/openPrescribe/serialized/201411.gz', '../BL_Work/openPrescribe/serialized/201701.gz', '../BL_Work/openPrescribe/serialized/201501.gz', '../BL_Work/openPrescribe/serialized/201903.gz', '../BL_Work/openPrescribe/serialized/201612.gz', '../BL_Work/openPrescribe/serialized/201205.gz', '../BL_Work/openPrescribe/serialized/201608.gz', '../BL_Work/openPrescribe/serialized/201901.gz', '../BL_Work/openPrescribe/serialized/201510.gz', '../BL_Work/openPrescribe/serialized/201011.gz', '../BL_Work/openPrescribe/serialized/201811.gz', '../BL_Work/openPrescribe/serialized/201202.gz', '../BL_Work/openPrescribe/serialized/201009.gz', '../BL_Work/openPrescribe/serialized/201905.gz', '../BL_Work/openPrescribe/serialized/201405.gz', '../BL_Work/openPrescribe/serialized/201605.gz', '../BL_Work/openPrescribe/serialized/201709.gz', '../BL_Work/openPrescribe/serialized/201610.gz', '../BL_Work/openPrescribe/serialized/201503.gz', '../BL_Work/openPrescribe/serialized/201305.gz', '../BL_Work/openPrescribe/serialized/201906.gz', '../BL_Work/openPrescribe/serialized/201107.gz', '../BL_Work/openPrescribe/serialized/201208.gz', '../BL_Work/openPrescribe/serialized/201209.gz', '../BL_Work/openPrescribe/serialized/201609.gz', '../BL_Work/openPrescribe/serialized/201310.gz', '../BL_Work/openPrescribe/serialized/201401.gz', '../BL_Work/openPrescribe/serialized/201304.gz', '../BL_Work/openPrescribe/serialized/201504.gz', '../BL_Work/openPrescribe/serialized/201508.gz', '../BL_Work/openPrescribe/serialized/201403.gz', '../BL_Work/openPrescribe/serialized/201807.gz', '../BL_Work/openPrescribe/serialized/201312.gz', '../BL_Work/openPrescribe/serialized/201212.gz', '../BL_Work/openPrescribe/serialized/201408.gz', '../BL_Work/openPrescribe/serialized/201806.gz', '../BL_Work/openPrescribe/serialized/201412.gz', '../BL_Work/openPrescribe/serialized/201311.gz', '../BL_Work/openPrescribe/serialized/201702.gz', '../BL_Work/openPrescribe/serialized/201010.gz', '../BL_Work/openPrescribe/serialized/201505.gz', '../BL_Work/openPrescribe/serialized/201302.gz', '../BL_Work/openPrescribe/serialized/201112.gz', '../BL_Work/openPrescribe/serialized/201703.gz', '../BL_Work/openPrescribe/serialized/201801.gz', '../BL_Work/openPrescribe/serialized/201809.gz', '../BL_Work/openPrescribe/serialized/201607.gz', '../BL_Work/openPrescribe/serialized/201712.gz', '../BL_Work/openPrescribe/serialized/201606.gz', '../BL_Work/openPrescribe/serialized/201711.gz', '../BL_Work/openPrescribe/serialized/201111.gz', '../BL_Work/openPrescribe/serialized/201309.gz', '../BL_Work/openPrescribe/serialized/201106.gz', '../BL_Work/openPrescribe/serialized/201706.gz', '../BL_Work/openPrescribe/serialized/201306.gz', '../BL_Work/openPrescribe/serialized/201303.gz', '../BL_Work/openPrescribe/serialized/201108.gz']\n"
     ]
    }
   ],
   "source": [
    "files = glob.glob('../BL_Work/openPrescribe/serialized/*.gz')\n",
    "print(files)"
   ]
  },
  {
   "cell_type": "code",
   "execution_count": 6,
   "metadata": {
    "ExecuteTime": {
     "end_time": "2020-03-12T18:14:36.585532Z",
     "start_time": "2020-03-12T18:14:36.135252Z"
    },
    "collapsed": true
   },
   "outputs": [],
   "source": [
    "#Different functions to extract different data form the prescription \n",
    "\n",
    "def cleanStringofUTF(string):\n",
    "    cleaned = string.replace('\\xe8','e').replace('\\xf6','o')\n",
    "    return cleaned\n",
    "\n",
    "def enrichdrugs(chem_dict , drugs):\n",
    "    diabetes_drug_words = [drugs[k]['name'].lower() for k in drugs]\n",
    "    for drug in chem_dict:\n",
    "        Name = chem_dict[drug]['name'].replace('(','').replace(')','')\n",
    "        slot1 = Name.lower().split('/')\n",
    "        slot2 = Name.lower().split(' ')\n",
    "        slot3 = Name.lower().split(' & ')\n",
    "        common1 = set(diabetes_drug_words).intersection(slot1)\n",
    "        common2 = set(diabetes_drug_words).intersection(slot2)\n",
    "        common3 = set(diabetes_drug_words).intersection(slot3)\n",
    "        \n",
    "        if len(common1) > 0 or len(common2) > 0 or len(common3) > 0:\n",
    "            print(common1 , common2 , common3)\n",
    "            drugs[chem_dict[drug]['code']] = {'disease':'' , 'disease_given_drug':0.0 , 'matched_disease':'', 'name':chem_dict[drug]['name'].strip() }\n",
    "\n",
    "            \n",
    "            \n",
    "def makeChemDict(BNF_Chem):\n",
    "    chem_dict = {}\n",
    "    for index, row in BNF_Chem.iterrows():\n",
    "        chem_dict[row['UNII_drugbank']] = {}\n",
    "        chem_dict[row['UNII_drugbank']]['name'] = row['NAME']\n",
    "        chem_dict[row['UNII_drugbank']]['code'] = row['BNF_code']\n",
    "    return chem_dict\n",
    "    \n",
    "def getDrugCategory(categorylist, BNF_Chem, drugbankDict):\n",
    "    allMatched = []\n",
    "    drugs = {}\n",
    "    chem_dict = makeChemDict(BNF_Chem)\n",
    "    \n",
    "    for k in drugbankDict:\n",
    "        if len(drugbankDict[k]['Categories']) > 0:\n",
    "            for cat in drugbankDict[k]['Categories']:\n",
    "                matched_memo = []\n",
    "                catString = cat.values()[0]#.split('\\u2014')[-1]\n",
    "                t = catString.lower().strip()\n",
    "                for categoryString in categorylist:\n",
    "                    categoryString = categoryString.lower()\n",
    "                    if t.find(categoryString) >= 0:\n",
    "                        matched_memo.append(categoryString)\n",
    "                if k in chem_dict:\n",
    "                    if len(matched_memo) > 0:# == len(categorylist):\n",
    "                        allMatched.append(k)\n",
    "                        print (chem_dict[k])\n",
    "                        drugs[chem_dict[k]['code']] = {}\n",
    "                        drugs[chem_dict[k]['code']]['name'] = chem_dict[k]['name']\n",
    "                        drugs[chem_dict[k]['code']]['matched_cat'] = categorylist\n",
    "    enrichdrugs(chem_dict,drugs)               \n",
    "    return list(set(allMatched)) , drugs\n",
    "\n",
    "\n",
    "def getDrugforDiseaseDrugbank(categorylist, BNF_Chem, drugbankDict):\n",
    "    allMatched = []\n",
    "    drugs = {}\n",
    "    chem_dict = makeChemDict(BNF_Chem)\n",
    "    \n",
    "    for k in drugbankDict:\n",
    "        if len(drugbankDict[k]['Associations']) > 0:\n",
    "            for cat in drugbankDict[k]['Associations']:\n",
    "                matched_memo = []\n",
    "                catString = cat.values()[0]\n",
    "                t = catString.lower().strip()\n",
    "                for categoryString in categorylist:\n",
    "                    categoryString = categoryString.lower()\n",
    "                    if t.find(categoryString) >= 0:\n",
    "                        matched_memo.append(categoryString)\n",
    "                if k in chem_dict:\n",
    "                    if len(matched_memo) > 0:\n",
    "                        allMatched.append(k)\n",
    "                        print (chem_dict[k])\n",
    "                        drugs[chem_dict[k]['code']] = {}\n",
    "                        drugs[chem_dict[k]['code']]['name'] = chem_dict[k]['name']\n",
    "                        drugs[chem_dict[k]['code']]['matched_cat'] = categorylist\n",
    "    enrichdrugs(chem_dict,drugs)               \n",
    "    return  allMatched , drugs\n",
    "\n",
    "\n",
    "def findDrugsForDisease(Graph, Disease, BNF_Chem ):#,threshProb):\n",
    "    chem_dict = makeChemDict(BNF_Chem)\n",
    "    drugs = {}\n",
    "    for e in Graph.edges(data=True):\n",
    "        if (cleanStringofUTF(e[1]).lower().find(Disease.lower()) >=0) or (cleanStringofUTF(e[0]).lower().find(Disease.lower()) >= 0) :\n",
    "            drugNode = ''\n",
    "            matchedDisease = ''\n",
    "            if Graph.node[e[0]]['type'] == 'symptom':\n",
    "                drugNode = e[1]\n",
    "                matchedDisease = e[0]\n",
    "            else:\n",
    "                drugNode = e[0]\n",
    "                matchedDisease = e[1]\n",
    "            drugs[Graph.node[drugNode]['Id']] = {}\n",
    "            drugs[Graph.node[drugNode]['Id']]['name'] = drugNode\n",
    "            drugs[Graph.node[drugNode]['Id']]['matched_disease'] = matchedDisease\n",
    "            drugs[Graph.node[drugNode]['Id']]['disease'] = Disease\n",
    "    enrichdrugs(chem_dict,drugs)\n",
    "    return drugs\n",
    "\n",
    "\n",
    "def generateConfidence(drugs,Graph):\n",
    "    shared = []\n",
    "    All = []\n",
    "    denom = max(Graph.degree().values())\n",
    "    for d in drugs:\n",
    "        name = drugs[d]['name']\n",
    "        for e in Graph.edges(data=True):\n",
    "            if Graph.node[e[0]]['type'] == 'symptom':\n",
    "                if e[1] == name:\n",
    "                    shared.append(Graph.degree()[e[1]]-1)\n",
    "                else:\n",
    "                    continue\n",
    "            else:\n",
    "                \n",
    "                if e[0] == name:\n",
    "                    shared.append(Graph.degree()[e[0]]-1)\n",
    "                else:\n",
    "                    continue\n",
    "#     shared = [float(k) for k in shared]\n",
    "    num = [k for k in shared if k > 1]\n",
    "\n",
    "    return float(len(num)+1.0)/float(len(shared)+1.0)\n",
    "#     return float(len(num))/float(len(shared)) * 10.0\n",
    "#     return len(num)\n",
    "                \n",
    "                \n",
    "def findDrugsForCategory(Graph, Cat, BNF_Chem ):#,threshProb):\n",
    "    chem_dict = makeChemDict(BNF_Chem)\n",
    "    drugs = {}\n",
    "    for e in Graph.edges(data=True):\n",
    "        if (cleanStringofUTF(e[1]).lower().find(Cat.lower()) >=0) or (cleanStringofUTF(e[0]).lower().find(Cat.lower()) >= 0) :\n",
    "            drugNode = ''\n",
    "            matchedDisease = ''\n",
    "            if Graph.node[e[0]]['type'] == 'category':\n",
    "                drugNode = e[1]\n",
    "                matchedDisease = e[0]\n",
    "            else:\n",
    "                drugNode = e[0]\n",
    "                matchedDisease = e[1]\n",
    "            print (Graph.node[drugNode]['Id'])\n",
    "            drugs[Graph.node[drugNode]['Id']] = {}\n",
    "            drugs[Graph.node[drugNode]['Id']]['name'] = drugNode\n",
    "            drugs[Graph.node[drugNode]['Id']]['matched_cat'] = matchedDisease\n",
    "            drugs[Graph.node[drugNode]['Id']]['category'] = Cat\n",
    "    enrichdrugs(chem_dict,drugs)\n",
    "    return drugs\n",
    "\n",
    "def findDrugByName(Graph, name):\n",
    "    foundDrugs = []\n",
    "    for node in Graph.nodes(data=True):\n",
    "        if node[1]['type'] == 'drug':\n",
    "            if name.lower() in node[0].lower().split(' '):\n",
    "                foundDrugs.append(node)\n",
    "    return foundDrugs\n",
    "\n",
    "def relabelNodes(graph):\n",
    "    mapping = {}\n",
    "    for node in graph.nodes():\n",
    "        mapping[node] = cleanStringofUTF(node)\n",
    "        \n",
    "    return nx.relabel_nodes(graph,mapping)\n",
    "\n",
    "\n",
    "def readChem(year,files):\n",
    "    for f in files:\n",
    "        if f.find(year)>0:\n",
    "            if f.find('CHEM') > 0:\n",
    "                df = pd.read_csv(f,compression='infer',header=None,skiprows=1)\n",
    "                return df\n",
    "\n",
    "def readAddress(year,files):\n",
    "    for f in files:\n",
    "        if f.find(year)>0:\n",
    "            if f.find('ADDR') > 0:\n",
    "                df = pd.read_csv(f,compression='infer',header=None,skiprows=1)\n",
    "                return df\n",
    "\n",
    "def readPrescriptions(year,files):\n",
    "    for f in files:\n",
    "        if f.find(year)>0:\n",
    "            if f.find('PDPI') > 0:\n",
    "                df = pd.read_csv(f,compression='infer',header=None,skiprows=1)\n",
    "                return df"
   ]
  },
  {
   "cell_type": "code",
   "execution_count": 7,
   "metadata": {
    "ExecuteTime": {
     "end_time": "2020-03-12T18:14:38.175729Z",
     "start_time": "2020-03-12T18:14:37.476292Z"
    },
    "collapsed": true
   },
   "outputs": [],
   "source": [
    "with open('scratchpad/Bipartite_Drug_graph.pkl','rb') as f:\n",
    "    drug_association_graph  = pkl.load(f)\n",
    "\n",
    "with open('scratchpad/Bipartite_Drug_category_graph.pkl','rb') as f:\n",
    "    drug_cat_association_graph  = pkl.load(f)"
   ]
  },
  {
   "cell_type": "code",
   "execution_count": 11,
   "metadata": {
    "ExecuteTime": {
     "end_time": "2020-03-12T18:14:58.485742Z",
     "start_time": "2020-03-12T18:14:58.476145Z"
    },
    "collapsed": true
   },
   "outputs": [],
   "source": [
    "#Get manually curated disease drug associaltions\n",
    "\n",
    "drug_associations_adam = pd.read_csv('scratchpad/heatwave_diseases_drugs_filtered.csv', header = None)"
   ]
  },
  {
   "cell_type": "code",
   "execution_count": 12,
   "metadata": {
    "ExecuteTime": {
     "end_time": "2020-03-12T18:14:59.122998Z",
     "start_time": "2020-03-12T18:14:59.101484Z"
    }
   },
   "outputs": [
    {
     "data": {
      "text/html": [
       "<div>\n",
       "<style scoped>\n",
       "    .dataframe tbody tr th:only-of-type {\n",
       "        vertical-align: middle;\n",
       "    }\n",
       "\n",
       "    .dataframe tbody tr th {\n",
       "        vertical-align: top;\n",
       "    }\n",
       "\n",
       "    .dataframe thead th {\n",
       "        text-align: right;\n",
       "    }\n",
       "</style>\n",
       "<table border=\"1\" class=\"dataframe\">\n",
       "  <thead>\n",
       "    <tr style=\"text-align: right;\">\n",
       "      <th></th>\n",
       "      <th>0</th>\n",
       "      <th>1</th>\n",
       "      <th>2</th>\n",
       "    </tr>\n",
       "  </thead>\n",
       "  <tbody>\n",
       "    <tr>\n",
       "      <th>0</th>\n",
       "      <td>Acute Anxiety</td>\n",
       "      <td>Bromazepam</td>\n",
       "      <td>Anxiety</td>\n",
       "    </tr>\n",
       "    <tr>\n",
       "      <th>1</th>\n",
       "      <td>Allergic Rhinitis</td>\n",
       "      <td>Ciclesonide</td>\n",
       "      <td>Allergic Rhinitis</td>\n",
       "    </tr>\n",
       "    <tr>\n",
       "      <th>2</th>\n",
       "      <td>Allergic Rhinitis</td>\n",
       "      <td>Dexchlorpheniramine</td>\n",
       "      <td>Allergic Rhinitis</td>\n",
       "    </tr>\n",
       "    <tr>\n",
       "      <th>3</th>\n",
       "      <td>Allergic Rhinitis</td>\n",
       "      <td>Flunisolide</td>\n",
       "      <td>Allergic Rhinitis</td>\n",
       "    </tr>\n",
       "    <tr>\n",
       "      <th>4</th>\n",
       "      <td>Allergic Rhinitis</td>\n",
       "      <td>Montelukast</td>\n",
       "      <td>Allergic Rhinitis</td>\n",
       "    </tr>\n",
       "  </tbody>\n",
       "</table>\n",
       "</div>"
      ],
      "text/plain": [
       "                   0                    1                  2\n",
       "0      Acute Anxiety           Bromazepam            Anxiety\n",
       "1  Allergic Rhinitis          Ciclesonide  Allergic Rhinitis\n",
       "2  Allergic Rhinitis  Dexchlorpheniramine  Allergic Rhinitis\n",
       "3  Allergic Rhinitis          Flunisolide  Allergic Rhinitis\n",
       "4  Allergic Rhinitis          Montelukast  Allergic Rhinitis"
      ]
     },
     "execution_count": 12,
     "metadata": {},
     "output_type": "execute_result"
    }
   ],
   "source": [
    "\n",
    "drug_associations_adam.head()"
   ]
  },
  {
   "cell_type": "code",
   "execution_count": 13,
   "metadata": {
    "ExecuteTime": {
     "end_time": "2020-03-12T18:15:04.937561Z",
     "start_time": "2020-03-12T18:15:04.875417Z"
    }
   },
   "outputs": [
    {
     "name": "stdout",
     "output_type": "stream",
     "text": [
      "7954\n",
      "33493\n",
      "4029\n",
      "4047\n"
     ]
    }
   ],
   "source": [
    "print len(drug_association_graph.edges()) \n",
    "print len(drug_cat_association_graph.edges())\n",
    "print len(drug_association_graph.nodes()) \n",
    "print len(drug_cat_association_graph.nodes())"
   ]
  },
  {
   "cell_type": "code",
   "execution_count": 14,
   "metadata": {
    "ExecuteTime": {
     "end_time": "2020-03-12T18:15:07.617197Z",
     "start_time": "2020-03-12T18:15:06.884580Z"
    },
    "collapsed": true
   },
   "outputs": [],
   "source": [
    "drugbank_dict = json.load(open('scratchpad/Drugbank_drugs_data.json','rb'))\n",
    "# chem = readChem('201601',files)\n",
    "chem = pd.read_csv('../BL_Work/CHEM_MASTER_MAP.csv')\n",
    "len(chem)\n",
    "\n",
    "# chem = chem.dropna()\n",
    "\n",
    "matched = chem[chem['UNII_drugbank']!='[]']\n",
    "\n",
    "matchedMap = {}\n",
    "for index,row in matched.iterrows():\n",
    "    if row['UNII_drugbank'] not in matchedMap:\n",
    "         matchedMap[row['UNII_drugbank']] = []\n",
    "    matchedMap[row['UNII_drugbank']].append(row['BNF_code'])"
   ]
  },
  {
   "cell_type": "code",
   "execution_count": 15,
   "metadata": {
    "ExecuteTime": {
     "end_time": "2020-03-12T18:15:21.631611Z",
     "start_time": "2020-03-12T18:15:08.346560Z"
    },
    "collapsed": true
   },
   "outputs": [],
   "source": [
    "for k in drugbank_dict:\n",
    "    name  = drugbank_dict[k]['Name']\n",
    "    for l in drug_disease_dict:\n",
    "        drugs = drug_disease_dict[l]\n",
    "        cleaned_drugs = [x.replace('/','') for x in drugs]\n",
    "        if name in cleaned_drugs:\n",
    "            entry = {'/indications/DCOM':l}\n",
    "            drugbank_dict[k]['Associations'].append(entry)"
   ]
  },
  {
   "cell_type": "code",
   "execution_count": 16,
   "metadata": {
    "ExecuteTime": {
     "end_time": "2020-03-12T18:15:21.952121Z",
     "start_time": "2020-03-12T18:15:21.919952Z"
    },
    "collapsed": true
   },
   "outputs": [],
   "source": [
    "indication_List = {'Drug' : [] , 'Association':[]}\n",
    "\n",
    "for k in drugbank_dict:\n",
    "    name =  drugbank_dict[k]['Name']\n",
    "    if len(drugbank_dict[k]['Associations']) > 0:\n",
    "        for condition in drugbank_dict[k]['Associations']:\n",
    "            condition_name = condition[condition.keys()[0]]\n",
    "            indication_List['Drug'].append(name)\n",
    "            indication_List['Association'].append(condition_name.encode('utf-8'))\n",
    "            \n"
   ]
  },
  {
   "cell_type": "code",
   "execution_count": 17,
   "metadata": {
    "ExecuteTime": {
     "end_time": "2020-03-12T18:15:22.253700Z",
     "start_time": "2020-03-12T18:15:22.225835Z"
    },
    "collapsed": true
   },
   "outputs": [],
   "source": [
    "indication_df = pd.DataFrame.from_dict(indication_List)\n",
    "indication_df.to_csv('Disease_drug_map.csv')"
   ]
  },
  {
   "cell_type": "code",
   "execution_count": 18,
   "metadata": {
    "ExecuteTime": {
     "end_time": "2020-03-12T18:15:22.638838Z",
     "start_time": "2020-03-12T18:15:22.532564Z"
    },
    "collapsed": true
   },
   "outputs": [],
   "source": [
    "condition_Association_map = {}\n",
    "for k in drugbank_dict:\n",
    "    if len(drugbank_dict[k]['Associations']) > 0:\n",
    "        for ass in drugbank_dict[k]['Associations']:\n",
    "            \n",
    "            disease = ass[ass.keys()[0]]\n",
    "            if disease not in condition_Association_map:\n",
    "                condition_Association_map[disease] = []\n",
    "            condition_Association_map[disease].append(drugbank_dict[k]['Name'])\n",
    "    \n",
    "\n",
    "category_Association_map = {}\n",
    "for k in drugbank_dict:\n",
    "    if len(drugbank_dict[k]['Categories']) > 0:\n",
    "        for ass in drugbank_dict[k]['Categories']:\n",
    "            \n",
    "            disease = ass[ass.keys()[0]]\n",
    "            if disease not in category_Association_map:\n",
    "                category_Association_map[disease] = []\n",
    "            category_Association_map[disease].append(drugbank_dict[k]['Name'])"
   ]
  },
  {
   "cell_type": "code",
   "execution_count": 19,
   "metadata": {
    "ExecuteTime": {
     "end_time": "2020-03-12T18:15:22.988500Z",
     "start_time": "2020-03-12T18:15:22.936718Z"
    },
    "collapsed": true
   },
   "outputs": [],
   "source": [
    "commonKeys = set(drugbank_dict.keys()).intersection(matchedMap.keys())\n",
    "\n",
    "category_BNF_map = {}\n",
    "for k in commonKeys:\n",
    "    if len(drugbank_dict[k]['Categories']) > 0:\n",
    "        for ass in drugbank_dict[k]['Categories']:\n",
    "            \n",
    "            disease = ass[ass.keys()[0]]\n",
    "            if disease not in category_BNF_map:\n",
    "                category_BNF_map[disease] = []\n",
    "            BNF_code = matched\n",
    "            category_BNF_map[disease]+=matchedMap[k]"
   ]
  },
  {
   "cell_type": "code",
   "execution_count": 20,
   "metadata": {
    "ExecuteTime": {
     "end_time": "2020-03-12T18:15:23.443879Z",
     "start_time": "2020-03-12T18:15:23.310386Z"
    }
   },
   "outputs": [
    {
     "data": {
      "text/plain": [
       "{'JCV8365FWN': ['0206040AR'],\n",
       " '8KQ660G60G': ['0602020D0'],\n",
       " 'O9U0F09D5X': ['0402010G0'],\n",
       " '0CD5FD6S2M': ['1304000N0'],\n",
       " '27Y3KJK423': ['0301030B0', '0301030C0', '0301030D0'],\n",
       " 'LW0TIW155Z': ['1001010X0'],\n",
       " 'Z633861EIM': ['0908010AM'],\n",
       " 'MZ1IW7Q79D': ['0503021A0'],\n",
       " '5D06587D6R': ['0406000AB'],\n",
       " 'J4ZHN3HBTE': ['0206020N0'],\n",
       " 'S915P5499N': ['0901070B0'],\n",
       " 'E89I1637KE': ['0601023I0'],\n",
       " 'Q94YYU22B8': ['0405020E0'],\n",
       " '9100L32L2N': ['0601022B0'],\n",
       " '3G6A5W338E': ['0309020F0',\n",
       "  '0404000D0',\n",
       "  '0404000E0',\n",
       "  '0407010AA',\n",
       "  '0407010U0'],\n",
       " 'CUB7JI0JV3': ['1203030D0', '1203040C0'],\n",
       " '742SXX0ICT': ['0205010Z0', '0704050R0'],\n",
       " 'N0A3Z5XTC6': ['1105000S0'],\n",
       " '1XU104G55N': ['0212000AD'],\n",
       " '42H8PQ0NMJ': ['0206040AE'],\n",
       " '62XCK0G93T': ['0501110N0'],\n",
       " '61JJC8N5ZK': ['0504050T0'],\n",
       " 'WV5EC51866': ['0405020S0'],\n",
       " '5Y5F15120W': ['0605010R0'],\n",
       " 'GWH6IJ239E': ['0401030C0', '0401030E0'],\n",
       " 'MDY902UXSR': ['020400070'],\n",
       " '953A26OA1Y': ['0307000K0'],\n",
       " 'GNN1DV99GX': ['1001030F0'],\n",
       " 'KXO2KT9N0G': ['0212000X0'],\n",
       " 'L6O3XI777I': ['0503040A0'],\n",
       " '9JU12S4YFY': ['0604020E0'],\n",
       " 'W36ZG6FT64': ['0802020U0'],\n",
       " '0IHC698356': ['0101010F0', '0905022U0'],\n",
       " '59NEE7PCAB': ['1310040I0'],\n",
       " '0VUA21238F': ['0801050AT'],\n",
       " 'S57Y5X1117': ['1310020T0'],\n",
       " 'I031V2H011': ['1001030W0'],\n",
       " 'S8U3J5W06N': ['1501050C0'],\n",
       " '6Q205EH1VU': ['0501070U0', '1103010Z0'],\n",
       " 'K5BN214699': ['0908010AF'],\n",
       " '6V5034L121': ['0604011C0'],\n",
       " 'BL03SY4LXB': ['0403010V0'],\n",
       " 'L35JN3I7SJ': ['0205051R0'],\n",
       " '13G1DMN4P0': ['0301030N0'],\n",
       " 'FA517NS3N7': ['1304000AC'],\n",
       " 'WTT295HSY5': ['0601023AQ'],\n",
       " 'QGP4HA4G1B': ['0802040AI'],\n",
       " 'J712EO9048': ['0401010X0'],\n",
       " 'K9P6MC7092': ['0102000Q0', '0704020J0', '0704040G0'],\n",
       " 'WCK1KIQ23Q': ['0501030B0', '1103010D0', '1310012C0'],\n",
       " '0J48LPH2TH': ['0202010L0'],\n",
       " 'PUB9T8T355': ['0803041F0'],\n",
       " 'ZS9KD92H6V': ['0607030M0'],\n",
       " 'S72Q2F09HY': ['050102020'],\n",
       " 'ND2M416302': ['1201030I0', '1311010I0'],\n",
       " '2BTY8KH53L': ['0901030I0'],\n",
       " 'X72RBB02N8': ['0408010AA'],\n",
       " '76J0853EKA': ['0307000Q0'],\n",
       " 'H4G605B7VP': ['0803020D0'],\n",
       " '1Y740ILL1Z': ['0307000S0'],\n",
       " 'ZB6F8MY53V': ['0207010G0'],\n",
       " '03QB156W6I': ['0501012U0'],\n",
       " 'GF99P6327K': ['0212000S0'],\n",
       " 'PUE0TO3XDR': ['0208010AC'],\n",
       " 'OHZ8QAW6YC': ['0401030H0'],\n",
       " 'F4216019LN': ['0505030A0'],\n",
       " '7D96IR0PPM': ['0801050BA'],\n",
       " 'QX3KXL1ZA2': ['0407041M0'],\n",
       " 'DR5S136IVO': ['0704050AC'],\n",
       " 'R9400W927I': ['0502000N0', '0502020A0', '1309000I0', '1310020L0'],\n",
       " '4QIH0N49E7': ['0505020C0'],\n",
       " 'W31X2H97FB': ['0202020U0'],\n",
       " '01ZG3TPX31': ['0403040B0', '0410020A0'],\n",
       " '982XCM1FOI': ['0601021X0'],\n",
       " '8G15T83E6I': ['0301020P0'],\n",
       " '759N8462G8': ['0401010N0'],\n",
       " '1O4XL5SN61': ['0407041B0'],\n",
       " 'CHH9H12AQ3': ['0206040AJ'],\n",
       " 'S07O44R1ZM': ['0407030AE', '1003020AA'],\n",
       " 'F2VW3D43YT': ['1306010B0'],\n",
       " '24YL531VOH': ['0211000D0'],\n",
       " '7LKK855W8I': ['0803041L0'],\n",
       " '6PLQ3CP4P3': ['0801040D0'],\n",
       " '886U3H6UFF': ['0504010F0', '0504010G0'],\n",
       " '7GR28W0FJI': ['0801050L0'],\n",
       " 'X1J18R4W8P': ['0606020A0', '0606020Y0'],\n",
       " 'N7U69T4SZR': ['040201060', '0402020AC'],\n",
       " 'Q51BO43MG4': ['0602010V0'],\n",
       " 'HM4YQM8WRC': ['1202030C0'],\n",
       " '25ADE2236L': ['0211000C0', '0211000W0'],\n",
       " '57GNO57U7G': ['0604020C0', '1309000W0'],\n",
       " '6V88E24N5T': ['0101010M0'],\n",
       " '45KZB1FOLS': ['0701010P0'],\n",
       " '543512OBTC': ['0206040AS'],\n",
       " 'WR2TIP26VS': ['0503010E0'],\n",
       " '84319SGC3C': ['0501040C0', '0501040D0', '1103010AA'],\n",
       " '51086HBW8G': ['0407041R0'],\n",
       " 'C6QE1Q1TKR': ['0409020S0'],\n",
       " '7CZF3L922Y': ['0605020H0'],\n",
       " 'I9ZF7L6G2L': ['0107040B0', '0206020R0'],\n",
       " '4EQZ6YO2HI': ['0606020Z0'],\n",
       " 'P188ANX8CK': ['0801050AD'],\n",
       " '6CW7F3G59X': ['0407030AD', '0408010G0'],\n",
       " '2OC4HKD3SF': ['0503031C0'],\n",
       " '5J49Q6B70F': ['0801040M0'],\n",
       " '8GTS82S83M': ['0304010N0', '030902040', '1303000J0'],\n",
       " '7XIY785AZD': ['0601011P0'],\n",
       " '935E97BOY8': ['0901011Q0', '0901020G0'],\n",
       " '1WAM1OQ30B': ['0501015P0'],\n",
       " '699121PHCA': ['0801050D0'],\n",
       " 'QYJ305Z91O': ['1310020E0'],\n",
       " 'N9YNS0M02X': ['1108020C0'],\n",
       " 'XX2MN88N5D': ['1305030A0'],\n",
       " '22VKV8053U': ['0503010AE'],\n",
       " 'G70B4ETF4S': ['0503010K0'],\n",
       " '7NNO0D7S5M': ['0502000Q0',\n",
       "  '0502020B0',\n",
       "  '0702020P0',\n",
       "  '1103020M0',\n",
       "  '1203020H0',\n",
       "  '1310020N0'],\n",
       " '32828355LL': ['0103050T0'],\n",
       " '88XHZ13131': ['1305020X0'],\n",
       " '7AJO3BO7QN': ['0304010D0'],\n",
       " '92A214MD7Y': ['0401020L0'],\n",
       " 'LL60K9J05T': ['0409010U0', '0607010C0'],\n",
       " 'JCX84Q7J1L': ['0801050AY', '1001010AH'],\n",
       " 'VJT6J7R4TR': ['0501090R0', '0501090S0'],\n",
       " '27DXO59SAN': ['0203020W0'],\n",
       " 'AVX3D5A4LM': ['0602010A0'],\n",
       " '839I73S42A': ['0601012AA', '0601023AB'],\n",
       " 'D46583G77X': ['0206100M0'],\n",
       " 'WR469VI1J3': ['0904010G0'],\n",
       " '621G617227': ['0704020AD'],\n",
       " 'S61K3P7B2V': ['0504010M0', '0504010Z0'],\n",
       " 'BBX060AN9V': ['1201010S0',\n",
       "  '1203040I0',\n",
       "  '1310050H0',\n",
       "  '1311060I0',\n",
       "  '1311070J0'],\n",
       " 'U68WG3173Y': ['0801010D0'],\n",
       " 'H789N3FKE8': ['1002020C0'],\n",
       " 'Y27PUL9H56': ['0307000P0'],\n",
       " '322U039GMF': ['1103010AJ'],\n",
       " '69U0IKR8FP': ['0403010Q0'],\n",
       " 'H82Q2D5WA7': ['0407041AB'],\n",
       " 'DQ6KK6GV93': ['0202020S0'],\n",
       " '776S0UP252': ['1310020AA'],\n",
       " 'JU9YAX04C7': ['0201020M0'],\n",
       " '6B9991FLU3': ['0505010V0'],\n",
       " '9JDX055TW1': ['1106000P0'],\n",
       " '7LXU5N7ZO5': ['0202020L0'],\n",
       " '69G8BD63PP': ['0801050AC'],\n",
       " '60158CV180': ['0801030AB'],\n",
       " '395575MZO7': ['0801050S0'],\n",
       " 'CUJ2MVI71Y': ['0802020V0'],\n",
       " '94F3830Q73': ['0305010W0'],\n",
       " 'B017BC5B1N': ['1501041S0'],\n",
       " 'O26FZP769L': ['0401020P0'],\n",
       " '9Y8NXQ24VQ': ['0204000Q0', '0204000R0'],\n",
       " 'YI7VU623SF': ['1501010L0'],\n",
       " 'GU56C842ZA': ['0401010P0'],\n",
       " 'DPT0O3T46P': ['0802040AU'],\n",
       " '6KY687524K': ['0601021A0'],\n",
       " '83619PEU5T': ['0409010W0'],\n",
       " '70D95007SX': ['0309010N0', '0407020AE', '0407020K0'],\n",
       " '7N6JUD5X6Y': ['1108030E0',\n",
       "  '1203030T0',\n",
       "  '1302020B0',\n",
       "  '1309000L0',\n",
       "  '1311030D0'],\n",
       " '1HRS458QU2': ['0605010G0'],\n",
       " 'P0J3387W3S': ['0401020Q0'],\n",
       " '22X328QOC4': ['0803041AA'],\n",
       " 'K3GDH6OH08': ['0503010N0'],\n",
       " 'PP0SHH6V16': ['0212000AI'],\n",
       " '7C782967RD': ['0501013E0'],\n",
       " 'S2F83W92TK': ['0407020E0'],\n",
       " 'F93UJX4SWT': ['0501014N0', '0501014P0', '0501014R0'],\n",
       " '8QS6WCL55Z': ['1105000H0'],\n",
       " 'R63VQ857OT': ['0403010C0'],\n",
       " '7HU6337315': ['0304010B0'],\n",
       " '004F72P8F4': ['0704010C0'],\n",
       " 'KXI2J76489': ['1311040L0'],\n",
       " '40D3SCR4GZ': ['0407020B0', '0410030A0'],\n",
       " '9E01C36A9S': ['0703021C0'],\n",
       " '7G33012534': ['0401010AC'],\n",
       " '85H0HZU99M': ['1201020P0', '1203040M0', '1309000Q0', '1310050S0'],\n",
       " 'TML814419R': ['0504010L0'],\n",
       " '7WY7YBI87E': ['0908010X0'],\n",
       " '5O6VWA87VA': ['040201040'],\n",
       " '4965G3J0F5': ['1103010U0', '1306010X0', '1310011X0'],\n",
       " '93AKI1U6QF': ['0501070R0'],\n",
       " '731DCA35BT': ['0702010L0', '0803010K0'],\n",
       " 'Z9K9Y9WMVL': ['0205010AA'],\n",
       " 'HPN91K7FU3': ['0212000I0'],\n",
       " 'LR24G6354G': ['0801050BB'],\n",
       " '88TWF8015Y': ['0701010W0'],\n",
       " '2P471X1Z11': ['0304020X0'],\n",
       " 'G162GK9U4W': ['1001030L0'],\n",
       " 'CU8D464EDW': ['0605010Q0'],\n",
       " '864P0921DW': ['1108020AG'],\n",
       " '510SJZ1Y6L': ['0403010G0'],\n",
       " 'Y883P1Z2LT': ['0504010U0', '0504080A0'],\n",
       " 'Q20Q21Q62J': ['0801050I0'],\n",
       " 'GFO928U8MQ': ['0203020F0', '0203020G0'],\n",
       " '4B9XT59T7S': ['0503010A0', '0503010F0', '0503010Y0'],\n",
       " 'CUT2W21N7U': ['0302000N0', '1202010M0', '1202010Y0', '1304000S0'],\n",
       " '4S9EY0NUEC': ['0202010Y0'],\n",
       " '818ZYK7N91': ['0901011M0'],\n",
       " 'K9X45X0051': ['0901040A0'],\n",
       " 'CO61ER3EPI': ['0801010Z0'],\n",
       " '72YY86EA29': ['0605010T0'],\n",
       " '82S8X8XX8H': ['0801050BI'],\n",
       " 'UM20QQM95Y': ['0801010N0'],\n",
       " '3U02EL437C': ['0501060D0',\n",
       "  '0501060E0',\n",
       "  '0702020E0',\n",
       "  '1306010D0',\n",
       "  '1306010E0',\n",
       "  '1306010F0'],\n",
       " '6NB119DLU7': ['0206050K0'],\n",
       " 'V91T9204HU': ['1001010AN'],\n",
       " '1C058IKG3B': ['0802040AL'],\n",
       " 'WS821Z52LQ': ['0202030W0', '0202040U0', '0202040V0'],\n",
       " 'EE083865G2': ['0801050BV'],\n",
       " '69O5WQQ5TI': ['1002020H0'],\n",
       " 'C5QA4GLR9M': ['0402020R0'],\n",
       " 'YO460OQ37K': ['0801050BG'],\n",
       " '4Q81I59GXC': ['0105010B0', '1203010P0'],\n",
       " '7D0YB67S97': ['1001030V0'],\n",
       " 'R3B637Y991': ['0410030F0'],\n",
       " 'N9A0A0R9S8': ['0206020B0'],\n",
       " 'QF8SVZ843E': ['0301011R0', '0301040R0', '0701030U0'],\n",
       " '3DI2E1X18L': ['0206040AA', '0406000AC', '0406000D0'],\n",
       " 'I0Q6O6740J': ['0701030S0'],\n",
       " '47ISU063SG': ['0402010T0', '040201010', '0402020Z0'],\n",
       " '143NQ3779B': ['1305020D0'],\n",
       " 'SY7Q814VUP': ['0101010S0',\n",
       "  '0101021C0',\n",
       "  '0205051S0',\n",
       "  '0206040AB',\n",
       "  '0212000AA',\n",
       "  '0410010C0',\n",
       "  '0501080B0',\n",
       "  '0503010M0',\n",
       "  '0901011X0',\n",
       "  '0902011L0',\n",
       "  '0905011B0',\n",
       "  '0905011D0',\n",
       "  '090501100',\n",
       "  '0905022H0',\n",
       "  '1315000C0',\n",
       "  '1315000S0',\n",
       "  '1902070R0'],\n",
       " '93H20IU3DN': ['0905011H0'],\n",
       " '7H6TM3CT4L': ['0604030P0'],\n",
       " 'FU21S769PF': ['0801050AK'],\n",
       " '32VY6L26ZW': ['0409020L0'],\n",
       " '8OBZ1M4V3V': ['0501070AA'],\n",
       " '4AZL56CU0F': ['1203030H0'],\n",
       " 'PR834Q503T': ['0407041F0'],\n",
       " '1NF15YR6UY': ['0406000AD'],\n",
       " '4UR7N9Z9MM': ['0605010AC'],\n",
       " 'LT69WY1J6D': ['1104010F0', '1304000H0'],\n",
       " 'IW71N46B4Y': ['0501020U0'],\n",
       " '82VFR53I78': ['0402010AD', '0402020AD'],\n",
       " '0K5C5T2QPG': ['0103050L0'],\n",
       " 'E7QC7V26B8': ['1203030F0'],\n",
       " '8SKN0B0MIM': ['1310020D0'],\n",
       " 'F4MW5166YH': ['030401010'],\n",
       " '7S5I7G3JQL': ['0603020AA',\n",
       "  '0603020G0',\n",
       "  '0603020H0',\n",
       "  '1104010I0',\n",
       "  '120101040',\n",
       "  '120101050',\n",
       "  '1202010D0',\n",
       "  '1202010V0',\n",
       "  '1304000K0'],\n",
       " '4BOC774388': ['0501040F0',\n",
       "  '1103010F0',\n",
       "  '1201010P0',\n",
       "  '1202030E0',\n",
       "  '1310011G0'],\n",
       " '0I55128JYK': ['0301030S0', '030103000'],\n",
       " '9679TC07X4': ['0602020G0',\n",
       "  '0702020V0',\n",
       "  '1003020J0',\n",
       "  '1003020Q0',\n",
       "  '1108020AH',\n",
       "  '1201020I0',\n",
       "  '1203020G0',\n",
       "  '1203030L0',\n",
       "  '1302010P0',\n",
       "  '1311040I0',\n",
       "  '1311040K0',\n",
       "  '131104000',\n",
       "  '1313080C0'],\n",
       " '3982TWQ96G': ['1002010L0',\n",
       "  '1002010M0',\n",
       "  '1002010N0',\n",
       "  '1106000W0',\n",
       "  '1501060N0'],\n",
       " 'LKC0U3A8NJ': ['0212000AH'],\n",
       " 'F0XDI6ZL63': ['0502000E0', '0502040C0'],\n",
       " 'A7V27PHC7A': ['0504010T0', '0504010V0', '0504010X0', '0504010Y0'],\n",
       " '5JGL4G25R7': ['0402010N0'],\n",
       " 'H0P1YE5581': ['0501011K0'],\n",
       " '3A58010674': ['0901060P0'],\n",
       " '0B535E0BN0': ['0303010J0', '1104020N0', '1202010Q0'],\n",
       " 'U863JGG2IA': ['0408010AL'],\n",
       " '4I8HAB65SZ': ['0206020W0'],\n",
       " 'TL2TJE8QTX': ['1308010C0'],\n",
       " '76W6J0943E': ['0803042H0'],\n",
       " '7F80CC3NNV': ['0102000P0', '0102000X0'],\n",
       " '3UVD77BP8R': ['0409020I0'],\n",
       " 'U5SYW473RQ': ['0205052Q0', '0205052R0'],\n",
       " 'Q40Q9N063P': ['0702020B0', '0704040B0', '1201010B0'],\n",
       " 'UVP74NG1C5': ['0907000G0'],\n",
       " 'K16AIQ8CTM': ['0801050BK'],\n",
       " 'S6M3YBG8QA': ['0408020Q0'],\n",
       " '9081Y98W2V': ['0607020T0', '0607020Y0', '0803042P0', '0803042S0'],\n",
       " 'TLM2976OFR': ['0906025P0'],\n",
       " 'G1LN9045DK': ['0801010B0'],\n",
       " 'UAZ6V7728S': ['0905012I0'],\n",
       " 'C9LVQ0YUXG': ['0801050BJ'],\n",
       " 'Q08SIO485D': ['0208020S0'],\n",
       " '81G6I5V05I': ["
      ]
     },
     "execution_count": 20,
     "metadata": {},
     "output_type": "execute_result"
    },
    {
     "data": {
      "text/html": [
       "<b>limit_output extension: Maximum message size of 10000 exceeded with 36699 characters</b>"
      ]
     },
     "metadata": {},
     "output_type": "display_data"
    }
   ],
   "source": [
    "matchedMap"
   ]
  },
  {
   "cell_type": "code",
   "execution_count": 21,
   "metadata": {
    "ExecuteTime": {
     "end_time": "2020-03-12T18:15:23.894270Z",
     "start_time": "2020-03-12T18:15:23.872078Z"
    }
   },
   "outputs": [
    {
     "data": {
      "text/html": [
       "<div>\n",
       "<style scoped>\n",
       "    .dataframe tbody tr th:only-of-type {\n",
       "        vertical-align: middle;\n",
       "    }\n",
       "\n",
       "    .dataframe tbody tr th {\n",
       "        vertical-align: top;\n",
       "    }\n",
       "\n",
       "    .dataframe thead th {\n",
       "        text-align: right;\n",
       "    }\n",
       "</style>\n",
       "<table border=\"1\" class=\"dataframe\">\n",
       "  <thead>\n",
       "    <tr style=\"text-align: right;\">\n",
       "      <th></th>\n",
       "      <th>0</th>\n",
       "      <th>1</th>\n",
       "      <th>2</th>\n",
       "    </tr>\n",
       "  </thead>\n",
       "  <tbody>\n",
       "    <tr>\n",
       "      <th>0</th>\n",
       "      <td>Acute Anxiety</td>\n",
       "      <td>Bromazepam</td>\n",
       "      <td>Anxiety</td>\n",
       "    </tr>\n",
       "    <tr>\n",
       "      <th>1</th>\n",
       "      <td>Allergic Rhinitis</td>\n",
       "      <td>Ciclesonide</td>\n",
       "      <td>Allergic Rhinitis</td>\n",
       "    </tr>\n",
       "    <tr>\n",
       "      <th>2</th>\n",
       "      <td>Allergic Rhinitis</td>\n",
       "      <td>Dexchlorpheniramine</td>\n",
       "      <td>Allergic Rhinitis</td>\n",
       "    </tr>\n",
       "    <tr>\n",
       "      <th>3</th>\n",
       "      <td>Allergic Rhinitis</td>\n",
       "      <td>Flunisolide</td>\n",
       "      <td>Allergic Rhinitis</td>\n",
       "    </tr>\n",
       "    <tr>\n",
       "      <th>4</th>\n",
       "      <td>Allergic Rhinitis</td>\n",
       "      <td>Montelukast</td>\n",
       "      <td>Allergic Rhinitis</td>\n",
       "    </tr>\n",
       "  </tbody>\n",
       "</table>\n",
       "</div>"
      ],
      "text/plain": [
       "                   0                    1                  2\n",
       "0      Acute Anxiety           Bromazepam            Anxiety\n",
       "1  Allergic Rhinitis          Ciclesonide  Allergic Rhinitis\n",
       "2  Allergic Rhinitis  Dexchlorpheniramine  Allergic Rhinitis\n",
       "3  Allergic Rhinitis          Flunisolide  Allergic Rhinitis\n",
       "4  Allergic Rhinitis          Montelukast  Allergic Rhinitis"
      ]
     },
     "execution_count": 21,
     "metadata": {},
     "output_type": "execute_result"
    }
   ],
   "source": [
    "drug_associations_adam.head()\n"
   ]
  },
  {
   "cell_type": "code",
   "execution_count": 22,
   "metadata": {
    "ExecuteTime": {
     "end_time": "2020-03-12T18:15:41.281803Z",
     "start_time": "2020-03-12T18:15:41.211007Z"
    },
    "collapsed": true
   },
   "outputs": [],
   "source": [
    "adam_disease_drug_list = {}\n",
    "for name , group in drug_associations_adam.groupby(2):\n",
    "    adam_disease_drug_list[name] = list(group[1])"
   ]
  },
  {
   "cell_type": "code",
   "execution_count": 23,
   "metadata": {
    "ExecuteTime": {
     "end_time": "2020-03-12T18:15:42.454429Z",
     "start_time": "2020-03-12T18:15:42.386724Z"
    }
   },
   "outputs": [
    {
     "data": {
      "text/html": [
       "<div>\n",
       "<style scoped>\n",
       "    .dataframe tbody tr th:only-of-type {\n",
       "        vertical-align: middle;\n",
       "    }\n",
       "\n",
       "    .dataframe tbody tr th {\n",
       "        vertical-align: top;\n",
       "    }\n",
       "\n",
       "    .dataframe thead th {\n",
       "        text-align: right;\n",
       "    }\n",
       "</style>\n",
       "<table border=\"1\" class=\"dataframe\">\n",
       "  <thead>\n",
       "    <tr style=\"text-align: right;\">\n",
       "      <th></th>\n",
       "      <th>Unnamed: 0</th>\n",
       "      <th>BNF_code</th>\n",
       "      <th>NAME</th>\n",
       "      <th>UNII_drugbank</th>\n",
       "    </tr>\n",
       "  </thead>\n",
       "  <tbody>\n",
       "    <tr>\n",
       "      <th>0</th>\n",
       "      <td>0</td>\n",
       "      <td>0101010A0</td>\n",
       "      <td>Alexitol Sodium                               ...</td>\n",
       "      <td>[]</td>\n",
       "    </tr>\n",
       "    <tr>\n",
       "      <th>1</th>\n",
       "      <td>1</td>\n",
       "      <td>0101010B0</td>\n",
       "      <td>Almasilate                                    ...</td>\n",
       "      <td>[]</td>\n",
       "    </tr>\n",
       "    <tr>\n",
       "      <th>2</th>\n",
       "      <td>2</td>\n",
       "      <td>0101010C0</td>\n",
       "      <td>Aluminium Hydroxide                           ...</td>\n",
       "      <td>[]</td>\n",
       "    </tr>\n",
       "    <tr>\n",
       "      <th>3</th>\n",
       "      <td>3</td>\n",
       "      <td>0101010D0</td>\n",
       "      <td>Aluminium Hydroxide With Magnesium            ...</td>\n",
       "      <td>[]</td>\n",
       "    </tr>\n",
       "    <tr>\n",
       "      <th>4</th>\n",
       "      <td>4</td>\n",
       "      <td>0101010E0</td>\n",
       "      <td>Hydrotalcite                                  ...</td>\n",
       "      <td>17432CG1KU</td>\n",
       "    </tr>\n",
       "    <tr>\n",
       "      <th>5</th>\n",
       "      <td>5</td>\n",
       "      <td>0101010F0</td>\n",
       "      <td>Magnesium Carbonate                           ...</td>\n",
       "      <td>0IHC698356</td>\n",
       "    </tr>\n",
       "    <tr>\n",
       "      <th>6</th>\n",
       "      <td>6</td>\n",
       "      <td>0101010G0</td>\n",
       "      <td>Co-Magaldrox(Magnesium/Aluminium Hydrox)      ...</td>\n",
       "      <td>[]</td>\n",
       "    </tr>\n",
       "    <tr>\n",
       "      <th>7</th>\n",
       "      <td>7</td>\n",
       "      <td>0101010I0</td>\n",
       "      <td>Magnesium Oxide                               ...</td>\n",
       "      <td>3A3U0GI71G</td>\n",
       "    </tr>\n",
       "    <tr>\n",
       "      <th>8</th>\n",
       "      <td>8</td>\n",
       "      <td>0101010J0</td>\n",
       "      <td>Magnesium Trisilicate                         ...</td>\n",
       "      <td>[]</td>\n",
       "    </tr>\n",
       "    <tr>\n",
       "      <th>9</th>\n",
       "      <td>9</td>\n",
       "      <td>0101010L0</td>\n",
       "      <td>Aluminium &amp; Magnesium &amp; Act Simeticone        ...</td>\n",
       "      <td>[]</td>\n",
       "    </tr>\n",
       "    <tr>\n",
       "      <th>10</th>\n",
       "      <td>10</td>\n",
       "      <td>0101010M0</td>\n",
       "      <td>Magaldrate                                    ...</td>\n",
       "      <td>6V88E24N5T</td>\n",
       "    </tr>\n",
       "    <tr>\n",
       "      <th>11</th>\n",
       "      <td>11</td>\n",
       "      <td>0101010N0</td>\n",
       "      <td>Aluminium &amp; Magnesium &amp; Oxetacaine            ...</td>\n",
       "      <td>IP8QT76V17</td>\n",
       "    </tr>\n",
       "    <tr>\n",
       "      <th>12</th>\n",
       "      <td>12</td>\n",
       "      <td>0101010P0</td>\n",
       "      <td>Co-Simalcite (Simeticone/Hydrotalcite)        ...</td>\n",
       "      <td>[]</td>\n",
       "    </tr>\n",
       "    <tr>\n",
       "      <th>13</th>\n",
       "      <td>13</td>\n",
       "      <td>0101010Q0</td>\n",
       "      <td>Magnesium Hydroxide                           ...</td>\n",
       "      <td>NBZ3QY004S</td>\n",
       "    </tr>\n",
       "    <tr>\n",
       "      <th>14</th>\n",
       "      <td>14</td>\n",
       "      <td>0101010R0</td>\n",
       "      <td>Simeticone                                    ...</td>\n",
       "      <td>[]</td>\n",
       "    </tr>\n",
       "    <tr>\n",
       "      <th>15</th>\n",
       "      <td>15</td>\n",
       "      <td>0101010S0</td>\n",
       "      <td>Calcium Carbonate &amp; Simeticone                ...</td>\n",
       "      <td>SY7Q814VUP</td>\n",
       "    </tr>\n",
       "    <tr>\n",
       "      <th>16</th>\n",
       "      <td>16</td>\n",
       "      <td>0101010T0</td>\n",
       "      <td>Magnesium Sulphate                            ...</td>\n",
       "      <td>[]</td>\n",
       "    </tr>\n",
       "    <tr>\n",
       "      <th>17</th>\n",
       "      <td>17</td>\n",
       "      <td>0101010U0</td>\n",
       "      <td>Sodium Citrate                                ...</td>\n",
       "      <td>RS7A450LGA</td>\n",
       "    </tr>\n",
       "    <tr>\n",
       "      <th>18</th>\n",
       "      <td>18</td>\n",
       "      <td>010101000</td>\n",
       "      <td>Other Antacid &amp; Simeticone Preps              ...</td>\n",
       "      <td>[]</td>\n",
       "    </tr>\n",
       "    <tr>\n",
       "      <th>19</th>\n",
       "      <td>19</td>\n",
       "      <td>0101012A0</td>\n",
       "      <td>Gripe Mixtures                                ...</td>\n",
       "      <td>[]</td>\n",
       "    </tr>\n",
       "    <tr>\n",
       "      <th>20</th>\n",
       "      <td>20</td>\n",
       "      <td>0101012B0</td>\n",
       "      <td>Sodium Bicarbonate                            ...</td>\n",
       "      <td>8MDF5V39QO</td>\n",
       "    </tr>\n",
       "    <tr>\n",
       "      <th>21</th>\n",
       "      <td>21</td>\n",
       "      <td>010101200</td>\n",
       "      <td>Other Sodium Bicarbonate Preps                ...</td>\n",
       "      <td>[]</td>\n",
       "    </tr>\n",
       "    <tr>\n",
       "      <th>22</th>\n",
       "      <td>22</td>\n",
       "      <td>0101021B0</td>\n",
       "      <td>Alginic Acid Compound Preparations            ...</td>\n",
       "      <td>[]</td>\n",
       "    </tr>\n",
       "    <tr>\n",
       "      <th>23</th>\n",
       "      <td>23</td>\n",
       "      <td>0101021C0</td>\n",
       "      <td>Calcium Carbonate                             ...</td>\n",
       "      <td>SY7Q814VUP</td>\n",
       "    </tr>\n",
       "    <tr>\n",
       "      <th>24</th>\n",
       "      <td>24</td>\n",
       "      <td>0101021E0</td>\n",
       "      <td>Bismuth Subcarbonate                          ...</td>\n",
       "      <td>[]</td>\n",
       "    </tr>\n",
       "    <tr>\n",
       "      <th>25</th>\n",
       "      <td>25</td>\n",
       "      <td>010102100</td>\n",
       "      <td>Compound Alginates&amp;Prop Indigestion Prep      ...</td>\n",
       "      <td>[]</td>\n",
       "    </tr>\n",
       "    <tr>\n",
       "      <th>26</th>\n",
       "      <td>26</td>\n",
       "      <td>0102000AA</td>\n",
       "      <td>Clebopride                                    ...</td>\n",
       "      <td>I0A84520Y9</td>\n",
       "    </tr>\n",
       "    <tr>\n",
       "      <th>27</th>\n",
       "      <td>27</td>\n",
       "      <td>0102000AB</td>\n",
       "      <td>Hyoscyamine Sulfate                           ...</td>\n",
       "      <td>PX44XO846X</td>\n",
       "    </tr>\n",
       "    <tr>\n",
       "      <th>28</th>\n",
       "      <td>28</td>\n",
       "      <td>0102000AC</td>\n",
       "      <td>Atropine Sulfate                              ...</td>\n",
       "      <td>7C0697DR9I</td>\n",
       "    </tr>\n",
       "    <tr>\n",
       "      <th>29</th>\n",
       "      <td>29</td>\n",
       "      <td>0102000AD</td>\n",
       "      <td>Pinaverium Bromide                            ...</td>\n",
       "      <td>U2368VVE7O</td>\n",
       "    </tr>\n",
       "    <tr>\n",
       "      <th>...</th>\n",
       "      <td>...</td>\n",
       "      <td>...</td>\n",
       "      <td>...</td>\n",
       "      <td>...</td>\n",
       "    </tr>\n",
       "    <tr>\n",
       "      <th>3402</th>\n",
       "      <td>3402</td>\n",
       "      <td>2260</td>\n",
       "      <td>Night Drainage Bags                           ...</td>\n",
       "      <td>[]</td>\n",
       "    </tr>\n",
       "    <tr>\n",
       "      <th>3403</th>\n",
       "      <td>3403</td>\n",
       "      <td>2270</td>\n",
       "      <td>Suspensory Systems                            ...</td>\n",
       "      <td>[]</td>\n",
       "    </tr>\n",
       "    <tr>\n",
       "      <th>3404</th>\n",
       "      <td>3404</td>\n",
       "      <td>2280</td>\n",
       "      <td>Tubing And Accessories                        ...</td>\n",
       "      <td>[]</td>\n",
       "    </tr>\n",
       "    <tr>\n",
       "      <th>3405</th>\n",
       "      <td>3405</td>\n",
       "      <td>2285</td>\n",
       "      <td>Insert For Female Stress Incont               ...</td>\n",
       "      <td>[]</td>\n",
       "    </tr>\n",
       "    <tr>\n",
       "      <th>3406</th>\n",
       "      <td>3406</td>\n",
       "      <td>2290</td>\n",
       "      <td>Urinal Systems                                ...</td>\n",
       "      <td>[]</td>\n",
       "    </tr>\n",
       "    <tr>\n",
       "      <th>3407</th>\n",
       "      <td>3407</td>\n",
       "      <td>2305</td>\n",
       "      <td>Adhesive Discs/Rings/Pads/Plasters            ...</td>\n",
       "      <td>[]</td>\n",
       "    </tr>\n",
       "    <tr>\n",
       "      <th>3408</th>\n",
       "      <td>3408</td>\n",
       "      <td>2310</td>\n",
       "      <td>Adhesive (Pastes/Sprays/Solutions)            ...</td>\n",
       "      <td>[]</td>\n",
       "    </tr>\n",
       "    <tr>\n",
       "      <th>3409</th>\n",
       "      <td>3409</td>\n",
       "      <td>2315</td>\n",
       "      <td>Adhesive Removers (Sprays/Liquids/Wipes)      ...</td>\n",
       "      <td>[]</td>\n",
       "    </tr>\n",
       "    <tr>\n",
       "      <th>3410</th>\n",
       "      <td>3410</td>\n",
       "      <td>2320</td>\n",
       "      <td>Bag Closures                                  ...</td>\n",
       "      <td>[]</td>\n",
       "    </tr>\n",
       "    <tr>\n",
       "      <th>3411</th>\n",
       "      <td>3411</td>\n",
       "      <td>2325</td>\n",
       "      <td>Bag Covers                                    ...</td>\n",
       "      <td>[]</td>\n",
       "    </tr>\n",
       "    <tr>\n",
       "      <th>3412</th>\n",
       "      <td>3412</td>\n",
       "      <td>2330</td>\n",
       "      <td>Belts                                         ...</td>\n",
       "      <td>[]</td>\n",
       "    </tr>\n",
       "    <tr>\n",
       "      <th>3413</th>\n",
       "      <td>3413</td>\n",
       "      <td>2335</td>\n",
       "      <td>Colostomy Bags                                ...</td>\n",
       "      <td>[]</td>\n",
       "    </tr>\n",
       "    <tr>\n",
       "      <th>3414</th>\n",
       "      <td>3414</td>\n",
       "      <td>2340</td>\n",
       "      <td>Colostomy Sets                                ...</td>\n",
       "      <td>[]</td>\n",
       "    </tr>\n",
       "    <tr>\n",
       "      <th>3415</th>\n",
       "      <td>3415</td>\n",
       "      <td>2345</td>\n",
       "      <td>Deodorants                                    ...</td>\n",
       "      <td>[]</td>\n",
       "    </tr>\n",
       "    <tr>\n",
       "      <th>3416</th>\n",
       "      <td>3416</td>\n",
       "      <td>2346</td>\n",
       "      <td>Discharge Solidifying Agents                  ...</td>\n",
       "      <td>[]</td>\n",
       "    </tr>\n",
       "    <tr>\n",
       "      <th>3417</th>\n",
       "      <td>3417</td>\n",
       "      <td>2350</td>\n",
       "      <td>Filters/Bridges                               ...</td>\n",
       "      <td>[]</td>\n",
       "    </tr>\n",
       "    <tr>\n",
       "      <th>3418</th>\n",
       "      <td>3418</td>\n",
       "      <td>2355</td>\n",
       "      <td>Flanges                                       ...</td>\n",
       "      <td>[]</td>\n",
       "    </tr>\n",
       "    <tr>\n",
       "      <th>3419</th>\n",
       "      <td>3419</td>\n",
       "      <td>2360</td>\n",
       "      <td>Ileostomy Bags                                ...</td>\n",
       "      <td>[]</td>\n",
       "    </tr>\n",
       "    <tr>\n",
       "      <th>3420</th>\n",
       "      <td>3420</td>\n",
       "      <td>2365</td>\n",
       "      <td>Ileostomy Sets                                ...</td>\n",
       "      <td>[]</td>\n",
       "    </tr>\n",
       "    <tr>\n",
       "      <th>3421</th>\n",
       "      <td>3421</td>\n",
       "      <td>2370</td>\n",
       "      <td>Irrigation Washout Appliances                 ...</td>\n",
       "      <td>[]</td>\n",
       "    </tr>\n",
       "    <tr>\n",
       "      <th>3422</th>\n",
       "      <td>3422</td>\n",
       "      <td>2375</td>\n",
       "      <td>Pressure Plates/Shields                       ...</td>\n",
       "      <td>[]</td>\n",
       "    </tr>\n",
       "    <tr>\n",
       "      <th>3423</th>\n",
       "      <td>3423</td>\n",
       "      <td>2380</td>\n",
       "      <td>Skin Fillers And Protectives                  ...</td>\n",
       "      <td>[]</td>\n",
       "    </tr>\n",
       "    <tr>\n",
       "      <th>3424</th>\n",
       "      <td>3424</td>\n",
       "      <td>2385</td>\n",
       "      <td>Skin Protectors                               ...</td>\n",
       "      <td>[]</td>\n",
       "    </tr>\n",
       "    <tr>\n",
       "      <th>3425</th>\n",
       "      <td>3425</td>\n",
       "      <td>2390</td>\n",
       "      <td>Stoma Caps/Dressings                          ...</td>\n",
       "      <td>[]</td>\n",
       "    </tr>\n",
       "    <tr>\n",
       "      <th>3426</th>\n",
       "      <td>3426</td>\n",
       "      <td>2392</td>\n",
       "      <td>Tubing &amp; Accessories                          ...</td>\n",
       "      <td>[]</td>\n",
       "    </tr>\n",
       "    <tr>\n",
       "      <th>3427</th>\n",
       "      <td>3427</td>\n",
       "      <td>2393</td>\n",
       "      <td>Accessories (Guernsey)                        ...</td>\n",
       "      <td>[]</td>\n",
       "    </tr>\n",
       "    <tr>\n",
       "      <th>3428</th>\n",
       "      <td>3428</td>\n",
       "      <td>2394</td>\n",
       "      <td>Two Piece Ostomy Systems                      ...</td>\n",
       "      <td>[]</td>\n",
       "    </tr>\n",
       "    <tr>\n",
       "      <th>3429</th>\n",
       "     "
      ],
      "text/plain": [
       "      Unnamed: 0   BNF_code  \\\n",
       "0              0  0101010A0   \n",
       "1              1  0101010B0   \n",
       "2              2  0101010C0   \n",
       "3              3  0101010D0   \n",
       "4              4  0101010E0   \n",
       "5              5  0101010F0   \n",
       "6              6  0101010G0   \n",
       "7              7  0101010I0   \n",
       "8              8  0101010J0   \n",
       "9              9  0101010L0   \n",
       "10            10  0101010M0   \n",
       "11            11  0101010N0   \n",
       "12            12  0101010P0   \n",
       "13            13  0101010Q0   \n",
       "14            14  0101010R0   \n",
       "15            15  0101010S0   \n",
       "16            16  0101010T0   \n",
       "17            17  0101010U0   \n",
       "18            18  010101000   \n",
       "19            19  0101012A0   \n",
       "20            20  0101012B0   \n",
       "21            21  010101200   \n",
       "22            22  0101021B0   \n",
       "23            23  0101021C0   \n",
       "24            24  0101021E0   \n",
       "25            25  010102100   \n",
       "26            26  0102000AA   \n",
       "27            27  0102000AB   \n",
       "28            28  0102000AC   \n",
       "29            29  0102000AD   \n",
       "...          ...        ...   \n",
       "3402        3402  2260        \n",
       "3403        3403  2270        \n",
       "3404        3404  2280        \n",
       "3405        3405  2285        \n",
       "3406        3406  2290        \n",
       "3407        3407  2305        \n",
       "3408        3408  2310        \n",
       "3409        3409  2315        \n",
       "3410        3410  2320        \n",
       "3411        3411  2325        \n",
       "3412        3412  2330        \n",
       "3413        3413  2335        \n",
       "3414        3414  2340        \n",
       "3415        3415  2345        \n",
       "3416        3416  2346        \n",
       "3417        3417  2350        \n",
       "3418        3418  2355        \n",
       "3419        3419  2360        \n",
       "3420        3420  2365        \n",
       "3421        3421  2370        \n",
       "3422        3422  2375        \n",
       "3423        3423  2380        \n",
       "3424        3424  2385        \n",
       "3425        3425  2390        \n",
       "3426        3426  2392        \n",
       "3427        3427  2393        \n",
       "3428        3428  2394        \n",
       "3429        3429  2396        \n",
       "3430        3430  2398        \n",
       "3431        3431  2399        \n",
       "\n",
       "                                                   NAME UNII_drugbank  \n",
       "0     Alexitol Sodium                               ...            []  \n",
       "1     Almasilate                                    ...            []  \n",
       "2     Aluminium Hydroxide                           ...            []  \n",
       "3     Aluminium Hydroxide With Magnesium            ...            []  \n",
       "4     Hydrotalcite                                  ...    17432CG1KU  \n",
       "5     Magnesium Carbonate                           ...    0IHC698356  \n",
       "6     Co-Magaldrox(Magnesium/Aluminium Hydrox)      ...            []  \n",
       "7     Magnesium Oxide                               ...    3A3U0GI71G  \n",
       "8     Magnesium Trisilicate                         ...            []  \n",
       "9     Aluminium & Magnesium & Act Simeticone        ...            []  \n",
       "10    Magaldrate                                    ...    6V88E24N5T  \n",
       "11    Aluminium & Magnesium & Oxetacaine            ...    IP8QT76V17  \n",
       "12    Co-Simalcite (Simeticone/Hydrotalcite)        ...            []  \n",
       "13    Magnesium Hydroxide                           ...    NBZ3QY004S  \n",
       "14    Simeticone                                    ...            []  \n",
       "15    Calcium Carbonate & Simeticone                ...    SY7Q814VUP  \n",
       "16    Magnesium Sulphate                            ...            []  \n",
       "17    Sodium Citrate                                ...    RS7A450LGA  \n",
       "18    Other Antacid & Simeticone Preps              ...            []  \n",
       "19    Gripe Mixtures                                ...            []  \n",
       "20    Sodium Bicarbonate                            ...    8MDF5V39QO  \n",
       "21    Other Sodium Bicarbonate Preps                ...            []  \n",
       "22    Alginic Acid Compound Preparations            ...            []  \n",
       "23    Calcium Carbonate                             ...    SY7Q814VUP  \n",
       "24    Bismuth Subcarbonate                          ...            []  \n",
       "25    Compound Alginates&Prop Indigestion Prep      ...            []  \n",
       "26    Clebopride                                    ...    I0A84520Y9  \n",
       "27    Hyoscyamine Sulfate                           ...    PX44XO846X  \n",
       "28    Atropine Sulfate                              ...    7C0697DR9I  \n",
       "29    Pinaverium Bromide                            ...    U2368VVE7O  \n",
       "...                                                 ...           ...  \n",
       "3402  Night Drainage Bags                           ...            []  \n",
       "3403  Suspensory Systems                            ...            []  \n",
       "3404  Tubing And Accessories                        ...            []  \n",
       "3405  Insert For Female Stress Incont               ...            []  \n",
       "3406  Urinal Systems                                ...            []  \n",
       "3407  Adhesive Discs/Rings/Pads/Plasters            ...            []  \n",
       "3408  Adhesive (Pastes/Sprays/Solutions)            ...            []  \n",
       "3409  Adhesive Removers (Sprays/Liquids/Wipes)      ...            []  \n",
       "3410  Bag Closures                                  ...            []  \n",
       "3411  Bag Covers                                    ...            []  \n",
       "3412  Belts                                         ...            []  \n",
       "3413  Colostomy Bags                                ...            []  \n",
       "3414  Colostomy Sets                                ...            []  \n",
       "3415  Deodorants                                    ...            []  \n",
       "3416  Discharge Solidifying Agents                  ...            []  \n",
       "3417  Filters/Bridges                               ...            []  \n",
       "3418  Flanges                                       ...            []  \n",
       "3419  Ileostomy Bags                                ...            []  \n",
       "3420  Ileostomy Sets                                ...            []  \n",
       "3421  Irrigation Washout Appliances                 ...            []  \n",
       "3422  Pressure Plates/Shields                       ...            []  \n",
       "3423  Skin Fillers And Protectives                  ...            []  \n",
       "3424  Skin Protectors                               ...            []  \n",
       "3425  Stoma Caps/Dressings                          ...            []  \n",
       "3426  Tubing & Accessories                          ...            []  \n",
       "3427  Accessories (Guernsey)                        ...            []  \n",
       "3428  Two Piece Ostomy Systems                      ...            []  \n",
       "3429  Urostomy Bags                                 ...            []  \n",
       "3430  Urostomy Sets                                 ...            []  \n",
       "3431  Ostomy Appliances R/Sub Allowed Pre 1985      ...            []  \n",
       "\n",
       "[3432 rows x 4 columns]"
      ]
     },
     "execution_count": 23,
     "metadata": {},
     "output_type": "execute_result"
    },
    {
     "data": {
      "text/html": [
       "<b>limit_output extension: Maximum message size of 10000 exceeded with 10507 characters</b>"
      ]
     },
     "metadata": {},
     "output_type": "display_data"
    }
   ],
   "source": [
    "chem"
   ]
  },
  {
   "cell_type": "code",
   "execution_count": 24,
   "metadata": {
    "ExecuteTime": {
     "end_time": "2020-03-12T18:15:47.385793Z",
     "start_time": "2020-03-12T18:15:46.631343Z"
    },
    "collapsed": true
   },
   "outputs": [],
   "source": [
    "opiod_matched , drugs_opiates = getDrugforDiseaseDrugbank(['Heart condition'],chem,drugbank_dict)"
   ]
  },
  {
   "cell_type": "code",
   "execution_count": 25,
   "metadata": {
    "ExecuteTime": {
     "end_time": "2020-03-12T18:15:48.394110Z",
     "start_time": "2020-03-12T18:15:47.703012Z"
    }
   },
   "outputs": [
    {
     "name": "stdout",
     "output_type": "stream",
     "text": [
      "{'code': '0307000R0', 'name': 'Mannitol                                                    '}\n",
      "{'code': '0905022T0', 'name': 'Lanthanum Carbonate                                         '}\n",
      "(set(['mannitol                                                    ']), set([]), set(['mannitol                                                    ']))\n",
      "(set(['lanthanum carbonate                                         ']), set([]), set(['lanthanum carbonate                                         ']))\n"
     ]
    }
   ],
   "source": [
    "opiod_matched , drugs_opiates =getDrugCategory(['kidney'],chem,drugbank_dict)"
   ]
  },
  {
   "cell_type": "code",
   "execution_count": 26,
   "metadata": {
    "ExecuteTime": {
     "end_time": "2020-03-12T18:15:49.350379Z",
     "start_time": "2020-03-12T18:15:48.748718Z"
    }
   },
   "outputs": [
    {
     "name": "stdout",
     "output_type": "stream",
     "text": [
      "{'code': '1001030C0', 'name': 'Hydroxychloroquine Sulfate                                  '}\n",
      "{'code': '0605010T0', 'name': 'Tetracosactide                                              '}\n",
      "{'code': '1201020Q0', 'name': 'Ciprofloxacin/Dexameth                                      '}\n",
      "{'code': '100101070', 'name': 'Naproxen Sodium                                             '}\n",
      "{'code': '0501011P0', 'name': 'Phenoxymethylpenicillin (Penicillin V)                      '}\n",
      "{'code': '0501011P0', 'name': 'Phenoxymethylpenicillin (Penicillin V)                      '}\n",
      "{'code': '1310011Y0', 'name': 'Silver Sulfadiazine                                         '}\n",
      "{'code': '1310011Y0', 'name': 'Silver Sulfadiazine                                         '}\n",
      "{'code': '1306020K0', 'name': 'Doxycycline Monohydrate                                     '}\n",
      "{'code': '1306020K0', 'name': 'Doxycycline Monohydrate                                     '}\n",
      "{'code': '1306020K0', 'name': 'Doxycycline Monohydrate                                     '}\n",
      "{'code': '1306020K0', 'name': 'Doxycycline Monohydrate                                     '}\n",
      "{'code': '1306020K0', 'name': 'Doxycycline Monohydrate                                     '}\n",
      "{'code': '1306020K0', 'name': 'Doxycycline Monohydrate                                     '}\n",
      "{'code': '1203020P0', 'name': 'Minocycline Hydrochloride                                   '}\n",
      "{'code': '1203020P0', 'name': 'Minocycline Hydrochloride                                   '}\n",
      "{'code': '1203020P0', 'name': 'Minocycline Hydrochloride                                   '}\n",
      "{'code': '1310012P0', 'name': 'Tetracycline Hydrochloride                                  '}\n",
      "{'code': '1310012P0', 'name': 'Tetracycline Hydrochloride                                  '}\n",
      "{'code': '1310012P0', 'name': 'Tetracycline Hydrochloride                                  '}\n",
      "{'code': '1306010J0', 'name': 'Erythromycin Lactobionate                                   '}\n",
      "{'code': '1003020P0', 'name': 'Ibuprofen                                                   '}\n",
      "{'code': '1103010R0', 'name': 'Benzylpenicillin Sod                                        '}\n",
      "{'code': '1103010R0', 'name': 'Benzylpenicillin Sod                                        '}\n",
      "{'code': '1001040G0', 'name': 'Colchicine                                                  '}\n",
      "{'code': '0501022D0', 'name': 'Imipenem With Cilastatin                                    '}\n",
      "{'code': '0501030F0', 'name': 'Demeclocycline Hydrochloride                                '}\n",
      "{'code': '1203010K0', 'name': 'Choline Salicylate                                          '}\n",
      "(set(['tetracosactide                                              ']), set([]), set(['tetracosactide                                              ']))\n",
      "(set([]), set([]), set(['ciprofloxacin/dexameth                                      ']))\n",
      "(set(['naproxen sodium                                             ']), set([]), set(['naproxen sodium                                             ']))\n",
      "(set(['hydroxychloroquine sulfate                                  ']), set([]), set(['hydroxychloroquine sulfate                                  ']))\n",
      "(set(['silver sulfadiazine                                         ']), set([]), set(['silver sulfadiazine                                         ']))\n",
      "(set(['doxycycline monohydrate                                     ']), set([]), set(['doxycycline monohydrate                                     ']))\n",
      "(set(['minocycline hydrochloride                                   ']), set([]), set(['minocycline hydrochloride                                   ']))\n",
      "(set(['tetracycline hydrochloride                                  ']), set([]), set(['tetracycline hydrochloride                                  ']))\n",
      "(set(['erythromycin lactobionate                                   ']), set([]), set(['erythromycin lactobionate                                   ']))\n",
      "(set(['ibuprofen                                                   ']), set([]), set(['ibuprofen                                                   ']))\n",
      "(set(['benzylpenicillin sod                                        ']), set([]), set(['benzylpenicillin sod                                        ']))\n",
      "(set(['colchicine                                                  ']), set([]), set(['colchicine                                                  ']))\n",
      "(set(['imipenem with cilastatin                                    ']), set([]), set(['imipenem with cilastatin                                    ']))\n",
      "(set(['demeclocycline hydrochloride                                ']), set([]), set(['demeclocycline hydrochloride                                ']))\n",
      "(set(['choline salicylate                                          ']), set([]), set(['choline salicylate                                          ']))\n"
     ]
    }
   ],
   "source": [
    "selected_diseases = ['fever']\n",
    "disease_match_dict = {}\n",
    "for d in selected_diseases:\n",
    "    disease_match_dict[d] = {}\n",
    "    matched, drugs  = getDrugforDiseaseDrugbank([d] ,chem,drugbank_dict)\n",
    "    disease_match_dict[d] = drugs"
   ]
  },
  {
   "cell_type": "code",
   "execution_count": 27,
   "metadata": {
    "ExecuteTime": {
     "end_time": "2020-03-12T18:15:52.612396Z",
     "start_time": "2020-03-12T18:15:52.595403Z"
    }
   },
   "outputs": [
    {
     "data": {
      "text/plain": [
       "{'fever': {'0501011P0': {'matched_cat': ['fever'],\n",
       "   'name': 'Phenoxymethylpenicillin (Penicillin V)                      '},\n",
       "  '0501022D0': {'disease': '',\n",
       "   'disease_given_drug': 0.0,\n",
       "   'matched_disease': '',\n",
       "   'name': 'Imipenem With Cilastatin'},\n",
       "  '0501030F0': {'disease': '',\n",
       "   'disease_given_drug': 0.0,\n",
       "   'matched_disease': '',\n",
       "   'name': 'Demeclocycline Hydrochloride'},\n",
       "  '0605010T0': {'disease': '',\n",
       "   'disease_given_drug': 0.0,\n",
       "   'matched_disease': '',\n",
       "   'name': 'Tetracosactide'},\n",
       "  '100101070': {'disease': '',\n",
       "   'disease_given_drug': 0.0,\n",
       "   'matched_disease': '',\n",
       "   'name': 'Naproxen Sodium'},\n",
       "  '1001030C0': {'disease': '',\n",
       "   'disease_given_drug': 0.0,\n",
       "   'matched_disease': '',\n",
       "   'name': 'Hydroxychloroquine Sulfate'},\n",
       "  '1001040G0': {'disease': '',\n",
       "   'disease_given_drug': 0.0,\n",
       "   'matched_disease': '',\n",
       "   'name': 'Colchicine'},\n",
       "  '1003020P0': {'disease': '',\n",
       "   'disease_given_drug': 0.0,\n",
       "   'matched_disease': '',\n",
       "   'name': 'Ibuprofen'},\n",
       "  '1103010R0': {'disease': '',\n",
       "   'disease_given_drug': 0.0,\n",
       "   'matched_disease': '',\n",
       "   'name': 'Benzylpenicillin Sod'},\n",
       "  '1201020Q0': {'disease': '',\n",
       "   'disease_given_drug': 0.0,\n",
       "   'matched_disease': '',\n",
       "   'name': 'Ciprofloxacin/Dexameth'},\n",
       "  '1203010K0': {'disease': '',\n",
       "   'disease_given_drug': 0.0,\n",
       "   'matched_disease': '',\n",
       "   'name': 'Choline Salicylate'},\n",
       "  '1203020P0': {'disease': '',\n",
       "   'disease_given_drug': 0.0,\n",
       "   'matched_disease': '',\n",
       "   'name': 'Minocycline Hydrochloride'},\n",
       "  '1306010J0': {'disease': '',\n",
       "   'disease_given_drug': 0.0,\n",
       "   'matched_disease': '',\n",
       "   'name': 'Erythromycin Lactobionate'},\n",
       "  '1306020K0': {'disease': '',\n",
       "   'disease_given_drug': 0.0,\n",
       "   'matched_disease': '',\n",
       "   'name': 'Doxycycline Monohydrate'},\n",
       "  '1310011Y0': {'disease': '',\n",
       "   'disease_given_drug': 0.0,\n",
       "   'matched_disease': '',\n",
       "   'name': 'Silver Sulfadiazine'},\n",
       "  '1310012P0': {'disease': '',\n",
       "   'disease_given_drug': 0.0,\n",
       "   'matched_disease': '',\n",
       "   'name': 'Tetracycline Hydrochloride'}}}"
      ]
     },
     "execution_count": 27,
     "metadata": {},
     "output_type": "execute_result"
    }
   ],
   "source": [
    "disease_match_dict"
   ]
  },
  {
   "cell_type": "code",
   "execution_count": 28,
   "metadata": {
    "ExecuteTime": {
     "end_time": "2020-03-12T18:15:55.169437Z",
     "start_time": "2020-03-12T18:15:55.158478Z"
    },
    "collapsed": true
   },
   "outputs": [],
   "source": [
    "name_unii_map = {drugbank_dict[k]['Name'] : k for k in drugbank_dict}"
   ]
  },
  {
   "cell_type": "code",
   "execution_count": 29,
   "metadata": {
    "ExecuteTime": {
     "end_time": "2020-03-12T18:15:56.054801Z",
     "start_time": "2020-03-12T18:15:55.971814Z"
    }
   },
   "outputs": [
    {
     "data": {
      "text/plain": [
       "{u'Fluciclovine (18F)': u'38R1Q0L1ZE',\n",
       " u'Doxofylline': u'MPM23GMO7Z',\n",
       " u'Caffeine': u'3G6A5W338E',\n",
       " u'Sparfloxacin': u'Q90AGA787L',\n",
       " u'Dalfampridine': u'BH3B64OKL9',\n",
       " u'Undecylenic acid': u'K3D86KJ24N',\n",
       " u'Atenolol': u'50VV3VW0TI',\n",
       " u'Yttrium Y-90': u'1K8M7UR6O1',\n",
       " u'Gemfibrozil': u'Q8X02027X3',\n",
       " u'Azapropazone': u'K2VOT966ZI',\n",
       " u'Ferric (59Fe) citrate': u'5171JCI1D5',\n",
       " u'Meclofenoxate': u'C76QQ2I0RG',\n",
       " u'Fostamatinib': u'SQ8A3S5101',\n",
       " u'Enflurane': u'91I69L5AY5',\n",
       " u'Dropropizine': u'U0K8WHL37U',\n",
       " u'Atosiban': u'081D12SI0Z',\n",
       " u'Ditazole': u'H2BQI5Z8FT',\n",
       " u'Acyclovir': u'X4HES1O11F',\n",
       " u'Methazolamide': u'W733B0S9SD',\n",
       " u'Cinepazet': u'0LC95WWE9Q',\n",
       " u'Clopamide': u'17S83WON0I',\n",
       " u'Tasimelteon': u'SHS4PU80D9',\n",
       " u'Troxipide': u'W6QJX1Q00Z',\n",
       " u'Camostat': u'0FD207WKDU',\n",
       " u'Glutathione': u'GAN16C9B8O',\n",
       " u'Vosaroxin': u'K6A90IIZ19',\n",
       " u'Stannous fluoride': u'3FTR44B32Q',\n",
       " u'Ferrous glycine sulfate': u'56PS9HY5XI',\n",
       " u'Butriptyline': u'Z22441975X',\n",
       " u'L-Arginine': u'94ZLA3W45F',\n",
       " u'Aluminum chloride': u'LIF1N9568Y',\n",
       " u'Desoximetasone': u'4E07GXB7AU',\n",
       " u'Pirarubicin': u'D58G680W0G',\n",
       " u'Evogliptin': u'09118300L7',\n",
       " u'Gliclazide': u'G4PX8C4HKV',\n",
       " u'Ferrous aspartate': u'Z56D82TX8V',\n",
       " u'Ulipristal': u'6J5J15Q2X8',\n",
       " u'Capsaicin': u'S07O44R1ZM',\n",
       " u'Hexobendine': u'B6X4SYR93B',\n",
       " u'Meptazinol': u'18Y7S5JKZD',\n",
       " u'Omalizumab': u'2P471X1Z11',\n",
       " u'Cholic Acid': u'G1JO7801AE',\n",
       " u'Methyprylon': u'CUT48I42ON',\n",
       " u'Olaflur': u'8NY9L8837D',\n",
       " u'Masoprocol': u'7BO8G1BYQU',\n",
       " u'Sulfametomidine': u'940ZL3AHKB',\n",
       " u'Phenobarbital': u'YQE403BP4D',\n",
       " u'Aliskiren': u'502FWN4Q32',\n",
       " u'Nitrofurantoin': u'927AH8112L',\n",
       " u'Ezogabine': u'12G01I6BBU',\n",
       " u'Niridazole': u'N116U8Y5QQ',\n",
       " u'Velpatasvir': u'KCU0C7RS7Z',\n",
       " u'Lisinopril': u'7Q3P4BS2FD',\n",
       " u'Salsalate': u'V9MO595C9I',\n",
       " u'Echothiophate': u'0F350BVT6S',\n",
       " u'Metampicillin': u'G0H6U7VSTK',\n",
       " u'Sitagliptin': u'QFP0P1DV7Z',\n",
       " u'Calcium carbimide': u'ZLR270912W',\n",
       " u'Dexchlorpheniramine': u'3Q9Q0B929N',\n",
       " u'Cloprednol': u'SYP56O3GJG',\n",
       " u'Oxametacin': u'8G02RSW5CM',\n",
       " u'Mechlorethamine': u'50D9XSG0VR',\n",
       " u'Dextropropoxyphene': u'S2F83W92TK',\n",
       " u'Fluperolone': u'S33056JLS5',\n",
       " u'Benfotiamine': u'Y92OUS2H9B',\n",
       " u'Metildigoxin': u'I7GG1YUC5V',\n",
       " u'Apixaban': u'3Z9Y7UWC1J',\n",
       " u'Safinamide': u'90ENL74SIG',\n",
       " u'Lincomycin': u'BOD072YW0F',\n",
       " u'Enasidenib': u'3T1SS4E7AG',\n",
       " u'Maprotiline': u'2U1W68TROF',\n",
       " u'Nicofetamide': u'9882JU353F',\n",
       " u'Iopydol': u'T4661K682A',\n",
       " u'Technetium Tc-99m mebrofenin': u'F2NQ468L52',\n",
       " u'Virginiamycin': u'C49WS9N75L',\n",
       " u'Amphetamine': u'CK833KGX7E',\n",
       " u'Norfenefrine': u'D2P3M6SRN5',\n",
       " u'Mifepristone': u'320T6RNW1F',\n",
       " u'Tinzaparin': u'7UQ7X4Y489',\n",
       " u'Plecanatide': u'7IK8Z952OK',\n",
       " u'Grazoprevir': u'8YE81R1X1J',\n",
       " u'Amoxicillin': u'9EM05410Q9',\n",
       " u'Saxagliptin': u'8I7IO46IVQ',\n",
       " u'Brinase': u'Z3GVO2327F',\n",
       " u'Lipegfilgrastim': u'4AWF0N6QV3',\n",
       " u'Monobenzone': u'9L2KA76MG5',\n",
       " u'Propatyl nitrate': u'AJT2YN495R',\n",
       " u'Dronedarone': u'JQZ1L091Y2',\n",
       " u'Dixyrazine': u'7H368W3AYC',\n",
       " u'Mycophenolic acid': u'HU9DX48N0T',\n",
       " u'Trifluoperazine': u'214IZI85K3',\n",
       " u'Nortriptyline': u'BL03SY4LXB',\n",
       " u'Methylprednisolone': u'X4W7ZR7023',\n",
       " u'Epinephrine': u'YKH834O4BH',\n",
       " u'Potassium Iodide': u'1C4QK22F9J',\n",
       " u'Flucloxacillin': u'43B2M34G2V',\n",
       " u'Lithium succinate': u'MD64P82Y28',\n",
       " u'Fenyramidol': u'R3V02WL7O3',\n",
       " u'Propanoic acid': u'JHU490RVYR',\n",
       " u'Lanreotide': u'0G3DE8943Y',\n",
       " u'Imatinib': u'BKJ8M8G5HI',\n",
       " u'Ajmaline': u'1PON08459R',\n",
       " u'Sapropterin': u'EGX657432I',\n",
       " u'Conjugated estrogens': u'IU5QR144QX',\n",
       " u'Choline salicylate': u'KD510K1IQW',\n",
       " u'Diazepam': u'Q3JTX2Q7TU',\n",
       " u'Loteprednol': u'Z8CBU6KR16',\n",
       " u'Pegademase': u'HW3H7D91F6',\n",
       " u'Inositol nicotinate': u'A99MK953KZ',\n",
       " u'Daclizumab': u'CUJ2MVI71Y',\n",
       " u'Asunaprevir': u'S9X0KRJ00S',\n",
       " u'Sulfapyridine': u'Y5V2N1KE8U',\n",
       " u'Flupirtine': u'MOH3ET196H',\n",
       " u'Indanazoline': u'L0U38EHD86',\n",
       " u'Nalbuphine': u'L2T84IQI2K',\n",
       " u'Phenacemide': u'PAI7J52V09',\n",
       " u'Carbenicillin': u'G42ZU72N5G',\n",
       " u'Mercaptopurine': u'PKK6MUZ20G',\n",
       " u'Technetium Tc-99m pyrophosphate': u'5L76I61H2B',\n",
       " u'Potassium': u'RWP5GA015D',\n",
       " u'Pseudoephedrine': u'7CUC9DDI9F',\n",
       " u'Troglitazone': u'I66ZZ0ZN0E',\n",
       " u'Osimertinib': u'3C06JJ0Z2O',\n",
       " u'Ciclonicate': u'7H634NXI03',\n",
       " u'Alectinib': u'LIJ4CT1Z3Y',\n",
       " u'Foscarnet': u'364P9RVW4X',\n",
       " u'Dibunate': u'ZXY319VL5S',\n",
       " u'Bupranolol': u'858YGI5PIT',\n",
       " u'Testosterone': u'3XMK78S47O',\n",
       " u'Nalmefene': u'TOV02TDP9I',\n",
       " u'Phenelzine': u'O408N561GF',\n",
       " u'Tacrine': u'4VX7YNB537',\n",
       " u'Trimazosin': u'31L760807H',\n",
       " u'Glycine betaine': u'3SCV180C9W',\n",
       " u'Tacrolimus': u'Y5L2157C4J',\n",
       " u'Pentaerythritol tetranitrate': u'10L39TRG1Z',\n",
       " u'Tiopronin': u'C5W04GO61S',\n",
       " u'Moclobemide': u'PJ0Y7AZB63',\n",
       " u'Enprostil': u'J4IP5Z9DAU',\n",
       " u'Euflavine': u'1TW3Q60E36',\n",
       " u'Metaraminol': u'818U2PZ2EH',\n",
       " u'Butenafine': u'91Y494NL0X',\n",
       " u'Clomipramine': u'NUV44L116D',\n",
       " u'Nitrazepam': u'9CLV70W7HS',\n",
       " u'Fabomotizole': u'0F8K1X115C',\n",
       " u'Apalutamide': u'4T36H88UA7',\n",
       " u'Sodium fluorophosphate': u'C810JCZ56Q',\n",
       " u'Cefepime': u'807PW4VQE3',\n",
       " u'Piperidione': u'BZ6KL0Q8UD',\n",
       " u'Methoxamine': u'HUQ1KC1YLI',\n",
       " u'Manidipine': u'6O4754US88',\n",
       " u'Fludarabine': u'P2K93U8740',\n",
       " u'Tolcapone': u'CIF6334OLY',\n",
       " u'Formoterol': u'5ZZ84GCW8B',\n",
       " u'Hyaluronidase': u'8KOG53Z5EM',\n",
       " u'Sulfadoxine': u'88463U4SM5',\n",
       " u'Ioxitalamic acid': u'967RDI7Z6K',\n",
       " u'Pimethixene': u'T46J20J26F',\n",
       " u'Ammonium chloride': u'01Q9PC255D',\n",
       " u'Frovatriptan': u'H82Q2D5WA7',\n",
       " u'Niceritrol': u'F54EHJ34MV',\n",
       " u'Pentagastrin': u'EF0NX91490',\n",
       " u'Nomegestrol': u'10F89177CO',\n",
       " u'Aclidinium': u'K17VY42F6C',\n",
       " u'Degarelix': u'SX0XJI3A11',\n",
       " u'Oxyphencyclimine': u'4V44H1O8XI',\n",
       " u'Cefminox': u'PW08Y13465',\n",
       " u'Flurazepam': u'IHP475989U',\n",
       " u'Avelumab': u'KXG2PJ551I',\n",
       " u'Neocitrullamon': u'7L5LMT7B2H',\n",
       " u'Tubocurarine': u'W9YXS298BM',\n",
       " u'Oxyphenbutazone': u'A7D84513GV',\n",
       " u'Proscillaridin': u'KC6BL281EN',\n",
       " u'Nimodipine': u'57WA9QZ5WH',\n",
       " u'Zinc Dibutyldithiocarbamate': u'HNM5J934VP',\n",
       " u'Isothipendyl': u'WVZ7K9P0JY',\n",
       " u'Estrone': u'2DI9HA706A',\n",
       " u'Lesinurad': u'09ERP08I3W',\n",
       " u'Tiagabine': u'Z80I64HMNP',\n",
       " u'Roxadustat': u'X3O30D9YMX',\n",
       " u'Sodium lauryl sulfoacetate': u'D0Y70F2B9J',\n",
       " u'Isoconazole': u'GRI7WFR424',\n",
       " u'Dexibuprofen': u'671DKG7P5S',\n",
       " u'Dalteparin': u'S79O08V79F',\n",
       " u'Difemerine': u'843C4UPZ2F',\n",
       " u'Technetium Tc-99m etifenin': u'1R72G5JPE8',\n",
       " u'Methohexital': u'E5B8ND5IPE',\n",
       " u'Umifenovir': u'93M09WW4RU',\n",
       " u'Nitazoxanide': u'SOA12P041N',\n",
       " u'Iobenzamic acid': u'F72UWG2SWK',\n",
       " u'Iopamidol': u'JR13W81H44',\n",
       " u'Lomitapide': u'82KUB0583F',\n",
       " u'Dilazep': u'F8KLC2BD5Z',\n",
       " u'Mercuric iodide': u'R03O05RB0P',\n",
       " u'Ergotamine': u'PR834Q503T',\n",
       " u'Penfluridol': u'25TLU22Q8H',\n",
       " u'Cefotetan': u'48SPP0PA9Q',\n",
       " u'Bortezomib': u'69G8BD63PP',\n",
       " u'Cefpiramide': u'P936YA152N',\n",
       " u'Colesevelam': u'1XU104G55N',\n",
       " u'Tymazoline': u'U993RH5585',\n",
       " u'Saruplase': u'U5NH2JV64T',\n",
       " u'Exenatide': u'9P1872D4OL',\n",
       " u'Ciclesonide': u'S59502J185',\n",
       " u'Fluclorolone': u'036B9W83KK',\n",
       " u'Oxomemazine': u'305MB38V1C',\n",
       " u'Alprazolam': u'YU55MQ3IZY',\n",
       " u'Glycerol phenylbutyrate': u'ZH6F1VCV7B',\n",
       " u'Diloxanide': u'89134SCM7M',\n",
       " u'Naproxen': u'57Y76R9ATQ',\n",
       " u'Propylthiouracil': u'721M9407IY',\n",
       " u'Brivudine': u'2M3055079H',\n",
       " u'Dimethoxanate': u'1E3KG5FWDB',\n",
       " u'Methylestrenolone': u'743F1Z557A',\n",
       " u'Clemastine': u'95QN29S1ID',\n",
       " u'Nabumetone': u'LW0TIW155Z',\n",
       " u'Micronomicin': u'S9AZ0R40QV',\n",
       " u'Tiratricol': u'29OQ9EU4R1',\n",
       " u'Remifentanil': u'P10582JYYK',\n",
       " u'Etanautine': u'97H5S09M4T',\n",
       " u'Pipenzolate': u'RS3K5YXV34',\n",
       " u'Nusinersen': u'5Z9SP3X666',\n",
       " u'Mepixanox': u'7419T4YQQW',\n",
       " u'Coenzyme M': u'VHD28S0H7F',\n",
       " u'Carbamazepine': u'33CM23913M',\n",
       " u'Nepafenac': u'0J9L7J6V8C',\n",
       " u'Policresulen': u'6I19M5GB0G',\n",
       " u'Ticlatone': u'BHW384Q9GI',\n",
       " u'Phenylpropanolamine': u'57B9YG5Y1E',\n",
       " u'Fusafungine': u'65DD690W0C',\n",
       " u'Isobromindione': u'J1J87P409K',\n",
       " u'Ferrous tartrate': u'ZRW631PTZD',\n",
       " u'Almotriptan': u'1O4XL5SN61',\n",
       " u'Bibenzonium': u'34YTZ517S2',\n",
       " u'Desloratadine': u'FVF865388R',\n",
       " u'Sulindac': u'184SNS8VUH',\n",
       " u'Perflenapent': u'483AU1Y5CZ',\n",
       " u'Dopexamine': u'398E7Z7JB5',\n",
       " u'Tiapride': u'LAH70H9JPH',\n",
       " u'Trimetrexate': u'UPN4ITI8T4',\n",
       " u'Piperaquine': u'A0HV2Q956Y',\n",
       " u'Eplerenone': u'6995V82D0B',\n",
       " u'Insulin Glulisine': u'7XIY785AZD',\n",
       " u'Sulfinpyrazone': u'V6OFU47K3W',\n",
       " u'Abemaciclib': u'60UAB198HK',\n",
       " u'Methylphenobarbital': u'5NC67NU76B',\n",
       " u'Zalcitabine': u'6L3XT8CB3I',\n",
       " u'Ombitasvir': u'2302768XJ8',\n",
       " u'Somatorelin': u'4UR7N9Z9MM',\n",
       " u'Ampicillin': u'7C782967RD',\n",
       " u'Bevantolol': u'34ZXW6ZV21',\n",
       " u'Didecyldimethylammonium': u'Z7F472XQPA',\n",
       " u'Palonosetron': u'5D06587D6R',\n",
       " u'Fosfomycin': u'2N81MY12TE',\n",
       " u'Cyclophosphamide': u'6UXW23996M',\n",
       " u'Vincamine': u'996XVD0JHT',\n",
       " u'Gemifloxacin': u'OKR68Y0E4T',\n",
       " u'Hexocyclium': u'LL3147PI1T',\n",
       " u'Iloprost': u'JED5K35YGL',\n",
       " u'Azidamfenicol': u'40257685LM',\n",
       " u'Beraprost': u'35E3NJJ4O6',\n",
       " u'Itraconazole': u'304NUG5GF4',\n",
       " u'Fluconazole': u'8VZV102JFY',\n",
       " u'Octenidine': u'OZE0372S5A',\n",
       " u'L-Lysine': u'K3Z4F929H6',\n",
       " u'Deferoxamine': u'J06Y7MXW4D',\n",
       " u'Spaglumic Acid': u'X81L78B3RB',\n",
       " u'Cefroxadine': u'B908C4MV2R',\n",
       " u'Amlexanox': u'BRL1C2459K',\n",
       " u'Corticorelin': u'305OE8862Y',\n",
       " u'Cromoglicic acid': u'Y0TK0FS77W',\n",
       " u'Fluorodopa (18F)': u'2C598205QX',\n",
       " u'Propiverine': u'468GE2241L',\n",
       " u'Rokitamycin': u'ZPT03UEM0E',\n",
       " u'Cefditoren': u'81QS09V3YW',\n",
       " u'Potassium lactate': u'276897E67U',\n",
       " u'Sitaxentan': u'J9QH779MEM',\n",
       " u'Iloperidone': u'VPO7KJ050N',\n",
       " u'Chlorphenesin': u'I670DAL4SZ',\n",
       " u'Methscopolamine': u'VDR09VTQ8U',\n",
       " u'Pantethine': u'7K81IL792L',\n",
       " u'Dequalinium': u'E7QC7V26B8',\n",
       " u'Parnaparin': u'U6K360XMIU',\n",
       " u'Thyrotropin alfa': u'AVX3D5A4LM',\n",
       " u'Metisazone': u'K3QML4J07E',\n",
       " u'Oxolamine': u'90BEA145GY',\n",
       " u'Calcium levulinate': u'LLQ966USIL',\n",
       " u'Bazedoxifene': u'Q16TT9C5BK',\n",
       " u'Zinc sulfate, unspecified form': u'89DS0H96TB',\n",
       " u'Pegaspargase': u'7D96IR0PPM',\n",
       " u'Halazepam': u'320YC168LF',\n",
       " u'Florbetaben (18F)': u'TLA7312TOI',\n",
       " u'Oxetorone': u'T3XOS33TIQ',\n",
       " u'Sodium glycerophosphate': u'YP1H63LJ2K',\n",
       " u'Doxercalciferol': u'3DIZ9LF5Y9',\n",
       " u'Norelgestromin': u'R0TAY3X631',\n",
       " u'Fluorescein': u'TPY09G7XIR',\n",
       " u'Antihemophilic factor human': u'839MOZ74GK',\n",
       " u'Flucytosine': u'D83282DT06',\n",
       " u'Amrinone': u'JUT23379TN',\n",
       " u'Nepinalone': u'L9806LPR7G',\n",
       " u'Pipemidic acid': u'LT12J5HVR8',\n"
      ]
     },
     "execution_count": 29,
     "metadata": {},
     "output_type": "execute_result"
    },
    {
     "data": {
      "text/html": [
       "<b>limit_output extension: Maximum message size of 10000 exceeded with 33109 characters</b>"
      ]
     },
     "metadata": {},
     "output_type": "display_data"
    }
   ],
   "source": [
    "name_unii_map"
   ]
  },
  {
   "cell_type": "code",
   "execution_count": 31,
   "metadata": {
    "ExecuteTime": {
     "end_time": "2020-03-12T18:16:12.586384Z",
     "start_time": "2020-03-12T18:16:12.572015Z"
    }
   },
   "outputs": [
    {
     "name": "stdout",
     "output_type": "stream",
     "text": [
      "{'Anxiety': {'0401020G0': {'matched_disease': 'Anxiety', 'name': 'Bromazepam'}, '0406000T0': {'matched_disease': 'Anxiety', 'name': 'Prochlorperazine'}, '0406000U0': {'matched_disease': 'Anxiety', 'name': 'Prochlorperazine'}, '0402010Q0': {'matched_disease': 'Anxiety', 'name': 'Perphenazine'}, '0401020R0': {'matched_disease': 'Anxiety', 'name': 'Meprobamate'}, '0403040T0': {'matched_disease': 'Anxiety', 'name': 'Nefazodone'}}, 'Asthma': {'0301020Q0': {'matched_disease': 'Asthma', 'name': 'Tiotropium'}, '0304020X0': {'matched_disease': 'Asthma', 'name': 'Omalizumab'}, '0304020Y0': {'matched_disease': 'Asthma', 'name': 'Mepolizumab'}, '1202010W0': {'matched_disease': 'Asthma', 'name': 'Fluticasone furoate'}, '0301011U0': {'matched_disease': 'Asthma', 'name': 'Salmeterol'}, '1202020I0': {'matched_disease': 'Asthma', 'name': 'Ipratropium'}, '0301020I0': {'matched_disease': 'Asthma', 'name': 'Ipratropium'}, '030103000': {'matched_disease': 'Asthma', 'name': 'Theophylline'}, '0301011Y0': {'matched_disease': 'Asthma', 'name': 'Vilanterol'}, '0303020G0': {'matched_disease': 'Asthma', 'name': 'Montelukast'}, '0301030S0': {'matched_disease': 'Asthma', 'name': 'Theophylline'}, '0301030B0': {'matched_disease': 'Asthma', 'name': 'Aminophylline'}, '0301011K0': {'matched_disease': 'Asthma', 'name': 'Pirbuterol'}, '0301040W0': {'matched_disease': 'Asthma', 'name': 'Vilanterol'}, '1202010L0': {'matched_disease': 'Asthma', 'name': 'Flunisolide'}, '0301030D0': {'matched_disease': 'Asthma', 'name': 'Aminophylline'}, '0301011J0': {'matched_disease': 'Asthma', 'name': 'Pirbuterol'}, '0303020Z0': {'matched_disease': 'Asthma', 'name': 'Zafirlukast'}, '0302000U0': {'matched_disease': 'Asthma', 'name': 'Ciclesonide'}, '0301030C0': {'matched_disease': 'Asthma', 'name': 'Aminophylline'}}, 'Tiredness': {}, 'COPD': {'0301011X0': {'matched_disease': 'COPD', 'name': 'Indacaterol'}, '0301020Q0': {'matched_disease': 'COPD', 'name': 'Tiotropium'}, '0301011AA': {'matched_disease': 'COPD', 'name': 'Indacaterol'}, '1202010W0': {'matched_disease': 'COPD', 'name': 'Fluticasone furoate'}, '0301011Z0': {'matched_disease': 'COPD', 'name': 'Olodaterol'}, '0301040U0': {'matched_disease': 'COPD', 'name': 'Umeclidinium'}, '1202020I0': {'matched_disease': 'COPD', 'name': 'Ipratropium'}, '0301020I0': {'matched_disease': 'COPD', 'name': 'Ipratropium'}, '0301020R0': {'matched_disease': 'COPD', 'name': 'Aclidinium'}, '0301011Y0': {'matched_disease': 'COPD', 'name': 'Vilanterol'}, '0303020G0': {'matched_disease': 'COPD', 'name': 'Montelukast'}, '0301040M0': {'matched_disease': 'COPD', 'name': 'Fenoterol'}, '0301040W0': {'matched_disease': 'COPD', 'name': 'Vilanterol'}, '0301011U0': {'matched_disease': 'COPD', 'name': 'Salmeterol'}, '0303030B0': {'matched_disease': 'COPD', 'name': 'Roflumilast'}, '0301040X0': {'matched_disease': 'COPD', 'name': 'Olodaterol'}, '0301011F0': {'matched_disease': 'COPD', 'name': 'Fenoterol'}}, 'Renal disease': {'0905022S0': {'matched_disease': 'Renal disease', 'name': 'Sevelamer'}, '0905022T0': {'matched_disease': 'Renal disease', 'name': 'Lanthanum carbonate'}}, 'Insomnia': {}, 'Nausea or vomiting': {'090602400': {'matched_disease': 'Nausea or vomiting', 'name': 'Pyridoxine'}, '0406000T0': {'matched_disease': 'Nausea or vomiting', 'name': 'Prochlorperazine'}, '0406000U0': {'matched_disease': 'Nausea or vomiting', 'name': 'Prochlorperazine'}, '0402010Q0': {'matched_disease': 'Nausea or vomiting', 'name': 'Perphenazine'}, '0904010G0': {'matched_disease': 'Nausea or vomiting', 'name': 'Fructose'}, '0906024N0': {'matched_disease': 'Nausea or vomiting', 'name': 'Pyridoxine'}}, 'Cerebrovascular disease': {'0208010W0': {'matched_disease': 'Cerebrovascular disease', 'name': 'Tinzaparin'}}, 'Urinary disease': {'0704020Z0': {'matched_disease': 'Urinary disease', 'name': 'Trospium'}, '0501090E0': {'matched_disease': 'Urinary disease', 'name': 'Cycloserine'}, '0501130H0': {'matched_disease': 'Urinary disease', 'name': 'Methenamine'}, '0704020AB': {'matched_disease': 'Urinary disease', 'name': 'Solifenacin'}, '1312000K0': {'matched_disease': 'Urinary disease', 'name': 'Methenamine'}, '0207010F0': {'matched_disease': 'Urinary disease', 'name': 'Dopamine'}, '0704020N0': {'matched_disease': 'Urinary disease', 'name': 'Tolterodine'}, '0704020AC': {'matched_disease': 'Urinary disease', 'name': 'Darifenacin'}, '0704020P0': {'matched_disease': 'Urinary disease', 'name': 'Propiverine'}, '0501130D0': {'matched_disease': 'Urinary disease', 'name': 'Fosfomycin'}, '0501130E0': {'matched_disease': 'Urinary disease', 'name': 'Methenamine'}, '0501130R0': {'matched_disease': 'Urinary disease', 'name': 'Nitrofurantoin'}, '0501130S0': {'matched_disease': 'Urinary disease', 'name': 'Fosfomycin'}, '0704020AD': {'matched_disease': 'Urinary disease', 'name': 'Fesoterodine'}, '0704010W0': {'matched_disease': 'Urinary disease', 'name': 'Solifenacin'}, '0704020AE': {'matched_disease': 'Urinary disease', 'name': 'Mirabegron'}, '0704030A0': {'matched_disease': 'Urinary disease', 'name': 'Acetohydroxamic acid'}, '0501130K0': {'matched_disease': 'Urinary disease', 'name': 'Methenamine'}, '010200030': {'matched_disease': 'Urinary disease', 'name': 'Trospium'}}, 'Skin disease': {}, 'Stroke': {'0205051R0': {'matched_disease': 'Stroke', 'name': 'Ramipril'}, '0209000U0': {'matched_disease': 'Stroke', 'name': 'Ticlopidine'}, '0209000L0': {'matched_disease': 'Stroke', 'name': 'Dipyridamole'}, '0209000V0': {'matched_disease': 'Stroke', 'name': 'Dipyridamole'}}, 'Hypertension': {'0206020I0': {'matched_disease': 'Hypertension', 'name': 'Isradipine'}, '0202020U0': {'matched_disease': 'Hypertension', 'name': 'Torasemide'}, '0205051V0': {'matched_disease': 'Hypertension', 'name': 'Trandolapril'}, '0205051C0': {'matched_disease': 'Hypertension', 'name': 'Moexipril'}, '0204000G0': {'matched_disease': 'Hypertension', 'name': 'Betaxolol'}, '0205051E0': {'matched_disease': 'Hypertension', 'name': 'Cilazapril'}, '0205051R0': {'matched_disease': 'Hypertension', 'name': 'Ramipril'}, '0205010AA': {'matched_disease': 'Hypertension', 'name': 'Macitentan'}, '0205010AB': {'matched_disease': 'Hypertension', 'name': 'Riociguat'}, '0205051U0': {'matched_disease': 'Hypertension', 'name': 'Trandolapril'}, '0205010U0': {'matched_disease': 'Hypertension', 'name': 'Bosentan'}, '0205053A0': {'matched_disease': 'Hypertension', 'name': 'Aliskiren'}, '0202010T0': {'matched_disease': 'Hypertension', 'name': 'Methyclothiazide'}, '0205052AD': {'matched_disease': 'Hypertension', 'name': 'Azilsartan medoxomil'}, '0206020Q0': {'matched_disease': 'Hypertension', 'name': 'Nicardipine'}, '0202010B0': {'matched_disease': 'Hypertension', 'name': 'Bendroflumethiazide'}, '0202010V0': {'matched_disease': 'Hypertension', 'name': 'Metolazone'}, '0206020W0': {'matched_disease': 'Hypertension', 'name': 'Nisoldipine'}, '1106000I0': {'matched_disease': 'Hypertension', 'name': 'Betaxolol'}, '0205051J0': {'matched_disease': 'Hypertension', 'name': 'Fosinopril'}, '0205010V0': {'matched_disease': 'Hypertension', 'name': 'Iloprost'}, '0205010X0': {'matched_disease': 'Hypertension', 'name': 'Ambrisentan'}}, 'Cardiovascular disease': {'0207010D0': {'matched_disease': 'Cardiovascular disease', 'name': 'Dobutamine'}, '0205051R0': {'matched_disease': 'Cardiovascular disease', 'name': 'Ramipril'}, '0206040AP': {'matched_disease': 'Cardiovascular disease', 'name': 'Isoxsuprine'}, '0209000Z0': {'matched_disease': 'Cardiovascular disease', 'name': 'Ticagrelor'}, '0209000L0': {'matched_disease': 'Cardiovascular disease', 'name': 'Dipyridamole'}, '0701030I0': {'matched_disease': 'Cardiovascular disease', 'name': 'Isoxsuprine'}, '0209000V0': {'matched_disease': 'Cardiovascular disease', 'name': 'Dipyridamole'}, '0209000Y0': {'matched_disease': 'Cardiovascular disease', 'name': 'Prasugrel'}}, 'Respiratory disease': {}, 'Allergic Rhinitis': {'1202010K0': {'matched_disease': 'Allergic Rhinitis', 'name': 'Levocabastine'}, '1202010W0': {'matched_disease': 'Allergic Rhinitis', 'name': 'Fluticasone furoate'}, '1202020I0': {'matched_disease': 'Allergic Rhinitis', 'name': 'Ipratropium'}, '0301020I0': {'matched_disease': 'Allergic Rhinitis', 'name': 'Ipratropium'}, '0304010P0': {'matched_disease': 'Allergic Rhinitis', 'name': 'Diphenylpyraline'}, '0303020G0': {'matched_disease': 'Allergic Rhinitis', 'name': 'Montelukast'}, '1202010L0': {'matched_disease': 'Allergic Rhinitis', 'name': 'Flunisolide'}, '1104020P0': {'matched_disease': 'Allergic Rhinitis', 'name': 'Levocabastine'}, '0302000U0': {'matched_disease': 'Allergic Rhinitis', 'name': 'Ciclesonide'}}, 'Sunburn': {}, 'Heart disease': {'0205051R0': {'matched_disease': 'Heart disease', 'name': 'Ramipril'}, '0205051V0': {'matched_disease': 'Heart disease', 'name': 'Trandolapril'}, '0206030Y0': {'matched_disease': 'Heart disease', 'name': 'Ivabradine'}, '0205051J0': {'matched_disease': 'Heart disease', 'name': 'Fosinopril'}, '0205051U0': {'matched_disease': 'Heart disease', 'name': 'Trandolapril'}, '0201020M0': {'matched_disease': 'Heart disease', 'name': 'Milrinone'}}, 'Depression': {'0403010W0': {'matched_disease': 'Depression', 'name': 'Protriptyline'}, '0403020K0': {'matched_disease': 'Depression', 'name': 'Moclobemide'}, '0403010Y0': {'matched_disease': 'Depression', 'name': 'Trimipramine'}, '0403040AB': {'matched_disease': 'Depression', 'name': 'Vortioxetine'}, '0403020H0': {'matched_disease': 'Depression', 'name': 'Isocarboxazid'}, '0403020M0': {'matched_disease': 'Depression', 'name': 'Phenelzine'}, '0402010Q0': {'matched_disease': 'Depression', 'name': 'Perphenazine'}, '0403010C0': {'matched_disease': 'Depression', 'name': 'Amoxapine'}, '0403040T0': {'matched_disease': 'Depression', 'name': 'Nefazodone'}, '0403010S0': {'matched_disease': 'Depression', 'name': 'Maprotiline'}, '0403020Q0': {'matched_disease': 'Depression', 'name': 'Tranylcypromine'}}}\n"
     ]
    }
   ],
   "source": [
    "disease_drug_dict_adam = {}\n",
    "for k in adam_disease_drug_list:\n",
    "    disease_drug_dict_adam[k] = {}\n",
    "    for d in adam_disease_drug_list[k]:\n",
    "        if d in name_unii_map:\n",
    "            if name_unii_map[d] in matchedMap:\n",
    "                for bnf in matchedMap[name_unii_map[d]]:\n",
    "                    disease_drug_dict_adam[k][bnf] = {}\n",
    "                    disease_drug_dict_adam[k][bnf]['matched_disease'] = k       \n",
    "                    disease_drug_dict_adam[k][bnf]['name'] = d\n",
    "print disease_drug_dict_adam\n",
    "    "
   ]
  },
  {
   "cell_type": "code",
   "execution_count": 33,
   "metadata": {
    "ExecuteTime": {
     "end_time": "2020-03-12T18:16:25.501817Z",
     "start_time": "2020-03-12T18:16:25.491903Z"
    }
   },
   "outputs": [
    {
     "data": {
      "text/plain": [
       "['Anxiety',\n",
       " 'Asthma',\n",
       " 'Tiredness',\n",
       " 'COPD',\n",
       " 'Renal disease',\n",
       " 'Insomnia',\n",
       " 'Nausea or vomiting',\n",
       " 'Cerebrovascular disease',\n",
       " 'Urinary disease',\n",
       " 'Skin disease',\n",
       " 'Stroke',\n",
       " 'Hypertension',\n",
       " 'Cardiovascular disease',\n",
       " 'Respiratory disease',\n",
       " 'Allergic Rhinitis',\n",
       " 'Sunburn',\n",
       " 'Heart disease',\n",
       " 'Depression']"
      ]
     },
     "execution_count": 33,
     "metadata": {},
     "output_type": "execute_result"
    }
   ],
   "source": [
    "disease_drug_dict_adam.keys()"
   ]
  },
  {
   "cell_type": "code",
   "execution_count": 34,
   "metadata": {
    "ExecuteTime": {
     "end_time": "2020-03-12T18:17:09.559642Z",
     "start_time": "2020-03-12T18:16:30.898926Z"
    }
   },
   "outputs": [
    {
     "data": {
      "text/html": [
       "<div>\n",
       "<style scoped>\n",
       "    .dataframe tbody tr th:only-of-type {\n",
       "        vertical-align: middle;\n",
       "    }\n",
       "\n",
       "    .dataframe tbody tr th {\n",
       "        vertical-align: top;\n",
       "    }\n",
       "\n",
       "    .dataframe thead th {\n",
       "        text-align: right;\n",
       "    }\n",
       "</style>\n",
       "<table border=\"1\" class=\"dataframe\">\n",
       "  <thead>\n",
       "    <tr style=\"text-align: right;\">\n",
       "      <th></th>\n",
       "      <th>Unnamed: 0</th>\n",
       "      <th>0</th>\n",
       "      <th>1</th>\n",
       "      <th>2</th>\n",
       "      <th>3</th>\n",
       "      <th>4</th>\n",
       "      <th>5</th>\n",
       "      <th>6</th>\n",
       "      <th>7</th>\n",
       "      <th>8</th>\n",
       "      <th>...</th>\n",
       "      <th>11</th>\n",
       "      <th>12</th>\n",
       "      <th>13</th>\n",
       "      <th>14</th>\n",
       "      <th>15</th>\n",
       "      <th>16</th>\n",
       "      <th>17</th>\n",
       "      <th>18</th>\n",
       "      <th>19</th>\n",
       "      <th>20</th>\n",
       "    </tr>\n",
       "  </thead>\n",
       "  <tbody>\n",
       "    <tr>\n",
       "      <th>0</th>\n",
       "      <td>1962</td>\n",
       "      <td>Q44</td>\n",
       "      <td>01C</td>\n",
       "      <td>N81002</td>\n",
       "      <td>0101010G0BBABAB</td>\n",
       "      <td>Maalox_Susp 195mg/220mg/5ml S/F</td>\n",
       "      <td>1.0</td>\n",
       "      <td>3.35</td>\n",
       "      <td>3.11</td>\n",
       "      <td>500.0</td>\n",
       "      <td>...</td>\n",
       "      <td>NaN</td>\n",
       "      <td>NaN</td>\n",
       "      <td>NaN</td>\n",
       "      <td>NaN</td>\n",
       "      <td>220.0</td>\n",
       "      <td>0101010G0</td>\n",
       "      <td>500.0</td>\n",
       "      <td>1.0</td>\n",
       "      <td>500.0</td>\n",
       "      <td>BB</td>\n",
       "    </tr>\n",
       "    <tr>\n",
       "      <th>1</th>\n",
       "      <td>1963</td>\n",
       "      <td>Q44</td>\n",
       "      <td>01C</td>\n",
       "      <td>N81002</td>\n",
       "      <td>0101010G0BCABAB</td>\n",
       "      <td>Mucogel_Susp 195mg/220mg/5ml S/F</td>\n",
       "      <td>1.0</td>\n",
       "      <td>2.99</td>\n",
       "      <td>2.77</td>\n",
       "      <td>500.0</td>\n",
       "      <td>...</td>\n",
       "      <td>NaN</td>\n",
       "      <td>NaN</td>\n",
       "      <td>NaN</td>\n",
       "      <td>NaN</td>\n",
       "      <td>220.0</td>\n",
       "      <td>0101010G0</td>\n",
       "      <td>500.0</td>\n",
       "      <td>1.0</td>\n",
       "      <td>500.0</td>\n",
       "      <td>BC</td>\n",
       "    </tr>\n",
       "    <tr>\n",
       "      <th>2</th>\n",
       "      <td>1964</td>\n",
       "      <td>Q44</td>\n",
       "      <td>01C</td>\n",
       "      <td>N81002</td>\n",
       "      <td>0101021B0AAALAL</td>\n",
       "      <td>Sod Algin/Pot Bicarb_Susp S/F</td>\n",
       "      <td>4.0</td>\n",
       "      <td>30.72</td>\n",
       "      <td>28.42</td>\n",
       "      <td>3000.0</td>\n",
       "      <td>...</td>\n",
       "      <td>NaN</td>\n",
       "      <td>NaN</td>\n",
       "      <td>NaN</td>\n",
       "      <td>NaN</td>\n",
       "      <td>0.0</td>\n",
       "      <td>0101021B0</td>\n",
       "      <td>3000.0</td>\n",
       "      <td>1.0</td>\n",
       "      <td>3000.0</td>\n",
       "      <td>AA</td>\n",
       "    </tr>\n",
       "    <tr>\n",
       "      <th>3</th>\n",
       "      <td>1965</td>\n",
       "      <td>Q44</td>\n",
       "      <td>01C</td>\n",
       "      <td>N81002</td>\n",
       "      <td>0101021B0AAAPAP</td>\n",
       "      <td>Sod Alginate/Pot Bicarb_Tab Chble 500mg</td>\n",
       "      <td>2.0</td>\n",
       "      <td>9.21</td>\n",
       "      <td>8.53</td>\n",
       "      <td>180.0</td>\n",
       "      <td>...</td>\n",
       "      <td>NaN</td>\n",
       "      <td>NaN</td>\n",
       "      <td>NaN</td>\n",
       "      <td>NaN</td>\n",
       "      <td>500.0</td>\n",
       "      <td>0101021B0</td>\n",
       "      <td>180.0</td>\n",
       "      <td>1.0</td>\n",
       "      <td>180.0</td>\n",
       "      <td>AA</td>\n",
       "    </tr>\n",
       "    <tr>\n",
       "      <th>4</th>\n",
       "      <td>1966</td>\n",
       "      <td>Q44</td>\n",
       "      <td>01C</td>\n",
       "      <td>N81002</td>\n",
       "      <td>0101021B0BEACAH</td>\n",
       "      <td>Gaviscon_Liq Orig Aniseed Relief</td>\n",
       "      <td>2.0</td>\n",
       "      <td>20.10</td>\n",
       "      <td>18.59</td>\n",
       "      <td>1500.0</td>\n",
       "      <td>...</td>\n",
       "      <td>NaN</td>\n",
       "      <td>NaN</td>\n",
       "      <td>NaN</td>\n",
       "      <td>NaN</td>\n",
       "      <td>0.0</td>\n",
       "      <td>0101021B0</td>\n",
       "      <td>1500.0</td>\n",
       "      <td>1.0</td>\n",
       "      <td>1500.0</td>\n",
       "      <td>BE</td>\n",
       "    </tr>\n",
       "  </tbody>\n",
       "</table>\n",
       "<p>5 rows × 22 columns</p>\n",
       "</div>"
      ],
      "text/plain": [
       "   Unnamed: 0    0    1       2                3  \\\n",
       "0        1962  Q44  01C  N81002  0101010G0BBABAB   \n",
       "1        1963  Q44  01C  N81002  0101010G0BCABAB   \n",
       "2        1964  Q44  01C  N81002  0101021B0AAALAL   \n",
       "3        1965  Q44  01C  N81002  0101021B0AAAPAP   \n",
       "4        1966  Q44  01C  N81002  0101021B0BEACAH   \n",
       "\n",
       "                                          4    5      6      7       8  ...  \\\n",
       "0  Maalox_Susp 195mg/220mg/5ml S/F           1.0   3.35   3.11   500.0  ...   \n",
       "1  Mucogel_Susp 195mg/220mg/5ml S/F          1.0   2.99   2.77   500.0  ...   \n",
       "2  Sod Algin/Pot Bicarb_Susp S/F             4.0  30.72  28.42  3000.0  ...   \n",
       "3  Sod Alginate/Pot Bicarb_Tab Chble 500mg   2.0   9.21   8.53   180.0  ...   \n",
       "4  Gaviscon_Liq Orig Aniseed Relief          2.0  20.10  18.59  1500.0  ...   \n",
       "\n",
       "    11   12   13   14     15         16      17   18      19  20  \n",
       "0  NaN  NaN  NaN  NaN  220.0  0101010G0   500.0  1.0   500.0  BB  \n",
       "1  NaN  NaN  NaN  NaN  220.0  0101010G0   500.0  1.0   500.0  BC  \n",
       "2  NaN  NaN  NaN  NaN    0.0  0101021B0  3000.0  1.0  3000.0  AA  \n",
       "3  NaN  NaN  NaN  NaN  500.0  0101021B0   180.0  1.0   180.0  AA  \n",
       "4  NaN  NaN  NaN  NaN    0.0  0101021B0  1500.0  1.0  1500.0  BE  \n",
       "\n",
       "[5 rows x 22 columns]"
      ]
     },
     "execution_count": 34,
     "metadata": {},
     "output_type": "execute_result"
    }
   ],
   "source": [
    "pdp = pd.read_csv('../BL_Work/openPrescribe/serialized/201601.gz',compression='gzip')\n",
    "pdp.head()"
   ]
  },
  {
   "cell_type": "code",
   "execution_count": 35,
   "metadata": {
    "ExecuteTime": {
     "end_time": "2020-03-12T18:17:13.113163Z",
     "start_time": "2020-03-12T18:17:13.107882Z"
    },
    "collapsed": true
   },
   "outputs": [],
   "source": [
    "def getDate(elem):\n",
    "    f = elem.split('/')[-1]\n",
    "    return int(f.split('.')[0])"
   ]
  },
  {
   "cell_type": "code",
   "execution_count": 36,
   "metadata": {
    "ExecuteTime": {
     "end_time": "2020-03-12T18:17:16.759481Z",
     "start_time": "2020-03-12T18:17:16.747834Z"
    }
   },
   "outputs": [
    {
     "data": {
      "text/plain": [
       "['../BL_Work/openPrescribe/serialized/201008.gz',\n",
       " '../BL_Work/openPrescribe/serialized/201009.gz',\n",
       " '../BL_Work/openPrescribe/serialized/201010.gz',\n",
       " '../BL_Work/openPrescribe/serialized/201011.gz',\n",
       " '../BL_Work/openPrescribe/serialized/201012.gz',\n",
       " '../BL_Work/openPrescribe/serialized/201101.gz',\n",
       " '../BL_Work/openPrescribe/serialized/201102.gz',\n",
       " '../BL_Work/openPrescribe/serialized/201103.gz',\n",
       " '../BL_Work/openPrescribe/serialized/201104.gz',\n",
       " '../BL_Work/openPrescribe/serialized/201105.gz',\n",
       " '../BL_Work/openPrescribe/serialized/201106.gz',\n",
       " '../BL_Work/openPrescribe/serialized/201107.gz',\n",
       " '../BL_Work/openPrescribe/serialized/201108.gz',\n",
       " '../BL_Work/openPrescribe/serialized/201109.gz',\n",
       " '../BL_Work/openPrescribe/serialized/201110.gz',\n",
       " '../BL_Work/openPrescribe/serialized/201111.gz',\n",
       " '../BL_Work/openPrescribe/serialized/201112.gz',\n",
       " '../BL_Work/openPrescribe/serialized/201201.gz',\n",
       " '../BL_Work/openPrescribe/serialized/201202.gz',\n",
       " '../BL_Work/openPrescribe/serialized/201203.gz',\n",
       " '../BL_Work/openPrescribe/serialized/201204.gz',\n",
       " '../BL_Work/openPrescribe/serialized/201205.gz',\n",
       " '../BL_Work/openPrescribe/serialized/201206.gz',\n",
       " '../BL_Work/openPrescribe/serialized/201207.gz',\n",
       " '../BL_Work/openPrescribe/serialized/201208.gz',\n",
       " '../BL_Work/openPrescribe/serialized/201209.gz',\n",
       " '../BL_Work/openPrescribe/serialized/201210.gz',\n",
       " '../BL_Work/openPrescribe/serialized/201211.gz',\n",
       " '../BL_Work/openPrescribe/serialized/201212.gz',\n",
       " '../BL_Work/openPrescribe/serialized/201301.gz',\n",
       " '../BL_Work/openPrescribe/serialized/201302.gz',\n",
       " '../BL_Work/openPrescribe/serialized/201303.gz',\n",
       " '../BL_Work/openPrescribe/serialized/201304.gz',\n",
       " '../BL_Work/openPrescribe/serialized/201305.gz',\n",
       " '../BL_Work/openPrescribe/serialized/201306.gz',\n",
       " '../BL_Work/openPrescribe/serialized/201307.gz',\n",
       " '../BL_Work/openPrescribe/serialized/201308.gz',\n",
       " '../BL_Work/openPrescribe/serialized/201309.gz',\n",
       " '../BL_Work/openPrescribe/serialized/201310.gz',\n",
       " '../BL_Work/openPrescribe/serialized/201311.gz',\n",
       " '../BL_Work/openPrescribe/serialized/201312.gz',\n",
       " '../BL_Work/openPrescribe/serialized/201401.gz',\n",
       " '../BL_Work/openPrescribe/serialized/201402.gz',\n",
       " '../BL_Work/openPrescribe/serialized/201403.gz',\n",
       " '../BL_Work/openPrescribe/serialized/201404.gz',\n",
       " '../BL_Work/openPrescribe/serialized/201405.gz',\n",
       " '../BL_Work/openPrescribe/serialized/201406.gz',\n",
       " '../BL_Work/openPrescribe/serialized/201407.gz',\n",
       " '../BL_Work/openPrescribe/serialized/201408.gz',\n",
       " '../BL_Work/openPrescribe/serialized/201409.gz',\n",
       " '../BL_Work/openPrescribe/serialized/201410.gz',\n",
       " '../BL_Work/openPrescribe/serialized/201411.gz',\n",
       " '../BL_Work/openPrescribe/serialized/201412.gz',\n",
       " '../BL_Work/openPrescribe/serialized/201501.gz',\n",
       " '../BL_Work/openPrescribe/serialized/201502.gz',\n",
       " '../BL_Work/openPrescribe/serialized/201503.gz',\n",
       " '../BL_Work/openPrescribe/serialized/201504.gz',\n",
       " '../BL_Work/openPrescribe/serialized/201505.gz',\n",
       " '../BL_Work/openPrescribe/serialized/201506.gz',\n",
       " '../BL_Work/openPrescribe/serialized/201507.gz',\n",
       " '../BL_Work/openPrescribe/serialized/201508.gz',\n",
       " '../BL_Work/openPrescribe/serialized/201509.gz',\n",
       " '../BL_Work/openPrescribe/serialized/201510.gz',\n",
       " '../BL_Work/openPrescribe/serialized/201511.gz',\n",
       " '../BL_Work/openPrescribe/serialized/201512.gz',\n",
       " '../BL_Work/openPrescribe/serialized/201601.gz',\n",
       " '../BL_Work/openPrescribe/serialized/201602.gz',\n",
       " '../BL_Work/openPrescribe/serialized/201603.gz',\n",
       " '../BL_Work/openPrescribe/serialized/201604.gz',\n",
       " '../BL_Work/openPrescribe/serialized/201605.gz',\n",
       " '../BL_Work/openPrescribe/serialized/201606.gz',\n",
       " '../BL_Work/openPrescribe/serialized/201607.gz',\n",
       " '../BL_Work/openPrescribe/serialized/201608.gz',\n",
       " '../BL_Work/openPrescribe/serialized/201609.gz',\n",
       " '../BL_Work/openPrescribe/serialized/201610.gz',\n",
       " '../BL_Work/openPrescribe/serialized/201611.gz',\n",
       " '../BL_Work/openPrescribe/serialized/201612.gz',\n",
       " '../BL_Work/openPrescribe/serialized/201701.gz',\n",
       " '../BL_Work/openPrescribe/serialized/201702.gz',\n",
       " '../BL_Work/openPrescribe/serialized/201703.gz',\n",
       " '../BL_Work/openPrescribe/serialized/201704.gz',\n",
       " '../BL_Work/openPrescribe/serialized/201705.gz',\n",
       " '../BL_Work/openPrescribe/serialized/201706.gz',\n",
       " '../BL_Work/openPrescribe/serialized/201707.gz',\n",
       " '../BL_Work/openPrescribe/serialized/201708.gz',\n",
       " '../BL_Work/openPrescribe/serialized/201709.gz',\n",
       " '../BL_Work/openPrescribe/serialized/201710.gz',\n",
       " '../BL_Work/openPrescribe/serialized/201711.gz',\n",
       " '../BL_Work/openPrescribe/serialized/201712.gz',\n",
       " '../BL_Work/openPrescribe/serialized/201801.gz',\n",
       " '../BL_Work/openPrescribe/serialized/201802.gz',\n",
       " '../BL_Work/openPrescribe/serialized/201803.gz',\n",
       " '../BL_Work/openPrescribe/serialized/201804.gz',\n",
       " '../BL_Work/openPrescribe/serialized/201805.gz',\n",
       " '../BL_Work/openPrescribe/serialized/201806.gz',\n",
       " '../BL_Work/openPrescribe/serialized/201807.gz',\n",
       " '../BL_Work/openPrescribe/serialized/201808.gz',\n",
       " '../BL_Work/openPrescribe/serialized/201809.gz',\n",
       " '../BL_Work/openPrescribe/serialized/201810.gz',\n",
       " '../BL_Work/openPrescribe/serialized/201811.gz',\n",
       " '../BL_Work/openPrescribe/serialized/201812.gz',\n",
       " '../BL_Work/openPrescribe/serialized/201901.gz',\n",
       " '../BL_Work/openPrescribe/serialized/201902.gz',\n",
       " '../BL_Work/openPrescribe/serialized/201903.gz',\n",
       " '../BL_Work/openPrescribe/serialized/201904.gz',\n",
       " '../BL_Work/openPrescribe/serialized/201905.gz',\n",
       " '../BL_Work/openPrescribe/serialized/201906.gz']"
      ]
     },
     "execution_count": 36,
     "metadata": {},
     "output_type": "execute_result"
    }
   ],
   "source": [
    "files.sort(key=getDate)\n",
    "files"
   ]
  },
  {
   "cell_type": "code",
   "execution_count": 37,
   "metadata": {
    "ExecuteTime": {
     "end_time": "2020-03-12T18:17:20.277021Z",
     "start_time": "2020-03-12T18:17:20.268640Z"
    },
    "collapsed": true
   },
   "outputs": [],
   "source": [
    "%store -r taxonomyDict"
   ]
  },
  {
   "cell_type": "code",
   "execution_count": 38,
   "metadata": {
    "ExecuteTime": {
     "end_time": "2020-03-12T18:17:23.795180Z",
     "start_time": "2020-03-12T18:17:23.787438Z"
    },
    "collapsed": true
   },
   "outputs": [],
   "source": [
    "%store -r cityMap"
   ]
  },
  {
   "cell_type": "code",
   "execution_count": 39,
   "metadata": {
    "ExecuteTime": {
     "end_time": "2020-03-12T18:17:27.406431Z",
     "start_time": "2020-03-12T18:17:27.298202Z"
    }
   },
   "outputs": [
    {
     "name": "stderr",
     "output_type": "stream",
     "text": [
      "/home/sagar/anaconda3/envs/env_py2/lib/python2.7/site-packages/IPython/core/interactiveshell.py:2714: DtypeWarning: Columns (23,24,25,26,27,28,29,30,31,32,33,34,35) have mixed types. Specify dtype option on import or set low_memory=False.\n",
      "  interactivity=interactivity, compiler=compiler, result=result)\n"
     ]
    }
   ],
   "source": [
    "ward_pop1 = pd.read_csv('scratchpad/ward_pop.csv')"
   ]
  },
  {
   "cell_type": "code",
   "execution_count": 40,
   "metadata": {
    "ExecuteTime": {
     "end_time": "2020-03-12T18:17:31.038991Z",
     "start_time": "2020-03-12T18:17:31.028484Z"
    },
    "collapsed": true
   },
   "outputs": [],
   "source": [
    "taxonomy = pd.read_csv('../BL_Work/openPrescribe/taxonomy/openprescription_taxonomy',sep='\\t')"
   ]
  },
  {
   "cell_type": "code",
   "execution_count": 41,
   "metadata": {
    "ExecuteTime": {
     "end_time": "2020-03-12T18:17:34.726063Z",
     "start_time": "2020-03-12T18:17:34.679793Z"
    },
    "collapsed": true
   },
   "outputs": [],
   "source": [
    "ward_pop = pd.read_csv('../BL_Work/mid_2010_ward_2010_quinary.csv')"
   ]
  },
  {
   "cell_type": "code",
   "execution_count": 42,
   "metadata": {
    "ExecuteTime": {
     "end_time": "2020-03-12T18:17:38.449743Z",
     "start_time": "2020-03-12T18:17:38.371610Z"
    },
    "collapsed": true
   },
   "outputs": [],
   "source": [
    "GP_META = pd.read_csv('../BL_Work/epraccur.csv',header=None)\n",
    "GP_META.rename(columns={0:'BP_code',\n",
    "                        1:'Name',\n",
    "                        2:'Grouping',\n",
    "                        3:'National_geo',\n",
    "                        4:'Addr1',\n",
    "                        5:'Addr2',\n",
    "                        6:'Addr3',\n",
    "                        7: 'Addr4',\n",
    "                        8:'Addr5',\n",
    "                        9:'Postcode',\n",
    "                        10:'Open',\n",
    "                        11:'Closed',\n",
    "                        12:'Status',\n",
    "                        13:'Org type code',\n",
    "                        14:'Commissioner',\n",
    "                        15:'Join provider',\n",
    "                        16:'Left provider',\n",
    "                        17:'Contact',\n",
    "                        18:'Null1',\n",
    "                        19:'Null2',\n",
    "                        20:'Null3',\n",
    "                        21:'Amended',\n",
    "                        22:'Null4',\n",
    "                        23:'Provider',\n",
    "                        24:'Null5',\n",
    "                        25:'Setting',\n",
    "                        26:'Null6'}, \n",
    "                 inplace=True)"
   ]
  },
  {
   "cell_type": "code",
   "execution_count": 43,
   "metadata": {
    "ExecuteTime": {
     "end_time": "2020-03-12T18:17:42.232224Z",
     "start_time": "2020-03-12T18:17:42.194384Z"
    }
   },
   "outputs": [
    {
     "data": {
      "text/html": [
       "<div>\n",
       "<style scoped>\n",
       "    .dataframe tbody tr th:only-of-type {\n",
       "        vertical-align: middle;\n",
       "    }\n",
       "\n",
       "    .dataframe tbody tr th {\n",
       "        vertical-align: top;\n",
       "    }\n",
       "\n",
       "    .dataframe thead th {\n",
       "        text-align: right;\n",
       "    }\n",
       "</style>\n",
       "<table border=\"1\" class=\"dataframe\">\n",
       "  <thead>\n",
       "    <tr style=\"text-align: right;\">\n",
       "      <th></th>\n",
       "      <th>BP_code</th>\n",
       "      <th>Name</th>\n",
       "      <th>Grouping</th>\n",
       "      <th>National_geo</th>\n",
       "      <th>Addr1</th>\n",
       "      <th>Addr2</th>\n",
       "      <th>Addr3</th>\n",
       "      <th>Addr4</th>\n",
       "      <th>Addr5</th>\n",
       "      <th>Postcode</th>\n",
       "      <th>...</th>\n",
       "      <th>Contact</th>\n",
       "      <th>Null1</th>\n",
       "      <th>Null2</th>\n",
       "      <th>Null3</th>\n",
       "      <th>Amended</th>\n",
       "      <th>Null4</th>\n",
       "      <th>Provider</th>\n",
       "      <th>Null5</th>\n",
       "      <th>Setting</th>\n",
       "      <th>Null6</th>\n",
       "    </tr>\n",
       "  </thead>\n",
       "  <tbody>\n",
       "    <tr>\n",
       "      <th>0</th>\n",
       "      <td>A81001</td>\n",
       "      <td>THE DENSHAM SURGERY</td>\n",
       "      <td>Y63</td>\n",
       "      <td>Q74</td>\n",
       "      <td>THE HEALTH CENTRE</td>\n",
       "      <td>LAWSON STREET</td>\n",
       "      <td>STOCKTON-ON-TEES</td>\n",
       "      <td>CLEVELAND</td>\n",
       "      <td>NaN</td>\n",
       "      <td>TS18 1HU</td>\n",
       "      <td>...</td>\n",
       "      <td>01642 672351</td>\n",
       "      <td>NaN</td>\n",
       "      <td>NaN</td>\n",
       "      <td>NaN</td>\n",
       "      <td>1</td>\n",
       "      <td>NaN</td>\n",
       "      <td>00K</td>\n",
       "      <td>NaN</td>\n",
       "      <td>4</td>\n",
       "      <td>NaN</td>\n",
       "    </tr>\n",
       "    <tr>\n",
       "      <th>1</th>\n",
       "      <td>A81002</td>\n",
       "      <td>QUEENS PARK MEDICAL CENTRE</td>\n",
       "      <td>Y63</td>\n",
       "      <td>Q74</td>\n",
       "      <td>QUEENS PARK MEDICAL CTR</td>\n",
       "      <td>FARRER STREET</td>\n",
       "      <td>STOCKTON ON TEES</td>\n",
       "      <td>CLEVELAND</td>\n",
       "      <td>NaN</td>\n",
       "      <td>TS18 2AW</td>\n",
       "      <td>...</td>\n",
       "      <td>01642 679681</td>\n",
       "      <td>NaN</td>\n",
       "      <td>NaN</td>\n",
       "      <td>NaN</td>\n",
       "      <td>1</td>\n",
       "      <td>NaN</td>\n",
       "      <td>00K</td>\n",
       "      <td>NaN</td>\n",
       "      <td>4</td>\n",
       "      <td>NaN</td>\n",
       "    </tr>\n",
       "    <tr>\n",
       "      <th>2</th>\n",
       "      <td>A81003</td>\n",
       "      <td>VICTORIA MEDICAL PRACTICE</td>\n",
       "      <td>Y54</td>\n",
       "      <td>Q74</td>\n",
       "      <td>THE HEALTH CENTRE</td>\n",
       "      <td>VICTORIA ROAD</td>\n",
       "      <td>HARTLEPOOL</td>\n",
       "      <td>CLEVELAND</td>\n",
       "      <td>NaN</td>\n",
       "      <td>TS26 8DB</td>\n",
       "      <td>...</td>\n",
       "      <td>01429 272945</td>\n",
       "      <td>NaN</td>\n",
       "      <td>NaN</td>\n",
       "      <td>NaN</td>\n",
       "      <td>0</td>\n",
       "      <td>NaN</td>\n",
       "      <td>00K</td>\n",
       "      <td>NaN</td>\n",
       "      <td>4</td>\n",
       "      <td>NaN</td>\n",
       "    </tr>\n",
       "    <tr>\n",
       "      <th>3</th>\n",
       "      <td>A81004</td>\n",
       "      <td>BLUEBELL MEDICAL CENTRE</td>\n",
       "      <td>Y63</td>\n",
       "      <td>Q74</td>\n",
       "      <td>TRIMDON AVENUE</td>\n",
       "      <td>ACKLAM</td>\n",
       "      <td>MIDDLESBROUGH</td>\n",
       "      <td>NaN</td>\n",
       "      <td>NaN</td>\n",
       "      <td>TS5 8SB</td>\n",
       "      <td>...</td>\n",
       "      <td>01642 827697</td>\n",
       "      <td>NaN</td>\n",
       "      <td>NaN</td>\n",
       "      <td>NaN</td>\n",
       "      <td>1</td>\n",
       "      <td>NaN</td>\n",
       "      <td>00M</td>\n",
       "      <td>NaN</td>\n",
       "      <td>4</td>\n",
       "      <td>NaN</td>\n",
       "    </tr>\n",
       "    <tr>\n",
       "      <th>4</th>\n",
       "      <td>A81005</td>\n",
       "      <td>SPRINGWOOD SURGERY</td>\n",
       "      <td>Y63</td>\n",
       "      <td>Q74</td>\n",
       "      <td>SPRINGWOOD SURGERY</td>\n",
       "      <td>RECTORY LANE</td>\n",
       "      <td>GUISBOROUGH</td>\n",
       "      <td>NaN</td>\n",
       "      <td>NaN</td>\n",
       "      <td>TS14 7DJ</td>\n",
       "      <td>...</td>\n",
       "      <td>01287 619611</td>\n",
       "      <td>NaN</td>\n",
       "      <td>NaN</td>\n",
       "      <td>NaN</td>\n",
       "      <td>1</td>\n",
       "      <td>NaN</td>\n",
       "      <td>00M</td>\n",
       "      <td>NaN</td>\n",
       "      <td>4</td>\n",
       "      <td>NaN</td>\n",
       "    </tr>\n",
       "  </tbody>\n",
       "</table>\n",
       "<p>5 rows × 27 columns</p>\n",
       "</div>"
      ],
      "text/plain": [
       "  BP_code                        Name Grouping National_geo  \\\n",
       "0  A81001         THE DENSHAM SURGERY      Y63          Q74   \n",
       "1  A81002  QUEENS PARK MEDICAL CENTRE      Y63          Q74   \n",
       "2  A81003   VICTORIA MEDICAL PRACTICE      Y54          Q74   \n",
       "3  A81004     BLUEBELL MEDICAL CENTRE      Y63          Q74   \n",
       "4  A81005          SPRINGWOOD SURGERY      Y63          Q74   \n",
       "\n",
       "                     Addr1          Addr2             Addr3      Addr4 Addr5  \\\n",
       "0        THE HEALTH CENTRE  LAWSON STREET  STOCKTON-ON-TEES  CLEVELAND   NaN   \n",
       "1  QUEENS PARK MEDICAL CTR  FARRER STREET  STOCKTON ON TEES  CLEVELAND   NaN   \n",
       "2        THE HEALTH CENTRE  VICTORIA ROAD        HARTLEPOOL  CLEVELAND   NaN   \n",
       "3           TRIMDON AVENUE         ACKLAM     MIDDLESBROUGH        NaN   NaN   \n",
       "4       SPRINGWOOD SURGERY   RECTORY LANE       GUISBOROUGH        NaN   NaN   \n",
       "\n",
       "   Postcode  ...       Contact  Null1 Null2 Null3 Amended  Null4  Provider  \\\n",
       "0  TS18 1HU  ...  01642 672351    NaN   NaN   NaN       1    NaN       00K   \n",
       "1  TS18 2AW  ...  01642 679681    NaN   NaN   NaN       1    NaN       00K   \n",
       "2  TS26 8DB  ...  01429 272945    NaN   NaN   NaN       0    NaN       00K   \n",
       "3   TS5 8SB  ...  01642 827697    NaN   NaN   NaN       1    NaN       00M   \n",
       "4  TS14 7DJ  ...  01287 619611    NaN   NaN   NaN       1    NaN       00M   \n",
       "\n",
       "  Null5  Setting  Null6  \n",
       "0   NaN        4    NaN  \n",
       "1   NaN        4    NaN  \n",
       "2   NaN        4    NaN  \n",
       "3   NaN        4    NaN  \n",
       "4   NaN        4    NaN  \n",
       "\n",
       "[5 rows x 27 columns]"
      ]
     },
     "execution_count": 43,
     "metadata": {},
     "output_type": "execute_result"
    }
   ],
   "source": [
    "GP_META.head()"
   ]
  },
  {
   "cell_type": "code",
   "execution_count": 44,
   "metadata": {
    "ExecuteTime": {
     "end_time": "2020-03-12T18:17:47.969454Z",
     "start_time": "2020-03-12T18:17:46.054135Z"
    },
    "collapsed": true
   },
   "outputs": [],
   "source": [
    "Open_filtered_GPs = {}\n",
    "for index,row in GP_META.iterrows():\n",
    "    if row ['Setting'] == 4 and row['Status'] =='A':\n",
    "        Open_filtered_GPs[row['BP_code']] = row['Postcode'].strip()"
   ]
  },
  {
   "cell_type": "code",
   "execution_count": 45,
   "metadata": {
    "ExecuteTime": {
     "end_time": "2020-03-12T18:17:51.682628Z",
     "start_time": "2020-03-12T18:17:51.675033Z"
    }
   },
   "outputs": [
    {
     "data": {
      "text/plain": [
       "6924"
      ]
     },
     "execution_count": 45,
     "metadata": {},
     "output_type": "execute_result"
    }
   ],
   "source": [
    "len(Open_filtered_GPs)"
   ]
  },
  {
   "cell_type": "code",
   "execution_count": 46,
   "metadata": {
    "ExecuteTime": {
     "end_time": "2020-03-12T18:17:55.539246Z",
     "start_time": "2020-03-12T18:17:55.463998Z"
    },
    "collapsed": true
   },
   "outputs": [],
   "source": [
    "df_city = pd.read_csv('../BL_Work/Lower_Layer_Super_Output_Area_2011_to_Ward_2017_Lookup_in_England_and_Wales.csv')"
   ]
  },
  {
   "cell_type": "code",
   "execution_count": 47,
   "metadata": {
    "ExecuteTime": {
     "end_time": "2020-03-12T18:17:59.307632Z",
     "start_time": "2020-03-12T18:17:59.285963Z"
    }
   },
   "outputs": [
    {
     "data": {
      "text/html": [
       "<div>\n",
       "<style scoped>\n",
       "    .dataframe tbody tr th:only-of-type {\n",
       "        vertical-align: middle;\n",
       "    }\n",
       "\n",
       "    .dataframe tbody tr th {\n",
       "        vertical-align: top;\n",
       "    }\n",
       "\n",
       "    .dataframe thead th {\n",
       "        text-align: right;\n",
       "    }\n",
       "</style>\n",
       "<table border=\"1\" class=\"dataframe\">\n",
       "  <thead>\n",
       "    <tr style=\"text-align: right;\">\n",
       "      <th></th>\n",
       "      <th>LSOA11CD</th>\n",
       "      <th>LSOA11NM</th>\n",
       "      <th>WD17CD</th>\n",
       "      <th>WD17NM</th>\n",
       "      <th>WD17NMW</th>\n",
       "      <th>LAD17CD</th>\n",
       "      <th>LAD17NM</th>\n",
       "      <th>FID</th>\n",
       "    </tr>\n",
       "  </thead>\n",
       "  <tbody>\n",
       "    <tr>\n",
       "      <th>0</th>\n",
       "      <td>E01000001</td>\n",
       "      <td>City of London 001A</td>\n",
       "      <td>E05009288</td>\n",
       "      <td>Aldersgate</td>\n",
       "      <td>NaN</td>\n",
       "      <td>E09000001</td>\n",
       "      <td>City of London</td>\n",
       "      <td>1</td>\n",
       "    </tr>\n",
       "    <tr>\n",
       "      <th>1</th>\n",
       "      <td>E01000205</td>\n",
       "      <td>Barnet 035A</td>\n",
       "      <td>E05000052</td>\n",
       "      <td>Garden Suburb</td>\n",
       "      <td>NaN</td>\n",
       "      <td>E09000003</td>\n",
       "      <td>Barnet</td>\n",
       "      <td>2</td>\n",
       "    </tr>\n",
       "    <tr>\n",
       "      <th>2</th>\n",
       "      <td>E01000002</td>\n",
       "      <td>City of London 001B</td>\n",
       "      <td>E05009302</td>\n",
       "      <td>Cripplegate</td>\n",
       "      <td>NaN</td>\n",
       "      <td>E09000001</td>\n",
       "      <td>City of London</td>\n",
       "      <td>3</td>\n",
       "    </tr>\n",
       "    <tr>\n",
       "      <th>3</th>\n",
       "      <td>E01000003</td>\n",
       "      <td>City of London 001C</td>\n",
       "      <td>E05009302</td>\n",
       "      <td>Cripplegate</td>\n",
       "      <td>NaN</td>\n",
       "      <td>E09000001</td>\n",
       "      <td>City of London</td>\n",
       "      <td>4</td>\n",
       "    </tr>\n",
       "    <tr>\n",
       "      <th>4</th>\n",
       "      <td>E01000206</td>\n",
       "      <td>Barnet 033B</td>\n",
       "      <td>E05000052</td>\n",
       "      <td>Garden Suburb</td>\n",
       "      <td>NaN</td>\n",
       "      <td>E09000003</td>\n",
       "      <td>Barnet</td>\n",
       "      <td>5</td>\n",
       "    </tr>\n",
       "  </tbody>\n",
       "</table>\n",
       "</div>"
      ],
      "text/plain": [
       "    LSOA11CD             LSOA11NM     WD17CD         WD17NM WD17NMW  \\\n",
       "0  E01000001  City of London 001A  E05009288     Aldersgate     NaN   \n",
       "1  E01000205          Barnet 035A  E05000052  Garden Suburb     NaN   \n",
       "2  E01000002  City of London 001B  E05009302    Cripplegate     NaN   \n",
       "3  E01000003  City of London 001C  E05009302    Cripplegate     NaN   \n",
       "4  E01000206          Barnet 033B  E05000052  Garden Suburb     NaN   \n",
       "\n",
       "     LAD17CD         LAD17NM  FID  \n",
       "0  E09000001  City of London    1  \n",
       "1  E09000003          Barnet    2  \n",
       "2  E09000001  City of London    3  \n",
       "3  E09000001  City of London    4  \n",
       "4  E09000003          Barnet    5  "
      ]
     },
     "execution_count": 47,
     "metadata": {},
     "output_type": "execute_result"
    }
   ],
   "source": [
    "df_city.head()"
   ]
  },
  {
   "cell_type": "code",
   "execution_count": 48,
   "metadata": {
    "ExecuteTime": {
     "end_time": "2020-03-12T18:18:05.231036Z",
     "start_time": "2020-03-12T18:18:03.163345Z"
    },
    "collapsed": true
   },
   "outputs": [],
   "source": [
    "wardMap = {}\n",
    "for name , group in df_city.groupby('WD17CD'):\n",
    "        wardMap[name] = list(group['LSOA11CD'])"
   ]
  },
  {
   "cell_type": "code",
   "execution_count": 49,
   "metadata": {
    "ExecuteTime": {
     "end_time": "2020-03-12T18:18:09.058725Z",
     "start_time": "2020-03-12T18:18:09.022182Z"
    },
    "collapsed": true
   },
   "outputs": [],
   "source": [
    "LSOA_survey_takers = json.load(open('scratchpad/LSOA_suvery_pop.json'))"
   ]
  },
  {
   "cell_type": "code",
   "execution_count": 50,
   "metadata": {
    "ExecuteTime": {
     "end_time": "2020-03-12T18:18:14.104432Z",
     "start_time": "2020-03-12T18:18:12.810421Z"
    },
    "collapsed": true
   },
   "outputs": [],
   "source": [
    "population = {}\n",
    "for index, row in ward_pop1.iterrows():\n",
    "    if not row['All Ages'] == '..':\n",
    "        if isinstance(row['All Ages'],str):\n",
    "            population[row['Ward Code 1']] = float(row['All Ages'].replace(',',''))\n"
   ]
  },
  {
   "cell_type": "code",
   "execution_count": 51,
   "metadata": {
    "ExecuteTime": {
     "end_time": "2020-03-12T18:18:17.936398Z",
     "start_time": "2020-03-12T18:18:17.928888Z"
    }
   },
   "outputs": [
    {
     "data": {
      "text/plain": [
       "8297"
      ]
     },
     "execution_count": 51,
     "metadata": {},
     "output_type": "execute_result"
    }
   ],
   "source": [
    "len(population)"
   ]
  },
  {
   "cell_type": "code",
   "execution_count": 52,
   "metadata": {
    "ExecuteTime": {
     "end_time": "2020-03-12T18:18:21.762320Z",
     "start_time": "2020-03-12T18:18:21.755110Z"
    }
   },
   "outputs": [
    {
     "data": {
      "text/plain": [
       "58381217.0"
      ]
     },
     "execution_count": 52,
     "metadata": {},
     "output_type": "execute_result"
    }
   ],
   "source": [
    "sum(population.values())"
   ]
  },
  {
   "cell_type": "code",
   "execution_count": 53,
   "metadata": {
    "ExecuteTime": {
     "end_time": "2020-03-12T18:18:25.537433Z",
     "start_time": "2020-03-12T18:18:25.528025Z"
    }
   },
   "outputs": [
    {
     "data": {
      "text/plain": [
       "8268"
      ]
     },
     "execution_count": 53,
     "metadata": {},
     "output_type": "execute_result"
    }
   ],
   "source": [
    "len(set(wardMap.keys()).intersection(population.keys()))"
   ]
  },
  {
   "cell_type": "code",
   "execution_count": 54,
   "metadata": {
    "ExecuteTime": {
     "end_time": "2020-03-12T18:18:29.311137Z",
     "start_time": "2020-03-12T18:18:29.306446Z"
    },
    "collapsed": true
   },
   "outputs": [],
   "source": [
    "# ward_df = pd.read_csv('../BL_Work/pcd11_par11_wd11_lad11_ew_lu.csv')\n",
    "\n",
    "# ward_df.head()\n",
    "\n",
    "# ward_postcode_map = {}\n",
    "# for name, group in ward_df.groupby('wd11cd'):\n",
    "#     ward_postcode_map[name] = list(group['pcds'])"
   ]
  },
  {
   "cell_type": "code",
   "execution_count": 55,
   "metadata": {
    "ExecuteTime": {
     "end_time": "2020-03-12T18:18:33.952305Z",
     "start_time": "2020-03-12T18:18:33.138151Z"
    },
    "collapsed": true
   },
   "outputs": [],
   "source": [
    "LSOA_dist = json.load(open('scratchpad/GP_LSOA_PATIENTSDIST.json','rb'))"
   ]
  },
  {
   "cell_type": "code",
   "execution_count": 56,
   "metadata": {
    "ExecuteTime": {
     "end_time": "2020-03-12T18:18:38.835371Z",
     "start_time": "2020-03-12T18:18:38.831249Z"
    },
    "collapsed": true
   },
   "outputs": [],
   "source": [
    "# statistics = {}"
   ]
  },
  {
   "cell_type": "code",
   "execution_count": 57,
   "metadata": {
    "ExecuteTime": {
     "end_time": "2020-03-12T18:18:43.691660Z",
     "start_time": "2020-03-12T18:18:43.679220Z"
    },
    "collapsed": true
   },
   "outputs": [],
   "source": [
    "# for f in tqdm(files):\n",
    "#     date = getDate(f)\n",
    "#     statistics[date] = {}\n",
    "# #     statistics[date]['All'] = {}\n",
    "#     statistics[date]['Sym'] = {}\n",
    "#     statistics[date]['Disease'] = {}\n",
    "    \n",
    "    \n",
    "#     pdp = pd.read_csv(f,compression='gzip')\n",
    "#     pdp.dropna()\n",
    "#     pdp = pdp[pdp['2'].isin(Open_filtered_GPs.keys())]\n",
    "\n",
    "#     GP_postcodes_long = {}\n",
    "#     for name , group in pdp.groupby('2'):\n",
    "#         postcode = list(set(group['10']))\n",
    "#         GP_postcodes_long[name] = str(postcode[0]).strip()\n",
    "    \n",
    "    \n",
    "    \n",
    "#     disease = list(set(pdp[pd.notnull(pdp['12'])]['12']))\n",
    "#     LSOA_disease_drug_count = {}\n",
    "#     LSOA_disease_dosage_count = {}\n",
    "#     for d in tqdm(disease):\n",
    "#         if d not in LSOA_disease_drug_count:\n",
    "#             LSOA_disease_drug_count[d]={}\n",
    "#             LSOA_disease_dosage_count[d] = {}\n",
    "#         for name, group in pdp.groupby('2'):\n",
    "#             if name in LSOA_dist:\n",
    "#                 disease_presc = group[group['12']==d]\n",
    "#                 disease_count = np.sum(disease_presc['5'])\n",
    "#                 disease_dosage_count = np.sum(disease_presc['19'])\n",
    "#                 for k in LSOA_dist[name]:\n",
    "#                     if k not in LSOA_disease_drug_count[d]:\n",
    "#                         LSOA_disease_drug_count[d][k] = 0.0\n",
    "#                     if k not in LSOA_disease_dosage_count[d]:\n",
    "#                         LSOA_disease_dosage_count[d][k] = 0.0\n",
    "#                     LSOA_disease_dosage_count[d][k]+= float(disease_dosage_count)*float(LSOA_dist[name][k])\n",
    "#                     LSOA_disease_drug_count[d][k]+= float(disease_count)*float(LSOA_dist[name][k])\n",
    "    \n",
    "#     statistics[date]['Disease'] = LSOA_disease_dosage_count\n",
    "\n",
    "#     symptom = list(set(pdp[pd.notnull(pdp['13'])]['13']))\n",
    "\n",
    "#     LSOA_symptom_drug_count = {}\n",
    "#     LSOA_symptom_dosage_count = {}\n",
    "#     for d in tqdm(symptom):\n",
    "#         if d not in LSOA_symptom_drug_count:\n",
    "#             LSOA_symptom_drug_count[d]={}\n",
    "#             LSOA_symptom_dosage_count[d] = {}\n",
    "#         for name, group in pdp.groupby('2'):\n",
    "#             if name in LSOA_dist:\n",
    "#                 disease_presc = group[group['13']==d]\n",
    "#                 disease_count = np.sum(disease_presc['5'])\n",
    "#                 dosage_count = np.sum(disease_presc['19'])\n",
    "#                 for k in LSOA_dist[name]:\n",
    "#                     if k not in LSOA_symptom_drug_count[d]:\n",
    "#                         LSOA_symptom_drug_count[d][k] = 0.0\n",
    "#                     if k not in LSOA_symptom_dosage_count[d]:\n",
    "#                         LSOA_symptom_dosage_count[d][k] = 0.0\n",
    "#                     LSOA_symptom_drug_count[d][k]+= float(disease_count)*float(LSOA_dist[name][k])\n",
    "#                     LSOA_symptom_dosage_count[d][k]+= float(dosage_count)*float(LSOA_dist[name][k])\n",
    "\n",
    "#     statistics[date]['Sym'] = LSOA_symptom_dosage_count\n",
    "#     del pdp"
   ]
  },
  {
   "cell_type": "code",
   "execution_count": 58,
   "metadata": {
    "ExecuteTime": {
     "end_time": "2020-03-12T18:18:48.590816Z",
     "start_time": "2020-03-12T18:18:48.586610Z"
    },
    "collapsed": true
   },
   "outputs": [],
   "source": [
    "disease_match_dict = disease_drug_dict_adam"
   ]
  },
  {
   "cell_type": "code",
   "execution_count": null,
   "metadata": {
    "ExecuteTime": {
     "start_time": "2020-03-12T18:17:35.407Z"
    }
   },
   "outputs": [
    {
     "name": "stderr",
     "output_type": "stream",
     "text": [
      "  0%|          | 0/107 [00:00<?, ?it/s]\n",
      "  0%|          | 0/18 [00:00<?, ?it/s]\u001b[A"
     ]
    },
    {
     "name": "stdout",
     "output_type": "stream",
     "text": [
      "Working with Anxiety\n"
     ]
    },
    {
     "name": "stderr",
     "output_type": "stream",
     "text": [
      "\n",
      "  6%|▌         | 1/18 [00:14<04:05, 14.42s/it]\u001b[A"
     ]
    },
    {
     "name": "stdout",
     "output_type": "stream",
     "text": [
      "Working with Asthma\n"
     ]
    },
    {
     "name": "stderr",
     "output_type": "stream",
     "text": [
      "\n",
      " 11%|█         | 2/18 [00:28<03:51, 14.46s/it]\u001b[A"
     ]
    },
    {
     "name": "stdout",
     "output_type": "stream",
     "text": [
      "Working with Tiredness\n"
     ]
    },
    {
     "name": "stderr",
     "output_type": "stream",
     "text": [
      "\n",
      " 17%|█▋        | 3/18 [00:43<03:37, 14.49s/it]\u001b[A"
     ]
    },
    {
     "name": "stdout",
     "output_type": "stream",
     "text": [
      "Working with COPD\n"
     ]
    },
    {
     "name": "stderr",
     "output_type": "stream",
     "text": [
      "\n",
      " 22%|██▏       | 4/18 [00:58<03:23, 14.51s/it]\u001b[A"
     ]
    },
    {
     "name": "stdout",
     "output_type": "stream",
     "text": [
      "Working with Renal disease\n"
     ]
    },
    {
     "name": "stderr",
     "output_type": "stream",
     "text": [
      "\n",
      " 28%|██▊       | 5/18 [01:12<03:09, 14.59s/it]\u001b[A"
     ]
    },
    {
     "name": "stdout",
     "output_type": "stream",
     "text": [
      "Working with Insomnia\n"
     ]
    },
    {
     "name": "stderr",
     "output_type": "stream",
     "text": [
      "\n",
      " 33%|███▎      | 6/18 [01:27<02:55, 14.63s/it]\u001b[A"
     ]
    },
    {
     "name": "stdout",
     "output_type": "stream",
     "text": [
      "Working with Nausea or vomiting\n"
     ]
    },
    {
     "name": "stderr",
     "output_type": "stream",
     "text": [
      "\n",
      " 39%|███▉      | 7/18 [01:42<02:41, 14.69s/it]\u001b[A"
     ]
    },
    {
     "name": "stdout",
     "output_type": "stream",
     "text": [
      "Working with Cerebrovascular disease\n"
     ]
    },
    {
     "name": "stderr",
     "output_type": "stream",
     "text": [
      "\n",
      " 44%|████▍     | 8/18 [01:56<02:26, 14.66s/it]\u001b[A"
     ]
    },
    {
     "name": "stdout",
     "output_type": "stream",
     "text": [
      "Working with Urinary disease\n"
     ]
    },
    {
     "name": "stderr",
     "output_type": "stream",
     "text": [
      "\n",
      " 50%|█████     | 9/18 [02:11<02:11, 14.64s/it]\u001b[A"
     ]
    },
    {
     "name": "stdout",
     "output_type": "stream",
     "text": [
      "Working with Skin disease\n"
     ]
    },
    {
     "name": "stderr",
     "output_type": "stream",
     "text": [
      "\n",
      " 56%|█████▌    | 10/18 [02:25<01:56, 14.55s/it]\u001b[A"
     ]
    },
    {
     "name": "stdout",
     "output_type": "stream",
     "text": [
      "Working with Stroke\n"
     ]
    },
    {
     "name": "stderr",
     "output_type": "stream",
     "text": [
      "\n",
      " 61%|██████    | 11/18 [02:40<01:41, 14.53s/it]\u001b[A"
     ]
    },
    {
     "name": "stdout",
     "output_type": "stream",
     "text": [
      "Working with Hypertension\n"
     ]
    },
    {
     "name": "stderr",
     "output_type": "stream",
     "text": [
      "\n",
      " 67%|██████▋   | 12/18 [02:55<01:27, 14.56s/it]\u001b[A"
     ]
    },
    {
     "name": "stdout",
     "output_type": "stream",
     "text": [
      "Working with Cardiovascular disease\n"
     ]
    },
    {
     "name": "stderr",
     "output_type": "stream",
     "text": [
      "\n",
      " 72%|███████▏  | 13/18 [03:09<01:12, 14.53s/it]\u001b[A"
     ]
    },
    {
     "name": "stdout",
     "output_type": "stream",
     "text": [
      "Working with Respiratory disease\n"
     ]
    },
    {
     "name": "stderr",
     "output_type": "stream",
     "text": [
      "\n",
      " 78%|███████▊  | 14/18 [03:23<00:58, 14.52s/it]\u001b[A"
     ]
    },
    {
     "name": "stdout",
     "output_type": "stream",
     "text": [
      "Working with Allergic Rhinitis\n"
     ]
    },
    {
     "name": "stderr",
     "output_type": "stream",
     "text": [
      "\n",
      " 83%|████████▎ | 15/18 [03:38<00:43, 14.61s/it]\u001b[A"
     ]
    },
    {
     "name": "stdout",
     "output_type": "stream",
     "text": [
      "Working with Sunburn\n"
     ]
    },
    {
     "name": "stderr",
     "output_type": "stream",
     "text": [
      "\n",
      " 89%|████████▉ | 16/18 [03:53<00:29, 14.54s/it]\u001b[A"
     ]
    },
    {
     "name": "stdout",
     "output_type": "stream",
     "text": [
      "Working with Heart disease\n"
     ]
    },
    {
     "name": "stderr",
     "output_type": "stream",
     "text": [
      "\n",
      " 94%|█████████▍| 17/18 [04:07<00:14, 14.58s/it]\u001b[A"
     ]
    },
    {
     "name": "stdout",
     "output_type": "stream",
     "text": [
      "Working with Depression\n"
     ]
    },
    {
     "name": "stderr",
     "output_type": "stream",
     "text": [
      "\n",
      "  1%|          | 1/107 [05:11<9:11:05, 311.94s/it]\n",
      "  0%|          | 0/18 [00:00<?, ?it/s]\u001b[A"
     ]
    },
    {
     "name": "stdout",
     "output_type": "stream",
     "text": [
      "Working with Anxiety\n"
     ]
    },
    {
     "name": "stderr",
     "output_type": "stream",
     "text": [
      "\n",
      "  6%|▌         | 1/18 [00:14<04:06, 14.53s/it]\u001b[A"
     ]
    },
    {
     "name": "stdout",
     "output_type": "stream",
     "text": [
      "Working with Asthma\n"
     ]
    },
    {
     "name": "stderr",
     "output_type": "stream",
     "text": [
      "\n",
      " 11%|█         | 2/18 [00:29<03:52, 14.56s/it]\u001b[A"
     ]
    },
    {
     "name": "stdout",
     "output_type": "stream",
     "text": [
      "Working with Tiredness\n"
     ]
    },
    {
     "name": "stderr",
     "output_type": "stream",
     "text": [
      "\n",
      " 17%|█▋        | 3/18 [00:43<03:37, 14.51s/it]\u001b[A"
     ]
    },
    {
     "name": "stdout",
     "output_type": "stream",
     "text": [
      "Working with COPD\n"
     ]
    },
    {
     "name": "stderr",
     "output_type": "stream",
     "text": [
      "\n",
      " 22%|██▏       | 4/18 [00:57<03:22, 14.48s/it]\u001b[A"
     ]
    },
    {
     "name": "stdout",
     "output_type": "stream",
     "text": [
      "Working with Renal disease\n"
     ]
    },
    {
     "name": "stderr",
     "output_type": "stream",
     "text": [
      "\n",
      " 28%|██▊       | 5/18 [01:12<03:09, 14.57s/it]\u001b[A"
     ]
    },
    {
     "name": "stdout",
     "output_type": "stream",
     "text": [
      "Working with Insomnia\n"
     ]
    },
    {
     "name": "stderr",
     "output_type": "stream",
     "text": [
      "\n",
      " 33%|███▎      | 6/18 [01:27<02:54, 14.52s/it]\u001b[A"
     ]
    },
    {
     "name": "stdout",
     "output_type": "stream",
     "text": [
      "Working with Nausea or vomiting\n"
     ]
    },
    {
     "name": "stderr",
     "output_type": "stream",
     "text": [
      "\n",
      " 39%|███▉      | 7/18 [01:41<02:39, 14.46s/it]\u001b[A"
     ]
    },
    {
     "name": "stdout",
     "output_type": "stream",
     "text": [
      "Working with Cerebrovascular disease\n"
     ]
    },
    {
     "name": "stderr",
     "output_type": "stream",
     "text": [
      "\n",
      " 44%|████▍     | 8/18 [01:56<02:24, 14.49s/it]\u001b[A"
     ]
    },
    {
     "name": "stdout",
     "output_type": "stream",
     "text": [
      "Working with Urinary disease\n"
     ]
    },
    {
     "name": "stderr",
     "output_type": "stream",
     "text": [
      "\n",
      " 50%|█████     | 9/18 [02:10<02:11, 14.58s/it]\u001b[A"
     ]
    },
    {
     "name": "stdout",
     "output_type": "stream",
     "text": [
      "Working with Skin disease\n"
     ]
    },
    {
     "name": "stderr",
     "output_type": "stream",
     "text": [
      "\n",
      " 56%|█████▌    | 10/18 [02:24<01:55, 14.44s/it]\u001b[A"
     ]
    },
    {
     "name": "stdout",
     "output_type": "stream",
     "text": [
      "Working with Stroke\n"
     ]
    },
    {
     "name": "stderr",
     "output_type": "stream",
     "text": [
      "\n",
      " 61%|██████    | 11/18 [02:39<01:40, 14.36s/it]\u001b[A"
     ]
    },
    {
     "name": "stdout",
     "output_type": "stream",
     "text": [
      "Working with Hypertension\n"
     ]
    },
    {
     "name": "stderr",
     "output_type": "stream",
     "text": [
      "\n",
      " 67%|██████▋   | 12/18 [02:53<01:27, 14.51s/it]\u001b[A"
     ]
    },
    {
     "name": "stdout",
     "output_type": "stream",
     "text": [
      "Working with Cardiovascular disease\n"
     ]
    },
    {
     "name": "stderr",
     "output_type": "stream",
     "text": [
      "\n",
      " 72%|███████▏  | 13/18 [03:08<01:12, 14.45s/it]\u001b[A"
     ]
    },
    {
     "name": "stdout",
     "output_type": "stream",
     "text": [
      "Working with Respiratory disease\n"
     ]
    },
    {
     "name": "stderr",
     "output_type": "stream",
     "text": [
      "\n",
      " 78%|███████▊  | 14/18 [03:22<00:57, 14.39s/it]\u001b[A"
     ]
    },
    {
     "name": "stdout",
     "output_type": "stream",
     "text": [
      "Working with Allergic Rhinitis\n"
     ]
    },
    {
     "name": "stderr",
     "output_type": "stream",
     "text": [
      "\n",
      " 83%|████████▎ | 15/18 [03:36<00:43, 14.38s/it]\u001b[A"
     ]
    },
    {
     "name": "stdout",
     "output_type": "stream",
     "text": [
      "Working with Sunburn\n"
     ]
    },
    {
     "name": "stderr",
     "output_type": "stream",
     "text": [
      "\n",
      " 89%|████████▉ | 16/18 [03:51<00:28, 14.43s/it]\u001b[A"
     ]
    },
    {
     "name": "stdout",
     "output_type": "stream",
     "text": [
      "Working with Heart disease\n"
     ]
    },
    {
     "name": "stderr",
     "output_type": "stream",
     "text": [
      "\n",
      " 94%|█████████▍| 17/18 [04:05<00:14, 14.45s/it]\u001b[A"
     ]
    },
    {
     "name": "stdout",
     "output_type": "stream",
     "text": [
      "Working with Depression\n"
     ]
    },
    {
     "name": "stderr",
     "output_type": "stream",
     "text": [
      "\n",
      "  2%|▏         | 2/107 [10:25<9:06:34, 312.33s/it]\n",
      "  0%|          | 0/18 [00:00<?, ?it/s]\u001b[A"
     ]
    },
    {
     "name": "stdout",
     "output_type": "stream",
     "text": [
      "Working with Anxiety\n"
     ]
    },
    {
     "name": "stderr",
     "output_type": "stream",
     "text": [
      "\n",
      "  6%|▌         | 1/18 [00:14<04:06, 14.47s/it]\u001b[A"
     ]
    },
    {
     "name": "stdout",
     "output_type": "stream",
     "text": [
      "Working with Asthma\n"
     ]
    },
    {
     "name": "stderr",
     "output_type": "stream",
     "text": [
      "\n",
      " 11%|█         | 2/18 [00:28<03:51, 14.45s/it]\u001b[A"
     ]
    },
    {
     "name": "stdout",
     "output_type": "stream",
     "text": [
      "Working with Tiredness\n"
     ]
    },
    {
     "name": "stderr",
     "output_type": "stream",
     "text": [
      "\n",
      " 17%|█▋        | 3/18 [00:44<03:43, 14.87s/it]\u001b[A"
     ]
    },
    {
     "name": "stdout",
     "output_type": "stream",
     "text": [
      "Working with COPD\n"
     ]
    },
    {
     "name": "stderr",
     "output_type": "stream",
     "text": [
      "\n",
      " 22%|██▏       | 4/18 [01:02<03:41, 15.84s/it]\u001b[A"
     ]
    },
    {
     "name": "stdout",
     "output_type": "stream",
     "text": [
      "Working with Renal disease\n"
     ]
    },
    {
     "name": "stderr",
     "output_type": "stream",
     "text": [
      "\n",
      " 28%|██▊       | 5/18 [01:20<03:34, 16.51s/it]\u001b[A"
     ]
    },
    {
     "name": "stdout",
     "output_type": "stream",
     "text": [
      "Working with Insomnia\n"
     ]
    },
    {
     "name": "stderr",
     "output_type": "stream",
     "text": [
      "\n",
      " 33%|███▎      | 6/18 [01:36<03:13, 16.12s/it]\u001b[A"
     ]
    },
    {
     "name": "stdout",
     "output_type": "stream",
     "text": [
      "Working with Nausea or vomiting\n"
     ]
    },
    {
     "name": "stderr",
     "output_type": "stream",
     "text": [
      "\n",
      " 39%|███▉      | 7/18 [01:51<02:54, 15.85s/it]\u001b[A"
     ]
    },
    {
     "name": "stdout",
     "output_type": "stream",
     "text": [
      "Working with Cerebrovascular disease\n"
     ]
    },
    {
     "name": "stderr",
     "output_type": "stream",
     "text": [
      "\n",
      " 44%|████▍     | 8/18 [02:06<02:35, 15.55s/it]\u001b[A"
     ]
    },
    {
     "name": "stdout",
     "output_type": "stream",
     "text": [
      "Working with Urinary disease\n"
     ]
    },
    {
     "name": "stderr",
     "output_type": "stream",
     "text": [
      "\n",
      " 50%|█████     | 9/18 [02:20<02:17, 15.31s/it]\u001b[A"
     ]
    },
    {
     "name": "stdout",
     "output_type": "stream",
     "text": [
      "Working with Skin disease\n"
     ]
    },
    {
     "name": "stderr",
     "output_type": "stream",
     "text": [
      "\n",
      " 56%|█████▌    | 10/18 [02:35<02:01, 15.15s/it]\u001b[A"
     ]
    },
    {
     "name": "stdout",
     "output_type": "stream",
     "text": [
      "Working with Stroke\n"
     ]
    },
    {
     "name": "stderr",
     "output_type": "stream",
     "text": [
      "\n",
      " 61%|██████    | 11/18 [02:50<01:45, 15.13s/it]\u001b[A"
     ]
    },
    {
     "name": "stdout",
     "output_type": "stream",
     "text": [
      "Working with Hypertension\n"
     ]
    },
    {
     "name": "stderr",
     "output_type": "stream",
     "text": [
      "\n",
      " 67%|██████▋   | 12/18 [03:06<01:31, 15.31s/it]\u001b[A"
     ]
    },
    {
     "name": "stdout",
     "output_type": "stream",
     "text": [
      "Working with Cardiovascular disease\n"
     ]
    },
    {
     "name": "stderr",
     "output_type": "stream",
     "text": [
      "\n",
      " 72%|███████▏  | 13/18 [03:21<01:16, 15.22s/it]\u001b[A"
     ]
    },
    {
     "name": "stdout",
     "output_type": "stream",
     "text": [
      "Working with Respiratory disease\n"
     ]
    },
    {
     "name": "stderr",
     "output_type": "stream",
     "text": [
      "\n",
      " 78%|███████▊  | 14/18 [03:36<01:00, 15.07s/it]\u001b[A"
     ]
    },
    {
     "name": "stdout",
     "output_type": "stream",
     "text": [
      "Working with Allergic Rhinitis\n"
     ]
    },
    {
     "name": "stderr",
     "output_type": "stream",
     "text": [
      "\n",
      " 83%|████████▎ | 15/18 [03:51<00:45, 15.10s/it]\u001b[A"
     ]
    },
    {
     "name": "stdout",
     "output_type": "stream",
     "text": [
      "Working with Sunburn\n"
     ]
    },
    {
     "name": "stderr",
     "output_type": "stream",
     "text": [
      "\n",
      " 89%|████████▉ | 16/18 [04:06<00:29, 14.96s/it]\u001b[A"
     ]
    },
    {
     "name": "stdout",
     "output_type": "stream",
     "text": [
      "Working with Heart disease\n"
     ]
    },
    {
     "name": "stderr",
     "output_type": "stream",
     "text": [
      "\n",
      " 94%|█████████▍| 17/18 [04:21<00:14, 14.96s/it]\u001b[A"
     ]
    },
    {
     "name": "stdout",
     "output_type": "stream",
     "text": [
      "Working with Depression\n"
     ]
    },
    {
     "name": "stderr",
     "output_type": "stream",
     "text": [
      "\n",
      "  3%|▎         | 3/107 [15:52<9:09:02, 316.76s/it]\n",
      "  0%|          | 0/18 [00:00<?, ?it/s]\u001b[A"
     ]
    },
    {
     "name": "stdout",
     "output_type": "stream",
     "text": [
      "Working with Anxiety\n"
     ]
    },
    {
     "name": "stderr",
     "output_type": "stream",
     "text": [
      "\n",
      "  6%|▌         | 1/18 [00:14<04:08, 14.59s/it]\u001b[A"
     ]
    },
    {
     "name": "stdout",
     "output_type": "stream",
     "text": [
      "Working with Asthma\n"
     ]
    },
    {
     "name": "stderr",
     "output_type": "stream",
     "text": [
      "\n",
      " 11%|█         | 2/18 [00:29<03:53, 14.62s/it]\u001b[A"
     ]
    },
    {
     "name": "stdout",
     "output_type": "stream",
     "text": [
      "Working with Tiredness\n"
     ]
    },
    {
     "name": "stderr",
     "output_type": "stream",
     "text": [
      "\n",
      " 17%|█▋        | 3/18 [00:43<03:35, 14.39s/it]\u001b[A"
     ]
    },
    {
     "name": "stdout",
     "output_type": "stream",
     "text": [
      "Working with COPD\n"
     ]
    },
    {
     "name": "stderr",
     "output_type": "stream",
     "text": [
      "\n",
      " 22%|██▏       | 4/18 [00:57<03:21, 14.36s/it]\u001b[A"
     ]
    },
    {
     "name": "stdout",
     "output_type": "stream",
     "text": [
      "Working with Renal disease\n"
     ]
    },
    {
     "name": "stderr",
     "output_type": "stream",
     "text": [
      "\n",
      " 28%|██▊       | 5/18 [01:11<03:07, 14.42s/it]\u001b[A"
     ]
    },
    {
     "name": "stdout",
     "output_type": "stream",
     "text": [
      "Working with Insomnia\n"
     ]
    },
    {
     "name": "stderr",
     "output_type": "stream",
     "text": [
      "\n",
      " 33%|███▎      | 6/18 [01:26<02:53, 14.45s/it]\u001b[A"
     ]
    },
    {
     "name": "stdout",
     "output_type": "stream",
     "text": [
      "Working with Nausea or vomiting\n"
     ]
    },
    {
     "name": "stderr",
     "output_type": "stream",
     "text": [
      "\n",
      " 39%|███▉      | 7/18 [01:41<02:39, 14.47s/it]\u001b[A"
     ]
    },
    {
     "name": "stdout",
     "output_type": "stream",
     "text": [
      "Working with Cerebrovascular disease\n"
     ]
    },
    {
     "name": "stderr",
     "output_type": "stream",
     "text": [
      "\n",
      " 44%|████▍     | 8/18 [01:55<02:24, 14.46s/it]\u001b[A"
     ]
    },
    {
     "name": "stdout",
     "output_type": "stream",
     "text": [
      "Working with Urinary disease\n"
     ]
    },
    {
     "name": "stderr",
     "output_type": "stream",
     "text": [
      "\n",
      " 50%|█████     | 9/18 [02:10<02:10, 14.51s/it]\u001b[A"
     ]
    },
    {
     "name": "stdout",
     "output_type": "stream",
     "text": [
      "Working with Skin disease\n"
     ]
    },
    {
     "name": "stderr",
     "output_type": "stream",
     "text": [
      "\n",
      " 56%|█████▌    | 10/18 [02:24<01:56, 14.52s/it]\u001b[A"
     ]
    },
    {
     "name": "stdout",
     "output_type": "stream",
     "text": [
      "Working with Stroke\n"
     ]
    },
    {
     "name": "stderr",
     "output_type": "stream",
     "text": [
      "\n",
      " 61%|██████    | 11/18 [02:38<01:40, 14.39s/it]\u001b[A"
     ]
    },
    {
     "name": "stdout",
     "output_type": "stream",
     "text": [
      "Working with Hypertension\n"
     ]
    },
    {
     "name": "stderr",
     "output_type": "stream",
     "text": [
      "\n",
      " 67%|██████▋   | 12/18 [02:53<01:26, 14.42s/it]\u001b[A"
     ]
    },
    {
     "name": "stdout",
     "output_type": "stream",
     "text": [
      "Working with Cardiovascular disease\n"
     ]
    },
    {
     "name": "stderr",
     "output_type": "stream",
     "text": [
      "\n",
      " 72%|███████▏  | 13/18 [03:07<01:12, 14.47s/it]\u001b[A"
     ]
    },
    {
     "name": "stdout",
     "output_type": "stream",
     "text": [
      "Working with Respiratory disease\n"
     ]
    },
    {
     "name": "stderr",
     "output_type": "stream",
     "text": [
      "\n",
      " 78%|███████▊  | 14/18 [03:22<00:57, 14.47s/it]\u001b[A"
     ]
    },
    {
     "name": "stdout",
     "output_type": "stream",
     "text": [
      "Working with Allergic Rhinitis\n"
     ]
    },
    {
     "name": "stderr",
     "output_type": "stream",
     "text": [
      "\n",
      " 83%|████████▎ | 15/18 [03:36<00:43, 14.38s/it]\u001b[A"
     ]
    },
    {
     "name": "stdout",
     "output_type": "stream",
     "text": [
      "Working with Sunburn\n"
     ]
    },
    {
     "name": "stderr",
     "output_type": "stream",
     "text": [
      "\n",
      " 89%|████████▉ | 16/18 [03:50<00:28, 14.40s/it]\u001b[A"
     ]
    },
    {
     "name": "stdout",
     "output_type": "stream",
     "text": [
      "Working with Heart disease\n"
     ]
    },
    {
     "name": "stderr",
     "output_type": "stream",
     "text": [
      "\n",
      " 94%|█████████▍| 17/18 [04:05<00:14, 14.54s/it]\u001b[A"
     ]
    },
    {
     "name": "stdout",
     "output_type": "stream",
     "text": [
      "Working with Depression\n"
     ]
    },
    {
     "name": "stderr",
     "output_type": "stream",
     "text": [
      "\n",
      "  4%|▎         | 4/107 [21:03<9:00:58, 315.13s/it]\n",
      "  0%|          | 0/18 [00:00<?, ?it/s]\u001b[A"
     ]
    },
    {
     "name": "stdout",
     "output_type": "stream",
     "text": [
      "Working with Anxiety\n"
     ]
    },
    {
     "name": "stderr",
     "output_type": "stream",
     "text": [
      "\n",
      "  6%|▌         | 1/18 [00:14<04:06, 14.47s/it]\u001b[A"
     ]
    },
    {
     "name": "stdout",
     "output_type": "stream",
     "text": [
      "Working with Asthma\n"
     ]
    },
    {
     "name": "stderr",
     "output_type": "stream",
     "text": [
      "\n",
      " 11%|█         | 2/18 [00:29<03:54, 14.64s/it]\u001b[A"
     ]
    },
    {
     "name": "stdout",
     "output_type": "stream",
     "text": [
      "Working with Tiredness\n"
     ]
    },
    {
     "name": "stderr",
     "output_type": "stream",
     "text": [
      "\n",
      " 17%|█▋        | 3/18 [00:43<03:38, 14.58s/it]\u001b[A"
     ]
    },
    {
     "name": "stdout",
     "output_type": "stream",
     "text": [
      "Working with COPD\n"
     ]
    },
    {
     "name": "stderr",
     "output_type": "stream",
     "text": [
      "\n",
      " 22%|██▏       | 4/18 [00:58<03:23, 14.56s/it]\u001b[A"
     ]
    },
    {
     "name": "stdout",
     "output_type": "stream",
     "text": [
      "Working with Renal disease\n"
     ]
    },
    {
     "name": "stderr",
     "output_type": "stream",
     "text": [
      "\n",
      " 28%|██▊       | 5/18 [01:13<03:11, 14.74s/it]\u001b[A"
     ]
    },
    {
     "name": "stdout",
     "output_type": "stream",
     "text": [
      "Working with Insomnia\n"
     ]
    },
    {
     "name": "stderr",
     "output_type": "stream",
     "text": [
      "\n",
      " 33%|███▎      | 6/18 [01:28<02:56, 14.68s/it]\u001b[A"
     ]
    },
    {
     "name": "stdout",
     "output_type": "stream",
     "text": [
      "Working with Nausea or vomiting\n"
     ]
    },
    {
     "name": "stderr",
     "output_type": "stream",
     "text": [
      "\n",
      " 39%|███▉      | 7/18 [01:42<02:41, 14.68s/it]\u001b[A"
     ]
    },
    {
     "name": "stdout",
     "output_type": "stream",
     "text": [
      "Working with Cerebrovascular disease\n"
     ]
    },
    {
     "name": "stderr",
     "output_type": "stream",
     "text": [
      "\n",
      " 44%|████▍     | 8/18 [01:57<02:26, 14.60s/it]\u001b[A"
     ]
    },
    {
     "name": "stdout",
     "output_type": "stream",
     "text": [
      "Working with Urinary disease\n"
     ]
    },
    {
     "name": "stderr",
     "output_type": "stream",
     "text": [
      "\n",
      " 50%|█████     | 9/18 [02:12<02:12, 14.75s/it]\u001b[A"
     ]
    },
    {
     "name": "stdout",
     "output_type": "stream",
     "text": [
      "Working with Skin disease\n"
     ]
    },
    {
     "name": "stderr",
     "output_type": "stream",
     "text": [
      "\n",
      " 56%|█████▌    | 10/18 [02:26<01:57, 14.66s/it]\u001b[A"
     ]
    },
    {
     "name": "stdout",
     "output_type": "stream",
     "text": [
      "Working with Stroke\n"
     ]
    },
    {
     "name": "stderr",
     "output_type": "stream",
     "text": [
      "\n",
      " 61%|██████    | 11/18 [02:41<01:42, 14.60s/it]\u001b[A"
     ]
    },
    {
     "name": "stdout",
     "output_type": "stream",
     "text": [
      "Working with Hypertension\n"
     ]
    },
    {
     "name": "stderr",
     "output_type": "stream",
     "text": [
      "\n",
      " 67%|██████▋   | 12/18 [02:55<01:27, 14.64s/it]\u001b[A"
     ]
    },
    {
     "name": "stdout",
     "output_type": "stream",
     "text": [
      "Working with Cardiovascular disease\n"
     ]
    },
    {
     "name": "stderr",
     "output_type": "stream",
     "text": [
      "\n",
      " 72%|███████▏  | 13/18 [03:11<01:13, 14.79s/it]\u001b[A"
     ]
    },
    {
     "name": "stdout",
     "output_type": "stream",
     "text": [
      "Working with Respiratory disease\n"
     ]
    },
    {
     "name": "stderr",
     "output_type": "stream",
     "text": [
      "\n",
      " 78%|███████▊  | 14/18 [03:25<00:58, 14.67s/it]\u001b[A"
     ]
    },
    {
     "name": "stdout",
     "output_type": "stream",
     "text": [
      "Working with Allergic Rhinitis\n"
     ]
    },
    {
     "name": "stderr",
     "output_type": "stream",
     "text": [
      "\n",
      " 83%|████████▎ | 15/18 [03:39<00:43, 14.55s/it]\u001b[A"
     ]
    },
    {
     "name": "stdout",
     "output_type": "stream",
     "text": [
      "Working with Sunburn\n"
     ]
    },
    {
     "name": "stderr",
     "output_type": "stream",
     "text": [
      "\n",
      " 89%|████████▉ | 16/18 [03:54<00:29, 14.53s/it]\u001b[A"
     ]
    },
    {
     "name": "stdout",
     "output_type": "stream",
     "text": [
      "Working with Heart disease\n"
     ]
    },
    {
     "name": "stderr",
     "output_type": "stream",
     "text": [
      "\n",
      " 94%|█████████▍| 17/18 [04:09<00:14, 14.70s/it]\u001b[A"
     ]
    },
    {
     "name": "stdout",
     "output_type": "stream",
     "text": [
      "Working with Depression\n"
     ]
    },
    {
     "name": "stderr",
     "output_type": "stream",
     "text": [
      "\n",
      "  5%|▍         | 5/107 [26:19<8:56:10, 315.39s/it]\n",
      "  0%|          | 0/18 [00:00<?, ?it/s]\u001b[A"
     ]
    },
    {
     "name": "stdout",
     "output_type": "stream",
     "text": [
      "Working with Anxiety\n"
     ]
    },
    {
     "name": "stderr",
     "output_type": "stream",
     "text": [
      "\n",
      "  6%|▌         | 1/18 [00:14<04:14, 14.94s/it]\u001b[A"
     ]
    },
    {
     "name": "stdout",
     "output_type": "stream",
     "text": [
      "Working with Asthma\n"
     ]
    },
    {
     "name": "stderr",
     "output_type": "stream",
     "text": [
      "\n",
      " 11%|█         | 2/18 [00:30<04:03, 15.20s/it]\u001b[A"
     ]
    },
    {
     "name": "stdout",
     "output_type": "stream",
     "text": [
      "Working with Tiredness\n"
     ]
    },
    {
     "name": "stderr",
     "output_type": "stream",
     "text": [
      "\n",
      " 17%|█▋        | 3/18 [00:45<03:45, 15.02s/it]\u001b[A"
     ]
    },
    {
     "name": "stdout",
     "output_type": "stream",
     "text": [
      "Working with COPD\n"
     ]
    },
    {
     "name": "stderr",
     "output_type": "stream",
     "text": [
      "\n",
      " 22%|██▏       | 4/18 [00:59<03:26, 14.76s/it]\u001b[A"
     ]
    },
    {
     "name": "stdout",
     "output_type": "stream",
     "text": [
      "Working with Renal disease\n"
     ]
    },
    {
     "name": "stderr",
     "output_type": "stream",
     "text": [
      "\n",
      " 28%|██▊       | 5/18 [01:13<03:10, 14.68s/it]\u001b[A"
     ]
    },
    {
     "name": "stdout",
     "output_type": "stream",
     "text": [
      "Working with Insomnia\n"
     ]
    },
    {
     "name": "stderr",
     "output_type": "stream",
     "text": [
      "\n",
      " 33%|███▎      | 6/18 [01:28<02:55, 14.64s/it]\u001b[A"
     ]
    },
    {
     "name": "stdout",
     "output_type": "stream",
     "text": [
      "Working with Nausea or vomiting\n"
     ]
    },
    {
     "name": "stderr",
     "output_type": "stream",
     "text": [
      "\n",
      " 39%|███▉      | 7/18 [01:43<02:40, 14.62s/it]\u001b[A"
     ]
    },
    {
     "name": "stdout",
     "output_type": "stream",
     "text": [
      "Working with Cerebrovascular disease\n"
     ]
    },
    {
     "name": "stderr",
     "output_type": "stream",
     "text": [
      "\n",
      " 44%|████▍     | 8/18 [01:57<02:25, 14.56s/it]\u001b[A"
     ]
    },
    {
     "name": "stdout",
     "output_type": "stream",
     "text": [
      "Working with Urinary disease\n"
     ]
    },
    {
     "name": "stderr",
     "output_type": "stream",
     "text": [
      "\n",
      " 50%|█████     | 9/18 [02:12<02:11, 14.61s/it]\u001b[A"
     ]
    },
    {
     "name": "stdout",
     "output_type": "stream",
     "text": [
      "Working with Skin disease\n"
     ]
    },
    {
     "name": "stderr",
     "output_type": "stream",
     "text": [
      "\n",
      " 56%|█████▌    | 10/18 [02:26<01:57, 14.63s/it]\u001b[A"
     ]
    },
    {
     "name": "stdout",
     "output_type": "stream",
     "text": [
      "Working with Stroke\n"
     ]
    },
    {
     "name": "stderr",
     "output_type": "stream",
     "text": [
      "\n",
      " 61%|██████    | 11/18 [02:41<01:42, 14.60s/it]\u001b[A"
     ]
    },
    {
     "name": "stdout",
     "output_type": "stream",
     "text": [
      "Working with Hypertension\n"
     ]
    },
    {
     "name": "stderr",
     "output_type": "stream",
     "text": [
      "\n",
      " 67%|██████▋   | 12/18 [02:55<01:27, 14.56s/it]\u001b[A"
     ]
    },
    {
     "name": "stdout",
     "output_type": "stream",
     "text": [
      "Working with Cardiovascular disease\n"
     ]
    },
    {
     "name": "stderr",
     "output_type": "stream",
     "text": [
      "\n",
      " 72%|███████▏  | 13/18 [03:10<01:12, 14.56s/it]\u001b[A"
     ]
    },
    {
     "name": "stdout",
     "output_type": "stream",
     "text": [
      "Working with Respiratory disease\n"
     ]
    }
   ],
   "source": [
    "climate_health_statistics_adam = {}\n",
    "for f in tqdm(files):\n",
    "    date = getDate(f)\n",
    "    climate_health_statistics_adam[date] = {}\n",
    "    \n",
    "    \n",
    "    pdp = pd.read_csv(f,compression='gzip')\n",
    "    pdp.dropna()\n",
    "    pdp = pdp[pdp['2'].isin(Open_filtered_GPs.keys())]\n",
    "\n",
    "    GP_postcodes_long = {}\n",
    "    for name , group in pdp.groupby('2'):\n",
    "        postcode = list(set(group['10']))\n",
    "        GP_postcodes_long[name] = str(postcode[0]).strip()\n",
    "    \n",
    "    \n",
    "    \n",
    "    disease = list(disease_match_dict.keys())\n",
    "    LSOA_disease_drug_count = {}\n",
    "    LSOA_disease_dosage_count = {}\n",
    "    for d in tqdm(disease):\n",
    "        print \"Working with %s\"%d\n",
    "        if d not in LSOA_disease_drug_count:\n",
    "            LSOA_disease_drug_count[d]={}\n",
    "            LSOA_disease_dosage_count[d] = {}\n",
    "        for name, group in pdp.groupby('2'):\n",
    "            if name in LSOA_dist:\n",
    "                disease_presc = group[group['16'].isin(disease_match_dict[d])]\n",
    "                disease_count = np.sum(disease_presc['5'])\n",
    "                disease_dosage_count = np.sum(disease_presc['19'])\n",
    "                for k in LSOA_dist[name]:\n",
    "                    if k not in LSOA_disease_drug_count[d]:\n",
    "                        LSOA_disease_drug_count[d][k] = 0.0\n",
    "                    if k not in LSOA_disease_dosage_count[d]:\n",
    "                        LSOA_disease_dosage_count[d][k] = 0.0\n",
    "                    LSOA_disease_dosage_count[d][k]+= float(disease_dosage_count)*float(LSOA_dist[name][k])\n",
    "                    LSOA_disease_drug_count[d][k]+= float(disease_count)*float(LSOA_dist[name][k])\n",
    "    \n",
    "    climate_health_statistics_adam[date] = LSOA_disease_dosage_count\n",
    "    del pdp"
   ]
  },
  {
   "cell_type": "code",
   "execution_count": 63,
   "metadata": {
    "ExecuteTime": {
     "end_time": "2020-03-13T11:49:21.866764Z",
     "start_time": "2020-03-13T11:47:33.522767Z"
    }
   },
   "outputs": [
    {
     "name": "stdout",
     "output_type": "stream",
     "text": [
      "Stored 'climate_health_statistics_adam' (dict)\n"
     ]
    }
   ],
   "source": [
    "%store climate_health_statistics_adam"
   ]
  },
  {
   "cell_type": "code",
   "execution_count": 62,
   "metadata": {
    "ExecuteTime": {
     "end_time": "2020-03-13T11:46:10.311080Z",
     "start_time": "2020-03-13T11:46:10.305311Z"
    },
    "collapsed": true
   },
   "outputs": [],
   "source": [
    "# %store statistics"
   ]
  },
  {
   "cell_type": "code",
   "execution_count": 125,
   "metadata": {
    "collapsed": true
   },
   "outputs": [],
   "source": [
    "# %store -r statistics"
   ]
  },
  {
   "cell_type": "code",
   "execution_count": 65,
   "metadata": {
    "ExecuteTime": {
     "end_time": "2020-03-13T12:09:32.354289Z",
     "start_time": "2020-03-13T12:09:32.344780Z"
    }
   },
   "outputs": [
    {
     "data": {
      "text/plain": [
       "['Anxiety',\n",
       " 'Asthma',\n",
       " 'COPD',\n",
       " 'Renal disease',\n",
       " 'Allergic Rhinitis',\n",
       " 'Insomnia',\n",
       " 'Nausea or vomiting',\n",
       " 'Urinary disease',\n",
       " 'Skin disease',\n",
       " 'Stroke',\n",
       " 'Hypertension',\n",
       " 'Cardiovascular disease',\n",
       " 'Tiredness',\n",
       " 'Respiratory disease',\n",
       " 'Cerebrovascular disease',\n",
       " 'Sunburn',\n",
       " 'Heart disease',\n",
       " 'Depression']"
      ]
     },
     "execution_count": 65,
     "metadata": {},
     "output_type": "execute_result"
    }
   ],
   "source": [
    "climate_health_statistics_adam[201801].keys()"
   ]
  },
  {
   "cell_type": "code",
   "execution_count": 66,
   "metadata": {
    "ExecuteTime": {
     "end_time": "2020-03-13T12:10:55.623429Z",
     "start_time": "2020-03-13T12:10:55.101503Z"
    },
    "collapsed": true
   },
   "outputs": [],
   "source": [
    "%store -r Ward_prevalence\n",
    "%store -r Ward_patients\n",
    "%store -r DiseasePop_byWard"
   ]
  },
  {
   "cell_type": "code",
   "execution_count": 67,
   "metadata": {
    "ExecuteTime": {
     "end_time": "2020-03-13T12:12:15.200378Z",
     "start_time": "2020-03-13T12:12:15.188054Z"
    }
   },
   "outputs": [
    {
     "data": {
      "text/plain": [
       "['CKD',\n",
       " 'LD',\n",
       " 'DM',\n",
       " 'CHD',\n",
       " 'COPD',\n",
       " 'AST',\n",
       " 'DEP',\n",
       " 'AF',\n",
       " 'MH',\n",
       " 'OB',\n",
       " 'HYP',\n",
       " 'PC',\n",
       " 'OST',\n",
       " 'PAD',\n",
       " 'RA',\n",
       " 'CVDPP',\n",
       " 'CAN',\n",
       " 'STIA',\n",
       " 'HF',\n",
       " 'EP',\n",
       " 'DEM']"
      ]
     },
     "execution_count": 67,
     "metadata": {},
     "output_type": "execute_result"
    }
   ],
   "source": [
    "Ward_patients.keys()"
   ]
  },
  {
   "cell_type": "code",
   "execution_count": 68,
   "metadata": {
    "ExecuteTime": {
     "end_time": "2020-03-13T12:13:35.707473Z",
     "start_time": "2020-03-13T12:13:35.698044Z"
    }
   },
   "outputs": [
    {
     "data": {
      "text/plain": [
       "247013.0209627143"
      ]
     },
     "execution_count": 68,
     "metadata": {},
     "output_type": "execute_result"
    }
   ],
   "source": [
    "sum(DiseasePop_byWard['LD'].values())"
   ]
  },
  {
   "cell_type": "code",
   "execution_count": 70,
   "metadata": {
    "ExecuteTime": {
     "end_time": "2020-03-13T13:06:57.395682Z",
     "start_time": "2020-03-13T13:01:34.017108Z"
    }
   },
   "outputs": [
    {
     "name": "stderr",
     "output_type": "stream",
     "text": [
      "\r",
      "  0%|          | 0/107 [00:00<?, ?it/s]"
     ]
    },
    {
     "name": "stdout",
     "output_type": "stream",
     "text": [
      "Failed for 786 wards for Anxiety disease\n",
      "Failed for 786 wards for Asthma disease\n",
      "Failed for 786 wards for COPD disease\n",
      "Failed for 786 wards for Renal disease disease\n",
      "Failed for 786 wards for Allergic Rhinitis disease\n",
      "Failed for 786 wards for Insomnia disease\n",
      "Failed for 786 wards for Nausea or vomiting disease\n",
      "Failed for 786 wards for Urinary disease disease\n",
      "Failed for 786 wards for Skin disease disease\n",
      "Failed for 786 wards for Stroke disease\n",
      "Failed for 786 wards for Hypertension disease\n",
      "Failed for 786 wards for Cardiovascular disease disease\n",
      "Failed for 786 wards for Tiredness disease\n",
      "Failed for 786 wards for Respiratory disease disease\n",
      "Failed for 786 wards for Cerebrovascular disease disease\n",
      "Failed for 786 wards for Sunburn disease\n"
     ]
    },
    {
     "name": "stderr",
     "output_type": "stream",
     "text": [
      "\r",
      "  1%|          | 1/107 [00:03<05:20,  3.02s/it]"
     ]
    },
    {
     "name": "stdout",
     "output_type": "stream",
     "text": [
      "Failed for 786 wards for Heart disease disease\n",
      "Failed for 786 wards for Depression disease\n",
      "Failed for 786 wards for Anxiety disease\n",
      "Failed for 786 wards for Asthma disease\n",
      "Failed for 786 wards for COPD disease\n",
      "Failed for 786 wards for Renal disease disease\n",
      "Failed for 786 wards for Allergic Rhinitis disease\n",
      "Failed for 786 wards for Insomnia disease\n",
      "Failed for 786 wards for Nausea or vomiting disease\n",
      "Failed for 786 wards for Urinary disease disease\n",
      "Failed for 786 wards for Skin disease disease\n",
      "Failed for 786 wards for Stroke disease\n",
      "Failed for 786 wards for Hypertension disease\n",
      "Failed for 786 wards for Cardiovascular disease disease\n",
      "Failed for 786 wards for Tiredness disease\n",
      "Failed for 786 wards for Respiratory disease disease\n",
      "Failed for 786 wards for Cerebrovascular disease disease\n",
      "Failed for 786 wards for Sunburn disease\n",
      "Failed for 786 wards for Heart disease disease\n"
     ]
    },
    {
     "name": "stderr",
     "output_type": "stream",
     "text": [
      "\r",
      "  2%|▏         | 2/107 [00:06<05:18,  3.03s/it]"
     ]
    },
    {
     "name": "stdout",
     "output_type": "stream",
     "text": [
      "Failed for 786 wards for Depression disease\n",
      "Failed for 786 wards for Anxiety disease\n",
      "Failed for 786 wards for Asthma disease\n",
      "Failed for 786 wards for COPD disease\n",
      "Failed for 786 wards for Renal disease disease\n",
      "Failed for 786 wards for Allergic Rhinitis disease\n",
      "Failed for 786 wards for Insomnia disease\n",
      "Failed for 786 wards for Nausea or vomiting disease\n",
      "Failed for 786 wards for Urinary disease disease\n",
      "Failed for 786 wards for Skin disease disease\n",
      "Failed for 786 wards for Stroke disease\n",
      "Failed for 786 wards for Hypertension disease\n",
      "Failed for 786 wards for Cardiovascular disease disease\n",
      "Failed for 786 wards for Tiredness disease\n",
      "Failed for 786 wards for Respiratory disease disease\n",
      "Failed for 786 wards for Cerebrovascular disease disease\n"
     ]
    },
    {
     "name": "stderr",
     "output_type": "stream",
     "text": [
      "\r",
      "  3%|▎         | 3/107 [00:09<05:15,  3.03s/it]"
     ]
    },
    {
     "name": "stdout",
     "output_type": "stream",
     "text": [
      "Failed for 786 wards for Sunburn disease\n",
      "Failed for 786 wards for Heart disease disease\n",
      "Failed for 786 wards for Depression disease\n",
      "Failed for 786 wards for Anxiety disease\n",
      "Failed for 786 wards for Asthma disease\n",
      "Failed for 786 wards for COPD disease\n",
      "Failed for 786 wards for Renal disease disease\n",
      "Failed for 786 wards for Allergic Rhinitis disease\n",
      "Failed for 786 wards for Insomnia disease\n",
      "Failed for 786 wards for Nausea or vomiting disease\n",
      "Failed for 786 wards for Urinary disease disease\n",
      "Failed for 786 wards for Skin disease disease\n",
      "Failed for 786 wards for Stroke disease\n",
      "Failed for 786 wards for Hypertension disease\n",
      "Failed for 786 wards for Cardiovascular disease disease\n",
      "Failed for 786 wards for Tiredness disease\n",
      "Failed for 786 wards for Respiratory disease disease\n",
      "Failed for 786 wards for Cerebrovascular disease disease\n",
      "Failed for 786 wards for Sunburn disease\n"
     ]
    },
    {
     "name": "stderr",
     "output_type": "stream",
     "text": [
      "\r",
      "  4%|▎         | 4/107 [00:12<05:10,  3.01s/it]"
     ]
    },
    {
     "name": "stdout",
     "output_type": "stream",
     "text": [
      "Failed for 786 wards for Heart disease disease\n",
      "Failed for 786 wards for Depression disease\n",
      "Failed for 786 wards for Anxiety disease\n",
      "Failed for 786 wards for Asthma disease\n",
      "Failed for 786 wards for COPD disease\n",
      "Failed for 786 wards for Renal disease disease\n",
      "Failed for 786 wards for Allergic Rhinitis disease\n",
      "Failed for 786 wards for Insomnia disease\n",
      "Failed for 786 wards for Nausea or vomiting disease\n",
      "Failed for 786 wards for Urinary disease disease\n",
      "Failed for 786 wards for Skin disease disease\n",
      "Failed for 786 wards for Stroke disease\n",
      "Failed for 786 wards for Hypertension disease\n",
      "Failed for 786 wards for Cardiovascular disease disease\n",
      "Failed for 786 wards for Tiredness disease\n",
      "Failed for 786 wards for Respiratory disease disease\n",
      "Failed for 786 wards for Cerebrovascular disease disease\n",
      "Failed for 786 wards for Sunburn disease\n",
      "Failed for 786 wards for Heart disease disease\n"
     ]
    },
    {
     "name": "stderr",
     "output_type": "stream",
     "text": [
      "\r",
      "  5%|▍         | 5/107 [00:15<05:11,  3.06s/it]"
     ]
    },
    {
     "name": "stdout",
     "output_type": "stream",
     "text": [
      "Failed for 786 wards for Depression disease\n",
      "Failed for 786 wards for Anxiety disease\n",
      "Failed for 786 wards for Asthma disease\n",
      "Failed for 786 wards for COPD disease\n",
      "Failed for 786 wards for Renal disease disease\n",
      "Failed for 786 wards for Allergic Rhinitis disease\n",
      "Failed for 786 wards for Insomnia disease\n",
      "Failed for 786 wards for Nausea or vomiting disease\n",
      "Failed for 786 wards for Urinary disease disease\n",
      "Failed for 786 wards for Skin disease disease\n",
      "Failed for 786 wards for Stroke disease\n",
      "Failed for 786 wards for Hypertension disease\n",
      "Failed for 786 wards for Cardiovascular disease disease\n",
      "Failed for 786 wards for Tiredness disease\n",
      "Failed for 786 wards for Respiratory disease disease\n",
      "Failed for 786 wards for Cerebrovascular disease disease\n",
      "Failed for 786 wards for Sunburn disease\n"
     ]
    },
    {
     "name": "stderr",
     "output_type": "stream",
     "text": [
      "\r",
      "  6%|▌         | 6/107 [00:18<05:16,  3.13s/it]"
     ]
    },
    {
     "name": "stdout",
     "output_type": "stream",
     "text": [
      "Failed for 786 wards for Heart disease disease\n",
      "Failed for 786 wards for Depression disease\n",
      "Failed for 786 wards for Anxiety disease\n",
      "Failed for 786 wards for Asthma disease\n",
      "Failed for 786 wards for COPD disease\n",
      "Failed for 786 wards for Renal disease disease\n",
      "Failed for 786 wards for Allergic Rhinitis disease\n",
      "Failed for 786 wards for Insomnia disease\n",
      "Failed for 786 wards for Nausea or vomiting disease\n",
      "Failed for 786 wards for Urinary disease disease\n",
      "Failed for 786 wards for Skin disease disease\n",
      "Failed for 786 wards for Stroke disease\n",
      "Failed for 786 wards for Hypertension disease\n",
      "Failed for 786 wards for Cardiovascular disease disease\n",
      "Failed for 786 wards for Tiredness disease\n",
      "Failed for 786 wards for Respiratory disease disease\n",
      "Failed for 786 wards for Cerebrovascular disease disease\n",
      "Failed for 786 wards for Sunburn disease\n",
      "Failed for 786 wards for Heart disease disease\n"
     ]
    },
    {
     "name": "stderr",
     "output_type": "stream",
     "text": [
      "\r",
      "  7%|▋         | 7/107 [00:21<05:10,  3.10s/it]"
     ]
    },
    {
     "name": "stdout",
     "output_type": "stream",
     "text": [
      "Failed for 786 wards for Depression disease\n",
      "Failed for 786 wards for Anxiety disease\n",
      "Failed for 786 wards for Asthma disease\n",
      "Failed for 786 wards for COPD disease\n",
      "Failed for 786 wards for Renal disease disease\n",
      "Failed for 786 wards for Allergic Rhinitis disease\n",
      "Failed for 786 wards for Insomnia disease\n",
      "Failed for 786 wards for Nausea or vomiting disease\n",
      "Failed for 786 wards for Urinary disease disease\n",
      "Failed for 786 wards for Skin disease disease\n",
      "Failed for 786 wards for Stroke disease\n",
      "Failed for 786 wards for Hypertension disease\n",
      "Failed for 786 wards for Cardiovascular disease disease\n",
      "Failed for 786 wards for Tiredness disease\n",
      "Failed for 786 wards for Respiratory disease disease\n",
      "Failed for 786 wards for Cerebrovascular disease disease\n",
      "Failed for 786 wards for Sunburn disease\n",
      "Failed for 786 wards for Heart disease disease\n"
     ]
    },
    {
     "name": "stderr",
     "output_type": "stream",
     "text": [
      "\r",
      "  7%|▋         | 8/107 [00:24<05:03,  3.07s/it]"
     ]
    },
    {
     "name": "stdout",
     "output_type": "stream",
     "text": [
      "Failed for 786 wards for Depression disease\n",
      "Failed for 786 wards for Anxiety disease\n",
      "Failed for 786 wards for Asthma disease\n",
      "Failed for 786 wards for COPD disease\n",
      "Failed for 786 wards for Renal disease disease\n",
      "Failed for 786 wards for Allergic Rhinitis disease\n",
      "Failed for 786 wards for Insomnia disease\n",
      "Failed for 786 wards for Nausea or vomiting disease\n",
      "Failed for 786 wards for Urinary disease disease\n",
      "Failed for 786 wards for Skin disease disease\n",
      "Failed for 786 wards for Stroke disease\n",
      "Failed for 786 wards for Hypertension disease\n",
      "Failed for 786 wards for Cardiovascular disease disease\n",
      "Failed for 786 wards for Tiredness disease\n",
      "Failed for 786 wards for Respiratory disease disease\n",
      "Failed for 786 wards for Cerebrovascular disease disease\n",
      "Failed for 786 wards for Sunburn disease\n"
     ]
    },
    {
     "name": "stderr",
     "output_type": "stream",
     "text": [
      "\r",
      "  8%|▊         | 9/107 [00:27<04:55,  3.02s/it]"
     ]
    },
    {
     "name": "stdout",
     "output_type": "stream",
     "text": [
      "Failed for 786 wards for Heart disease disease\n",
      "Failed for 786 wards for Depression disease\n",
      "Failed for 786 wards for Anxiety disease\n",
      "Failed for 786 wards for Asthma disease\n",
      "Failed for 786 wards for COPD disease\n",
      "Failed for 786 wards for Renal disease disease\n",
      "Failed for 786 wards for Allergic Rhinitis disease\n",
      "Failed for 786 wards for Insomnia disease\n",
      "Failed for 786 wards for Nausea or vomiting disease\n",
      "Failed for 786 wards for Urinary disease disease\n",
      "Failed for 786 wards for Skin disease disease\n",
      "Failed for 786 wards for Stroke disease\n",
      "Failed for 786 wards for Hypertension disease\n",
      "Failed for 786 wards for Cardiovascular disease disease\n",
      "Failed for 786 wards for Tiredness disease\n",
      "Failed for 786 wards for Respiratory disease disease\n",
      "Failed for 786 wards for Cerebrovascular disease disease\n",
      "Failed for 786 wards for Sunburn disease\n"
     ]
    },
    {
     "name": "stderr",
     "output_type": "stream",
     "text": [
      "\r",
      "  9%|▉         | 10/107 [00:30<04:49,  2.99s/it]"
     ]
    },
    {
     "name": "stdout",
     "output_type": "stream",
     "text": [
      "Failed for 786 wards for Heart disease disease\n",
      "Failed for 786 wards for Depression disease\n",
      "Failed for 786 wards for Anxiety disease\n",
      "Failed for 786 wards for Asthma disease\n",
      "Failed for 786 wards for COPD disease\n",
      "Failed for 786 wards for Renal disease disease\n",
      "Failed for 786 wards for Allergic Rhinitis disease\n",
      "Failed for 786 wards for Insomnia disease\n",
      "Failed for 786 wards for Nausea or vomiting disease\n",
      "Failed for 786 wards for Urinary disease disease\n",
      "Failed for 786 wards for Skin disease disease\n",
      "Failed for 786 wards for Stroke disease\n",
      "Failed for 786 wards for Hypertension disease\n",
      "Failed for 786 wards for Cardiovascular disease disease\n",
      "Failed for 786 wards for Tiredness disease\n",
      "Failed for 786 wards for Respiratory disease disease\n",
      "Failed for 786 wards for Cerebrovascular disease disease\n",
      "Failed for 786 wards for Sunburn disease\n",
      "Failed for 786 wards for Heart disease disease\n"
     ]
    },
    {
     "name": "stderr",
     "output_type": "stream",
     "text": [
      "\r",
      " 10%|█         | 11/107 [00:33<04:43,  2.95s/it]"
     ]
    },
    {
     "name": "stdout",
     "output_type": "stream",
     "text": [
      "Failed for 786 wards for Depression disease\n",
      "Failed for 786 wards for Anxiety disease\n",
      "Failed for 786 wards for Asthma disease\n",
      "Failed for 786 wards for COPD disease\n",
      "Failed for 786 wards for Renal disease disease\n",
      "Failed for 786 wards for Allergic Rhinitis disease\n",
      "Failed for 786 wards for Insomnia disease\n",
      "Failed f"
     ]
    },
    {
     "data": {
      "text/html": [
       "<b>limit_output extension: Maximum message size of 10000 exceeded with 10044 characters</b>"
      ]
     },
     "metadata": {},
     "output_type": "display_data"
    }
   ],
   "source": [
    "Climate_Disease_prevalence_UK_Timeseries = {}\n",
    "for month in tqdm(climate_health_statistics_adam):\n",
    "    ward_prevalence_UK = {}\n",
    "    ward_disease_prescription_count = {}\n",
    "    \n",
    "    Climate_Disease_prevalence_UK_Timeseries[month] = {}\n",
    "    Climate_Disease_prevalence_UK_Timeseries[month]['Ward_Prevalence'] = {}\n",
    "    Climate_Disease_prevalence_UK_Timeseries[month]['Ward_Prescriptions'] = {}\n",
    "    \n",
    "    LSOA_disease_dosage_count = climate_health_statistics_adam[month]\n",
    "    \n",
    "    for d in LSOA_disease_dosage_count:\n",
    "        if d not in ward_prevalence_UK:\n",
    "            ward_prevalence_UK[d] = {}\n",
    "            ward_disease_prescription_count[d] = {}\n",
    "            failed = 0\n",
    "            for k in wardMap: \n",
    "                try:\n",
    "                    ward_disease_presc = np.sum([LSOA_disease_dosage_count[d][w] for w in wardMap[k] if not np.isnan(LSOA_disease_dosage_count[d][w])])\n",
    "                    ward_disease_prescription_count[d][k] = ward_disease_presc\n",
    "                    ward_prevalence_UK[d][k] = float(ward_disease_presc)/float(population[k])\n",
    "                except:\n",
    "                    failed+=1\n",
    "            print \"Failed for %d wards for %s disease\"%(failed,d)\n",
    "    \n",
    "    Climate_Disease_prevalence_UK_Timeseries[month]['Ward_Prevalence'] = ward_prevalence_UK\n",
    "    Climate_Disease_prevalence_UK_Timeseries[month]['Ward_Prescriptions'] = ward_disease_prescription_count"
   ]
  },
  {
   "cell_type": "code",
   "execution_count": 72,
   "metadata": {
    "ExecuteTime": {
     "end_time": "2020-03-13T13:33:56.446025Z",
     "start_time": "2020-03-13T13:31:34.207203Z"
    },
    "collapsed": true
   },
   "outputs": [],
   "source": [
    "json.dump(Climate_Disease_prevalence_UK_Timeseries,open('scratchpad/climate_prevalence_disease_timeseries_vesion2.json','wb'))"
   ]
  },
  {
   "cell_type": "code",
   "execution_count": 71,
   "metadata": {
    "ExecuteTime": {
     "end_time": "2020-03-13T13:08:47.514180Z",
     "start_time": "2020-03-13T13:08:47.509577Z"
    },
    "collapsed": true
   },
   "outputs": [],
   "source": [
    "# Climate_Disease_prevalence_UK_Timeseries"
   ]
  },
  {
   "cell_type": "code",
   "execution_count": 130,
   "metadata": {
    "ExecuteTime": {
     "end_time": "2019-08-22T17:00:27.506678Z",
     "start_time": "2019-08-22T17:00:26.605149Z"
    },
    "collapsed": true
   },
   "outputs": [],
   "source": [
    "# Disease_prevalence_UK_Timeseries = {}\n",
    "# for month in tqdm(statistics):\n",
    "#     ward_prevalence_UK = {}\n",
    "#     ward_disease_prescription_count = {}\n",
    "    \n",
    "#     Disease_prevalence_UK_Timeseries[month] = {}\n",
    "#     Disease_prevalence_UK_Timeseries[month]['Ward_Prevalence'] = {}\n",
    "#     Disease_prevalence_UK_Timeseries[month]['Ward_Prescriptions'] = {}\n",
    "    \n",
    "#     LSOA_disease_dosage_count = statistics[month]['Disease']\n",
    "    \n",
    "#     for d in LSOA_disease_dosage_count:\n",
    "#         if d not in ward_prevalence_UK:\n",
    "#             ward_prevalence_UK[d] = {}\n",
    "#             ward_disease_prescription_count[d] = {}\n",
    "#             failed = 0\n",
    "#             for k in wardMap: \n",
    "#                 try:\n",
    "#                     ward_disease_presc = np.sum([LSOA_disease_dosage_count[d][w] for w in wardMap[k] if not np.isnan(LSOA_disease_dosage_count[d][w])])\n",
    "#                     ward_disease_prescription_count[d][k] = ward_disease_presc\n",
    "#                     ward_prevalence_UK[d][k] = float(ward_disease_presc)/float(population[k])\n",
    "#                 except:\n",
    "#                     failed+=1\n",
    "#             print \"Failed for %d wards for %s disease\"%(failed,d)\n",
    "    \n",
    "#     Disease_prevalence_UK_Timeseries[month]['Ward_Prevalence'] = ward_prevalence_UK\n",
    "#     Disease_prevalence_UK_Timeseries[month]['Ward_Prescriptions'] = ward_disease_prescription_count"
   ]
  },
  {
   "cell_type": "code",
   "execution_count": 39,
   "metadata": {
    "ExecuteTime": {
     "end_time": "2020-03-06T10:42:57.902774Z",
     "start_time": "2020-03-06T10:42:57.699491Z"
    }
   },
   "outputs": [
    {
     "ename": "IOError",
     "evalue": "[Errno 2] No such file or directory: 'scratchpad/prevalence_disease_timeseries.json'",
     "output_type": "error",
     "traceback": [
      "\u001b[0;31m\u001b[0m",
      "\u001b[0;31mIOError\u001b[0mTraceback (most recent call last)",
      "\u001b[0;32m<ipython-input-39-27f190a14390>\u001b[0m in \u001b[0;36m<module>\u001b[0;34m()\u001b[0m\n\u001b[1;32m      1\u001b[0m \u001b[0;31m# json.dump(Disease_prevalence_UK_Timeseries,open('prevalence_disease_timeseries.json','wb'))\u001b[0m\u001b[0;34m\u001b[0m\u001b[0;34m\u001b[0m\u001b[0m\n\u001b[0;32m----> 2\u001b[0;31m \u001b[0mDisease_prevalence_UK_Timeseries\u001b[0m \u001b[0;34m=\u001b[0m \u001b[0mjson\u001b[0m\u001b[0;34m.\u001b[0m\u001b[0mload\u001b[0m\u001b[0;34m(\u001b[0m\u001b[0mopen\u001b[0m\u001b[0;34m(\u001b[0m\u001b[0;34m'scratchpad/prevalence_disease_timeseries.json'\u001b[0m\u001b[0;34m,\u001b[0m\u001b[0;34m'rb'\u001b[0m\u001b[0;34m)\u001b[0m\u001b[0;34m)\u001b[0m\u001b[0;34m\u001b[0m\u001b[0m\n\u001b[0m",
      "\u001b[0;31mIOError\u001b[0m: [Errno 2] No such file or directory: 'scratchpad/prevalence_disease_timeseries.json'"
     ]
    }
   ],
   "source": [
    "# json.dump(Disease_prevalence_UK_Timeseries,open('prevalence_disease_timeseries.json','wb'))\n",
    "Disease_prevalence_UK_Timeseries = json.load(open('scratchpad/prevalence_disease_timeseries.json','rb'))"
   ]
  },
  {
   "cell_type": "code",
   "execution_count": 34,
   "metadata": {},
   "outputs": [
    {
     "name": "stderr",
     "output_type": "stream",
     "text": [
      "\r",
      "  0%|          | 0/107 [00:00<?, ?it/s]"
     ]
    },
    {
     "name": "stdout",
     "output_type": "stream",
     "text": [
      "Failed for 786 wards for indigestion disease\n",
      "Failed for 786 wards for suicidal disease\n",
      "Failed for 786 wards for constipation disease\n",
      "Failed for 786 wards for edema disease\n",
      "Failed for 786 wards for heartburn disease\n",
      "Failed for 786 wards for joint pain disease\n",
      "Failed for 786 wards for dementia disease\n",
      "Failed for 786 wards for parkinson's disease disease\n",
      "Failed for 786 wards for syncope disease\n",
      "Failed for 786 wards for muscle pain disease\n",
      "Failed for 786 wards for irritable bowel syndrome disease\n",
      "Failed for 786 wards for diarrhea disease\n",
      "Failed for 786 wards for kidney stone disease\n",
      "Failed for 786 wards for headache disease\n",
      "Failed for 786 wards for fever disease\n",
      "Failed for 786 wards for pain disease\n",
      "Failed for 786 wards for itching disease\n",
      "Failed for 786 wards for arthritis disease\n",
      "Failed for 786 wards for asthenia disease\n",
      "Failed for 786 wards for tremor disease\n",
      "Failed for 786 wards for nausea disease\n",
      "Failed for 786 wards for chronic pain disease\n",
      "Failed for 786 wards for anxiety disease\n",
      "Failed for 786 wards for parkinsonism disease\n",
      "Failed for 786 wards for depressive disorder disease\n",
      "Failed for 786 wards for weight gain disease\n"
     ]
    },
    {
     "name": "stderr",
     "output_type": "stream",
     "text": [
      "\r",
      "  1%|          | 1/107 [00:06<10:54,  6.18s/it]"
     ]
    },
    {
     "name": "stdout",
     "output_type": "stream",
     "text": [
      "Failed for 786 wards for urinary incontinence disease\n",
      "Failed for 786 wards for indigestion disease\n",
      "Failed for 786 wards for suicidal disease\n",
      "Failed for 786 wards for constipation disease\n",
      "Failed for 786 wards for edema disease\n",
      "Failed for 786 wards for heartburn disease\n",
      "Failed for 786 wards for joint pain disease\n",
      "Failed for 786 wards for dementia disease\n",
      "Failed for 786 wards for parkinson's disease disease\n",
      "Failed for 786 wards for syncope disease\n",
      "Failed for 786 wards for muscle pain disease\n",
      "Failed for 786 wards for irritable bowel syndrome disease\n",
      "Failed for 786 wards for diarrhea disease\n",
      "Failed for 786 wards for kidney stone disease\n",
      "Failed for 786 wards for headache disease\n",
      "Failed for 786 wards for fever disease\n",
      "Failed for 786 wards for pain disease\n",
      "Failed for 786 wards for itching disease\n",
      "Failed for 786 wards for arthritis disease\n",
      "Failed for 786 wards for asthenia disease\n",
      "Failed for 786 wards for tremor disease\n",
      "Failed for 786 wards for nausea disease\n",
      "Failed for 786 wards for chronic pain disease\n",
      "Failed for 786 wards for anxiety disease\n",
      "Failed for 786 wards for parkinsonism disease\n"
     ]
    },
    {
     "name": "stderr",
     "output_type": "stream",
     "text": [
      "\r",
      "  2%|▏         | 2/107 [00:10<09:59,  5.71s/it]"
     ]
    },
    {
     "name": "stdout",
     "output_type": "stream",
     "text": [
      "Failed for 786 wards for depressive disorder disease\n",
      "Failed for 786 wards for weight gain disease\n",
      "Failed for 786 wards for urinary incontinence disease\n",
      "Failed for 786 wards for indigestion disease\n",
      "Failed for 786 wards for suicidal disease\n",
      "Failed for 786 wards for constipation disease\n",
      "Failed for 786 wards for edema disease\n",
      "Failed for 786 wards for heartburn disease\n",
      "Failed for 786 wards for joint pain disease\n",
      "Failed for 786 wards for dementia disease\n",
      "Failed for 786 wards for parkinson's disease disease\n",
      "Failed for 786 wards for syncope disease\n",
      "Failed for 786 wards for muscle pain disease\n",
      "Failed for 786 wards for irritable bowel syndrome disease\n",
      "Failed for 786 wards for diarrhea disease\n",
      "Failed for 786 wards for kidney stone disease\n",
      "Failed for 786 wards for headache disease\n",
      "Failed for 786 wards for fever disease\n",
      "Failed for 786 wards for pain disease\n",
      "Failed for 786 wards for itching disease\n",
      "Failed for 786 wards for arthritis disease\n",
      "Failed for 786 wards for asthenia disease\n",
      "Failed for 786 wards for tremor disease\n",
      "Failed for 786 wards for nausea disease\n",
      "Failed for 786 wards for chronic pain disease\n",
      "Failed for 786 wards for anxiety disease\n",
      "Failed for 786 wards for parkinsonism disease\n",
      "Failed for 786 wards for depressive disorder disease\n",
      "Failed for 786 wards for weight gain disease\n"
     ]
    },
    {
     "name": "stderr",
     "output_type": "stream",
     "text": [
      "\r",
      "  3%|▎         | 3/107 [00:15<09:10,  5.29s/it]"
     ]
    },
    {
     "name": "stdout",
     "output_type": "stream",
     "text": [
      "Failed for 786 wards for urinary incontinence disease\n",
      "Failed for 786 wards for indigestion disease\n",
      "Failed for 786 wards for suicidal disease\n",
      "Failed for 786 wards for constipation disease\n",
      "Failed for 786 wards for edema disease\n",
      "Failed for 786 wards for heartburn disease\n",
      "Failed for 786 wards for joint pain disease\n",
      "Failed for 786 wards for dementia disease\n",
      "Failed for 786 wards for parkinson's disease disease\n",
      "Failed for 786 wards for syncope disease\n",
      "Failed for 786 wards for muscle pain disease\n",
      "Failed for 786 wards for irritable bowel syndrome disease\n",
      "Failed for 786 wards for diarrhea disease\n",
      "Failed for 786 wards for headache disease\n",
      "Failed for 786 wards for fever disease\n",
      "Failed for 786 wards for pain disease\n",
      "Failed for 786 wards for itching disease\n",
      "Failed for 786 wards for arthritis disease\n",
      "Failed for 786 wards for asthenia disease\n",
      "Failed for 786 wards for tremor disease\n",
      "Failed for 786 wards for nausea disease\n",
      "Failed for 786 wards for chronic pain disease\n",
      "Failed for 786 wards for anxiety disease\n",
      "Failed for 786 wards for parkinsonism disease\n",
      "Failed for 786 wards for depressive disorder disease\n",
      "Failed for 786 wards for weight gain disease\n"
     ]
    },
    {
     "name": "stderr",
     "output_type": "stream",
     "text": [
      "\r",
      "  4%|▎         | 4/107 [00:19<08:27,  4.93s/it]"
     ]
    },
    {
     "name": "stdout",
     "output_type": "stream",
     "text": [
      "Failed for 786 wards for urinary incontinence disease\n",
      "Failed for 786 wards for indigestion disease\n",
      "Failed for 786 wards for suicidal disease\n",
      "Failed for 786 wards for constipation disease\n",
      "Failed for 786 wards for edema disease\n",
      "Failed for 786 wards for heartburn disease\n",
      "Failed for 786 wards for joint pain disease\n",
      "Failed for 786 wards for dementia disease\n",
      "Failed for 786 wards for parkinson's disease disease\n",
      "Failed for 786 wards for syncope disease\n",
      "Failed for 786 wards for muscle pain disease\n",
      "Failed for 786 wards for irritable bowel syndrome disease\n",
      "Failed for 786 wards for diarrhea disease\n",
      "Failed for 786 wards for kidney stone disease\n",
      "Failed for 786 wards for headache disease\n",
      "Failed for 786 wards for fever disease\n",
      "Failed for 786 wards for pain disease\n",
      "Failed for 786 wards for itching disease\n",
      "Failed for 786 wards for arthritis disease\n",
      "Failed for 786 wards for asthenia disease\n",
      "Failed for 786 wards for tremor disease\n",
      "Failed for 786 wards for nausea disease\n",
      "Failed for 786 wards for chronic pain disease\n",
      "Failed for 786 wards for anxiety disease\n",
      "Failed for 786 wards for parkinsonism disease\n",
      "Failed for 786 wards for depressive disorder disease\n"
     ]
    },
    {
     "name": "stderr",
     "output_type": "stream",
     "text": [
      "\r",
      "  5%|▍         | 5/107 [00:23<08:04,  4.75s/it]"
     ]
    },
    {
     "name": "stdout",
     "output_type": "stream",
     "text": [
      "Failed for 786 wards for weight gain disease\n",
      "Failed for 786 wards for urinary incontinence disease\n",
      "Failed for 786 wards for indigestion disease\n",
      "Failed for 786 wards for suicidal disease\n",
      "Failed for 786 wards for constipation disease\n",
      "Failed for 786 wards for edema disease\n",
      "Failed for 786 wards for heartburn disease\n",
      "Failed for 786 wards for joint pain disease\n",
      "Failed for 786 wards for dementia disease\n",
      "Failed for 786 wards for parkinson's disease disease\n",
      "Failed for 786 wards for syncope disease\n",
      "Failed for 786 wards for muscle pain disease\n",
      "Failed for 786 wards for irritable bowel syndrome disease\n",
      "Failed for 786 wards for diarrhea disease\n",
      "Failed for 786 wards for kidney stone disease\n",
      "Failed for 786 wards for headache disease\n",
      "Failed for 786 wards for fever disease\n",
      "Failed for 786 wards for pain disease\n",
      "Failed for 786 wards for itching disease\n",
      "Failed for 786 wards for arthritis disease\n",
      "Failed for 786 wards for asthenia disease\n",
      "Failed for 786 wards for tremor disease\n",
      "Failed for 786 wards for nausea disease\n",
      "Failed for 786 wards for chronic pain disease\n",
      "Failed for 786 wards for anxiety disease\n",
      "Failed for 786 wards for parkinsonism disease\n",
      "Failed for 786 wards for depressive disorder disease\n"
     ]
    },
    {
     "name": "stderr",
     "output_type": "stream",
     "text": [
      "\r",
      "  6%|▌         | 6/107 [00:27<07:48,  4.64s/it]"
     ]
    },
    {
     "name": "stdout",
     "output_type": "stream",
     "text": [
      "Failed for 786 wards for weight gain disease\n",
      "Failed for 786 wards for urinary incontinence disease\n",
      "Failed for 786 wards for indigestion disease\n",
      "Failed for 786 wards for suicidal disease\n",
      "Failed for 786 wards for constipation disease\n",
      "Failed for 786 wards for edema disease\n",
      "Failed for 786 wards for heartburn disease\n",
      "Failed for 786 wards for joint pain disease\n",
      "Failed for 786 wards for dementia disease\n",
      "Failed for 786 wards for parkinson's disease disease\n",
      "Failed for 786 wards for syncope disease\n",
      "Failed for 786 wards for muscle pain disease\n",
      "Failed for 786 wards for irritable bowel syndrome disease\n",
      "Failed for 786 wards for diarrhea disease\n",
      "Failed for 786 wards for kidney stone disease\n",
      "Failed for 786 wards for headache disease\n",
      "Failed for 786 wards for fever disease\n",
      "Failed for 786 wards for pain disease\n",
      "Failed for 786 wards for itching disease\n",
      "Failed for 786 wards for arthritis disease\n",
      "Failed for 786 wards for asthenia disease\n",
      "Failed for 786 wards for tremor disease\n",
      "Failed for 786 wards for nausea disease\n",
      "Failed for 786 wards for chronic pain disease\n",
      "Failed for 786 wards for anxiety disease\n",
      "Failed for 786 wards for parkinsonism disease\n"
     ]
    },
    {
     "name": "stderr",
     "output_type": "stream",
     "text": [
      "\r",
      "  7%|▋         | 7/107 [00:32<07:34,  4.55s/it]"
     ]
    },
    {
     "name": "stdout",
     "output_type": "stream",
     "text": [
      "Failed for 786 wards for depressive disorder disease\n",
      "Failed for 786 wards for weight gain disease\n",
      "Failed for 786 wards for urinary incontinence disease\n",
      "Failed for 786 wards for indigestion disease\n",
      "Failed for 786 wards for suicidal disease\n",
      "Failed for 786 wards for constipation disease\n",
      "Failed for 786 wards for edema disease\n",
      "Failed for 786 wards for heartburn disease\n",
      "Failed for 786 wards for joint pain disease\n",
      "Failed for 786 wards for dementia disease\n",
      "Failed for 786 wards for parkinson's disease disease\n",
      "Failed for 786 wards for syncope disease\n",
      "Failed for 786 wards for muscle pain disease\n",
      "Failed for 786 wards for irritable bowel syndrome disease\n",
      "Failed for 786 wards for diarrhea disease\n",
      "Failed for 786 wards for kidney stone disease\n",
      "Failed for 786 wards for headache disease\n",
      "Failed for 786 wards for fever disease\n",
      "Failed for 786 wards for pain disease\n",
      "Failed for 786 wards for itching disease\n",
      "Failed for 786 wards for arthritis disease\n",
      "Failed for 786 wards for asthenia disease\n",
      "Failed for 786 wards for tremor disease\n",
      "Failed for 786 wards for nausea disease\n",
      "Failed for 786 wards for chronic pain disease\n",
      "Failed for 786 wards for anxiety disease\n",
      "Failed for 786 wards for parkinsonism disease\n"
     ]
    },
    {
     "name": "stderr",
     "output_type": "stream",
     "text": [
      "\r",
      "  7%|▋         | 8/107 [00:36<07:22,  4.47s/it]"
     ]
    },
    {
     "name": "stdout",
     "output_type": "stream",
     "text": [
      "Failed for 786 wards for depressive disorder disease\n",
      "Failed for 786 wards for weight gain disease\n",
      "Failed for 786 wards for urinary incontinence disease\n",
      "Failed for 786 wards for indigestion disease\n",
      "Failed for 786 wards for suicidal disease\n",
      "Failed for 786 wards for constipation disease\n",
      "Failed for 786 wards for edema disease\n",
      "Failed for 786 wards for heartburn disease\n",
      "Failed for 786 wards for joint pain disease\n",
      "Failed for 786 wards for dementia disease\n",
      "Failed for 786 wards for parkinson's disease disease\n",
      "Failed for 786 wards for syncope disease\n",
      "Failed for 786 wards for muscle pain disease\n",
      "Failed for 786 wards for irritable bowel syndrome disease\n",
      "Failed for 786 wards for diarrhea disease\n",
      "Failed for 786 wards for kidney stone disease\n",
      "Failed for 786 wards for headache disease\n",
      "Failed for 786 wards for fever disease\n",
      "Failed for 786 wards for pain disease\n",
      "Failed for 786 wards for itching disease\n",
      "Failed for 786 wards for arthritis disease\n",
      "Failed for 786 wards for asthenia disease\n",
      "Failed for 786 wards for tremor disease\n",
      "Failed for 786 wards for nausea disease\n",
      "Failed for 786 wards for chronic pain disease\n",
      "Failed for 786 wards for anxiety disease\n",
      "Failed for 786 wards for parkinsonism disease\n",
      "Failed for 786 wards for depressive disorder disease\n"
     ]
    },
    {
     "name": "stderr",
     "output_type": "stream",
     "text": [
      "\r",
      "  8%|▊         | 9/107 [00:41<07:18,  4.48s/it]"
     ]
    },
    {
     "name": "stdout",
     "output_type": "stream",
     "text": [
      "Failed for 786 wards for weight gain disease\n",
      "Failed for 786 wards for urinary incontinence disease\n",
      "Failed for 786 wards for indigestion disease\n",
      "Failed for 786 wards for suicidal disease\n",
      "Failed for 786 wards for constipation disease\n",
      "Failed for 786 wards for edema disease\n",
      "Failed for 786 wards for heartburn disease\n",
      "Failed for 786 wards for joint pain disease\n",
      "Failed for 786 wards for dementia disease\n",
      "Failed for 786 wards for parkinson's disease disease\n",
      "Failed for 786 wards for syncope disease\n",
      "Failed for 786 wards for muscle pain disease\n",
      "Failed for 786 wards for irritable bowel syndrome disease\n",
      "Failed for 786 wards for diarrhea disease\n",
      "Failed for 786 wards for kidney stone disease\n",
      "Failed for 786 wards for headache disease\n",
      "Failed for 786 wards for fever disease\n",
      "Failed for 786 wards for pain disease\n",
      "Failed for 786 wards for itching disease\n",
      "Failed for 786 wards for arthritis disease\n",
      "Failed for 786 wards for asthenia disease\n",
      "Failed for 786 wards for tremor disease\n",
      "Failed for 786 wards for nausea disease\n",
      "Failed for 786 wards for chronic pain disease\n",
      "Failed for 786 wards for anxiety disease\n",
      "Failed for 786 wards for parkinsonism disease\n",
      "Failed for 786 wards for depressive disorder disease\n"
     ]
    },
    {
     "name": "stderr",
     "output_type": "stream",
     "text": [
      "\r",
      "  9%|▉         | 10/107 [00:45<07:10,  4.44s/it]"
     ]
    },
    {
     "name": "stdout",
     "output_type": "stream",
     "text": [
      "Failed for 786 wards for weight gain disease\n",
      "Failed for 786 wards for urinary incontinence disease\n",
      "Failed for 786 wards for indigestion disease\n",
      "Failed for 786 wards for suicidal disease\n",
      "Failed for 786 wards for constipation disease\n",
      "Failed for 786 wards for edema disease\n",
      "Failed for 786 wards for heartburn disease\n",
      "Failed for 786 wards for joint pain disease\n",
      "Failed for 786 wards for dementia disease\n",
      "Failed for 786 wards for parkinson's disease disease\n",
      "Failed for 786 wards for syncope disease\n",
      "Failed for 786 wards for muscle pain disease\n",
      "Failed for 786 wards for irritable bowel syndrome disease\n",
      "Failed for 786 wards for diarrhea disease\n",
      "Failed for 786 wards for kidney stone disease\n",
      "Failed for 786 wards for headache disease\n",
      "Failed for 786 wards for fever disease\n",
      "Failed for 786 wards for pain disease\n",
      "Failed for 786 wards for itching disease\n",
      "Failed for 786 wards for arthritis disease\n",
      "Failed for 786 wards for asthenia disease\n",
      "Failed for 786 wards for tremor disease\n",
      "Failed for 786 wards for nausea disease\n",
      "Failed for 786 wards for chronic pain disease\n",
      "Failed for 786 wards for anxiety disease\n",
      "Failed for 786 wards for parkinsonism disease\n",
      "Failed for 786 wards for depressive disorder disease\n",
      "Failed for 786 wards for weight gain disease\n"
     ]
    },
    {
     "name": "stderr",
     "output_type": "stream",
     "text": [
      "\r",
      " 10%|█         | 11/107 [00:49<06:59,  4.37s/it]"
     ]
    },
    {
     "name": "stdout",
     "output_type": "stream",
     "text": [
      "Failed for 786 wards for urinary incontinence disease\n",
      "Failed for 786 wards for indigestion disease\n",
      "Failed for 786 wards for suicidal disease\n",
      "Failed for 786 wards for constipation disease\n",
      "Failed for 786 wards for edema disease\n",
      "Failed for 786 wards for heartburn disease\n",
      "Failed for 786 wards for joint pain disease\n",
      "Failed for 786 wards for dementia disease\n",
      "Failed for 786 wards for parkinson's disease disease\n",
      "Failed for 786 wards for syncope disease\n",
      "Failed for 786 wards for muscle pain disease\n",
      "Failed for 786 wards for irritable bowel syndrome disease\n",
      "Failed for 786 wards for diarrhea disease\n",
      "Failed for 786 wards for kidney stone disease\n",
      "Failed for 786 wards for headache disease\n",
      "Failed for 786 wards for fever disease\n",
      "Failed for 786 wards for pain disease\n",
      "Failed for 786 wards for itching disease\n",
      "Failed for 786 wards for arthritis disease\n",
      "Failed for 786 wards for asthenia disease\n",
      "Failed for 786 wards for tremor disease\n",
      "Failed for 786 wards for nausea disease\n",
      "Failed for 786 wards for chronic pain disease\n",
      "Failed for 786 wards for anxiety disease\n",
      "Failed for 786 wards for parkinsonism disease\n",
      "Failed for 786 wards for depressive disorder disease\n",
      "Failed for 786 wards for weight gain disease\n",
      "Failed for 786 wards for urinary incontinence disease\n"
     ]
    },
    {
     "name": "stderr",
     "output_type": "stream",
     "text": [
      "\r",
      " 11%|█         | 12/107 [00:53<06:50,  4.32s/it]"
     ]
    },
    {
     "name": "stdout",
     "output_type": "stream",
     "text": [
      "Failed for 786 wards for indigestion disease\n",
      "Failed for 786 wards for suicidal disease\n",
      "Failed for 786 wards for constipation disease\n",
      "Failed for 786 wards for edema disease\n",
      "Failed for 786 wards for heartburn disease\n",
      "Failed for 786 wards for joint pain disease\n",
      "Failed for 786 wards for dementia disease\n",
      "Failed for 786 wards for muscle pain disease\n",
      "Failed for 786 wards for syncope disease\n",
      "Failed for 786 wards for parkinson's disease disease\n",
      "Failed for 786 wards for irritable bowel syndrome disease\n",
      "Failed for 786 wards for diarrhea disease\n",
      "Failed for 786 wards for kidney stone disease\n",
      "Failed for 786 wards for headache disease\n",
      "Failed for 786 wards for fever disease\n",
      "Failed for 786 wards for pain disease\n",
      "Failed for 786 wards for itching disease\n",
      "Failed for 786 wards for arthritis disease\n",
      "Failed for 786 wards for asthenia disease\n",
      "Failed for 786 wards for tremor disease\n",
      "Failed for 786 wards for nausea disease\n",
      "Failed for 786 wards for chronic pain disease\n",
      "Failed for 786 wards for anxiety disease\n",
      "Failed for 786 wards for parkinsonism disease\n",
      "Failed for 786 wards for depressive disorder disease\n",
      "Failed for 786 wards for weight gain disease\n"
     ]
    },
    {
     "name": "stderr",
     "output_type": "stream",
     "text": [
      "\r",
      " 12%|█▏        | 13/107 [00:58<06:44,  4.31s/it]"
     ]
    },
    {
     "name": "stdout",
     "output_type": "stream",
     "text": [
      "Failed for 786 wards for urinary incontinence disease\n",
      "Failed for 786 wards for indigestion disease\n",
      "Failed for 786 wards for suicidal disease\n",
      "Failed for 786 wards for constipation disease\n",
      "Failed for 786 wards for edema disease\n",
      "Failed for 786 wards for heartburn disease\n",
      "Failed for 786 wards for joint pain disease\n",
      "Failed for 786 wards for dementia disease\n",
      "Failed for 786 wards for muscle pain disease\n",
      "Failed for 786 wards for syncope disease\n",
      "Failed for 786 wards for parkinson's disease disease\n",
      "Failed for 786 wards for irritable bowel syndrome disease\n",
      "Failed for 786 wards for diarrhea disease\n",
      "Failed for 786 wards for kidney stone disease\n",
      "Failed for 786 wards for headache disease\n",
      "Failed for 786 wards for fever disease\n",
      "Failed for 786 wards for pain disease\n",
      "Failed for 786 wards for itching disease\n",
      "Failed for 786 wards for arthritis disease\n",
      "Failed for 786 wards for asthenia disease\n",
      "Failed for 786 wards for tremor disease\n",
      "Failed for 786 wards for nausea disease\n",
      "Failed for 786 wards for chronic pain disease\n",
      "Failed for 786 wards for anxiety disease\n",
      "Failed for 786 wards for parkinsonism disease\n",
      "Failed for 786 wards for depressive disorder disease\n",
      "Failed for 786 wards for weight gain disease\n"
     ]
    },
    {
     "name": "stderr",
     "output_type": "stream",
     "text": [
      "\r",
      " 13%|█▎        | 14/107 [01:02<06:50,  4.42s/it]"
     ]
    },
    {
     "name": "stdout",
     "output_type": "stream",
     "text": [
      "Failed for 786 wards for urinary incontinence disease\n",
      "Failed for 786 wards for indigestion disease\n",
      "Failed for 786 wards for suicidal disease\n",
      "Failed for 786 wards for constipation disease\n",
      "Failed for 786 wards for edema disease\n",
      "Failed for 786 wards for heartburn disease\n",
      "Failed for 786 wards for joint pain disease\n",
      "Failed for 786 wards for dementia disease\n",
      "Failed for 786 wards for parkinson's disease disease\n",
      "Failed for 786 wards for syncope disease\n",
      "Failed for 786 wards for muscle pain disease\n",
      "Failed for 786 wards for irritable bowel syndrome disease\n",
      "Failed for 786 wards for diarrhea disease\n",
      "Failed for 786 wards for kidney stone disease\n",
      "Failed for 786 wards for headache disease\n",
      "Failed for 786 wards for fever disease\n",
      "Failed for 786 wards for pain disease\n",
      "Failed for 786 wards for itching disease\n",
      "Failed for 786 wards for arthritis disease\n",
      "Failed for 786 wards for asthenia disease\n",
      "Failed for 786 wards for tremor disease\n",
      "Failed for 786 wards for nausea disease\n",
      "Failed for 786 wards for chronic pain disease\n",
      "Failed for 786 wards for anxiety disease\n",
      "Failed for 786 wards for parkinsonism disease\n"
     ]
    },
    {
     "name": "stderr",
     "output_type": "stream",
     "text": [
      "\r",
      " 14%|█▍        | 15/107 [01:07<07:02,  4.59s/it]"
     ]
    },
    {
     "name": "stdout",
     "output_type": "stream",
     "text": [
      "Failed for 786 wards for depressive disorder disease\n",
      "Failed for 786 wards for weight gain disease\n",
      "Failed for 786 wards for urinary incontinence disease\n",
      "Failed for 786 wards for indigestion disease\n",
      "Failed for 786 wards for suicidal disease\n",
      "Failed for 786 wards for constipation disease\n",
      "Failed for 786 wards for edema disease\n",
      "Failed for 786 wards for heartburn disease\n",
      "Failed for 786 wards for joint pain disease\n",
      "Failed for 786 wards for dementia disease\n",
      "Failed for 786 wards for parkinson's disease disease\n",
      "Failed for 786 wards for syncope disease\n",
      "Failed for 786 wards for muscle pain disease\n",
      "Failed for 786 wards for irritable bowel syndrome disease\n",
      "Failed for 786 wards for diarrhea disease\n",
      "Failed for 786 wards for kidney stone disease\n",
      "Failed for 786 wards for headache disease\n",
      "Failed for 786 wards for fever disease\n",
      "Failed for 786 wards for pain disease\n",
      "Failed for 786 wards for itching disease\n",
      "Failed for 786 wards for arthritis disease\n",
      "Failed for 786 wards for asthenia disease\n",
      "Failed for 786 wards for tremor disease\n",
      "Failed for 786 wards for nausea disease\n",
      "Failed for 786 wards for chronic pain disease\n",
      "Failed for 786 wards for anxiety disease\n",
      "Failed for 786 wards for parkinsonism disease\n",
      "Failed for 786 wards for depressive disorder disease\n",
      "Failed for 786 wards for weight gain disease\n"
     ]
    },
    {
     "name": "stderr",
     "output_type": "stream",
     "text": [
      "\r",
      " 15%|█▍        | 16/107 [01:12<07:06,  4.68s/it]"
     ]
    },
    {
     "name": "stdout",
     "output_type": "stream",
     "text": [
      "Failed for 786 wards for urinary incontinence disease\n",
      "Failed for 786 wards for indigestion disease\n",
      "Failed for 786 wards for suicidal disease\n",
      "Failed for 786 wards for constipation disease\n",
      "Failed for 786 wards for edema disease\n",
      "Failed for 786 wards for heartburn disease\n",
      "Failed for 786 wards for joint pain disease\n",
      "Failed for 786 wards for dementia disease\n",
      "Failed for 786 wards for parkinson's disease disease\n",
      "Failed for 786 wards for syncope disease\n",
      "Failed for 786 wards for muscle pain disease\n",
      "Failed for 786 wards for irritable bowel syndrome disease\n",
      "Failed for 786 wards for diarrhea disease\n",
      "Failed for 786 wards for kidney stone disease\n",
      "Failed for 786 wards for headache disease\n",
      "Failed for 786 wards for fever disease\n",
      "Failed for 786 wards for pain disease\n",
      "Failed for 786 wards for itching disease\n",
      "Failed for 786 wards for arthritis disease\n",
      "Failed for 786 wards for asthenia disease\n",
      "Failed for 786 wards for tremor disease\n",
      "Failed for 786 wards for nausea disease\n",
      "Failed for 786 wards for chronic pain disease\n",
      "Failed for 786 wards for anxiety disease\n",
      "Failed for 786 wards for parkinsonism disease\n",
      "Failed for 786 wards for depressive disorder disease\n"
     ]
    },
    {
     "name": "stderr",
     "output_type": "stream",
     "text": [
      "\r",
      " 16%|█▌        | 17/107 [01:17<07:01,  4.69s/it]"
     ]
    },
    {
     "name": "stdout",
     "output_type": "stream",
     "text": [
      "Failed for 786 wards for weight gain disease\n",
      "Failed for 786 wards for urinary incontinence disease\n",
      "Failed for 786 wards for indigestion disease\n",
      "Failed for 786 wards for suicidal disease\n",
      "Failed for 786 wards for constipation disease\n",
      "Failed for 786 wards for edema disease\n",
      "Failed for 786 wards for heartburn disease\n",
      "Failed for 786 wards for joint pain disease\n",
      "Failed for 786 wards for dementia disease\n",
      "Failed for 786 wards for parkinson's disease disease\n",
      "Failed for 786 wards for syncope disease\n",
      "Failed for 786 wards for muscle pain disease\n",
      "Failed for 786 wards for irritable bowel syndrome disease\n",
      "Failed for 786 wards for diarrhea disease\n",
      "Failed for 786 wards for kidney stone disease\n",
      "Failed for 786 wards for headache disease\n",
      "Failed for 786 wards for fever disease\n",
      "Failed for 786 wards for pain disease\n",
      "Failed for 786 wards for itching disease\n",
      "Failed for 786 wards for arthritis disease\n",
      "Failed for 786 wards for asthenia disease\n",
      "Failed for 786 wards for tremor disease\n",
      "Failed for 786 wards for nausea disease\n",
      "Failed for 786 wards for chronic pain disease\n",
      "Failed for 786 wards for anxiety disease\n",
      "Failed for 786 wards for parkinsonism disease\n",
      "Failed for 786 wards for depressive disorder disease\n",
      "Failed for 786 wards for weight gain disease\n"
     ]
    },
    {
     "name": "stderr",
     "output_type": "stream",
     "text": [
      "\r",
      " 17%|█▋        | 18/107 [01:21<06:47,  4.58s/it]"
     ]
    },
    {
     "name": "stdout",
     "output_type": "stream",
     "text": [
      "Failed for 786 wards for urinary incontinence disease\n",
      "Failed for 786 wards for indigestion disease\n",
      "Failed for 786 wards for suicidal disease\n",
      "Failed for 786 wards for constipation disease\n",
      "Failed for 786 wards for edema disease\n",
      "Failed for 786 wards for heartburn disease\n",
      "Failed for 786 wards for joint pain disease\n",
      "Failed for 786 wards for dementia disease\n",
      "Failed for 786 wards for parkinson's disease disease\n",
      "Failed for 786 wards for syncope disease\n",
      "Failed for 786 wards for muscle pain disease\n",
      "Failed for 786 wards for irritable bowel syndrome disease\n",
      "Failed for 786 wards for diarrhea disease\n",
      "Failed for 786 wards for kidney stone disease\n",
      "Failed for 786 wards for headache disease\n",
      "Failed for 786 wards for fever disease\n",
      "Failed for 786 wards for pain disease\n",
      "Failed for 786 wards for itching disease\n",
      "Failed for 786 wards for arthritis disease\n",
      "Failed for 786 wards for asthenia disease\n",
      "Failed for 786 wards for tremor disease\n",
      "Failed for 786 wards for nausea disease\n",
      "Failed for 786 wards for chronic pain disease\n",
      "Failed for 786 wards for anxiety disease\n",
      "Failed for 786 wards for parkinsonism disease\n"
     ]
    },
    {
     "name": "stderr",
     "output_type": "stream",
     "text": [
      "\r",
      " 18%|█▊        | 19/107 [01:25<06:36,  4.50s/it]"
     ]
    },
    {
     "name": "stdout",
     "output_type": "stream",
     "text": [
      "Failed for 786 wards for depressive disorder disease\n",
      "Failed for 786 wards for weight gain disease\n",
      "Failed for 786 wards for urinary incontinence disease\n",
      "Failed for 786 wards for indigestion disease\n",
      "Failed for 786 wards for suicidal disease\n",
      "Failed for 786 wards for constipation disease\n",
      "Failed for 786 wards for edema disease\n",
      "Failed for 786 wards for heartburn disease\n",
      "Failed for 786 wards for joint pain disease\n",
      "Failed for 786 wards for dementia disease\n",
      "Failed for 786 wards for parkinson's disease disease\n",
      "Failed for 786 wards for syncope disease\n",
      "Failed for 786 wards for muscle pain disease\n",
      "Failed for 786 wards for irritable bowel syndrome disease\n",
      "Failed for 786 wards for diarrhea disease\n",
      "Failed for 786 wards for kidney stone disease\n",
      "Failed for 786 wards for headache disease\n",
      "Failed for 786 wards for fever disease\n",
      "Failed for 786 wards for pain disease\n",
      "Failed for 786 wards for itching disease\n",
      "Failed for 786 wards for arthritis disease\n",
      "Failed for 786 wards for asthenia disease\n",
      "Failed for 786 wards for tremor disease\n",
      "Failed for 786 wards for nausea disease\n",
      "Failed for 786 wards for chronic pain disease\n",
      "Failed for 786 wards for anxiety disease\n",
      "Failed for 786 wards for parkinsonism disease\n",
      "Failed for 786 wards for depressive disorder disease\n",
      "Failed for 786 wards for weight gain disease\n"
     ]
    },
    {
     "name": "stderr",
     "output_type": "stream",
     "text": [
      "\r",
      " 19%|█▊        | 20/107 [01:30<06:27,  4.45s/it]"
     ]
    },
    {
     "name": "stdout",
     "output_type": "stream",
     "text": [
      "Failed for 786 wards for urinary incontinence disease\n",
      "Failed for 786 wards for indigestion disease\n",
      "Failed for 786 wards for suicidal disease\n",
      "Failed for 786 wards for constipation disease\n",
      "Failed for 786 wards for edema disease\n",
      "Failed for 786 wards for heartburn disease\n",
      "Failed for 786 wards for joint pain disease\n",
      "Failed for 786 wards for dementia disease\n",
      "Failed for 786 wards for parkinson's disease disease\n",
      "Failed for 786 wards for syncope disease\n",
      "Failed for 786 wards for muscle pain disease\n",
      "Failed for 786 wards for irritable bowel syndrome disease\n",
      "Failed for 786 wards for diarrhea disease\n",
      "Failed for 786 wards for kidney stone disease\n",
      "Failed for 786 wards for headache disease\n",
      "Failed for 786 wards for fever disease\n",
      "Failed for 786 wards for pain disease\n",
      "Failed for 786 wards for itching disease\n",
      "Failed for 786 wards for arthritis disease\n",
      "Failed for 786 wards for asthenia disease\n",
      "Failed for 786 wards for tremor disease\n",
      "Failed for 786 wards for nausea disease\n",
      "Failed for 786 wards for chronic pain disease\n",
      "Failed for 786 wards for anxiety disease\n",
      "Failed for 786 wards for parkinsonism disease\n",
      "Failed for 786 wards for depressive disorder disease\n",
      "Failed for 786 wards for weight gain disease\n"
     ]
    },
    {
     "name": "stderr",
     "output_type": "stream",
     "text": [
      "\r",
      " 20%|█▉        | 21/107 [01:34<06:18,  4.40s/it]"
     ]
    },
    {
     "name": "stdout",
     "output_type": "stream",
     "text": [
      "Failed for 786 wards for urinary incontinence disease\n",
      "Failed for 786 wards for indigestion disease\n",
      "Failed for 786 wards for suicidal disease\n",
      "Failed for 786 wards for constipation disease\n",
      "Failed for 786 wards for edema disease\n",
      "Failed for 786 wards for heartburn disease\n",
      "Failed for 786 wards for joint pain disease\n",
      "Failed for 786 wards for dementia disease\n",
      "Failed for 786 wards for parkinson's disease disease\n",
      "Failed for 786 wards for syncope disease\n",
      "Failed for 786 wards for muscle pain disease\n",
      "Failed for 786 wards for irritable bowel syndrome disease\n",
      "Failed for 786 wards for diarrhea disease\n",
      "Failed for 786 wards for kidney stone disease\n",
      "Failed for 786 wards for headache disease\n",
      "Failed for 786 wards for fever disease\n",
      "Failed for 786 wards for pain disease\n",
      "Failed for 786 wards for itching disease\n",
      "Failed for 786 wards for arthritis disease\n",
      "Failed for 786 wards for asthenia disease\n",
      "Failed for 786 wards for tremor disease\n",
      "Failed for 786 wards for nausea disease\n",
      "Failed for 786 wards for chronic pain disease\n",
      "Failed for 786 wards for anxiety disease\n",
      "Failed for 786 wards for parkinsonism disease\n",
      "Failed for 786 wards for depressive disorder disease\n",
      "Failed for 786 wards for weight gain disease\n",
      "Failed for 786 wards for urinary incontinence disease\n"
     ]
    },
    {
     "name": "stderr",
     "output_type": "stream",
     "text": [
      "\r",
      " 21%|██        | 22/107 [01:38<06:10,  4.36s/it]"
     ]
    },
    {
     "name": "stdout",
     "output_type": "stream",
     "text": [
      "Failed for 786 wards for indigestion disease\n",
      "Failed for 786 wards for suicidal disease\n",
      "Failed for 786 wards for constipation disease\n",
      "Failed for 786 wards for edema disease\n",
      "Failed for 786 wards for heartburn disease\n",
      "Failed for 786 wards for joint pain disease\n",
      "Failed for 786 wards for dementia disease\n",
      "Failed for 786 wards for parkinson's disease disease\n",
      "Failed for 786 wards for syncope disease\n",
      "Failed for 786 wards for muscle pain disease\n",
      "Failed for 786 wards for irritable bowel syndrome disease\n",
      "Failed for 786 wards for diarrhea disease\n",
      "Failed for 786 wards for kidney stone disease\n",
      "Failed for 786 wards for headache disease\n",
      "Failed for 786 wards for fever disease\n",
      "Failed for 786 wards for pain disease\n",
      "Failed for 786 wards for itching disease\n",
      "Failed for 786 wards for arthritis disease\n",
      "Failed for 786 wards for asthenia disease\n",
      "Failed for 786 wards for tremor disease\n",
      "Failed for 786 wards for nausea disease\n",
      "Failed for 786 wards for chronic pain disease\n",
      "Failed for 786 wards for anxiety disease\n",
      "Failed for 786 wards for parkinsonism disease\n",
      "Failed for 786 wards for depressive disorder disease\n"
     ]
    },
    {
     "name": "stderr",
     "output_type": "stream",
     "text": [
      "\r",
      " 21%|██▏       | 23/107 [01:43<06:03,  4.33s/it]"
     ]
    },
    {
     "name": "stdout",
     "output_type": "stream",
     "text": [
      "Failed for 786 wards for weight gain disease\n",
      "Failed for 786 wards for urinary incontinence disease\n",
      "Failed for 786 wards for indigestion disease\n",
      "Failed for 786 wards for suicidal disease\n",
      "Failed for 786 wards for constipation disease\n",
      "Failed for 786 wards for edema disease\n",
      "Failed for 786 wards for heartburn disease\n",
      "Failed for 786 wards for joint pain disease\n",
      "Failed for 786 wards for dementia disease\n",
      "Failed for 786 wards for parkinson's disease disease\n",
      "Failed for 786 wards for syncope disease\n",
      "Failed for 786 wards for muscle pain disease\n",
      "Failed for 786 wards for irritable bowel syndrome disease\n",
      "Failed for 786 wards for diarrhea disease\n",
      "Failed for 786 wards for kidney stone disease\n",
      "Failed for 786 wards for headache disease\n",
      "Failed for 786 wards for fever disease\n",
      "Failed for 786 wards for pain disease\n",
      "Failed for 786 wards for itching disease\n",
      "Failed for 786 wards for arthritis disease\n",
      "Failed for 786 wards for asthenia disease\n",
      "Failed for 786 wards for tremor disease\n",
      "Failed for 786 wards for nausea disease\n",
      "Failed for 786 wards for chronic pain disease\n",
      "Failed for 786 wards for anxiety disease\n",
      "Failed for 786 wards for parkinsonism disease\n",
      "Failed for 786 wards for depressive disorder disease\n",
      "Failed for 786 wards for weight gain disease\n"
     ]
    },
    {
     "name": "stderr",
     "output_type": "stream",
     "text": [
      "\r",
      " 22%|██▏       | 24/107 [01:47<06:00,  4.34s/it]"
     ]
    },
    {
     "name": "stdout",
     "output_type": "stream",
     "text": [
      "Failed for 786 wards for urinary incontinence disease\n",
      "Failed for 786 wards for indigestion disease\n",
      "Failed for 786 wards for suicidal disease\n",
      "Failed for 786 wards for constipation disease\n",
      "Failed for 786 wards for edema disease\n",
      "Failed for 786 wards for heartburn disease\n",
      "Failed for 786 wards for joint pain disease\n",
      "Failed for 786 wards for dementia disease\n",
      "Failed for 786 wards for parkinson's disease disease\n",
      "Failed for 786 wards for syncope disease\n",
      "Failed for 786 wards for muscle pain disease\n",
      "Failed for 786 wards for irritable bowel syndrome disease\n",
      "Failed for 786 wards for diarrhea disease\n",
      "Failed for 786 wards for kidney stone disease\n",
      "Failed for 786 wards for headache disease\n",
      "Failed for 786 wards for fever disease\n",
      "Failed for 786 wards for pain disease\n",
      "Failed for 786 wards for itching disease\n",
      "Failed for 786 wards for arthritis disease\n",
      "Failed for 786 wards for asthenia disease\n",
      "Failed for 786 wards for tremor disease\n",
      "Failed for 786 wards for nausea disease\n",
      "Failed for 786 wards for chronic pain disease\n",
      "Failed for 786 wards for anxiety disease\n",
      "Failed for 786 wards for parkinsonism disease"
     ]
    },
    {
     "name": "stderr",
     "output_type": "stream",
     "text": [
      "\r",
      " 23%|██▎       | 25/107 [01:51<05:55,  4.33s/it]"
     ]
    },
    {
     "name": "stdout",
     "output_type": "stream",
     "text": [
      "\n",
      "Failed for 786 wards for depressive disorder disease\n",
      "Failed for 786 wards for weight gain disease\n",
      "Failed for 786 wards for urinary incontinence disease\n",
      "Failed for 786 wards for indigestion disease\n",
      "Failed for 786 wards for suicidal disease\n",
      "Failed for 786 wards for constipation disease\n",
      "Failed for 786 wards for edema disease\n",
      "Failed for 786 wards for heartburn disease\n",
      "Failed for 786 wards for joint pain disease\n",
      "Failed for 786 wards for dementia disease\n",
      "Failed for 786 wards for parkinson's disease disease\n",
      "Failed for 786 wards for syncope disease\n",
      "Failed for 786 wards for muscle pain disease\n",
      "Failed for 786 wards for irritable bowel syndrome disease\n",
      "Failed for 786 wards for diarrhea disease\n",
      "Failed for 786 wards for kidney stone disease\n",
      "Failed for 786 wards for headache disease\n",
      "Failed for 786 wards for fever disease\n",
      "Failed for 786 wards for pain disease\n",
      "Failed for 786 wards for itching disease\n",
      "Failed for 786 wards for arthritis disease\n",
      "Failed for 786 wards for asthenia disease\n",
      "Failed for 786 wards for tremor disease\n",
      "Failed for 786 wards for nausea disease\n",
      "Failed for 786 wards for chronic pain disease\n",
      "Failed for 786 wards for anxiety disease\n",
      "Failed for 786 wards for parkinsonism disease\n",
      "Failed for 786 wards for depressive disorder disease\n",
      "Failed for 786 wards for weight gain disease\n"
     ]
    },
    {
     "name": "stderr",
     "output_type": "stream",
     "text": [
      "\r",
      " 24%|██▍       | 26/107 [01:56<05:48,  4.31s/it]"
     ]
    },
    {
     "name": "stdout",
     "output_type": "stream",
     "text": [
      "Failed for 786 wards for urinary incontinence disease\n",
      "Failed for 786 wards for indigestion disease\n",
      "Failed for 786 wards for suicidal disease\n",
      "Failed for 786 wards for constipation disease\n",
      "Failed for 786 wards for edema disease\n",
      "Failed for 786 wards for heartburn disease\n",
      "Failed for 786 wards for joint pain disease\n",
      "Failed for 786 wards for dementia disease\n",
      "Failed for 786 wards for parkinson's disease disease\n",
      "Failed for 786 wards for syncope disease\n",
      "Failed for 786 wards for muscle pain disease\n",
      "Failed for 786 wards for irritable bowel syndrome disease\n",
      "Failed for 786 wards for diarrhea disease\n",
      "Failed for 786 wards for kidney stone disease\n",
      "Failed for 786 wards for headache disease\n",
      "Failed for 786 wards for fever disease\n",
      "Failed for 786 wards for pain disease\n",
      "Failed for 786 wards for itching disease\n",
      "Failed for 786 wards for arthritis disease\n",
      "Failed for 786 wards for asthenia disease\n",
      "Failed for 786 wards for tremor disease\n",
      "Failed for 786 wards for nausea disease\n",
      "Failed for 786 wards for chronic pain disease\n",
      "Failed for 786 wards for anxiety disease\n",
      "Failed for 786 wards for parkinsonism disease\n"
     ]
    },
    {
     "name": "stderr",
     "output_type": "stream",
     "text": [
      "\r",
      " 25%|██▌       | 27/107 [02:00<05:45,  4.32s/it]"
     ]
    },
    {
     "name": "stdout",
     "output_type": "stream",
     "text": [
      "Failed for 786 wards for depressive disorder disease\n",
      "Failed for 786 wards for weight gain disease\n",
      "Failed for 786 wards for urinary incontinence disease\n",
      "Failed for 786 wards for indigestion disease\n",
      "Failed for 786 wards for suicidal disease\n",
      "Failed for 786 wards for constipation disease\n",
      "Failed for 786 wards for edema disease\n",
      "Failed for 786 wards for heartburn disease\n",
      "Failed for 786 wards for joint pain disease\n",
      "Failed for 786 wards for dementia disease\n",
      "Failed for 786 wards for parkinson's disease disease\n",
      "Failed for 786 wards for syncope disease\n",
      "Failed for 786 wards for muscle pain disease\n",
      "Failed for 786 wards for irritable bowel syndrome disease\n",
      "Failed for 786 wards for diarrhea disease\n",
      "Failed for 786 wards for kidney stone disease\n",
      "Failed for 786 wards for headache disease\n",
      "Failed for 786 wards for fever disease\n",
      "Failed for 786 wards for pain disease\n",
      "Failed for 786 wards for itching disease\n",
      "Failed for 786 wards for arthritis disease\n",
      "Failed for 786 wards for asthenia disease\n",
      "Failed for 786 wards for tremor disease\n",
      "Failed for 786 wards for nausea disease\n",
      "Failed for 786 wards for chronic pain disease\n",
      "Failed for 786 wards for anxiety disease\n",
      "Failed for 786 wards for parkinsonism disease\n",
      "Failed for 786 wards for depressive disorder disease\n",
      "Failed for 786 wards for weight gain disease"
     ]
    },
    {
     "name": "stderr",
     "output_type": "stream",
     "text": [
      "\r",
      " 26%|██▌       | 28/107 [02:04<05:44,  4.36s/it]"
     ]
    },
    {
     "name": "stdout",
     "output_type": "stream",
     "text": [
      "\n",
      "Failed for 786 wards for urinary incontinence disease\n",
      "Failed for 786 wards for indigestion disease\n",
      "Failed for 786 wards for suicidal disease\n",
      "Failed for 786 wards for constipation disease\n",
      "Failed for 786 wards for edema disease\n",
      "Failed for 786 wards for heartburn disease\n",
      "Failed for 786 wards for joint pain disease\n",
      "Failed for 786 wards for dementia disease\n",
      "Failed for 786 wards for parkinson's disease disease\n",
      "Failed for 786 wards for syncope disease\n",
      "Failed for 786 wards for muscle pain disease\n",
      "Failed for 786 wards for irritable bowel syndrome disease\n",
      "Failed for 786 wards for diarrhea disease\n",
      "Failed for 786 wards for kidney stone disease\n",
      "Failed for 786 wards for headache disease\n",
      "Failed for 786 wards for fever disease\n",
      "Failed for 786 wards for pain disease\n",
      "Failed for 786 wards for itching disease\n",
      "Failed for 786 wards for arthritis disease\n",
      "Failed for 786 wards for asthenia disease\n",
      "Failed for 786 wards for tremor disease\n",
      "Failed for 786 wards for nausea disease\n",
      "Failed for 786 wards for chronic pain disease\n",
      "Failed for 786 wards for anxiety disease\n",
      "Failed for 786 wards for parkinsonism disease\n",
      "Failed for 786 wards for depressive disorder disease\n",
      "Failed for 786 wards for weight gain disease"
     ]
    },
    {
     "name": "stderr",
     "output_type": "stream",
     "text": [
      "\r",
      " 27%|██▋       | 29/107 [02:09<05:42,  4.39s/it]"
     ]
    },
    {
     "name": "stdout",
     "output_type": "stream",
     "text": [
      "\n",
      "Failed for 786 wards for urinary incontinence disease\n",
      "Failed for 786 wards for indigestion disease\n",
      "Failed for 786 wards for suicidal disease\n",
      "Failed for 786 wards for constipation disease\n",
      "Failed for 786 wards for edema disease\n",
      "Failed for 786 wards for heartburn disease\n",
      "Failed for 786 wards for joint pain disease\n",
      "Failed for 786 wards for dementia disease\n",
      "Failed for 786 wards for parkinson's disease disease\n",
      "Failed for 786 wards for syncope disease\n",
      "Failed for 786 wards for muscle pain disease\n",
      "Failed for 786 wards for irritable bowel syndrome disease\n",
      "Failed for 786 wards for diarrhea disease\n",
      "Failed for 786 wards for kidney stone disease\n",
      "Failed for 786 wards for headache disease\n",
      "Failed for 786 wards for fever disease\n",
      "Failed for 786 wards for pain disease\n",
      "Failed for 786 wards for itching disease\n",
      "Failed for 786 wards for arthritis disease\n",
      "Failed for 786 wards for asthenia disease\n",
      "Failed for 786 wards for tremor disease\n",
      "Failed for 786 wards for nausea disease\n",
      "Failed for 786 wards for chronic pain disease\n",
      "Failed for 786 wards for anxiety disease\n",
      "Failed for 786 wards for parkinsonism disease\n",
      "Failed for 786 wards for depressive disorder disease\n",
      "Failed for 786 wards for weight gain disease\n"
     ]
    },
    {
     "name": "stderr",
     "output_type": "stream",
     "text": [
      "\r",
      " 28%|██▊       | 30/107 [02:13<05:35,  4.36s/it]"
     ]
    },
    {
     "name": "stdout",
     "output_type": "stream",
     "text": [
      "Failed for 786 wards for urinary incontinence disease\n",
      "Failed for 786 wards for indigestion disease\n",
      "Failed for 786 wards for suicidal disease\n",
      "Failed for 786 wards for constipation disease\n",
      "Failed for 786 wards for edema disease\n",
      "Failed for 786 wards for heartburn disease\n",
      "Failed for 786 wards for joint pain disease\n",
      "Failed for 786 wards for dementia disease\n",
      "Failed for 786 wards for parkinson's disease disease\n",
      "Failed for 786 wards for syncope disease\n",
      "Failed for 786 wards for muscle pain disease\n",
      "Failed for 786 wards for irritable bowel syndrome disease\n",
      "Failed for 786 wards for diarrhea disease\n",
      "Failed for 786 wards for kidney stone disease\n",
      "Failed for 786 wards for headache disease\n",
      "Failed for 786 wards for fever disease\n",
      "Failed for 786 wards for pain disease\n",
      "Failed for 786 wards for itching disease\n",
      "Failed for 786 wards for arthritis disease\n",
      "Failed for 786 wards for asthenia disease\n",
      "Failed for 786 wards for tremor disease\n",
      "Failed for 786 wards for nausea disease\n",
      "Failed for 786 wards for chronic pain disease\n",
      "Failed for 786 wards for anxiety disease\n",
      "Failed for 786 wards for parkinsonism disease\n",
      "Failed for 786 wards for depressive disorder disease\n"
     ]
    },
    {
     "name": "stderr",
     "output_type": "stream",
     "text": [
      "\r",
      " 29%|██▉       | 31/107 [02:17<05:29,  4.34s/it]"
     ]
    },
    {
     "name": "stdout",
     "output_type": "stream",
     "text": [
      "Failed for 786 wards for weight gain disease\n",
      "Failed for 786 wards for urinary incontinence disease\n",
      "Failed for 786 wards for indigestion disease\n",
      "Failed for 786 wards for suicidal disease\n",
      "Failed for 786 wards for constipation disease\n",
      "Failed for 786 wards for edema disease\n",
      "Failed for 786 wards for heartburn disease\n",
      "Failed for 786 wards for joint pain disease\n",
      "Failed for 786 wards for dementia disease\n",
      "Failed for 786 wards for parkinson's disease disease\n",
      "Failed for 786 wards for syncope disease\n",
      "Failed for 786 wards for muscle pain disease\n",
      "Failed for 786 wards for irritable bowel syndrome disease\n",
      "Failed for 786 wards for diarrhea disease\n",
      "Failed for 786 wards for kidney stone disease\n",
      "Failed for 786 wards for headache disease\n",
      "Failed for 786 wards for fever disease\n",
      "Failed for 786 wards for pain disease\n",
      "Failed for 786 wards for itching disease\n",
      "Failed for 786 wards for arthritis disease\n",
      "Failed for 786 wards for asthenia disease\n",
      "Failed for 786 wards for tremor disease\n",
      "Failed for 786 wards for nausea disease\n",
      "Failed for 786 wards for chronic pain disease\n",
      "Failed for 786 wards for anxiety disease\n",
      "Failed for 786 wards for parkinsonism disease\n",
      "Failed for 786 wards for depressive disorder disease\n"
     ]
    },
    {
     "name": "stderr",
     "output_type": "stream",
     "text": [
      "\r",
      " 30%|██▉       | 32/107 [02:22<05:22,  4.29s/it]"
     ]
    },
    {
     "name": "stdout",
     "output_type": "stream",
     "text": [
      "Failed for 786 wards for weight gain disease\n",
      "Failed for 786 wards for urinary incontinence disease\n",
      "Failed for 786 wards for indigestion disease\n",
      "Failed for 786 wards for suicidal disease\n",
      "Failed for 786 wards for constipation disease\n",
      "Failed for 786 wards for edema disease\n",
      "Failed for 786 wards for heartburn disease\n",
      "Failed for 786 wards for joint pain disease\n",
      "Failed for 786 wards for dementia disease\n",
      "Failed for 786 wards for parkinson's disease disease\n",
      "Failed for 786 wards for syncope disease\n",
      "Failed for 786 wards for muscle pain disease\n",
      "Failed for 786 wards for irritable bowel syndrome disease\n",
      "Failed for 786 wards for diarrhea disease\n",
      "Failed for 786 wards for kidney stone disease\n",
      "Failed for 786 wards for headache disease\n",
      "Failed for 786 wards for fever disease\n",
      "Failed for 786 wards for pain disease\n",
      "Failed for 786 wards for itching disease\n",
      "Failed for 786 wards for arthritis disease\n",
      "Failed for 786 wards for asthenia disease\n",
      "Failed for 786 wards for tremor disease\n",
      "Failed for 786 wards for nausea disease\n",
      "Failed for 786 wards for chronic pain disease\n",
      "Failed for 786 wards for anxiety disease\n",
      "Failed for 786 wards for parkinsonism disease\n",
      "Failed for 786 wards for depressive disorder disease\n"
     ]
    },
    {
     "name": "stderr",
     "output_type": "stream",
     "text": [
      "\r",
      " 31%|███       | 33/107 [02:26<05:16,  4.27s/it]"
     ]
    },
    {
     "name": "stdout",
     "output_type": "stream",
     "text": [
      "Failed for 786 wards for weight gain disease\n",
      "Failed for 786 wards for urinary incontinence disease\n",
      "Failed for 786 wards for indigestion disease\n",
      "Failed for 786 wards for suicidal disease\n",
      "Failed for 786 wards for constipation disease\n",
      "Failed for 786 wards for edema disease\n",
      "Failed for 786 wards for heartburn disease\n",
      "Failed for 786 wards for joint pain disease\n",
      "Failed for 786 wards for dementia disease\n",
      "Failed for 786 wards for parkinson's disease disease\n",
      "Failed for 786 wards for syncope disease\n",
      "Failed for 786 wards for muscle pain disease\n",
      "Failed for 786 wards for irritable bowel syndrome disease\n",
      "Failed for 786 wards for diarrhea disease\n",
      "Failed for 786 wards for kidney stone disease\n",
      "Failed for 786 wards for headache disease\n",
      "Failed for 786 wards for fever disease\n",
      "Failed for 786 wards for pain disease\n",
      "Failed for 786 wards for itching disease\n",
      "Failed for 786 wards for arthritis disease\n",
      "Failed for 786 wards for asthenia disease\n",
      "Failed for 786 wards for tremor disease\n",
      "Failed for 786 wards for nausea disease\n",
      "Failed for 786 wards for chronic pain disease\n",
      "Failed for 786 wards for anxiety disease\n",
      "Failed for 786 wards for parkinsonism disease\n",
      "Failed for 786 wards for depressive disorder disease\n",
      "Failed for 786 wards for weight gain disease\n"
     ]
    },
    {
     "name": "stderr",
     "output_type": "stream",
     "text": [
      "\r",
      " 32%|███▏      | 34/107 [02:30<05:10,  4.26s/it]"
     ]
    },
    {
     "name": "stdout",
     "output_type": "stream",
     "text": [
      "Failed for 786 wards for urinary incontinence disease\n",
      "Failed for 786 wards for indigestion disease\n",
      "Failed for 786 wards for suicidal disease\n",
      "Failed for 786 wards for constipation disease\n",
      "Failed for 786 wards for edema disease\n",
      "Failed for 786 wards for heartburn disease\n",
      "Failed for 786 wards for joint pain disease\n",
      "Failed for 786 wards for dementia disease\n",
      "Failed for 786 wards for parkinson's disease disease\n",
      "Failed for 786 wards for syncope disease\n",
      "Failed for 786 wards for muscle pain disease\n",
      "Failed for 786 wards for irritable bowel syndrome disease\n",
      "Failed for 786 wards for diarrhea disease\n",
      "Failed for 786 wards for kidney stone disease\n",
      "Failed for 786 wards for headache disease\n",
      "Failed for 786 wards for fever disease\n",
      "Failed for 786 wards for pain disease\n",
      "Failed for 786 wards for itching disease\n",
      "Failed for 786 wards for arthritis disease\n",
      "Failed for 786 wards for asthenia disease\n",
      "Failed for 786 wards for tremor disease\n",
      "Failed for 786 wards for nausea disease\n",
      "Failed for 786 wards for chronic pain disease\n",
      "Failed for 786 wards for anxiety disease\n",
      "Failed for 786 wards for parkinsonism disease\n",
      "Failed for 786 wards for depressive disorder disease\n",
      "Failed for 786 wards for weight gain disease\n"
     ]
    },
    {
     "name": "stderr",
     "output_type": "stream",
     "text": [
      "\r",
      " 33%|███▎      | 35/107 [02:34<05:08,  4.28s/it]"
     ]
    },
    {
     "name": "stdout",
     "output_type": "stream",
     "text": [
      "Failed for 786 wards for urinary incontinence disease\n",
      "Failed for 786 wards for indigestion disease\n",
      "Failed for 786 wards for suicidal disease\n",
      "Failed for 786 wards for constipation disease\n",
      "Failed for 786 wards for edema disease\n",
      "Failed for 786 wards for heartburn disease\n",
      "Failed for 786 wards for joint pain disease\n",
      "Failed for 786 wards for dementia disease\n",
      "Failed for 786 wards for parkinson's disease disease\n",
      "Failed for 786 wards for syncope disease\n",
      "Failed for 786 wards for muscle pain disease\n",
      "Failed for 786 wards for irritable bowel syndrome disease\n",
      "Failed for 786 wards for diarrhea disease\n",
      "Failed for 786 wards for kidney stone disease\n",
      "Failed for 786 wards for headache disease\n",
      "Failed for 786 wards for fever disease\n",
      "Failed for 786 wards for pain disease\n",
      "Failed for 786 wards for itching disease\n",
      "Failed for 786 wards for arthritis disease\n",
      "Failed for 786 wards for asthenia disease\n",
      "Failed for 786 wards for tremor disease\n",
      "Failed for 786 wards for nausea disease\n",
      "Failed for 786 wards for chronic pain disease\n",
      "Failed for 786 wards for anxiety disease\n",
      "Failed for 786 wards for parkinsonism disease\n",
      "Failed for 786 wards for depressive disorder disease\n"
     ]
    },
    {
     "name": "stderr",
     "output_type": "stream",
     "text": [
      "\r",
      " 34%|███▎      | 36/107 [02:39<05:03,  4.27s/it]"
     ]
    },
    {
     "name": "stdout",
     "output_type": "stream",
     "text": [
      "Failed for 786 wards for weight gain disease\n",
      "Failed for 786 wards for urinary incontinence disease\n",
      "Failed for 786 wards for indigestion disease\n",
      "Failed for 786 wards for suicidal disease\n",
      "Failed for 786 wards for constipation disease\n",
      "Failed for 786 wards for edema disease\n",
      "Failed for 786 wards for heartburn disease\n",
      "Failed for 786 wards for joint pain disease\n",
      "Failed for 786 wards for dementia disease\n",
      "Failed for 786 wards for parkinson's disease disease\n",
      "Failed for 786 wards for syncope disease\n",
      "Failed for 786 wards for muscle pain disease\n",
      "Failed for 786 wards for irritable bowel syndrome disease\n",
      "Failed for 786 wards for diarrhea disease\n",
      "Failed for 786 wards for kidney stone disease\n",
      "Failed for 786 wards for headache disease\n",
      "Failed for 786 wards for fever disease\n",
      "Failed for 786 wards for pain disease\n",
      "Failed for 786 wards for itching disease\n",
      "Failed for 786 wards for arthritis disease\n",
      "Failed for 786 wards for asthenia disease\n",
      "Failed for 786 wards for tremor disease\n",
      "Failed for 786 wards for nausea disease\n",
      "Failed for 786 wards for chronic pain disease\n",
      "Failed for 786 wards for anxiety disease\n",
      "Failed for 786 wards for parkinsonism disease\n",
      "Failed for 786 wards for depressive disorder disease\n",
      "Failed for 786 wards for weight gain disease\n",
      "Failed for 786 wards for urinary incontinence disease\n"
     ]
    },
    {
     "name": "stderr",
     "output_type": "stream",
     "text": [
      "\r",
      " 35%|███▍      | 37/107 [02:43<04:55,  4.23s/it]"
     ]
    },
    {
     "name": "stdout",
     "output_type": "stream",
     "text": [
      "Failed for 786 wards for indigestion disease\n",
      "Failed for 786 wards for suicidal disease\n",
      "Failed for 786 wards for constipation disease\n",
      "Failed for 786 wards for edema disease\n",
      "Failed for 786 wards for heartburn disease\n",
      "Failed for 786 wards for joint pain disease\n",
      "Failed for 786 wards for dementia disease\n",
      "Failed for 786 wards for parkinson's disease disease\n",
      "Failed for 786 wards for syncope disease\n",
      "Failed for 786 wards for muscle pain disease\n",
      "Failed for 786 wards for irritable bowel syndrome disease\n",
      "Failed for 786 wards for diarrhea disease\n",
      "Failed for 786 wards for kidney stone disease\n",
      "Failed for 786 wards for headache disease\n",
      "Failed for 786 wards for fever disease\n",
      "Failed for 786 wards for pain disease\n",
      "Failed for 786 wards for itching disease\n",
      "Failed for 786 wards for arthritis disease\n",
      "Failed for 786 wards for asthenia disease\n",
      "Failed for 786 wards for tremor disease\n",
      "Failed for 786 wards for nausea disease\n",
      "Failed for 786 wards for chronic pain disease\n",
      "Failed for 786 wards for anxiety disease\n",
      "Failed for 786 wards for parkinsonism disease\n",
      "Failed for 786 wards for depressive disorder disease\n"
     ]
    },
    {
     "name": "stderr",
     "output_type": "stream",
     "text": [
      "\r",
      " 36%|███▌      | 38/107 [02:47<04:51,  4.23s/it]"
     ]
    },
    {
     "name": "stdout",
     "output_type": "stream",
     "text": [
      "Failed for 786 wards for weight gain disease\n",
      "Failed for 786 wards for urinary incontinence disease\n",
      "Failed for 786 wards for indigestion disease\n",
      "Failed for 786 wards for suicidal disease\n",
      "Failed for 786 wards for constipation disease\n",
      "Failed for 786 wards for edema disease\n",
      "Failed for 786 wards for heartburn disease\n",
      "Failed for 786 wards for joint pain disease\n",
      "Failed for 786 wards for dementia disease\n",
      "Failed for 786 wards for parkinson's disease disease\n",
      "Failed for 786 wards for syncope disease\n",
      "Failed for 786 wards for muscle pain disease\n",
      "Failed for 786 wards for irritable bowel syndrome disease\n",
      "Failed for 786 wards for diarrhea disease\n",
      "Failed for 786 wards for kidney stone disease\n",
      "Failed for 786 wards for headache disease\n",
      "Failed for 786 wards for fever disease\n",
      "Failed for 786 wards for pain disease\n",
      "Failed for 786 wards for itching disease\n",
      "Failed for 786 wards for arthritis disease\n",
      "Failed for 786 wards for asthenia disease\n",
      "Failed for 786 wards for tremor disease\n",
      "Failed for 786 wards for nausea disease\n",
      "Failed for 786 wards for chronic pain disease\n",
      "Failed for 786 wards for anxiety disease\n",
      "Failed for 786 wards for parkinsonism disease\n",
      "Failed for 786 wards for depressive disorder disease\n",
      "Failed for 786 wards for weight gain disease\n"
     ]
    },
    {
     "name": "stderr",
     "output_type": "stream",
     "text": [
      "\r",
      " 36%|███▋      | 39/107 [02:51<04:47,  4.22s/it]"
     ]
    },
    {
     "name": "stdout",
     "output_type": "stream",
     "text": [
      "Failed for 786 wards for urinary incontinence disease\n",
      "Failed for 786 wards for indigestion disease\n",
      "Failed for 786 wards for suicidal disease\n",
      "Failed for 786 wards for constipation disease\n",
      "Failed for 786 wards for edema disease\n",
      "Failed for 786 wards for heartburn disease\n",
      "Failed for 786 wards for joint pain disease\n",
      "Failed for 786 wards for dementia disease\n",
      "Failed for 786 wards for parkinson's disease disease\n",
      "Failed for 786 wards for syncope disease\n",
      "Failed for 786 wards for muscle pain disease\n",
      "Failed for 786 wards for irritable bowel syndrome disease\n",
      "Failed for 786 wards for diarrhea disease\n",
      "Failed for 786 wards for kidney stone disease\n",
      "Failed for 786 wards for headache disease\n",
      "Failed for 786 wards for fever disease\n",
      "Failed for 786 wards for pain disease\n",
      "Failed for 786 wards for itching disease\n",
      "Failed for 786 wards for arthritis disease\n",
      "Failed for 786 wards for asthenia disease\n",
      "Failed for 786 wards for tremor disease\n",
      "Failed for 786 wards for nausea disease\n",
      "Failed for 786 wards for chronic pain disease\n",
      "Failed for 786 wards for anxiety disease\n",
      "Failed for 786 wards for parkinsonism disease\n",
      "Failed for 786 wards for depressive disorder disease\n"
     ]
    },
    {
     "name": "stderr",
     "output_type": "stream",
     "text": [
      "\r",
      " 37%|███▋      | 40/107 [02:55<04:42,  4.21s/it]"
     ]
    },
    {
     "name": "stdout",
     "output_type": "stream",
     "text": [
      "Failed for 786 wards for weight gain disease\n",
      "Failed for 786 wards for urinary incontinence disease\n",
      "Failed for 786 wards for indigestion disease\n",
      "Failed for 786 wards for suicidal disease\n",
      "Failed for 786 wards for constipation disease\n",
      "Failed for 786 wards for edema disease\n",
      "Failed for 786 wards for heartburn disease\n",
      "Failed for 786 wards for joint pain disease\n",
      "Failed for 786 wards for dementia disease\n",
      "Failed for 786 wards for parkinson's disease disease\n",
      "Failed for 786 wards for syncope disease\n",
      "Failed for 786 wards for muscle pain disease\n",
      "Failed for 786 wards for irritable bowel syndrome disease\n",
      "Failed for 786 wards for diarrhea disease\n",
      "Failed for 786 wards for kidney stone disease\n",
      "Failed for 786 wards for headache disease\n",
      "Failed for 786 wards for fever disease\n",
      "Failed for 786 wards for pain disease\n",
      "Failed for 786 wards for itching disease\n",
      "Failed for 786 wards for arthritis disease\n",
      "Failed for 786 wards for asthenia disease\n",
      "Failed for 786 wards for tremor disease\n",
      "Failed for 786 wards for nausea disease\n",
      "Failed for 786 wards for chronic pain disease\n",
      "Failed for 786 wards for anxiety disease\n"
     ]
    },
    {
     "name": "stderr",
     "output_type": "stream",
     "text": [
      "\r",
      " 38%|███▊      | 41/107 [03:00<04:38,  4.22s/it]"
     ]
    },
    {
     "name": "stdout",
     "output_type": "stream",
     "text": [
      "Failed for 786 wards for parkinsonism disease\n",
      "Failed for 786 wards for depressive disorder disease\n",
      "Failed for 786 wards for weight gain disease\n",
      "Failed for 786 wards for urinary incontinence disease\n",
      "Failed for 786 wards for indigestion disease\n",
      "Failed for 786 wards for suicidal disease\n",
      "Failed for 786 wards for constipation disease\n",
      "Failed for 786 wards for edema disease\n",
      "Failed for 786 wards for heartburn disease\n",
      "Failed for 786 wards for joint pain disease\n",
      "Failed for 786 wards for dementia disease\n",
      "Failed for 786 wards for parkinson's disease disease\n",
      "Failed for 786 wards for syncope disease\n",
      "Failed for 786 wards for muscle pain disease\n",
      "Failed for 786 wards for irritable bowel syndrome disease\n",
      "Failed for 786 wards for diarrhea disease\n",
      "Failed for 786 wards for kidney stone disease\n",
      "Failed for 786 wards for headache disease\n",
      "Failed for 786 wards for fever disease\n",
      "Failed for 786 wards for pain disease\n",
      "Failed for 786 wards for itching disease\n",
      "Failed for 786 wards for arthritis disease\n",
      "Failed for 786 wards for asthenia disease\n",
      "Failed for 786 wards for tremor disease\n",
      "Failed for 786 wards for nausea disease\n",
      "Failed for 786 wards for chronic pain disease\n",
      "Failed for 786 wards for anxiety disease\n",
      "Failed for 786 wards for parkinsonism disease\n",
      "Failed for 786 wards for depressive disorder disease\n"
     ]
    },
    {
     "name": "stderr",
     "output_type": "stream",
     "text": [
      "\r",
      " 39%|███▉      | 42/107 [03:04<04:35,  4.24s/it]"
     ]
    },
    {
     "name": "stdout",
     "output_type": "stream",
     "text": [
      "Failed for 786 wards for weight gain disease\n",
      "Failed for 786 wards for urinary incontinence disease\n",
      "Failed for 786 wards for indigestion disease\n",
      "Failed for 786 wards for suicidal disease\n",
      "Failed for 786 wards for constipation disease\n",
      "Failed for 786 wards for edema disease\n",
      "Failed for 786 wards for heartburn disease\n",
      "Failed for 786 wards for joint pain disease\n",
      "Failed for 786 wards for dementia disease\n",
      "Failed for 786 wards for parkinson's disease disease\n",
      "Failed for 786 wards for syncope disease\n",
      "Failed for 786 wards for muscle pain disease\n",
      "Failed for 786 wards for irritable bowel syndrome disease\n",
      "Failed for 786 wards for diarrhea disease\n",
      "Failed for 786 wards for kidney stone disease\n",
      "Failed for 786 wards for headache disease\n",
      "Failed for 786 wards for fever disease\n",
      "Failed for 786 wards for pain disease\n",
      "Failed for 786 wards for itching disease\n",
      "Failed for 786 wards for arthritis disease\n",
      "Failed for 786 wards for asthenia disease\n",
      "Failed for 786 wards for tremor disease\n",
      "Failed for 786 wards for nausea disease\n",
      "Failed for 786 wards for chronic pain disease\n",
      "Failed for 786 wards for anxiety disease\n",
      "Failed for 786 wards for parkinsonism disease\n",
      "Failed for 786 wards for depressive disorder disease\n",
      "Failed for 786 wards for weight gain disease\n"
     ]
    },
    {
     "name": "stderr",
     "output_type": "stream",
     "text": [
      "\r",
      " 40%|████      | 43/107 [03:08<04:32,  4.25s/it]"
     ]
    },
    {
     "name": "stdout",
     "output_type": "stream",
     "text": [
      "Failed for 786 wards for urinary incontinence disease\n",
      "Failed for 786 wards for indigestion disease\n",
      "Failed for 786 wards for suicidal disease\n",
      "Failed for 786 wards for constipation disease\n",
      "Failed for 786 wards for edema disease\n",
      "Failed for 786 wards for heartburn disease\n",
      "Failed for 786 wards for joint pain disease\n",
      "Failed for 786 wards for dementia disease\n",
      "Failed for 786 wards for parkinson's disease disease\n",
      "Failed for 786 wards for syncope disease\n",
      "Failed for 786 wards for muscle pain disease\n",
      "Failed for 786 wards for irritable bowel syndrome disease\n",
      "Failed for 786 wards for diarrhea disease\n",
      "Failed for 786 wards for kidney stone disease\n",
      "Failed for 786 wards for headache disease\n",
      "Failed for 786 wards for fever disease\n",
      "Failed for 786 wards for pain disease\n",
      "Failed for 786 wards for itching disease\n",
      "Failed for 786 wards for arthritis disease\n",
      "Failed for 786 wards for asthenia disease\n",
      "Failed for 786 wards for tremor disease\n",
      "Failed for 786 wards for nausea disease\n",
      "Failed for 786 wards for chronic pain disease\n",
      "Failed for 786 wards for anxiety disease\n",
      "Failed for 786 wards for parkinsonism disease\n",
      "Failed for 786 wards for depressive disorder disease\n",
      "Failed for 786 wards for weight gain disease\n",
      "Failed for 786 wards for urinary incontinence disease\n"
     ]
    },
    {
     "name": "stderr",
     "output_type": "stream",
     "text": [
      "\r",
      " 41%|████      | 44/107 [03:12<04:27,  4.24s/it]"
     ]
    },
    {
     "name": "stdout",
     "output_type": "stream",
     "text": [
      "Failed for 786 wards for indigestion disease\n",
      "Failed for 786 wards for suicidal disease\n",
      "Failed for 786 wards for constipation disease\n",
      "Failed for 786 wards for edema disease\n",
      "Failed for 786 wards for heartburn disease\n",
      "Failed for 786 wards for joint pain disease\n",
      "Failed for 786 wards for dementia disease\n",
      "Failed for 786 wards for parkinson's disease disease\n",
      "Failed for 786 wards for syncope disease\n",
      "Failed for 786 wards for muscle pain disease\n",
      "Failed for 786 wards for irritable bowel syndrome disease\n",
      "Failed for 786 wards for diarrhea disease\n",
      "Failed for 786 wards for kidney stone disease\n",
      "Failed for 786 wards for headache disease\n",
      "Failed for 786 wards for fever disease\n",
      "Failed for 786 wards for pain disease\n",
      "Failed for 786 wards for itching disease\n",
      "Failed for 786 wards for arthritis disease\n",
      "Failed for 786 wards for asthenia disease\n",
      "Failed for 786 wards for tremor disease\n",
      "Failed for 786 wards for nausea disease\n",
      "Failed for 786 wards for chronic pain disease\n",
      "Failed for 786 wards for anxiety disease\n",
      "Failed for 786 wards for parkinsonism disease\n",
      "Failed for 786 wards for depressive disorder disease\n",
      "Failed for 786 wards for weight gain disease\n"
     ]
    },
    {
     "name": "stderr",
     "output_type": "stream",
     "text": [
      "\r",
      " 42%|████▏     | 45/107 [03:17<04:25,  4.28s/it]"
     ]
    },
    {
     "name": "stdout",
     "output_type": "stream",
     "text": [
      "Failed for 786 wards for urinary incontinence disease\n",
      "Failed for 786 wards for indigestion disease\n",
      "Failed for 786 wards for suicidal disease\n",
      "Failed for 786 wards for constipation disease\n",
      "Failed for 786 wards for edema disease\n",
      "Failed for 786 wards for heartburn disease\n",
      "Failed for 786 wards for joint pain disease\n",
      "Failed for 786 wards for dementia disease\n",
      "Failed for 786 wards for parkinson's disease disease\n",
      "Failed for 786 wards for syncope disease\n",
      "Failed for 786 wards for muscle pain disease\n",
      "Failed for 786 wards for irritable bowel syndrome disease\n",
      "Failed for 786 wards for diarrhea disease\n",
      "Failed for 786 wards for kidney stone disease\n",
      "Failed for 786 wards for headache disease\n",
      "Failed for 786 wards for fever disease\n",
      "Failed for 786 wards for pain disease\n",
      "Failed for 786 wards for itching disease\n",
      "Failed for 786 wards for arthritis disease\n",
      "Failed for 786 wards for asthenia disease\n",
      "Failed for 786 wards for tremor disease\n",
      "Failed for 786 wards for nausea disease\n",
      "Failed for 786 wards for chronic pain disease\n",
      "Failed for 786 wards for anxiety disease\n",
      "Failed for 786 wards for parkinsonism disease\n",
      "Failed for 786 wards for depressive disorder disease\n",
      "Failed for 786 wards for weight gain disease\n",
      "Failed for 786 wards for urinary incontinence disease\n"
     ]
    },
    {
     "name": "stderr",
     "output_type": "stream",
     "text": [
      "\r",
      " 43%|████▎     | 46/107 [03:21<04:22,  4.30s/it]"
     ]
    },
    {
     "name": "stdout",
     "output_type": "stream",
     "text": [
      "Failed for 786 wards for indigestion disease\n",
      "Failed for 786 wards for suicidal disease\n",
      "Failed for 786 wards for constipation disease\n",
      "Failed for 786 wards for edema disease\n",
      "Failed for 786 wards for heartburn disease\n",
      "Failed for 786 wards for joint pain disease\n",
      "Failed for 786 wards for dementia disease\n",
      "Failed for 786 wards for parkinson's disease disease\n",
      "Failed for 786 wards for syncope disease\n",
      "Failed for 786 wards for muscle pain disease\n",
      "Failed for 786 wards for irritable bowel syndrome disease\n",
      "Failed for 786 wards for diarrhea disease\n",
      "Failed for 786 wards for kidney stone disease\n",
      "Failed for 786 wards for headache disease\n",
      "Failed for 786 wards for fever disease\n",
      "Failed for 786 wards for pain disease\n",
      "Failed for 786 wards for itching disease\n",
      "Failed for 786 wards for arthritis disease\n",
      "Failed for 786 wards for asthenia disease\n",
      "Failed for 786 wards for tremor disease\n",
      "Failed for 786 wards for nausea disease\n",
      "Failed for 786 wards for chronic pain disease\n",
      "Failed for 786 wards for anxiety disease\n",
      "Failed for 786 wards for parkinsonism disease\n",
      "Failed for 786 wards for depressive disorder disease\n"
     ]
    },
    {
     "name": "stderr",
     "output_type": "stream",
     "text": [
      "\r",
      " 44%|████▍     | 47/107 [03:25<04:16,  4.27s/it]"
     ]
    },
    {
     "name": "stdout",
     "output_type": "stream",
     "text": [
      "Failed for 786 wards for weight gain disease\n",
      "Failed for 786 wards for urinary incontinence disease\n",
      "Failed for 786 wards for indigestion disease\n",
      "Failed for 786 wards for suicidal disease\n",
      "Failed for 786 wards for constipation disease\n",
      "Failed for 786 wards for edema disease\n",
      "Failed for 786 wards for heartburn disease\n",
      "Failed for 786 wards for joint pain disease\n",
      "Failed for 786 wards for dementia disease\n",
      "Failed for 786 wards for parkinson's disease disease\n",
      "Failed for 786 wards for syncope disease\n",
      "Failed for 786 wards for muscle pain disease\n",
      "Failed for 786 wards for irritable bowel syndrome disease\n",
      "Failed for 786 wards for diarrhea disease\n",
      "Failed for 786 wards for kidney stone disease\n",
      "Failed for 786 wards for headache disease\n",
      "Failed for 786 wards for fever disease\n",
      "Failed for 786 wards for pain disease\n",
      "Failed for 786 wards for itching disease\n",
      "Failed for 786 wards for arthritis disease\n",
      "Failed for 786 wards for asthenia disease\n",
      "Failed for 786 wards for tremor disease\n",
      "Failed for 786 wards for nausea disease\n",
      "Failed for 786 wards for chronic pain disease\n",
      "Failed for 786 wards for anxiety disease\n",
      "Failed for 786 wards for parkinsonism disease\n"
     ]
    },
    {
     "name": "stderr",
     "output_type": "stream",
     "text": [
      "\r",
      " 45%|████▍     | 48/107 [03:30<04:11,  4.27s/it]"
     ]
    },
    {
     "name": "stdout",
     "output_type": "stream",
     "text": [
      "Failed for 786 wards for depressive disorder disease\n",
      "Failed for 786 wards for weight gain disease\n",
      "Failed for 786 wards for urinary incontinence disease\n",
      "Failed for 786 wards for indigestion disease\n",
      "Failed for 786 wards for suicidal disease\n",
      "Failed for 786 wards for constipation disease\n",
      "Failed for 786 wards for edema disease\n",
      "Failed for 786 wards for heartburn disease\n",
      "Failed for 786 wards for joint pain disease\n",
      "Failed for 786 wards for dementia disease\n",
      "Failed for 786 wards for parkinson's disease disease\n",
      "Failed for 786 wards for syncope disease\n",
      "Failed for 786 wards for muscle pain disease\n",
      "Failed for 786 wards for irritable bowel syndrome disease\n",
      "Failed for 786 wards for diarrhea disease\n",
      "Failed for 786 wards for kidney stone disease\n",
      "Failed for 786 wards for headache disease\n",
      "Failed for 786 wards for fever disease\n",
      "Failed for 786 wards for pain disease\n",
      "Failed for 786 wards for itching disease\n",
      "Failed for 786 wards for arthritis disease\n",
      "Failed for 786 wards for asthenia disease\n",
      "Failed for 786 wards for tremor disease\n",
      "Failed for 786 wards for nausea disease\n",
      "Failed for 786 wards for chronic pain disease\n",
      "Failed for 786 wards for anxiety disease\n"
     ]
    },
    {
     "name": "stderr",
     "output_type": "stream",
     "text": [
      "\r",
      " 46%|████▌     | 49/107 [03:34<04:05,  4.24s/it]"
     ]
    },
    {
     "name": "stdout",
     "output_type": "stream",
     "text": [
      "Failed for 786 wards for parkinsonism disease\n",
      "Failed for 786 wards for depressive disorder disease\n",
      "Failed for 786 wards for weight gain disease\n",
      "Failed for 786 wards for urinary incontinence disease\n",
      "Failed for 786 wards for indigestion disease\n",
      "Failed for 786 wards for suicidal disease\n",
      "Failed for 786 wards for constipation disease\n",
      "Failed for 786 wards for edema disease\n",
      "Failed for 786 wards for heartburn disease\n",
      "Failed for 786 wards for joint pain disease\n",
      "Failed for 786 wards for dementia disease\n",
      "Failed for 786 wards for parkinson's disease disease\n",
      "Failed for 786 wards for syncope disease\n",
      "Failed for 786 wards for muscle pain disease\n",
      "Failed for 786 wards for irritable bowel syndrome disease\n",
      "Failed for 786 wards for diarrhea disease\n",
      "Failed for 786 wards for kidney stone disease\n",
      "Failed for 786 wards for headache disease\n",
      "Failed for 786 wards for fever disease\n",
      "Failed for 786 wards for pain disease\n",
      "Failed for 786 wards for itching disease\n",
      "Failed for 786 wards for arthritis disease\n",
      "Failed for 786 wards for asthenia disease\n",
      "Failed for 786 wards for tremor disease\n",
      "Failed for 786 wards for nausea disease\n",
      "Failed for 786 wards for chronic pain disease\n",
      "Failed for 786 wards for anxiety disease\n",
      "Failed for 786 wards for parkinsonism disease\n",
      "Failed for 786 wards for depressive disorder disease\n"
     ]
    },
    {
     "name": "stderr",
     "output_type": "stream",
     "text": [
      "\r",
      " 47%|████▋     | 50/107 [03:38<04:02,  4.26s/it]"
     ]
    },
    {
     "name": "stdout",
     "output_type": "stream",
     "text": [
      "Failed for 786 wards for weight gain disease\n",
      "Failed for 786 wards for urinary incontinence disease\n",
      "Failed for 786 wards for indigestion disease\n",
      "Failed for 786 wards for suicidal disease\n",
      "Failed for 786 wards for constipation disease\n",
      "Failed for 786 wards for edema disease\n",
      "Failed for 786 wards for heartburn disease\n",
      "Failed for 786 wards for joint pain disease\n",
      "Failed for 786 wards for dementia disease\n",
      "Failed for 786 wards for parkinson's disease disease\n",
      "Failed for 786 wards for syncope disease\n",
      "Failed for 786 wards for muscle pain disease\n",
      "Failed for 786 wards for irritable bowel syndrome disease\n",
      "Failed for 786 wards for diarrhea disease\n",
      "Failed for 786 wards for kidney stone disease\n",
      "Failed for 786 wards for headache disease\n",
      "Failed for 786 wards for fever disease\n",
      "Failed for 786 wards for pain disease\n",
      "Failed for 786 wards for itching disease\n",
      "Failed for 786 wards for arthritis disease\n",
      "Failed for 786 wards for asthenia disease\n",
      "Failed for 786 wards for tremor disease\n",
      "Failed for 786 wards for nausea disease\n",
      "Failed for 786 wards for chronic pain disease\n",
      "Failed for 786 wards for anxiety disease\n"
     ]
    },
    {
     "name": "stderr",
     "output_type": "stream",
     "text": [
      "\r",
      " 48%|████▊     | 51/107 [03:42<03:59,  4.28s/it]"
     ]
    },
    {
     "name": "stdout",
     "output_type": "stream",
     "text": [
      "Failed for 786 wards for parkinsonism disease\n",
      "Failed for 786 wards for depressive disorder disease\n",
      "Failed for 786 wards for weight gain disease\n",
      "Failed for 786 wards for urinary incontinence disease\n",
      "Failed for 786 wards for indigestion disease\n",
      "Failed for 786 wards for suicidal disease\n",
      "Failed for 786 wards for constipation disease\n",
      "Failed for 786 wards for edema disease\n",
      "Failed for 786 wards for heartburn disease\n",
      "Failed for 786 wards for joint pain disease\n",
      "Failed for 786 wards for dementia disease\n",
      "Failed for 786 wards for parkinson's disease disease\n",
      "Failed for 786 wards for syncope disease\n",
      "Failed for 786 wards for muscle pain disease\n",
      "Failed for 786 wards for irritable bowel syndrome disease\n",
      "Failed for 786 wards for diarrhea disease\n",
      "Failed for 786 wards for kidney stone disease\n",
      "Failed for 786 wards for headache disease\n",
      "Failed for 786 wards for fever disease\n",
      "Failed for 786 wards for pain disease\n",
      "Failed for 786 wards for itching disease\n",
      "Failed for 786 wards for arthritis disease\n",
      "Failed for 786 wards for asthenia disease\n",
      "Failed for 786 wards for tremor disease\n",
      "Failed for 786 wards for nausea disease\n",
      "Failed for 786 wards for chronic pain disease\n",
      "Failed for 786 wards for anxiety disease\n",
      "Failed for 786 wards for parkinsonism disease\n",
      "Failed for 786 wards for depressive disorder disease\n"
     ]
    },
    {
     "name": "stderr",
     "output_type": "stream",
     "text": [
      "\r",
      " 49%|████▊     | 52/107 [03:47<03:55,  4.28s/it]"
     ]
    },
    {
     "name": "stdout",
     "output_type": "stream",
     "text": [
      "Failed for 786 wards for weight gain disease\n",
      "Failed for 786 wards for urinary incontinence disease\n",
      "Failed for 786 wards for indigestion disease\n",
      "Failed for 786 wards for suicidal disease\n",
      "Failed for 786 wards for constipation disease\n",
      "Failed for 786 wards for edema disease\n",
      "Failed for 786 wards for heartburn disease\n",
      "Failed for 786 wards for joint pain disease\n",
      "Failed for 786 wards for dementia disease\n",
      "Failed for 786 wards for parkinson's disease disease\n",
      "Failed for 786 wards for syncope disease\n",
      "Failed for 786 wards for muscle pain disease\n",
      "Failed for 786 wards for irritable bowel syndrome disease\n",
      "Failed for 786 wards for diarrhea disease\n",
      "Failed for 786 wards for kidney stone disease\n",
      "Failed for 786 wards for headache disease\n",
      "Failed for 786 wards for fever disease\n",
      "Failed for 786 wards for pain disease\n",
      "Failed for 786 wards for itching disease\n",
      "Failed for 786 wards for arthritis disease\n",
      "Failed for 786 wards for asthenia disease\n",
      "Failed for 786 wards for tremor disease\n",
      "Failed for 786 wards for nausea disease\n",
      "Failed for 786 wards for chronic pain disease\n",
      "Failed for 786 wards for anxiety disease\n",
      "Failed for 786 wards for parkinsonism disease\n",
      "Failed for 786 wards for depressive disorder disease\n",
      "Failed for 786 wards for weight gain disease"
     ]
    },
    {
     "name": "stderr",
     "output_type": "stream",
     "text": [
      "\r",
      " 50%|████▉     | 53/107 [03:51<03:51,  4.29s/it]"
     ]
    },
    {
     "name": "stdout",
     "output_type": "stream",
     "text": [
      "\n",
      "Failed for 786 wards for urinary incontinence disease\n",
      "Failed for 786 wards for indigestion disease\n",
      "Failed for 786 wards for suicidal disease\n",
      "Failed for 786 wards for constipation disease\n",
      "Failed for 786 wards for edema disease\n",
      "Failed for 786 wards for heartburn disease\n",
      "Failed for 786 wards for joint pain disease\n",
      "Failed for 786 wards for dementia disease\n",
      "Failed for 786 wards for parkinson's disease disease\n",
      "Failed for 786 wards for syncope disease\n",
      "Failed for 786 wards for muscle pain disease\n",
      "Failed for 786 wards for irritable bowel syndrome disease\n",
      "Failed for 786 wards for diarrhea disease\n",
      "Failed for 786 wards for kidney stone disease\n",
      "Failed for 786 wards for multiple sclerosis disease\n",
      "Failed for 786 wards for headache disease\n",
      "Failed for 786 wards for fever disease\n",
      "Failed for 786 wards for pain disease\n",
      "Failed for 786 wards for itching disease\n",
      "Failed for 786 wards for arthritis disease\n",
      "Failed for 786 wards for asthenia disease\n",
      "Failed for 786 wards for tremor disease\n",
      "Failed for 786 wards for nausea disease\n",
      "Failed for 786 wards for chronic pain disease\n",
      "Failed for 786 wards for anxiety disease\n",
      "Failed for 786 wards for parkinsonism disease\n",
      "Failed for 786 wards for depressive disorder disease\n",
      "Failed for 786 wards for weight gain disease\n"
     ]
    },
    {
     "name": "stderr",
     "output_type": "stream",
     "text": [
      "\r",
      " 50%|█████     | 54/107 [03:55<03:50,  4.34s/it]"
     ]
    },
    {
     "name": "stdout",
     "output_type": "stream",
     "text": [
      "Failed for 786 wards for urinary incontinence disease\n",
      "Failed for 786 wards for indigestion disease\n",
      "Failed for 786 wards for suicidal disease\n",
      "Failed for 786 wards for constipation disease\n",
      "Failed for 786 wards for edema disease\n",
      "Failed for 786 wards for heartburn disease\n",
      "Failed for 786 wards for joint pain disease\n",
      "Failed for 786 wards for dementia disease\n",
      "Failed for 786 wards for muscle pain disease\n",
      "Failed for 786 wards for parkinson's disease disease\n",
      "Failed for 786 wards for irritable bowel syndrome disease\n",
      "Failed for 786 wards for diarrhea disease\n",
      "Failed for 786 wards for headache disease\n",
      "Failed for 786 wards for fever disease\n",
      "Failed for 786 wards for pain disease\n",
      "Failed for 786 wards for itching disease\n",
      "Failed for 786 wards for arthritis disease\n",
      "Failed for 786 wards for asthenia disease\n",
      "Failed for 786 wards for tremor disease\n",
      "Failed for 786 wards for nausea disease\n",
      "Failed for 786 wards for chronic pain disease\n",
      "Failed for 786 wards for anxiety disease\n",
      "Failed for 786 wards for parkinsonism disease\n",
      "Failed for 786 wards for depressive disorder disease\n",
      "Failed for 786 wards for weight gain disease\n"
     ]
    },
    {
     "name": "stderr",
     "output_type": "stream",
     "text": [
      "\r",
      " 51%|█████▏    | 55/107 [03:59<03:39,  4.22s/it]"
     ]
    },
    {
     "name": "stdout",
     "output_type": "stream",
     "text": [
      "Failed for 786 wards for urinary incontinence disease\n",
      "Failed for 786 wards for indigestion disease\n",
      "Failed for 786 wards for suicidal disease\n",
      "Failed for 786 wards for constipation disease\n",
      "Failed for 786 wards for edema disease\n",
      "Failed for 786 wards for heartburn disease\n",
      "Failed for 786 wards for joint pain disease\n",
      "Failed for 786 wards for dementia disease\n",
      "Failed for 786 wards for parkinson's disease disease\n",
      "Failed for 786 wards for muscle pain disease\n",
      "Failed for 786 wards for irritable bowel syndrome disease\n",
      "Failed for 786 wards for diarrhea disease\n",
      "Failed for 786 wards for headache disease\n",
      "Failed for 786 wards for fever disease\n",
      "Failed for 786 wards for pain disease\n",
      "Failed for 786 wards for itching disease\n",
      "Failed for 786 wards for arthritis disease\n",
      "Failed for 786 wards for asthenia disease\n",
      "Failed for 786 wards for tremor disease\n",
      "Failed for 786 wards for nausea disease\n",
      "Failed for 786 wards for chronic pain disease\n",
      "Failed for 786 wards for anxiety disease\n",
      "Failed for 786 wards for parkinsonism disease\n",
      "Failed for 786 wards for depressive disorder disease\n"
     ]
    },
    {
     "name": "stderr",
     "output_type": "stream",
     "text": [
      "\r",
      " 52%|█████▏    | 56/107 [04:03<03:30,  4.12s/it]"
     ]
    },
    {
     "name": "stdout",
     "output_type": "stream",
     "text": [
      "Failed for 786 wards for weight gain disease\n",
      "Failed for 786 wards for urinary incontinence disease\n",
      "Failed for 786 wards for indigestion disease\n",
      "Failed for 786 wards for suicidal disease\n",
      "Failed for 786 wards for constipation disease\n",
      "Failed for 786 wards for edema disease\n",
      "Failed for 786 wards for heartburn disease\n",
      "Failed for 786 wards for joint pain disease\n",
      "Failed for 786 wards for dementia disease\n",
      "Failed for 786 wards for muscle pain disease\n",
      "Failed for 786 wards for parkinson's disease disease\n",
      "Failed for 786 wards for irritable bowel syndrome disease\n",
      "Failed for 786 wards for diarrhea disease\n",
      "Failed for 786 wards for headache disease\n",
      "Failed for 786 wards for fever disease\n",
      "Failed for 786 wards for pain disease\n",
      "Failed for 786 wards for itching disease\n",
      "Failed for 786 wards for arthritis disease\n",
      "Failed for 786 wards for asthenia disease\n",
      "Failed for 786 wards for tremor disease\n",
      "Failed for 786 wards for nausea disease\n",
      "Failed for 786 wards for chronic pain disease\n",
      "Failed for 786 wards for anxiety disease\n",
      "Failed for 786 wards for parkinsonism disease\n",
      "Failed for 786 wards for depressive disorder disease"
     ]
    },
    {
     "name": "stderr",
     "output_type": "stream",
     "text": [
      "\r",
      " 53%|█████▎    | 57/107 [04:07<03:23,  4.06s/it]"
     ]
    },
    {
     "name": "stdout",
     "output_type": "stream",
     "text": [
      "\n",
      "Failed for 786 wards for weight gain disease\n",
      "Failed for 786 wards for urinary incontinence disease\n",
      "Failed for 786 wards for indigestion disease\n",
      "Failed for 786 wards for suicidal disease\n",
      "Failed for 786 wards for constipation disease\n",
      "Failed for 786 wards for edema disease\n",
      "Failed for 786 wards for heartburn disease\n",
      "Failed for 786 wards for joint pain disease\n",
      "Failed for 786 wards for dementia disease\n",
      "Failed for 786 wards for parkinson's disease disease\n",
      "Failed for 786 wards for muscle pain disease\n",
      "Failed for 786 wards for irritable bowel syndrome disease\n",
      "Failed for 786 wards for diarrhea disease\n",
      "Failed for 786 wards for headache disease\n",
      "Failed for 786 wards for fever disease\n",
      "Failed for 786 wards for pain disease\n",
      "Failed for 786 wards for itching disease\n",
      "Failed for 786 wards for arthritis disease\n",
      "Failed for 786 wards for asthenia disease\n",
      "Failed for 786 wards for tremor disease\n",
      "Failed for 786 wards for nausea disease\n",
      "Failed for 786 wards for chronic pain disease\n",
      "Failed for 786 wards for anxiety disease\n",
      "Failed for 786 wards for parkinsonism disease\n",
      "Failed for 786 wards for depressive disorder disease\n",
      "Failed for 786 wards for weight gain disease\n"
     ]
    },
    {
     "name": "stderr",
     "output_type": "stream",
     "text": [
      "\r",
      " 54%|█████▍    | 58/107 [04:11<03:17,  4.03s/it]"
     ]
    },
    {
     "name": "stdout",
     "output_type": "stream",
     "text": [
      "Failed for 786 wards for urinary incontinence disease\n",
      "Failed for 786 wards for indigestion disease\n",
      "Failed for 786 wards for suicidal disease\n",
      "Failed for 786 wards for constipation disease\n",
      "Failed for 786 wards for edema disease\n",
      "Failed for 786 wards for heartburn disease\n",
      "Failed for 786 wards for joint pain disease\n",
      "Failed for 786 wards for dementia disease\n",
      "Failed for 786 wards for parkinson's disease disease\n",
      "Failed for 786 wards for muscle pain disease\n",
      "Failed for 786 wards for irritable bowel syndrome disease\n",
      "Failed for 786 wards for diarrhea disease\n",
      "Failed for 786 wards for headache disease\n",
      "Failed for 786 wards for fever disease\n",
      "Failed for 786 wards for pain disease\n",
      "Failed for 786 wards for itching disease\n",
      "Failed for 786 wards for arthritis disease\n",
      "Failed for 786 wards for asthenia disease\n",
      "Failed for 786 wards for tremor disease\n",
      "Failed for 786 wards for nausea disease\n",
      "Failed for 786 wards for chronic pain disease\n"
     ]
    },
    {
     "name": "stderr",
     "output_type": "stream",
     "text": [
      "\r",
      " 55%|█████▌    | 59/107 [04:15<03:12,  4.01s/it]"
     ]
    },
    {
     "name": "stdout",
     "output_type": "stream",
     "text": [
      "Failed for 786 wards for anxiety disease\n",
      "Failed for 786 wards for parkinsonism disease\n",
      "Failed for 786 wards for depressive disorder disease\n",
      "Failed for 786 wards for weight gain disease\n",
      "Failed for 786 wards for urinary incontinence disease\n",
      "Failed for 786 wards for indigestion disease\n",
      "Failed for 786 wards for suicidal disease\n",
      "Failed for 786 wards for constipation disease\n",
      "Failed for 786 wards for edema disease\n",
      "Failed for 786 wards for heartburn disease\n",
      "Failed for 786 wards for joint pain disease\n",
      "Failed for 786 wards for dementia disease\n",
      "Failed for 786 wards for parkinson's disease disease\n",
      "Failed for 786 wards for syncope disease\n",
      "Failed for 786 wards for muscle pain disease\n",
      "Failed for 786 wards for irritable bowel syndrome disease\n",
      "Failed for 786 wards for diarrhea disease\n",
      "Failed for 786 wards for kidney stone disease\n",
      "Failed for 786 wards for headache disease\n",
      "Failed for 786 wards for fever disease\n",
      "Failed for 786 wards for pain disease\n",
      "Failed for 786 wards for itching disease\n",
      "Failed for 786 wards for arthritis disease\n",
      "Failed for 786 wards for asthenia disease\n",
      "Failed for 786 wards for tremor disease\n",
      "Failed for 786 wards for nausea disease\n",
      "Failed for 786 wards for chronic pain disease\n",
      "Failed for 786 wards for anxiety disease\n"
     ]
    },
    {
     "name": "stderr",
     "output_type": "stream",
     "text": [
      "\r",
      " 56%|█████▌    | 60/107 [04:19<03:12,  4.09s/it]"
     ]
    },
    {
     "name": "stdout",
     "output_type": "stream",
     "text": [
      "Failed for 786 wards for parkinsonism disease\n",
      "Failed for 786 wards for depressive disorder disease\n",
      "Failed for 786 wards for weight gain disease\n",
      "Failed for 786 wards for urinary incontinence disease\n",
      "Failed for 786 wards for indigestion disease\n",
      "Failed for 786 wards for suicidal disease\n",
      "Failed for 786 wards for constipation disease\n",
      "Failed for 786 wards for edema disease\n",
      "Failed for 786 wards for heartburn disease\n",
      "Failed for 786 wards for joint pain disease\n",
      "Failed for 786 wards for dementia disease\n",
      "Failed for 786 wards for parkinson's disease disease\n",
      "Failed for 786 wards for syncope disease\n",
      "Failed for 786 wards for muscle pain disease\n",
      "Failed for 786 wards for irritable bowel syndrome disease\n",
      "Failed for 786 wards for diarrhea disease\n",
      "Failed for 786 wards for kidney stone disease\n",
      "Failed for 786 wards for multiple sclerosis disease\n",
      "Failed for 786 wards for headache disease\n",
      "Failed for 786 wards for fever disease\n",
      "Failed for 786 wards for pain disease\n",
      "Failed for 786 wards for itching disease\n",
      "Failed for 786 wards for arthritis disease\n",
      "Failed for 786 wards for asthenia disease\n",
      "Failed for 786 wards for tremor disease\n",
      "Failed for 786 wards for nausea disease\n",
      "Failed for 786 wards for chronic pain disease\n",
      "Failed for 786 wards for anxiety disease\n",
      "Failed for 786 wards for parkinsonism disease\n",
      "Failed for 786 wards for depressive disorder disease\n"
     ]
    },
    {
     "name": "stderr",
     "output_type": "stream",
     "text": [
      "\r",
      " 57%|█████▋    | 61/107 [04:24<03:13,  4.20s/it]"
     ]
    },
    {
     "name": "stdout",
     "output_type": "stream",
     "text": [
      "Failed for 786 wards for weight gain disease\n",
      "Failed for 786 wards for urinary incontinence disease\n",
      "Failed for 786 wards for indigestion disease\n",
      "Failed for 786 wards for suicidal disease\n",
      "Failed for 786 wards for constipation disease\n",
      "Failed for 786 wards for edema disease\n",
      "Failed for 786 wards for heartburn disease\n",
      "Failed for 786 wards for joint pain disease\n",
      "Failed for 786 wards for dementia disease\n",
      "Failed for 786 wards for parkinson's disease disease\n",
      "Failed for 786 wards for syncope disease\n",
      "Failed for 786 wards for muscle pain disease\n",
      "Failed for 786 wards for irritable bowel syndrome disease\n",
      "Failed for 786 wards for diarrhea disease\n",
      "Failed for 786 wards for kidney stone disease\n",
      "Failed for 786 wards for headache disease\n",
      "Failed for 786 wards for fever disease\n",
      "Failed for 786 wards for pain disease\n",
      "Failed for 786 wards for itching disease\n",
      "Failed for 786 wards for arthritis disease\n",
      "Failed for 786 wards for asthenia disease\n",
      "Failed for 786 wards for tremor disease\n",
      "Failed for 786 wards for nausea disease\n",
      "Failed for 786 wards for chronic pain disease\n",
      "Failed for 786 wards for anxiety disease\n",
      "Failed for 786 wards for parkinsonism disease\n",
      "Failed for 786 wards for depressive disorder disease\n",
      "Failed for 786 wards for weight gain disease\n"
     ]
    },
    {
     "name": "stderr",
     "output_type": "stream",
     "text": [
      "\r",
      " 58%|█████▊    | 62/107 [04:28<03:09,  4.20s/it]"
     ]
    },
    {
     "name": "stdout",
     "output_type": "stream",
     "text": [
      "Failed for 786 wards for urinary incontinence disease\n",
      "Failed for 786 wards for indigestion disease\n",
      "Failed for 786 wards for suicidal disease\n",
      "Failed for 786 wards for constipation disease\n",
      "Failed for 786 wards for edema disease\n",
      "Failed for 786 wards for heartburn disease\n",
      "Failed for 786 wards for joint pain disease\n",
      "Failed for 786 wards for dementia disease\n",
      "Failed for 786 wards for parkinson's disease disease\n",
      "Failed for 786 wards for syncope disease\n",
      "Failed for 786 wards for muscle pain disease\n",
      "Failed for 786 wards for irritable bowel syndrome disease\n",
      "Failed for 786 wards for diarrhea disease\n",
      "Failed for 786 wards for kidney stone disease\n",
      "Failed for 786 wards for headache disease\n",
      "Failed for 786 wards for fever disease\n",
      "Failed for 786 wards for pain disease\n",
      "Failed for 786 wards for itching disease\n",
      "Failed for 786 wards for arthritis disease\n",
      "Failed for 786 wards for asthenia disease\n",
      "Failed for 786 wards for tremor disease\n",
      "Failed for 786 wards for nausea disease\n",
      "Failed for 786 wards for chronic pain disease\n",
      "Failed for 786 wards for anxiety disease\n",
      "Failed for 786 wards for parkinsonism disease\n",
      "Failed for 786 wards for depressive disorder disease"
     ]
    },
    {
     "name": "stderr",
     "output_type": "stream",
     "text": [
      "\r",
      " 59%|█████▉    | 63/107 [04:32<03:07,  4.26s/it]"
     ]
    },
    {
     "name": "stdout",
     "output_type": "stream",
     "text": [
      "\n",
      "Failed for 786 wards for weight gain disease\n",
      "Failed for 786 wards for urinary incontinence disease\n",
      "Failed for 786 wards for indigestion disease\n",
      "Failed for 786 wards for suicidal disease\n",
      "Failed for 786 wards for constipation disease\n",
      "Failed for 786 wards for edema disease\n",
      "Failed for 786 wards for heartburn disease\n",
      "Failed for 786 wards for joint pain disease\n",
      "Failed for 786 wards for dementia disease\n",
      "Failed for 786 wards for parkinson's disease disease\n",
      "Failed for 786 wards for syncope disease\n",
      "Failed for 786 wards for muscle pain disease\n",
      "Failed for 786 wards for irritable bowel syndrome disease\n",
      "Failed for 786 wards for diarrhea disease\n",
      "Failed for 786 wards for kidney stone disease\n",
      "Failed for 786 wards for headache disease\n",
      "Failed for 786 wards for fever disease\n",
      "Failed for 786 wards for pain disease\n",
      "Failed for 786 wards for itching disease\n",
      "Failed for 786 wards for arthritis disease\n",
      "Failed for 786 wards for asthenia disease\n",
      "Failed for 786 wards for tremor disease\n",
      "Failed for 786 wards for nausea disease\n",
      "Failed for 786 wards for chronic pain disease\n",
      "Failed for 786 wards for anxiety disease\n",
      "Failed for 786 wards for parkinsonism disease\n",
      "Failed for 786 wards for depressive disorder disease\n",
      "Failed for 786 wards for weight gain disease\n"
     ]
    },
    {
     "name": "stderr",
     "output_type": "stream",
     "text": [
      "\r",
      " 60%|█████▉    | 64/107 [04:37<03:04,  4.29s/it]"
     ]
    },
    {
     "name": "stdout",
     "output_type": "stream",
     "text": [
      "Failed for 786 wards for urinary incontinence disease\n",
      "Failed for 786 wards for indigestion disease\n",
      "Failed for 786 wards for suicidal disease\n",
      "Failed for 786 wards for constipation disease\n",
      "Failed for 786 wards for edema disease\n",
      "Failed for 786 wards for heartburn disease\n",
      "Failed for 786 wards for joint pain disease\n",
      "Failed for 786 wards for dementia disease\n",
      "Failed for 786 wards for parkinson's disease disease\n",
      "Failed for 786 wards for syncope disease\n",
      "Failed for 786 wards for muscle pain disease\n",
      "Failed for 786 wards for irritable bowel syndrome disease\n",
      "Failed for 786 wards for diarrhea disease\n",
      "Failed for 786 wards for kidney stone disease\n",
      "Failed for 786 wards for headache disease\n",
      "Failed for 786 wards for fever disease\n",
      "Failed for 786 wards for pain disease\n",
      "Failed for 786 wards for itching disease\n",
      "Failed for 786 wards for arthritis disease\n",
      "Failed for 786 wards for asthenia disease\n",
      "Failed for 786 wards for tremor disease\n",
      "Failed for 786 wards for nausea disease\n",
      "Failed for 786 wards for chronic pain disease\n",
      "Failed for 786 wards for anxiety disease\n",
      "Failed for 786 wards for parkinsonism disease\n"
     ]
    },
    {
     "name": "stderr",
     "output_type": "stream",
     "text": [
      "\r",
      " 61%|██████    | 65/107 [04:41<02:58,  4.26s/it]"
     ]
    },
    {
     "name": "stdout",
     "output_type": "stream",
     "text": [
      "Failed for 786 wards for depressive disorder disease\n",
      "Failed for 786 wards for weight gain disease\n",
      "Failed for 786 wards for urinary incontinence disease\n",
      "Failed for 786 wards for indigestion disease\n",
      "Failed for 786 wards for suicidal disease\n",
      "Failed for 786 wards for constipation disease\n",
      "Failed for 786 wards for edema disease\n",
      "Failed for 786 wards for heartburn disease\n",
      "Failed for 786 wards for joint pain disease\n",
      "Failed for 786 wards for dementia disease\n",
      "Failed for 786 wards for parkinson's disease disease\n",
      "Failed for 786 wards for syncope disease\n",
      "Failed for 786 wards for muscle pain disease\n",
      "Failed for 786 wards for irritable bowel syndrome disease\n",
      "Failed for 786 wards for diarrhea disease\n",
      "Failed for 786 wards for kidney stone disease\n",
      "Failed for 786 wards for headache disease\n",
      "Failed for 786 wards for fever disease\n",
      "Failed for 786 wards for pain disease\n",
      "Failed for 786 wards for itching disease\n",
      "Failed for 786 wards for arthritis disease\n",
      "Failed for 786 wards for asthenia disease\n",
      "Failed for 786 wards for tremor disease\n",
      "Failed for 786 wards for nausea disease\n",
      "Failed for 786 wards for chronic pain disease\n",
      "Failed for 786 wards for anxiety disease\n",
      "Failed for 786 wards for parkinsonism disease\n",
      "Failed for 786 wards for depressive disorder disease\n"
     ]
    },
    {
     "name": "stderr",
     "output_type": "stream",
     "text": [
      "\r",
      " 62%|██████▏   | 66/107 [04:45<02:54,  4.26s/it]"
     ]
    },
    {
     "name": "stdout",
     "output_type": "stream",
     "text": [
      "Failed for 786 wards for weight gain disease\n",
      "Failed for 786 wards for urinary incontinence disease\n",
      "Failed for 786 wards for indigestion disease\n",
      "Failed for 786 wards for suicidal disease\n",
      "Failed for 786 wards for constipation disease\n",
      "Failed for 786 wards for edema disease\n",
      "Failed for 786 wards for heartburn disease\n",
      "Failed for 786 wards for joint pain disease\n",
      "Failed for 786 wards for dementia disease\n",
      "Failed for 786 wards for parkinson's disease disease\n",
      "Failed for 786 wards for syncope disease\n",
      "Failed for 786 wards for muscle pain disease\n",
      "Failed for 786 wards for irritable bowel syndrome disease\n",
      "Failed for 786 wards for diarrhea disease\n",
      "Failed for 786 wards for kidney stone disease\n",
      "Failed for 786 wards for headache disease\n",
      "Failed for 786 wards for fever disease\n",
      "Failed for 786 wards for pain disease\n",
      "Failed for 786 wards for itching disease\n",
      "Failed for 786 wards for arthritis disease\n",
      "Failed for 786 wards for asthenia disease\n",
      "Failed for 786 wards for tremor disease\n",
      "Failed for 786 wards for nausea disease\n",
      "Failed for 786 wards for chronic pain disease\n",
      "Failed for 786 wards for anxiety disease\n",
      "Failed for 786 wards for parkinsonism disease\n",
      "Failed for 786 wards for depressive disorder disease\n",
      "Failed for 786 wards for weight gain disease\n",
      "Failed for 786 wards for urinary incontinence disease\n"
     ]
    },
    {
     "name": "stderr",
     "output_type": "stream",
     "text": [
      "\r",
      " 63%|██████▎   | 67/107 [04:50<02:51,  4.30s/it]"
     ]
    },
    {
     "name": "stdout",
     "output_type": "stream",
     "text": [
      "Failed for 786 wards for indigestion disease\n",
      "Failed for 786 wards for suicidal disease\n",
      "Failed for 786 wards for constipation disease\n",
      "Failed for 786 wards for edema disease\n",
      "Failed for 786 wards for heartburn disease\n",
      "Failed for 786 wards for joint pain disease\n",
      "Failed for 786 wards for dementia disease\n",
      "Failed for 786 wards for parkinson's disease disease\n",
      "Failed for 786 wards for syncope disease\n",
      "Failed for 786 wards for muscle pain disease\n",
      "Failed for 786 wards for irritable bowel syndrome disease\n",
      "Failed for 786 wards for diarrhea disease\n",
      "Failed for 786 wards for kidney stone disease\n",
      "Failed for 786 wards for multiple sclerosis disease\n",
      "Failed for 786 wards for headache disease\n",
      "Failed for 786 wards for fever disease\n",
      "Failed for 786 wards for pain disease\n",
      "Failed for 786 wards for itching disease\n",
      "Failed for 786 wards for arthritis disease\n",
      "Failed for 786 wards for asthenia disease\n",
      "Failed for 786 wards for tremor disease\n",
      "Failed for 786 wards for nausea disease\n",
      "Failed for 786 wards for chronic pain disease\n",
      "Failed for 786 wards for anxiety disease\n"
     ]
    },
    {
     "name": "stderr",
     "output_type": "stream",
     "text": [
      "\r",
      " 64%|██████▎   | 68/107 [04:54<02:49,  4.35s/it]"
     ]
    },
    {
     "name": "stdout",
     "output_type": "stream",
     "text": [
      "Failed for 786 wards for parkinsonism disease\n",
      "Failed for 786 wards for depressive disorder disease\n",
      "Failed for 786 wards for weight gain disease\n",
      "Failed for 786 wards for urinary incontinence disease\n",
      "Failed for 786 wards for indigestion disease\n",
      "Failed for 786 wards for suicidal disease\n",
      "Failed for 786 wards for constipation disease\n",
      "Failed for 786 wards for edema disease\n",
      "Failed for 786 wards for heartburn disease\n",
      "Failed for 786 wards for joint pain disease\n",
      "Failed for 786 wards for dementia disease\n",
      "Failed for 786 wards for parkinson's disease disease\n",
      "Failed for 786 wards for syncope disease\n",
      "Failed for 786 wards for muscle pain disease\n",
      "Failed for 786 wards for irritable bowel syndrome disease\n",
      "Failed for 786 wards for diarrhea disease\n",
      "Failed for 786 wards for kidney stone disease\n",
      "Failed for 786 wards for headache disease\n",
      "Failed for 786 wards for fever disease\n",
      "Failed for 786 wards for pain disease\n",
      "Failed for 786 wards for itching disease\n",
      "Failed for 786 wards for arthritis disease\n",
      "Failed for 786 wards for asthenia disease\n",
      "Failed for 786 wards for tremor disease\n",
      "Failed for 786 wards for nausea disease\n",
      "Failed for 786 wards for chronic pain disease\n",
      "Failed for 786 wards for anxiety disease\n",
      "Failed for 786 wards for parkinsonism disease\n",
      "Failed for 786 wards for depressive disorder disease\n",
      "Failed for 786 wards for weight gain disease\n"
     ]
    },
    {
     "name": "stderr",
     "output_type": "stream",
     "text": [
      "\r",
      " 64%|██████▍   | 69/107 [04:58<02:44,  4.34s/it]"
     ]
    },
    {
     "name": "stdout",
     "output_type": "stream",
     "text": [
      "Failed for 786 wards for urinary incontinence disease\n",
      "Failed for 786 wards for indigestion disease\n",
      "Failed for 786 wards for suicidal disease\n",
      "Failed for 786 wards for constipation disease\n",
      "Failed for 786 wards for edema disease\n",
      "Failed for 786 wards for heartburn disease\n",
      "Failed for 786 wards for joint pain disease\n",
      "Failed for 786 wards for dementia disease\n",
      "Failed for 786 wards for parkinson's disease disease\n",
      "Failed for 786 wards for syncope disease\n",
      "Failed for 786 wards for muscle pain disease\n",
      "Failed for 786 wards for irritable bowel syndrome disease\n",
      "Failed for 786 wards for diarrhea disease\n",
      "Failed for 786 wards for kidney stone disease\n",
      "Failed for 786 wards for headache disease\n",
      "Failed for 786 wards for fever disease\n",
      "Failed for 786 wards for pain disease\n",
      "Failed for 786 wards for itching disease\n",
      "Failed for 786 wards for arthritis disease\n",
      "Failed for 786 wards for asthenia disease\n",
      "Failed for 786 wards for tremor disease\n",
      "Failed for 786 wards for nausea disease\n",
      "Failed for 786 wards for chronic pain disease\n",
      "Failed for 786 wards for anxiety disease\n",
      "Failed for 786 wards for parkinsonism disease\n",
      "Failed for 786 wards for depressive disorder disease\n"
     ]
    },
    {
     "name": "stderr",
     "output_type": "stream",
     "text": [
      "\r",
      " 65%|██████▌   | 70/107 [05:03<02:40,  4.33s/it]"
     ]
    },
    {
     "name": "stdout",
     "output_type": "stream",
     "text": [
      "Failed for 786 wards for weight gain disease\n",
      "Failed for 786 wards for urinary incontinence disease\n",
      "Failed for 786 wards for indigestion disease\n",
      "Failed for 786 wards for suicidal disease\n",
      "Failed for 786 wards for constipation disease\n",
      "Failed for 786 wards for edema disease\n",
      "Failed for 786 wards for heartburn disease\n",
      "Failed for 786 wards for joint pain disease\n",
      "Failed for 786 wards for dementia disease\n",
      "Failed for 786 wards for parkinson's disease disease\n",
      "Failed for 786 wards for syncope disease\n",
      "Failed for 786 wards for muscle pain disease\n",
      "Failed for 786 wards for irritable bowel syndrome disease\n",
      "Failed for 786 wards for diarrhea disease\n",
      "Failed for 786 wards for kidney stone disease\n",
      "Failed for 786 wards for headache disease\n",
      "Failed for 786 wards for fever disease\n",
      "Failed for 786 wards for pain disease\n",
      "Failed for 786 wards for itching disease\n",
      "Failed for 786 wards for arthritis disease\n",
      "Failed for 786 wards for asthenia disease\n",
      "Failed for 786 wards for tremor disease\n",
      "Failed for 786 wards for nausea disease\n",
      "Failed for 786 wards for chronic pain disease\n",
      "Failed for 786 wards for anxiety disease\n",
      "Failed for 786 wards for parkinsonism disease\n",
      "Failed for 786 wards for depressive disorder disease\n"
     ]
    },
    {
     "name": "stderr",
     "output_type": "stream",
     "text": [
      "\r",
      " 66%|██████▋   | 71/107 [05:07<02:37,  4.38s/it]"
     ]
    },
    {
     "name": "stdout",
     "output_type": "stream",
     "text": [
      "Failed for 786 wards for weight gain disease\n",
      "Failed for 786 wards for urinary incontinence disease\n",
      "Failed for 786 wards for indigestion disease\n",
      "Failed for 786 wards for suicidal disease\n",
      "Failed for 786 wards for constipation disease\n",
      "Failed for 786 wards for edema disease\n",
      "Failed for 786 wards for heartburn disease\n",
      "Failed for 786 wards for joint pain disease\n",
      "Failed for 786 wards for dementia disease\n",
      "Failed for 786 wards for parkinson's disease disease\n",
      "Failed for 786 wards for muscle pain disease\n",
      "Failed for 786 wards for irritable bowel syndrome disease\n",
      "Failed for 786 wards for diarrhea disease\n",
      "Failed for 786 wards for headache disease\n",
      "Failed for 786 wards for fever disease\n",
      "Failed for 786 wards for pain disease\n",
      "Failed for 786 wards for itching disease\n",
      "Failed for 786 wards for arthritis disease\n",
      "Failed for 786 wards for asthenia disease\n",
      "Failed for 786 wards for tremor disease\n",
      "Failed for 786 wards for nausea disease\n",
      "Failed for 786 wards for chronic pain disease\n",
      "Failed for 786 wards for anxiety disease\n",
      "Failed for 786 wards for parkinsonism disease\n",
      "Failed for 786 wards for depressive disorder disease\n",
      "Failed for 786 wards for weight gain disease\n"
     ]
    },
    {
     "name": "stderr",
     "output_type": "stream",
     "text": [
      "\r",
      " 67%|██████▋   | 72/107 [05:11<02:29,  4.26s/it]"
     ]
    },
    {
     "name": "stdout",
     "output_type": "stream",
     "text": [
      "Failed for 786 wards for urinary incontinence disease\n",
      "Failed for 786 wards for indigestion disease\n",
      "Failed for 786 wards for suicidal disease\n",
      "Failed for 786 wards for constipation disease\n",
      "Failed for 786 wards for edema disease\n",
      "Failed for 786 wards for heartburn disease\n",
      "Failed for 786 wards for joint pain disease\n",
      "Failed for 786 wards for dementia disease\n",
      "Failed for 786 wards for muscle pain disease\n",
      "Failed for 786 wards for parkinson's disease disease\n",
      "Failed for 786 wards for irritable bowel syndrome disease\n",
      "Failed for 786 wards for diarrhea disease\n",
      "Failed for 786 wards for headache disease\n",
      "Failed for 786 wards for fever disease\n",
      "Failed for 786 wards for pain disease\n",
      "Failed for 786 wards for itching disease\n",
      "Failed for 786 wards for arthritis disease\n",
      "Failed for 786 wards for asthenia disease\n",
      "Failed for 786 wards for tremor disease\n",
      "Failed for 786 wards for nausea disease\n",
      "Failed for 786 wards for chronic pain disease\n",
      "Failed for 786 wards for anxiety disease\n",
      "Failed for 786 wards for parkinsonism disease\n"
     ]
    },
    {
     "name": "stderr",
     "output_type": "stream",
     "text": [
      "\r",
      " 68%|██████▊   | 73/107 [05:15<02:22,  4.20s/it]"
     ]
    },
    {
     "name": "stdout",
     "output_type": "stream",
     "text": [
      "Failed for 786 wards for depressive disorder disease\n",
      "Failed for 786 wards for weight gain disease\n",
      "Failed for 786 wards for urinary incontinence disease\n",
      "Failed for 786 wards for indigestion disease\n",
      "Failed for 786 wards for suicidal disease\n",
      "Failed for 786 wards for constipation disease\n",
      "Failed for 786 wards for edema disease\n",
      "Failed for 786 wards for heartburn disease\n",
      "Failed for 786 wards for joint pain disease\n",
      "Failed for 786 wards for dementia disease\n",
      "Failed for 786 wards for parkinson's disease disease\n",
      "Failed for 786 wards for muscle pain disease\n",
      "Failed for 786 wards for irritable bowel syndrome disease\n",
      "Failed for 786 wards for diarrhea disease\n",
      "Failed for 786 wards for headache disease\n",
      "Failed for 786 wards for fever disease\n",
      "Failed for 786 wards for pain disease\n",
      "Failed for 786 wards for itching disease\n",
      "Failed for 786 wards for arthritis disease\n",
      "Failed for 786 wards for asthenia disease\n",
      "Failed for 786 wards for tremor disease\n",
      "Failed for 786 wards for nausea disease\n",
      "Failed for 786 wards for chronic pain disease\n",
      "Failed for 786 wards for anxiety disease\n",
      "Failed for 786 wards for parkinsonism disease\n"
     ]
    },
    {
     "name": "stderr",
     "output_type": "stream",
     "text": [
      "\r",
      " 69%|██████▉   | 74/107 [05:19<02:17,  4.16s/it]"
     ]
    },
    {
     "name": "stdout",
     "output_type": "stream",
     "text": [
      "Failed for 786 wards for depressive disorder disease\n",
      "Failed for 786 wards for weight gain disease\n",
      "Failed for 786 wards for urinary incontinence disease\n",
      "Failed for 786 wards for indigestion disease\n",
      "Failed for 786 wards for suicidal disease\n",
      "Failed for 786 wards for constipation disease\n",
      "Failed for 786 wards for edema disease\n",
      "Failed for 786 wards for heartburn disease\n",
      "Failed for 786 wards for joint pain disease\n",
      "Failed for 786 wards for dementia disease\n",
      "Failed for 786 wards for muscle pain disease\n",
      "Failed for 786 wards for parkinson's disease disease\n",
      "Failed for 786 wards for irritable bowel syndrome disease\n",
      "Failed for 786 wards for diarrhea disease\n",
      "Failed for 786 wards for headache disease\n",
      "Failed for 786 wards for fever disease\n",
      "Failed for 786 wards for pain disease\n",
      "Failed for 786 wards for itching disease\n",
      "Failed for 786 wards for arthritis disease\n",
      "Failed for 786 wards for asthenia disease\n",
      "Failed for 786 wards for tremor disease\n",
      "Failed for 786 wards for nausea disease\n",
      "Failed for 786 wards for chronic pain disease\n",
      "Failed for 786 wards for anxiety disease\n",
      "Failed for 786 wards for parkinsonism disease\n",
      "Failed for 786 wards for depressive disorder disease\n",
      "Failed for 786 wards for weight gain disease\n"
     ]
    },
    {
     "name": "stderr",
     "output_type": "stream",
     "text": [
      "\r",
      " 70%|███████   | 75/107 [05:23<02:11,  4.12s/it]"
     ]
    },
    {
     "name": "stdout",
     "output_type": "stream",
     "text": [
      "Failed for 786 wards for urinary incontinence disease\n",
      "Failed for 786 wards for indigestion disease\n",
      "Failed for 786 wards for suicidal disease\n",
      "Failed for 786 wards for constipation disease\n",
      "Failed for 786 wards for edema disease\n",
      "Failed for 786 wards for heartburn disease\n",
      "Failed for 786 wards for joint pain disease\n",
      "Failed for 786 wards for dementia disease\n",
      "Failed for 786 wards for parkinson's disease disease\n",
      "Failed for 786 wards for muscle pain disease\n",
      "Failed for 786 wards for irritable bowel syndrome disease\n",
      "Failed for 786 wards for diarrhea disease\n",
      "Failed for 786 wards for headache disease\n",
      "Failed for 786 wards for fever disease\n",
      "Failed for 786 wards for pain disease\n",
      "Failed for 786 wards for itching disease\n",
      "Failed for 786 wards for arthritis disease\n",
      "Failed for 786 wards for asthenia disease\n",
      "Failed for 786 wards for tremor disease\n",
      "Failed for 786 wards for nausea disease\n",
      "Failed for 786 wards for chronic pain disease\n",
      "Failed for 786 wards for anxiety disease\n",
      "Failed for 786 wards for parkinsonism disease\n",
      "Failed for 786 wards for depressive disorder disease\n",
      "Failed for 786 wards for weight gain disease"
     ]
    },
    {
     "name": "stderr",
     "output_type": "stream",
     "text": [
      "\r",
      " 71%|███████   | 76/107 [05:28<02:08,  4.13s/it]"
     ]
    },
    {
     "name": "stdout",
     "output_type": "stream",
     "text": [
      "\n",
      "Failed for 786 wards for urinary incontinence disease\n",
      "Failed for 786 wards for indigestion disease\n",
      "Failed for 786 wards for suicidal disease\n",
      "Failed for 786 wards for constipation disease\n",
      "Failed for 786 wards for edema disease\n",
      "Failed for 786 wards for heartburn disease\n",
      "Failed for 786 wards for joint pain disease\n",
      "Failed for 786 wards for dementia disease\n",
      "Failed for 786 wards for parkinson's disease disease\n",
      "Failed for 786 wards for muscle pain disease\n",
      "Failed for 786 wards for irritable bowel syndrome disease\n",
      "Failed for 786 wards for diarrhea disease\n",
      "Failed for 786 wards for multiple sclerosis disease\n",
      "Failed for 786 wards for headache disease\n",
      "Failed for 786 wards for fever disease\n",
      "Failed for 786 wards for pain disease\n",
      "Failed for 786 wards for itching disease\n",
      "Failed for 786 wards for arthritis disease\n",
      "Failed for 786 wards for asthenia disease\n",
      "Failed for 786 wards for tremor disease\n",
      "Failed for 786 wards for nausea disease\n",
      "Failed for 786 wards for chronic pain disease\n",
      "Failed for 786 wards for anxiety disease\n",
      "Failed for 786 wards for parkinsonism disease\n",
      "Failed for 786 wards for depressive disorder disease\n",
      "Failed for 786 wards for weight gain disease\n"
     ]
    },
    {
     "name": "stderr",
     "output_type": "stream",
     "text": [
      "\r",
      " 72%|███████▏  | 77/107 [05:32<02:03,  4.12s/it]"
     ]
    },
    {
     "name": "stdout",
     "output_type": "stream",
     "text": [
      "Failed for 786 wards for urinary incontinence disease\n",
      "Failed for 786 wards for indigestion disease\n",
      "Failed for 786 wards for suicidal disease\n",
      "Failed for 786 wards for constipation disease\n",
      "Failed for 786 wards for edema disease\n",
      "Failed for 786 wards for heartburn disease\n",
      "Failed for 786 wards for joint pain disease\n",
      "Failed for 786 wards for dementia disease\n",
      "Failed for 786 wards for parkinson's disease disease\n",
      "Failed for 786 wards for muscle pain disease\n",
      "Failed for 786 wards for irritable bowel syndrome disease\n",
      "Failed for 786 wards for diarrhea disease\n",
      "Failed for 786 wards for headache disease\n",
      "Failed for 786 wards for fever disease\n",
      "Failed for 786 wards for pain disease\n",
      "Failed for 786 wards for itching disease\n",
      "Failed for 786 wards for arthritis disease\n",
      "Failed for 786 wards for asthenia disease\n",
      "Failed for 786 wards for tremor disease\n",
      "Failed for 786 wards for nausea disease\n",
      "Failed for 786 wards for chronic pain disease\n",
      "Failed for 786 wards for anxiety disease\n",
      "Failed for 786 wards for parkinsonism disease\n"
     ]
    },
    {
     "name": "stderr",
     "output_type": "stream",
     "text": [
      "\r",
      " 73%|███████▎  | 78/107 [05:36<01:59,  4.10s/it]"
     ]
    },
    {
     "name": "stdout",
     "output_type": "stream",
     "text": [
      "Failed for 786 wards for depressive disorder disease\n",
      "Failed for 786 wards for weight gain disease\n",
      "Failed for 786 wards for urinary incontinence disease\n",
      "Failed for 786 wards for indigestion disease\n",
      "Failed for 786 wards for suicidal disease\n",
      "Failed for 786 wards for constipation disease\n",
      "Failed for 786 wards for edema disease\n",
      "Failed for 786 wards for heartburn disease\n",
      "Failed for 786 wards for joint pain disease\n",
      "Failed for 786 wards for dementia disease\n",
      "Failed for 786 wards for parkinson's disease disease\n",
      "Failed for 786 wards for muscle pain disease\n",
      "Failed for 786 wards for irritable bowel syndrome disease\n",
      "Failed for 786 wards for diarrhea disease\n",
      "Failed for 786 wards for headache disease\n",
      "Failed for 786 wards for fever disease\n",
      "Failed for 786 wards for pain disease\n",
      "Failed for 786 wards for itching disease\n",
      "Failed for 786 wards for arthritis disease\n",
      "Failed for 786 wards for asthenia disease\n",
      "Failed for 786 wards for tremor disease\n",
      "Failed for 786 wards for nausea disease\n",
      "Failed for 786 wards for chronic pain disease\n",
      "Failed for 786 wards for anxiety disease\n",
      "Failed for 786 wards for parkinsonism disease\n"
     ]
    },
    {
     "name": "stderr",
     "output_type": "stream",
     "text": [
      "\r",
      " 74%|███████▍  | 79/107 [05:40<01:54,  4.10s/it]"
     ]
    },
    {
     "name": "stdout",
     "output_type": "stream",
     "text": [
      "Failed for 786 wards for depressive disorder disease\n",
      "Failed for 786 wards for weight gain disease\n",
      "Failed for 786 wards for urinary incontinence disease\n",
      "Failed for 786 wards for indigestion disease\n",
      "Failed for 786 wards for suicidal disease\n",
      "Failed for 786 wards for constipation disease\n",
      "Failed for 786 wards for edema disease\n",
      "Failed for 786 wards for heartburn disease\n",
      "Failed for 786 wards for joint pain disease\n",
      "Failed for 786 wards for dementia disease\n",
      "Failed for 786 wards for parkinson's disease disease\n",
      "Failed for 786 wards for muscle pain disease\n",
      "Failed for 786 wards for irritable bowel syndrome disease\n",
      "Failed for 786 wards for diarrhea disease\n",
      "Failed for 786 wards for headache disease\n",
      "Failed for 786 wards for fever disease\n",
      "Failed for 786 wards for pain disease\n",
      "Failed for 786 wards for itching disease\n",
      "Failed for 786 wards for arthritis disease\n",
      "Failed for 786 wards for asthenia disease\n",
      "Failed for 786 wards for tremor disease\n",
      "Failed for 786 wards for nausea disease\n",
      "Failed for 786 wards for chronic pain disease\n"
     ]
    },
    {
     "name": "stderr",
     "output_type": "stream",
     "text": [
      "\r",
      " 75%|███████▍  | 80/107 [05:44<01:49,  4.07s/it]"
     ]
    },
    {
     "name": "stdout",
     "output_type": "stream",
     "text": [
      "Failed for 786 wards for anxiety disease\n",
      "Failed for 786 wards for parkinsonism disease\n",
      "Failed for 786 wards for depressive disorder disease\n",
      "Failed for 786 wards for weight gain disease\n",
      "Failed for 786 wards for urinary incontinence disease\n",
      "Failed for 786 wards for indigestion disease\n",
      "Failed for 786 wards for suicidal disease\n",
      "Failed for 786 wards for constipation disease\n",
      "Failed for 786 wards for edema disease\n",
      "Failed for 786 wards for heartburn disease\n",
      "Failed for 786 wards for joint pain disease\n",
      "Failed for 786 wards for dementia disease\n",
      "Failed for 786 wards for parkinson's disease disease\n",
      "Failed for 786 wards for muscle pain disease\n",
      "Failed for 786 wards for irritable bowel syndrome disease\n",
      "Failed for 786 wards for diarrhea disease\n",
      "Failed for 786 wards for headache disease\n",
      "Failed for 786 wards for fever disease\n",
      "Failed for 786 wards for pain disease\n",
      "Failed for 786 wards for itching disease\n",
      "Failed for 786 wards for arthritis disease\n",
      "Failed for 786 wards for asthenia disease\n",
      "Failed for 786 wards for tremor disease\n",
      "Failed for 786 wards for nausea disease\n",
      "Failed for 786 wards for chronic pain disease\n",
      "Failed for 786 wards for anxiety disease\n",
      "Failed for 786 wards for parkinsonism disease\n",
      "Failed for 786 wards for depressive disorder disease\n",
      "Failed for 786 wards for weight gain disease\n"
     ]
    },
    {
     "name": "stderr",
     "output_type": "stream",
     "text": [
      "\r",
      " 76%|███████▌  | 81/107 [05:48<01:46,  4.10s/it]"
     ]
    },
    {
     "name": "stdout",
     "output_type": "stream",
     "text": [
      "Failed for 786 wards for urinary incontinence disease\n",
      "Failed for 786 wards for indigestion disease\n",
      "Failed for 786 wards for suicidal disease\n",
      "Failed for 786 wards for constipation disease\n",
      "Failed for 786 wards for edema disease\n",
      "Failed for 786 wards for heartburn disease\n",
      "Failed for 786 wards for joint pain disease\n",
      "Failed for 786 wards for dementia disease\n",
      "Failed for 786 wards for parkinson's disease disease\n",
      "Failed for 786 wards for muscle pain disease\n",
      "Failed for 786 wards for irritable bowel syndrome disease\n",
      "Failed for 786 wards for diarrhea disease\n",
      "Failed for 786 wards for headache disease\n",
      "Failed for 786 wards for fever disease\n",
      "Failed for 786 wards for pain disease\n",
      "Failed for 786 wards for itching disease\n",
      "Failed for 786 wards for arthritis disease\n",
      "Failed for 786 wards for asthenia disease\n",
      "Failed for 786 wards for tremor disease\n",
      "Failed for 786 wards for nausea disease\n",
      "Failed for 786 wards for chronic pain disease\n",
      "Failed for 786 wards for anxiety disease\n",
      "Failed for 786 wards for parkinsonism disease\n",
      "Failed for 786 wards for depressive disorder disease\n"
     ]
    },
    {
     "name": "stderr",
     "output_type": "stream",
     "text": [
      "\r",
      " 77%|███████▋  | 82/107 [05:52<01:42,  4.09s/it]"
     ]
    },
    {
     "name": "stdout",
     "output_type": "stream",
     "text": [
      "Failed for 786 wards for weight gain disease\n",
      "Failed for 786 wards for urinary incontinence disease\n",
      "Failed for 786 wards for indigestion disease\n",
      "Failed for 786 wards for suicidal disease\n",
      "Failed for 786 wards for constipation disease\n",
      "Failed for 786 wards for edema disease\n",
      "Failed for 786 wards for heartburn disease\n",
      "Failed for 786 wards for joint pain disease\n",
      "Failed for 786 wards for dementia disease\n",
      "Failed for 786 wards for parkinson's disease disease\n",
      "Failed for 786 wards for muscle pain disease\n",
      "Failed for 786 wards for irritable bowel syndrome disease\n",
      "Failed for 786 wards for diarrhea disease\n",
      "Failed for 786 wards for headache disease\n",
      "Failed for 786 wards for fever disease\n",
      "Failed for 786 wards for pain disease\n",
      "Failed for 786 wards for itching disease\n",
      "Failed for 786 wards for arthritis disease\n",
      "Failed for 786 wards for asthenia disease\n",
      "Failed for 786 wards for tremor disease\n",
      "Failed for 786 wards for nausea disease\n",
      "Failed for 786 wards for chronic pain disease\n",
      "Failed for 786 wards for anxiety disease\n",
      "Failed for 786 wards for parkinsonism disease\n",
      "Failed for 786 wards for depressive disorder disease\n",
      "Failed for 786 wards for weight gain disease\n",
      "Failed for 786 wards for urinary incontinence disease"
     ]
    },
    {
     "name": "stderr",
     "output_type": "stream",
     "text": [
      "\r",
      " 78%|███████▊  | 83/107 [05:56<01:38,  4.09s/it]"
     ]
    },
    {
     "name": "stdout",
     "output_type": "stream",
     "text": [
      "\n",
      "Failed for 786 wards for indigestion disease\n",
      "Failed for 786 wards for suicidal disease\n",
      "Failed for 786 wards for constipation disease\n",
      "Failed for 786 wards for edema disease\n",
      "Failed for 786 wards for heartburn disease\n",
      "Failed for 786 wards for joint pain disease\n",
      "Failed for 786 wards for dementia disease\n",
      "Failed for 786 wards for parkinson's disease disease\n",
      "Failed for 786 wards for syncope disease\n",
      "Failed for 786 wards for muscle pain disease\n",
      "Failed for 786 wards for irritable bowel syndrome disease\n",
      "Failed for 786 wards for diarrhea disease\n",
      "Failed for 786 wards for kidney stone disease\n",
      "Failed for 786 wards for multiple sclerosis disease\n",
      "Failed for 786 wards for headache disease\n",
      "Failed for 786 wards for fever disease\n",
      "Failed for 786 wards for pain disease\n",
      "Failed for 786 wards for itching disease\n",
      "Failed for 786 wards for arthritis disease\n",
      "Failed for 786 wards for asthenia disease\n",
      "Failed for 786 wards for tremor disease\n",
      "Failed for 786 wards for nausea disease\n",
      "Failed for 786 wards for chronic pain disease\n",
      "Failed for 786 wards for anxiety disease\n",
      "Failed for 786 wards for parkinsonism disease\n",
      "Failed for 786 wards for depressive disorder disease\n",
      "Failed for 786 wards for weight gain disease\n"
     ]
    },
    {
     "name": "stderr",
     "output_type": "stream",
     "text": [
      "\r",
      " 79%|███████▊  | 84/107 [06:02<01:49,  4.77s/it]"
     ]
    },
    {
     "name": "stdout",
     "output_type": "stream",
     "text": [
      "Failed for 786 wards for urinary incontinence disease\n",
      "Failed for 786 wards for indigestion disease\n",
      "Failed for 786 wards for suicidal disease\n",
      "Failed for 786 wards for constipation disease\n",
      "Failed for 786 wards for edema disease\n",
      "Failed for 786 wards for heartburn disease\n",
      "Failed for 786 wards for joint pain disease\n",
      "Failed for 786 wards for dementia disease\n",
      "Failed for 786 wards for parkinson's disease disease\n",
      "Failed for 786 wards for syncope disease\n",
      "Failed for 786 wards for muscle pain disease\n",
      "Failed for 786 wards for irritable bowel syndrome disease\n",
      "Failed for 786 wards for diarrhea disease\n",
      "Failed for 786 wards for kidney stone disease\n",
      "Failed for 786 wards for headache disease\n",
      "Failed for 786 wards for fever disease\n",
      "Failed for 786 wards for pain disease\n",
      "Failed for 786 wards for itching disease\n",
      "Failed for 786 wards for arthritis disease\n",
      "Failed for 786 wards for asthenia disease\n",
      "Failed for 786 wards for tremor disease\n",
      "Failed for 786 wards for nausea disease\n",
      "Failed for 786 wards for chronic pain disease\n",
      "Failed for 786 wards for anxiety disease\n",
      "Failed for 786 wards for parkinsonism disease\n"
     ]
    },
    {
     "name": "stderr",
     "output_type": "stream",
     "text": [
      "\r",
      " 79%|███████▉  | 85/107 [06:08<01:47,  4.87s/it]"
     ]
    },
    {
     "name": "stdout",
     "output_type": "stream",
     "text": [
      "Failed for 786 wards for depressive disorder disease\n",
      "Failed for 786 wards for weight gain disease\n",
      "Failed for 786 wards for urinary incontinence disease\n",
      "Failed for 786 wards for indigestion disease\n",
      "Failed for 786 wards for suicidal disease\n",
      "Failed for 786 wards for constipation disease\n",
      "Failed for 786 wards for edema disease\n",
      "Failed for 786 wards for heartburn disease\n",
      "Failed for 786 wards for joint pain disease\n",
      "Failed for 786 wards for dementia disease\n",
      "Failed for 786 wards for parkinson's disease disease\n",
      "Failed for 786 wards for syncope disease\n",
      "Failed for 786 wards for muscle pain disease\n",
      "Failed for 786 wards for irritable bowel syndrome disease\n",
      "Failed for 786 wards for diarrhea disease\n",
      "Failed for 786 wards for kidney stone disease\n",
      "Failed for 786 wards for headache disease\n",
      "Failed for 786 wards for fever disease\n",
      "Failed for 786 wards for pain disease\n",
      "Failed for 786 wards for itching disease\n",
      "Failed for 786 wards for arthritis disease\n",
      "Failed for 786 wards for asthenia disease\n",
      "Failed for 786 wards for tremor disease\n",
      "Failed for 786 wards for nausea disease\n",
      "Failed for 786 wards for chronic pain disease\n",
      "Failed for 786 wards for anxiety disease\n",
      "Failed for 786 wards for parkinsonism disease\n",
      "Failed for 786 wards for depressive disorder disease\n",
      "Failed for 786 wards for weight gain disease\n"
     ]
    },
    {
     "name": "stderr",
     "output_type": "stream",
     "text": [
      "\r",
      " 80%|████████  | 86/107 [06:12<01:39,  4.73s/it]"
     ]
    },
    {
     "name": "stdout",
     "output_type": "stream",
     "text": [
      "Failed for 786 wards for urinary incontinence disease\n",
      "Failed for 786 wards for indigestion disease\n",
      "Failed for 786 wards for suicidal disease\n",
      "Failed for 786 wards for constipation disease\n",
      "Failed for 786 wards for edema disease\n",
      "Failed for 786 wards for heartburn disease\n",
      "Failed for 786 wards for joint pain disease\n",
      "Failed for 786 wards for dementia disease\n",
      "Failed for 786 wards for parkinson's disease disease\n",
      "Failed for 786 wards for syncope disease\n",
      "Failed for 786 wards for muscle pain disease\n",
      "Failed for 786 wards for irritable bowel syndrome disease\n",
      "Failed for 786 wards for diarrhea disease\n",
      "Failed for 786 wards for kidney stone disease\n",
      "Failed for 786 wards for headache disease\n",
      "Failed for 786 wards for fever disease\n",
      "Failed for 786 wards for pain disease\n",
      "Failed for 786 wards for itching disease\n",
      "Failed for 786 wards for arthritis disease\n",
      "Failed for 786 wards for asthenia disease\n",
      "Failed for 786 wards for tremor disease\n",
      "Failed for 786 wards for nausea disease\n",
      "Failed for 786 wards for chronic pain disease\n",
      "Failed for 786 wards for anxiety disease\n",
      "Failed for 786 wards for parkinsonism disease\n",
      "Failed for 786 wards for depressive disorder disease\n",
      "Failed for 786 wards for weight gain disease\n",
      "Failed for 786 wards for urinary incontinence disease\n"
     ]
    },
    {
     "name": "stderr",
     "output_type": "stream",
     "text": [
      "\r",
      " 81%|████████▏ | 87/107 [06:16<01:32,  4.60s/it]"
     ]
    },
    {
     "name": "stdout",
     "output_type": "stream",
     "text": [
      "Failed for 786 wards for indigestion disease\n",
      "Failed for 786 wards for suicidal disease\n",
      "Failed for 786 wards for constipation disease\n",
      "Failed for 786 wards for edema disease\n",
      "Failed for 786 wards for heartburn disease\n",
      "Failed for 786 wards for joint pain disease\n",
      "Failed for 786 wards for dementia disease\n",
      "Failed for 786 wards for parkinson's disease disease\n",
      "Failed for 786 wards for syncope disease\n",
      "Failed for 786 wards for muscle pain disease\n",
      "Failed for 786 wards for irritable bowel syndrome disease\n",
      "Failed for 786 wards for diarrhea disease\n",
      "Failed for 786 wards for kidney stone disease\n",
      "Failed for 786 wards for headache disease\n",
      "Failed for 786 wards for fever disease\n",
      "Failed for 786 wards for pain disease\n",
      "Failed for 786 wards for itching disease\n",
      "Failed for 786 wards for arthritis disease\n",
      "Failed for 786 wards for asthenia disease\n",
      "Failed for 786 wards for tremor disease\n",
      "Failed for 786 wards for nausea disease\n",
      "Failed for 786 wards for chronic pain disease\n",
      "Failed for 786 wards for anxiety disease\n",
      "Failed for 786 wards for parkinsonism disease\n",
      "Failed for 786 wards for depressive disorder disease\n"
     ]
    },
    {
     "name": "stderr",
     "output_type": "stream",
     "text": [
      "\r",
      " 82%|████████▏ | 88/107 [06:20<01:25,  4.49s/it]"
     ]
    },
    {
     "name": "stdout",
     "output_type": "stream",
     "text": [
      "Failed for 786 wards for weight gain disease\n",
      "Failed for 786 wards for urinary incontinence disease\n",
      "Failed for 786 wards for indigestion disease\n",
      "Failed for 786 wards for suicidal disease\n",
      "Failed for 786 wards for constipation disease\n",
      "Failed for 786 wards for edema disease\n",
      "Failed for 786 wards for heartburn disease\n",
      "Failed for 786 wards for joint pain disease\n",
      "Failed for 786 wards for dementia disease\n",
      "Failed for 786 wards for parkinson's disease disease\n",
      "Failed for 786 wards for syncope disease\n",
      "Failed for 786 wards for muscle pain disease\n",
      "Failed for 786 wards for irritable bowel syndrome disease\n",
      "Failed for 786 wards for diarrhea disease\n",
      "Failed for 786 wards for kidney stone disease\n",
      "Failed for 786 wards for headache disease\n",
      "Failed for 786 wards for fever disease\n",
      "Failed for 786 wards for pain disease\n",
      "Failed for 786 wards for itching disease\n",
      "Failed for 786 wards for arthritis disease\n",
      "Failed for 786 wards for asthenia disease\n",
      "Failed for 786 wards for tremor disease\n",
      "Failed for 786 wards for nausea disease\n",
      "Failed for 786 wards for chronic pain disease\n",
      "Failed for 786 wards for anxiety disease\n",
      "Failed for 786 wards for parkinsonism disease\n",
      "Failed for 786 wards for depressive disorder disease\n"
     ]
    },
    {
     "name": "stderr",
     "output_type": "stream",
     "text": [
      "\r",
      " 83%|████████▎ | 89/107 [06:25<01:20,  4.47s/it]"
     ]
    },
    {
     "name": "stdout",
     "output_type": "stream",
     "text": [
      "Failed for 786 wards for weight gain disease\n",
      "Failed for 786 wards for urinary incontinence disease\n",
      "Failed for 786 wards for indigestion disease\n",
      "Failed for 786 wards for suicidal disease\n",
      "Failed for 786 wards for constipation disease\n",
      "Failed for 786 wards for edema disease\n",
      "Failed for 786 wards for heartburn disease\n",
      "Failed for 786 wards for joint pain disease\n",
      "Failed for 786 wards for dementia disease\n",
      "Failed for 786 wards for parkinson's disease disease\n",
      "Failed for 786 wards for syncope disease\n",
      "Failed for 786 wards for muscle pain disease\n",
      "Failed for 786 wards for irritable bowel syndrome disease\n",
      "Failed for 786 wards for diarrhea disease\n",
      "Failed for 786 wards for kidney stone disease\n",
      "Failed for 786 wards for multiple sclerosis disease\n",
      "Failed for 786 wards for headache disease\n",
      "Failed for 786 wards for fever disease\n",
      "Failed for 786 wards for pain disease\n",
      "Failed for 786 wards for itching disease\n",
      "Failed for 786 wards for arthritis disease\n",
      "Failed for 786 wards for asthenia disease\n",
      "Failed for 786 wards for tremor disease\n",
      "Failed for 786 wards for nausea disease\n",
      "Failed for 786 wards for chronic pain disease\n",
      "Failed for 786 wards for anxiety disease\n",
      "Failed for 786 wards for parkinsonism disease\n",
      "Failed for 786 wards for depressive disorder disease\n",
      "Failed for 786 wards for weight gain disease\n",
      "Failed for 786 wards for urinary incontinence disease\n"
     ]
    },
    {
     "name": "stderr",
     "output_type": "stream",
     "text": [
      "\r",
      " 84%|████████▍ | 90/107 [06:29<01:15,  4.46s/it]"
     ]
    },
    {
     "name": "stdout",
     "output_type": "stream",
     "text": [
      "Failed for 786 wards for indigestion disease\n",
      "Failed for 786 wards for suicidal disease\n",
      "Failed for 786 wards for constipation disease\n",
      "Failed for 786 wards for edema disease\n",
      "Failed for 786 wards for heartburn disease\n",
      "Failed for 786 wards for joint pain disease\n",
      "Failed for 786 wards for dementia disease\n",
      "Failed for 786 wards for parkinson's disease disease\n",
      "Failed for 786 wards for syncope disease\n",
      "Failed for 786 wards for muscle pain disease\n",
      "Failed for 786 wards for irritable bowel syndrome disease\n",
      "Failed for 786 wards for diarrhea disease\n",
      "Failed for 786 wards for kidney stone disease\n",
      "Failed for 786 wards for headache disease\n",
      "Failed for 786 wards for fever disease\n",
      "Failed for 786 wards for pain disease\n",
      "Failed for 786 wards for itching disease\n",
      "Failed for 786 wards for arthritis disease\n",
      "Failed for 786 wards for asthenia disease\n",
      "Failed for 786 wards for tremor disease\n",
      "Failed for 786 wards for nausea disease\n",
      "Failed for 786 wards for chronic pain disease\n",
      "Failed for 786 wards for anxiety disease\n"
     ]
    },
    {
     "name": "stderr",
     "output_type": "stream",
     "text": [
      "\r",
      " 85%|████████▌ | 91/107 [06:34<01:10,  4.40s/it]"
     ]
    },
    {
     "name": "stdout",
     "output_type": "stream",
     "text": [
      "Failed for 786 wards for parkinsonism disease\n",
      "Failed for 786 wards for depressive disorder disease\n",
      "Failed for 786 wards for weight gain disease\n",
      "Failed for 786 wards for urinary incontinence disease\n",
      "Failed for 786 wards for indigestion disease\n",
      "Failed for 786 wards for suicidal disease\n",
      "Failed for 786 wards for constipation disease\n",
      "Failed for 786 wards for edema disease\n",
      "Failed for 786 wards for heartburn disease\n",
      "Failed for 786 wards for joint pain disease\n",
      "Failed for 786 wards for dementia disease\n",
      "Failed for 786 wards for parkinson's disease disease\n",
      "Failed for 786 wards for syncope disease\n",
      "Failed for 786 wards for muscle pain disease\n",
      "Failed for 786 wards for irritable bowel syndrome disease\n",
      "Failed for 786 wards for diarrhea disease\n",
      "Failed for 786 wards for kidney stone disease\n",
      "Failed for 786 wards for headache disease\n",
      "Failed for 786 wards for fever disease\n",
      "Failed for 786 wards for pain disease\n",
      "Failed for 786 wards for itching disease\n",
      "Failed for 786 wards for arthritis disease\n",
      "Failed for 786 wards for asthenia disease\n",
      "Failed for 786 wards for tremor disease\n",
      "Failed for 786 wards for nausea disease\n",
      "Failed for 786 wards for chronic pain disease\n",
      "Failed for 786 wards for anxiety disease\n",
      "Failed for 786 wards for parkinsonism disease\n",
      "Failed for 786 wards for depressive disorder disease\n"
     ]
    },
    {
     "name": "stderr",
     "output_type": "stream",
     "text": [
      "\r",
      " 86%|████████▌ | 92/107 [06:38<01:06,  4.42s/it]"
     ]
    },
    {
     "name": "stdout",
     "output_type": "stream",
     "text": [
      "Failed for 786 wards for weight gain disease\n",
      "Failed for 786 wards for urinary incontinence disease\n",
      "Failed for 786 wards for indigestion disease\n",
      "Failed for 786 wards for suicidal disease\n",
      "Failed for 786 wards for constipation disease\n",
      "Failed for 786 wards for edema disease\n",
      "Failed for 786 wards for heartburn disease\n",
      "Failed for 786 wards for joint pain disease\n",
      "Failed for 786 wards for dementia disease\n",
      "Failed for 786 wards for parkinson's disease disease\n",
      "Failed for 786 wards for syncope disease\n",
      "Failed for 786 wards for muscle pain disease\n",
      "Failed for 786 wards for irritable bowel syndrome disease\n",
      "Failed for 786 wards for diarrhea disease\n",
      "Failed for 786 wards for kidney stone disease\n",
      "Failed for 786 wards for headache disease\n",
      "Failed for 786 wards for fever disease\n",
      "Failed for 786 wards for pain disease\n",
      "Failed for 786 wards for itching disease\n",
      "Failed for 786 wards for arthritis disease\n",
      "Failed for 786 wards for asthenia disease\n",
      "Failed for 786 wards for tremor disease\n",
      "Failed for 786 wards for nausea disease\n",
      "Failed for 786 wards for chronic pain disease\n",
      "Failed for 786 wards for anxiety disease\n"
     ]
    },
    {
     "name": "stderr",
     "output_type": "stream",
     "text": [
      "\r",
      " 87%|████████▋ | 93/107 [06:42<01:01,  4.42s/it]"
     ]
    },
    {
     "name": "stdout",
     "output_type": "stream",
     "text": [
      "Failed for 786 wards for parkinsonism disease\n",
      "Failed for 786 wards for depressive disorder disease\n",
      "Failed for 786 wards for weight gain disease\n",
      "Failed for 786 wards for urinary incontinence disease\n",
      "Failed for 786 wards for indigestion disease\n",
      "Failed for 786 wards for suicidal disease\n",
      "Failed for 786 wards for constipation disease\n",
      "Failed for 786 wards for edema disease\n",
      "Failed for 786 wards for heartburn disease\n",
      "Failed for 786 wards for joint pain disease\n",
      "Failed for 786 wards for dementia disease\n",
      "Failed for 786 wards for parkinson's disease disease\n",
      "Failed for 786 wards for syncope disease\n",
      "Failed for 786 wards for muscle pain disease\n",
      "Failed for 786 wards for irritable bowel syndrome disease\n",
      "Failed for 786 wards for diarrhea disease\n",
      "Failed for 786 wards for kidney stone disease\n",
      "Failed for 786 wards for headache disease\n",
      "Failed for 786 wards for fever disease\n",
      "Failed for 786 wards for pain disease\n",
      "Failed for 786 wards for itching disease\n",
      "Failed for 786 wards for arthritis disease\n",
      "Failed for 786 wards for asthenia disease\n",
      "Failed for 786 wards for tremor disease\n",
      "Failed for 786 wards for nausea disease\n",
      "Failed for 786 wards for chronic pain disease\n",
      "Failed for 786 wards for anxiety disease\n",
      "Failed for 786 wards for parkinsonism disease\n",
      "Failed for 786 wards for depressive disorder disease\n"
     ]
    },
    {
     "name": "stderr",
     "output_type": "stream",
     "text": [
      "\r",
      " 88%|████████▊ | 94/107 [06:47<00:56,  4.36s/it]"
     ]
    },
    {
     "name": "stdout",
     "output_type": "stream",
     "text": [
      "Failed for 786 wards for weight gain disease\n",
      "Failed for 786 wards for urinary incontinence disease\n",
      "Failed for 786 wards for indigestion disease\n",
      "Failed for 786 wards for suicidal disease\n",
      "Failed for 786 wards for constipation disease\n",
      "Failed for 786 wards for edema disease\n",
      "Failed for 786 wards for heartburn disease\n",
      "Failed for 786 wards for joint pain disease\n",
      "Failed for 786 wards for dementia disease\n",
      "Failed for 786 wards for parkinson's disease disease\n",
      "Failed for 786 wards for syncope disease\n",
      "Failed for 786 wards for muscle pain disease\n",
      "Failed for 786 wards for irritable bowel syndrome disease\n",
      "Failed for 786 wards for diarrhea disease\n",
      "Failed for 786 wards for kidney stone disease\n",
      "Failed for 786 wards for headache disease\n",
      "Failed for 786 wards for fever disease\n",
      "Failed for 786 wards for pain disease\n",
      "Failed for 786 wards for itching disease\n",
      "Failed for 786 wards for arthritis disease\n",
      "Failed for 786 wards for asthenia disease\n",
      "Failed for 786 wards for tremor disease\n",
      "Failed for 786 wards for nausea disease\n",
      "Failed for 786 wards for chronic pain disease\n",
      "Failed for 786 wards for anxiety disease\n",
      "Failed for 786 wards for parkinsonism disease\n"
     ]
    },
    {
     "name": "stderr",
     "output_type": "stream",
     "text": [
      "\r",
      " 89%|████████▉ | 95/107 [06:51<00:52,  4.34s/it]"
     ]
    },
    {
     "name": "stdout",
     "output_type": "stream",
     "text": [
      "Failed for 786 wards for depressive disorder disease\n",
      "Failed for 786 wards for weight gain disease\n",
      "Failed for 786 wards for urinary incontinence disease\n",
      "Failed for 786 wards for indigestion disease\n",
      "Failed for 786 wards for suicidal disease\n",
      "Failed for 786 wards for constipation disease\n",
      "Failed for 786 wards for edema disease\n",
      "Failed for 786 wards for heartburn disease\n",
      "Failed for 786 wards for joint pain disease\n",
      "Failed for 786 wards for dementia disease\n",
      "Failed for 786 wards for parkinson's disease disease\n",
      "Failed for 786 wards for muscle pain disease\n",
      "Failed for 786 wards for irritable bowel syndrome disease\n",
      "Failed for 786 wards for diarrhea disease\n",
      "Failed for 786 wards for headache disease\n",
      "Failed for 786 wards for fever disease\n",
      "Failed for 786 wards for pain disease\n",
      "Failed for 786 wards for itching disease\n",
      "Failed for 786 wards for arthritis disease\n",
      "Failed for 786 wards for asthenia disease\n",
      "Failed for 786 wards for tremor disease\n",
      "Failed for 786 wards for nausea disease\n",
      "Failed for 786 wards for chronic pain disease\n",
      "Failed for 786 wards for anxiety disease\n",
      "Failed for 786 wards for parkinsonism disease\n"
     ]
    },
    {
     "name": "stderr",
     "output_type": "stream",
     "text": [
      "\r",
      " 90%|████████▉ | 96/107 [06:55<00:46,  4.22s/it]"
     ]
    },
    {
     "name": "stdout",
     "output_type": "stream",
     "text": [
      "Failed for 786 wards for depressive disorder disease\n",
      "Failed for 786 wards for weight gain disease\n",
      "Failed for 786 wards for urinary incontinence disease\n",
      "Failed for 786 wards for indigestion disease\n",
      "Failed for 786 wards for suicidal disease\n",
      "Failed for 786 wards for constipation disease\n",
      "Failed for 786 wards for edema disease\n",
      "Failed for 786 wards for heartburn disease\n",
      "Failed for 786 wards for joint pain disease\n",
      "Failed for 786 wards for dementia disease\n",
      "Failed for 786 wards for parkinson's disease disease\n",
      "Failed for 786 wards for muscle pain disease\n",
      "Failed for 786 wards for irritable bowel syndrome disease\n",
      "Failed for 786 wards for diarrhea disease\n",
      "Failed for 786 wards for multiple sclerosis disease\n",
      "Failed for 786 wards for headache disease\n",
      "Failed for 786 wards for fever disease\n",
      "Failed for 786 wards for pain disease\n",
      "Failed for 786 wards for itching disease\n",
      "Failed for 786 wards for arthritis disease\n",
      "Failed for 786 wards for asthenia disease\n",
      "Failed for 786 wards for tremor disease\n",
      "Failed for 786 wards for nausea disease\n",
      "Failed for 786 wards for chronic pain disease\n",
      "Failed for 786 wards for anxiety disease\n",
      "Failed for 786 wards for parkinsonism disease\n",
      "Failed for 786 wards for depressive disorder disease\n",
      "Failed for 786 wards for weight gain disease\n"
     ]
    },
    {
     "name": "stderr",
     "output_type": "stream",
     "text": [
      "\r",
      " 91%|█████████ | 97/107 [06:59<00:41,  4.14s/it]"
     ]
    },
    {
     "name": "stdout",
     "output_type": "stream",
     "text": [
      "Failed for 786 wards for urinary incontinence disease\n",
      "Failed for 786 wards for indigestion disease\n",
      "Failed for 786 wards for suicidal disease\n",
      "Failed for 786 wards for constipation disease\n",
      "Failed for 786 wards for edema disease\n",
      "Failed for 786 wards for heartburn disease\n",
      "Failed for 786 wards for joint pain disease\n",
      "Failed for 786 wards for dementia disease\n",
      "Failed for 786 wards for parkinson's disease disease\n",
      "Failed for 786 wards for muscle pain disease\n",
      "Failed for 786 wards for irritable bowel syndrome disease\n",
      "Failed for 786 wards for diarrhea disease\n",
      "Failed for 786 wards for headache disease\n",
      "Failed for 786 wards for fever disease\n",
      "Failed for 786 wards for pain disease\n",
      "Failed for 786 wards for itching disease\n",
      "Failed for 786 wards for arthritis disease\n",
      "Failed for 786 wards for asthenia disease\n",
      "Failed for 786 wards for tremor disease\n",
      "Failed for 786 wards for nausea disease\n",
      "Failed for 786 wards for chronic pain disease\n"
     ]
    },
    {
     "name": "stderr",
     "output_type": "stream",
     "text": [
      "\r",
      " 92%|█████████▏| 98/107 [07:03<00:36,  4.05s/it]"
     ]
    },
    {
     "name": "stdout",
     "output_type": "stream",
     "text": [
      "Failed for 786 wards for anxiety disease\n",
      "Failed for 786 wards for parkinsonism disease\n",
      "Failed for 786 wards for depressive disorder disease\n",
      "Failed for 786 wards for weight gain disease\n",
      "Failed for 786 wards for urinary incontinence disease\n",
      "Failed for 786 wards for indigestion disease\n",
      "Failed for 786 wards for suicidal disease\n",
      "Failed for 786 wards for constipation disease\n",
      "Failed for 786 wards for edema disease\n",
      "Failed for 786 wards for heartburn disease\n",
      "Failed for 786 wards for joint pain disease\n",
      "Failed for 786 wards for dementia disease\n",
      "Failed for 786 wards for parkinson's disease disease\n",
      "Failed for 786 wards for muscle pain disease\n",
      "Failed for 786 wards for irritable bowel syndrome disease\n",
      "Failed for 786 wards for diarrhea disease\n",
      "Failed for 786 wards for headache disease\n",
      "Failed for 786 wards for fever disease\n",
      "Failed for 786 wards for pain disease\n",
      "Failed for 786 wards for itching disease\n",
      "Failed for 786 wards for arthritis disease\n",
      "Failed for 786 wards for asthenia disease\n",
      "Failed for 786 wards for tremor disease\n",
      "Failed for 786 wards for nausea disease\n",
      "Failed for 786 wards for chronic pain disease\n",
      "Failed for 786 wards for anxiety disease\n",
      "Failed for 786 wards for parkinsonism disease\n",
      "Failed for 786 wards for depressive disorder disease\n",
      "Failed for 786 wards for weight gain disease\n"
     ]
    },
    {
     "name": "stderr",
     "output_type": "stream",
     "text": [
      "\r",
      " 93%|█████████▎| 99/107 [07:07<00:31,  4.00s/it]"
     ]
    },
    {
     "name": "stdout",
     "output_type": "stream",
     "text": [
      "Failed for 786 wards for urinary incontinence disease\n",
      "Failed for 786 wards for indigestion disease\n",
      "Failed for 786 wards for suicidal disease\n",
      "Failed for 786 wards for constipation disease\n",
      "Failed for 786 wards for edema disease\n",
      "Failed for 786 wards for heartburn disease\n",
      "Failed for 786 wards for joint pain disease\n",
      "Failed for 786 wards for dementia disease\n",
      "Failed for 786 wards for parkinson's disease disease\n",
      "Failed for 786 wards for muscle pain disease\n",
      "Failed for 786 wards for irritable bowel syndrome disease\n",
      "Failed for 786 wards for diarrhea disease\n",
      "Failed for 786 wards for kidney stone disease\n",
      "Failed for 786 wards for headache disease\n",
      "Failed for 786 wards for fever disease\n",
      "Failed for 786 wards for pain disease\n",
      "Failed for 786 wards for itching disease\n",
      "Failed for 786 wards for arthritis disease\n",
      "Failed for 786 wards for asthenia disease\n",
      "Failed for 786 wards for tremor disease\n",
      "Failed for 786 wards for nausea disease\n",
      "Failed for 786 wards for chronic pain disease\n",
      "Failed for 786 wards for anxiety disease\n",
      "Failed for 786 wards for parkinsonism disease\n"
     ]
    },
    {
     "name": "stderr",
     "output_type": "stream",
     "text": [
      "\r",
      " 93%|█████████▎| 100/107 [07:11<00:28,  4.00s/it]"
     ]
    },
    {
     "name": "stdout",
     "output_type": "stream",
     "text": [
      "Failed for 786 wards for depressive disorder disease\n",
      "Failed for 786 wards for weight gain disease\n",
      "Failed for 786 wards for urinary incontinence disease\n",
      "Failed for 786 wards for indigestion disease\n",
      "Failed for 786 wards for suicidal disease\n",
      "Failed for 786 wards for constipation disease\n",
      "Failed for 786 wards for edema disease\n",
      "Failed for 786 wards for heartburn disease\n",
      "Failed for 786 wards for joint pain disease\n",
      "Failed for 786 wards for dementia disease\n",
      "Failed for 786 wards for parkinson's disease disease\n",
      "Failed for 786 wards for muscle pain disease\n",
      "Failed for 786 wards for irritable bowel syndrome disease\n",
      "Failed for 786 wards for diarrhea disease\n",
      "Failed for 786 wards for kidney stone disease\n",
      "Failed for 786 wards for headache disease\n",
      "Failed for 786 wards for fever disease\n",
      "Failed for 786 wards for pain disease\n",
      "Failed for 786 wards for itching disease\n",
      "Failed for 786 wards for arthritis disease\n",
      "Failed for 786 wards for asthenia disease\n",
      "Failed for 786 wards for tremor disease\n",
      "Failed for 786 wards for nausea disease\n",
      "Failed for 786 wards for chronic pain disease\n",
      "Failed for 786 wards for anxiety disease\n",
      "Failed for 786 wards for parkinsonism disease\n",
      "Failed for 786 wards for depressive disorder disease\n",
      "Failed for 786 wards for weight gain disease\n"
     ]
    },
    {
     "name": "stderr",
     "output_type": "stream",
     "text": [
      "\r",
      " 94%|█████████▍| 101/107 [07:15<00:23,  3.99s/it]"
     ]
    },
    {
     "name": "stdout",
     "output_type": "stream",
     "text": [
      "Failed for 786 wards for urinary incontinence disease\n",
      "Failed for 786 wards for indigestion disease\n",
      "Failed for 786 wards for suicidal disease\n",
      "Failed for 786 wards for constipation disease\n",
      "Failed for 786 wards for edema disease\n",
      "Failed for 786 wards for heartburn disease\n",
      "Failed for 786 wards for joint pain disease\n",
      "Failed for 786 wards for dementia disease\n",
      "Failed for 786 wards for parkinson's disease disease\n",
      "Failed for 786 wards for muscle pain disease\n",
      "Failed for 786 wards for irritable bowel syndrome disease\n",
      "Failed for 786 wards for diarrhea disease\n",
      "Failed for 786 wards for kidney stone disease\n",
      "Failed for 786 wards for headache disease\n",
      "Failed for 786 wards for fever disease\n",
      "Failed for 786 wards for pain disease\n",
      "Failed for 786 wards for itching disease\n",
      "Failed for 786 wards for arthritis disease\n",
      "Failed for 786 wards for asthenia disease\n",
      "Failed for 786 wards for tremor disease\n",
      "Failed for 786 wards for nausea disease\n",
      "Failed for 786 wards for chronic pain disease\n",
      "Failed for 786 wards for anxiety disease\n",
      "Failed for 786 wards for parkinsonism disease\n"
     ]
    },
    {
     "name": "stderr",
     "output_type": "stream",
     "text": [
      "\r",
      " 95%|█████████▌| 102/107 [07:19<00:20,  4.04s/it]"
     ]
    },
    {
     "name": "stdout",
     "output_type": "stream",
     "text": [
      "Failed for 786 wards for depressive disorder disease\n",
      "Failed for 786 wards for weight gain disease\n",
      "Failed for 786 wards for urinary incontinence disease\n",
      "Failed for 786 wards for indigestion disease\n",
      "Failed for 786 wards for suicidal disease\n",
      "Failed for 786 wards for constipation disease\n",
      "Failed for 786 wards for edema disease\n",
      "Failed for 786 wards for heartburn disease\n",
      "Failed for 786 wards for joint pain disease\n",
      "Failed for 786 wards for dementia disease\n",
      "Failed for 786 wards for parkinson's disease disease\n",
      "Failed for 786 wards for muscle pain disease\n",
      "Failed for 786 wards for irritable bowel syndrome disease\n",
      "Failed for 786 wards for diarrhea disease\n",
      "Failed for 786 wards for kidney stone disease\n",
      "Failed for 786 wards for headache disease\n",
      "Failed for 786 wards for fever disease\n",
      "Failed for 786 wards for pain disease\n",
      "Failed for 786 wards for itching disease\n",
      "Failed for 786 wards for arthritis disease\n",
      "Failed for 786 wards for asthenia disease\n",
      "Failed for 786 wards for tremor disease\n",
      "Failed for 786 wards for nausea disease\n",
      "Failed for 786 wards for chronic pain disease\n",
      "Failed for 786 wards for anxiety disease\n",
      "Failed for 786 wards for parkinsonism disease\n",
      "Failed for 786 wards for depressive disorder disease\n"
     ]
    },
    {
     "name": "stderr",
     "output_type": "stream",
     "text": [
      "\r",
      " 96%|█████████▋| 103/107 [07:23<00:16,  4.06s/it]"
     ]
    },
    {
     "name": "stdout",
     "output_type": "stream",
     "text": [
      "Failed for 786 wards for weight gain disease\n",
      "Failed for 786 wards for urinary incontinence disease\n",
      "Failed for 786 wards for indigestion disease\n",
      "Failed for 786 wards for suicidal disease\n",
      "Failed for 786 wards for constipation disease\n",
      "Failed for 786 wards for edema disease\n",
      "Failed for 786 wards for heartburn disease\n",
      "Failed for 786 wards for joint pain disease\n",
      "Failed for 786 wards for dementia disease\n",
      "Failed for 786 wards for parkinson's disease disease\n",
      "Failed for 786 wards for muscle pain disease\n",
      "Failed for 786 wards for irritable bowel syndrome disease\n",
      "Failed for 786 wards for diarrhea disease\n",
      "Failed for 786 wards for kidney stone disease\n",
      "Failed for 786 wards for headache disease\n",
      "Failed for 786 wards for fever disease\n",
      "Failed for 786 wards for pain disease\n",
      "Failed for 786 wards for itching disease\n",
      "Failed for 786 wards for arthritis disease\n",
      "Failed for 786 wards for asthenia disease\n",
      "Failed for 786 wards for tremor disease\n",
      "Failed for 786 wards for nausea disease\n"
     ]
    },
    {
     "name": "stderr",
     "output_type": "stream",
     "text": [
      "\r",
      " 97%|█████████▋| 104/107 [07:27<00:12,  4.11s/it]"
     ]
    },
    {
     "name": "stdout",
     "output_type": "stream",
     "text": [
      "Failed for 786 wards for chronic pain disease\n",
      "Failed for 786 wards for anxiety disease\n",
      "Failed for 786 wards for parkinsonism disease\n",
      "Failed for 786 wards for depressive disorder disease\n",
      "Failed for 786 wards for weight gain disease\n",
      "Failed for 786 wards for urinary incontinence disease\n",
      "Failed for 786 wards for indigestion disease\n",
      "Failed for 786 wards for suicidal disease\n",
      "Failed for 786 wards for constipation disease\n",
      "Failed for 786 wards for edema disease\n",
      "Failed for 786 wards for heartburn disease\n",
      "Failed for 786 wards for joint pain disease\n",
      "Failed for 786 wards for dementia disease\n",
      "Failed for 786 wards for parkinson's disease disease\n",
      "Failed for 786 wards for muscle pain disease\n",
      "Failed for 786 wards for irritable bowel syndrome disease\n",
      "Failed for 786 wards for diarrhea disease\n",
      "Failed for 786 wards for kidney stone disease\n",
      "Failed for 786 wards for headache disease\n",
      "Failed for 786 wards for fever disease\n",
      "Failed for 786 wards for pain disease\n",
      "Failed for 786 wards for itching disease\n",
      "Failed for 786 wards for arthritis disease\n",
      "Failed for 786 wards for asthenia disease\n",
      "Failed for 786 wards for tremor disease\n",
      "Failed for 786 wards for nausea disease\n",
      "Failed for 786 wards for chronic pain disease\n",
      "Failed for 786 wards for anxiety disease\n",
      "Failed for 786 wards for parkinsonism disease\n",
      "Failed for 786 wards for depressive disorder disease\n"
     ]
    },
    {
     "name": "stderr",
     "output_type": "stream",
     "text": [
      "\r",
      " 98%|█████████▊| 105/107 [07:31<00:08,  4.17s/it]"
     ]
    },
    {
     "name": "stdout",
     "output_type": "stream",
     "text": [
      "Failed for 786 wards for weight gain disease\n",
      "Failed for 786 wards for urinary incontinence disease\n",
      "Failed for 786 wards for indigestion disease\n",
      "Failed for 786 wards for suicidal disease\n",
      "Failed for 786 wards for constipation disease\n",
      "Failed for 786 wards for edema disease\n",
      "Failed for 786 wards for heartburn disease\n",
      "Failed for 786 wards for joint pain disease\n",
      "Failed for 786 wards for dementia disease\n",
      "Failed for 786 wards for parkinson's disease disease\n",
      "Failed for 786 wards for syncope disease\n",
      "Failed for 786 wards for muscle pain disease\n",
      "Failed for 786 wards for irritable bowel syndrome disease\n",
      "Failed for 786 wards for diarrhea disease\n",
      "Failed for 786 wards for kidney stone disease\n",
      "Failed for 786 wards for headache disease\n",
      "Failed for 786 wards for fever disease\n",
      "Failed for 786 wards for pain disease\n",
      "Failed for 786 wards for itching disease\n",
      "Failed for 786 wards for arthritis disease\n",
      "Failed for 786 wards for asthenia disease\n",
      "Failed for 786 wards for tremor disease\n",
      "Failed for 786 wards for nausea disease\n",
      "Failed for 786 wards for chronic pain disease\n",
      "Failed for 786 wards for anxiety disease\n"
     ]
    },
    {
     "name": "stderr",
     "output_type": "stream",
     "text": [
      "\r",
      " 99%|█████████▉| 106/107 [07:36<00:04,  4.21s/it]"
     ]
    },
    {
     "name": "stdout",
     "output_type": "stream",
     "text": [
      "Failed for 786 wards for parkinsonism disease\n",
      "Failed for 786 wards for depressive disorder disease\n",
      "Failed for 786 wards for weight gain disease\n",
      "Failed for 786 wards for urinary incontinence disease\n",
      "Failed for 786 wards for indigestion disease\n",
      "Failed for 786 wards for suicidal disease\n",
      "Failed for 786 wards for constipation disease\n",
      "Failed for 786 wards for edema disease\n",
      "Failed for 786 wards for heartburn disease\n",
      "Failed for 786 wards for joint pain disease\n",
      "Failed for 786 wards for dementia disease\n",
      "Failed for 786 wards for muscle pain disease\n",
      "Failed for 786 wards for syncope disease\n",
      "Failed for 786 wards for parkinson's disease disease\n",
      "Failed for 786 wards for irritable bowel syndrome disease\n",
      "Failed for 786 wards for diarrhea disease\n",
      "Failed for 786 wards for kidney stone disease\n",
      "Failed for 786 wards for headache disease\n",
      "Failed for 786 wards for fever disease\n",
      "Failed for 786 wards for pain disease\n",
      "Failed for 786 wards for itching disease\n",
      "Failed for 786 wards for arthritis disease\n",
      "Failed for 786 wards for asthenia disease\n",
      "Failed for 786 wards for tremor disease\n",
      "Failed for 786 wards for nausea disease\n",
      "Failed for 786 wards for chronic pain disease\n",
      "Failed for 786 wards for anxiety disease\n",
      "Failed for 786 wards for parkinsonism disease\n",
      "Failed for 786 wards for depressive disorder disease\n",
      "Failed for 786 wards for weight gain disease\n"
     ]
    },
    {
     "name": "stderr",
     "output_type": "stream",
     "text": [
      "\r",
      "100%|██████████| 107/107 [07:40<00:00,  4.18s/it]"
     ]
    },
    {
     "name": "stdout",
     "output_type": "stream",
     "text": [
      "Failed for 786 wards for urinary incontinence disease\n"
     ]
    },
    {
     "name": "stderr",
     "output_type": "stream",
     "text": [
      "\n"
     ]
    }
   ],
   "source": [
    "Symtom_prevalence_UK_Timeseries = {}\n",
    "for month in tqdm(statistics):\n",
    "    ward_prevalence_UK = {}\n",
    "    ward_disease_prescription_count = {}\n",
    "    \n",
    "    Symtom_prevalence_UK_Timeseries[month] = {}\n",
    "    Symtom_prevalence_UK_Timeseries[month]['Ward_Prevalence'] = {}\n",
    "    Symtom_prevalence_UK_Timeseries[month]['Ward_Prescriptions'] = {}\n",
    "    \n",
    "    LSOA_disease_dosage_count = statistics[month]['Sym']\n",
    "    \n",
    "    for d in LSOA_disease_dosage_count:\n",
    "        if d not in ward_prevalence_UK:\n",
    "            ward_prevalence_UK[d] = {}\n",
    "            ward_disease_prescription_count[d] = {}\n",
    "            failed = 0\n",
    "            for k in wardMap: \n",
    "                try:\n",
    "                    ward_disease_presc = np.sum([LSOA_disease_dosage_count[d][w] for w in wardMap[k] if not np.isnan(LSOA_disease_dosage_count[d][w])])\n",
    "                    ward_disease_prescription_count[d][k] = ward_disease_presc\n",
    "                    ward_prevalence_UK[d][k] = float(ward_disease_presc)/float(population[k])\n",
    "                except:\n",
    "                    failed+=1\n",
    "            print \"Failed for %d wards for %s disease\"%(failed,d)\n",
    "    \n",
    "    Symtom_prevalence_UK_Timeseries[month]['Ward_Prevalence'] = ward_prevalence_UK\n",
    "    Symtom_prevalence_UK_Timeseries[month]['Ward_Prescriptions'] = ward_disease_prescription_count"
   ]
  },
  {
   "cell_type": "code",
   "execution_count": 48,
   "metadata": {
    "ExecuteTime": {
     "end_time": "2020-03-06T12:58:40.434601Z",
     "start_time": "2020-03-06T12:57:59.802872Z"
    },
    "collapsed": true
   },
   "outputs": [],
   "source": [
    "# json.dump(Symtom_prevalence_UK_Timeseries,open('prevalence_symptom_timeseries.json','wb'))\n",
    "symptom = json.load(open('timeSeries_data//prevalence_symptom_timeseries.json','rb'))"
   ]
  },
  {
   "cell_type": "code",
   "execution_count": 49,
   "metadata": {
    "ExecuteTime": {
     "end_time": "2020-03-06T13:01:17.098334Z",
     "start_time": "2020-03-06T13:01:17.086904Z"
    }
   },
   "outputs": [
    {
     "data": {
      "text/plain": [
       "[u'201601',\n",
       " u'201603',\n",
       " u'201602',\n",
       " u'201605',\n",
       " u'201604',\n",
       " u'201607',\n",
       " u'201606',\n",
       " u'201609',\n",
       " u'201608',\n",
       " u'201205',\n",
       " u'201204',\n",
       " u'201207',\n",
       " u'201206',\n",
       " u'201201',\n",
       " u'201203',\n",
       " u'201202',\n",
       " u'201111',\n",
       " u'201110',\n",
       " u'201112',\n",
       " u'201308',\n",
       " u'201510',\n",
       " u'201610',\n",
       " u'201709',\n",
       " u'201701',\n",
       " u'201702',\n",
       " u'201703',\n",
       " u'201704',\n",
       " u'201705',\n",
       " u'201706',\n",
       " u'201707',\n",
       " u'201712',\n",
       " u'201711',\n",
       " u'201710',\n",
       " u'201612',\n",
       " u'201410',\n",
       " u'201411',\n",
       " u'201412',\n",
       " u'201304',\n",
       " u'201305',\n",
       " u'201306',\n",
       " u'201307',\n",
       " u'201301',\n",
       " u'201302',\n",
       " u'201303',\n",
       " u'201611',\n",
       " u'201409',\n",
       " u'201310',\n",
       " u'201810',\n",
       " u'201811',\n",
       " u'201812',\n",
       " u'201403',\n",
       " u'201402',\n",
       " u'201401',\n",
       " u'201407',\n",
       " u'201406',\n",
       " u'201405',\n",
       " u'201404',\n",
       " u'201312',\n",
       " u'201311',\n",
       " u'201408',\n",
       " u'201010',\n",
       " u'201011',\n",
       " u'201012',\n",
       " u'201809',\n",
       " u'201808',\n",
       " u'201807',\n",
       " u'201806',\n",
       " u'201805',\n",
       " u'201804',\n",
       " u'201803',\n",
       " u'201802',\n",
       " u'201801',\n",
       " u'201309',\n",
       " u'201209',\n",
       " u'201009',\n",
       " u'201008',\n",
       " u'201208',\n",
       " u'201508',\n",
       " u'201509',\n",
       " u'201502',\n",
       " u'201503',\n",
       " u'201501',\n",
       " u'201506',\n",
       " u'201507',\n",
       " u'201504',\n",
       " u'201505',\n",
       " u'201708',\n",
       " u'201210',\n",
       " u'201211',\n",
       " u'201906',\n",
       " u'201511',\n",
       " u'201904',\n",
       " u'201905',\n",
       " u'201902',\n",
       " u'201903',\n",
       " u'201901',\n",
       " u'201512',\n",
       " u'201212',\n",
       " u'201108',\n",
       " u'201109',\n",
       " u'201106',\n",
       " u'201107',\n",
       " u'201104',\n",
       " u'201105',\n",
       " u'201102',\n",
       " u'201103',\n",
       " u'201101']"
      ]
     },
     "execution_count": 49,
     "metadata": {},
     "output_type": "execute_result"
    }
   ],
   "source": [
    "symptom.keys()"
   ]
  },
  {
   "cell_type": "code",
   "execution_count": 51,
   "metadata": {
    "ExecuteTime": {
     "end_time": "2020-03-06T13:13:51.073383Z",
     "start_time": "2020-03-06T13:13:51.060544Z"
    }
   },
   "outputs": [
    {
     "data": {
      "text/plain": [
       "[u'indigestion',\n",
       " u'suicidal',\n",
       " u'constipation',\n",
       " u'edema',\n",
       " u'heartburn',\n",
       " u'joint pain',\n",
       " u'dementia',\n",
       " u\"parkinson's disease\",\n",
       " u'syncope',\n",
       " u'muscle pain',\n",
       " u'irritable bowel syndrome',\n",
       " u'diarrhea',\n",
       " u'kidney stone',\n",
       " u'headache',\n",
       " u'fever',\n",
       " u'pain',\n",
       " u'itching',\n",
       " u'arthritis',\n",
       " u'asthenia',\n",
       " u'tremor',\n",
       " u'nausea',\n",
       " u'chronic pain',\n",
       " u'anxiety',\n",
       " u'parkinsonism',\n",
       " u'depressive disorder',\n",
       " u'weight gain',\n",
       " u'urinary incontinence']"
      ]
     },
     "execution_count": 51,
     "metadata": {},
     "output_type": "execute_result"
    }
   ],
   "source": [
    "symptom['201305']['Ward_Prevalence'].keys()"
   ]
  },
  {
   "cell_type": "code",
   "execution_count": 57,
   "metadata": {
    "ExecuteTime": {
     "end_time": "2020-03-06T13:20:25.864479Z",
     "start_time": "2020-03-06T13:20:25.806688Z"
    }
   },
   "outputs": [
    {
     "data": {
      "text/plain": [
       "[u'E05002284',\n",
       " u'E05007241',\n",
       " u'E05000900',\n",
       " u'E05000901',\n",
       " u'E05000902',\n",
       " u'E05000903',\n",
       " u'E05000904',\n",
       " u'E05000905',\n",
       " u'E05000906',\n",
       " u'E05000907',\n",
       " u'E05000908',\n",
       " u'E05000909',\n",
       " u'E05003228',\n",
       " u'E05003229',\n",
       " u'E05011023',\n",
       " u'E05011022',\n",
       " u'E05011025',\n",
       " u'E05011024',\n",
       " u'E05011027',\n",
       " u'E05011026',\n",
       " u'E05003220',\n",
       " u'E05003221',\n",
       " u'E05003222',\n",
       " u'E05003223',\n",
       " u'E05003224',\n",
       " u'E05003225',\n",
       " u'E05003226',\n",
       " u'E05003227',\n",
       " u'E05010166',\n",
       " u'E05007307',\n",
       " u'E05007306',\n",
       " u'E05007305',\n",
       " u'E05007304',\n",
       " u'E05007303',\n",
       " u'E05007302',\n",
       " u'E05007301',\n",
       " u'E05007300',\n",
       " u'E05007309',\n",
       " u'E05007308',\n",
       " u'E05006308',\n",
       " u'E05006309',\n",
       " u'E05010961',\n",
       " u'E05010960',\n",
       " u'E05010967',\n",
       " u'E05010966',\n",
       " u'E05010965',\n",
       " u'E05010964',\n",
       " u'E05006300',\n",
       " u'E05006301',\n",
       " u'E05006302',\n",
       " u'E05006303',\n",
       " u'E05006304',\n",
       " u'E05006305',\n",
       " u'E05006306',\n",
       " u'E05006307',\n",
       " u'E05001626',\n",
       " u'E05001627',\n",
       " u'E05001624',\n",
       " u'E05001625',\n",
       " u'E05001622',\n",
       " u'E05001623',\n",
       " u'E05001620',\n",
       " u'E05001621',\n",
       " u'E05001628',\n",
       " u'E05001629',\n",
       " u'E05010349',\n",
       " u'E05010348',\n",
       " u'E05010347',\n",
       " u'E05010346',\n",
       " u'E05010345',\n",
       " u'E05010344',\n",
       " u'E05010343',\n",
       " u'E05010342',\n",
       " u'E05010341',\n",
       " u'E05010340',\n",
       " u'E05001338',\n",
       " u'E05001339',\n",
       " u'E05005309',\n",
       " u'E05005308',\n",
       " u'E05001330',\n",
       " u'E05001331',\n",
       " u'E05001332',\n",
       " u'E05001333',\n",
       " u'E05001334',\n",
       " u'E05001335',\n",
       " u'E05001336',\n",
       " u'E05001337',\n",
       " u'E05000571',\n",
       " u'E05000570',\n",
       " u'E05000572',\n",
       " u'E05010553',\n",
       " u'E05009369',\n",
       " u'E05009368',\n",
       " u'E05009363',\n",
       " u'E05009362',\n",
       " u'E05009361',\n",
       " u'E05009360',\n",
       " u'E05009367',\n",
       " u'E05009365',\n",
       " u'E05009364',\n",
       " u'E05010178',\n",
       " u'E05010179',\n",
       " u'E05011021',\n",
       " u'E05011020',\n",
       " u'E05011029',\n",
       " u'E05011028',\n",
       " u'E05002066',\n",
       " u'E05000424',\n",
       " u'E05000621',\n",
       " u'E05000620',\n",
       " u'E05000623',\n",
       " u'E05004107',\n",
       " u'E05000157',\n",
       " u'E05004101',\n",
       " u'E05004102',\n",
       " u'E05004103',\n",
       " u'E05002063',\n",
       " u'E05009565',\n",
       " u'E05009564',\n",
       " u'E05009567',\n",
       " u'E05009566',\n",
       " u'E05009561',\n",
       " u'E05009560',\n",
       " u'E05009563',\n",
       " u'E05009562',\n",
       " u'E05009129',\n",
       " u'E05009569',\n",
       " u'E05009568',\n",
       " u'E05009128',\n",
       " u'E05009628',\n",
       " u'E05009629',\n",
       " u'E05009626',\n",
       " u'E05009627',\n",
       " u'E05009624',\n",
       " u'E05009625',\n",
       " u'E05009622',\n",
       " u'E05009623',\n",
       " u'E05009620',\n",
       " u'E05009621',\n",
       " u'E05001433',\n",
       " u'E05001432',\n",
       " u'E05001431',\n",
       " u'E05001430',\n",
       " u'E05001437',\n",
       " u'E05001436',\n",
       " u'E05001435',\n",
       " u'E05001434',\n",
       " u'E05001439',\n",
       " u'E05001438',\n",
       " u'E05007170',\n",
       " u'E05007171',\n",
       " u'E05007172',\n",
       " u'E05007173',\n",
       " u'E05007174',\n",
       " u'E05007175',\n",
       " u'E05007176',\n",
       " u'E05007177',\n",
       " u'E05007178',\n",
       " u'E05007179',\n",
       " u'E05010882',\n",
       " u'E05009194',\n",
       " u'E05009195',\n",
       " u'E05009196',\n",
       " u'E05009197',\n",
       " u'E05009190',\n",
       " u'E05009191',\n",
       " u'E05009192',\n",
       " u'E05009193',\n",
       " u'E05009198',\n",
       " u'E05009199',\n",
       " u'E05010578',\n",
       " u'E05010579',\n",
       " u'E05010570',\n",
       " u'E05010571',\n",
       " u'E05010572',\n",
       " u'E05010573',\n",
       " u'E05010574',\n",
       " u'E05010575',\n",
       " u'E05010576',\n",
       " u'E05010577',\n",
       " u'E05010606',\n",
       " u'E05010607',\n",
       " u'E05002258',\n",
       " u'E05002259',\n",
       " u'E05001299',\n",
       " u'E05001298',\n",
       " u'E05001297',\n",
       " u'E05001296',\n",
       " u'E05001295',\n",
       " u'E05001294',\n",
       " u'E05001293',\n",
       " u'E05001292',\n",
       " u'E05001291',\n",
       " u'E05001290',\n",
       " u'E05008571',\n",
       " u'E05008570',\n",
       " u'E05008573',\n",
       " u'E05008572',\n",
       " u'E05008575',\n",
       " u'E05008574',\n",
       " u'E05008577',\n",
       " u'E05008576',\n",
       " u'E05008579',\n",
       " u'E05008578',\n",
       " u'E05010601',\n",
       " u'E05000742',\n",
       " u'E05000743',\n",
       " u'E05000740',\n",
       " u'E05000741',\n",
       " u'E05000746',\n",
       " u'E05000747',\n",
       " u'E05000212',\n",
       " u'E05000745',\n",
       " u'E05010754',\n",
       " u'E05010755',\n",
       " u'E05010756',\n",
       " u'E05000749',\n",
       " u'E05000218',\n",
       " u'E05000219',\n",
       " u'E05010752',\n",
       " u'E05010753',\n",
       " u'E05005536',\n",
       " u'E05005537',\n",
       " u'E05005534',\n",
       " u'E05005535',\n",
       " u'E05005532',\n",
       " u'E05005533',\n",
       " u'E05005531',\n",
       " u'E05010609',\n",
       " u'E05005538',\n",
       " u'E05005539',\n",
       " u'E05006859',\n",
       " u'E05005446',\n",
       " u'E05000966',\n",
       " u'E05000967',\n",
       " u'E05000964',\n",
       " u'E05000965',\n",
       " u'E05000962',\n",
       " u'E05000963',\n",
       " u'E05000960',\n",
       " u'E05000961',\n",
       " u'E05000968',\n",
       " u'E05000969',\n",
       " u'E05011007',\n",
       " u'E05011006',\n",
       " u'E05011005',\n",
       " u'E05011004',\n",
       " u'E05011003',\n",
       " u'E05011002',\n",
       " u'E05003248',\n",
       " u'E05003249',\n",
       " u'E05003246',\n",
       " u'E05003247',\n",
       " u'E05003244',\n",
       " u'E05003245',\n",
       " u'E05003242',\n",
       " u'E05003243',\n",
       " u'E05003240',\n",
       " u'E05003241',\n",
       " u'E05007369',\n",
       " u'E05007368',\n",
       " u'E05007365',\n",
       " u'E05007364',\n",
       " u'E05007367',\n",
       " u'E05007366',\n",
       " u'E05007361',\n",
       " u'E05007360',\n",
       " u'E05007363',\n",
       " u'E05007362',\n",
       " u'E05008801',\n",
       " u'E05008800',\n",
       " u'E05008803',\n",
       " u'E05008802',\n",
       " u'E05008805',\n",
       " u'E05008804',\n",
       " u'E05008807',\n",
       " u'E05008806',\n",
       " u'E05008809',\n",
       " u'E05008808',\n",
       " u'E05010288',\n",
       " u'E05010289',\n",
       " u'E05004999',\n",
       " u'E05010325',\n",
       " u'E05010324',\n",
       " u'E05006988',\n",
       " u'E05006989',\n",
       " u'E05010321',\n",
       " u'E05010320',\n",
       " u'E05010323',\n",
       " u'E05010322',\n",
       " u'E05006982',\n",
       " u'E05006983',\n",
       " u'E05006980',\n",
       " u'E05006981',\n",
       " u'E05006986',\n",
       " u'E05006987',\n",
       " u'E05006984',\n",
       " u'E05006985',\n",
       " u'E05005323',\n",
       " u'E05005322',\n",
       " u'E05005321',\n",
       " u'E05005320',\n",
       " u'E05005327',\n",
       " u'E05005326',\n",
       " u'E05001358',\n",
       " u'E05001359',\n",
       " u'E05001356',\n",
       " u'E05005986',\n",
       " u'E05001354',\n",
       " u'E05001355',\n",
       " u'E05001352',\n",
       " u'E05001353',\n",
       " u'E05001350',\n",
       " u'E05001351',\n",
       " u'E05000559',\n",
       " u'E05000558',\n",
       " u'E05000557',\n",
       " u'E05000556',\n",
       " u'E05000555',\n",
       " u'E05000554',\n",
       " u'E05000553',\n",
       " u'E05000552',\n",
       " u'E05000551',\n",
       " u'E05000550',\n",
       " u'E05009381',\n",
       " u'E05009380',\n",
       " u'E05009383',\n",
       " u'E05009382',\n",
       " u'E05009385',\n",
       " u'E05009384',\n",
       " u'E05009387',\n",
       " u'E05009386',\n",
       " u'E05009389',\n",
       " u'E05009388',\n",
       " u'E05005187',\n",
       " u'E05005186',\n",
       " u'E05005185',\n",
       " u'E05005184',\n",
       " u'E05005183',\n",
       " u'E05005182',\n",
       " u'E05005181',\n",
       " u'E05005180',\n",
       " u'E05005189',\n",
       " u'E05005188',\n",
       " u'E05004096',\n",
       " u'E05001970',\n",
       " u'E05001971',\n",
       " u'E05008388',\n",
       " u'E05008389',\n",
       " u'E05008382',\n",
       " u'E05008383',\n",
       " u'E05008380',\n",
       " u'E05008381',\n",
       " u'E05008386',\n",
       " u'E05008387',\n",
       " u'E05008384',\n",
       " u'E05008385',\n",
       " u'E05004588',\n",
       " u'E05004589',\n",
       " u'E05004580',\n",
       " u'E05004581',\n",
       " u'E05004582',\n",
       " u'E05004583',\n",
       " u'E05004584',\n",
       " u'E05004585',\n",
       " u'E05004586',\n",
       " u'E05004587',\n",
       " u'E05004093',\n",
       " u'E05009819',\n",
       " u'E05009818',\n",
       " u'E05009549',\n",
       " u'E05009548',\n",
       " u'E05009811',\n",
       " u'E05009810',\n",
       " u'E05009541',\n",
       " u'E05009540',\n",
       " u'E05009815',\n",
       " u'E05009546',\n",
       " u'E05009545',\n",
       " u'E05009544',\n",
       " u'E05002090',\n",
       " u'E05002091',\n",
       " u'E05002092',\n",
       " u'E05002093',\n",
       " u'E05002094',\n",
       " u'E05002095',\n",
       " u'E05002096',\n",
       " u'E05002097',\n",
       " u'E05002098',\n",
       " u'E05002099',\n",
       " u'E05002728',\n",
       " u'E05002729',\n",
       " u'E05009604',\n",
       " u'E05009605',\n",
       " u'E05009606',\n",
       " u'E05009607',\n",
       " u'E05009600',\n",
       " u'E05009601',\n",
       " u'E05009602',\n",
       " u'E05009603',\n",
       " u'E05009608',\n",
       " u'E05009609',\n",
       " u'E05009264',\n",
       " u'E05007116',\n",
       " u'E05007117',\n",
       " u'E05007114',\n",
       " u'E05007115',\n",
       " u'E05007112',\n",
       " u'E05007113',\n",
       " u'E05007110',\n",
       " u'E05007111',\n",
       " u'E05009262',\n",
       " u'E05007118',\n",
       " u'E05007119',\n",
       " u'E05010963',\n",
       " u'E05010962',\n",
       " u'E05001072',\n",
       " u'E05001071',\n",
       " u'E05008638',\n",
       " u'E05008639',\n",
       " u'E05008632',\n",
       " u'E05008633',\n",
       " u'E05008630',\n",
       " u'E05008631',\n",
       " u'E05008636',\n",
       " u'E05008637',\n",
       " u'E05008634',\n",
       " u'E05008635',\n",
       " u'E05009268',\n",
       " u'E05010518',\n",
       " u'E05010519',\n",
       " u'E05010516',\n",
       " u'E05010517',\n",
       " u'E05010514',\n",
       " u'E05010515',\n",
       " u'E05010512',\n",
       " u'E05010513',\n",
       " u'E05010510',\n",
       " u'E05010511',\n",
       " u'E05010968',\n",
       " u'E05000768',\n",
       " u'E05000769',\n",
       " u'E05008555',\n",
       " u'E05008554',\n",
       " u'E05008553',\n",
       " u'E05008552',\n",
       " u'E05008551',\n",
       " u'E05008550',\n",
       " u'E05000760',\n",
       " u'E05000761',\n",
       " u'E05000762',\n",
       " u'E05000763',\n",
       " u'E05000764',\n",
       " u'E05000765',\n",
       " u'E05000766',\n",
       " u'E05008558',\n",
       " u'E05006649',\n",
       " u'E05006648',\n",
       " u'E05006640',\n",
       " u'E05006643',\n",
       " u'E05006642',\n",
       " u'E05006645',\n",
       " u'E05006644',\n",
       " u'E05006647',\n",
       " u'E05006646',\n",
       " u'E05001019',\n",
       " u'E05005510',\n",
       " u'E05000498',\n",
       " u'E05000499',\n",
       " u'E05000496',\n",
       " u'E05000497',\n",
       " u'E05000494',\n",
       " u'E05000495',\n",
       " u'E05000492',\n",
       " u'E05000493',\n",
       " u'E05000490',\n",
       " u'E05000491',\n",
       " u'E05000948',\n",
       " u'E05000949',\n",
       " u'E05004649',\n",
       " u'E05004648',\n",
       " u'E05000944',\n",
       " u'E05000945',\n",
       " u'E05000946',\n",
       " u'E05000947',\n",
       " u'E05000940',\n",
       " u'E05000941',\n",
       " u'E05000942',\n",
       " u'E05000943',\n",
       " u'E05011069',\n",
       " u'E05011068',\n",
       " u'E05011065',\n",
       " u'E05011064',\n",
       " u'E05011067',\n",
       " u'E05011066',\n",
       " u'E05011061',\n",
       " u'E05011060',\n",
       " u'E05011063',\n",
       " u'E05011062',\n",
       " u'E05003264',\n",
       " u'E05003265',\n",
       " u'E05003266',\n",
       " u'E05003267',\n",
       " u'E05003260',\n",
       " u'E05003261',\n",
       " u'E05003262',\n",
       " u'E05003263',\n",
       " u'E05003268',\n",
       " u'E05003269',\n",
       " u'E05007343',\n",
       " u'E05007342',\n",
       " u'E05007341',\n",
       " u'E05007340',\n",
       " u'E05007347',\n",
       " u'E05007346',\n",
       " u'E05007345',\n",
       " u'E05007344',\n",
       " u'E05007349',\n",
       " u'E05007348',\n",
       " u'E05008827',\n",
       " u'E05008826',\n",
       " u'E05008825',\n",
       " u'E05008824',\n",
       " u'E05008823',\n",
       " u'E05008822',\n",
       " u'E05008821',\n",
       " u'E05008820',\n",
       " u'E05008829',\n",
       " u'E05008828',\n",
       " u'E05006550',\n",
       " u'E05002393',\n",
       " u'E05002392',\n",
       " u'E05002391',\n",
       " u'E05002390',\n",
       " u'E05006340',\n",
       " u'E05002396',\n",
       " u'E05002395',\n",
       " u'E05002394',\n",
       " u'E05010159',\n",
       " u'E05010659',\n",
       " u'E05010658',\n",
       " u'E05010309',\n",
       " u'E05010308',\n",
       " u'E05010303',\n",
       " u'E05010302',\n",
       " u'E05010301',\n",
       " u'E05010300',\n",
       " u'E05010307',\n",
       " u'E05010306',\n",
       " u'E05010305',\n",
       " u'E05010304',\n",
       " u'E05009011',\n",
       " u'E05009010',\n",
       " u'E05009013',\n",
       " u'E05009012',\n",
       " u'E05009015',\n",
       " u'E05009014',\n",
       " u'E05009017',\n",
       " u'E05009016',\n",
       " u'E05009019',\n",
       " u'E05009018',\n",
       " u'E05001374',\n",
       " u'E05001375',\n",
       " u'E05001376',\n",
       " u'E05001377',\n",
       " u'E05001370',\n",
       " u'E05001371',\n",
       " u'E05001372',\n",
       " u'E05001373',\n",
       " u'E05001378',\n",
       " u'E05001379',\n",
       " u'E05000535',\n",
       " u'E05000534',\n",
       " u'E05000537',\n",
       " u'E05000536',\n",
       " u'E05000531',\n",
       " u'E05000530',\n",
       " u'E05000533',\n",
       " u'E05000532',\n",
       " u'E05000539',\n",
       " u'E05000538',\n",
       " u'E05000029',\n",
       " u'E05000028',\n",
       " u'E05001950',\n",
       " u'E05001951',\n",
       " u'E05001952',\n",
       " u'E05001953',\n",
       " u'E05001954',\n",
       " u'E05001955',\n",
       " u'E05001956',\n",
       " u'E05001957',\n",
       " u'E05001958',\n",
       " u'E05001959',\n",
       " u'E05004078',\n",
       " u'E05004079',\n",
       " u'E05004070',\n",
       " u'E05004071',\n",
       " u'E05004072',\n",
       " u'E05004073',\n",
       " u'E05004074',\n",
       " u'E05004075',\n",
       " u'E05004076',\n",
       " u'E05004077',\n",
       " u'E05000751',\n",
       " u'E05000750',\n",
       " u'E05000753',\n",
       " u'E05000752',\n",
       " u'E05004258',\n",
       " u'E05004259',\n",
       " u'E05004254',\n",
       " u'E05004255',\n",
       " u'E05004256',\n",
       " u'E05004257',\n",
       " u'E05004250',\n",
       " u'E05004251',\n",
       " u'E05004252',\n",
       " u'E05004253',\n",
       " u'E05000757',\n",
       " u'E05000756',\n",
       " u'E05005305',\n",
       " u'E05005304',\n",
       " u'E05005307',\n",
       " u'E05005306',\n",
       " u'E05005301',\n",
       " u'E05005300',\n",
       " u'E05005303',\n",
       " u'E05001024',\n",
       " u'E05005302',\n",
       " u'E05001025',\n",
       " u'E05009839',\n",
       " u'E05009838',\n",
       " u'E05009837',\n",
       " u'E05009836',\n",
       " u'E05009835',\n",
       " u'E05009834',\n",
       " u'E05009833',\n",
       " u'E05009832',\n",
       " u'E05009831',\n",
       " u'E05009830',\n",
       " u'W05000303',\n",
       " u'W05000304',\n",
       " u'W05000305',\n",
       " u'E05007286',\n",
       " u'E05007287',\n",
       " u'E05007284',\n",
       " u'E05007285',\n",
       " u'E05007282',\n",
       " u'E05007283',\n",
       " u'E05007280',\n",
       " u'E05007281',\n",
       " u'E05007288',\n",
       " u'E05007289',\n",
       " u'E05007138',\n",
       " u'E05007139',\n",
       " u'E05007134',\n",
       " u'E05007135',\n",
       " u'E05007136',\n",
       " u'E05007137',\n",
       " u'E05007130',\n",
       " u'E05007131',\n",
       " u'E05007132',\n",
       " u'E05007133',\n",
       " u'E05002362',\n",
       " u'E05002363',\n",
       " u'E05002360',\n",
       " u'E05006394',\n",
       " u'E050023"
      ]
     },
     "execution_count": 57,
     "metadata": {},
     "output_type": "execute_result"
    },
    {
     "data": {
      "text/html": [
       "<b>limit_output extension: Maximum message size of 10000 exceeded with 15005 characters</b>"
      ]
     },
     "metadata": {},
     "output_type": "display_data"
    }
   ],
   "source": [
    "symptom['201305']['Ward_Prevalence']['kidney stone'].keys()"
   ]
  },
  {
   "cell_type": "code",
   "execution_count": 66,
   "metadata": {
    "ExecuteTime": {
     "end_time": "2020-03-06T13:37:30.196086Z",
     "start_time": "2020-03-06T13:37:29.466653Z"
    },
    "collapsed": true
   },
   "outputs": [],
   "source": [
    "sampled_symptoms = {'year': [] , 'ward' : [] , 'fever' : []}\n",
    "symptom_list = ['fever' ]\n",
    "for k in symptom:\n",
    "    for d in symptom_list:\n",
    "        for p in symptom[k]['Ward_Prevalence'][d]:\n",
    "            sampled_symptoms['year'].append(k)\n",
    "            sampled_symptoms['ward'].append(p)\n",
    "            sampled_symptoms[d].append(symptom[k]['Ward_Prevalence'][d][p])\n",
    "    \n",
    "    "
   ]
  },
  {
   "cell_type": "code",
   "execution_count": 67,
   "metadata": {
    "ExecuteTime": {
     "end_time": "2020-03-06T13:38:24.183257Z",
     "start_time": "2020-03-06T13:38:23.936681Z"
    },
    "collapsed": true
   },
   "outputs": [],
   "source": [
    "importbov_df = pd.DataFrame.from_dict(sampled_symptoms)"
   ]
  },
  {
   "cell_type": "code",
   "execution_count": 68,
   "metadata": {
    "ExecuteTime": {
     "end_time": "2020-03-06T13:39:19.912518Z",
     "start_time": "2020-03-06T13:39:17.828214Z"
    },
    "collapsed": true
   },
   "outputs": [],
   "source": [
    "importbov_df.to_csv('timeSeries_data/fever.csv')"
   ]
  },
  {
   "cell_type": "code",
   "execution_count": 52,
   "metadata": {},
   "outputs": [
    {
     "data": {
      "text/plain": [
       "(array([ 36.,  11.,  10.,   3.,   1.,   6.,  13.,   8.,  12.,  22.,  30.,\n",
       "         32.,  40.,  55.,  68.,  90., 117., 154., 158., 176., 222., 207.,\n",
       "        228., 250., 316., 337., 284., 279., 314., 295., 273., 276., 277.,\n",
       "        250., 276., 246., 210., 210., 196., 162., 147., 133., 139., 131.,\n",
       "        104.,  92.,  88.,  73.,  60.,  46.,  32.,  45.,  26.,  28.,  27.,\n",
       "         26.,  21.,  16.,  20.,   9.,  12.,  12.,   3.,   5.,   6.,   7.,\n",
       "          3.,   3.,   3.,   2.,   1.,   2.,   1.,   2.,   0.,   2.,   0.,\n",
       "          1.,   0.,   0.,   0.,   0.,   1.,   1.,   0.,   0.,   0.,   0.,\n",
       "          0.,   0.,   1.,   1.,   0.,   0.,   0.,   0.,   0.,   0.,   0.,\n",
       "          1.]),\n",
       " array([1.85782898e-03, 2.43812193e-01, 4.85766557e-01, 7.27720922e-01,\n",
       "        9.69675286e-01, 1.21162965e+00, 1.45358401e+00, 1.69553838e+00,\n",
       "        1.93749274e+00, 2.17944711e+00, 2.42140147e+00, 2.66335584e+00,\n",
       "        2.90531020e+00, 3.14726456e+00, 3.38921893e+00, 3.63117329e+00,\n",
       "        3.87312766e+00, 4.11508202e+00, 4.35703639e+00, 4.59899075e+00,\n",
       "        4.84094511e+00, 5.08289948e+00, 5.32485384e+00, 5.56680821e+00,\n",
       "        5.80876257e+00, 6.05071694e+00, 6.29267130e+00, 6.53462566e+00,\n",
       "        6.77658003e+00, 7.01853439e+00, 7.26048876e+00, 7.50244312e+00,\n",
       "        7.74439749e+00, 7.98635185e+00, 8.22830621e+00, 8.47026058e+00,\n",
       "        8.71221494e+00, 8.95416931e+00, 9.19612367e+00, 9.43807804e+00,\n",
       "        9.68003240e+00, 9.92198676e+00, 1.01639411e+01, 1.04058955e+01,\n",
       "        1.06478499e+01, 1.08898042e+01, 1.11317586e+01, 1.13737129e+01,\n",
       "        1.16156673e+01, 1.18576217e+01, 1.20995760e+01, 1.23415304e+01,\n",
       "        1.25834848e+01, 1.28254391e+01, 1.30673935e+01, 1.33093479e+01,\n",
       "        1.35513022e+01, 1.37932566e+01, 1.40352110e+01, 1.42771653e+01,\n",
       "        1.45191197e+01, 1.47610740e+01, 1.50030284e+01, 1.52449828e+01,\n",
       "        1.54869371e+01, 1.57288915e+01, 1.59708459e+01, 1.62128002e+01,\n",
       "        1.64547546e+01, 1.66967090e+01, 1.69386633e+01, 1.71806177e+01,\n",
       "        1.74225721e+01, 1.76645264e+01, 1.79064808e+01, 1.81484351e+01,\n",
       "        1.83903895e+01, 1.86323439e+01, 1.88742982e+01, 1.91162526e+01,\n",
       "        1.93582070e+01, 1.96001613e+01, 1.98421157e+01, 2.00840701e+01,\n",
       "        2.03260244e+01, 2.05679788e+01, 2.08099332e+01, 2.10518875e+01,\n",
       "        2.12938419e+01, 2.15357962e+01, 2.17777506e+01, 2.20197050e+01,\n",
       "        2.22616593e+01, 2.25036137e+01, 2.27455681e+01, 2.29875224e+01,\n",
       "        2.32294768e+01, 2.34714312e+01, 2.37133855e+01, 2.39553399e+01,\n",
       "        2.41972943e+01]),\n",
       " <a list of 100 Patch objects>)"
      ]
     },
     "execution_count": 52,
     "metadata": {},
     "output_type": "execute_result"
    },
    {
     "data": {
      "image/png": "[encoded data removed]",
      "text/plain": [
       "<Figure size 432x288 with 1 Axes>"
      ]
     },
     "metadata": {
      "needs_background": "light"
     },
     "output_type": "display_data"
    }
   ],
   "source": [
    "plt.hist(Disease_prevalence_UK_Timeseries[201306]['Ward_Prevalence']['depression'].values(),bins=100)"
   ]
  },
  {
   "cell_type": "code",
   "execution_count": null,
   "metadata": {
    "ExecuteTime": {
     "end_time": "2019-08-23T10:20:03.279431Z",
     "start_time": "2019-08-23T10:20:03.210485Z"
    },
    "collapsed": true
   },
   "outputs": [],
   "source": [
    "boroughMap = {}\n",
    "for name , group in df.groupby('LAD15NM'):\n",
    "        boroughMap[name] = list(group['LSOA11CD'])"
   ]
  },
  {
   "cell_type": "code",
   "execution_count": null,
   "metadata": {
    "ExecuteTime": {
     "end_time": "2019-08-23T10:51:57.011392Z",
     "start_time": "2019-08-23T10:51:56.757619Z"
    },
    "collapsed": true
   },
   "outputs": [],
   "source": [
    "# city_prevalence_UK = {}\n",
    "city_gt_prevalence_UK = {}\n",
    "\n",
    "for k in wardMap:\n",
    "    try:\n",
    "        city_disease_presc = np.sum([LSOA_disease_dosage_count['dementia'][w] for w in wardMap[k] if not np.isnan(LSOA_disease_dosage_count['dementia'][w])])\n",
    "#         city_patient_pop = np.sum([Ward_patients['DEM'][w] for w in cityMap[k] if not np.isnan(Ward_patients['DEM'][w])])\n",
    "        city_disease_pop = np.sum([DiseasePop_byWard['DEP'][w] for w in wardMap[k] if not np.isnan(DiseasePop_byWard['DEM'][w])])\n",
    "#         city_prevalence_UK[k] = float(city_disease_presc)/float(cityPop[k])\n",
    "        city_gt_prevalence_UK[k] = float(city_disease_pop)/float(cityPop[k])\n",
    "    except:\n",
    "        print \"Some ward had wrong data\""
   ]
  },
  {
   "cell_type": "code",
   "execution_count": null,
   "metadata": {
    "ExecuteTime": {
     "end_time": "2019-08-23T10:51:57.679262Z",
     "start_time": "2019-08-23T10:51:57.673773Z"
    },
    "collapsed": true
   },
   "outputs": [],
   "source": [
    "len(city_prevalence_UK)"
   ]
  },
  {
   "cell_type": "code",
   "execution_count": null,
   "metadata": {
    "ExecuteTime": {
     "end_time": "2019-08-23T10:51:58.463779Z",
     "start_time": "2019-08-23T10:51:58.241149Z"
    },
    "collapsed": true
   },
   "outputs": [],
   "source": [
    "sns.distplot(city_gt_prevalence_UK.values())"
   ]
  },
  {
   "cell_type": "code",
   "execution_count": null,
   "metadata": {
    "ExecuteTime": {
     "end_time": "2019-08-23T10:51:59.267834Z",
     "start_time": "2019-08-23T10:51:59.066448Z"
    },
    "collapsed": true
   },
   "outputs": [],
   "source": [
    "sns.distplot(city_prevalence_UK['depression'].values())"
   ]
  },
  {
   "cell_type": "code",
   "execution_count": null,
   "metadata": {
    "ExecuteTime": {
     "end_time": "2019-08-23T10:51:59.555653Z",
     "start_time": "2019-08-23T10:51:59.552551Z"
    },
    "collapsed": true
   },
   "outputs": [],
   "source": [
    "commonWards_UK_borough = set(city_prevalence_UK['depression'].keys()).intersection(city_gt_prevalence_UK.keys())"
   ]
  },
  {
   "cell_type": "code",
   "execution_count": null,
   "metadata": {
    "ExecuteTime": {
     "end_time": "2019-08-23T10:52:55.140420Z",
     "start_time": "2019-08-23T10:52:54.854095Z"
    },
    "collapsed": true
   },
   "outputs": [],
   "source": [
    "sns.regplot([ city_prevalence_UK['depression'][k] for k in commonWards_UK_borough],[city_gt_prevalence_UK[k] for k in commonWards_UK_borough])\n",
    "ax = plt.gca()\n",
    "ax.set_title(\"Comparison between prevalences acquired by BNF and Drugbank drug lists\")\n",
    "ax.set_xlabel(\"Drugbank prevalence\")\n",
    "ax.set_ylabel(\"BNF prevalence\")"
   ]
  },
  {
   "cell_type": "code",
   "execution_count": null,
   "metadata": {
    "ExecuteTime": {
     "end_time": "2019-08-23T10:52:01.188504Z",
     "start_time": "2019-08-23T10:52:01.181546Z"
    },
    "collapsed": true
   },
   "outputs": [],
   "source": [
    "pearsonr([ city_prevalence_UK['depression'][k] for k in commonWards_UK_borough],[city_gt_prevalence_UK[k] for k in commonWards_UK_borough])"
   ]
  },
  {
   "cell_type": "code",
   "execution_count": null,
   "metadata": {
    "ExecuteTime": {
     "end_time": "2019-08-22T17:00:26.376936Z",
     "start_time": "2019-08-22T17:00:26.370424Z"
    },
    "collapsed": true
   },
   "outputs": [],
   "source": [
    "LSOA_disease_drug_count.keys()"
   ]
  },
  {
   "cell_type": "code",
   "execution_count": null,
   "metadata": {
    "ExecuteTime": {
     "end_time": "2019-08-22T17:00:27.512090Z",
     "start_time": "2019-08-22T17:00:27.508323Z"
    },
    "collapsed": true
   },
   "outputs": [],
   "source": [
    "city_prevalence_UK.keys()"
   ]
  },
  {
   "cell_type": "code",
   "execution_count": null,
   "metadata": {
    "ExecuteTime": {
     "end_time": "2019-08-22T17:00:27.525022Z",
     "start_time": "2019-08-22T17:00:27.513628Z"
    },
    "collapsed": true
   },
   "outputs": [],
   "source": [
    "sum(city_all_prescription_count.values())"
   ]
  },
  {
   "cell_type": "code",
   "execution_count": null,
   "metadata": {
    "ExecuteTime": {
     "end_time": "2019-08-22T17:00:27.699604Z",
     "start_time": "2019-08-22T17:00:27.696237Z"
    },
    "collapsed": true
   },
   "outputs": [],
   "source": [
    "# borough_disease_prescription_count['diabetes']"
   ]
  },
  {
   "cell_type": "code",
   "execution_count": null,
   "metadata": {
    "ExecuteTime": {
     "end_time": "2019-08-22T17:00:34.989306Z",
     "start_time": "2019-08-22T17:00:34.985873Z"
    },
    "collapsed": true
   },
   "outputs": [],
   "source": [
    "# borough_prevalence_UK['rheumatoid']"
   ]
  },
  {
   "cell_type": "code",
   "execution_count": null,
   "metadata": {
    "ExecuteTime": {
     "end_time": "2019-08-22T17:00:35.562386Z",
     "start_time": "2019-08-22T17:00:35.558055Z"
    },
    "collapsed": true
   },
   "outputs": [],
   "source": [
    "FinalDisease_prevalence = {'2016Q1':city_prevalence_UK}\n",
    "with open('Disease_Prevalence_City.json','wb') as f:\n",
    "    json.dump(FinalDisease_prevalence,f)"
   ]
  },
  {
   "cell_type": "code",
   "execution_count": null,
   "metadata": {
    "collapsed": true
   },
   "outputs": [],
   "source": [
    "city_prevalence_UK"
   ]
  },
  {
   "cell_type": "code",
   "execution_count": null,
   "metadata": {
    "ExecuteTime": {
     "end_time": "2019-08-22T17:00:36.102114Z",
     "start_time": "2019-08-22T17:00:36.058313Z"
    },
    "collapsed": true
   },
   "outputs": [],
   "source": [
    "symptomList= pd.read_csv(\"../BL_Work/Dis_sym_edited.csv\")\n",
    "symptomList.head()\n",
    "normId = {}\n",
    "for index , row in symptomList.iterrows():\n",
    "    normId[row['norm_UID'].strip().lower()] = row['UID']"
   ]
  },
  {
   "cell_type": "code",
   "execution_count": null,
   "metadata": {
    "ExecuteTime": {
     "end_time": "2019-08-22T17:00:38.852509Z",
     "start_time": "2019-08-22T17:00:37.370803Z"
    },
    "collapsed": true,
    "scrolled": true
   },
   "outputs": [],
   "source": [
    "city_prevalence_Symptom_UK = {}\n",
    "city_symptom_prescription_count = {}\n",
    "for d in LSOA_symptom_dosage_count:\n",
    "    if d not in city_prevalence_Symptom_UK:\n",
    "        city_symptom_prescription_count[d] = {}\n",
    "        city_prevalence_Symptom_UK[d] = {}\n",
    "        city_prevalence_Symptom_UK[d]['Id'] = normId[d]\n",
    "        city_prevalence_Symptom_UK[d]['prev']={}\n",
    "\n",
    "        for k in wardMap:\n",
    "            try:\n",
    "                city_disease_presc = np.sum([LSOA_symptom_dosage_count[d][w] for w in wardMap[k] if not np.isnan(LSOA_symptom_dosage_count[d][w])])\n",
    "                city_symptom_prescription_count[d][k] = city_disease_presc\n",
    "                city_prevalence_Symptom_UK[d]['prev'][k] = float(city_disease_presc)/float(cityPop[k])\n",
    "            except:\n",
    "                print \"Some ward had wrong data\""
   ]
  },
  {
   "cell_type": "code",
   "execution_count": null,
   "metadata": {
    "collapsed": true
   },
   "outputs": [],
   "source": []
  },
  {
   "cell_type": "code",
   "execution_count": 32,
   "metadata": {
    "ExecuteTime": {
     "end_time": "2019-08-22T17:00:39.009709Z",
     "start_time": "2019-08-22T17:00:39.007437Z"
    }
   },
   "outputs": [
    {
     "ename": "NameError",
     "evalue": "name 'city_prevalence_Symptom_UK' is not defined",
     "output_type": "error",
     "traceback": [
      "\u001b[0;31m\u001b[0m",
      "\u001b[0;31mNameError\u001b[0mTraceback (most recent call last)",
      "\u001b[0;32m<ipython-input-32-7ed17123b0ee>\u001b[0m in \u001b[0;36m<module>\u001b[0;34m()\u001b[0m\n\u001b[0;32m----> 1\u001b[0;31m \u001b[0mlen\u001b[0m\u001b[0;34m(\u001b[0m\u001b[0mcity_prevalence_Symptom_UK\u001b[0m\u001b[0;34m[\u001b[0m\u001b[0;34m'anxiety'\u001b[0m\u001b[0;34m]\u001b[0m\u001b[0;34m[\u001b[0m\u001b[0;34m'prev'\u001b[0m\u001b[0;34m]\u001b[0m\u001b[0;34m)\u001b[0m\u001b[0;34m\u001b[0m\u001b[0m\n\u001b[0m",
      "\u001b[0;31mNameError\u001b[0m: name 'city_prevalence_Symptom_UK' is not defined"
     ]
    }
   ],
   "source": [
    "len(city_prevalence_Symptom_UK['anxiety']['prev'])"
   ]
  },
  {
   "cell_type": "code",
   "execution_count": null,
   "metadata": {
    "collapsed": true
   },
   "outputs": [],
   "source": [
    "json.dump(city_prevalence_Symptom_UK,open('2010_Ward_dosage_symptom_prevalence.json','wb'))"
   ]
  },
  {
   "cell_type": "code",
   "execution_count": null,
   "metadata": {
    "ExecuteTime": {
     "end_time": "2019-08-22T17:00:39.021151Z",
     "start_time": "2019-08-22T17:00:39.011333Z"
    },
    "collapsed": true
   },
   "outputs": [],
   "source": [
    "# FinalSymptom_prevalence = {'2016Q1':city_prevalence_Symptom_UK}\n",
    "# with open('Symptom_Prevalence_city.json','wb') as f:\n",
    "#     json.dump(FinalSymptom_prevalence,f)"
   ]
  },
  {
   "cell_type": "code",
   "execution_count": null,
   "metadata": {
    "ExecuteTime": {
     "end_time": "2019-08-22T17:00:39.105436Z",
     "start_time": "2019-08-22T17:00:39.022891Z"
    },
    "collapsed": true
   },
   "outputs": [],
   "source": [
    "# confidence_disease = json.load(open('../processed/DiseaseConfidence_V2_352.json','rb'))\n",
    "# confidence_symptom = json.load(open('../processed/SymtomConfidence_with_normID_349.json','rb'))"
   ]
  },
  {
   "cell_type": "code",
   "execution_count": null,
   "metadata": {
    "ExecuteTime": {
     "end_time": "2019-08-22T17:00:39.111421Z",
     "start_time": "2019-08-22T17:00:39.108557Z"
    },
    "collapsed": true
   },
   "outputs": [],
   "source": [
    "\n",
    "# DiseasePrevalence = FinalDisease_prevalence['2016Q1']\n",
    "# SymptomPrevalence = FinalSymptom_prevalence['2016Q1']"
   ]
  },
  {
   "cell_type": "code",
   "execution_count": null,
   "metadata": {
    "collapsed": true
   },
   "outputs": [],
   "source": [
    "DiseasePop_byWard.keys()"
   ]
  },
  {
   "cell_type": "code",
   "execution_count": null,
   "metadata": {
    "ExecuteTime": {
     "end_time": "2019-08-23T11:01:35.481632Z",
     "start_time": "2019-08-23T11:01:35.157285Z"
    },
    "collapsed": true
   },
   "outputs": [],
   "source": [
    "city_prevalence_UK = {}\n",
    "city_prevalence_dosage_UK = {}\n",
    "city_gt_prevalence_UK = {}\n",
    "city_prescription_count = {}\n",
    "disease_key = 'depression'\n",
    "survey_key = 'DEP'\n",
    "for k in tqdm(cityMap):\n",
    "    try:\n",
    "        city_disease_presc = np.sum([LSOA_disease_drug_count[disease_key][w] for w in cityMap[k] if not np.isnan(LSOA_disease_drug_count[disease_key][w])])\n",
    "        city_disease_dosage_presc = np.sum([LSOA_disease_dosage_count[disease_key][w] for w in cityMap[k] if not np.isnan(LSOA_disease_dosage_count[disease_key][w])])\n",
    "        city_patient_pop = np.sum([Ward_patients[survey_key][w] for w in cityMap[k] if not np.isnan(Ward_patients[survey_key][w])])\n",
    "        city_disease_pop = np.sum([DiseasePop_byWard[survey_key][w] for w in cityMap[k] if not np.isnan(DiseasePop_byWard[survey_key][w])])\n",
    "        \n",
    "        city_prescription_count[k] = city_disease_presc\n",
    "        city_prevalence_UK[k] = float(city_disease_presc)/float(cityPop[k])\n",
    "        city_prevalence_dosage_UK[k] = float(city_disease_dosage_presc)/float(cityPop[k])\n",
    "        city_gt_prevalence_UK[k] = float(city_disease_pop)/float(cityPop[ke\n",
    "#         city_prevalence_UK[k] = float(city_disease_presc)/city_patient_pop\n",
    "#         city_prevalence_dosage_UK[k] = float(city_disease_dosage_presc)/city_patient_pop\n",
    "#         city_gt_prevalence_UK[k] = float(city_disease_pop)/city_patient_pop\n",
    "    except:\n",
    "        print(\"Some ward had wrong data\")"
   ]
  },
  {
   "cell_type": "code",
   "execution_count": null,
   "metadata": {
    "collapsed": true
   },
   "outputs": [],
   "source": [
    "# city_prescription_count"
   ]
  },
  {
   "cell_type": "code",
   "execution_count": null,
   "metadata": {
    "collapsed": true
   },
   "outputs": [],
   "source": [
    "# json.dump(city_gt_prevalence_UK,open('dementia_survey_gt.json','wb'))"
   ]
  },
  {
   "cell_type": "code",
   "execution_count": null,
   "metadata": {
    "ExecuteTime": {
     "end_time": "2019-08-23T11:01:37.607222Z",
     "start_time": "2019-08-23T11:01:37.603275Z"
    },
    "collapsed": true
   },
   "outputs": [],
   "source": [
    "commonWards_UK_borough = set(city_prevalence_UK.keys()).intersection(city_gt_prevalence_UK.keys())"
   ]
  },
  {
   "cell_type": "code",
   "execution_count": null,
   "metadata": {
    "collapsed": true
   },
   "outputs": [],
   "source": [
    "len(commonWards_UK_borough)"
   ]
  },
  {
   "cell_type": "code",
   "execution_count": null,
   "metadata": {
    "collapsed": true
   },
   "outputs": [],
   "source": [
    "city_gt_prevalence_UK"
   ]
  },
  {
   "cell_type": "code",
   "execution_count": null,
   "metadata": {
    "collapsed": true
   },
   "outputs": [],
   "source": [
    "city_prevalence_UK"
   ]
  },
  {
   "cell_type": "code",
   "execution_count": null,
   "metadata": {
    "ExecuteTime": {
     "end_time": "2019-08-23T11:01:38.038527Z",
     "start_time": "2019-08-23T11:01:38.033012Z"
    },
    "collapsed": true
   },
   "outputs": [],
   "source": [
    "# commonWards_UK_borough = [k for k in commonWards_UK_borough if k != 'Dudley']"
   ]
  },
  {
   "cell_type": "code",
   "execution_count": null,
   "metadata": {
    "ExecuteTime": {
     "end_time": "2019-08-23T11:01:38.350960Z",
     "start_time": "2019-08-23T11:01:38.346758Z"
    },
    "collapsed": true
   },
   "outputs": [],
   "source": [
    "# sns.regplot([ DiseasePrevalence['depression'][k]/100 for k in commonWards_UK_borough],[London_gt[k] for k in commonWards_UK_borough])\n",
    "# ax = plt.gca()\n",
    "# ax.set_title(\"Comparison between prevalences acquired by BNF and Drugbank drug lists\")\n",
    "# ax.set_xlabel(\"Drugbank prevalence\")\n",
    "# ax.set_ylabel(\"BNF prevalence\")"
   ]
  },
  {
   "cell_type": "code",
   "execution_count": null,
   "metadata": {
    "ExecuteTime": {
     "end_time": "2019-08-23T11:01:38.729814Z",
     "start_time": "2019-08-23T11:01:38.726329Z"
    },
    "collapsed": true
   },
   "outputs": [],
   "source": [
    "# pearsonr([ DiseasePrevalence['depression'][k]  for k in commonWards_UK_borough],[London_gt[k] for k in commonWards_UK_borough])"
   ]
  },
  {
   "cell_type": "code",
   "execution_count": null,
   "metadata": {
    "ExecuteTime": {
     "end_time": "2019-08-23T11:01:39.070830Z",
     "start_time": "2019-08-23T11:01:39.066463Z"
    },
    "collapsed": true
   },
   "outputs": [],
   "source": [
    "# sns.regplot([ DiseasePrevalence['dementia'][k] for k in commonWards_UK_borough],[borough_gt_prevalence_UK[k] for k in commonWards_UK_borough])\n",
    "# ax = plt.gca()\n",
    "# ax.set_title(\"Comparison between prevalences acquired by BNF and Drugbank drug lists\")\n",
    "# ax.set_xlabel(\"Drugbank prevalence\")\n",
    "# ax.set_ylabel(\"BNF prevalence\")"
   ]
  },
  {
   "cell_type": "code",
   "execution_count": null,
   "metadata": {
    "ExecuteTime": {
     "end_time": "2019-08-23T11:01:39.395826Z",
     "start_time": "2019-08-23T11:01:39.389586Z"
    },
    "collapsed": true
   },
   "outputs": [],
   "source": [
    "pearsonr([ city_prevalence_UK[k] for k in commonWards_UK_borough],[city_gt_prevalence_UK[k] for k in commonWards_UK_borough])"
   ]
  },
  {
   "cell_type": "code",
   "execution_count": null,
   "metadata": {
    "ExecuteTime": {
     "end_time": "2019-08-23T11:01:40.228423Z",
     "start_time": "2019-08-23T11:01:40.222333Z"
    },
    "collapsed": true
   },
   "outputs": [],
   "source": [
    "pearsonr([ city_prevalence_dosage_UK[k] for k in commonWards_UK_borough],[city_gt_prevalence_UK[k] for k in commonWards_UK_borough])"
   ]
  },
  {
   "cell_type": "code",
   "execution_count": null,
   "metadata": {
    "ExecuteTime": {
     "end_time": "2019-08-23T11:01:42.846890Z",
     "start_time": "2019-08-23T11:01:42.805251Z"
    },
    "collapsed": true
   },
   "outputs": [],
   "source": [
    "def label_point(x, y, val, ax ):\n",
    "    a = pd.concat({'x': pd.Series(x), 'y':  pd.Series(y), 'val': pd.Series(val)}, axis=1)\n",
    "    for i, point in a.iterrows():\n",
    "        ax.text(point['x'], point['y'], str(point['val']),fontsize=12)\n",
    "\n",
    "def filterHighestResiduals(gt,predict,names , topK):\n",
    "    slope, intercept, r_value, p_value, std_err = linregress(predict,gt)\n",
    "    predicted = [(slope*k)+intercept for k in gt]\n",
    "    residuals = [abs(v1 - v2) for (v1,v2) in zip(predicted,predict)]\n",
    "    topKidx = np.argsort(residuals)[-topK:][::-1]\n",
    "    return [gt[i] for i in topKidx] , [predict[i] for i in topKidx], [names[i] for i in topKidx]\n",
    "\n",
    "predict = []\n",
    "predict_dose = []\n",
    "gt = []\n",
    "names = []\n",
    "logpop = []\n",
    "logdosage = [] \n",
    "for k in commonWards_UK_borough:\n",
    "    predict.append(city_prevalence_UK[k]*1000.0)\n",
    "    predict_dose.append(city_prevalence_dosage_UK[k]*10)#*1000.0)\n",
    "    names.append(k)\n",
    "    gt.append(city_gt_prevalence_UK[k]*1000.0)\n",
    "    logpop.append(np.log(cityPop[k]))\n",
    "    logdosage.append(np.log(city_prescription_count[k]))\n",
    "\n",
    "# predict\n",
    "\n",
    "corr1 = pearsonr(predict,gt)\n",
    "corr2 = pearsonr(predict_dose,gt)\n",
    "print corr1 , corr2"
   ]
  },
  {
   "cell_type": "code",
   "execution_count": null,
   "metadata": {
    "ExecuteTime": {
     "end_time": "2019-08-23T11:01:51.339985Z",
     "start_time": "2019-08-23T11:01:51.336322Z"
    },
    "collapsed": true
   },
   "outputs": [],
   "source": [
    "disease_string = 'Dementia'"
   ]
  },
  {
   "cell_type": "code",
   "execution_count": null,
   "metadata": {
    "ExecuteTime": {
     "end_time": "2019-08-23T11:01:52.350088Z",
     "start_time": "2019-08-23T11:01:51.928527Z"
    },
    "collapsed": true
   },
   "outputs": [],
   "source": [
    "fig, ax = plt.subplots()\n",
    "fig.set_size_inches(12, 8)\n",
    "sns.regplot(x=gt , y = predict)\n",
    "ax = plt.gca()\n",
    "# gt_ , predict_ , names_ = filterHighestResiduals(gt, predict , names, 10)\n",
    "label_point(gt , predict , names , ax)\n",
    "ax.set_title(disease_string ,fontsize=25)\n",
    "plt.xticks(fontsize = 20 )\n",
    "plt.yticks(fontsize = 20 )\n",
    "ax.set_xlabel(\"Normalized disease prevalence from NHS survey\",fontsize=25)\n",
    "ax.set_ylabel(\"Normalized prescription items\",fontsize=25)\n",
    "ax.annotate(\"r = \" +  str(corr1[0])[:4], xy=(0.1, 0.8), xycoords='axes fraction',fontsize = 20)"
   ]
  },
  {
   "cell_type": "code",
   "execution_count": null,
   "metadata": {
    "ExecuteTime": {
     "end_time": "2019-08-23T11:01:53.786857Z",
     "start_time": "2019-08-23T11:01:53.359287Z"
    },
    "collapsed": true
   },
   "outputs": [],
   "source": [
    "fig, ax = plt.subplots()\n",
    "fig.set_size_inches(12, 8)\n",
    "sns.regplot(x=gt , y = predict_dose)\n",
    "ax = plt.gca()\n",
    "# gt_ , predict_ , names_ = filterHighestResiduals(gt, predict , names, 10)\n",
    "label_point(gt , predict_dose , names , ax)\n",
    "ax.set_title(disease_string ,fontsize=25)\n",
    "plt.xticks(fontsize = 20 )\n",
    "plt.yticks(fontsize = 20 )\n",
    "ax.set_xlabel(\"Normalized disease prevalence from NHS survey\",fontsize=25)\n",
    "ax.set_ylabel(\"Normalized prescription dosage (x 100)\",fontsize=25)\n",
    "ax.annotate(\"r = \" +  str(corr2[0])[:4], xy=(0.1, 0.8), xycoords='axes fraction',fontsize = 20)"
   ]
  },
  {
   "cell_type": "code",
   "execution_count": null,
   "metadata": {
    "collapsed": true
   },
   "outputs": [],
   "source": [
    "from scipy.stats import linregress\n",
    "\n",
    "corr = pearsonr(predict, gt)\n",
    "print corr\n",
    "\n",
    "slope, intercept, r_value, p_value, std_err = linregress(x=predict,y=gt)\n",
    "\n",
    "print slope,  intercept , r_value , p_value , std_err"
   ]
  },
  {
   "cell_type": "code",
   "execution_count": null,
   "metadata": {
    "collapsed": true
   },
   "outputs": [],
   "source": [
    "from scipy.stats import linregress\n",
    "\n",
    "corr = pearsonr(logpop, logdosage)\n",
    "print corr\n",
    "\n",
    "slope, intercept, r_value, p_value, std_err = linregress(x=logpop,y=logdosage)\n",
    "\n",
    "print slope,  intercept , r_value , p_value , std_err"
   ]
  },
  {
   "cell_type": "code",
   "execution_count": null,
   "metadata": {
    "collapsed": true
   },
   "outputs": [],
   "source": [
    "r_value**2"
   ]
  },
  {
   "cell_type": "code",
   "execution_count": null,
   "metadata": {
    "collapsed": true
   },
   "outputs": [],
   "source": [
    "fig, ax = plt.subplots()\n",
    "fig.set_size_inches(12, 8)\n",
    "p = sns.regplot(x=logpop,y=logdosage,ax=ax)\n",
    "ax.set_xlabel(\"ln(Population)\",fontsize=25)\n",
    "ax.set_ylabel(\"ln(Quantity of prescription items)\",fontsize=25)\n",
    "ax.set_title(disease_string,fontsize=25)\n",
    "plt.xticks(fontsize = 20 )\n",
    "plt.yticks(fontsize = 20 )\n",
    "# label_point(logpop , logdosage , names , ax)\n",
    "ax.annotate(r\"$\\beta$\" +\": \" +  str(slope)[:4], xy=(0.1, 0.8), xycoords='axes fraction',fontsize = 20)\n",
    "ax.annotate(r\"$R^2$\" +\": \" +  str(r_value**2)[:4], xy=(0.1, 0.7), xycoords='axes fraction',fontsize = 20)"
   ]
  },
  {
   "cell_type": "code",
   "execution_count": null,
   "metadata": {
    "collapsed": true
   },
   "outputs": [],
   "source": []
  }
 ],
 "metadata": {
  "celltoolbar": "Edit Metadata",
  "kernelspec": {
   "display_name": "Python [conda env:env_py2]",
   "language": "python",
   "name": "conda-env-env_py2-py"
  },
  "language_info": {
   "codemirror_mode": {
    "name": "ipython",
    "version": 2
   },
   "file_extension": ".py",
   "mimetype": "text/x-python",
   "name": "python",
   "nbconvert_exporter": "python",
   "pygments_lexer": "ipython2",
   "version": "2.7.16"
  },
  "latex_envs": {
   "LaTeX_envs_menu_present": true,
   "autoclose": false,
   "autocomplete": true,
   "bibliofile": "biblio.bib",
   "cite_by": "apalike",
   "current_citInitial": 1,
   "eqLabelWithNumbers": true,
   "eqNumInitial": 1,
   "hotkeys": {
    "equation": "Ctrl-E",
    "itemize": "Ctrl-I"
   },
   "labels_anchors": false,
   "latex_user_defs": false,
   "report_style_numbering": false,
   "user_envs_cfg": false
  },
  "toc": {
   "base_numbering": 1,
   "nav_menu": {},
   "number_sections": true,
   "sideBar": true,
   "skip_h1_title": false,
   "title_cell": "Table of Contents",
   "title_sidebar": "Contents",
   "toc_cell": false,
   "toc_position": {},
   "toc_section_display": true,
   "toc_window_display": false
  },
  "varInspector": {
   "cols": {
    "lenName": 16,
    "lenType": 16,
    "lenVar": 40
   },
   "kernels_config": {
    "python": {
     "delete_cmd_postfix": "",
     "delete_cmd_prefix": "del ",
     "library": "var_list.py",
     "varRefreshCmd": "print(var_dic_list())"
    },
    "r": {
     "delete_cmd_postfix": ") ",
     "delete_cmd_prefix": "rm(",
     "library": "var_list.r",
     "varRefreshCmd": "cat(var_dic_list()) "
    }
   },
   "types_to_exclude": [
    "module",
    "function",
    "builtin_function_or_method",
    "instance",
    "_Feature"
   ],
   "window_display": false
  }
 },
 "nbformat": 4,
 "nbformat_minor": 2
}
