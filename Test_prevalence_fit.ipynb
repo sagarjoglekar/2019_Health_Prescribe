{
 "cells": [
  {
   "cell_type": "code",
   "execution_count": 167,
   "metadata": {
    "ExecuteTime": {
     "end_time": "2019-07-23T15:23:13.045787Z",
     "start_time": "2019-07-23T15:23:13.035319Z"
    }
   },
   "outputs": [],
   "source": [
    "import pandas as pd\n",
    "import geopandas as gp \n",
    "import json\n",
    "from glob import glob\n",
    "import numpy as np\n",
    "from scipy.stats import pearsonr\n",
    "import matplotlib.pyplot as plt\n",
    "import seaborn as sns\n",
    "%matplotlib inline\n",
    "from utils import ols\n",
    "from sklearn import preprocessing"
   ]
  },
  {
   "cell_type": "code",
   "execution_count": 168,
   "metadata": {
    "ExecuteTime": {
     "end_time": "2019-07-23T15:23:13.259930Z",
     "start_time": "2019-07-23T15:23:13.253040Z"
    }
   },
   "outputs": [],
   "source": [
    "#Load all the variables\n",
    "%store -r Area_values\n",
    "%store -r predict_area_agg\n",
    "%store -r gt_area_agg"
   ]
  },
  {
   "cell_type": "code",
   "execution_count": 169,
   "metadata": {
    "ExecuteTime": {
     "end_time": "2019-07-23T15:23:13.523559Z",
     "start_time": "2019-07-23T15:23:13.516788Z"
    }
   },
   "outputs": [
    {
     "data": {
      "text/plain": [
       "(0.8608673339366695, 4.368619191262523e-97)"
      ]
     },
     "execution_count": 169,
     "metadata": {},
     "output_type": "execute_result"
    }
   ],
   "source": [
    "pearsonr(predict_area_agg.values(),gt_area_agg.values())"
   ]
  },
  {
   "cell_type": "code",
   "execution_count": 97,
   "metadata": {
    "ExecuteTime": {
     "end_time": "2019-07-18T10:40:40.416051Z",
     "start_time": "2019-07-18T10:40:40.340111Z"
    }
   },
   "outputs": [
    {
     "data": {
      "text/plain": [
       "{u'Adur': {'patients': 133765.0, 'population': 61929},\n",
       " u'Allerdale': {'patients': 108473.0, 'population': 96268},\n",
       " u'Amber Valley': {'patients': 386927.0, 'population': 122746},\n",
       " u'Arun': {'patients': 213991.0, 'population': 150877},\n",
       " u'Ashfield': {'patients': 252315.0, 'population': 120131},\n",
       " u'Ashford': {'patients': 243080.0, 'population': 120116},\n",
       " u'Aylesbury Vale': {'patients': 481973.0, 'population': 176867},\n",
       " u'Babergh': {'patients': 168634.0, 'population': 87917},\n",
       " u'Barking and Dagenham': {'patients': 277996.0, 'population': 190560},\n",
       " u'Barnet': {'patients': 723280.0, 'population': 363956},\n",
       " u'Barnsley': {'patients': 427077.0, 'population': 233671},\n",
       " u'Barrow-in-Furness': {'patients': 92644.0, 'population': 68446},\n",
       " u'Basildon': {'patients': 291740.0, 'population': 176474},\n",
       " u'Basingstoke and Deane': {'patients': 333885.0, 'population': 170492},\n",
       " u'Bassetlaw': {'patients': 234610.0, 'population': 112248},\n",
       " u'Bath and North East Somerset': {'patients': 264739.0, 'population': 177643},\n",
       " u'Bedford': {'patients': 364621.0, 'population': 159090},\n",
       " u'Bexley': {'patients': 390114.0, 'population': 234271},\n",
       " u'Birmingham': {'patients': 1406732.0, 'population': 1084841},\n",
       " u'Blaby': {'patients': 538410.0, 'population': 94130},\n",
       " u'Blackburn with Darwen': {'patients': 265279.0, 'population': 147713},\n",
       " u'Blackpool': {'patients': 222930.0, 'population': 141976},\n",
       " u'Bolsover': {'patients': 101002.0, 'population': 76447},\n",
       " u'Bolton': {'patients': 389561.0, 'population': 278984},\n",
       " u'Boston': {'patients': 157566.0, 'population': 64407},\n",
       " u'Bournemouth': {'patients': 208089.0, 'population': 186744},\n",
       " u'Bracknell Forest': {'patients': 303295.0, 'population': 115058},\n",
       " u'Bradford': {'patients': 652017.0, 'population': 524619},\n",
       " u'Braintree': {'patients': 291141.0, 'population': 148384},\n",
       " u'Breckland': {'patients': 242022.0, 'population': 130948},\n",
       " u'Brent': {'patients': 488795.0, 'population': 314660},\n",
       " u'Brentwood': {'patients': 72866.0, 'population': 74020},\n",
       " u'Brighton and Hove': {'patients': 278328.0, 'population': 275762},\n",
       " u'Bristol, City of': {'patients': 561468.0, 'population': 432234},\n",
       " u'Broadland': {'patients': 266953.0, 'population': 125215},\n",
       " u'Bromley': {'patients': 467954.0, 'population': 314036},\n",
       " u'Bromsgrove': {'patients': 331105.0, 'population': 93653},\n",
       " u'Broxbourne': {'patients': 172455.0, 'population': 94497},\n",
       " u'Broxtowe': {'patients': 128622.0, 'population': 110716},\n",
       " u'Burnley': {'patients': 110106.0, 'population': 87127},\n",
       " u'Bury': {'patients': 236606.0, 'population': 186199},\n",
       " u'Calderdale': {'patients': 296766.0, 'population': 205293},\n",
       " u'Cambridge': {'patients': 208563.0, 'population': 125155},\n",
       " u'Camden': {'patients': 322250.0, 'population': 224962},\n",
       " u'Cannock Chase': {'patients': 170705.0, 'population': 97940},\n",
       " u'Canterbury': {'patients': 166955.0, 'population': 153101},\n",
       " u'Carlisle': {'patients': 106782.0, 'population': 107952},\n",
       " u'Castle Point': {'patients': 139111.0, 'population': 88218},\n",
       " u'Central Bedfordshire': {'patients': 540070.0, 'population': 259969},\n",
       " u'Charnwood': {'patients': 296871.0, 'population': 168779},\n",
       " u'Chelmsford': {'patients': 150857.0, 'population': 169094},\n",
       " u'Cheltenham': {'patients': 168577.0, 'population': 116080},\n",
       " u'Cherwell': {'patients': 253821.0, 'population': 142110},\n",
       " u'Cheshire East': {'patients': 918702.0, 'population': 371916},\n",
       " u'Cheshire West and Chester': {'patients': 366761.0, 'population': 330200},\n",
       " u'Chesterfield': {'patients': 99592.0, 'population': 103782},\n",
       " u'Chichester': {'patients': 253121.0, 'population': 114521},\n",
       " u'Chiltern': {'patients': 175299.0, 'population': 92954},\n",
       " u'Chorley': {'patients': 210145.0, 'population': 107254},\n",
       " u'Christchurch': {'patients': 81466.0, 'population': 47987},\n",
       " u'City of London': {'patients': 97210.0, 'population': 7604},\n",
       " u'Colchester': {'patients': 147990.0, 'population': 176008},\n",
       " u'Copeland': {'patients': 66558.0, 'population': 69754},\n",
       " u'Corby': {'patients': 133707.0, 'population': 63073},\n",
       " u'Cornwall': {'patients': 556384.0, 'population': 537914},\n",
       " u'Cotswold': {'patients': 228347.0, 'population': 83562},\n",
       " u'County Durham': {'patients': 720438.0, 'population': 512616},\n",
       " u'Coventry': {'patients': 402180.0, 'population': 323132},\n",
       " u'Craven': {'patients': 82531.0, 'population': 55457},\n",
       " u'Crawley': {'patients': 162948.0, 'population': 108302},\n",
       " u'Croydon': {'patients': 546473.0, 'population': 368886},\n",
       " u'Dacorum': {'patients': 111025.0, 'population': 146037},\n",
       " u'Darlington': {'patients': 56418.0, 'population': 105248},\n",
       " u'Dartford': {'patients': 135201.0, 'population': 98940},\n",
       " u'Daventry': {'patients': 300018.0, 'population': 77141},\n",
       " u'Derby': {'patients': 220847.0, 'population': 250568},\n",
       " u'Derbyshire Dales': {'patients': 135784.0, 'population': 70793},\n",
       " u'Doncaster': {'patients': 423524.0, 'population': 300302},\n",
       " u'Dover': {'patients': 105026.0, 'population': 111765},\n",
       " u'Dudley': {'patients': 367834.0, 'population': 313589},\n",
       " u'Ealing': {'patients': 623001.0, 'population': 340671},\n",
       " u'East Cambridgeshire': {'patients': 175215.0, 'population': 85097},\n",
       " u'East Devon': {'patients': 322937.0, 'population': 134359},\n",
       " u'East Dorset': {'patients': 160909.0, 'population': 87755},\n",
       " u'East Hampshire': {'patients': 125506.0, 'population': 116400},\n",
       " u'East Hertfordshire': {'patients': 250350.0, 'population': 139458},\n",
       " u'East Lindsey': {'patients': 148502.0, 'population': 136596},\n",
       " u'East Northamptonshire': {'patients': 108799.0, 'population': 87365},\n",
       " u'East Riding of Yorkshire': {'patients': 488298.0, 'population': 334748},\n",
       " u'East Staffordshire': {'patients': 142128.0, 'population': 113504},\n",
       " u'Eastbourne': {'patients': 103963.0, 'population': 100049},\n",
       " u'Eastleigh': {'patients': 263440.0, 'population': 126764},\n",
       " u'Eden': {'patients': 53336.0, 'population': 52656},\n",
       " u'Elmbridge': {'patients': 282417.0, 'population': 131512},\n",
       " u'Enfield': {'patients': 381459.0, 'population': 317287},\n",
       " u'Epping Forest': {'patients': 242087.0, 'population': 126080},\n",
       " u'Epsom and Ewell': {'patients': 143850.0, 'population': 76052},\n",
       " u'Erewash': {'patients': 61556.0, 'population': 112809},\n",
       " u'Exeter': {'patients': 0.0, 'population': 119180},\n",
       " u'Fareham': {'patients': 141148.0, 'population': 112802},\n",
       " u'Fenland': {'patients': 149970.0, 'population': 95549},\n",
       " u'Forest Heath': {'patients': 0.0, 'population': 60735},\n",
       " u'Forest of Dean': {'patients': 149712.0, 'population': 82731},\n",
       " u'Fylde': {'patients': 138498.0, 'population': 75404},\n",
       " u'Gateshead': {'patients': 176426.0, 'population': 200153},\n",
       " u'Gedling': {'patients': 223382.0, 'population': 114052},\n",
       " u'Gloucester': {'patients': 114992.0, 'population': 123293},\n",
       " u'Gosport': {'patients': 47568.0, 'population': 83276},\n",
       " u'Gravesham': {'patients': 119365.0, 'population': 102764},\n",
       " u'Great Yarmouth': {'patients': 73982.0, 'population': 97570},\n",
       " u'Greenwich': {'patients': 303682.0, 'population': 258995},\n",
       " u'Guildford': {'patients': 237609.0, 'population': 139463},\n",
       " u'Hackney': {'patients': 536932.0, 'population': 252119},\n",
       " u'Halton': {'patients': 101019.0, 'population': 125692},\n",
       " u'Hambleton': {'patients': 253482.0, 'population': 89549},\n",
       " u'Hammersmith and Fulham': {'patients': 229402.0, 'population': 179388},\n",
       " u'Harborough': {'patients': 90676.0, 'population': 85694},\n",
       " u'Haringey': {'patients': 52492.0, 'population': 258912},\n",
       " u'Harlow': {'patients': 0.0, 'population': 82676},\n",
       " u'Harrogate': {'patients': 250130.0, 'population': 158610},\n",
       " u'Harrow': {'patients': 133609.0, 'population': 242377},\n",
       " u'Hart': {'patients': 127344.0, 'population': 92162},\n",
       " u'Hartlepool': {'patients': 130106.0, 'population': 92238},\n",
       " u'Hastings': {'patients': 98881.0, 'population': 90345},\n",
       " u'Havant': {'patients': 81976.0, 'population': 121271},\n",
       " u'Havering': {'patients': 240872.0, 'population': 239733},\n",
       " u'Herefordshire, County of': {'patients': 222191.0, 'population': 184932},\n",
       " u'Hertsmere': {'patients': 73079.0, 'population': 100710},\n",
       " u'High Peak': {'patients': 102752.0, 'population': 91118},\n",
       " u'Hillingdon': {'patients': 254678.0, 'population': 281756},\n",
       " u'Hinckley and Bosworth': {'patients': 116655.0, 'population': 106046},\n",
       " u'Horsham': {'patients': 135703.0, 'population': 132160},\n",
       " u'Hounslow': {'patients': 309699.0, 'population': 258876},\n",
       " u'Huntingdonshire': {'patients': 66336.0, 'population': 169955},\n",
       " u'Hyndburn': {'patients': 108321.0, 'population': 80190},\n",
       " u'Ipswich': {'patients': 162988.0, 'population': 134466},\n",
       " u'Isle of Wight': {'patients': 141857.0, 'population': 137243},\n",
       " u'Isles of Scilly': {'patients': 2119.0, 'population': 2264},\n",
       " u'Islington': {'patients': 0.0, 'population': 210255},\n",
       " u'Kensington and Chelsea': {'patients': 163728.0, 'population': 155930},\n",
       " u'Kettering': {'patients': 78804.0, 'population': 94841},\n",
       " u\"King's Lynn and West Norfolk\": {'patients': 90492.0, 'population': 148628},\n",
       " u'Kingston upon Hull, City of': {'patients': 126432.0, 'population': 256717},\n",
       " u'Kingston upon Thames': {'patients': 235113.0, 'population': 163906},\n",
       " u'Kirklees': {'patients': 347489.0, 'population': 425517},\n",
       " u'Knowsley': {'patients': 302968.0, 'population': 145936},\n",
       " u'Lambeth': {'patients': 469047.0, 'population': 309716},\n",
       " u'Lancaster': {'patients': 143607.0, 'population': 139272},\n",
       " u'Leeds': {'patients': 799471.0, 'population': 756212},\n",
       " u'Leicester': {'patients': 25299.0, 'population': 331502},\n",
       " u'Lewes': {'patients': 201915.0, 'population': 98373},\n",
       " u'Lewisham': {'patients': 235539.0, 'population': 281556},\n",
       " u'Lichfield': {'patients': 196902.0, 'population': 100598},\n",
       " u'Lincoln': {'patients': 172706.0, 'population': 94225},\n",
       " u'Liverpool': {'patients': 440061.0, 'population': 468397},\n",
       " u'Luton': {'patients': 0.0, 'population': 205843},\n",
       " u'Maidstone': {'patients': 287834.0, 'population': 156644},\n",
       " u'Maldon': {'patients': 17951.0, 'population': 61918},\n",
       " u'Malvern Hills': {'patients': 128911.0, 'population': 74980},\n",
       " u'Manchester': {'patients': 638485.0, 'population': 510151},\n",
       " u'Mansfield': {'patients': 0.0, 'population': 104737},\n",
       " u'Medway': {'patients': 115768.0, 'population': 267622},\n",
       " u'Melton': {'patients': 72489.0, 'population': 50770},\n",
       " u'Mendip': {'patients': 148074.0, 'population': 109755},\n",
       " u'Merton': {'patients': 277035.0, 'population': 202225},\n",
       " u'Mid Devon': {'patients': 137509.0, 'population': 78335},\n",
       " u'Mid Suffolk': {'patients': 119812.0, 'population': 97611},\n",
       " u'Mid Sussex': {'patients': 33159.0, 'population': 141162},\n",
       " u'Middlesbrough': {'patients': 184833.0, 'population': 138744},\n",
       " u'Milton Keynes': {'patients': 217465.0, 'population': 251980},\n",
       " u'Mole Valley': {'patients': 99658.0, 'population': 85846},\n",
       " u'New Forest': {'patients': 180606.0, 'population': 177382},\n",
       " u'Newark and Sherwood': {'patients': 62798.0, 'population': 115019},\n",
       " u'Newcastle upon Tyne': {'patients': 343041.0, 'population': 282442},\n",
       " u'Newcastle-under-Lyme': {'patients': 195570.0, 'population': 124183},\n",
       " u'Newham': {'patients': 433591.0, 'population': 314084},\n",
       " u'North Devon': {'patients': 128962.0, 'population': 93847},\n",
       " u'North Dorset': {'patients': 106012.0, 'population': 68914},\n",
       " u'North East Derbyshire': {'patients': 113849.0, 'population': 99325},\n",
       " u'North East Lincolnshire': {'patients': 169728.0, 'population': 159727},\n",
       " u'North Hertfordshire': {'patients': 118512.0, 'population': 128428},\n",
       " u'North Kesteven': {'patients': 41498.0, 'population': 109263},\n",
       " u'North Lincolnshire': {'patients': 189299.0, 'population': 168372},\n",
       " u'North Norfolk': {'patients': 55207.0, 'population': 101316},\n",
       " u'North Somerset': {'patients': 216612.0, 'population': 204385},\n",
       " u'North Tyneside': {'patients': 237111.0, 'population': 201446},\n",
       " u'North Warwickshire': {'patients': 74817.0, 'population': 62200},\n",
       " u'North West Leicestershire': {'patients': 85966.0, 'population': 94018},\n",
       " u'Northampton': {'patients': 89959.0, 'population': 214566},\n",
       " u'Northumberland': {'patients': 242635.0, 'population': 314978},\n",
       " u'Norwich': {'patients': 84263.0, 'population': 133904},\n",
       " u'Nottingham': {'patients': 224751.0, 'population': 308313},\n",
       " u'Nuneaton and Bedworth': {'patients': 0.0, 'population': 125805},\n",
       " u'Oadby and Wigston': {'patients': 0.0, 'population': 56103},\n",
       " u'Oldham': {'patients': 385330.0, 'population': 225875},\n",
       " u'Oxford': {'patients': 124958.0, 'population': 152527},\n",
       " u'Pendle': {'patients': 72609.0, 'population': 89613},\n",
       " u'Peterborough': {'patients': 217702.0, 'population': 185829},\n",
       " u'Plymouth': {'patients': 252227.0, 'population': 258026},\n",
       " u'Poole': {'patients': 140060.0, 'population': 148615},\n",
       " u'Portsmouth': {'patients': 154338.0, 'population': 206639},\n",
       " u'Preston': {'patients': 163394.0, 'population': 140197},\n",
       " u'Purbeck': {'patients': 11668.0, 'population': 45289},\n",
       " u'Reading': {'patients': 255524.0, 'population': 157027},\n",
       " u'Redbridge': {'patients': 300163.0, 'population': 284617},\n",
       " u'Redcar and Cleveland': {'patients': 138339.0, 'population': 134998},\n",
       " u'Redditch': {'patients': 13456.0, 'population': 84419},\n",
       " u'Reigate and Banstead': {'patients': 111478.0, 'population': 139043},\n",
       " u'Ribble Valley': {'patients': 0.0, 'population': 57596},\n",
       " u'Richmond upon Thames': {'patients': 147063.0, 'population': 189145},\n",
       " u'Richmondshire': {'patients': 6632.0, 'population': 53935},\n",
       " u'Rochdale': {'patients': 73914.0, 'population': 211597},\n",
       " u'Rochford': {'patients': 99876.0, 'population': 83687},\n",
       " u'Rossendale': {'patients': 63140.0, 'population': 68366},\n",
       " u'Rother': {'patients': 123010.0, 'population': 91088},\n",
       " u'Rotherham': {'patients': 170628.0, 'population': 258352},\n",
       " u'Rugby': {'patients': 120209.0, 'population': 100751},\n",
       " u'Runnymede': {'patients': 98397.0, 'population': 82189},\n",
       " u'Rushcliffe': {'patients': 42769.0, 'population': 110826},\n",
       " u'Rushmoor': {'patients': 33715.0, 'population': 94870},\n",
       " u'Rutland': {'patients': 0.0, 'population': 36170},\n",
       " u'Ryedale': {'patients': 105617.0, 'population': 52102},\n",
       " u'Salford': {'patients': 289274.0, 'population': 236494},\n",
       " u'Sandwell': {'patients': 260542.0, 'population': 311304},\n",
       " u'Scarborough': {'patients': 43745.0, 'population': 108632},\n",
       " u'Sedgemoor': {'patients': 121825.0, 'population': 116071},\n",
       " u'Sefton': {'patients': 208644.0, 'population': 273370},\n",
       " u'Selby': {'patients': 23030.0, 'population': 84144},\n",
       " u'Sevenoaks': {'patients': 73309.0, 'population': 116400},\n",
       " u'Sheffield': {'patients': 346641.0, 'population': 557382},\n",
       " u'Shepway': {'patients': 92292.0, 'population': 108700},\n",
       " u'Shropshire': {'patients': 400719.0, 'population': 307393},\n",
       " u'Slough': {'patients': 284007.0, 'population': 141838},\n",
       " u'Solihull': {'patients': 60167.0, 'population': 207380},\n",
       " u'South Bucks': {'patients': 0.0, 'population': 67435},\n",
       " u'South Cambridgeshire': {'patients': 93169.0, 'population': 151068},\n",
       " u'South Derbyshire': {'patients': 18809.0, 'population': 95778},\n",
       " u'South Gloucestershire': {'patients': 192272.0, 'population': 265338},\n",
       " u'South Hams': {'patients': 214363.0, 'population': 83597},\n",
       " u'South Holland': {'patients': 68757.0, 'population': 88518},\n",
       " u'South Kesteven': {'patients': 49244.0, 'population': 135033},\n",
       " u'South Lakeland': {'patients': 78020.0, 'population': 103453},\n",
       " u'South Norfolk': {'patients': 89233.0, 'population': 125978},\n",
       " u'South Northamptonshire': {'patients': 0.0, 'population': 86350},\n",
       " u'South Oxfordshire': {'patients': 188833.0, 'population': 135156},\n",
       " u'South Ribble': {'patients': 0.0, 'population': 108971},\n",
       " u'South Somerset': {'patients': 132647.0, 'population': 163012},\n",
       " u'South Staffordshire': {'patients': 213798.0, 'population': 107170},\n",
       " u'South Tyneside': {'patients': 225897.0, 'population': 148428},\n",
       " u'Southampton': {'patients': 174707.0, 'population': 239428},\n",
       " u'Southend-on-Sea': {'patients': 79179.0, 'population': 174838},\n",
       " u'Southwark': {'patients': 98327.0, 'population': 293530},\n",
       " u'Spelthorne': {'patients': 0.0, 'population': 96507},\n",
       " u'St Albans': {'patients': 57322.0, 'population': 141899},\n",
       " u'St Edmundsbury': {'patients': 61166.0, 'population': 110470},\n",
       " u'St. Helens': {'patients': 322540.0, 'population': 176114},\n",
       " u'Stafford': {'patients': 161084.0, 'population': 130706},\n",
       " u'Staffordshire Moorlands': {'patients': 91667.0, 'population': 97147},\n",
       " u'Stevenage': {'patients': 0.0, 'population': 84798},\n",
       " u'Stockport': {'patients': 137570.0, 'population': 283897},\n",
       " u'Stockton-on-Tees': {'patients': 99369.0, 'population': 191456},\n",
       " u'Stoke-on-Trent': {'patients': 43301.0, 'population': 249903},\n",
       " u'Stratford-on-Avon': {'patients': 164517.0, 'population': 120578},\n",
       " u'Stroud': {'patients': 68779.0, 'population': 113363},\n",
       " u'Suffolk Coastal': {'patients': 93808.0, 'population': 123857},\n",
       " u'Sunderland': {'patients': 138228.0, 'population': 275743},\n",
       " u'Surrey Heath': {'patients': 39115.0, 'population': 86138},\n",
       " u'Sutton': {'patients': 107508.0, 'population': 193630},\n",
       " u'Swale': {'patients': 98887.0, 'population': 135814},\n",
       " u'Swindon': {'patients': 264444.0, 'population': 211934},\n",
       " u'Tameside': {'patients': 83935.0, 'population': 220241},\n",
       " u'Tamworth': {'patients': 0.0, 'population': 77118},\n",
       " u'Tandridge': {'patients': 34382.0, 'population': 83693},\n",
       " u'Taunton Deane': {'patients': 63159.0, 'population': 111370},\n",
       " u'Teignbridge': {'patients': 114562.0, 'population': 124382},\n",
       " u'Telford and Wrekin': {'patients': 108098.0, 'population': 167682},\n",
       " u'Tendring': {'patients': 114420.0, 'population': 138285},\n",
       " u'Test Valley': {'patients': 90998.0, 'population': 117032},\n",
       " u'Tewkesbury': {'patients': 0.0, 'population': 82984},\n",
       " u'Thanet': {'patients': 133774.0, 'population': 135661},\n",
       " u'Three Rivers': {'patients': 49366.0, 'population': 88801},\n",
       " u'Thurrock': {'patients': 113070.0, 'population': 159533},\n",
       " u'Tonbridge and Malling': {'patients': 94082.0, 'population': 121912},\n",
       " u'Torbay': {'patients': 34492.0, 'population': 131492},\n",
       " u'Torridge': {'patients': 19154.0, 'population': 64743},\n",
       " u'Tower Hamlets': {'patients': 95794.0, 'population': 263003},\n",
       " u'Trafford': {'patients': 89064.0, 'population': 228466},\n",
       " u'Tunbridge Wells': {'patients': 49074.0, 'population': 115422},\n",
       " u'Uttlesford': {'patients': 22440.0, 'population': 81250},\n",
       " u'Vale of White Horse': {'patients': 78943.0, 'population': 122764},\n",
       " u'Wakefield': {'patients': 167039.0, 'population': 326674},\n",
       " u'Walsall': {'patients': 151402.0, 'population': 270924},\n",
       " u'Waltham Forest': {'patients': 176096.0, 'population': 262566},\n",
       " u'Wandsworth': {'patients': 85815.0, 'population': 307892},\n",
       " u'Warrington': {'patients': 37100.0, 'population': 202399},\n",
       " u'Warwick': {'patients': 70295.0, 'population': 138640},\n",
       " u'Watford': {'patients': 33908.0, 'population': 91732},\n",
       " u'Waveney': {'patients': 84020.0, 'population': 115228},\n",
       " u'Waverley': {'patients': 57004.0, 'population': 121884},\n",
       " u'Wealden': {'patients': 87173.0, 'population': 151029},\n",
       " u'Wellingborough': {'patients': 61376.0, 'population': 75586},\n",
       " u'Welwyn Hatfield': {'patients': 85303.0, 'population': 112046},\n",
       " u'West Berkshire': {'patients': 65878.0, 'population': 154486},\n",
       " u'West Devon': {'patients': 23035.0, 'population': 53337},\n",
       " u'West Dorset': {'patients': 115744.0, 'population': 99415},\n",
       " u'West Lancashire': {'patients': 29621.0, 'population': 110925},\n",
       " u'West Lindsey': {'patients': 0.0, 'population': 90047},\n",
       " u'West Oxfordshire': {'patients': 37222.0, 'population': 107118},\n",
       " u'West Somerset': {'patients': 19540.0, 'population': 34559},\n",
       " u'Westminster': {'patients': 65766.0, 'population': 223858},\n",
       " u'Weymouth and Portland': {'patients': 12465.0, 'population': 64022},\n",
       " u'Wigan': {'patients': 77760.0, 'population': 318480},\n",
       " u'Wiltshire': {'patients': 310849.0, 'population': 476352},\n",
       " u'Winchester': {'patients': 56809.0, 'population': 117417},\n",
       " u'Windsor and Maidenhead': {'patients': 34289.0, 'population': 145822},\n",
       " u'Wirral': {'patients': 298096.0, 'population': 320229},\n",
       " u'Woking': {'patients': 56779.0, 'population': 99377},\n",
       " u'Wokingham': {'patients': 38332.0, 'population': 156663},\n",
       " u'Wolverhampton': {'patients': 40249.0, 'population': 250970},\n",
       " u'Worcester': {'patients': 60082.0, 'population': 99604},\n",
       " u'Worthing': {'patients': 45372.0, 'population': 105661},\n",
       " u'Wychavon': {'patients': 54967.0, 'population': 117087},\n",
       " u'Wycombe': {'patients': 90111.0, 'population': 173306},\n",
       " u'Wyre': {'patients': 28385.0, 'population': 107889},\n",
       " u'Wyre Forest': {'patients': 0.0, 'population': 98074},\n",
       " u'York': {'patients': 102994.0, 'population': 199902}}"
      ]
     },
     "execution_count": 97,
     "metadata": {},
     "output_type": "execute_result"
    }
   ],
   "source": [
    "Area_values"
   ]
  },
  {
   "cell_type": "code",
   "execution_count": 98,
   "metadata": {
    "ExecuteTime": {
     "end_time": "2019-07-18T10:40:41.186591Z",
     "start_time": "2019-07-18T10:40:41.183630Z"
    }
   },
   "outputs": [],
   "source": [
    "# sns.distplot(predict_area_agg.values())"
   ]
  },
  {
   "cell_type": "code",
   "execution_count": 99,
   "metadata": {
    "ExecuteTime": {
     "end_time": "2019-07-18T10:40:41.754914Z",
     "start_time": "2019-07-18T10:40:41.750404Z"
    }
   },
   "outputs": [],
   "source": [
    "# # Create the Scaler object\n",
    "# scaler = preprocessing.StandardScaler()\n",
    "# # standardize_predict = scaler.fit_transform(predict_area_agg.values())\n",
    "# normalized_X = preprocessing.normalize(predict_area_agg.values())\n",
    "# sns.distplot(normalized_X)"
   ]
  },
  {
   "cell_type": "code",
   "execution_count": 100,
   "metadata": {
    "ExecuteTime": {
     "end_time": "2019-07-18T10:40:42.258380Z",
     "start_time": "2019-07-18T10:40:42.244328Z"
    }
   },
   "outputs": [],
   "source": [
    "featArray = np.zeros((len(Area_values),4))\n",
    "\n",
    "for i in range(len(Area_values)):\n",
    "    key = Area_values.keys()[i]\n",
    "    featArray[i,0] = gt_area_agg[key]\n",
    "    featArray[i,1] = predict_area_agg[key]\n",
    "    featArray[i,2] = np.log10(Area_values[key]['population'])\n",
    "    featArray[i,3] = float(Area_values[key]['patients'])/float(Area_values[key]['population'])"
   ]
  },
  {
   "cell_type": "code",
   "execution_count": 104,
   "metadata": {
    "ExecuteTime": {
     "end_time": "2019-07-18T10:41:32.962158Z",
     "start_time": "2019-07-18T10:41:32.957228Z"
    }
   },
   "outputs": [],
   "source": [
    "normed_feats = featArray.copy()\n",
    "normed_feats = preprocessing.normalize(featArray)"
   ]
  },
  {
   "cell_type": "code",
   "execution_count": 109,
   "metadata": {
    "ExecuteTime": {
     "end_time": "2019-07-18T10:42:06.584538Z",
     "start_time": "2019-07-18T10:42:06.365298Z"
    }
   },
   "outputs": [
    {
     "data": {
      "text/plain": [
       "<matplotlib.axes._subplots.AxesSubplot at 0x7fd268e97c10>"
      ]
     },
     "execution_count": 109,
     "metadata": {},
     "output_type": "execute_result"
    },
    {
     "data": {
      "image/png": "[encoded data removed]",
      "text/plain": [
       "<matplotlib.figure.Figure at 0x7fd2693623d0>"
      ]
     },
     "metadata": {},
     "output_type": "display_data"
    }
   ],
   "source": [
    "sns.distplot(normed_feats[:,3])"
   ]
  },
  {
   "cell_type": "code",
   "execution_count": 110,
   "metadata": {
    "ExecuteTime": {
     "end_time": "2019-07-18T10:42:12.248840Z",
     "start_time": "2019-07-18T10:42:12.241991Z"
    }
   },
   "outputs": [
    {
     "data": {
      "text/plain": [
       "(0.8883833104934239, 1.4325247255112718e-111)"
      ]
     },
     "execution_count": 110,
     "metadata": {},
     "output_type": "execute_result"
    }
   ],
   "source": [
    "pearsonr(normed_feats[:,0],normed_feats[:,1])"
   ]
  },
  {
   "cell_type": "code",
   "execution_count": 111,
   "metadata": {
    "ExecuteTime": {
     "end_time": "2019-07-18T10:42:14.601798Z",
     "start_time": "2019-07-18T10:42:14.595045Z"
    }
   },
   "outputs": [],
   "source": [
    "y = normed_feats[:,0]\n",
    "x = normed_feats[:,1:]\n",
    "mymodel = ols.ols(y,x,'GT',['Pred','logPop','patient_rate'])"
   ]
  },
  {
   "cell_type": "code",
   "execution_count": 112,
   "metadata": {
    "ExecuteTime": {
     "end_time": "2019-07-18T10:42:16.084692Z",
     "start_time": "2019-07-18T10:42:16.070018Z"
    }
   },
   "outputs": [
    {
     "name": "stdout",
     "output_type": "stream",
     "text": [
      "\n",
      "==============================================================================\n",
      "Dependent Variable: GT\n",
      "Method: Least Squares\n",
      "Date:  Thu, 18 Jul 2019\n",
      "Time:  11:42:16\n",
      "# obs:                 326\n",
      "# variables:         4\n",
      "==============================================================================\n",
      "variable     coefficient     std. Error      t-statistic     prob.\n",
      "==============================================================================\n",
      "const          -0.015821      0.002034     -7.776436      0.000000\n",
      "Pred           -0.189756      0.126518     -1.499830      0.134638\n",
      "logPop           0.015507      0.001962      7.901949      0.000000\n",
      "patient_rate           0.029430      0.004391      6.702309      0.000000\n",
      "==============================================================================\n",
      "Models stats                         Residual stats\n",
      "==============================================================================\n",
      "R-squared             0.839512         Durbin-Watson stat   1.989747\n",
      "Adjusted R-squared    0.838017         Omnibus stat         15.805225\n",
      "F-statistic           561.462224         Prob(Omnibus stat)   0.000370\n",
      "Prob (F-statistic)    0.000000\t\t\tJB stat              37.690637\n",
      "Log likelihood        1779.582865\t\t\tProb(JB)             0.000000\n",
      "AIC criterion        -10.893146         Skew                -0.126875\n",
      "BIC criterion        -10.846681         Kurtosis             4.646324\n",
      "==============================================================================\n"
     ]
    }
   ],
   "source": [
    "mymodel.summary()"
   ]
  },
  {
   "cell_type": "code",
   "execution_count": 113,
   "metadata": {
    "ExecuteTime": {
     "end_time": "2019-07-18T10:42:40.505420Z",
     "start_time": "2019-07-18T10:42:40.499187Z"
    }
   },
   "outputs": [
    {
     "data": {
      "text/plain": [
       "array([1.01696429e-13, 1.34638268e-01, 4.39648318e-14, 9.18816134e-11])"
      ]
     },
     "execution_count": 113,
     "metadata": {},
     "output_type": "execute_result"
    }
   ],
   "source": [
    "mymodel.p"
   ]
  },
  {
   "cell_type": "code",
   "execution_count": 151,
   "metadata": {
    "ExecuteTime": {
     "end_time": "2019-07-18T14:24:30.012531Z",
     "start_time": "2019-07-18T14:24:30.006697Z"
    }
   },
   "outputs": [],
   "source": [
    "%store -r predict_area_agg_GP\n",
    "%store -r gt_area_agg_GP"
   ]
  },
  {
   "cell_type": "code",
   "execution_count": 152,
   "metadata": {
    "ExecuteTime": {
     "end_time": "2019-07-18T14:24:30.554543Z",
     "start_time": "2019-07-18T14:24:30.549004Z"
    }
   },
   "outputs": [
    {
     "data": {
      "text/plain": [
       "121"
      ]
     },
     "execution_count": 152,
     "metadata": {},
     "output_type": "execute_result"
    }
   ],
   "source": [
    "len(predict_area_agg_GP)"
   ]
  },
  {
   "cell_type": "code",
   "execution_count": 153,
   "metadata": {
    "ExecuteTime": {
     "end_time": "2019-07-18T14:24:31.126256Z",
     "start_time": "2019-07-18T14:24:31.119915Z"
    }
   },
   "outputs": [
    {
     "data": {
      "text/plain": [
       "(0.27014908153195627, 0.0027290092623489574)"
      ]
     },
     "execution_count": 153,
     "metadata": {},
     "output_type": "execute_result"
    }
   ],
   "source": [
    "pearsonr(predict_area_agg_GP.values(),gt_area_agg_GP.values())"
   ]
  },
  {
   "cell_type": "code",
   "execution_count": 154,
   "metadata": {
    "ExecuteTime": {
     "end_time": "2019-07-18T14:24:32.061293Z",
     "start_time": "2019-07-18T14:24:32.057127Z"
    }
   },
   "outputs": [],
   "source": [
    "common_keys = list(set(Area_values.keys()).intersection(gt_area_agg_GP.keys()))"
   ]
  },
  {
   "cell_type": "code",
   "execution_count": 155,
   "metadata": {
    "ExecuteTime": {
     "end_time": "2019-07-18T14:24:32.459463Z",
     "start_time": "2019-07-18T14:24:32.448358Z"
    }
   },
   "outputs": [],
   "source": [
    "featArray_GP = np.zeros((len(common_keys),4))\n",
    "\n",
    "for i in range(len(common_keys)):\n",
    "    key = common_keys[i]\n",
    "    featArray_GP[i,0] = gt_area_agg_GP[key]\n",
    "    featArray_GP[i,1] = predict_area_agg_GP[key]\n",
    "    featArray_GP[i,2] = np.log10(Area_values[key]['population'])\n",
    "    featArray_GP[i,3] = float(Area_values[key]['patients'])/float(Area_values[key]['population'])"
   ]
  },
  {
   "cell_type": "code",
   "execution_count": 156,
   "metadata": {
    "ExecuteTime": {
     "end_time": "2019-07-18T14:24:33.134793Z",
     "start_time": "2019-07-18T14:24:33.129312Z"
    }
   },
   "outputs": [
    {
     "data": {
      "text/plain": [
       "(121, 4)"
      ]
     },
     "execution_count": 156,
     "metadata": {},
     "output_type": "execute_result"
    }
   ],
   "source": [
    "featArray_GP.shape"
   ]
  },
  {
   "cell_type": "code",
   "execution_count": 157,
   "metadata": {
    "ExecuteTime": {
     "end_time": "2019-07-18T14:24:33.820817Z",
     "start_time": "2019-07-18T14:24:33.814454Z"
    }
   },
   "outputs": [
    {
     "data": {
      "text/plain": [
       "(0.27014908153195627, 0.0027290092623489574)"
      ]
     },
     "execution_count": 157,
     "metadata": {},
     "output_type": "execute_result"
    }
   ],
   "source": [
    "pearsonr(featArray_GP[:,0],featArray_GP[:,1])"
   ]
  },
  {
   "cell_type": "code",
   "execution_count": 158,
   "metadata": {
    "ExecuteTime": {
     "end_time": "2019-07-18T14:24:34.706742Z",
     "start_time": "2019-07-18T14:24:34.702335Z"
    }
   },
   "outputs": [],
   "source": [
    "normed_feats_GP = featArray_GP.copy()\n",
    "normed_feats_GP = preprocessing.normalize(featArray_GP)"
   ]
  },
  {
   "cell_type": "code",
   "execution_count": 159,
   "metadata": {
    "ExecuteTime": {
     "end_time": "2019-07-18T14:24:35.690437Z",
     "start_time": "2019-07-18T14:24:35.683967Z"
    }
   },
   "outputs": [
    {
     "data": {
      "text/plain": [
       "(0.27014908153195627, 0.0027290092623489574)"
      ]
     },
     "execution_count": 159,
     "metadata": {},
     "output_type": "execute_result"
    }
   ],
   "source": [
    "pearsonr(featArray_GP[:,0],featArray_GP[:,1])"
   ]
  },
  {
   "cell_type": "code",
   "execution_count": 160,
   "metadata": {
    "ExecuteTime": {
     "end_time": "2019-07-18T14:24:36.766874Z",
     "start_time": "2019-07-18T14:24:36.549101Z"
    }
   },
   "outputs": [
    {
     "data": {
      "text/plain": [
       "<matplotlib.axes._subplots.AxesSubplot at 0x7fd268e81150>"
      ]
     },
     "execution_count": 160,
     "metadata": {},
     "output_type": "execute_result"
    },
    {
     "data": {
      "image/png": "[encoded data removed]",
      "text/plain": [
       "<matplotlib.figure.Figure at 0x7fd2693a9710>"
      ]
     },
     "metadata": {},
     "output_type": "display_data"
    }
   ],
   "source": [
    "sns.distplot(normed_feats_GP[:,0],bins=20)"
   ]
  },
  {
   "cell_type": "code",
   "execution_count": 161,
   "metadata": {
    "ExecuteTime": {
     "end_time": "2019-07-18T14:24:37.699764Z",
     "start_time": "2019-07-18T14:24:37.693289Z"
    }
   },
   "outputs": [
    {
     "data": {
      "text/plain": [
       "(0.08666115702479339, 0.010167647378167095)"
      ]
     },
     "execution_count": 161,
     "metadata": {},
     "output_type": "execute_result"
    }
   ],
   "source": [
    "np.mean(featArray_GP[:,0]) , np.std(featArray_GP[:,0])"
   ]
  },
  {
   "cell_type": "code",
   "execution_count": 162,
   "metadata": {
    "ExecuteTime": {
     "end_time": "2019-07-18T14:24:39.184111Z",
     "start_time": "2019-07-18T14:24:39.177560Z"
    }
   },
   "outputs": [],
   "source": [
    "y = normed_feats_GP[:,0]\n",
    "x = normed_feats_GP[:,1:]\n",
    "mymodel = ols.ols(y,x,'GT',['Pred','logPop','patient_rate'])"
   ]
  },
  {
   "cell_type": "code",
   "execution_count": 166,
   "metadata": {
    "ExecuteTime": {
     "end_time": "2019-07-18T14:30:21.754720Z",
     "start_time": "2019-07-18T14:30:21.740396Z"
    },
    "scrolled": true
   },
   "outputs": [
    {
     "name": "stdout",
     "output_type": "stream",
     "text": [
      "\n",
      "==============================================================================\n",
      "Dependent Variable: GT\n",
      "Method: Least Squares\n",
      "Date:  Thu, 18 Jul 2019\n",
      "Time:  15:30:21\n",
      "# obs:                 121\n",
      "# variables:         4\n",
      "==============================================================================\n",
      "variable     coefficient     std. Error      t-statistic     prob.\n",
      "==============================================================================\n",
      "const           0.001120      0.004483      0.249742      0.803225\n",
      "Pred            0.145300      0.049267      2.949242      0.003848\n",
      "logPop           0.010407      0.004533      2.295603      0.023480\n",
      "patient_rate          -0.000071      0.002396     -0.029480      0.976532\n",
      "==============================================================================\n",
      "Models stats                         Residual stats\n",
      "==============================================================================\n",
      "R-squared             0.254015         Durbin-Watson stat   2.137374\n",
      "Adjusted R-squared    0.234887         Omnibus stat         2.594851\n",
      "F-statistic           13.279861         Prob(Omnibus stat)   0.273234\n",
      "Prob (F-statistic)    0.000000\t\t\tJB stat              2.614274\n",
      "Log likelihood        595.541432\t\t\tProb(JB)             0.270594\n",
      "AIC criterion        -9.777544         Skew                 0.342250\n",
      "BIC criterion        -9.685122         Kurtosis             2.776409\n",
      "==============================================================================\n"
     ]
    }
   ],
   "source": [
    "mymodel.summary()"
   ]
  },
  {
   "cell_type": "markdown",
   "metadata": {},
   "source": []
  },
  {
   "cell_type": "code",
   "execution_count": 87,
   "metadata": {
    "ExecuteTime": {
     "end_time": "2019-07-17T15:59:30.080667Z",
     "start_time": "2019-07-17T15:59:30.074630Z"
    }
   },
   "outputs": [
    {
     "data": {
      "text/plain": [
       "array([6.05240596e-01, 4.78559715e-03, 1.52017839e-06, 8.53325967e-02])"
      ]
     },
     "execution_count": 87,
     "metadata": {},
     "output_type": "execute_result"
    }
   ],
   "source": [
    "mymodel.p"
   ]
  },
  {
   "cell_type": "code",
   "execution_count": 164,
   "metadata": {
    "ExecuteTime": {
     "end_time": "2019-07-18T14:25:36.097212Z",
     "start_time": "2019-07-18T14:25:36.090653Z"
    }
   },
   "outputs": [
    {
     "data": {
      "text/plain": [
       "(0.27014908153195627, 0.0027290092623489574)"
      ]
     },
     "execution_count": 164,
     "metadata": {},
     "output_type": "execute_result"
    }
   ],
   "source": [
    "\n",
    "pearsonr(featArray_GP[:,0],featArray_GP[:,1])"
   ]
  },
  {
   "cell_type": "code",
   "execution_count": 165,
   "metadata": {
    "ExecuteTime": {
     "end_time": "2019-07-18T14:25:37.356289Z",
     "start_time": "2019-07-18T14:25:37.053211Z"
    }
   },
   "outputs": [
    {
     "data": {
      "text/plain": [
       "<matplotlib.text.Text at 0x7fd268892d50>"
      ]
     },
     "execution_count": 165,
     "metadata": {},
     "output_type": "execute_result"
    },
    {
     "data": {
      "image/png": "[encoded data removed]",
      "text/plain": [
       "<matplotlib.figure.Figure at 0x7fd268903e50>"
      ]
     },
     "metadata": {},
     "output_type": "display_data"
    }
   ],
   "source": [
    "sns.regplot(x=featArray_GP[:,0] , y = featArray_GP[:,1])\n",
    "ax = plt.gca()\n",
    "ax.set_title(\"Prescription Vs Quality assesment prevalence\")\n",
    "ax.set_xlabel(\"Estimated Depression cases\")\n",
    "ax.set_ylabel(\"Actual diabetes related prescriptions\")"
   ]
  },
  {
   "cell_type": "code",
   "execution_count": 44,
   "metadata": {
    "ExecuteTime": {
     "end_time": "2019-07-17T15:28:55.037072Z",
     "start_time": "2019-07-17T15:28:55.030681Z"
    },
    "collapsed": true
   },
   "outputs": [
    {
     "data": {
      "text/plain": [
       "array([[0.00927199, 0.03433237, 5.04042431, 1.34913216],\n",
       "       [0.01438116, 0.02884918, 4.95590412, 1.09448226],\n",
       "       [0.00675676, 0.03521728, 5.16382305, 0.23514285],\n",
       "       ...,\n",
       "       [0.        , 0.        , 0.        , 0.        ],\n",
       "       [0.        , 0.        , 0.        , 0.        ],\n",
       "       [0.        , 0.        , 0.        , 0.        ]])"
      ]
     },
     "execution_count": 44,
     "metadata": {},
     "output_type": "execute_result"
    }
   ],
   "source": [
    "featArray_GP"
   ]
  },
  {
   "cell_type": "code",
   "execution_count": null,
   "metadata": {},
   "outputs": [],
   "source": [
    "pdp = pd.read_csv('../BL_Work/openPrescribe/',compression='gzip')"
   ]
  }
 ],
 "metadata": {
  "kernelspec": {
   "display_name": "Python 2",
   "language": "python",
   "name": "python2"
  },
  "language_info": {
   "codemirror_mode": {
    "name": "ipython",
    "version": 2
   },
   "file_extension": ".py",
   "mimetype": "text/x-python",
   "name": "python",
   "nbconvert_exporter": "python",
   "pygments_lexer": "ipython2",
   "version": "2.7.12"
  }
 },
 "nbformat": 4,
 "nbformat_minor": 2
}
